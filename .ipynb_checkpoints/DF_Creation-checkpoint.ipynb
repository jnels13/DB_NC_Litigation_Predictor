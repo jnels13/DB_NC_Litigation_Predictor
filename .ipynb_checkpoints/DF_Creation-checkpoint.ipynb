{
 "cells": [
  {
   "cell_type": "markdown",
   "metadata": {},
   "source": [
    "# Notebook will create the dataframe "
   ]
  },
  {
   "cell_type": "code",
   "execution_count": 49,
   "metadata": {},
   "outputs": [],
   "source": [
    "from os import listdir\n",
    "from pdfminer3.layout import LAParams, LTTextBox\n",
    "from pdfminer3.pdfpage import PDFPage\n",
    "from pdfminer3.pdfinterp import PDFResourceManager\n",
    "from pdfminer3.pdfinterp import PDFPageInterpreter\n",
    "from pdfminer3.converter import PDFPageAggregator\n",
    "from pdfminer3.converter import TextConverter\n",
    "import io\n",
    "import pandas as pd\n",
    "import pickle"
   ]
  },
  {
   "cell_type": "code",
   "execution_count": 5,
   "metadata": {},
   "outputs": [],
   "source": [
    "list_of_pdfs = listdir(\"Scraped_PDFs/\")"
   ]
  },
  {
   "cell_type": "code",
   "execution_count": 12,
   "metadata": {},
   "outputs": [],
   "source": [
    "length = len(list_of_pdfs)"
   ]
  },
  {
   "cell_type": "code",
   "execution_count": 26,
   "metadata": {},
   "outputs": [],
   "source": [
    "# Code from Stack Overflow to use PDFminer to import PDF to text reworked into a function\n",
    "\n",
    "\n",
    "def pdf2txt(path):\n",
    "    \"\"\"\n",
    "    A function to convert a PDF to a string, \n",
    "    takes the file path to the PDF as the \n",
    "    argument and returns the PDF as a string.\n",
    "    \"\"\"\n",
    "    resource_manager = PDFResourceManager()\n",
    "    fake_file_handle = io.StringIO()\n",
    "    converter = TextConverter(resource_manager, fake_file_handle, laparams=LAParams())\n",
    "    page_interpreter = PDFPageInterpreter(resource_manager, converter)\n",
    "    \n",
    "    with open(path, 'rb') as fh:\n",
    "\n",
    "        for page in PDFPage.get_pages(fh,\n",
    "                                      caching=True,\n",
    "                                      check_extractable=True):\n",
    "            page_interpreter.process_page(page)\n",
    "\n",
    "        text = fake_file_handle.getvalue()\n",
    "\n",
    "    # close open handles\n",
    "    converter.close()\n",
    "    fake_file_handle.close()\n",
    "    \n",
    "    return(text)"
   ]
  },
  {
   "cell_type": "code",
   "execution_count": 27,
   "metadata": {},
   "outputs": [],
   "source": [
    "path = 'SampleData/SamplePDF.pdf'\n",
    "text = pdf2txt(path)"
   ]
  },
  {
   "cell_type": "code",
   "execution_count": 28,
   "metadata": {},
   "outputs": [
    {
     "data": {
      "text/plain": [
       "str"
      ]
     },
     "execution_count": 28,
     "metadata": {},
     "output_type": "execute_result"
    }
   ],
   "source": [
    "text  #WORKS!!\n",
    "type(text)"
   ]
  },
  {
   "cell_type": "markdown",
   "metadata": {},
   "source": [
    "#### Run the above function, adding each PDF to the DataFrame"
   ]
  },
  {
   "cell_type": "code",
   "execution_count": 29,
   "metadata": {},
   "outputs": [],
   "source": [
    "# Run the function, adding each one to a DF\n",
    "df = pd.DataFrame(columns = [\"Opinion\"])"
   ]
  },
  {
   "cell_type": "code",
   "execution_count": 43,
   "metadata": {},
   "outputs": [],
   "source": [
    "error_list=[]\n",
    "\n",
    "def make_df(directory):\n",
    "    \n",
    "    global error_list\n",
    "    \n",
    "    for count, filename in enumerate(listdir(directory)):\n",
    "\n",
    "        if filename.endswith(\".pdf\"):\n",
    "            try: \n",
    "                df.loc[count] = pdf2txt(directory+'/'+filename)\n",
    "            except:\n",
    "                error_list.append(filename)\n",
    "                \n",
    "        else:\n",
    "            continue\n",
    "            "
   ]
  },
  {
   "cell_type": "code",
   "execution_count": 44,
   "metadata": {},
   "outputs": [
    {
     "name": "stdout",
     "output_type": "stream",
     "text": [
      "CPU times: user 4h 16min 50s, sys: 55.1 s, total: 4h 17min 45s\n",
      "Wall time: 4h 19min 30s\n"
     ]
    }
   ],
   "source": [
    "%%time\n",
    "make_df(\"Scraped_PDFs\")"
   ]
  },
  {
   "cell_type": "code",
   "execution_count": 45,
   "metadata": {},
   "outputs": [
    {
     "data": {
      "text/html": [
       "<div>\n",
       "<style scoped>\n",
       "    .dataframe tbody tr th:only-of-type {\n",
       "        vertical-align: middle;\n",
       "    }\n",
       "\n",
       "    .dataframe tbody tr th {\n",
       "        vertical-align: top;\n",
       "    }\n",
       "\n",
       "    .dataframe thead th {\n",
       "        text-align: right;\n",
       "    }\n",
       "</style>\n",
       "<table border=\"1\" class=\"dataframe\">\n",
       "  <thead>\n",
       "    <tr style=\"text-align: right;\">\n",
       "      <th></th>\n",
       "      <th>Opinion</th>\n",
       "    </tr>\n",
       "  </thead>\n",
       "  <tbody>\n",
       "    <tr>\n",
       "      <td>0</td>\n",
       "      <td>\\n\\nAn  unpublished  opinion  of  the  North ...</td>\n",
       "    </tr>\n",
       "    <tr>\n",
       "      <td>2</td>\n",
       "      <td>An  unpublished  opinion  of  the  North  Caro...</td>\n",
       "    </tr>\n",
       "    <tr>\n",
       "      <td>3</td>\n",
       "      <td>An  unpublished  opinion  of  the  North  Caro...</td>\n",
       "    </tr>\n",
       "    <tr>\n",
       "      <td>4</td>\n",
       "      <td>NO. COA11-246 \\n\\nNORTH CAROLINA COURT OF APPE...</td>\n",
       "    </tr>\n",
       "    <tr>\n",
       "      <td>1</td>\n",
       "      <td>An  unpublished  opinion  of  the  North  Caro...</td>\n",
       "    </tr>\n",
       "    <tr>\n",
       "      <td>...</td>\n",
       "      <td>...</td>\n",
       "    </tr>\n",
       "    <tr>\n",
       "      <td>28842</td>\n",
       "      <td>AMY TERASAKA, Employee v. AT&amp;T, Employer, SELF...</td>\n",
       "    </tr>\n",
       "    <tr>\n",
       "      <td>28843</td>\n",
       "      <td>An  unpublished  opinion  of  the  North  Caro...</td>\n",
       "    </tr>\n",
       "    <tr>\n",
       "      <td>28844</td>\n",
       "      <td>An  unpublished  opinion  of  the  North  Caro...</td>\n",
       "    </tr>\n",
       "    <tr>\n",
       "      <td>28845</td>\n",
       "      <td>NO. COA01-932\\n\\nNORTH CAROLINA COURT OF APPEA...</td>\n",
       "    </tr>\n",
       "    <tr>\n",
       "      <td>28846</td>\n",
       "      <td>An unpublished opinion of the North Carolina C...</td>\n",
       "    </tr>\n",
       "  </tbody>\n",
       "</table>\n",
       "<p>28772 rows × 1 columns</p>\n",
       "</div>"
      ],
      "text/plain": [
       "                                                 Opinion\n",
       "0       \\n\\nAn  unpublished  opinion  of  the  North ...\n",
       "2      An  unpublished  opinion  of  the  North  Caro...\n",
       "3      An  unpublished  opinion  of  the  North  Caro...\n",
       "4      NO. COA11-246 \\n\\nNORTH CAROLINA COURT OF APPE...\n",
       "1      An  unpublished  opinion  of  the  North  Caro...\n",
       "...                                                  ...\n",
       "28842  AMY TERASAKA, Employee v. AT&T, Employer, SELF...\n",
       "28843  An  unpublished  opinion  of  the  North  Caro...\n",
       "28844  An  unpublished  opinion  of  the  North  Caro...\n",
       "28845  NO. COA01-932\\n\\nNORTH CAROLINA COURT OF APPEA...\n",
       "28846  An unpublished opinion of the North Carolina C...\n",
       "\n",
       "[28772 rows x 1 columns]"
      ]
     },
     "execution_count": 45,
     "metadata": {},
     "output_type": "execute_result"
    }
   ],
   "source": [
    "df"
   ]
  },
  {
   "cell_type": "code",
   "execution_count": 46,
   "metadata": {},
   "outputs": [
    {
     "data": {
      "text/plain": [
       "['08154.pdf',\n",
       " '02900.pdf',\n",
       " '07110.pdf',\n",
       " '03014.pdf',\n",
       " '05705.pdf',\n",
       " '03567.pdf',\n",
       " '08813.pdf',\n",
       " '02494.pdf',\n",
       " '38907.pdf',\n",
       " '29822.pdf',\n",
       " '02641.pdf',\n",
       " '03577.pdf',\n",
       " '35166.pdf',\n",
       " '34287.pdf',\n",
       " '03402.pdf',\n",
       " '34286.pdf',\n",
       " '02913.pdf',\n",
       " '03204.pdf',\n",
       " '05477.pdf',\n",
       " '34285.pdf',\n",
       " '03398.pdf',\n",
       " '06481.pdf',\n",
       " '03499.pdf',\n",
       " '36191.pdf',\n",
       " '03103.pdf',\n",
       " '02631.pdf',\n",
       " '06682.pdf',\n",
       " '05389.pdf',\n",
       " '03288.pdf',\n",
       " '08040.pdf',\n",
       " '03666.pdf',\n",
       " '03528.pdf',\n",
       " '32481.pdf',\n",
       " '03678.pdf',\n",
       " '23755.pdf',\n",
       " '27453.pdf',\n",
       " '03083.pdf',\n",
       " '03040.pdf',\n",
       " '03732.pdf',\n",
       " '03492.pdf',\n",
       " '05418.pdf',\n",
       " '39483.pdf',\n",
       " '07223.pdf',\n",
       " '03496.pdf',\n",
       " '02950.pdf',\n",
       " '03469.pdf',\n",
       " '03332.pdf',\n",
       " '03640.pdf',\n",
       " '08073.pdf',\n",
       " '03494.pdf',\n",
       " '06831.pdf',\n",
       " '03154.pdf',\n",
       " '03419.pdf',\n",
       " '03545.pdf',\n",
       " '39381.pdf',\n",
       " '03745.pdf',\n",
       " '03209.pdf',\n",
       " '03180.pdf',\n",
       " '31286.pdf',\n",
       " '02894.pdf',\n",
       " '02853.pdf',\n",
       " '08774.pdf',\n",
       " '03345.pdf',\n",
       " '08158.pdf',\n",
       " '03233.pdf',\n",
       " '03623.pdf',\n",
       " '03637.pdf',\n",
       " '03636.pdf',\n",
       " '03193.pdf',\n",
       " '03385.pdf',\n",
       " '31525.pdf',\n",
       " '03756.pdf',\n",
       " '31733.pdf']"
      ]
     },
     "execution_count": 46,
     "metadata": {},
     "output_type": "execute_result"
    }
   ],
   "source": [
    "error_list"
   ]
  },
  {
   "cell_type": "code",
   "execution_count": 51,
   "metadata": {},
   "outputs": [],
   "source": [
    "# Save the new DF to a data file\n",
    "with open('master_df.data', 'wb') as filehandle:\n",
    "    # store the data as binary data stream\n",
    "    pickle.dump(df, filehandle)"
   ]
  },
  {
   "cell_type": "code",
   "execution_count": 52,
   "metadata": {},
   "outputs": [],
   "source": [
    "# Save the error file to a data file\n",
    "with open('error_list.data', 'wb') as filehandle:\n",
    "    # store the data as binary data stream\n",
    "    pickle.dump(error_list, filehandle)"
   ]
  },
  {
   "cell_type": "code",
   "execution_count": null,
   "metadata": {},
   "outputs": [],
   "source": [
    "# Create new DF that only has \"summary judgment\" or \"Summary Judgment\""
   ]
  }
 ],
 "metadata": {
  "kernelspec": {
   "display_name": "Python 3",
   "language": "python",
   "name": "python3"
  },
  "language_info": {
   "codemirror_mode": {
    "name": "ipython",
    "version": 3
   },
   "file_extension": ".py",
   "mimetype": "text/x-python",
   "name": "python",
   "nbconvert_exporter": "python",
   "pygments_lexer": "ipython3",
   "version": "3.6.9"
  }
 },
 "nbformat": 4,
 "nbformat_minor": 2
}
