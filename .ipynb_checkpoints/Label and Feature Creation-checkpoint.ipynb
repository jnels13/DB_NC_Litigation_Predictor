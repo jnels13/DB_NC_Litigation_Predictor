{
 "cells": [
  {
   "cell_type": "markdown",
   "metadata": {},
   "source": [
    "# Label and Feature Creation\n",
    "\n",
    "In this notebook, I will import the single-column dataframe of appellate opinions and create columns with labels and features. "
   ]
  },
  {
   "cell_type": "code",
   "execution_count": 98,
   "metadata": {},
   "outputs": [],
   "source": [
    "import io\n",
    "import re\n",
    "import pandas as pd\n",
    "import pickle\n",
    "import operator"
   ]
  },
  {
   "cell_type": "code",
   "execution_count": 99,
   "metadata": {},
   "outputs": [],
   "source": [
    "# Open the dataframe\n",
    "infile = open('ProjectData/df_clean.data', 'rb')\n",
    "df = pickle.load(infile)\n",
    "infile.close()"
   ]
  },
  {
   "cell_type": "code",
   "execution_count": 100,
   "metadata": {},
   "outputs": [],
   "source": [
    "df.reset_index(inplace=True, drop=True)"
   ]
  },
  {
   "cell_type": "code",
   "execution_count": 101,
   "metadata": {},
   "outputs": [
    {
     "name": "stdout",
     "output_type": "stream",
     "text": [
      "<class 'pandas.core.frame.DataFrame'>\n",
      "RangeIndex: 3922 entries, 0 to 3921\n",
      "Data columns (total 1 columns):\n",
      "Opinion    3922 non-null object\n",
      "dtypes: object(1)\n",
      "memory usage: 30.8+ KB\n"
     ]
    },
    {
     "data": {
      "text/plain": [
       "(None,                                              Opinion\n",
       " 0   an unpublished opinion of the north carolina ...\n",
       " 1  no. coa11-246 north carolina court of appeals ...\n",
       " 2  no. coa08-347 north carolina court of appeals ...\n",
       " 3  michael harrison gregory and wife, vivian greg...\n",
       " 4  atlantic contracting and material company, inc...)"
      ]
     },
     "execution_count": 101,
     "metadata": {},
     "output_type": "execute_result"
    }
   ],
   "source": [
    "df.info(), df.head()"
   ]
  },
  {
   "cell_type": "markdown",
   "metadata": {},
   "source": [
    "### 1. Creating a New Column for the File Numbers\n",
    "This is more experimental than functional."
   ]
  },
  {
   "cell_type": "code",
   "execution_count": 102,
   "metadata": {},
   "outputs": [],
   "source": [
    "# capture file number into new column\n",
    "def coa(string_):\n",
    "    try:\n",
    "        pat_coa_number = re.search(\"no.? ?coa.? ?(\\d{2}-\\d{1,5})\",string_)\n",
    "        return pat_coa_number.group(1)\n",
    "    except:\n",
    "        return('00-000')"
   ]
  },
  {
   "cell_type": "code",
   "execution_count": 103,
   "metadata": {},
   "outputs": [
    {
     "data": {
      "text/plain": [
       "'20-112'"
      ]
     },
     "execution_count": 103,
     "metadata": {},
     "output_type": "execute_result"
    }
   ],
   "source": [
    "coa(df.Opinion[3921])"
   ]
  },
  {
   "cell_type": "code",
   "execution_count": 104,
   "metadata": {},
   "outputs": [],
   "source": [
    "coa_numbers = []\n",
    "for i in range(len(df.Opinion)):\n",
    "    x = coa(df.Opinion[i])\n",
    "    coa_numbers.append(x)"
   ]
  },
  {
   "cell_type": "code",
   "execution_count": 105,
   "metadata": {},
   "outputs": [],
   "source": [
    "placeholder=pd.Series(coa_numbers)\n",
    "df[\"File_Numbers\"] = placeholder.values"
   ]
  },
  {
   "cell_type": "code",
   "execution_count": 106,
   "metadata": {},
   "outputs": [
    {
     "data": {
      "text/html": [
       "<div>\n",
       "<style scoped>\n",
       "    .dataframe tbody tr th:only-of-type {\n",
       "        vertical-align: middle;\n",
       "    }\n",
       "\n",
       "    .dataframe tbody tr th {\n",
       "        vertical-align: top;\n",
       "    }\n",
       "\n",
       "    .dataframe thead th {\n",
       "        text-align: right;\n",
       "    }\n",
       "</style>\n",
       "<table border=\"1\" class=\"dataframe\">\n",
       "  <thead>\n",
       "    <tr style=\"text-align: right;\">\n",
       "      <th></th>\n",
       "      <th>Opinion</th>\n",
       "      <th>File_Numbers</th>\n",
       "    </tr>\n",
       "  </thead>\n",
       "  <tbody>\n",
       "    <tr>\n",
       "      <td>0</td>\n",
       "      <td>an unpublished opinion of the north carolina ...</td>\n",
       "      <td>19-563</td>\n",
       "    </tr>\n",
       "    <tr>\n",
       "      <td>1</td>\n",
       "      <td>no. coa11-246 north carolina court of appeals ...</td>\n",
       "      <td>11-246</td>\n",
       "    </tr>\n",
       "    <tr>\n",
       "      <td>2</td>\n",
       "      <td>no. coa08-347 north carolina court of appeals ...</td>\n",
       "      <td>08-347</td>\n",
       "    </tr>\n",
       "    <tr>\n",
       "      <td>3</td>\n",
       "      <td>michael harrison gregory and wife, vivian greg...</td>\n",
       "      <td>05-885</td>\n",
       "    </tr>\n",
       "    <tr>\n",
       "      <td>4</td>\n",
       "      <td>atlantic contracting and material company, inc...</td>\n",
       "      <td>02-1087</td>\n",
       "    </tr>\n",
       "    <tr>\n",
       "      <td>5</td>\n",
       "      <td>an unpublished opinion of the north carolina c...</td>\n",
       "      <td>13-222</td>\n",
       "    </tr>\n",
       "    <tr>\n",
       "      <td>6</td>\n",
       "      <td>in the court of appeals of north carolina no....</td>\n",
       "      <td>17-112</td>\n",
       "    </tr>\n",
       "    <tr>\n",
       "      <td>7</td>\n",
       "      <td>in the court of appeals of north carolina no....</td>\n",
       "      <td>15-862</td>\n",
       "    </tr>\n",
       "    <tr>\n",
       "      <td>8</td>\n",
       "      <td>no. coa11-1447 north carolina court of appeal...</td>\n",
       "      <td>11-1447</td>\n",
       "    </tr>\n",
       "    <tr>\n",
       "      <td>9</td>\n",
       "      <td>an unpublished opinion of the north carolina c...</td>\n",
       "      <td>13-248</td>\n",
       "    </tr>\n",
       "  </tbody>\n",
       "</table>\n",
       "</div>"
      ],
      "text/plain": [
       "                                             Opinion File_Numbers\n",
       "0   an unpublished opinion of the north carolina ...       19-563\n",
       "1  no. coa11-246 north carolina court of appeals ...       11-246\n",
       "2  no. coa08-347 north carolina court of appeals ...       08-347\n",
       "3  michael harrison gregory and wife, vivian greg...       05-885\n",
       "4  atlantic contracting and material company, inc...      02-1087\n",
       "5  an unpublished opinion of the north carolina c...       13-222\n",
       "6   in the court of appeals of north carolina no....       17-112\n",
       "7   in the court of appeals of north carolina no....       15-862\n",
       "8   no. coa11-1447 north carolina court of appeal...      11-1447\n",
       "9  an unpublished opinion of the north carolina c...       13-248"
      ]
     },
     "execution_count": 106,
     "metadata": {},
     "output_type": "execute_result"
    }
   ],
   "source": [
    "df.head(10)"
   ]
  },
  {
   "cell_type": "markdown",
   "metadata": {},
   "source": [
    "### 2. Creating the Labels (Affirmed, Reversed, etc.)\n",
    "The labels were created using the regex patterns below. Many iterations created the ultimate expression seen in the following function. Errors started at approximately 300; the model was tweaked to include more while maintaining reliability. Ultimately, XX of the \"error\" rows were dropped, because the cases were not beneficial to the model (i.e., they did not include a relevant summary judgment decision, the opinion on summary judgment was entwined with other components, etc.). "
   ]
  },
  {
   "cell_type": "code",
   "execution_count": 107,
   "metadata": {},
   "outputs": [],
   "source": [
    "# # During review of errors, drop rows wrongly included in the data set\n",
    "# drop_list = [201, 393, 755, 780, 822, 1100, 1139, 1541, 1597, 1716,1751,1907,2059, 2092]\n",
    "# df_clean.drop(drop_list, axis=0, inplace=True)\n",
    "# df = df_clean.reset_index(drop=True)\n",
    "# df.info()"
   ]
  },
  {
   "cell_type": "code",
   "execution_count": 108,
   "metadata": {},
   "outputs": [],
   "source": [
    "# capture file number into new column\n",
    "def labels(string_):\n",
    "    try:\n",
    "        try:\n",
    "            try:\n",
    "                try:  #this level has the highest confidence of getting an accurate label, based upon review of opinions (a single-word sentence)\n",
    "                    labels = re.search(\"\\.. ?(affirmed?)\\.|\\.?(reversed?)\\.|(affirmed in part)|\\.?(dismissed)\\.\",string_)\n",
    "                    x = labels.group(1)\n",
    "                    y = labels.group(2)\n",
    "                    z = labels.group(3)\n",
    "                    w = labels.group(4)\n",
    "                    not_none = [x,y,z]\n",
    "                    a = [i for i in not_none if i != None]\n",
    "                    return a[0]\n",
    "                except:  # slightly less confidence; looks for outcome word within 10 words of \"concur\", which frequently is at the end of a unanymous opinion\n",
    "                    labels = re.search(\"(?:concurs?\\W+(?:\\w+\\W+){0,40}?((affirmed in part)|reversed|affirmed|dismissed|no error|vacated)|((affirmed in part)|affirmed|reversed|dismissed|no error|vacated)\\W+(?:\\w+\\W+){0,40}?concurs?)\", string_)\n",
    "                    #print(\"Group 0:\", labels.group(0), \"\\nGroup 1:\", labels.group(1), \"\\nGroup 2:\", labels.group(2), \"\\nGroup 3:\", labels.group(3), \"\\nGroup 4:\", labels.group(4))\n",
    "                    x = labels.group(1)\n",
    "                    y = labels.group(2)\n",
    "                    z = labels.group(3)\n",
    "                    w = labels.group(4)\n",
    "                    not_none = [x,y,z,w]\n",
    "                    a = [i for i in not_none if i != None]\n",
    "                    #print(\"This is resulting list a:\", a)\n",
    "                    return a[0]\n",
    "            except: #slightly less confidence; if both of the previous methods fail, this clips the last 100 chars of the opinion for any of the outcome words\n",
    "                clip = string_[-150:]\n",
    "    #             print(clip)\n",
    "                labels2 = re.search(\"('affirmed in part'|reversed|affirmed|dismissed|'affirm in part'|affirm|reverse|dismiss|improvidently allowed)\",clip)\n",
    "                return labels2.group(0)\n",
    "        except: \n",
    "            labels = re.search(\"(?:reasons set forth?\\W+(?:\\w+\\W+){0,5}?((affirm in part)|reverse|affirm|dismiss|no error|vacated?)|((affirm in part)|affirm|reversed?|dismiss|no error|vacated?)\\W+(?:\\w+\\W+){0,10}?reasons set forth?)\", string_)\n",
    "            #print(\"Group 0:\", labels.group(0), \"\\nGroup 1:\", labels.group(1), \"\\nGroup 2:\", labels.group(2), \"\\nGroup 3:\", labels.group(3), \"\\nGroup 4:\", labels.group(4))\n",
    "            x = labels.group(1)\n",
    "            y = labels.group(2)\n",
    "            z = labels.group(3)\n",
    "            w = labels.group(4)\n",
    "            not_none = [x,y,z,w]\n",
    "            a = [i for i in not_none if i != None]\n",
    "            #print(\"This is resulting list a:\", a)\n",
    "            return a[0]\n",
    "    except:\n",
    "        return('error')"
   ]
  },
  {
   "cell_type": "code",
   "execution_count": 109,
   "metadata": {},
   "outputs": [
    {
     "data": {
      "text/plain": [
       "'affirmed'"
      ]
     },
     "execution_count": 109,
     "metadata": {},
     "output_type": "execute_result"
    }
   ],
   "source": [
    "# Test Cell \n",
    "labels(df.Opinion[2092])"
   ]
  },
  {
   "cell_type": "code",
   "execution_count": 110,
   "metadata": {},
   "outputs": [],
   "source": [
    "# Apply labels to the DataFrame\n",
    "labels_list = []\n",
    "for i in range(len(df.Opinion)):\n",
    "    x = labels(df.Opinion[i])\n",
    "    labels_list.append(x)\n",
    "    \n",
    "labels_series = pd.Series(labels_list)\n",
    "df[\"Result\"] = labels_series.values"
   ]
  },
  {
   "cell_type": "code",
   "execution_count": 111,
   "metadata": {},
   "outputs": [
    {
     "data": {
      "text/plain": [
       "affirmed                 2070\n",
       "reversed                  691\n",
       "affirmed in part          454\n",
       "dismissed                 392\n",
       "reverse                   122\n",
       "no error                   70\n",
       "vacated                    64\n",
       "error                      25\n",
       "affirm                     18\n",
       "improvidently allowed      14\n",
       "dismiss                     2\n",
       "Name: Result, dtype: int64"
      ]
     },
     "execution_count": 111,
     "metadata": {},
     "output_type": "execute_result"
    }
   ],
   "source": [
    "df.Result.value_counts()"
   ]
  },
  {
   "cell_type": "code",
   "execution_count": 112,
   "metadata": {},
   "outputs": [],
   "source": [
    "df['Result'].replace(['reverse','affirm', 'dismiss','no error', 'vacated', 'improvidently allowed'],\n",
    "                     ['reversed','affirmed','dismissed', 'affirmed', 'reversed', 'dismissed'], inplace=True)\n",
    "\n",
    "# The model will treat 'no error' as 'affirmed' and 'vacated' as 'reversed'"
   ]
  },
  {
   "cell_type": "code",
   "execution_count": 113,
   "metadata": {},
   "outputs": [
    {
     "data": {
      "text/plain": [
       "affirmed            2158\n",
       "reversed             877\n",
       "affirmed in part     454\n",
       "dismissed            408\n",
       "error                 25\n",
       "Name: Result, dtype: int64"
      ]
     },
     "execution_count": 113,
     "metadata": {},
     "output_type": "execute_result"
    }
   ],
   "source": [
    "df.Result.value_counts()"
   ]
  },
  {
   "cell_type": "markdown",
   "metadata": {},
   "source": [
    "# DROP ERRORS AND CHECK"
   ]
  },
  {
   "cell_type": "code",
   "execution_count": 114,
   "metadata": {},
   "outputs": [],
   "source": [
    "# Drop rows with 'error', 'dismissed', and 'affirmed in part'\n",
    "drop_list1 = df.loc[df['Result'] == 'error']\n",
    "drop_list2 = df.loc[df['Result'] == 'affirmed in part']\n",
    "drop_list3 = df.loc[df['Result'] == 'dismissed']"
   ]
  },
  {
   "cell_type": "code",
   "execution_count": 115,
   "metadata": {},
   "outputs": [],
   "source": [
    "drop_list = list(drop_list1.index) + list(drop_list2.index) + list(drop_list3.index)"
   ]
  },
  {
   "cell_type": "code",
   "execution_count": 116,
   "metadata": {},
   "outputs": [],
   "source": [
    "df.drop(drop_list, axis=0, inplace=True)\n",
    "df.reset_index(drop=True, inplace=True)"
   ]
  },
  {
   "cell_type": "code",
   "execution_count": 117,
   "metadata": {
    "scrolled": true
   },
   "outputs": [
    {
     "data": {
      "text/plain": [
       "affirmed    2158\n",
       "reversed     877\n",
       "Name: Result, dtype: int64"
      ]
     },
     "execution_count": 117,
     "metadata": {},
     "output_type": "execute_result"
    }
   ],
   "source": [
    "df.Result.value_counts()"
   ]
  },
  {
   "cell_type": "code",
   "execution_count": 118,
   "metadata": {},
   "outputs": [
    {
     "name": "stdout",
     "output_type": "stream",
     "text": [
      "<class 'pandas.core.frame.DataFrame'>\n",
      "RangeIndex: 3035 entries, 0 to 3034\n",
      "Data columns (total 3 columns):\n",
      "Opinion         3035 non-null object\n",
      "File_Numbers    3035 non-null object\n",
      "Result          3035 non-null object\n",
      "dtypes: object(3)\n",
      "memory usage: 71.3+ KB\n"
     ]
    }
   ],
   "source": [
    "df.info()"
   ]
  },
  {
   "cell_type": "markdown",
   "metadata": {},
   "source": [
    "### 3. Create Case-Type Feature By Sorting With Keywords\n",
    "\n",
    "I created a simple sorting function which takes a dictionary of case types with associated keywords, and then it generates a popularity count of the various keywords, returning the highest-ranking case type for a given opinion. "
   ]
  },
  {
   "cell_type": "code",
   "execution_count": 119,
   "metadata": {},
   "outputs": [],
   "source": [
    "case_type_dict = {'premises':['premises', 'attractive nuisance', 'dangerous condition', 'slip and fall',\n",
    "                            'defective condition', 'dog bite'], \n",
    "                  'car_crash':['collision', 'vehicle', 'motorist'], \n",
    "                  'med_mal':['medical malpractice','health care profession', 'same or similar community', \n",
    "                             'rule 9(j)', 'rule 702(b)'], \n",
    "                  'contract':['formation', 'recission', 'specific performance', 'incidental damages',\n",
    "                              'consequential damages', 'statute of frauds'], \n",
    "                  'family_law':['divorce', 'custody', 'maintenance', 'child support', 'separation agreement',\n",
    "                               'prenuptual', 'postnuptual'], \n",
    "                  'estates':['intestate', 'probate', 'revocable trust', 'irrevocable trust', 'testator',\n",
    "                             'holographic', 'residue'], \n",
    "                  'landlord_tenant':['lease', 'landlord', 'security deposit', ' rent ', 'chapter 42'], \n",
    "                  'construction':['building defect', 'water intrusion', 'construction defect'], \n",
    "                  'property':['easement', 'fee simple', 'tenants in common', 'joint tenants', 'nuisance', \n",
    "                             'eminent domain', 'escheat', 'replevin', 'zoning', 'mortgage', 'foreclosure'], \n",
    "                  'unfair_deceptive':['unfair and deceptive', 'chapter 75'],\n",
    "                  'defamation':['libel', 'slander', 'defamatory', 'defamation'],\n",
    "                  'governmental':['sovereign immunity', 'official capacity'],\n",
    "                  'discrimination':['wrongful discharge', 'discrimination', 'retaliation', 'retaliatory',\n",
    "                                    'retaliatory employment discrimination act', 'discriminatory'],\n",
    "                  'wrongful_death':['wrongful death']}\n",
    "\n",
    "# 'dram_shop':['dram shop'] -- removed, only 2 that were not superseded by \"car crash\""
   ]
  },
  {
   "cell_type": "code",
   "execution_count": 120,
   "metadata": {},
   "outputs": [],
   "source": [
    "def case_type_sorter(dict_of_keywords, string):\n",
    "    \"\"\" \n",
    "    This function takes a dictionary of case types and associated \n",
    "    keywords, assigns points for the frequency of the keywords\n",
    "    of a given case type, and returns the case type with the highest\n",
    "    number of points.  The dict_of_keywords should be a dictionary\n",
    "    of case-type keys and keyword values; the string should be a \n",
    "    single string.\n",
    "    \"\"\"\n",
    "    counter_dict = {}\n",
    "\n",
    "    # Iterate through dictionary, counting frequency of each keyword in the string/Opinion\n",
    "    for key, values in dict_of_keywords.items():\n",
    "        counter_dict[key] = 0\n",
    "        for value in values:\n",
    "            count = string.count(value)\n",
    "            existing_count = counter_dict[key]\n",
    "            counter_dict[key] = count + existing_count\n",
    "    \n",
    "    # Get total points for all keywords\n",
    "    values = counter_dict.values()\n",
    "    total_count = sum(values)\n",
    "    \n",
    "    likely_case_type = max(counter_dict.items(), key=operator.itemgetter(1))[0]\n",
    "    try:\n",
    "        confidence = str(round((counter_dict[likely_case_type]/total_count)*100,2))+'%'\n",
    "    except:\n",
    "        confidence = 'n/a'\n",
    "    \n",
    "    return likely_case_type, confidence\n"
   ]
  },
  {
   "cell_type": "code",
   "execution_count": 141,
   "metadata": {},
   "outputs": [
    {
     "data": {
      "text/plain": [
       "('car_crash', '76.79%')"
      ]
     },
     "execution_count": 141,
     "metadata": {},
     "output_type": "execute_result"
    }
   ],
   "source": [
    "case_type_sorter(case_type_dict, df.Opinion[2032])\n",
    "# 1276 - Dram shop\n",
    "# 1407 - Dram shop\n",
    "# 1576 - Car crash 89%\n",
    "# 1605 - Car crash 36%\n",
    "# 1763 - Car crash 63%\n",
    "# 2032 - Car crash 76%"
   ]
  },
  {
   "cell_type": "code",
   "execution_count": 122,
   "metadata": {},
   "outputs": [],
   "source": [
    "# Apply case_type and confidence level to DataFrame\n",
    "\n",
    "case_type_list = []\n",
    "case_type_confidence = []\n",
    "for i in range(len(df.Opinion)):\n",
    "    y,z = case_type_sorter(case_type_dict, df.Opinion[i])\n",
    "    case_type_list.append(y)\n",
    "    case_type_confidence.append(z)\n",
    "\n",
    "case_type_series = pd.Series(case_type_list)\n",
    "case_confidence_series = pd.Series(case_type_confidence)\n",
    "df[\"Case_Type\"] = case_type_series.values\n",
    "df[\"Case_Type_Confidence\"] = case_confidence_series.values"
   ]
  },
  {
   "cell_type": "code",
   "execution_count": 123,
   "metadata": {},
   "outputs": [
    {
     "data": {
      "text/html": [
       "<div>\n",
       "<style scoped>\n",
       "    .dataframe tbody tr th:only-of-type {\n",
       "        vertical-align: middle;\n",
       "    }\n",
       "\n",
       "    .dataframe tbody tr th {\n",
       "        vertical-align: top;\n",
       "    }\n",
       "\n",
       "    .dataframe thead th {\n",
       "        text-align: right;\n",
       "    }\n",
       "</style>\n",
       "<table border=\"1\" class=\"dataframe\">\n",
       "  <thead>\n",
       "    <tr style=\"text-align: right;\">\n",
       "      <th></th>\n",
       "      <th>Opinion</th>\n",
       "      <th>File_Numbers</th>\n",
       "      <th>Result</th>\n",
       "      <th>Case_Type</th>\n",
       "      <th>Case_Type_Confidence</th>\n",
       "    </tr>\n",
       "  </thead>\n",
       "  <tbody>\n",
       "    <tr>\n",
       "      <td>1752</td>\n",
       "      <td>no. coa11-1537 north carolina court of appeal...</td>\n",
       "      <td>11-1537</td>\n",
       "      <td>affirmed</td>\n",
       "      <td>estates</td>\n",
       "      <td>100.0%</td>\n",
       "    </tr>\n",
       "    <tr>\n",
       "      <td>36</td>\n",
       "      <td>an unpublished opinion of the north carolina c...</td>\n",
       "      <td>10-257</td>\n",
       "      <td>affirmed</td>\n",
       "      <td>unfair_deceptive</td>\n",
       "      <td>45.45%</td>\n",
       "    </tr>\n",
       "    <tr>\n",
       "      <td>2637</td>\n",
       "      <td>an unpublished opinion of the north carolina ...</td>\n",
       "      <td>17-1267</td>\n",
       "      <td>affirmed</td>\n",
       "      <td>contract</td>\n",
       "      <td>100.0%</td>\n",
       "    </tr>\n",
       "    <tr>\n",
       "      <td>1839</td>\n",
       "      <td>no. coa02-188 north carolina court of appeals ...</td>\n",
       "      <td>02-188</td>\n",
       "      <td>affirmed</td>\n",
       "      <td>unfair_deceptive</td>\n",
       "      <td>100.0%</td>\n",
       "    </tr>\n",
       "    <tr>\n",
       "      <td>520</td>\n",
       "      <td>carl d. buckland, sr., and northfield developm...</td>\n",
       "      <td>99-1347</td>\n",
       "      <td>reversed</td>\n",
       "      <td>family_law</td>\n",
       "      <td>75.0%</td>\n",
       "    </tr>\n",
       "    <tr>\n",
       "      <td>2138</td>\n",
       "      <td>in the supreme court of north carolina no. 365...</td>\n",
       "      <td>00-000</td>\n",
       "      <td>reversed</td>\n",
       "      <td>premises</td>\n",
       "      <td>n/a</td>\n",
       "    </tr>\n",
       "    <tr>\n",
       "      <td>2431</td>\n",
       "      <td>george c. jones, jr., petitioner, v. robert j....</td>\n",
       "      <td>98-1023</td>\n",
       "      <td>reversed</td>\n",
       "      <td>property</td>\n",
       "      <td>100.0%</td>\n",
       "    </tr>\n",
       "    <tr>\n",
       "      <td>2735</td>\n",
       "      <td>no. coa12-160 north carolina court of appeals ...</td>\n",
       "      <td>12-160</td>\n",
       "      <td>affirmed</td>\n",
       "      <td>car_crash</td>\n",
       "      <td>96.77%</td>\n",
       "    </tr>\n",
       "    <tr>\n",
       "      <td>1415</td>\n",
       "      <td>an unpublished opinion of the north carolina ...</td>\n",
       "      <td>17-870</td>\n",
       "      <td>affirmed</td>\n",
       "      <td>landlord_tenant</td>\n",
       "      <td>83.33%</td>\n",
       "    </tr>\n",
       "    <tr>\n",
       "      <td>278</td>\n",
       "      <td>an unpublished opinion of the north carolina c...</td>\n",
       "      <td>09-1119</td>\n",
       "      <td>affirmed</td>\n",
       "      <td>contract</td>\n",
       "      <td>60.0%</td>\n",
       "    </tr>\n",
       "    <tr>\n",
       "      <td>2733</td>\n",
       "      <td>no. coa12-767 north carolina court of appeals ...</td>\n",
       "      <td>12-767</td>\n",
       "      <td>reversed</td>\n",
       "      <td>contract</td>\n",
       "      <td>50.0%</td>\n",
       "    </tr>\n",
       "    <tr>\n",
       "      <td>2187</td>\n",
       "      <td>william l. collins, jr.; barbara c. rooks; and...</td>\n",
       "      <td>04-1282</td>\n",
       "      <td>reversed</td>\n",
       "      <td>estates</td>\n",
       "      <td>75.0%</td>\n",
       "    </tr>\n",
       "    <tr>\n",
       "      <td>170</td>\n",
       "      <td>in the supreme court of north carolina no. 175...</td>\n",
       "      <td>00-000</td>\n",
       "      <td>affirmed</td>\n",
       "      <td>premises</td>\n",
       "      <td>n/a</td>\n",
       "    </tr>\n",
       "    <tr>\n",
       "      <td>2220</td>\n",
       "      <td>an unpublished opinion of the north carolina c...</td>\n",
       "      <td>06-512</td>\n",
       "      <td>affirmed</td>\n",
       "      <td>landlord_tenant</td>\n",
       "      <td>83.33%</td>\n",
       "    </tr>\n",
       "    <tr>\n",
       "      <td>1976</td>\n",
       "      <td>an unpublished opinion of the north carolina c...</td>\n",
       "      <td>02-160</td>\n",
       "      <td>affirmed</td>\n",
       "      <td>contract</td>\n",
       "      <td>100.0%</td>\n",
       "    </tr>\n",
       "    <tr>\n",
       "      <td>2809</td>\n",
       "      <td>an unpublished opinion of the north carolina c...</td>\n",
       "      <td>12-1279</td>\n",
       "      <td>reversed</td>\n",
       "      <td>discrimination</td>\n",
       "      <td>66.67%</td>\n",
       "    </tr>\n",
       "    <tr>\n",
       "      <td>555</td>\n",
       "      <td>an unpublished opinion of the north carolina c...</td>\n",
       "      <td>06-409</td>\n",
       "      <td>affirmed</td>\n",
       "      <td>contract</td>\n",
       "      <td>55.56%</td>\n",
       "    </tr>\n",
       "    <tr>\n",
       "      <td>1938</td>\n",
       "      <td>norwood fennell and annie fennell, administrat...</td>\n",
       "      <td>00-824</td>\n",
       "      <td>affirmed</td>\n",
       "      <td>car_crash</td>\n",
       "      <td>76.92%</td>\n",
       "    </tr>\n",
       "    <tr>\n",
       "      <td>355</td>\n",
       "      <td>an unpublished opinion of the north carolina c...</td>\n",
       "      <td>14-1171</td>\n",
       "      <td>affirmed</td>\n",
       "      <td>landlord_tenant</td>\n",
       "      <td>100.0%</td>\n",
       "    </tr>\n",
       "    <tr>\n",
       "      <td>1850</td>\n",
       "      <td>bruning &amp; federle mfg. co., plaintiff, v. rick...</td>\n",
       "      <td>06-1047</td>\n",
       "      <td>affirmed</td>\n",
       "      <td>unfair_deceptive</td>\n",
       "      <td>100.0%</td>\n",
       "    </tr>\n",
       "  </tbody>\n",
       "</table>\n",
       "</div>"
      ],
      "text/plain": [
       "                                                Opinion File_Numbers  \\\n",
       "1752   no. coa11-1537 north carolina court of appeal...      11-1537   \n",
       "36    an unpublished opinion of the north carolina c...       10-257   \n",
       "2637   an unpublished opinion of the north carolina ...      17-1267   \n",
       "1839  no. coa02-188 north carolina court of appeals ...       02-188   \n",
       "520   carl d. buckland, sr., and northfield developm...      99-1347   \n",
       "2138  in the supreme court of north carolina no. 365...       00-000   \n",
       "2431  george c. jones, jr., petitioner, v. robert j....      98-1023   \n",
       "2735  no. coa12-160 north carolina court of appeals ...       12-160   \n",
       "1415   an unpublished opinion of the north carolina ...       17-870   \n",
       "278   an unpublished opinion of the north carolina c...      09-1119   \n",
       "2733  no. coa12-767 north carolina court of appeals ...       12-767   \n",
       "2187  william l. collins, jr.; barbara c. rooks; and...      04-1282   \n",
       "170   in the supreme court of north carolina no. 175...       00-000   \n",
       "2220  an unpublished opinion of the north carolina c...       06-512   \n",
       "1976  an unpublished opinion of the north carolina c...       02-160   \n",
       "2809  an unpublished opinion of the north carolina c...      12-1279   \n",
       "555   an unpublished opinion of the north carolina c...       06-409   \n",
       "1938  norwood fennell and annie fennell, administrat...       00-824   \n",
       "355   an unpublished opinion of the north carolina c...      14-1171   \n",
       "1850  bruning & federle mfg. co., plaintiff, v. rick...      06-1047   \n",
       "\n",
       "        Result         Case_Type Case_Type_Confidence  \n",
       "1752  affirmed           estates               100.0%  \n",
       "36    affirmed  unfair_deceptive               45.45%  \n",
       "2637  affirmed          contract               100.0%  \n",
       "1839  affirmed  unfair_deceptive               100.0%  \n",
       "520   reversed        family_law                75.0%  \n",
       "2138  reversed          premises                  n/a  \n",
       "2431  reversed          property               100.0%  \n",
       "2735  affirmed         car_crash               96.77%  \n",
       "1415  affirmed   landlord_tenant               83.33%  \n",
       "278   affirmed          contract                60.0%  \n",
       "2733  reversed          contract                50.0%  \n",
       "2187  reversed           estates                75.0%  \n",
       "170   affirmed          premises                  n/a  \n",
       "2220  affirmed   landlord_tenant               83.33%  \n",
       "1976  affirmed          contract               100.0%  \n",
       "2809  reversed    discrimination               66.67%  \n",
       "555   affirmed          contract               55.56%  \n",
       "1938  affirmed         car_crash               76.92%  \n",
       "355   affirmed   landlord_tenant               100.0%  \n",
       "1850  affirmed  unfair_deceptive               100.0%  "
      ]
     },
     "execution_count": 123,
     "metadata": {},
     "output_type": "execute_result"
    }
   ],
   "source": [
    "df.sample(20)"
   ]
  },
  {
   "cell_type": "code",
   "execution_count": 142,
   "metadata": {},
   "outputs": [
    {
     "data": {
      "text/plain": [
       "'no. coa01-375 north carolina court of appeals filed: 19 march 2002 belinda m. storch and julius clemons storch, iii, v. winn-dixie charlotte, inc., plaintiffs, defendant. appeal by defendant from order entered 4 april 2000, judgment entered 28 july 2000, and order entered 21 september 2000 by judge b. craig ellis in cumberland county superior court. heard in the court of appeals 10 january 2002. mitchell, brewer, richardson, adams, burns & boughman, by ronnie m. mitchell and coy e. brewer, jr., for plaintiff- appellees. teague, campbell, dennis & gorham, l.l.p., by dayle a. flammia and bryan t. simpson, for defendant-appellant. martin, judge. plaintiffs are the parents of jason paul storch, who died in a single car accident on 19 september 1998 in avery county. plaintiffs brought this action under chapter 18b, article 1a of the north carolina general statutes, north carolina’s dram shop act, alleging that jason, who was eighteen years old at the time of his death, was intoxicated after having consumed alcohol which he purchased from defendant’s store in boone, n.c. prior to the fatal accident. plaintiffs sued in their individual capacities, alleging they have suffered damages as a result of defendant’s negligent sale of alcohol to jason and are “aggrieved parties” within the meaning of the act. defendant filed answer denying it sold or -2- furnished alcohol to jason and alleging affirmative defenses. defendant’s motion to dismiss and motion for summary judgment were denied, and the issues were tried by a jury. the jury found that plaintiffs were injured as a result of defendant’s sale of alcoholic beverages to an underage person and awarded damages in the amount of $50,000 to each plaintiff. the trial court entered judgment on the jury’s verdict and denied defendant’s motions for judgment notwithstanding the verdict and, alternatively, for a new trial. defendant appeals. _______________ the sole issue presented by this appeal is whether the parents of an underage person who dies from injuries proximately resulting from his operation of a motor vehicle while impaired after consuming alcoholic beverages sold or furnished to him in violation of g.s. § 18b-302(a) may be “aggrieved parties” within the meaning of g.s. § 18b-120 et seq., north carolina’s “dram shop act.” we answer affirmatively. article 1a of chapter 18b of the north carolina general statutes authorizes a claim by an “aggrieved party” for damages for injury proximately caused by the negligent selling of alcoholic beverages to an underage person. g.s. § 18b-121 provides: an aggrieved party has a claim for relief for damages against a permittee or local alcoholic control board if: (1) the permittee or his agent or employee or the local board or its agent or employee negligently sold or furnished an alcoholic beverage to an underage person; and (2) the consumption of the alcoholic beverage -3- that was sold or furnished to an underage person caused or contributed to, in whole or in part, an underage driver’s being subject to an impairing substance within the meaning of g.s. 20-138.1 at the time of the injury; and (3) the injury that resulted was proximately caused by the underage driver’s negligent operation of a vehicle while so impaired. an “aggrieved party” is defined as “a person who sustains an injury as a consequence of the actions of the underage person, but does not include the underage person . . . .” n.c. gen. stat. § 18b-120(1). because the underage person is expressly excluded from the definition of “aggrieved party” in g.s. § 18b-120(1), his personal representative is also excluded and may not maintain an action for wrongful death under the dram shop act, since the personal representative may only bring a claim which could have been brought by the decedent if he had lived. clark v. inn west, 324 n.c. 415, 379 s.e.2d 23 (1989). in clark v. inn west, supra, the question before the supreme court was whether the personal representative of the estate of an underage person who died as a result of injuries sustained in an accident caused by his impaired driving after the consumption of alcohol could maintain an action under the dram shop act. as noted above, the court held that because g.s. § 28a-18-2 provides for the survivorship of claims by a personal representative only if such claim could have been brought by the decedent if he had lived, and the underage person is expressly excluded from the definition of an “aggrieved party” contained in g.s. § 18b-120(1), the personal representative could not maintain an action under g.s. § 18b-121. -4- notably, however, even though the question of the standing of the parent of an underage person to maintain such an action, individually, was not before the court, the court noted that a parent of the underage person is not expressly excluded from the definition of an “aggrieved party.” clark, 324 n.c. at 417-18, fn.2, 379 s.e.2d at 24, fn.2. the court went on to examine the definition of “injury” contained in g.s. § 18b-120(2) and concluded that the statute “does not preclude recovery for loss of support by their underage child, if the underage child in fact supported the parents.” id. at 418, 379 s.e.2d at 24. the court’s analysis with respect to the parent’s standing to bring the action as individuals was unnecessary to its decision and, as dictum, is not binding precedent. in re university of north carolina, 300 n.c. 563, 576, 268 s.e.2d 472, 480 (1980). nevertheless, such analysis is directly relevant to the issue before us and we adopt it. “a remedial statute must be construed broadly, in light of the evils sought to be remedied and the objectives to be attained.” wade v. wade, 72 n.c. app. 372, 379, 325 s.e.2d 260, 267-68 (1985) (citation omitted), disc. review denied, 313 n.c. 612, 330 s.e.2d 616 (1985). thus, we hold that a parent of an underage driver injured or killed as a result of such underage driver’s negligent operation of a motor vehicle due to impairment resulting from the consumption of alcohol may be an “aggrieved party” within the meaning of g.s. § 18b-120(1) so as to have standing to maintain an action under the dram shop act if such parent suffers an injury as a proximate result of the negligent selling of alcoholic beverages to the underage person. the term “injury” under the statute -5- includes, but is not limited to, personal injury, property loss, loss of means of support, or death. damages for death shall be determined under the provisions of g.s 28a-18- 2((b). nothing in g.s. 28a-18-2(a) or subdivision (1) of this section shall be interpreted to preclude recovery under this article for . . . death on account of injury to or death of the underage person . . . .” n.c. gen. stat. § 18b-120(2) (emphasis added). clearly, under subsection (2), a parent of an underage person killed as a result of his own impaired driving would be an “aggrieved party” to the extent the parent’s automobile was damaged as a consequence of the underage person’s impaired driving and would have standing to maintain an action under g.s. § 18b-121. in addition, the last sentence of subsection (2) expressly renders inapplicable the limitation of g.s. § 28a-18-2(a) restricting the right of recovery of damages for death of the underage person to the personal representative. indeed, as the supreme court must have recognized in its analysis of the statute in clark, if the last sentence of subsection (2) were interpreted otherwise, g.s. § 28a-18-2(a) would preclude a parent from recovering for loss of support by the underage child. subsection (2) provides that damages for death be determined as directed by g.s. § 28a-18-2(b). as applicable to the parent of the underage person, “injury” would include funeral expenses of the underage person, g.s. § 28a-18-2(b)(3), as well as damages for loss of services, g.s. § 28a-18-2(b)(4)b, society, companionship, etc., -6- g.s. § 28a-18-2(b)(4)c, and loss of support. n.c. gen. stat. § 18b-120(2); clark, supra. thus, even though an action for wrongful death is reserved to the personal representative of the decedent and a parent, individually, may not maintain a wrongful death action for death of his or her child, killian v. r.r., 128 n.c. 261, 38 s.e. 873 (1901), damages under g.s. § 28a-18-2(b) may be available, in a completely distinct claim under the dram shop act to the parent of an underage child who negligently drove a motor vehicle while impaired by alcohol and died from injuries sustained as a proximate result thereof. in summary, we hold that a parent of an underage person who dies from injuries proximately resulting from his operation of a motor vehicle while impaired after consuming alcohol negligently sold by a permittee may be included within the class of persons known as “aggrieved parties” under g.s. § 18b-120(1), and may recover damages for his or her “injury,” including damages pursuant to g.s. § 28a-18-2(b). no error. judges timmons-goodson and bryant concur. '"
      ]
     },
     "execution_count": 142,
     "metadata": {},
     "output_type": "execute_result"
    }
   ],
   "source": [
    "df.Opinion[1276]"
   ]
  },
  {
   "cell_type": "markdown",
   "metadata": {},
   "source": [
    "# need to drop cases \"reverse ... denial\" -- maybe as a separate action "
   ]
  },
  {
   "cell_type": "code",
   "execution_count": 125,
   "metadata": {},
   "outputs": [
    {
     "data": {
      "text/plain": [
       "2"
      ]
     },
     "execution_count": 125,
     "metadata": {},
     "output_type": "execute_result"
    }
   ],
   "source": [
    "string2 = \"this is a string that says rent different rentyish fajrent\"\n",
    "count = string2.count(\" rent\")\n",
    "count"
   ]
  },
  {
   "cell_type": "code",
   "execution_count": 126,
   "metadata": {},
   "outputs": [
    {
     "data": {
      "text/plain": [
       "premises            524\n",
       "contract            455\n",
       "property            401\n",
       "car_crash           387\n",
       "landlord_tenant     355\n",
       "family_law          264\n",
       "governmental        154\n",
       "unfair_deceptive    137\n",
       "med_mal              94\n",
       "discrimination       91\n",
       "estates              79\n",
       "defamation           50\n",
       "wrongful_death       32\n",
       "construction         10\n",
       "dram_shop             2\n",
       "Name: Case_Type, dtype: int64"
      ]
     },
     "execution_count": 126,
     "metadata": {},
     "output_type": "execute_result"
    }
   ],
   "source": [
    "df.Case_Type.value_counts()"
   ]
  },
  {
   "cell_type": "code",
   "execution_count": 135,
   "metadata": {},
   "outputs": [
    {
     "name": "stdout",
     "output_type": "stream",
     "text": [
      "1276\n",
      "1407\n",
      "1576\n",
      "1605\n",
      "1763\n",
      "2032\n"
     ]
    }
   ],
   "source": [
    "total = 0\n",
    "for i in range(len(df)):\n",
    "    if df.Opinion[i].count('dram shop') >= 1:\n",
    "        print(df.index[i])\n",
    "        \n",
    "# Why are dram shop so low if there are only 6 in the DF -- or does it really matter?"
   ]
  },
  {
   "cell_type": "code",
   "execution_count": null,
   "metadata": {},
   "outputs": [],
   "source": []
  }
 ],
 "metadata": {
  "kernelspec": {
   "display_name": "Python 3",
   "language": "python",
   "name": "python3"
  },
  "language_info": {
   "codemirror_mode": {
    "name": "ipython",
    "version": 3
   },
   "file_extension": ".py",
   "mimetype": "text/x-python",
   "name": "python",
   "nbconvert_exporter": "python",
   "pygments_lexer": "ipython3",
   "version": "3.6.9"
  }
 },
 "nbformat": 4,
 "nbformat_minor": 2
}
