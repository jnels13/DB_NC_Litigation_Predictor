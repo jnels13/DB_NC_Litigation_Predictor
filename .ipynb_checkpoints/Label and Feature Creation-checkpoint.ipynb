{
 "cells": [
  {
   "cell_type": "markdown",
   "metadata": {},
   "source": [
    "# Label and Feature Creation\n",
    "\n",
    "In this notebook, I will import the single-column dataframe of appellate opinions and create columns with labels and features. "
   ]
  },
  {
   "cell_type": "code",
   "execution_count": 1,
   "metadata": {},
   "outputs": [],
   "source": [
    "import io\n",
    "import re\n",
    "import pandas as pd\n",
    "import pickle"
   ]
  },
  {
   "cell_type": "code",
   "execution_count": 2,
   "metadata": {},
   "outputs": [],
   "source": [
    "# Open the dataframe\n",
    "infile = open('ProjectData/df_clean.data', 'rb')\n",
    "df = pickle.load(infile)\n",
    "infile.close()"
   ]
  },
  {
   "cell_type": "code",
   "execution_count": 3,
   "metadata": {},
   "outputs": [],
   "source": [
    "df.reset_index(inplace=True)"
   ]
  },
  {
   "cell_type": "code",
   "execution_count": 4,
   "metadata": {},
   "outputs": [
    {
     "name": "stdout",
     "output_type": "stream",
     "text": [
      "<class 'pandas.core.frame.DataFrame'>\n",
      "RangeIndex: 3922 entries, 0 to 3921\n",
      "Data columns (total 2 columns):\n",
      "index      3922 non-null int64\n",
      "Opinion    3922 non-null object\n",
      "dtypes: int64(1), object(1)\n",
      "memory usage: 61.4+ KB\n"
     ]
    }
   ],
   "source": [
    "df.info()"
   ]
  },
  {
   "cell_type": "markdown",
   "metadata": {},
   "source": [
    "### 1. Creating a New Column for the File Numbers\n",
    "This is more experimental than functional."
   ]
  },
  {
   "cell_type": "code",
   "execution_count": 5,
   "metadata": {},
   "outputs": [],
   "source": [
    "# capture file number into new column\n",
    "def coa(string_):\n",
    "    try:\n",
    "        pat_coa_number = re.search(\"no.? ?coa.? ?(\\d{2}-\\d{1,5})\",string_)\n",
    "        return pat_coa_number.group(1)\n",
    "    except:\n",
    "        return('00-000')"
   ]
  },
  {
   "cell_type": "code",
   "execution_count": 6,
   "metadata": {},
   "outputs": [
    {
     "data": {
      "text/plain": [
       "'20-112'"
      ]
     },
     "execution_count": 6,
     "metadata": {},
     "output_type": "execute_result"
    }
   ],
   "source": [
    "coa(df.Opinion[3921])"
   ]
  },
  {
   "cell_type": "code",
   "execution_count": 7,
   "metadata": {},
   "outputs": [],
   "source": [
    "coa_numbers = []\n",
    "for i in range(len(df.Opinion)):\n",
    "    x = coa(df.Opinion[i])\n",
    "    coa_numbers.append(x)"
   ]
  },
  {
   "cell_type": "code",
   "execution_count": 8,
   "metadata": {},
   "outputs": [],
   "source": [
    "plchldr=pd.Series(coa_numbers)\n",
    "df[\"File_Numbers\"] = plchldr.values"
   ]
  },
  {
   "cell_type": "code",
   "execution_count": 9,
   "metadata": {},
   "outputs": [
    {
     "data": {
      "text/html": [
       "<div>\n",
       "<style scoped>\n",
       "    .dataframe tbody tr th:only-of-type {\n",
       "        vertical-align: middle;\n",
       "    }\n",
       "\n",
       "    .dataframe tbody tr th {\n",
       "        vertical-align: top;\n",
       "    }\n",
       "\n",
       "    .dataframe thead th {\n",
       "        text-align: right;\n",
       "    }\n",
       "</style>\n",
       "<table border=\"1\" class=\"dataframe\">\n",
       "  <thead>\n",
       "    <tr style=\"text-align: right;\">\n",
       "      <th></th>\n",
       "      <th>index</th>\n",
       "      <th>Opinion</th>\n",
       "      <th>File_Numbers</th>\n",
       "    </tr>\n",
       "  </thead>\n",
       "  <tbody>\n",
       "    <tr>\n",
       "      <td>0</td>\n",
       "      <td>0</td>\n",
       "      <td>an unpublished opinion of the north carolina ...</td>\n",
       "      <td>19-563</td>\n",
       "    </tr>\n",
       "    <tr>\n",
       "      <td>1</td>\n",
       "      <td>1</td>\n",
       "      <td>no. coa11-246 north carolina court of appeals ...</td>\n",
       "      <td>11-246</td>\n",
       "    </tr>\n",
       "    <tr>\n",
       "      <td>2</td>\n",
       "      <td>2</td>\n",
       "      <td>no. coa08-347 north carolina court of appeals ...</td>\n",
       "      <td>08-347</td>\n",
       "    </tr>\n",
       "    <tr>\n",
       "      <td>3</td>\n",
       "      <td>3</td>\n",
       "      <td>michael harrison gregory and wife, vivian greg...</td>\n",
       "      <td>05-885</td>\n",
       "    </tr>\n",
       "    <tr>\n",
       "      <td>4</td>\n",
       "      <td>4</td>\n",
       "      <td>atlantic contracting and material company, inc...</td>\n",
       "      <td>02-1087</td>\n",
       "    </tr>\n",
       "    <tr>\n",
       "      <td>5</td>\n",
       "      <td>5</td>\n",
       "      <td>an unpublished opinion of the north carolina c...</td>\n",
       "      <td>13-222</td>\n",
       "    </tr>\n",
       "    <tr>\n",
       "      <td>6</td>\n",
       "      <td>6</td>\n",
       "      <td>in the court of appeals of north carolina no....</td>\n",
       "      <td>17-112</td>\n",
       "    </tr>\n",
       "    <tr>\n",
       "      <td>7</td>\n",
       "      <td>7</td>\n",
       "      <td>in the court of appeals of north carolina no....</td>\n",
       "      <td>15-862</td>\n",
       "    </tr>\n",
       "    <tr>\n",
       "      <td>8</td>\n",
       "      <td>8</td>\n",
       "      <td>no. coa11-1447 north carolina court of appeal...</td>\n",
       "      <td>11-1447</td>\n",
       "    </tr>\n",
       "    <tr>\n",
       "      <td>9</td>\n",
       "      <td>9</td>\n",
       "      <td>an unpublished opinion of the north carolina c...</td>\n",
       "      <td>13-248</td>\n",
       "    </tr>\n",
       "  </tbody>\n",
       "</table>\n",
       "</div>"
      ],
      "text/plain": [
       "   index                                            Opinion File_Numbers\n",
       "0      0   an unpublished opinion of the north carolina ...       19-563\n",
       "1      1  no. coa11-246 north carolina court of appeals ...       11-246\n",
       "2      2  no. coa08-347 north carolina court of appeals ...       08-347\n",
       "3      3  michael harrison gregory and wife, vivian greg...       05-885\n",
       "4      4  atlantic contracting and material company, inc...      02-1087\n",
       "5      5  an unpublished opinion of the north carolina c...       13-222\n",
       "6      6   in the court of appeals of north carolina no....       17-112\n",
       "7      7   in the court of appeals of north carolina no....       15-862\n",
       "8      8   no. coa11-1447 north carolina court of appeal...      11-1447\n",
       "9      9  an unpublished opinion of the north carolina c...       13-248"
      ]
     },
     "execution_count": 9,
     "metadata": {},
     "output_type": "execute_result"
    }
   ],
   "source": [
    "df.head(10)"
   ]
  },
  {
   "cell_type": "markdown",
   "metadata": {},
   "source": [
    "### 2. Creating the Labels (Affirmed, Reversed, etc.)\n",
    "The labels were created using the regex patterns below. Many iterations created the ultimate expression seen in the following function. "
   ]
  },
  {
   "cell_type": "code",
   "execution_count": 152,
   "metadata": {},
   "outputs": [],
   "source": [
    "# capture file number into new column\n",
    "def labels(string_):\n",
    "    try:\n",
    "        try:\n",
    "            try:  #this level has the highest confidence of getting an accurate label, based upon review of opinions (a single-word sentence)\n",
    "                labels = re.search(\"\\.. ?(affirmed?)\\.|\\.?(reversed?)\\.|(affirmed in part)|\\.?(dismissed)\\.\",string_)\n",
    "                x = labels.group(1)\n",
    "                y = labels.group(2)\n",
    "                z = labels.group(3)\n",
    "                w = labels.group(4)\n",
    "                not_none = [x,y,z]\n",
    "                a = [i for i in not_none if i != None]\n",
    "                return a[0]\n",
    "            except:  # slightly less confidence; looks for outcome word within 10 words of \"concur\", which frequently is at the end of a unanymous opinion\n",
    "                labels = re.search(\"(?:concurs?\\W+(?:\\w+\\W+){0,10}?('affirmed in part'|reversed|affirmed|dismissed)|('affirmed in part'|affirmed|reversed|dismissed)\\W+(?:\\w+\\W+){0,10}?concurs?)\", string_)\n",
    "\n",
    "                if labels.group(1) == None:\n",
    "                    return labels.group(2)\n",
    "                else:\n",
    "                    return labels.group(1)\n",
    "        except: #slightly less confidence; if both of the previous methods fail, this clips the last 100 chars of the opinion for any of the outcome words\n",
    "            clip = string_[-100:]\n",
    "#             print(clip)\n",
    "            labels2 = re.search(\"('affirmed in part'|reversed|affirmed|dismissed|'affirm in part'|affirm|reverse|dismiss)\",clip)\n",
    "            return labels2.group(0)\n",
    "    except:\n",
    "        return('error')"
   ]
  },
  {
   "cell_type": "code",
   "execution_count": 144,
   "metadata": {},
   "outputs": [
    {
     "data": {
      "text/plain": [
       "'affirm'"
      ]
     },
     "execution_count": 144,
     "metadata": {},
     "output_type": "execute_result"
    }
   ],
   "source": [
    "labels(df.Opinion[2582])"
   ]
  },
  {
   "cell_type": "code",
   "execution_count": 145,
   "metadata": {},
   "outputs": [],
   "source": [
    "labels_list = []\n",
    "for i in range(len(df.Opinion)):\n",
    "    x = labels(df.Opinion[i])\n",
    "    labels_list.append(x)"
   ]
  },
  {
   "cell_type": "code",
   "execution_count": 146,
   "metadata": {},
   "outputs": [],
   "source": [
    "labels_series = pd.Series(labels_list)\n",
    "df[\"Result\"] = labels_series.values"
   ]
  },
  {
   "cell_type": "code",
   "execution_count": 150,
   "metadata": {},
   "outputs": [],
   "source": [
    "df['Result'].replace(['reverse','affirm', 'dismiss'],['reversed','affirmed','dismissed'], inplace=True)"
   ]
  },
  {
   "cell_type": "code",
   "execution_count": 151,
   "metadata": {},
   "outputs": [
    {
     "data": {
      "text/plain": [
       "affirmed            2139\n",
       "reversed             830\n",
       "affirmed in part     403\n",
       "dismissed            361\n",
       "error                189\n",
       "Name: Result, dtype: int64"
      ]
     },
     "execution_count": 151,
     "metadata": {},
     "output_type": "execute_result"
    }
   ],
   "source": [
    "df.Result.value_counts()"
   ]
  },
  {
   "cell_type": "markdown",
   "metadata": {},
   "source": [
    "# Continue exploring cause of errors and revising label function"
   ]
  },
  {
   "cell_type": "code",
   "execution_count": 147,
   "metadata": {},
   "outputs": [
    {
     "data": {
      "text/html": [
       "<div>\n",
       "<style scoped>\n",
       "    .dataframe tbody tr th:only-of-type {\n",
       "        vertical-align: middle;\n",
       "    }\n",
       "\n",
       "    .dataframe tbody tr th {\n",
       "        vertical-align: top;\n",
       "    }\n",
       "\n",
       "    .dataframe thead th {\n",
       "        text-align: right;\n",
       "    }\n",
       "</style>\n",
       "<table border=\"1\" class=\"dataframe\">\n",
       "  <thead>\n",
       "    <tr style=\"text-align: right;\">\n",
       "      <th></th>\n",
       "      <th>index</th>\n",
       "      <th>Opinion</th>\n",
       "      <th>File_Numbers</th>\n",
       "      <th>Result</th>\n",
       "    </tr>\n",
       "  </thead>\n",
       "  <tbody>\n",
       "    <tr>\n",
       "      <td>2158</td>\n",
       "      <td>2169</td>\n",
       "      <td>betty evans, plaintiff, v. family inns of amer...</td>\n",
       "      <td>99-1242</td>\n",
       "      <td>affirmed in part</td>\n",
       "    </tr>\n",
       "    <tr>\n",
       "      <td>1739</td>\n",
       "      <td>1745</td>\n",
       "      <td>in the court of appeals of north carolina no....</td>\n",
       "      <td>15-1286</td>\n",
       "      <td>reversed</td>\n",
       "    </tr>\n",
       "    <tr>\n",
       "      <td>330</td>\n",
       "      <td>330</td>\n",
       "      <td>an unpublished opinion of the north carolina c...</td>\n",
       "      <td>03-1413</td>\n",
       "      <td>affirmed</td>\n",
       "    </tr>\n",
       "    <tr>\n",
       "      <td>1594</td>\n",
       "      <td>1600</td>\n",
       "      <td>howard biggers iii, individually and as admini...</td>\n",
       "      <td>08-249</td>\n",
       "      <td>affirmed</td>\n",
       "    </tr>\n",
       "    <tr>\n",
       "      <td>3447</td>\n",
       "      <td>3469</td>\n",
       "      <td>an unpublished opinion of the north carolina c...</td>\n",
       "      <td>03-1698</td>\n",
       "      <td>reversed</td>\n",
       "    </tr>\n",
       "    <tr>\n",
       "      <td>1760</td>\n",
       "      <td>1766</td>\n",
       "      <td>no. coa01-1372 north carolina court of appeals...</td>\n",
       "      <td>01-1372</td>\n",
       "      <td>reversed</td>\n",
       "    </tr>\n",
       "    <tr>\n",
       "      <td>2057</td>\n",
       "      <td>2066</td>\n",
       "      <td>jennie lynn billings and everette billings, pl...</td>\n",
       "      <td>04-1647</td>\n",
       "      <td>reversed</td>\n",
       "    </tr>\n",
       "    <tr>\n",
       "      <td>171</td>\n",
       "      <td>171</td>\n",
       "      <td>frank h. r. falkson, kenneth collier, francis ...</td>\n",
       "      <td>04-1596</td>\n",
       "      <td>reversed</td>\n",
       "    </tr>\n",
       "    <tr>\n",
       "      <td>651</td>\n",
       "      <td>652</td>\n",
       "      <td>an unpublished opinion of the north carolina c...</td>\n",
       "      <td>01-1043</td>\n",
       "      <td>error</td>\n",
       "    </tr>\n",
       "    <tr>\n",
       "      <td>3911</td>\n",
       "      <td>3939</td>\n",
       "      <td>no. coa08-352 north carolina court of appeals ...</td>\n",
       "      <td>08-352</td>\n",
       "      <td>affirmed</td>\n",
       "    </tr>\n",
       "    <tr>\n",
       "      <td>2909</td>\n",
       "      <td>2926</td>\n",
       "      <td>annie mitchell reid, and james donald reid, pl...</td>\n",
       "      <td>99-489</td>\n",
       "      <td>reversed</td>\n",
       "    </tr>\n",
       "    <tr>\n",
       "      <td>711</td>\n",
       "      <td>712</td>\n",
       "      <td>an unpublished opinion of the north carolina c...</td>\n",
       "      <td>11-1314</td>\n",
       "      <td>affirmed</td>\n",
       "    </tr>\n",
       "    <tr>\n",
       "      <td>1477</td>\n",
       "      <td>1482</td>\n",
       "      <td>an unpublished opinion of the north carolina ...</td>\n",
       "      <td>18-713</td>\n",
       "      <td>affirmed in part</td>\n",
       "    </tr>\n",
       "    <tr>\n",
       "      <td>567</td>\n",
       "      <td>568</td>\n",
       "      <td>in the court of appeals of north carolina no....</td>\n",
       "      <td>18-1312</td>\n",
       "      <td>error</td>\n",
       "    </tr>\n",
       "    <tr>\n",
       "      <td>3129</td>\n",
       "      <td>3147</td>\n",
       "      <td>in the supreme court of north carolina filed: ...</td>\n",
       "      <td>00-000</td>\n",
       "      <td>error</td>\n",
       "    </tr>\n",
       "    <tr>\n",
       "      <td>3731</td>\n",
       "      <td>3757</td>\n",
       "      <td>kirsten durling, tim hull, and dee nichols v. ...</td>\n",
       "      <td>00-707</td>\n",
       "      <td>affirmed in part</td>\n",
       "    </tr>\n",
       "    <tr>\n",
       "      <td>2119</td>\n",
       "      <td>2129</td>\n",
       "      <td>in the court of appeals of north carolina no....</td>\n",
       "      <td>16-1258</td>\n",
       "      <td>error</td>\n",
       "    </tr>\n",
       "    <tr>\n",
       "      <td>3100</td>\n",
       "      <td>3118</td>\n",
       "      <td>an unpublished opinion of the north carolina c...</td>\n",
       "      <td>11-353</td>\n",
       "      <td>dismissed</td>\n",
       "    </tr>\n",
       "    <tr>\n",
       "      <td>1356</td>\n",
       "      <td>1359</td>\n",
       "      <td>an unpublished opinion of the north carolina c...</td>\n",
       "      <td>07-287</td>\n",
       "      <td>dismissed</td>\n",
       "    </tr>\n",
       "    <tr>\n",
       "      <td>488</td>\n",
       "      <td>489</td>\n",
       "      <td>an unpublished opinion of the north carolina c...</td>\n",
       "      <td>12-520</td>\n",
       "      <td>affirmed</td>\n",
       "    </tr>\n",
       "  </tbody>\n",
       "</table>\n",
       "</div>"
      ],
      "text/plain": [
       "      index                                            Opinion File_Numbers  \\\n",
       "2158   2169  betty evans, plaintiff, v. family inns of amer...      99-1242   \n",
       "1739   1745   in the court of appeals of north carolina no....      15-1286   \n",
       "330     330  an unpublished opinion of the north carolina c...      03-1413   \n",
       "1594   1600  howard biggers iii, individually and as admini...       08-249   \n",
       "3447   3469  an unpublished opinion of the north carolina c...      03-1698   \n",
       "1760   1766  no. coa01-1372 north carolina court of appeals...      01-1372   \n",
       "2057   2066  jennie lynn billings and everette billings, pl...      04-1647   \n",
       "171     171  frank h. r. falkson, kenneth collier, francis ...      04-1596   \n",
       "651     652  an unpublished opinion of the north carolina c...      01-1043   \n",
       "3911   3939  no. coa08-352 north carolina court of appeals ...       08-352   \n",
       "2909   2926  annie mitchell reid, and james donald reid, pl...       99-489   \n",
       "711     712  an unpublished opinion of the north carolina c...      11-1314   \n",
       "1477   1482   an unpublished opinion of the north carolina ...       18-713   \n",
       "567     568   in the court of appeals of north carolina no....      18-1312   \n",
       "3129   3147  in the supreme court of north carolina filed: ...       00-000   \n",
       "3731   3757  kirsten durling, tim hull, and dee nichols v. ...       00-707   \n",
       "2119   2129   in the court of appeals of north carolina no....      16-1258   \n",
       "3100   3118  an unpublished opinion of the north carolina c...       11-353   \n",
       "1356   1359  an unpublished opinion of the north carolina c...       07-287   \n",
       "488     489  an unpublished opinion of the north carolina c...       12-520   \n",
       "\n",
       "                Result  \n",
       "2158  affirmed in part  \n",
       "1739          reversed  \n",
       "330           affirmed  \n",
       "1594          affirmed  \n",
       "3447          reversed  \n",
       "1760          reversed  \n",
       "2057          reversed  \n",
       "171           reversed  \n",
       "651              error  \n",
       "3911          affirmed  \n",
       "2909          reversed  \n",
       "711           affirmed  \n",
       "1477  affirmed in part  \n",
       "567              error  \n",
       "3129             error  \n",
       "3731  affirmed in part  \n",
       "2119             error  \n",
       "3100         dismissed  \n",
       "1356         dismissed  \n",
       "488           affirmed  "
      ]
     },
     "execution_count": 147,
     "metadata": {},
     "output_type": "execute_result"
    }
   ],
   "source": [
    "df.sample(20)"
   ]
  },
  {
   "cell_type": "code",
   "execution_count": 148,
   "metadata": {},
   "outputs": [
    {
     "data": {
      "text/plain": [
       "'an unpublished opinion of the north carolina court of appeals does not constitute controlling legal authority. citation is disfavored, but may be permitted in accordance with the provisions of rule 30(e)(3) of the north carolina rules of appellate procedure. no. coa01-1043 north carolina court of appeals filed: 2 july 2002 northfield development co., inc., plaintiff, v. the city of burlington, a political subdivision of the state of north carolina, defendant. alamance county no. 97 cvs 2122 appeal by plaintiff and defendant from order and judgment entered 19 april 2001, and appeal by plaintiff from order entered 17 may 2001, by judge w. osmond smith, iii, in superior court, alamance county. heard in the court of appeals 15 may 2002. smith, james, rowlett & cohen, l.l.p., by j. david james, for the plaintiff-appellant-cross-appellee. faison & gillespie, by reginald b. gillespie, jr., for the defendant-appellee-cross-appellant. wynn, judge. this appeal presents the question of whether the burlington city council’s action in deciding to approve or deny an application for a manufactured housing overlay district (mhod) designation constitutes a legislative or a quasi-judicial function. in two earlier decisions, this court answered this precise question, -2- concluding that the city council’s action in ruling on mhod applications is quasi-judicial, rather than legislative, in nature. see northfield dev. co. v. city of burlington, 136 n.c. app. 272, 523 s.e.2d 743, aff’d, 352 n.c. 671, 535 s.e.2d 32 (2000) (“northfield i”); see also devaney v. city of burlington, 143 n.c. app. 334, 545 s.e.2d 763, disc. review denied, 353 n.c. 724, 550 s.e.2d 772 (2001). accordingly, we vacate the summary judgment order in this case and remand for further proceedings. many of the underlying facts relevant to this matter are set forth in northfield i. northfield development co. brought forth claims in 1997 relating to two separate properties, the blackwell property and the isley/oliver property, arising from the city council’s denial of its requests for mhod designations for the two properties. northfield asserted that the city council’s denial of its mhod petitions violated its due process rights under n.c. const. art. i, § 19, and violated n.c. gen. stat. § 160a-383.1 (2001). the trial court in northfield i granted the city of burlington’s motion to dismiss northfield’s isley/oliver property claims based on mootness and lack of standing; the trial court further dismissed all of northfield’s claims under g.s. § 160a- 383.1. on appeal, this court in northfield i reversed the trial court’s dismissal of northfield’s isley/oliver property claims on grounds of mootness and lack of standing; however, we affirmed the trial court’s dismissal of all of northfield’s g.s. § 160a-383.1 claims. in considering northfield’s g.s. § 160a-383.1 claims, this -3- court also clarified that, under the burlington city code, the city council “is not obligated to approve a mhod [but rather] retains the discretion to make the designation.” northfield i, 136 n.c. app. at 281, 523 s.e.2d at 749 (emphasis added). this court also stated: of city [the] community [t]he initial decision by the council to amend its zoning ordinance in 1989 to include mhods was a legislative decision, because it established a general policy affecting the entire [of burlington]. the decision of the council to approve or deny plaintiff’s petition for mhods for the isley/oliver and blackwell properties was a quasi-judicial decision because it required application of the mhod standards set out in [the] city’s zoning ordinance to individual situations. the decision to approve or reject mhod petitions is most analogous to the decision to grant or deny variances or special use permits, which are quasi-judicial in nature. id. at 282, 523 s.e.2d at 750 (emphasis added). in devaney, this court again considered the city council’s procedure for evaluating mhod petitions, stating: in northfield [i], we determined that the city council’s action in deciding whether to approve an mhod is quasi-judicial, in that it involves the application of set policies to an individual situation. devaney, 143 n.c. app. at 336-37, 545 s.e.2d at 765 (emphasis added). this court in devaney concluded that the procedure employed by the city council in evaluating northfield’s mhod application was inconsistent with northfield i. as the city council utilized the wrong standard, this court vacated the trial court’s order and remanded to the superior court, for further remand to the city of burlington “for the determination in a quasi- -4- judicial hearing of the propriety of granting [northfield’s] application.” devaney, 143 n.c. app. at 338, 545 s.e.2d at 766. following this court’s remand in northfield i, the parties in the instant case underwent further discovery; in march 2001, the city of burlington moved for summary judgment. on 19 april 2001, the trial court entered an “order and judgment” granting the city of burlington partial summary judgment with respect to northfield’s blackwell property claims, but denying the city of burlington summary judgment with respect to northfield’s isley/oliver property claims. to the extent the trial court granted the city of burlington summary judgment as to the blackwell property, it dismissed those claims with prejudice and certified such judgment as a final judgment subject to immediate appeal under n.c. gen. stat. § 1a-1, rule 54(b) (2001). following the filing of this court’s opinion in devaney on 1 may 2001, northfield moved under n.c. gen. stat. § 1a-1, rule 60(b) (2001) to set aside the 19 april 2001 partial summary judgment on the basis of the devaney decision. the trial court denied this motion pursuant to an order filed on 17 may 2001; on 18 may 2001, northfield gave notice of appeal from the trial court’s 19 april 2001 “order and judgment,” and from the trial court’s 17 may 2001 order denying northfield’s rule 60(b) motion. the city of burlington cross-appealed on 18 may 2001 from the trial court’s 19 april 2001 “order and judgment” partially denying its summary judgment motion as to northfield’s isley/oliver claims. we initially note that the city of burlington’s cross-appeal -5- is interlocutory, and accordingly is dismissed. see, e.g., waters v. personnel, inc., 294 n.c. 200, 240 s.e.2d 338 (1978). as for northfield’s appeal from the trial court’s 17 may 2001 order, we note that northfield did not specify in its motion the subsection of rule 60(b) under which it sought relief from the trial court’s 19 april 2001 “order and judgment.” because northfield did not state in its rule 60 motion any of the potential grounds for relief under rules 60(b)(1) through (5), we assume arguendo that northfield’s motion for relief was premised on rule 60(b)(6). appellate review of a rule 60(b) motion is limited to determining whether the trial court abused its discretion. see, e.g., sink v. easter, 288 n.c. 183, 217 s.e.2d 532 (1975). northfield essentially argues in its rule 60(b) motion that the trial court’s 19 april 2001 “order and judgment” was erroneous insofar as it partially granted summary judgment to the city of burlington on its blackwell property claims; however, this cannot be done under rule 60(b), which may not be used as a substitute for appellate review. see, e.g., smith v. johnson, 125 n.c. app. 603, 481 s.e.2d 415, disc. review denied, 346 n.c. 283, 487 s.e.2d 554 (1997). therefore, we conclude that the trial court properly denied northfield’s rule 60(b) motion. nonetheless, northfield filed a timely notice of appeal from the trial court’s 19 april 2001 “order and judgment,” permitting us to consider whether the trial court erred in granting the city of burlington partial summary judgment on northfield’s blackwell property claims. as northfield argues on appeal, the application -6- review procedures employed by the city of burlington in the instant case were virtually identical to the procedures used by the city council in devaney, which this court found to be improper. see devaney, 143 n.c. app. at 338, 545 s.e.2d at 765-66 (city council’s treatment of mhod application review as a legislative decision, and its failure to make findings of fact, was inconsistent with the procedure required pursuant to northfield i). inexplicably, the city of burlington continues to argue before this court that mhod decisions are legislative in nature, rather than quasi-judicial; the city of burlington further argues that the city council’s decision as to the blackwell property mhod application was a legislative decision, and was therefore entitled to substantial deference. however, devaney makes clear that the city council’s action in deciding whether to approve an mhod petition is quasi- judicial rather than legislative. see id. at 336-37, 545 s.e.2d at 765. accordingly, we conclude that the trial court erred in granting the city of burlington partial summary judgment on northfield’s blackwell property claims. in summary, the trial court’s 17 may 2001 order denying northfield’s rule 60(b) motion is affirmed; however, the trial court’s 19 april 2001 “order and judgment” is vacated, and this matter is remanded to the trial court for further remand to the city of burlington for determination by the city council in a quasi-judicial hearing of the propriety of granting northfield’s mhod petitions as to both the blackwell property and the isley/oliver property. see devaney. the city of burlington’s cross-appeal is dismissed. -7- affirmed in part; dismissed in part; and vacated and remanded in part. judges hunter and thomas concur. report per rule 30(e). '"
      ]
     },
     "execution_count": 148,
     "metadata": {},
     "output_type": "execute_result"
    }
   ],
   "source": [
    "# Explore cause of error statements\n",
    "df.Opinion[651]"
   ]
  },
  {
   "cell_type": "code",
   "execution_count": null,
   "metadata": {},
   "outputs": [],
   "source": []
  },
  {
   "cell_type": "code",
   "execution_count": null,
   "metadata": {},
   "outputs": [],
   "source": []
  },
  {
   "cell_type": "code",
   "execution_count": null,
   "metadata": {},
   "outputs": [],
   "source": []
  }
 ],
 "metadata": {
  "kernelspec": {
   "display_name": "Python 3",
   "language": "python",
   "name": "python3"
  },
  "language_info": {
   "codemirror_mode": {
    "name": "ipython",
    "version": 3
   },
   "file_extension": ".py",
   "mimetype": "text/x-python",
   "name": "python",
   "nbconvert_exporter": "python",
   "pygments_lexer": "ipython3",
   "version": "3.6.9"
  }
 },
 "nbformat": 4,
 "nbformat_minor": 2
}
