{
 "cells": [
  {
   "cell_type": "markdown",
   "metadata": {},
   "source": [
    "# Label and Feature Creation\n",
    "In this notebook, I will import the single-column DataFrame of appellate opinions and create columns with labels and features. \n",
    "## TO DO:\n",
    "<ul>\n",
    "<li>Import Libraries <br>\n",
    "<li>0. Drop Dissents - DONE\n",
    "<li>1. Add file numbers - DONE \n",
    "<li>2. Create Labels section \n",
    "<ul><li>A. Create function and apply to DataFrame \n",
    "<li>B. Clean up, combine, and drop columns\n",
    "    <li>C: Address reversing-denials or affirming-denials </ul>\n",
    "<li>3. Create case-type column -- STILL LOTS OF \"OTHER\" NEEDS TO BE FIXED\n",
    "<li>4. Extract Trial Court Judge\n",
    "<li>5. Extract County -- NEED TO FIX \"NONES\" AND WRONG WORDS\n",
    "<li>6. Topic Modeling Features - TBD\n",
    "<li>7. EDA Visualizations - TBD\n",
    "</ul>"
   ]
  },
  {
   "cell_type": "markdown",
   "metadata": {},
   "source": [
    "## Import Libraries and DataFrame"
   ]
  },
  {
   "cell_type": "code",
   "execution_count": 40,
   "metadata": {},
   "outputs": [],
   "source": [
    "import io\n",
    "import re\n",
    "import pandas as pd\n",
    "import pickle\n",
    "import operator\n",
    "\n",
    "pd.set_option('display.max_rows', 200)\n",
    "pd.set_option('display.max_columns', 100)\n",
    "pd.set_option('display.width', 100)"
   ]
  },
  {
   "cell_type": "code",
   "execution_count": 41,
   "metadata": {},
   "outputs": [],
   "source": [
    "# Open the dataframe\n",
    "infile = open('ProjectData/df_clean.data', 'rb')\n",
    "df = pickle.load(infile)\n",
    "infile.close()"
   ]
  },
  {
   "cell_type": "code",
   "execution_count": 42,
   "metadata": {},
   "outputs": [],
   "source": [
    "df.reset_index(inplace=True, drop=True)"
   ]
  },
  {
   "cell_type": "code",
   "execution_count": 43,
   "metadata": {},
   "outputs": [
    {
     "name": "stdout",
     "output_type": "stream",
     "text": [
      "<class 'pandas.core.frame.DataFrame'>\n",
      "RangeIndex: 3922 entries, 0 to 3921\n",
      "Data columns (total 1 columns):\n",
      "Opinion    3922 non-null object\n",
      "dtypes: object(1)\n",
      "memory usage: 30.8+ KB\n"
     ]
    },
    {
     "data": {
      "text/plain": [
       "(None,                                              Opinion\n",
       " 0   an unpublished opinion of the north carolina ...\n",
       " 1  no. coa11-246 north carolina court of appeals ...\n",
       " 2  no. coa08-347 north carolina court of appeals ...\n",
       " 3  michael harrison gregory and wife, vivian greg...\n",
       " 4  atlantic contracting and material company, inc...)"
      ]
     },
     "execution_count": 43,
     "metadata": {},
     "output_type": "execute_result"
    }
   ],
   "source": [
    "df.info(), df.head()"
   ]
  },
  {
   "cell_type": "markdown",
   "metadata": {},
   "source": [
    "### 0. Drop Dissents, Because They are Not Relevant to the Function\n",
    "\n",
    "#Dissents follow the opinion, when one of the three appellate judges doesn't agree; they may trigger further appeal, but they are not law, and may skew results, so they should be dropped. \n",
    "\n",
    "#### Exploration of opinions containing the phrase \"dissenting\""
   ]
  },
  {
   "cell_type": "code",
   "execution_count": 44,
   "metadata": {},
   "outputs": [],
   "source": [
    "dissents = df.loc[df['Opinion'].str.contains(\"dissenting\")]"
   ]
  },
  {
   "cell_type": "code",
   "execution_count": 45,
   "metadata": {},
   "outputs": [
    {
     "data": {
      "text/html": [
       "<div>\n",
       "<style scoped>\n",
       "    .dataframe tbody tr th:only-of-type {\n",
       "        vertical-align: middle;\n",
       "    }\n",
       "\n",
       "    .dataframe tbody tr th {\n",
       "        vertical-align: top;\n",
       "    }\n",
       "\n",
       "    .dataframe thead th {\n",
       "        text-align: right;\n",
       "    }\n",
       "</style>\n",
       "<table border=\"1\" class=\"dataframe\">\n",
       "  <thead>\n",
       "    <tr style=\"text-align: right;\">\n",
       "      <th></th>\n",
       "      <th>Opinion</th>\n",
       "    </tr>\n",
       "  </thead>\n",
       "  <tbody>\n",
       "    <tr>\n",
       "      <td>13</td>\n",
       "      <td>energy investors fund, l.p., inc., kvaerner as...</td>\n",
       "    </tr>\n",
       "    <tr>\n",
       "      <td>22</td>\n",
       "      <td>in the court of appeals of north carolina no....</td>\n",
       "    </tr>\n",
       "    <tr>\n",
       "      <td>27</td>\n",
       "      <td>cecelia l. ford, administrator of the estate o...</td>\n",
       "    </tr>\n",
       "    <tr>\n",
       "      <td>35</td>\n",
       "      <td>carolina place joint venture, plaintiff-appell...</td>\n",
       "    </tr>\n",
       "    <tr>\n",
       "      <td>45</td>\n",
       "      <td>christian emerson dysart and mildred maxwell d...</td>\n",
       "    </tr>\n",
       "  </tbody>\n",
       "</table>\n",
       "</div>"
      ],
      "text/plain": [
       "                                              Opinion\n",
       "13  energy investors fund, l.p., inc., kvaerner as...\n",
       "22   in the court of appeals of north carolina no....\n",
       "27  cecelia l. ford, administrator of the estate o...\n",
       "35  carolina place joint venture, plaintiff-appell...\n",
       "45  christian emerson dysart and mildred maxwell d..."
      ]
     },
     "execution_count": 45,
     "metadata": {},
     "output_type": "execute_result"
    }
   ],
   "source": [
    "dissents.head()"
   ]
  },
  {
   "cell_type": "markdown",
   "metadata": {},
   "source": [
    "Review example opinions containing the word \"dissent\" to see which need to be dropped:</p>\n",
    "Verbiage: (Y=actual dissent N=not a dissent)<br>\n",
    "Y judge horton dissenting<br>\n",
    "Y judge wynn dissents. ... wynn, judge, dissenting.<br>\n",
    "Y tyson, judge dissenting.<br>\n",
    "Y judge tyson concurs in part, dissents in part.<br>\n",
    "Y calabria, judge, dissenting. // therefore, i respectfully dissent.<br>\n",
    "Y justice martin dissenting. -- Conflicts w below -- maybe eliminate first 2000 chars? <br>\n",
    "Y === wynn, judge dissenting.<br>\n",
    "Y - elmore, judge, dissenting.<br>\n",
    "Y. martin, chief judge, concurring in part, dissenting in part. - But later<br>\n",
    "Y = campbell, judge, dissenting. i respectfully dissent <br>\n",
    "Y == thomas, judge, dissenting.<br>\n",
    "Y judge dillon dissents in a separate opinion. - 12,600 chars into 17,000 char opi<br>\n",
    "<br>\n",
    "N piazza v. kirkbride tyson, j., concurring in part, dissenting in part.<br>\n",
    "N souter, j., dissenting (cit<br>\n",
    "N r. justice martin dissenting. justice brady dissenting. a -- too early  (913 chars in, 80,000 char opinion)<br>\n",
    "N (greene, j. dissenting) - case citation<br>\n",
    "N . judge elmore dissenting. -- too early, 2400 chars in to 28,000 char opinion<br>\n",
    "N m. chief judge martin concurring in part and dissenting in part. - 2731 chars into 29,000 char opinion<br>\n",
    "N (hudson, j., dissenting) <br>\n",
    "N   1715 chars into 23,000 char opinion<br>\n",
    "------ never the (j., dissenting)<br>\n",
    "<br>\n",
    "Pseudocode:<br>\n",
    "IF ends with \"judges /2 and /2 concur.\" (not concurs) - there isn't a dissent (one of the two would be dissenting). <br>\n",
    "ELSE if after the first 3,000 chars, of the opinion:<br>\n",
    "    judge /4 (dissent*)<br>\n",
    "    \n",
    "#### Trimming-Dissents Function Creation and Revision\n",
    "Created the below function following the preceding review; ran the function and reviewed the trimmed opinions for correctness (i.e., was something more or less than a dissent trimmed from the opinion).  The function was updated to put (judge|justice) in parens and to make the verb \"dissents\" instead of the noun \"dissent\", which was pulling references to other dissents. \n"
   ]
  },
  {
   "cell_type": "code",
   "execution_count": 46,
   "metadata": {},
   "outputs": [],
   "source": [
    "def trim_dissents(opinion):\n",
    "    global trimmed_dissents\n",
    "    if re.search(\"(dissent)\", opinion):\n",
    "        if re.search(\"judges\\W+(?:\\w+\\W+){0,5}?concur\\b\", opinion):\n",
    "            return()  \n",
    "        else:\n",
    "            try:\n",
    "                y = re.search(\"(?:(judge|justice)\\W+(?:\\w+\\W+){0,6}?dissents)\", opinion[3000:])\n",
    "                cut_off_point = y.start()\n",
    "                opinion2 = opinion[:(cut_off_point+3000)]\n",
    "                trimmed_dissents += 1\n",
    "                return(opinion2)\n",
    "            except:\n",
    "                return(opinion)\n",
    "    else:\n",
    "        return(opinion)"
   ]
  },
  {
   "cell_type": "code",
   "execution_count": 47,
   "metadata": {},
   "outputs": [],
   "source": [
    "# Drop dissents\n",
    "trimmed_dissents = 0\n",
    "new_opinions = []\n",
    "for i in range(len(df.Opinion)):\n",
    "    x = trim_dissents(df.Opinion[i])\n",
    "    new_opinions.append(x)\n"
   ]
  },
  {
   "cell_type": "code",
   "execution_count": 48,
   "metadata": {},
   "outputs": [],
   "source": [
    "placeholder=pd.Series(new_opinions)\n",
    "df[\"Opinion_trimmed\"] = placeholder.values"
   ]
  },
  {
   "cell_type": "code",
   "execution_count": 49,
   "metadata": {},
   "outputs": [],
   "source": [
    "# Replate opinions with trimmed opinions\n",
    "df['Opinion'] = df['Opinion_trimmed']\n",
    "df.drop(['Opinion_trimmed'], axis=1, inplace=True)"
   ]
  },
  {
   "cell_type": "markdown",
   "metadata": {},
   "source": [
    "### 1. Creating a New Column for the File Numbers"
   ]
  },
  {
   "cell_type": "code",
   "execution_count": 50,
   "metadata": {},
   "outputs": [],
   "source": [
    "# capture file number into new column\n",
    "def coa(string_):\n",
    "    try:\n",
    "        pat_coa_number = re.search(\"no.? ?coa.? ?(\\d{2}-\\d{1,5})\",string_)\n",
    "        return pat_coa_number.group(1)\n",
    "    except:\n",
    "        return('00-000')"
   ]
  },
  {
   "cell_type": "code",
   "execution_count": 51,
   "metadata": {},
   "outputs": [
    {
     "data": {
      "text/plain": [
       "'20-112'"
      ]
     },
     "execution_count": 51,
     "metadata": {},
     "output_type": "execute_result"
    }
   ],
   "source": [
    "coa(df.Opinion[3921])"
   ]
  },
  {
   "cell_type": "code",
   "execution_count": 52,
   "metadata": {},
   "outputs": [],
   "source": [
    "coa_numbers = []\n",
    "for i in range(len(df.Opinion)):\n",
    "    x = coa(df.Opinion[i])\n",
    "    coa_numbers.append(x)\n",
    "    \n",
    "placeholder2=pd.Series(coa_numbers)\n",
    "df[\"File_Numbers\"] = placeholder2.values"
   ]
  },
  {
   "cell_type": "code",
   "execution_count": 53,
   "metadata": {},
   "outputs": [
    {
     "data": {
      "text/html": [
       "<div>\n",
       "<style scoped>\n",
       "    .dataframe tbody tr th:only-of-type {\n",
       "        vertical-align: middle;\n",
       "    }\n",
       "\n",
       "    .dataframe tbody tr th {\n",
       "        vertical-align: top;\n",
       "    }\n",
       "\n",
       "    .dataframe thead th {\n",
       "        text-align: right;\n",
       "    }\n",
       "</style>\n",
       "<table border=\"1\" class=\"dataframe\">\n",
       "  <thead>\n",
       "    <tr style=\"text-align: right;\">\n",
       "      <th></th>\n",
       "      <th>Opinion</th>\n",
       "      <th>File_Numbers</th>\n",
       "    </tr>\n",
       "  </thead>\n",
       "  <tbody>\n",
       "    <tr>\n",
       "      <td>0</td>\n",
       "      <td>an unpublished opinion of the north carolina ...</td>\n",
       "      <td>19-563</td>\n",
       "    </tr>\n",
       "    <tr>\n",
       "      <td>1</td>\n",
       "      <td>no. coa11-246 north carolina court of appeals ...</td>\n",
       "      <td>11-246</td>\n",
       "    </tr>\n",
       "    <tr>\n",
       "      <td>2</td>\n",
       "      <td>no. coa08-347 north carolina court of appeals ...</td>\n",
       "      <td>08-347</td>\n",
       "    </tr>\n",
       "    <tr>\n",
       "      <td>3</td>\n",
       "      <td>michael harrison gregory and wife, vivian greg...</td>\n",
       "      <td>05-885</td>\n",
       "    </tr>\n",
       "    <tr>\n",
       "      <td>4</td>\n",
       "      <td>atlantic contracting and material company, inc...</td>\n",
       "      <td>02-1087</td>\n",
       "    </tr>\n",
       "    <tr>\n",
       "      <td>5</td>\n",
       "      <td>an unpublished opinion of the north carolina c...</td>\n",
       "      <td>13-222</td>\n",
       "    </tr>\n",
       "    <tr>\n",
       "      <td>6</td>\n",
       "      <td>in the court of appeals of north carolina no....</td>\n",
       "      <td>17-112</td>\n",
       "    </tr>\n",
       "    <tr>\n",
       "      <td>7</td>\n",
       "      <td>in the court of appeals of north carolina no....</td>\n",
       "      <td>15-862</td>\n",
       "    </tr>\n",
       "    <tr>\n",
       "      <td>8</td>\n",
       "      <td>no. coa11-1447 north carolina court of appeal...</td>\n",
       "      <td>11-1447</td>\n",
       "    </tr>\n",
       "    <tr>\n",
       "      <td>9</td>\n",
       "      <td>an unpublished opinion of the north carolina c...</td>\n",
       "      <td>13-248</td>\n",
       "    </tr>\n",
       "  </tbody>\n",
       "</table>\n",
       "</div>"
      ],
      "text/plain": [
       "                                             Opinion File_Numbers\n",
       "0   an unpublished opinion of the north carolina ...       19-563\n",
       "1  no. coa11-246 north carolina court of appeals ...       11-246\n",
       "2  no. coa08-347 north carolina court of appeals ...       08-347\n",
       "3  michael harrison gregory and wife, vivian greg...       05-885\n",
       "4  atlantic contracting and material company, inc...      02-1087\n",
       "5  an unpublished opinion of the north carolina c...       13-222\n",
       "6   in the court of appeals of north carolina no....       17-112\n",
       "7   in the court of appeals of north carolina no....       15-862\n",
       "8   no. coa11-1447 north carolina court of appeal...      11-1447\n",
       "9  an unpublished opinion of the north carolina c...       13-248"
      ]
     },
     "execution_count": 53,
     "metadata": {},
     "output_type": "execute_result"
    }
   ],
   "source": [
    "df.head(10)"
   ]
  },
  {
   "cell_type": "markdown",
   "metadata": {},
   "source": [
    "### 2. Creating the Labels (Affirmed, Reversed, etc.)\n",
    "\n",
    "The labels were created using the regex patterns below. The ultimate fuction below was created over many iterations. Initially, there were approximately 300 errors; the model was tweaked to reduce errors while maintaining reliability. Ultimately, 25 rows were dropped as errors because the cases were not beneficial to the model (i.e., they did not include a relevant summary judgment decision, the opinion on summary judgment was entwined with other components, etc.); 454 \"affirmed-in-part\" rows were dropped since they're not the binary outcome needed; and 408 dismissals were dropped since they don't have a usable outcome.  "
   ]
  },
  {
   "cell_type": "markdown",
   "metadata": {},
   "source": [
    "#### A. Functions to Assign and Apply Labels to the DataFrame"
   ]
  },
  {
   "cell_type": "code",
   "execution_count": 54,
   "metadata": {},
   "outputs": [],
   "source": [
    "def labels(string_):\n",
    "    \"\"\"\n",
    "    This function will extract the outcome from a given string (opinion).\n",
    "    Each of the 'try' statements extracts the labels with decreasing \n",
    "    degrees of confidence (first by the one-word sentence, then within\n",
    "    10 words of the statement regarding concurrence, typically near the \n",
    "    end of the opinion; then clipping the last 150 chars. of the opinion \n",
    "    and looking for the associated label-words, and finally looking for \n",
    "    label-words within 5-10 words of the often-occurring phrase, 'for the\n",
    "    reasons set forth above').\n",
    "    \"\"\"\n",
    "    try:\n",
    "        try:\n",
    "            try:\n",
    "                try:  #this level has the highest confidence of getting an accurate label, based upon review of opinions (a single-word sentence)\n",
    "                    labels = re.search(\"\\.. ?(affirmed?)\\.|\\.?(reversed?)\\.|(affirmed in part)|\\.?(dismissed)\\.\",string_)\n",
    "                    x = labels.group(1)\n",
    "                    y = labels.group(2)\n",
    "                    z = labels.group(3)\n",
    "                    w = labels.group(4)\n",
    "                    not_none = [x,y,z]\n",
    "                    a = [i for i in not_none if i != None]\n",
    "                    return a[0]\n",
    "                except:  # slightly less confidence; looks for outcome word within 10 words of \"concur\", which frequently is at the end of a unanymous opinion\n",
    "                    labels = re.search(\"(?:concurs?\\W+(?:\\w+\\W+){0,40}?((affirmed in part)|reversed|affirmed|dismissed|no error|vacated)|((affirmed in part)|affirmed|reversed|dismissed|no error|vacated)\\W+(?:\\w+\\W+){0,40}?concurs?)\", string_)\n",
    "                    #print(\"Group 0:\", labels.group(0), \"\\nGroup 1:\", labels.group(1), \"\\nGroup 2:\", labels.group(2), \"\\nGroup 3:\", labels.group(3), \"\\nGroup 4:\", labels.group(4))\n",
    "                    x = labels2.group(1)\n",
    "                    y = labels2.group(2)\n",
    "                    z = labels2.group(3)\n",
    "                    w = labels2.group(4)\n",
    "                    not_none = [x,y,z,w]\n",
    "                    a = [i for i in not_none if i != None]\n",
    "                    #print(\"This is resulting list a:\", a)\n",
    "                    return a[0]\n",
    "            except: #slightly less confidence; if both of the previous methods fail, this clips the last 150 chars of the opinion for any of the outcome words\n",
    "                clip = string_[-150:]\n",
    "    #             print(clip)\n",
    "                labels3 = re.search(\"('affirmed in part'|reversed|affirmed|dismissed|'affirm in part'|affirm|reverse|dismiss|improvidently allowed)\",clip)\n",
    "                return labels3.group(0)\n",
    "        except: \n",
    "            labels4 = re.search(\"(?:reasons set forth?\\W+(?:\\w+\\W+){0,5}?((affirm in part)|reverse|affirm|dismiss|no error|vacated?)|((affirm in part)|affirm|reversed?|dismiss|no error|vacated?)\\W+(?:\\w+\\W+){0,10}?reasons set forth?)\", string_)\n",
    "            #print(\"Group 0:\", labels.group(0), \"\\nGroup 1:\", labels.group(1), \"\\nGroup 2:\", labels.group(2), \"\\nGroup 3:\", labels.group(3), \"\\nGroup 4:\", labels.group(4))\n",
    "            x = labels4.group(1)\n",
    "            y = labels4.group(2)\n",
    "            z = labels4.group(3)\n",
    "            w = labels4.group(4)\n",
    "            not_none = [x,y,z,w]\n",
    "            a = [i for i in not_none if i != None]\n",
    "            #print(\"This is resulting list a:\", a)\n",
    "            return a[0]\n",
    "    except:\n",
    "        return('error')"
   ]
  },
  {
   "cell_type": "code",
   "execution_count": 55,
   "metadata": {},
   "outputs": [
    {
     "data": {
      "text/plain": [
       "'affirmed'"
      ]
     },
     "execution_count": 55,
     "metadata": {},
     "output_type": "execute_result"
    }
   ],
   "source": [
    "# Test Cell \n",
    "labels(df.Opinion[2092])"
   ]
  },
  {
   "cell_type": "code",
   "execution_count": 56,
   "metadata": {},
   "outputs": [],
   "source": [
    "# Apply labels to the DataFrame\n",
    "labels_list = []\n",
    "for i in range(len(df.Opinion)):\n",
    "    x = labels(df.Opinion[i])\n",
    "    labels_list.append(x)\n",
    "    \n",
    "labels_series = pd.Series(labels_list)\n",
    "df[\"Result\"] = labels_series.values"
   ]
  },
  {
   "cell_type": "code",
   "execution_count": 57,
   "metadata": {},
   "outputs": [
    {
     "data": {
      "text/plain": [
       "affirmed                 2027\n",
       "reversed                  592\n",
       "affirmed in part          401\n",
       "dismissed                 235\n",
       "error                     214\n",
       "dismiss                   187\n",
       "reverse                   166\n",
       "affirm                     84\n",
       "improvidently allowed      14\n",
       "vacate                      1\n",
       "no error                    1\n",
       "Name: Result, dtype: int64"
      ]
     },
     "execution_count": 57,
     "metadata": {},
     "output_type": "execute_result"
    }
   ],
   "source": [
    "df.Result.value_counts()"
   ]
  },
  {
   "cell_type": "markdown",
   "metadata": {},
   "source": [
    "#### B. Combine Similar Terms and Drop Rows Irrelevant to the Outcome"
   ]
  },
  {
   "cell_type": "code",
   "execution_count": 58,
   "metadata": {},
   "outputs": [],
   "source": [
    "df['Result'].replace(['reverse','affirm', 'dismiss','no error', 'vacated', 'improvidently allowed'],\n",
    "                     ['reversed','affirmed','dismissed', 'affirmed', 'reversed', 'dismissed'], inplace=True)\n",
    "\n",
    "# The model will treat 'no error' as 'affirmed' and 'vacated' as 'reversed'"
   ]
  },
  {
   "cell_type": "code",
   "execution_count": 59,
   "metadata": {},
   "outputs": [
    {
     "data": {
      "text/plain": [
       "affirmed            2112\n",
       "reversed             758\n",
       "dismissed            436\n",
       "affirmed in part     401\n",
       "error                214\n",
       "vacate                 1\n",
       "Name: Result, dtype: int64"
      ]
     },
     "execution_count": 59,
     "metadata": {},
     "output_type": "execute_result"
    }
   ],
   "source": [
    "df.Result.value_counts()"
   ]
  },
  {
   "cell_type": "code",
   "execution_count": 60,
   "metadata": {},
   "outputs": [],
   "source": [
    "# Drop rows with 'error', 'dismissed', and 'affirmed in part' -- see section header, above\n",
    "drop_list1 = df.loc[df['Result'] == 'error']\n",
    "drop_list2 = df.loc[df['Result'] == 'affirmed in part']\n",
    "drop_list3 = df.loc[df['Result'] == 'dismissed']"
   ]
  },
  {
   "cell_type": "code",
   "execution_count": 61,
   "metadata": {},
   "outputs": [],
   "source": [
    "drop_list = list(drop_list1.index) + list(drop_list2.index) + list(drop_list3.index)"
   ]
  },
  {
   "cell_type": "code",
   "execution_count": 62,
   "metadata": {},
   "outputs": [],
   "source": [
    "df.drop(drop_list, axis=0, inplace=True)\n",
    "df.reset_index(drop=True, inplace=True)"
   ]
  },
  {
   "cell_type": "code",
   "execution_count": 63,
   "metadata": {
    "scrolled": true
   },
   "outputs": [
    {
     "data": {
      "text/plain": [
       "affirmed    2112\n",
       "reversed     758\n",
       "vacate         1\n",
       "Name: Result, dtype: int64"
      ]
     },
     "execution_count": 63,
     "metadata": {},
     "output_type": "execute_result"
    }
   ],
   "source": [
    "df.Result.value_counts()"
   ]
  },
  {
   "cell_type": "markdown",
   "metadata": {},
   "source": [
    "#### C. Ensure Labels Have the Same Effect Throughout the DataFrame (Substantial Right Appeals)"
   ]
  },
  {
   "cell_type": "code",
   "execution_count": 64,
   "metadata": {
    "scrolled": false
   },
   "outputs": [],
   "source": [
    "def substantial_right(string_):\n",
    "    \"\"\" \n",
    "    I have been treating the label \"affirm\" as affirming the grant \n",
    "    of a summary judgment motion, and \"reverse\" as reversing the grant \n",
    "    of the motion, because it is much more common for the court of appeals \n",
    "    to address GRANTS of summary judgment. Much more rarely, they will \n",
    "    review a motion denying summary judgment, and the above functions will \n",
    "    have the opposite label than intended. This function will take a string, \n",
    "    review whether it contains the key words \"substantial right,\" and then \n",
    "    analyze the language of the opinion to see if the opinion affirms or \n",
    "    reverses the DENIAL of summary judgment. If it does, it will return a\n",
    "    '1', and if not, a '0'. This can be used later as a switch to flip the \n",
    "    label assigned above.\n",
    "    \"\"\"\n",
    "    # Screen for the keword 'substantial right'\n",
    "    if string_.count(\"substantial right\") > 0:\n",
    "        x = re.search(\"(?:(affirm|reverse?)\\W+(?:\\w+\\W+){0,5}?denial)\", string_)\n",
    "        try:\n",
    "            x.group(0)\n",
    "            return(1)\n",
    "        except:\n",
    "            return(0)"
   ]
  },
  {
   "cell_type": "code",
   "execution_count": 65,
   "metadata": {},
   "outputs": [],
   "source": [
    "substantial_right_list = []\n",
    "for i in range(len(df.Opinion)):\n",
    "    x = substantial_right(df.Opinion[i])\n",
    "    substantial_right_list.append(x)\n",
    "\n",
    "x_series = pd.Series(substantial_right_list)\n",
    "df[\"sub_right\"] = x_series.values"
   ]
  },
  {
   "cell_type": "code",
   "execution_count": 66,
   "metadata": {},
   "outputs": [
    {
     "data": {
      "text/html": [
       "<div>\n",
       "<style scoped>\n",
       "    .dataframe tbody tr th:only-of-type {\n",
       "        vertical-align: middle;\n",
       "    }\n",
       "\n",
       "    .dataframe tbody tr th {\n",
       "        vertical-align: top;\n",
       "    }\n",
       "\n",
       "    .dataframe thead th {\n",
       "        text-align: right;\n",
       "    }\n",
       "</style>\n",
       "<table border=\"1\" class=\"dataframe\">\n",
       "  <thead>\n",
       "    <tr style=\"text-align: right;\">\n",
       "      <th></th>\n",
       "      <th>Opinion</th>\n",
       "      <th>File_Numbers</th>\n",
       "      <th>Result</th>\n",
       "      <th>sub_right</th>\n",
       "    </tr>\n",
       "  </thead>\n",
       "  <tbody>\n",
       "    <tr>\n",
       "      <td>342</td>\n",
       "      <td>estate of erik dominic williams, by and throug...</td>\n",
       "      <td>10-491</td>\n",
       "      <td>affirmed</td>\n",
       "      <td>1.0</td>\n",
       "    </tr>\n",
       "    <tr>\n",
       "      <td>363</td>\n",
       "      <td>no. coa11-1466 north carolina court of appeals...</td>\n",
       "      <td>11-1466</td>\n",
       "      <td>reversed</td>\n",
       "      <td>1.0</td>\n",
       "    </tr>\n",
       "    <tr>\n",
       "      <td>450</td>\n",
       "      <td>estate of vera hewett, et al, plaintiffs, v. c...</td>\n",
       "      <td>08-1071</td>\n",
       "      <td>reversed</td>\n",
       "      <td>1.0</td>\n",
       "    </tr>\n",
       "    <tr>\n",
       "      <td>615</td>\n",
       "      <td>james l. pierson, kathy l. pierson, lincoln m....</td>\n",
       "      <td>99-1333</td>\n",
       "      <td>affirmed</td>\n",
       "      <td>1.0</td>\n",
       "    </tr>\n",
       "    <tr>\n",
       "      <td>752</td>\n",
       "      <td>in the supreme court of north carolina no. 484...</td>\n",
       "      <td>00-000</td>\n",
       "      <td>reversed</td>\n",
       "      <td>1.0</td>\n",
       "    </tr>\n",
       "    <tr>\n",
       "      <td>781</td>\n",
       "      <td>mitchell, brewer, richardson, adams, burge &amp; b...</td>\n",
       "      <td>09-1020</td>\n",
       "      <td>reversed</td>\n",
       "      <td>1.0</td>\n",
       "    </tr>\n",
       "    <tr>\n",
       "      <td>886</td>\n",
       "      <td>nello l. teer company, inc., plaintiff, v. jon...</td>\n",
       "      <td>06-340</td>\n",
       "      <td>reversed</td>\n",
       "      <td>1.0</td>\n",
       "    </tr>\n",
       "    <tr>\n",
       "      <td>958</td>\n",
       "      <td>in the court of appeals of north carolina no....</td>\n",
       "      <td>16-908</td>\n",
       "      <td>reversed</td>\n",
       "      <td>1.0</td>\n",
       "    </tr>\n",
       "    <tr>\n",
       "      <td>978</td>\n",
       "      <td>an unpublished opinion of the north carolina c...</td>\n",
       "      <td>02-1610</td>\n",
       "      <td>affirmed</td>\n",
       "      <td>1.0</td>\n",
       "    </tr>\n",
       "    <tr>\n",
       "      <td>1001</td>\n",
       "      <td>wilson myers, administrator of the estate of t...</td>\n",
       "      <td>07-285</td>\n",
       "      <td>affirmed</td>\n",
       "      <td>1.0</td>\n",
       "    </tr>\n",
       "    <tr>\n",
       "      <td>1017</td>\n",
       "      <td>michael g. staley and melody h. staley, plaint...</td>\n",
       "      <td>98-1293</td>\n",
       "      <td>reversed</td>\n",
       "      <td>1.0</td>\n",
       "    </tr>\n",
       "    <tr>\n",
       "      <td>1156</td>\n",
       "      <td>tiber holding corporation, regis insurance com...</td>\n",
       "      <td>04-1184</td>\n",
       "      <td>affirmed</td>\n",
       "      <td>1.0</td>\n",
       "    </tr>\n",
       "    <tr>\n",
       "      <td>1223</td>\n",
       "      <td>lennie and bonnie hamby, plaintiffs, v. profil...</td>\n",
       "      <td>08-942</td>\n",
       "      <td>affirmed</td>\n",
       "      <td>1.0</td>\n",
       "    </tr>\n",
       "    <tr>\n",
       "      <td>1350</td>\n",
       "      <td>teresa h. satorre, sharon o. lee, theresa k. p...</td>\n",
       "      <td>03-648</td>\n",
       "      <td>reversed</td>\n",
       "      <td>1.0</td>\n",
       "    </tr>\n",
       "    <tr>\n",
       "      <td>1479</td>\n",
       "      <td>an unpublished opinion of the north carolina c...</td>\n",
       "      <td>14-811</td>\n",
       "      <td>affirmed</td>\n",
       "      <td>1.0</td>\n",
       "    </tr>\n",
       "    <tr>\n",
       "      <td>1564</td>\n",
       "      <td>no. coa02-423 north carolina court of appeals ...</td>\n",
       "      <td>02-423</td>\n",
       "      <td>reversed</td>\n",
       "      <td>1.0</td>\n",
       "    </tr>\n",
       "    <tr>\n",
       "      <td>1661</td>\n",
       "      <td>an unpublished opinion of the north carolina ...</td>\n",
       "      <td>18-1207</td>\n",
       "      <td>reversed</td>\n",
       "      <td>1.0</td>\n",
       "    </tr>\n",
       "    <tr>\n",
       "      <td>1672</td>\n",
       "      <td>jon-paul craig, by his mother and next friend,...</td>\n",
       "      <td>07-80</td>\n",
       "      <td>reversed</td>\n",
       "      <td>1.0</td>\n",
       "    </tr>\n",
       "    <tr>\n",
       "      <td>1722</td>\n",
       "      <td>in the court of appeals of north carolina no....</td>\n",
       "      <td>18-478</td>\n",
       "      <td>affirmed</td>\n",
       "      <td>1.0</td>\n",
       "    </tr>\n",
       "    <tr>\n",
       "      <td>1740</td>\n",
       "      <td>in the court of appeals of north carolina no....</td>\n",
       "      <td>16-776</td>\n",
       "      <td>reversed</td>\n",
       "      <td>1.0</td>\n",
       "    </tr>\n",
       "    <tr>\n",
       "      <td>1837</td>\n",
       "      <td>josephine williams, administratrix of the esta...</td>\n",
       "      <td>03-1624</td>\n",
       "      <td>affirmed</td>\n",
       "      <td>1.0</td>\n",
       "    </tr>\n",
       "    <tr>\n",
       "      <td>2007</td>\n",
       "      <td>keith brent vest v. michael f. easley, north c...</td>\n",
       "      <td>00-635</td>\n",
       "      <td>reversed</td>\n",
       "      <td>1.0</td>\n",
       "    </tr>\n",
       "    <tr>\n",
       "      <td>2040</td>\n",
       "      <td>in the court of appeals of north carolina no....</td>\n",
       "      <td>15-751</td>\n",
       "      <td>reversed</td>\n",
       "      <td>1.0</td>\n",
       "    </tr>\n",
       "    <tr>\n",
       "      <td>2125</td>\n",
       "      <td>thomas william hill, plaintiff, v. bobby medfo...</td>\n",
       "      <td>02-956</td>\n",
       "      <td>affirmed</td>\n",
       "      <td>1.0</td>\n",
       "    </tr>\n",
       "    <tr>\n",
       "      <td>2217</td>\n",
       "      <td>johnston health care center, l.l.c. petitioner...</td>\n",
       "      <td>99-129</td>\n",
       "      <td>affirmed</td>\n",
       "      <td>1.0</td>\n",
       "    </tr>\n",
       "    <tr>\n",
       "      <td>2480</td>\n",
       "      <td>anne h. craig v. the asheville city board of e...</td>\n",
       "      <td>00-175</td>\n",
       "      <td>affirmed</td>\n",
       "      <td>1.0</td>\n",
       "    </tr>\n",
       "    <tr>\n",
       "      <td>2535</td>\n",
       "      <td>an unpublished opinion of the north carolina c...</td>\n",
       "      <td>09-315</td>\n",
       "      <td>affirmed</td>\n",
       "      <td>1.0</td>\n",
       "    </tr>\n",
       "    <tr>\n",
       "      <td>2663</td>\n",
       "      <td>an unpublished opinion of the north carolina ...</td>\n",
       "      <td>18-197</td>\n",
       "      <td>reversed</td>\n",
       "      <td>1.0</td>\n",
       "    </tr>\n",
       "    <tr>\n",
       "      <td>2664</td>\n",
       "      <td>no. coa08-801 north carolina court of appeals ...</td>\n",
       "      <td>08-801</td>\n",
       "      <td>affirmed</td>\n",
       "      <td>1.0</td>\n",
       "    </tr>\n",
       "    <tr>\n",
       "      <td>2676</td>\n",
       "      <td>an unpublished opinion of the north carolina c...</td>\n",
       "      <td>12-1490</td>\n",
       "      <td>affirmed</td>\n",
       "      <td>1.0</td>\n",
       "    </tr>\n",
       "    <tr>\n",
       "      <td>2790</td>\n",
       "      <td>sherri b. blaylock, as guardian ad litem for h...</td>\n",
       "      <td>00-000</td>\n",
       "      <td>affirmed</td>\n",
       "      <td>1.0</td>\n",
       "    </tr>\n",
       "    <tr>\n",
       "      <td>2865</td>\n",
       "      <td>1 bruce-terminix co. v. zurich ins. co., 130 n...</td>\n",
       "      <td>07-1260</td>\n",
       "      <td>affirmed</td>\n",
       "      <td>1.0</td>\n",
       "    </tr>\n",
       "  </tbody>\n",
       "</table>\n",
       "</div>"
      ],
      "text/plain": [
       "                                                Opinion File_Numbers    Result  sub_right\n",
       "342   estate of erik dominic williams, by and throug...       10-491  affirmed        1.0\n",
       "363   no. coa11-1466 north carolina court of appeals...      11-1466  reversed        1.0\n",
       "450   estate of vera hewett, et al, plaintiffs, v. c...      08-1071  reversed        1.0\n",
       "615   james l. pierson, kathy l. pierson, lincoln m....      99-1333  affirmed        1.0\n",
       "752   in the supreme court of north carolina no. 484...       00-000  reversed        1.0\n",
       "781   mitchell, brewer, richardson, adams, burge & b...      09-1020  reversed        1.0\n",
       "886   nello l. teer company, inc., plaintiff, v. jon...       06-340  reversed        1.0\n",
       "958    in the court of appeals of north carolina no....       16-908  reversed        1.0\n",
       "978   an unpublished opinion of the north carolina c...      02-1610  affirmed        1.0\n",
       "1001  wilson myers, administrator of the estate of t...       07-285  affirmed        1.0\n",
       "1017  michael g. staley and melody h. staley, plaint...      98-1293  reversed        1.0\n",
       "1156  tiber holding corporation, regis insurance com...      04-1184  affirmed        1.0\n",
       "1223  lennie and bonnie hamby, plaintiffs, v. profil...       08-942  affirmed        1.0\n",
       "1350  teresa h. satorre, sharon o. lee, theresa k. p...       03-648  reversed        1.0\n",
       "1479  an unpublished opinion of the north carolina c...       14-811  affirmed        1.0\n",
       "1564  no. coa02-423 north carolina court of appeals ...       02-423  reversed        1.0\n",
       "1661   an unpublished opinion of the north carolina ...      18-1207  reversed        1.0\n",
       "1672  jon-paul craig, by his mother and next friend,...        07-80  reversed        1.0\n",
       "1722   in the court of appeals of north carolina no....       18-478  affirmed        1.0\n",
       "1740   in the court of appeals of north carolina no....       16-776  reversed        1.0\n",
       "1837  josephine williams, administratrix of the esta...      03-1624  affirmed        1.0\n",
       "2007  keith brent vest v. michael f. easley, north c...       00-635  reversed        1.0\n",
       "2040   in the court of appeals of north carolina no....       15-751  reversed        1.0\n",
       "2125  thomas william hill, plaintiff, v. bobby medfo...       02-956  affirmed        1.0\n",
       "2217  johnston health care center, l.l.c. petitioner...       99-129  affirmed        1.0\n",
       "2480  anne h. craig v. the asheville city board of e...       00-175  affirmed        1.0\n",
       "2535  an unpublished opinion of the north carolina c...       09-315  affirmed        1.0\n",
       "2663   an unpublished opinion of the north carolina ...       18-197  reversed        1.0\n",
       "2664  no. coa08-801 north carolina court of appeals ...       08-801  affirmed        1.0\n",
       "2676  an unpublished opinion of the north carolina c...      12-1490  affirmed        1.0\n",
       "2790  sherri b. blaylock, as guardian ad litem for h...       00-000  affirmed        1.0\n",
       "2865  1 bruce-terminix co. v. zurich ins. co., 130 n...      07-1260  affirmed        1.0"
      ]
     },
     "execution_count": 66,
     "metadata": {},
     "output_type": "execute_result"
    }
   ],
   "source": [
    "df.loc[df['sub_right'] == 1]"
   ]
  },
  {
   "cell_type": "markdown",
   "metadata": {},
   "source": [
    "Review of the foregoing cases had so many with mixed issues that it will probably be better to drop all rows. "
   ]
  },
  {
   "cell_type": "code",
   "execution_count": 88,
   "metadata": {},
   "outputs": [],
   "source": [
    "indexes_to_drop = df.index[df['sub_right'] == 1].tolist()\n",
    "df.drop(indexes_to_drop, inplace=True)"
   ]
  },
  {
   "cell_type": "markdown",
   "metadata": {},
   "source": [
    "### 3. Create Case-Type Feature By Sorting With Keywords\n",
    "\n",
    "I created a simple sorting function which takes a dictionary of case types with associated keywords, and then it generates a popularity count of the various keywords, returning the highest-ranking case type for a given opinion. The dictionary was revised over many iterations and reviews; for instance, some words were not unique, were misleading, or needed leading/trailing spaces. "
   ]
  },
  {
   "cell_type": "code",
   "execution_count": 29,
   "metadata": {},
   "outputs": [],
   "source": [
    "# This dictionary contains types of law with associated, typically unique keywords\n",
    "case_type_dict = {'premises':['premises', 'attractive nuisance', 'dangerous condition', 'slip and fall',\n",
    "                            'defective condition', 'dog bite'], \n",
    "                  'products':['negligently manufactured', 'negligent manufacture', 'negligently designed',\n",
    "                              'negligent design', 'manufacturing defect', 'products liability',\n",
    "                              'product liability', 'ordinary use'],\n",
    "                  'car_crash':['collision', 'vehicle', 'motorist'], \n",
    "                  'med_mal':['medical malpractice','health care profession', 'same or similar community', \n",
    "                             'rule 9(j)', 'rule 702(b)'], \n",
    "                  'contract':[' formation', 'recission', 'specific performance', 'incidental damages',\n",
    "                              'consequential damages', 'statute of frauds', 'complex business'], \n",
    "                  'family_law':['divorce', 'custody', 'maintenance', 'child support', 'separation agreement',\n",
    "                               'prenuptual', 'postnuptual', 'premarital', 'marital home'], \n",
    "                  'estates':['intestate', 'probate', 'revocable trust', 'irrevocable trust', 'testator',\n",
    "                             'holographic', 'residue', 'testate', 'partition and sale', 'undivided interest'], \n",
    "                  'landlord_tenant':['lease', 'landlord', 'security deposit', ' rent ', 'chapter 42'], \n",
    "                  'construction':['building defect', 'water intrusion', 'construction defect', 'building code'], \n",
    "                  'property':['easement', 'fee simple', 'tenants in common', 'joint tenants', 'nuisance', \n",
    "                             'eminent domain', 'escheat', 'replevin', 'zoning', 'mortgage', 'foreclosure'], \n",
    "                  'unfair_deceptive':['unfair and deceptive', 'chapter 75'],\n",
    "                  'defamation':['libel', 'slander', 'defamatory', 'defamation'],\n",
    "                  'governmental':['sovereign immunity', 'official capacity', 'governmental immunity'],\n",
    "                  'employment':['wrongful discharge', 'discrimination', 'retaliation', 'retaliatory',\n",
    "                                    'retaliatory employment discrimination act', 'discriminatory'],\n",
    "                  'wrongful_death':['wrongful death']}\n",
    "\n",
    "# 'dram_shop':['dram shop'] -- removed, only 2 that were not superseded by \"car crash\""
   ]
  },
  {
   "cell_type": "code",
   "execution_count": 30,
   "metadata": {},
   "outputs": [],
   "source": [
    "def case_type_sorter(dict_of_keywords, string):\n",
    "    \"\"\" \n",
    "    This function takes a dictionary of case types and associated \n",
    "    keywords, assigns points for the frequency of the keywords\n",
    "    of a given case type, and returns the case type with the highest\n",
    "    number of points, as well as a confidence measure.  The dict_of_keywords \n",
    "    should be a dictionary of case-type keys and keyword values; the string \n",
    "    should be a single string.\n",
    "    \"\"\"\n",
    "    counter_dict = {}\n",
    "\n",
    "    # Iterate through dictionary, counting frequency of each keyword in the string/Opinion\n",
    "    for key, values in dict_of_keywords.items():\n",
    "        counter_dict[key] = 0\n",
    "        for value in values:\n",
    "            count = string.count(value)\n",
    "            existing_count = counter_dict[key]\n",
    "            counter_dict[key] = count + existing_count\n",
    "    \n",
    "    # Get total points for all keywords\n",
    "    values = counter_dict.values()\n",
    "    total_count = sum(values)\n",
    "    \n",
    "    # Ensure that if no case_types are matched, the type returned is 'other'\n",
    "    if total_count > 0:\n",
    "        likely_case_type = max(counter_dict.items(), key=operator.itemgetter(1))[0]\n",
    "    else:\n",
    "        likely_case_type = 'other'\n",
    "    \n",
    "    # Return a confidence ratio (points of most likely type / all points )\n",
    "    try:\n",
    "        confidence = str(round((counter_dict[likely_case_type]/total_count)*100,2))+'%'\n",
    "    except:\n",
    "        confidence = 'n/a'\n",
    "    \n",
    "    return likely_case_type, confidence"
   ]
  },
  {
   "cell_type": "code",
   "execution_count": 31,
   "metadata": {},
   "outputs": [],
   "source": [
    "# Copy of the above function for case-by-case review\n",
    "def case_type_test_sorter(dict_of_keywords, string):\n",
    "    \"\"\" \n",
    "    This is a copy of the case_type_sorter function for case-by-case review\n",
    "    \"\"\"\n",
    "    counter_dict = {}\n",
    "\n",
    "    # Iterate through dictionary, counting frequency of each keyword in the string/Opinion\n",
    "    for key, values in dict_of_keywords.items():\n",
    "        counter_dict[key] = 0\n",
    "        for value in values:\n",
    "            count = string.count(value)\n",
    "            existing_count = counter_dict[key]\n",
    "            counter_dict[key] = count + existing_count\n",
    "            \n",
    "    return counter_dict"
   ]
  },
  {
   "cell_type": "code",
   "execution_count": 32,
   "metadata": {},
   "outputs": [],
   "source": [
    "# Apply case_type and confidence level columns to the DataFrame\n",
    "\n",
    "case_type_list = []\n",
    "case_type_confidence = []\n",
    "for i in range(len(df.Opinion)):\n",
    "    y,z = case_type_sorter(case_type_dict, df.Opinion[i])\n",
    "    case_type_list.append(y)\n",
    "    case_type_confidence.append(z)\n",
    "\n",
    "case_type_series = pd.Series(case_type_list)\n",
    "case_confidence_series = pd.Series(case_type_confidence)\n",
    "df[\"Case_Type\"] = case_type_series.values\n",
    "df[\"Case_Type_Confidence\"] = case_confidence_series.values"
   ]
  },
  {
   "cell_type": "code",
   "execution_count": 33,
   "metadata": {
    "scrolled": true
   },
   "outputs": [
    {
     "data": {
      "text/html": [
       "<div>\n",
       "<style scoped>\n",
       "    .dataframe tbody tr th:only-of-type {\n",
       "        vertical-align: middle;\n",
       "    }\n",
       "\n",
       "    .dataframe tbody tr th {\n",
       "        vertical-align: top;\n",
       "    }\n",
       "\n",
       "    .dataframe thead th {\n",
       "        text-align: right;\n",
       "    }\n",
       "</style>\n",
       "<table border=\"1\" class=\"dataframe\">\n",
       "  <thead>\n",
       "    <tr style=\"text-align: right;\">\n",
       "      <th></th>\n",
       "      <th>Opinion</th>\n",
       "      <th>File_Numbers</th>\n",
       "      <th>Result</th>\n",
       "      <th>sub_right</th>\n",
       "      <th>Case_Type</th>\n",
       "      <th>Case_Type_Confidence</th>\n",
       "    </tr>\n",
       "  </thead>\n",
       "  <tbody>\n",
       "    <tr>\n",
       "      <td>980</td>\n",
       "      <td>an unpublished opinion of the north carolina c...</td>\n",
       "      <td>06-1289</td>\n",
       "      <td>affirmed</td>\n",
       "      <td>NaN</td>\n",
       "      <td>other</td>\n",
       "      <td>n/a</td>\n",
       "    </tr>\n",
       "    <tr>\n",
       "      <td>2498</td>\n",
       "      <td>no. coa01-394 north carolina court of appeals ...</td>\n",
       "      <td>01-394</td>\n",
       "      <td>reversed</td>\n",
       "      <td>NaN</td>\n",
       "      <td>unfair_deceptive</td>\n",
       "      <td>87.5%</td>\n",
       "    </tr>\n",
       "    <tr>\n",
       "      <td>1248</td>\n",
       "      <td>wendell justin williamson, plaintiff v. myron ...</td>\n",
       "      <td>99-813</td>\n",
       "      <td>reversed</td>\n",
       "      <td>NaN</td>\n",
       "      <td>car_crash</td>\n",
       "      <td>80.0%</td>\n",
       "    </tr>\n",
       "    <tr>\n",
       "      <td>1156</td>\n",
       "      <td>tiber holding corporation, regis insurance com...</td>\n",
       "      <td>04-1184</td>\n",
       "      <td>affirmed</td>\n",
       "      <td>1.0</td>\n",
       "      <td>other</td>\n",
       "      <td>n/a</td>\n",
       "    </tr>\n",
       "    <tr>\n",
       "      <td>1717</td>\n",
       "      <td>no. coa01-277 north carolina court of appeals ...</td>\n",
       "      <td>01-277</td>\n",
       "      <td>affirmed</td>\n",
       "      <td>NaN</td>\n",
       "      <td>unfair_deceptive</td>\n",
       "      <td>100.0%</td>\n",
       "    </tr>\n",
       "    <tr>\n",
       "      <td>227</td>\n",
       "      <td>an unpublished opinion of the north carolina c...</td>\n",
       "      <td>10-842</td>\n",
       "      <td>affirmed</td>\n",
       "      <td>0.0</td>\n",
       "      <td>other</td>\n",
       "      <td>n/a</td>\n",
       "    </tr>\n",
       "    <tr>\n",
       "      <td>2157</td>\n",
       "      <td>annie mitchell reid, and james donald reid, pl...</td>\n",
       "      <td>99-489</td>\n",
       "      <td>reversed</td>\n",
       "      <td>0.0</td>\n",
       "      <td>governmental</td>\n",
       "      <td>82.61%</td>\n",
       "    </tr>\n",
       "    <tr>\n",
       "      <td>23</td>\n",
       "      <td>an unpublished opinion of the north carolina c...</td>\n",
       "      <td>04-182</td>\n",
       "      <td>affirmed</td>\n",
       "      <td>NaN</td>\n",
       "      <td>other</td>\n",
       "      <td>n/a</td>\n",
       "    </tr>\n",
       "    <tr>\n",
       "      <td>2068</td>\n",
       "      <td>in the court of appeals of north carolina no....</td>\n",
       "      <td>17-233</td>\n",
       "      <td>affirmed</td>\n",
       "      <td>NaN</td>\n",
       "      <td>car_crash</td>\n",
       "      <td>75.0%</td>\n",
       "    </tr>\n",
       "    <tr>\n",
       "      <td>1960</td>\n",
       "      <td>an unpublished opinion of the north carolina c...</td>\n",
       "      <td>09-230</td>\n",
       "      <td>affirmed</td>\n",
       "      <td>NaN</td>\n",
       "      <td>family_law</td>\n",
       "      <td>100.0%</td>\n",
       "    </tr>\n",
       "  </tbody>\n",
       "</table>\n",
       "</div>"
      ],
      "text/plain": [
       "                                                Opinion File_Numbers    Result  sub_right  \\\n",
       "980   an unpublished opinion of the north carolina c...      06-1289  affirmed        NaN   \n",
       "2498  no. coa01-394 north carolina court of appeals ...       01-394  reversed        NaN   \n",
       "1248  wendell justin williamson, plaintiff v. myron ...       99-813  reversed        NaN   \n",
       "1156  tiber holding corporation, regis insurance com...      04-1184  affirmed        1.0   \n",
       "1717  no. coa01-277 north carolina court of appeals ...       01-277  affirmed        NaN   \n",
       "227   an unpublished opinion of the north carolina c...       10-842  affirmed        0.0   \n",
       "2157  annie mitchell reid, and james donald reid, pl...       99-489  reversed        0.0   \n",
       "23    an unpublished opinion of the north carolina c...       04-182  affirmed        NaN   \n",
       "2068   in the court of appeals of north carolina no....       17-233  affirmed        NaN   \n",
       "1960  an unpublished opinion of the north carolina c...       09-230  affirmed        NaN   \n",
       "\n",
       "             Case_Type Case_Type_Confidence  \n",
       "980              other                  n/a  \n",
       "2498  unfair_deceptive                87.5%  \n",
       "1248         car_crash                80.0%  \n",
       "1156             other                  n/a  \n",
       "1717  unfair_deceptive               100.0%  \n",
       "227              other                  n/a  \n",
       "2157      governmental               82.61%  \n",
       "23               other                  n/a  \n",
       "2068         car_crash                75.0%  \n",
       "1960        family_law               100.0%  "
      ]
     },
     "execution_count": 33,
     "metadata": {},
     "output_type": "execute_result"
    }
   ],
   "source": [
    "df.sample(10)"
   ]
  },
  {
   "cell_type": "code",
   "execution_count": 34,
   "metadata": {},
   "outputs": [
    {
     "name": "stdout",
     "output_type": "stream",
     "text": [
      "Index to Test:0\n",
      "('property', '100.0%') \n",
      "\n",
      " {'premises': 0, 'products': 0, 'car_crash': 0, 'med_mal': 0, 'contract': 0, 'family_law': 0, 'estates': 0, 'landlord_tenant': 0, 'construction': 0, 'property': 11, 'unfair_deceptive': 0, 'defamation': 0, 'governmental': 0, 'employment': 0, 'wrongful_death': 0} \n",
      "\n",
      "  an unpublished opinion of the north carolina court of appeals does not constitute controlling legal authority. citation is disfavored, but may be permitted in accordance with the provisions of rule 30(e)(3) of the north carolina rules of appellate procedure. in the court of appeals of north carolina no. coa 19-563 filed: 4 february 2020 mecklenburg county, no. 17 cvs 23389 b.v. belk, jr., plaintiff, v. vrs magnolia plaza, llc, defendant. appeal by plaintiff from judgment entered 31 december 2018 by judge karen eady-williams in mecklenburg county superior court. heard in the court of appeals 7 january 2020. james w. surane and leslie rawls, for plaintiff-appellant. martineau king, pllc, and wong fleming, by l. kristin king and daniel c. fleming, for defendant-appellee. young, judge. this appeal arises out of defendant’s use of a water drainage system, which caused runoff onto plaintiff’s property. the trial court correctly determined that defendant is entitled to an easement implied by prior use in the pond, and the trial court did not err in granting summary judgment in favor of defendant. therefore, we affirm. belk v. vrs magnolia plaza, llc opinion of the court i. factual and procedural history in december 1986, b. v. belk (“plaintiff”) acquired 107 acres of undeveloped property located in mecklenburg county (“the property”). conbraco industries, inc. (“conbraco”) was a grantee in this purchase, but plaintiff always managed the property. in may 1987, plaintiff and conbraco conveyed the property to magnolia estates, a joint venture composed of plaintiff and conbraco. plaintiff was the managing member and controlling partner of the joint venture. in 1987, plaintiff subdivided the property, constructed a roadway and began building residential homes. the subdivision created two adjacent parcels separated by the road. the northern parcel (“magnolia parcel”) is now owned by vrs magnolia plaza, lcc (“defendant”), and the southern parcel (“belk parcel”) is now owned by plaintiff. in december 1987, plaintiff dedicated the road to the town, and it was accepted as a public road. in 1988, the town and the county approved plaintiff’s construction plans to develop a shopping center called “magnolia plaza” on the magnolia parcel. in accordance with plaintiff’s plans, commercial structures and underground stormwater drainage systems were built on the magnolia parcel. this included a drainage pond (“the pond”), constructed on the belk parcel, designed to address water runoff from land north and south of the road. plaintiff had a pipe constructed - 2 - belk v. vrs magnolia plaza, llc opinion of the court underneath the road to carry the water that drained from magnolia parcel to the pond. in 2012, hepmag, llc (“hepmag”) purchased magnolia parcel from plaintiff. hepmag acted with due diligence by completing surveying and mapping of the property. there did not appear to be any “existing or identified easements or reservations of ownership in the right-of-way, or any of the stormwater piping,” nor “any record of a private ownership interest in the storm water system underneath [the road] into which the surface stormwater from the magnolia [parcel] drains.” the plans were approved by the town and county. the redevelopment did not impact the existing stormwater system outfall which received runoff from the magnolia parcel, rather it “maintained the same inlets and the same pipes receiving the stormwater as it had existed in the original development[].” it is undisputed that the surface water from magnolia parcel continued to drain to the underground drainage system and into the public right-of-way in the same manner it did during plaintiff’s ownership of the property. in august 2015, defendant acquired magnolia parcel from hepmag. defendant did not design or construct any improvements on magnolia parcel, did not make any changes to the existing shopping center or parking lot areas, nor did he alter the surface water management systems. - 3 - belk v. vrs magnolia plaza, llc opinion of the court on 22 december 2017, plaintiff filed a complaint against defendant for trespass, nuisance, and negligence, based on water runoff onto plaintiff’s property from defendant’s shopping center. plaintiff sought injunctive and compensatory relief. both parties moved for summary judgment. the trial court granted defendant’s motion for summary judgment and ordered easement by prior use. plaintiff’s motion for summary judgment was denied, and plaintiff filed timely written notice of appeal. ii. standard of review “our standard of review of an appeal from summary judgment is de novo; such judgment is appropriate only when the record shows that ‘there is no genuine issue as to any material fact and that any party is entitled to a judgment as a matter of law.’” in re will of jones, 362 n.c. 569, 573, 669 s.e.2d 572, 576(2008) (quoting forbis v. neal, 361 n.c. 519, 523-24, 649 s.e.2d 382, 385 (2007)). iii. implied easement plaintiff contends that the trial court erred by declaring an implied easement by prior use in favor of defendant. we disagree. to establish an easement implied by prior use, plaintiffs must prove that: (1) there was a common ownership of the dominant and servient parcels of land and a subsequent transfer separated that ownership; (2) before the transfer, the owner used part of the tract for the benefit of the other part, and that this use was apparent, continuous and permanent; and (3) the claimed easement is necessary to the use and enjoyment of plaintiffs’ land. - 4 - belk v. vrs magnolia plaza, llc opinion of the court metts v. turner, 149 n.c. app. 844, 849, 561 s.e.2d 345, 348 (2002). the belk parcel and magnolia parcel were under plaintiff’s common ownership since his purchase of the property in 1986 until he conveyed the magnolia parcel to hepmag in 2013. plaintiff testified that from the purchase of the property in 1986 until the sale of the magnolia parcel to hepmag, he had “always been in charge” of managing and developing the property, and has been in control of the property “since [he and conbraco] bought it.” although plaintiff, conbraco, magnolia estates, plaintiff’s wife, and bvb-nc were record owners of the belk parcel, magnolia parcel, or both parcels at different times during this twenty-seven-year period, both parcels always remained under plaintiff’s complete management and control. contrary to plaintiff’s argument on appeal, “common ownership” does not strictly mean that different parcels were owned by the same exact individuals or entities at the same exact time. see restatement (third) of property: servitudes § 2.12 cmt. c (2000) (“if the prior use is made while two or more parcels have some, but not all, owners in common, implication of a servitude depends on the circumstances.”) therefore, there was a common ownership of the dominant and servient parcels of land and a subsequent transfer separated that ownership. before the transfer, plaintiff used the magnolia parcel for the benefit of the belk parcel, and that use was apparent, continuous, and permanent. plaintiff constructed the pond on the belk parcel in 1988 to drain the surface water from the - 5 - belk v. vrs magnolia plaza, llc opinion of the court magnolia parcel. the drainage on the property is still used in the same manner today. this use was apparent because it was plaintiff who had the pond constructed for the purpose of draining the surface water. the use was continuous because the pond has been in use for twenty-five years, and the use was permanent because it was specifically designed to address water runoff from the magnolia property. plaintiff testified that when he originally built the shopping center, it required the use of the pond, this was a part of plaintiff’s planned development, and he contemplated that all the subdivided parcels would use the pond for storm water drainage. lastly, the easement is necessary for the use and enjoyment of the land. the easement “is necessary if it is reasonably necessary to the full and fair use of the property.” mcgee v. mcgee, 32 n.c. app. 726, 728, 233 s.e.2d 675, 676 (1977). defendant’s expert engineer stated in an affidavit that the pond is a “critical infrastructure component of the stormwater system for magnolia plaza and has been for thirty (30) years,” and “[i]f the pond was not in place . . . , there would be a much higher risk of flooding of the residences adjacent to the creek channel downstream.” in addition, it would be unreasonable to require defendant to reconstruct a new drainage system where the current system is fully functional and has existed for nearly three decades. the evidence shows the pond was under common ownership from 1986 to 2013; - 6 - belk v. vrs magnolia plaza, llc opinion of the court plaintiff began utilizing the pond for the benefit of the magnolia parcel in 1988, intended for this use to be permanent, and continued to use the pond in the same manner until he sold the property to hepmag; and the continued use of the pond by defendant is reasonably necessary. therefore, the trial court correctly determined that defendant is entitled to an easement implied by prior use in the pond. iv. summary judgment plaintiff contends that the trial court erred in granting defendant’s motion for summary judgment. we disagree. there are no genuine issues of material fact that precludes summary judgment in favor of defendant. plaintiff has made no viable claim against defendant, because plaintiff has not shown that he owns the property at issue. the water drains directly into the public system via the pipe, and the pipe belongs to the town. since there is no evidence that plaintiff has any ownership in the pipe, there are no genuine issues of material fact. accordingly, the trial court did not err in granting summary judgment in favor of defendant. affirmed. judges mcgee and dietz concur. report per rule 30(e). - 7 - \n"
     ]
    }
   ],
   "source": [
    "# Test function to review cases and diagnose issues (ultimately to update the case_type_dict)\n",
    "test_cell = int(input(\"Index to Test:\"))\n",
    "print(case_type_sorter(case_type_dict, df.Opinion[test_cell]),\n",
    "      '\\n\\n', case_type_test_sorter(case_type_dict, df.Opinion[test_cell]),\n",
    "      '\\n\\n', df.Opinion[test_cell])"
   ]
  },
  {
   "cell_type": "code",
   "execution_count": 35,
   "metadata": {},
   "outputs": [
    {
     "data": {
      "text/plain": [
       "other               436\n",
       "property            397\n",
       "car_crash           380\n",
       "landlord_tenant     359\n",
       "family_law          276\n",
       "governmental        185\n",
       "unfair_deceptive    161\n",
       "premises            160\n",
       "contract            103\n",
       "employment           93\n",
       "med_mal              92\n",
       "estates              88\n",
       "defamation           60\n",
       "wrongful_death       31\n",
       "construction         26\n",
       "products             24\n",
       "Name: Case_Type, dtype: int64"
      ]
     },
     "execution_count": 35,
     "metadata": {},
     "output_type": "execute_result"
    }
   ],
   "source": [
    "df.Case_Type.value_counts()"
   ]
  },
  {
   "cell_type": "code",
   "execution_count": 36,
   "metadata": {},
   "outputs": [
    {
     "data": {
      "text/plain": [
       "477"
      ]
     },
     "execution_count": 36,
     "metadata": {},
     "output_type": "execute_result"
    }
   ],
   "source": [
    "len(\"  an unpublished opinion of the north carolina court of appeals does not constitute controlling legal authority. citation is disfavored, but may be permitted in accordance with the provisions of rule 30(e)(3) of the north carolina rules of appellate procedure. in the court of appeals of north carolina no. coa 19-563 filed: 4 february 2020 mecklenburg county, no. 17 cvs 23389 b.v. belk, jr., plaintiff, v. vrs magnolia plaza, llc, defendant. appeal by plaintiff from judgment\")"
   ]
  },
  {
   "cell_type": "code",
   "execution_count": null,
   "metadata": {},
   "outputs": [],
   "source": []
  },
  {
   "cell_type": "code",
   "execution_count": null,
   "metadata": {},
   "outputs": [],
   "source": []
  },
  {
   "cell_type": "markdown",
   "metadata": {},
   "source": [
    "## 4.  Extract Feature: Trial-Court Judge"
   ]
  },
  {
   "cell_type": "code",
   "execution_count": null,
   "metadata": {},
   "outputs": [],
   "source": []
  },
  {
   "cell_type": "code",
   "execution_count": null,
   "metadata": {},
   "outputs": [],
   "source": []
  },
  {
   "cell_type": "code",
   "execution_count": null,
   "metadata": {},
   "outputs": [],
   "source": []
  },
  {
   "cell_type": "code",
   "execution_count": null,
   "metadata": {},
   "outputs": [],
   "source": []
  },
  {
   "cell_type": "markdown",
   "metadata": {},
   "source": [
    "## 5. Extract Feature: County"
   ]
  },
  {
   "cell_type": "code",
   "execution_count": 144,
   "metadata": {},
   "outputs": [],
   "source": [
    "def extract_county(text):\n",
    "    try:\n",
    "        county = re.search(\"((\\w*) county)\",text[:700])\n",
    "        return county.group(2)\n",
    "    except:\n",
    "        return(None)"
   ]
  },
  {
   "cell_type": "code",
   "execution_count": 145,
   "metadata": {},
   "outputs": [
    {
     "data": {
      "text/plain": [
       "'mecklenburg'"
      ]
     },
     "execution_count": 145,
     "metadata": {},
     "output_type": "execute_result"
    }
   ],
   "source": [
    "extract_county(df.Opinion[200])"
   ]
  },
  {
   "cell_type": "code",
   "execution_count": 146,
   "metadata": {},
   "outputs": [],
   "source": [
    "county_list = []\n",
    "for i in range(len(df.Opinion)):\n",
    "    x = extract_county(df.Opinion[i])\n",
    "    county_list.append(x)\n",
    "    \n",
    "placeholder3=pd.Series(county_list)\n",
    "df[\"County\"] = placeholder3.values"
   ]
  },
  {
   "cell_type": "markdown",
   "metadata": {},
   "source": [
    "# Work through list below - resolve \"None\" and wrong counties"
   ]
  },
  {
   "cell_type": "code",
   "execution_count": 147,
   "metadata": {},
   "outputs": [
    {
     "name": "stdout",
     "output_type": "stream",
     "text": [
      "wake            283\n",
      "mecklenburg     194\n",
      "guilford        130\n",
      "durham           85\n",
      "forsyth          84\n",
      "hanover          82\n",
      "buncombe         64\n",
      "cumberland       49\n",
      "carteret         38\n",
      "orange           36\n",
      "johnston         35\n",
      "gaston           35\n",
      "iredell          35\n",
      "union            32\n",
      "brunswick        31\n",
      "dare             27\n",
      "henderson        26\n",
      "cabarrus         26\n",
      "catawba          25\n",
      "watauga          24\n",
      "nash             23\n",
      "harnett          22\n",
      "onslow           22\n",
      "pitt             22\n",
      "davidson         21\n",
      "haywood          19\n",
      "craven           18\n",
      "rowan            18\n",
      "                 16\n",
      "beaufort         16\n",
      "alamance         16\n",
      "randolph         16\n",
      "pasquotank       15\n",
      "lee              15\n",
      "columbus         14\n",
      "halifax          14\n",
      "moore            14\n",
      "wayne            14\n",
      "surry            13\n",
      "caldwell         13\n",
      "chatham          13\n",
      "cleveland        12\n",
      "robeson          12\n",
      "lincoln          11\n",
      "currituck        11\n",
      "stanly           11\n",
      "duplin           11\n",
      "macon            11\n",
      "transylvania     11\n",
      "pender           11\n",
      "franklin         11\n",
      "rutherford       11\n",
      "vance            10\n",
      "wilson           10\n",
      "jackson          10\n",
      "the              10\n",
      "scotland          9\n",
      "burke             9\n",
      "wilkes            9\n",
      "rockingham        8\n",
      "richmond          8\n",
      "edgecombe         8\n",
      "lenoir            8\n",
      "polk              8\n",
      "granville         6\n",
      "montgomery        6\n",
      "sampson           6\n",
      "person            6\n",
      "mcdowell          6\n",
      "avery             5\n",
      "swain             5\n",
      "caswell           5\n",
      "madison           5\n",
      "pamlico           5\n",
      "bladen            5\n",
      "cherokee          5\n",
      "hoke              5\n",
      "ashe              4\n",
      "stokes            4\n",
      "anson             4\n",
      "greene            4\n",
      "yadkin            4\n",
      "alexander         3\n",
      "washington        3\n",
      "jones             3\n",
      "yancey            3\n",
      "perquimans        3\n",
      "davie             3\n",
      "graham            3\n",
      "chowan            2\n",
      "mitchell          2\n",
      "hertford          2\n",
      "alleghany         2\n",
      "and               2\n",
      "of                1\n",
      "mount             1\n",
      "rabun             1\n",
      "2007              1\n",
      "gates             1\n",
      "petitioner        1\n",
      "as                1\n",
      "state             1\n",
      "northampton       1\n",
      "martin            1\n",
      "adjacent          1\n",
      "a                 1\n",
      "proper            1\n",
      "four              1\n",
      "bertie            1\n",
      "hyde              1\n",
      "pasquotank1       1\n",
      "camden            1\n",
      "Name: County, dtype: int64\n"
     ]
    }
   ],
   "source": [
    "list = df.County.value_counts()\n",
    "print(list)"
   ]
  },
  {
   "cell_type": "markdown",
   "metadata": {},
   "source": [
    "## 6. Topic Modeling to Extract Features"
   ]
  },
  {
   "cell_type": "code",
   "execution_count": null,
   "metadata": {},
   "outputs": [],
   "source": []
  },
  {
   "cell_type": "code",
   "execution_count": null,
   "metadata": {},
   "outputs": [],
   "source": []
  },
  {
   "cell_type": "code",
   "execution_count": null,
   "metadata": {},
   "outputs": [],
   "source": []
  },
  {
   "cell_type": "markdown",
   "metadata": {},
   "source": [
    "## 7. EDA Visualizations"
   ]
  },
  {
   "cell_type": "markdown",
   "metadata": {},
   "source": [
    "### A. MSJ Allowed/Reversed Over Time"
   ]
  },
  {
   "cell_type": "code",
   "execution_count": null,
   "metadata": {},
   "outputs": [],
   "source": []
  },
  {
   "cell_type": "code",
   "execution_count": null,
   "metadata": {},
   "outputs": [],
   "source": []
  },
  {
   "cell_type": "markdown",
   "metadata": {},
   "source": [
    "### B. MSJ by Case Type"
   ]
  },
  {
   "cell_type": "code",
   "execution_count": null,
   "metadata": {},
   "outputs": [],
   "source": []
  },
  {
   "cell_type": "code",
   "execution_count": null,
   "metadata": {},
   "outputs": [],
   "source": []
  }
 ],
 "metadata": {
  "kernelspec": {
   "display_name": "Python 3",
   "language": "python",
   "name": "python3"
  },
  "language_info": {
   "codemirror_mode": {
    "name": "ipython",
    "version": 3
   },
   "file_extension": ".py",
   "mimetype": "text/x-python",
   "name": "python",
   "nbconvert_exporter": "python",
   "pygments_lexer": "ipython3",
   "version": "3.6.9"
  }
 },
 "nbformat": 4,
 "nbformat_minor": 2
}
