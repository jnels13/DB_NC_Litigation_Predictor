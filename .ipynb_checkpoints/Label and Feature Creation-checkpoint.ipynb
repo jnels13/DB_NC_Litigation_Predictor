{
 "cells": [
  {
   "cell_type": "markdown",
   "metadata": {},
   "source": [
    "# Label and Feature Creation\n",
    "In this notebook, I will import the single-column DataFrame of appellate opinions and create columns with labels and features. \n",
    "## TO DO:\n",
    "<ul>\n",
    "<li>0. Import Libraries \n",
    "<li>1. Clean up opinions - DONE\n",
    "<ul><li>A. Remove page numbers from opinions\n",
    "    <li>B. Remove Supreme Court case\n",
    "    <li>C. Drop Dissents \n",
    "    </ul>\n",
    "<li>2. Add file numbers - DONE \n",
    "<li>3. Create Labels section - DONE\n",
    "<ul><li>A. Create function and apply to DataFrame \n",
    "<li>B. Clean up, combine, and drop columns\n",
    "    <li>C: Address reversing-denials or affirming-denials </ul>\n",
    "<li>4. Create case-type column -- DONE\n",
    "<li>5. Extract Trial Court Judge -- PICK UP HERE -- CONTINUE REFINING JUDGE FUNCTION!!!!!!!!! - then drop\n",
    "<li>6. Extract County -- NEED TO FIX \"NONES\" AND WRONG WORDS\n",
    "<li>7. Topic Modeling Features - TBD\n",
    "<li>8. EDA Visualizations - TBD\n",
    "</ul>\n",
    "\n",
    "1052 rows dropped for not fitting the affirmed/reversed criteria (errors, affirmed in part, appeals dismissed, etc.)<br>\n",
    "38 rows dropped for not conforming to a reasonable case type or being too short to have a reasonable effect.<br>\n",
    "84 rows dropped from the Supreme Court, reviewing underlying decisions (lacking the features of court of appeals cases)"
   ]
  },
  {
   "cell_type": "markdown",
   "metadata": {},
   "source": [
    "## 0. Import Libraries and DataFrame"
   ]
  },
  {
   "cell_type": "code",
   "execution_count": 105,
   "metadata": {},
   "outputs": [],
   "source": [
    "import io\n",
    "import re\n",
    "import pandas as pd\n",
    "import pickle\n",
    "import operator\n",
    "\n",
    "pd.set_option('display.max_rows', 300)\n",
    "pd.set_option('display.max_columns', 100)\n",
    "pd.set_option('display.width', 100)"
   ]
  },
  {
   "cell_type": "code",
   "execution_count": 106,
   "metadata": {},
   "outputs": [],
   "source": [
    "# Open the dataframe\n",
    "infile = open('ProjectData/df_clean.data', 'rb')\n",
    "df = pickle.load(infile)\n",
    "infile.close()"
   ]
  },
  {
   "cell_type": "code",
   "execution_count": 107,
   "metadata": {},
   "outputs": [],
   "source": [
    "df.reset_index(inplace=True, drop=True)"
   ]
  },
  {
   "cell_type": "code",
   "execution_count": 108,
   "metadata": {},
   "outputs": [
    {
     "name": "stdout",
     "output_type": "stream",
     "text": [
      "<class 'pandas.core.frame.DataFrame'>\n",
      "RangeIndex: 3922 entries, 0 to 3921\n",
      "Data columns (total 1 columns):\n",
      "Opinion    3922 non-null object\n",
      "dtypes: object(1)\n",
      "memory usage: 30.8+ KB\n"
     ]
    },
    {
     "data": {
      "text/plain": [
       "(None,                                              Opinion\n",
       " 0   an unpublished opinion of the north carolina ...\n",
       " 1  no. coa11-246 north carolina court of appeals ...\n",
       " 2  no. coa08-347 north carolina court of appeals ...\n",
       " 3  michael harrison gregory and wife, vivian greg...\n",
       " 4  atlantic contracting and material company, inc...)"
      ]
     },
     "execution_count": 108,
     "metadata": {},
     "output_type": "execute_result"
    }
   ],
   "source": [
    "df.info(), df.head()"
   ]
  },
  {
   "cell_type": "markdown",
   "metadata": {},
   "source": [
    "## 1. Remove Page Numbers & Supreme Court Cases\n",
    "\n",
    "### A. Remove Page Numbers\n",
    "Page numbers (-1-) appear throughout the corpus and complicated some of the following functions.  Accordingly, they're removed here. "
   ]
  },
  {
   "cell_type": "code",
   "execution_count": 109,
   "metadata": {},
   "outputs": [],
   "source": [
    "def remove_page_nums(string_):\n",
    "    \"\"\"\n",
    "    A function to remove page numbers from a given string\n",
    "    Page numbers must be the format \"-##-\"\n",
    "    \"\"\"\n",
    "    new_string = re.sub(\" -\\d+- \", \" \", string_)\n",
    "    return(new_string)"
   ]
  },
  {
   "cell_type": "code",
   "execution_count": 110,
   "metadata": {},
   "outputs": [],
   "source": [
    "no_page_list = []\n",
    "for i in range(len(df.Opinion)):\n",
    "    x = remove_page_nums(df.Opinion[i])\n",
    "    no_page_list.append(x)\n",
    "    \n",
    "df[\"Opinion\"] = pd.Series(no_page_list).values"
   ]
  },
  {
   "cell_type": "code",
   "execution_count": 111,
   "metadata": {},
   "outputs": [
    {
     "data": {
      "text/html": [
       "<div>\n",
       "<style scoped>\n",
       "    .dataframe tbody tr th:only-of-type {\n",
       "        vertical-align: middle;\n",
       "    }\n",
       "\n",
       "    .dataframe tbody tr th {\n",
       "        vertical-align: top;\n",
       "    }\n",
       "\n",
       "    .dataframe thead th {\n",
       "        text-align: right;\n",
       "    }\n",
       "</style>\n",
       "<table border=\"1\" class=\"dataframe\">\n",
       "  <thead>\n",
       "    <tr style=\"text-align: right;\">\n",
       "      <th></th>\n",
       "      <th>Opinion</th>\n",
       "    </tr>\n",
       "  </thead>\n",
       "  <tbody>\n",
       "    <tr>\n",
       "      <td>0</td>\n",
       "      <td>an unpublished opinion of the north carolina ...</td>\n",
       "    </tr>\n",
       "    <tr>\n",
       "      <td>1</td>\n",
       "      <td>no. coa11-246 north carolina court of appeals ...</td>\n",
       "    </tr>\n",
       "    <tr>\n",
       "      <td>2</td>\n",
       "      <td>no. coa08-347 north carolina court of appeals ...</td>\n",
       "    </tr>\n",
       "    <tr>\n",
       "      <td>3</td>\n",
       "      <td>michael harrison gregory and wife, vivian greg...</td>\n",
       "    </tr>\n",
       "    <tr>\n",
       "      <td>4</td>\n",
       "      <td>atlantic contracting and material company, inc...</td>\n",
       "    </tr>\n",
       "  </tbody>\n",
       "</table>\n",
       "</div>"
      ],
      "text/plain": [
       "                                             Opinion\n",
       "0   an unpublished opinion of the north carolina ...\n",
       "1  no. coa11-246 north carolina court of appeals ...\n",
       "2  no. coa08-347 north carolina court of appeals ...\n",
       "3  michael harrison gregory and wife, vivian greg...\n",
       "4  atlantic contracting and material company, inc..."
      ]
     },
     "execution_count": 111,
     "metadata": {},
     "output_type": "execute_result"
    }
   ],
   "source": [
    "df.head()"
   ]
  },
  {
   "cell_type": "markdown",
   "metadata": {},
   "source": [
    "### Fix Irish Names (O'xxx)"
   ]
  },
  {
   "cell_type": "code",
   "execution_count": 112,
   "metadata": {},
   "outputs": [],
   "source": [
    "def lose_the_apostrophe(string_):\n",
    "    \"\"\"\n",
    "    A function to remove apostrophes from Irish names; \n",
    "    The majority of the tokenization will be performed\n",
    "    on the following dataframe.\n",
    "    \"\"\"\n",
    "    new_string = re.sub(\" o’|o'\", \" o\", string_)\n",
    "    \n",
    "    return(new_string)"
   ]
  },
  {
   "cell_type": "code",
   "execution_count": 114,
   "metadata": {},
   "outputs": [],
   "source": [
    "no_apostrophes = []\n",
    "for i in range(len(df.Opinion)):\n",
    "    x = lose_the_apostrophe(df.Opinion[i])\n",
    "    no_apostrophes.append(x)\n",
    "    \n",
    "df[\"Opinion\"] = pd.Series(no_apostrophes).values"
   ]
  },
  {
   "cell_type": "markdown",
   "metadata": {},
   "source": [
    "### C. Remove Supreme Court Cases (that review Court of Appeals cases)\n",
    "These cases review the Court of Appeals' decisions; they don't typically include features the same way that the Court of Appeals does, and their rulings are usually affecting the Court of Appeals (which may be the opposite of the underlying case). Accordingly, they should be dropped for this project. "
   ]
  },
  {
   "cell_type": "code",
   "execution_count": 115,
   "metadata": {},
   "outputs": [],
   "source": [
    "df['SCT'] = 0"
   ]
  },
  {
   "cell_type": "code",
   "execution_count": 116,
   "metadata": {},
   "outputs": [],
   "source": [
    "# capture file number into new column\n",
    "def drop_SCT(string_):\n",
    "    sct_yes = re.search(\"in the supreme court of north carolina\",string_[:50])\n",
    "    if sct_yes == None:\n",
    "        return(0)\n",
    "    else:\n",
    "        return(1)"
   ]
  },
  {
   "cell_type": "code",
   "execution_count": 117,
   "metadata": {},
   "outputs": [
    {
     "data": {
      "text/plain": [
       "84"
      ]
     },
     "execution_count": 117,
     "metadata": {},
     "output_type": "execute_result"
    }
   ],
   "source": [
    "df['SCT'] = df.Opinion.map(lambda x: drop_SCT(x))\n",
    "len(df.loc[df['SCT'] == 1])"
   ]
  },
  {
   "cell_type": "code",
   "execution_count": 118,
   "metadata": {},
   "outputs": [],
   "source": [
    "# drop supreme court cases\n",
    "df.drop(list(df.loc[df['SCT'] == 1].index), inplace=True)\n",
    "df.reset_index(inplace=True, drop=True)"
   ]
  },
  {
   "cell_type": "markdown",
   "metadata": {},
   "source": [
    "### C. Trim Dissents, Because They are Not Relevant to the Function\n",
    "\n",
    "#Dissents follow the opinion, when one of the three appellate judges doesn't agree; they may trigger further appeal, but they are not law, and may skew results, so they should be dropped. \n",
    "\n",
    "#### Exploration of opinions containing the phrase \"dissenting\""
   ]
  },
  {
   "cell_type": "code",
   "execution_count": 119,
   "metadata": {},
   "outputs": [],
   "source": [
    "dissents = df.loc[df['Opinion'].str.contains(\"dissenting\")]"
   ]
  },
  {
   "cell_type": "code",
   "execution_count": 120,
   "metadata": {},
   "outputs": [
    {
     "data": {
      "text/html": [
       "<div>\n",
       "<style scoped>\n",
       "    .dataframe tbody tr th:only-of-type {\n",
       "        vertical-align: middle;\n",
       "    }\n",
       "\n",
       "    .dataframe tbody tr th {\n",
       "        vertical-align: top;\n",
       "    }\n",
       "\n",
       "    .dataframe thead th {\n",
       "        text-align: right;\n",
       "    }\n",
       "</style>\n",
       "<table border=\"1\" class=\"dataframe\">\n",
       "  <thead>\n",
       "    <tr style=\"text-align: right;\">\n",
       "      <th></th>\n",
       "      <th>Opinion</th>\n",
       "      <th>SCT</th>\n",
       "    </tr>\n",
       "  </thead>\n",
       "  <tbody>\n",
       "    <tr>\n",
       "      <td>13</td>\n",
       "      <td>energy investors fund, l.p., inc., kvaerner as...</td>\n",
       "      <td>0</td>\n",
       "    </tr>\n",
       "    <tr>\n",
       "      <td>22</td>\n",
       "      <td>in the court of appeals of north carolina no....</td>\n",
       "      <td>0</td>\n",
       "    </tr>\n",
       "    <tr>\n",
       "      <td>27</td>\n",
       "      <td>cecelia l. ford, administrator of the estate o...</td>\n",
       "      <td>0</td>\n",
       "    </tr>\n",
       "    <tr>\n",
       "      <td>35</td>\n",
       "      <td>carolina place joint venture, plaintiff-appell...</td>\n",
       "      <td>0</td>\n",
       "    </tr>\n",
       "    <tr>\n",
       "      <td>45</td>\n",
       "      <td>christian emerson dysart and mildred maxwell d...</td>\n",
       "      <td>0</td>\n",
       "    </tr>\n",
       "  </tbody>\n",
       "</table>\n",
       "</div>"
      ],
      "text/plain": [
       "                                              Opinion  SCT\n",
       "13  energy investors fund, l.p., inc., kvaerner as...    0\n",
       "22   in the court of appeals of north carolina no....    0\n",
       "27  cecelia l. ford, administrator of the estate o...    0\n",
       "35  carolina place joint venture, plaintiff-appell...    0\n",
       "45  christian emerson dysart and mildred maxwell d...    0"
      ]
     },
     "execution_count": 120,
     "metadata": {},
     "output_type": "execute_result"
    }
   ],
   "source": [
    "dissents.head()"
   ]
  },
  {
   "cell_type": "markdown",
   "metadata": {},
   "source": [
    "Review example opinions containing the word \"dissent\" to see which need to be dropped:</p>\n",
    "Verbiage: (Y=actual dissent N=not a dissent)<br>\n",
    "Y judge horton dissenting<br>\n",
    "Y judge wynn dissents. ... wynn, judge, dissenting.<br>\n",
    "Y tyson, judge dissenting.<br>\n",
    "Y judge tyson concurs in part, dissents in part.<br>\n",
    "Y calabria, judge, dissenting. // therefore, i respectfully dissent.<br>\n",
    "Y justice martin dissenting. -- Conflicts w below -- maybe eliminate first 2000 chars? <br>\n",
    "Y === wynn, judge dissenting.<br>\n",
    "Y - elmore, judge, dissenting.<br>\n",
    "Y. martin, chief judge, concurring in part, dissenting in part. - But later<br>\n",
    "Y = campbell, judge, dissenting. i respectfully dissent <br>\n",
    "Y == thomas, judge, dissenting.<br>\n",
    "Y judge dillon dissents in a separate opinion. - 12,600 chars into 17,000 char opi<br>\n",
    "<br>\n",
    "N piazza v. kirkbride tyson, j., concurring in part, dissenting in part.<br>\n",
    "N souter, j., dissenting (cit<br>\n",
    "N r. justice martin dissenting. justice brady dissenting. a -- too early  (913 chars in, 80,000 char opinion)<br>\n",
    "N (greene, j. dissenting) - case citation<br>\n",
    "N . judge elmore dissenting. -- too early, 2400 chars in to 28,000 char opinion<br>\n",
    "N m. chief judge martin concurring in part and dissenting in part. - 2731 chars into 29,000 char opinion<br>\n",
    "N (hudson, j., dissenting) <br>\n",
    "N   1715 chars into 23,000 char opinion<br>\n",
    "------ never the (j., dissenting)<br>\n",
    "<br>\n",
    "Pseudocode:<br>\n",
    "IF ends with \"judges /2 and /2 concur.\" (not concurs) - there isn't a dissent (one of the two would be dissenting). <br>\n",
    "ELSE if after the first 3,000 chars, of the opinion:<br>\n",
    "    judge /4 (dissent*)<br>\n",
    "    \n",
    "#### Trimming-Dissents Function Creation and Revision\n",
    "Created the below function following the preceding review; ran the function and reviewed the trimmed opinions for correctness (i.e., was something more or less than a dissent trimmed from the opinion).  The function was updated to put (judge|justice) in parens and to make the verb \"dissents\" instead of the noun \"dissent\", which was pulling references to other dissents. \n"
   ]
  },
  {
   "cell_type": "code",
   "execution_count": 121,
   "metadata": {},
   "outputs": [],
   "source": [
    "def trim_dissents(opinion):\n",
    "    global trimmed_dissents\n",
    "    if re.search(\"(dissent)\", opinion):\n",
    "        if re.search(\"judges\\W+(?:\\w+\\W+){0,5}?concur\\b\", opinion):\n",
    "            return()  \n",
    "        else:\n",
    "            try:\n",
    "                y = re.search(\"(?:(judge|justice)\\W+(?:\\w+\\W+){0,6}?dissents)\", opinion[3000:])\n",
    "                cut_off_point = y.start()\n",
    "                opinion2 = opinion[:(cut_off_point+3000)]\n",
    "                trimmed_dissents += 1\n",
    "                return(opinion2)\n",
    "            except:\n",
    "                return(opinion)\n",
    "    else:\n",
    "        return(opinion)"
   ]
  },
  {
   "cell_type": "code",
   "execution_count": 122,
   "metadata": {},
   "outputs": [],
   "source": [
    "# Drop dissents\n",
    "trimmed_dissents = 0\n",
    "new_opinions = []\n",
    "for i in range(len(df.Opinion)):\n",
    "    x = trim_dissents(df.Opinion[i])\n",
    "    new_opinions.append(x)\n",
    "    \n",
    "# Replate opinions with trimmed opinions\n",
    "df[\"Opinion\"] = pd.Series(new_opinions).values"
   ]
  },
  {
   "cell_type": "markdown",
   "metadata": {},
   "source": [
    "## 3. Creating a New Column for the File Numbers\n",
    "The file numbers should have no predictive value; this section is more experiential than practical."
   ]
  },
  {
   "cell_type": "code",
   "execution_count": 123,
   "metadata": {},
   "outputs": [],
   "source": [
    "# capture file number into new column\n",
    "def coa(string_):\n",
    "    try:\n",
    "        pat_coa_number = re.search(\"no.? ?coa.? ?(\\d{2}-\\d{1,5})\",string_)\n",
    "        return pat_coa_number.group(1)\n",
    "    except:\n",
    "        return('00-000')"
   ]
  },
  {
   "cell_type": "code",
   "execution_count": 124,
   "metadata": {},
   "outputs": [],
   "source": [
    "coa_numbers = []\n",
    "for i in range(len(df.Opinion)):\n",
    "    x = coa(df.Opinion[i])\n",
    "    coa_numbers.append(x)\n",
    "\n",
    "df[\"File_Numbers\"] = pd.Series(coa_numbers).values"
   ]
  },
  {
   "cell_type": "code",
   "execution_count": 125,
   "metadata": {},
   "outputs": [
    {
     "data": {
      "text/html": [
       "<div>\n",
       "<style scoped>\n",
       "    .dataframe tbody tr th:only-of-type {\n",
       "        vertical-align: middle;\n",
       "    }\n",
       "\n",
       "    .dataframe tbody tr th {\n",
       "        vertical-align: top;\n",
       "    }\n",
       "\n",
       "    .dataframe thead th {\n",
       "        text-align: right;\n",
       "    }\n",
       "</style>\n",
       "<table border=\"1\" class=\"dataframe\">\n",
       "  <thead>\n",
       "    <tr style=\"text-align: right;\">\n",
       "      <th></th>\n",
       "      <th>Opinion</th>\n",
       "      <th>SCT</th>\n",
       "      <th>File_Numbers</th>\n",
       "    </tr>\n",
       "  </thead>\n",
       "  <tbody>\n",
       "    <tr>\n",
       "      <td>0</td>\n",
       "      <td>an unpublished opinion of the north carolina ...</td>\n",
       "      <td>0</td>\n",
       "      <td>19-563</td>\n",
       "    </tr>\n",
       "    <tr>\n",
       "      <td>1</td>\n",
       "      <td>no. coa11-246 north carolina court of appeals ...</td>\n",
       "      <td>0</td>\n",
       "      <td>11-246</td>\n",
       "    </tr>\n",
       "    <tr>\n",
       "      <td>2</td>\n",
       "      <td>no. coa08-347 north carolina court of appeals ...</td>\n",
       "      <td>0</td>\n",
       "      <td>08-347</td>\n",
       "    </tr>\n",
       "    <tr>\n",
       "      <td>3</td>\n",
       "      <td>michael harrison gregory and wife, vivian greg...</td>\n",
       "      <td>0</td>\n",
       "      <td>05-885</td>\n",
       "    </tr>\n",
       "    <tr>\n",
       "      <td>4</td>\n",
       "      <td>atlantic contracting and material company, inc...</td>\n",
       "      <td>0</td>\n",
       "      <td>02-1087</td>\n",
       "    </tr>\n",
       "  </tbody>\n",
       "</table>\n",
       "</div>"
      ],
      "text/plain": [
       "                                             Opinion  SCT File_Numbers\n",
       "0   an unpublished opinion of the north carolina ...    0       19-563\n",
       "1  no. coa11-246 north carolina court of appeals ...    0       11-246\n",
       "2  no. coa08-347 north carolina court of appeals ...    0       08-347\n",
       "3  michael harrison gregory and wife, vivian greg...    0       05-885\n",
       "4  atlantic contracting and material company, inc...    0      02-1087"
      ]
     },
     "execution_count": 125,
     "metadata": {},
     "output_type": "execute_result"
    }
   ],
   "source": [
    "df.head(5)"
   ]
  },
  {
   "cell_type": "markdown",
   "metadata": {},
   "source": [
    "## 3. Creating the Labels (Affirmed, Reversed, etc.)\n",
    "\n",
    "The labels were created using the regex patterns below. The ultimate fuction below was created over many iterations. Initially, there were approximately 300 errors; the model was tweaked to reduce errors while maintaining reliability. Ultimately, 25 rows were dropped as errors because the cases were not beneficial to the model (i.e., they did not include a relevant summary judgment decision, the opinion on summary judgment was entwined with other components, etc.); 454 \"affirmed-in-part\" rows were dropped since they're not the binary outcome needed; and 408 dismissals were dropped since they don't have a usable outcome.  "
   ]
  },
  {
   "cell_type": "markdown",
   "metadata": {},
   "source": [
    "### A. Functions to Assign and Apply Labels to the DataFrame"
   ]
  },
  {
   "cell_type": "code",
   "execution_count": 126,
   "metadata": {},
   "outputs": [],
   "source": [
    "def labels(string_):\n",
    "    \"\"\"\n",
    "    This function will extract the outcome from a given string (opinion).\n",
    "    Each of the 'try' statements extracts the labels with decreasing \n",
    "    degrees of confidence (first by the one-word sentence, then within\n",
    "    10 words of the statement regarding concurrence, typically near the \n",
    "    end of the opinion; then clipping the last 150 chars. of the opinion \n",
    "    and looking for the associated label-words, and finally looking for \n",
    "    label-words within 5-10 words of the often-occurring phrase, 'for the\n",
    "    reasons set forth above').\n",
    "    \"\"\"\n",
    "    try:\n",
    "        try:\n",
    "            try:\n",
    "                try:  #this level has the highest confidence of getting an accurate label, based upon review of opinions (a single-word sentence)\n",
    "                    labels = re.search(\"\\.. ?(affirmed?)\\.|\\.?(reversed?)\\.|(affirmed in part)|\\.?(dismissed)\\.\",string_)\n",
    "                    x = labels.group(1)\n",
    "                    y = labels.group(2)\n",
    "                    z = labels.group(3)\n",
    "                    w = labels.group(4)\n",
    "                    not_none = [x,y,z]\n",
    "                    a = [i for i in not_none if i != None]\n",
    "                    return a[0]\n",
    "                except:  # slightly less confidence; looks for outcome word within 10 words of \"concur\", which frequently is at the end of a unanymous opinion\n",
    "                    labels = re.search(\"(?:concurs?\\W+(?:\\w+\\W+){0,40}?((affirmed in part)|reversed|affirmed|dismissed|no error|vacated)|((affirmed in part)|affirmed|reversed|dismissed|no error|vacated)\\W+(?:\\w+\\W+){0,40}?concurs?)\", string_)\n",
    "                    #print(\"Group 0:\", labels.group(0), \"\\nGroup 1:\", labels.group(1), \"\\nGroup 2:\", labels.group(2), \"\\nGroup 3:\", labels.group(3), \"\\nGroup 4:\", labels.group(4))\n",
    "                    x = labels2.group(1)\n",
    "                    y = labels2.group(2)\n",
    "                    z = labels2.group(3)\n",
    "                    w = labels2.group(4)\n",
    "                    not_none = [x,y,z,w]\n",
    "                    a = [i for i in not_none if i != None]\n",
    "                    #print(\"This is resulting list a:\", a)\n",
    "                    return a[0]\n",
    "            except: #slightly less confidence; if both of the previous methods fail, this clips the last 150 chars of the opinion for any of the outcome words\n",
    "                clip = string_[-150:]\n",
    "    #             print(clip)\n",
    "                labels3 = re.search(\"('affirmed in part'|reversed|affirmed|dismissed|'affirm in part'|affirm|reverse|dismiss|improvidently allowed)\",clip)\n",
    "                return labels3.group(0)\n",
    "        except: \n",
    "            labels4 = re.search(\"(?:reasons set forth?\\W+(?:\\w+\\W+){0,5}?((affirm in part)|reverse|affirm|dismiss|no error|vacated?)|((affirm in part)|affirm|reversed?|dismiss|no error|vacated?)\\W+(?:\\w+\\W+){0,10}?reasons set forth?)\", string_)\n",
    "            #print(\"Group 0:\", labels.group(0), \"\\nGroup 1:\", labels.group(1), \"\\nGroup 2:\", labels.group(2), \"\\nGroup 3:\", labels.group(3), \"\\nGroup 4:\", labels.group(4))\n",
    "            x = labels4.group(1)\n",
    "            y = labels4.group(2)\n",
    "            z = labels4.group(3)\n",
    "            w = labels4.group(4)\n",
    "            not_none = [x,y,z,w]\n",
    "            a = [i for i in not_none if i != None]\n",
    "            #print(\"This is resulting list a:\", a)\n",
    "            return a[0]\n",
    "    except:\n",
    "        return('error')"
   ]
  },
  {
   "cell_type": "code",
   "execution_count": 127,
   "metadata": {},
   "outputs": [
    {
     "data": {
      "text/plain": [
       "'error'"
      ]
     },
     "execution_count": 127,
     "metadata": {},
     "output_type": "execute_result"
    }
   ],
   "source": [
    "# Test Cell \n",
    "labels(df.Opinion[2092])"
   ]
  },
  {
   "cell_type": "code",
   "execution_count": 128,
   "metadata": {},
   "outputs": [],
   "source": [
    "# Apply labels to the DataFrame\n",
    "labels_list = []\n",
    "for i in range(len(df.Opinion)):\n",
    "    x = labels(df.Opinion[i])\n",
    "    labels_list.append(x)\n",
    "\n",
    "df[\"Result\"] = pd.Series(labels_list).values"
   ]
  },
  {
   "cell_type": "code",
   "execution_count": 129,
   "metadata": {},
   "outputs": [
    {
     "data": {
      "text/plain": [
       "affirmed                 2021\n",
       "reversed                  558\n",
       "affirmed in part          392\n",
       "dismissed                 232\n",
       "error                     200\n",
       "dismiss                   190\n",
       "reverse                   162\n",
       "affirm                     75\n",
       "improvidently allowed       6\n",
       "no error                    1\n",
       "vacate                      1\n",
       "Name: Result, dtype: int64"
      ]
     },
     "execution_count": 129,
     "metadata": {},
     "output_type": "execute_result"
    }
   ],
   "source": [
    "df.Result.value_counts()"
   ]
  },
  {
   "cell_type": "markdown",
   "metadata": {},
   "source": [
    "### B. Combine Similar Terms and Drop Rows Irrelevant to the Outcome"
   ]
  },
  {
   "cell_type": "code",
   "execution_count": 130,
   "metadata": {},
   "outputs": [],
   "source": [
    "df['Result'].replace(['reverse','affirm', 'dismiss','no error', 'vacated', 'improvidently allowed'],\n",
    "                     ['reversed','affirmed','dismissed', 'affirmed', 'reversed', 'dismissed'], inplace=True)\n",
    "\n",
    "# The model will treat 'no error' as 'affirmed' and 'vacated' as 'reversed'"
   ]
  },
  {
   "cell_type": "code",
   "execution_count": 131,
   "metadata": {},
   "outputs": [
    {
     "data": {
      "text/plain": [
       "affirmed            2097\n",
       "reversed             720\n",
       "dismissed            428\n",
       "affirmed in part     392\n",
       "error                200\n",
       "vacate                 1\n",
       "Name: Result, dtype: int64"
      ]
     },
     "execution_count": 131,
     "metadata": {},
     "output_type": "execute_result"
    }
   ],
   "source": [
    "df.Result.value_counts()"
   ]
  },
  {
   "cell_type": "code",
   "execution_count": 132,
   "metadata": {},
   "outputs": [],
   "source": [
    "# Drop rows with 'error', 'dismissed', and 'affirmed in part' -- see section header, above\n",
    "drop_list1 = df.loc[df['Result'] == 'error']\n",
    "drop_list2 = df.loc[df['Result'] == 'affirmed in part']\n",
    "drop_list3 = df.loc[df['Result'] == 'dismissed']\n",
    "drop_list4 = df.loc[df['Result'] == 'vacate']"
   ]
  },
  {
   "cell_type": "code",
   "execution_count": 133,
   "metadata": {},
   "outputs": [],
   "source": [
    "drop_list = list(drop_list1.index)+list(drop_list2.index)+list(drop_list3.index)+list(drop_list4.index)"
   ]
  },
  {
   "cell_type": "code",
   "execution_count": 134,
   "metadata": {},
   "outputs": [],
   "source": [
    "df.drop(drop_list, axis=0, inplace=True)\n",
    "df.reset_index(drop=True, inplace=True)"
   ]
  },
  {
   "cell_type": "code",
   "execution_count": 135,
   "metadata": {
    "scrolled": true
   },
   "outputs": [
    {
     "data": {
      "text/plain": [
       "affirmed    2097\n",
       "reversed     720\n",
       "Name: Result, dtype: int64"
      ]
     },
     "execution_count": 135,
     "metadata": {},
     "output_type": "execute_result"
    }
   ],
   "source": [
    "df.Result.value_counts()"
   ]
  },
  {
   "cell_type": "markdown",
   "metadata": {},
   "source": [
    "### C. Ensure Labels Have the Same Effect Throughout the DataFrame (Substantial Right Appeals)"
   ]
  },
  {
   "cell_type": "code",
   "execution_count": 136,
   "metadata": {
    "scrolled": false
   },
   "outputs": [],
   "source": [
    "def substantial_right(string_):\n",
    "    \"\"\" \n",
    "    I have been treating the label \"affirm\" as affirming the grant \n",
    "    of a summary judgment motion, and \"reverse\" as reversing the grant \n",
    "    of the motion, because it is much more common for the court of appeals \n",
    "    to address GRANTS of summary judgment. Much more rarely, they will \n",
    "    review a motion denying summary judgment, and the above functions will \n",
    "    have the opposite label than intended. This function will take a string, \n",
    "    review whether it contains the key words \"substantial right,\" and then \n",
    "    analyze the language of the opinion to see if the opinion affirms or \n",
    "    reverses the DENIAL of summary judgment. If it does, it will return a\n",
    "    '1', and if not, a '0'. This can be used later as a switch to flip the \n",
    "    label assigned above.\n",
    "    \"\"\"\n",
    "    # Screen for the keword 'substantial right'\n",
    "    if string_.count(\"substantial right\") > 0:\n",
    "        x = re.search(\"(?:(affirm|reverse?)\\W+(?:\\w+\\W+){0,5}?denial)\", string_)\n",
    "        try:\n",
    "            x.group(0)\n",
    "            return(1)\n",
    "        except:\n",
    "            return(0)"
   ]
  },
  {
   "cell_type": "code",
   "execution_count": 137,
   "metadata": {},
   "outputs": [],
   "source": [
    "substantial_right_list = []\n",
    "for i in range(len(df.Opinion)):\n",
    "    x = substantial_right(df.Opinion[i])\n",
    "    substantial_right_list.append(x)\n",
    "\n",
    "df[\"sub_right\"] = pd.Series(substantial_right_list).values"
   ]
  },
  {
   "cell_type": "code",
   "execution_count": 138,
   "metadata": {},
   "outputs": [
    {
     "data": {
      "text/html": [
       "<div>\n",
       "<style scoped>\n",
       "    .dataframe tbody tr th:only-of-type {\n",
       "        vertical-align: middle;\n",
       "    }\n",
       "\n",
       "    .dataframe tbody tr th {\n",
       "        vertical-align: top;\n",
       "    }\n",
       "\n",
       "    .dataframe thead th {\n",
       "        text-align: right;\n",
       "    }\n",
       "</style>\n",
       "<table border=\"1\" class=\"dataframe\">\n",
       "  <thead>\n",
       "    <tr style=\"text-align: right;\">\n",
       "      <th></th>\n",
       "      <th>Opinion</th>\n",
       "      <th>SCT</th>\n",
       "      <th>File_Numbers</th>\n",
       "      <th>Result</th>\n",
       "      <th>sub_right</th>\n",
       "    </tr>\n",
       "  </thead>\n",
       "  <tbody>\n",
       "    <tr>\n",
       "      <td>336</td>\n",
       "      <td>estate of erik dominic williams, by and throug...</td>\n",
       "      <td>0</td>\n",
       "      <td>10-491</td>\n",
       "      <td>affirmed</td>\n",
       "      <td>1.0</td>\n",
       "    </tr>\n",
       "    <tr>\n",
       "      <td>357</td>\n",
       "      <td>no. coa11-1466 north carolina court of appeals...</td>\n",
       "      <td>0</td>\n",
       "      <td>11-1466</td>\n",
       "      <td>reversed</td>\n",
       "      <td>1.0</td>\n",
       "    </tr>\n",
       "    <tr>\n",
       "      <td>441</td>\n",
       "      <td>estate of vera hewett, et al, plaintiffs, v. c...</td>\n",
       "      <td>0</td>\n",
       "      <td>08-1071</td>\n",
       "      <td>reversed</td>\n",
       "      <td>1.0</td>\n",
       "    </tr>\n",
       "    <tr>\n",
       "      <td>604</td>\n",
       "      <td>james l. pierson, kathy l. pierson, lincoln m....</td>\n",
       "      <td>0</td>\n",
       "      <td>99-1333</td>\n",
       "      <td>affirmed</td>\n",
       "      <td>1.0</td>\n",
       "    </tr>\n",
       "    <tr>\n",
       "      <td>765</td>\n",
       "      <td>mitchell, brewer, richardson, adams, burge &amp; b...</td>\n",
       "      <td>0</td>\n",
       "      <td>09-1020</td>\n",
       "      <td>reversed</td>\n",
       "      <td>1.0</td>\n",
       "    </tr>\n",
       "    <tr>\n",
       "      <td>869</td>\n",
       "      <td>nello l. teer company, inc., plaintiff, v. jon...</td>\n",
       "      <td>0</td>\n",
       "      <td>06-340</td>\n",
       "      <td>reversed</td>\n",
       "      <td>1.0</td>\n",
       "    </tr>\n",
       "    <tr>\n",
       "      <td>938</td>\n",
       "      <td>in the court of appeals of north carolina no....</td>\n",
       "      <td>0</td>\n",
       "      <td>16-908</td>\n",
       "      <td>reversed</td>\n",
       "      <td>1.0</td>\n",
       "    </tr>\n",
       "    <tr>\n",
       "      <td>957</td>\n",
       "      <td>an unpublished opinion of the north carolina c...</td>\n",
       "      <td>0</td>\n",
       "      <td>02-1610</td>\n",
       "      <td>affirmed</td>\n",
       "      <td>1.0</td>\n",
       "    </tr>\n",
       "    <tr>\n",
       "      <td>980</td>\n",
       "      <td>wilson myers, administrator of the estate of t...</td>\n",
       "      <td>0</td>\n",
       "      <td>07-285</td>\n",
       "      <td>affirmed</td>\n",
       "      <td>1.0</td>\n",
       "    </tr>\n",
       "    <tr>\n",
       "      <td>995</td>\n",
       "      <td>michael g. staley and melody h. staley, plaint...</td>\n",
       "      <td>0</td>\n",
       "      <td>98-1293</td>\n",
       "      <td>reversed</td>\n",
       "      <td>1.0</td>\n",
       "    </tr>\n",
       "    <tr>\n",
       "      <td>1132</td>\n",
       "      <td>tiber holding corporation, regis insurance com...</td>\n",
       "      <td>0</td>\n",
       "      <td>04-1184</td>\n",
       "      <td>affirmed</td>\n",
       "      <td>1.0</td>\n",
       "    </tr>\n",
       "    <tr>\n",
       "      <td>1197</td>\n",
       "      <td>lennie and bonnie hamby, plaintiffs, v. profil...</td>\n",
       "      <td>0</td>\n",
       "      <td>08-942</td>\n",
       "      <td>affirmed</td>\n",
       "      <td>1.0</td>\n",
       "    </tr>\n",
       "    <tr>\n",
       "      <td>1321</td>\n",
       "      <td>teresa h. satorre, sharon o. lee, theresa k. p...</td>\n",
       "      <td>0</td>\n",
       "      <td>03-648</td>\n",
       "      <td>reversed</td>\n",
       "      <td>1.0</td>\n",
       "    </tr>\n",
       "    <tr>\n",
       "      <td>1449</td>\n",
       "      <td>an unpublished opinion of the north carolina c...</td>\n",
       "      <td>0</td>\n",
       "      <td>14-811</td>\n",
       "      <td>affirmed</td>\n",
       "      <td>1.0</td>\n",
       "    </tr>\n",
       "    <tr>\n",
       "      <td>1534</td>\n",
       "      <td>no. coa02-423 north carolina court of appeals ...</td>\n",
       "      <td>0</td>\n",
       "      <td>02-423</td>\n",
       "      <td>reversed</td>\n",
       "      <td>1.0</td>\n",
       "    </tr>\n",
       "    <tr>\n",
       "      <td>1632</td>\n",
       "      <td>an unpublished opinion of the north carolina ...</td>\n",
       "      <td>0</td>\n",
       "      <td>18-1207</td>\n",
       "      <td>reversed</td>\n",
       "      <td>1.0</td>\n",
       "    </tr>\n",
       "    <tr>\n",
       "      <td>1643</td>\n",
       "      <td>jon-paul craig, by his mother and next friend,...</td>\n",
       "      <td>0</td>\n",
       "      <td>07-80</td>\n",
       "      <td>reversed</td>\n",
       "      <td>1.0</td>\n",
       "    </tr>\n",
       "    <tr>\n",
       "      <td>1692</td>\n",
       "      <td>in the court of appeals of north carolina no....</td>\n",
       "      <td>0</td>\n",
       "      <td>18-478</td>\n",
       "      <td>affirmed</td>\n",
       "      <td>1.0</td>\n",
       "    </tr>\n",
       "    <tr>\n",
       "      <td>1710</td>\n",
       "      <td>in the court of appeals of north carolina no....</td>\n",
       "      <td>0</td>\n",
       "      <td>16-776</td>\n",
       "      <td>reversed</td>\n",
       "      <td>1.0</td>\n",
       "    </tr>\n",
       "    <tr>\n",
       "      <td>1804</td>\n",
       "      <td>josephine williams, administratrix of the esta...</td>\n",
       "      <td>0</td>\n",
       "      <td>03-1624</td>\n",
       "      <td>affirmed</td>\n",
       "      <td>1.0</td>\n",
       "    </tr>\n",
       "    <tr>\n",
       "      <td>1969</td>\n",
       "      <td>keith brent vest v. michael f. easley, north c...</td>\n",
       "      <td>0</td>\n",
       "      <td>00-635</td>\n",
       "      <td>reversed</td>\n",
       "      <td>1.0</td>\n",
       "    </tr>\n",
       "    <tr>\n",
       "      <td>2001</td>\n",
       "      <td>in the court of appeals of north carolina no....</td>\n",
       "      <td>0</td>\n",
       "      <td>15-751</td>\n",
       "      <td>reversed</td>\n",
       "      <td>1.0</td>\n",
       "    </tr>\n",
       "    <tr>\n",
       "      <td>2086</td>\n",
       "      <td>thomas william hill, plaintiff, v. bobby medfo...</td>\n",
       "      <td>0</td>\n",
       "      <td>02-956</td>\n",
       "      <td>affirmed</td>\n",
       "      <td>1.0</td>\n",
       "    </tr>\n",
       "    <tr>\n",
       "      <td>2176</td>\n",
       "      <td>johnston health care center, l.l.c. petitioner...</td>\n",
       "      <td>0</td>\n",
       "      <td>99-129</td>\n",
       "      <td>affirmed</td>\n",
       "      <td>1.0</td>\n",
       "    </tr>\n",
       "    <tr>\n",
       "      <td>2432</td>\n",
       "      <td>anne h. craig v. the asheville city board of e...</td>\n",
       "      <td>0</td>\n",
       "      <td>00-175</td>\n",
       "      <td>affirmed</td>\n",
       "      <td>1.0</td>\n",
       "    </tr>\n",
       "    <tr>\n",
       "      <td>2485</td>\n",
       "      <td>an unpublished opinion of the north carolina c...</td>\n",
       "      <td>0</td>\n",
       "      <td>09-315</td>\n",
       "      <td>affirmed</td>\n",
       "      <td>1.0</td>\n",
       "    </tr>\n",
       "    <tr>\n",
       "      <td>2612</td>\n",
       "      <td>an unpublished opinion of the north carolina ...</td>\n",
       "      <td>0</td>\n",
       "      <td>18-197</td>\n",
       "      <td>reversed</td>\n",
       "      <td>1.0</td>\n",
       "    </tr>\n",
       "    <tr>\n",
       "      <td>2613</td>\n",
       "      <td>no. coa08-801 north carolina court of appeals ...</td>\n",
       "      <td>0</td>\n",
       "      <td>08-801</td>\n",
       "      <td>affirmed</td>\n",
       "      <td>1.0</td>\n",
       "    </tr>\n",
       "    <tr>\n",
       "      <td>2625</td>\n",
       "      <td>an unpublished opinion of the north carolina c...</td>\n",
       "      <td>0</td>\n",
       "      <td>12-1490</td>\n",
       "      <td>affirmed</td>\n",
       "      <td>1.0</td>\n",
       "    </tr>\n",
       "    <tr>\n",
       "      <td>2737</td>\n",
       "      <td>sherri b. blaylock, as guardian ad litem for h...</td>\n",
       "      <td>0</td>\n",
       "      <td>00-000</td>\n",
       "      <td>affirmed</td>\n",
       "      <td>1.0</td>\n",
       "    </tr>\n",
       "    <tr>\n",
       "      <td>2811</td>\n",
       "      <td>1 bruce-terminix co. v. zurich ins. co., 130 n...</td>\n",
       "      <td>0</td>\n",
       "      <td>07-1260</td>\n",
       "      <td>affirmed</td>\n",
       "      <td>1.0</td>\n",
       "    </tr>\n",
       "  </tbody>\n",
       "</table>\n",
       "</div>"
      ],
      "text/plain": [
       "                                                Opinion  SCT File_Numbers    Result  sub_right\n",
       "336   estate of erik dominic williams, by and throug...    0       10-491  affirmed        1.0\n",
       "357   no. coa11-1466 north carolina court of appeals...    0      11-1466  reversed        1.0\n",
       "441   estate of vera hewett, et al, plaintiffs, v. c...    0      08-1071  reversed        1.0\n",
       "604   james l. pierson, kathy l. pierson, lincoln m....    0      99-1333  affirmed        1.0\n",
       "765   mitchell, brewer, richardson, adams, burge & b...    0      09-1020  reversed        1.0\n",
       "869   nello l. teer company, inc., plaintiff, v. jon...    0       06-340  reversed        1.0\n",
       "938    in the court of appeals of north carolina no....    0       16-908  reversed        1.0\n",
       "957   an unpublished opinion of the north carolina c...    0      02-1610  affirmed        1.0\n",
       "980   wilson myers, administrator of the estate of t...    0       07-285  affirmed        1.0\n",
       "995   michael g. staley and melody h. staley, plaint...    0      98-1293  reversed        1.0\n",
       "1132  tiber holding corporation, regis insurance com...    0      04-1184  affirmed        1.0\n",
       "1197  lennie and bonnie hamby, plaintiffs, v. profil...    0       08-942  affirmed        1.0\n",
       "1321  teresa h. satorre, sharon o. lee, theresa k. p...    0       03-648  reversed        1.0\n",
       "1449  an unpublished opinion of the north carolina c...    0       14-811  affirmed        1.0\n",
       "1534  no. coa02-423 north carolina court of appeals ...    0       02-423  reversed        1.0\n",
       "1632   an unpublished opinion of the north carolina ...    0      18-1207  reversed        1.0\n",
       "1643  jon-paul craig, by his mother and next friend,...    0        07-80  reversed        1.0\n",
       "1692   in the court of appeals of north carolina no....    0       18-478  affirmed        1.0\n",
       "1710   in the court of appeals of north carolina no....    0       16-776  reversed        1.0\n",
       "1804  josephine williams, administratrix of the esta...    0      03-1624  affirmed        1.0\n",
       "1969  keith brent vest v. michael f. easley, north c...    0       00-635  reversed        1.0\n",
       "2001   in the court of appeals of north carolina no....    0       15-751  reversed        1.0\n",
       "2086  thomas william hill, plaintiff, v. bobby medfo...    0       02-956  affirmed        1.0\n",
       "2176  johnston health care center, l.l.c. petitioner...    0       99-129  affirmed        1.0\n",
       "2432  anne h. craig v. the asheville city board of e...    0       00-175  affirmed        1.0\n",
       "2485  an unpublished opinion of the north carolina c...    0       09-315  affirmed        1.0\n",
       "2612   an unpublished opinion of the north carolina ...    0       18-197  reversed        1.0\n",
       "2613  no. coa08-801 north carolina court of appeals ...    0       08-801  affirmed        1.0\n",
       "2625  an unpublished opinion of the north carolina c...    0      12-1490  affirmed        1.0\n",
       "2737  sherri b. blaylock, as guardian ad litem for h...    0       00-000  affirmed        1.0\n",
       "2811  1 bruce-terminix co. v. zurich ins. co., 130 n...    0      07-1260  affirmed        1.0"
      ]
     },
     "execution_count": 138,
     "metadata": {},
     "output_type": "execute_result"
    }
   ],
   "source": [
    "df.loc[df['sub_right'] == 1]"
   ]
  },
  {
   "cell_type": "markdown",
   "metadata": {},
   "source": [
    "Review of the foregoing cases had so many with mixed issues that it will probably be better to drop all rows. "
   ]
  },
  {
   "cell_type": "code",
   "execution_count": 139,
   "metadata": {},
   "outputs": [],
   "source": [
    "indexes_to_drop = df.index[df['sub_right'] == 1].tolist()\n",
    "df.drop(indexes_to_drop, inplace=True)\n",
    "\n",
    "df.drop(['sub_right'], axis=1, inplace=True)\n",
    "\n",
    "df.reset_index(inplace=True, drop=True)"
   ]
  },
  {
   "cell_type": "markdown",
   "metadata": {},
   "source": [
    "## 4. Create Case-Type Feature By Sorting With Keywords\n",
    "\n",
    "I created a simple sorting function which takes a dictionary of case types with associated keywords, and then it generates a popularity count of the various keywords, returning the highest-ranking case type for a given opinion. The dictionary was revised over many iterations and reviews; for instance, some words were not unique, were misleading, or needed leading/trailing spaces. "
   ]
  },
  {
   "cell_type": "code",
   "execution_count": 140,
   "metadata": {},
   "outputs": [],
   "source": [
    "# This dictionary contains types of law with associated, typically unique keywords\n",
    "case_type_dict = {'premises':['premises', 'attractive nuisance', 'dangerous condition', 'slip and fall',\n",
    "                              'defective condition', 'dog bite', 'landowner', 'vicious propensity',\n",
    "                              'defective or unsafe condition', 'unsafe condition'], \n",
    "                  'products':['negligently manufactured', 'negligent manufacture', 'negligently designed',\n",
    "                              'negligent design', 'manufacturing defect', 'products liability',\n",
    "                              'product liability', 'ordinary use', 'product at issue', 'defective good'],\n",
    "                  'car_crash':['collision', 'vehicle', 'motorist', 'other driver'], \n",
    "                  'corporate':['shareholder', 'bylaw', 'articles of incorporation', 'derivative', \n",
    "                               'corporate meetings', 'corporate books', 'annual meeting', \n",
    "                               'financial statements'],\n",
    "                  'construction':['building defect', 'water intrusion', 'construction defect', 'building code',\n",
    "                                  'subcontractor', 'construction industry'], \n",
    "                  'contract':[' formation', 'recission', 'specific performance', 'incidental damages',\n",
    "                              'consequential damages', 'statute of frauds', 'complex business',\n",
    "                              'contractual relationship', 'contract law', 'plain and unambiguous',\n",
    "                              'promissory note', 'clinical privileges', 'agreement in effect', \n",
    "                              'breach of contract', 'terms of the agreement', 'default on the account',\n",
    "                              'joint venture', 'credit account', 'payment of the debt', 'consignor',\n",
    "                              'cosignee', 'oral contract', 'doctrine of necessaries', 'sold and delivered',\n",
    "                              'defaulted on the loan', 'line of credit', 'credit card account', \n",
    "                              'security interest', 'past due and owing', 'contract price', 'guaranty agreement',\n",
    "                              'contract to purchase', 'fdcpa'], \n",
    "                  'defamation':['libel', 'slander', 'defamatory', 'defamation'],\n",
    "                  'employment':['wrongful discharge', 'discrimination', 'retaliation', 'retaliatory',\n",
    "                                'retaliatory employment discrimination act', 'discriminatory',\n",
    "                                'state personnel', 'state retirement plan', 'pay policy', 'salary',\n",
    "                                'at-will employee', 'reinstatement', 'h-2a', 'wage and hour', 'fmla',\n",
    "                                'disability benefits', 'employer-employee', 'wage laws'],\n",
    "                  'estates':['intestate', 'probate', 'revocable trust', 'irrevocable trust', 'testator',\n",
    "                             'holographic', 'residue', 'testate', 'partition and sale', 'undivided interest',\n",
    "                             'executor', 'executrix', 'beneficiary', 'will conveying'],\n",
    "                  'family_law':['divorce', 'custody', 'maintenance', 'child support', 'separation agreement',\n",
    "                               'prenuptial', 'postnuptial', 'premarital', 'marital home', 'parental rights',\n",
    "                               'alienation of affection', 'legally separated', 'marriage ceremony'], \n",
    "                  'fraud_udtpa':['unfair and deceptive', 'unfair or deceptive', 'chapter 75', 'fraud',\n",
    "                                 'calculated to deceive'],\n",
    "                  'governmental':['sovereign immunity', 'official capacity', 'governmental immunity', \n",
    "                                  'certificate of need', 'incarcerated', 'permit application', \n",
    "                                  'property tax commission', 'local school administrative unit',\n",
    "                                  'public duty doctrine', 'malicious prosecution', 'inmate', 'wastewater',\n",
    "                                  'separation of powers', 'secretary of revenue', 'school boards association',\n",
    "                                  'department of environment and natural resources', 'municipal corporation',\n",
    "                                  'local government retirement system'],\n",
    "                  'insurance':['policy exclusion', 'insured party', 'coverage under the policy',\n",
    "                               'insurance coverage'],\n",
    "                  'landlord_tenant':['lease', 'landlord', 'security deposit', ' rent ', 'chapter 42', 'tenant'], \n",
    "                  'med_mal':['medical malpractice','health care profession', 'same or similar community', \n",
    "                             'rule 9(j)', 'rule 702(b)', 'continuing course of treatment', 'skilled nursing',\n",
    "                             'care and treatment rendered'], \n",
    "                  'property':['easement', 'fee simple', 'tenants in common', 'joint tenants', 'nuisance', \n",
    "                             'eminent domain', 'escheat', 'replevin', 'zoning', 'mortgage', 'foreclosure',\n",
    "                             'restriction agreement', 'reforming the deed', 'covenants and restrictions',\n",
    "                             'property boundary', 'declaration of covenants', 'homeowners association',\n",
    "                             'trespass to land', 'deed of trust', 'restrictive covenant', 'executed the deed',\n",
    "                             'board of adjustment', 'improvement to land', 'quiet title', 'convey the property',\n",
    "                             'blasting'], \n",
    "                  'workers_comp':['workers compensation', 'worker\\'s compensation', 'fela',\n",
    "                                  'workers\\' compensation', 'workmen\\'s compensation'],\n",
    "                  'wrongful_death':['wrongful death']}\n",
    "\n",
    "# 'dram_shop':['dram shop'] -- removed, only 2 that were not superseded by \"car crash\""
   ]
  },
  {
   "cell_type": "code",
   "execution_count": 141,
   "metadata": {},
   "outputs": [],
   "source": [
    "def case_type_sorter(dict_of_keywords, string):\n",
    "    \"\"\" \n",
    "    This function takes a dictionary of case types and associated \n",
    "    keywords, assigns points for the frequency of the keywords\n",
    "    of a given case type, and returns the case type with the highest\n",
    "    number of points, as well as a confidence measure.  The dict_of_keywords \n",
    "    should be a dictionary of case-type keys and keyword values; the string \n",
    "    should be a single string.\n",
    "    \"\"\"\n",
    "    counter_dict = {}\n",
    "\n",
    "    # Iterate through dictionary, counting frequency of each keyword in the string/Opinion\n",
    "    for key, values in dict_of_keywords.items():\n",
    "        counter_dict[key] = 0\n",
    "        for value in values:\n",
    "            count = string.count(value)\n",
    "            existing_count = counter_dict[key]\n",
    "            counter_dict[key] = count + existing_count\n",
    "    \n",
    "    # Get total points for all keywords\n",
    "    values = counter_dict.values()\n",
    "    total_count = sum(values)\n",
    "    \n",
    "    # Ensure that if no case_types are matched, the type returned is 'other'\n",
    "    if total_count > 0:\n",
    "        likely_case_type = max(counter_dict.items(), key=operator.itemgetter(1))[0]\n",
    "    else:\n",
    "        likely_case_type = 'other'\n",
    "    \n",
    "    # Return a confidence ratio (points of most likely type / all points )\n",
    "    try:\n",
    "        confidence = str(round((counter_dict[likely_case_type]/total_count)*100,2))+'%'\n",
    "    except:\n",
    "        confidence = 'n/a'\n",
    "    \n",
    "    return likely_case_type, confidence"
   ]
  },
  {
   "cell_type": "code",
   "execution_count": 142,
   "metadata": {},
   "outputs": [],
   "source": [
    "# Copy of the above function for case-by-case review\n",
    "def case_type_test_sorter(dict_of_keywords, string):\n",
    "    \"\"\" \n",
    "    This is a copy of the case_type_sorter function for case-by-case review\n",
    "    \"\"\"\n",
    "    counter_dict = {}\n",
    "\n",
    "    # Iterate through dictionary, counting frequency of each keyword in the string/Opinion\n",
    "    for key, values in dict_of_keywords.items():\n",
    "        counter_dict[key] = 0\n",
    "        for value in values:\n",
    "            count = string.count(value)\n",
    "            existing_count = counter_dict[key]\n",
    "            counter_dict[key] = count + existing_count\n",
    "            \n",
    "    return counter_dict"
   ]
  },
  {
   "cell_type": "code",
   "execution_count": 143,
   "metadata": {},
   "outputs": [],
   "source": [
    "# Apply case_type and confidence level columns to the DataFrame\n",
    "\n",
    "case_type_list = []\n",
    "case_type_confidence = []\n",
    "for i in range(len(df.Opinion)):\n",
    "    y,z = case_type_sorter(case_type_dict, df.Opinion[i])\n",
    "    case_type_list.append(y)\n",
    "    case_type_confidence.append(z)\n",
    "\n",
    "df[\"Case_Type\"] = pd.Series(case_type_list).values\n",
    "df[\"Case_Type_Confidence\"] = pd.Series(case_type_confidence).values"
   ]
  },
  {
   "cell_type": "code",
   "execution_count": 144,
   "metadata": {
    "scrolled": true
   },
   "outputs": [],
   "source": [
    "one = df.loc[(df['Case_Type'] == 'other') & (df.Opinion.str.len() > 1350)]"
   ]
  },
  {
   "cell_type": "code",
   "execution_count": 145,
   "metadata": {},
   "outputs": [
    {
     "data": {
      "text/plain": [
       "39"
      ]
     },
     "execution_count": 145,
     "metadata": {},
     "output_type": "execute_result"
    }
   ],
   "source": [
    "#remaining \"other\" case types and cases shorter than 1350 characters (lacking any type information)\n",
    "len(one)"
   ]
  },
  {
   "cell_type": "code",
   "execution_count": 146,
   "metadata": {
    "scrolled": false
   },
   "outputs": [
    {
     "name": "stdout",
     "output_type": "stream",
     "text": [
      "Index to Test:\n",
      "Please enter an index to review:\n"
     ]
    }
   ],
   "source": [
    "# Test function to review cases and diagnose issues (ultimately to update the case_type_dict)\n",
    "try:\n",
    "    test_cell = int(input(\"Index to Test:\"))\n",
    "    print(case_type_sorter(case_type_dict, df.Opinion[test_cell]),\n",
    "          '\\n\\n', case_type_test_sorter(case_type_dict, df.Opinion[test_cell]),\n",
    "          '\\n\\n', df.Opinion[test_cell])\n",
    "except:\n",
    "    print(\"Please enter an index to review:\")"
   ]
  },
  {
   "cell_type": "code",
   "execution_count": 147,
   "metadata": {},
   "outputs": [],
   "source": [
    "drop_list_others = list(one.index)\n",
    "df.drop(drop_list_others, inplace=True)\n",
    "df.reset_index(drop=True, inplace=True)"
   ]
  },
  {
   "cell_type": "code",
   "execution_count": 148,
   "metadata": {
    "scrolled": true
   },
   "outputs": [
    {
     "data": {
      "text/plain": [
       "property           369\n",
       "contract           333\n",
       "car_crash          318\n",
       "fraud_udtpa        275\n",
       "governmental       246\n",
       "landlord_tenant    229\n",
       "family_law         187\n",
       "premises           162\n",
       "employment         144\n",
       "estates            125\n",
       "med_mal             88\n",
       "corporate           77\n",
       "construction        51\n",
       "defamation          44\n",
       "insurance           27\n",
       "wrongful_death      23\n",
       "other               18\n",
       "products            17\n",
       "workers_comp        14\n",
       "Name: Case_Type, dtype: int64"
      ]
     },
     "execution_count": 148,
     "metadata": {},
     "output_type": "execute_result"
    }
   ],
   "source": [
    "df.Case_Type.value_counts()"
   ]
  },
  {
   "cell_type": "code",
   "execution_count": 149,
   "metadata": {},
   "outputs": [
    {
     "name": "stdout",
     "output_type": "stream",
     "text": [
      "<class 'pandas.core.frame.DataFrame'>\n",
      "RangeIndex: 2747 entries, 0 to 2746\n",
      "Data columns (total 6 columns):\n",
      "Opinion                 2747 non-null object\n",
      "SCT                     2747 non-null int64\n",
      "File_Numbers            2747 non-null object\n",
      "Result                  2747 non-null object\n",
      "Case_Type               2747 non-null object\n",
      "Case_Type_Confidence    2747 non-null object\n",
      "dtypes: int64(1), object(5)\n",
      "memory usage: 128.9+ KB\n"
     ]
    }
   ],
   "source": [
    "df.info()"
   ]
  },
  {
   "cell_type": "markdown",
   "metadata": {},
   "source": [
    "## 5.  Extract Feature: Trial-Court Judge"
   ]
  },
  {
   "cell_type": "code",
   "execution_count": 163,
   "metadata": {},
   "outputs": [],
   "source": [
    "def trial_judge(opinion):\n",
    "    \"\"\"\n",
    "    This function extracts the underlying trial judge\n",
    "    from the opinion, typically falling between the \n",
    "    words, 'by judge ____ in'\n",
    "    \"\"\"\n",
    "    try:\n",
    "        try:\n",
    "            try:\n",
    "                try:\n",
    "                    judge = re.search(\"by judge (\\w+) (\\w+) in\", opinion)\n",
    "                    f_name = judge.group(1)\n",
    "                    l_name = judge.group(2)\n",
    "                    pre_clean = [l_name, f_name]\n",
    "                    name = [i for i in pre_clean if i != None]\n",
    "                    return(name)\n",
    "                except:\n",
    "                    judge = re.search(\"by (the honorable|judge) (\\w+.?) ?(\\w+.|-?)? ?(\\w+),? ?(jr.|sr.|iii|ii|iv)?,? (?:in|and)\", opinion)\n",
    "                    f_name = judge.group(2)\n",
    "                    m_name = judge.group(3)\n",
    "                    l_name = judge.group(4)\n",
    "                    suffx =  judge.group(5) \n",
    "                    pre_clean = [l_name, f_name, m_name, suffx]\n",
    "                    name = [i for i in pre_clean if i != None]\n",
    "                    return(name)\n",
    "            except:\n",
    "                judge = re.search(\"by (\\w+.?), .?\\.? ?j., in\", opinion)\n",
    "                l_name = judge.group(1)\n",
    "                pre_clean = [l_name]\n",
    "                name = [i for i in pre_clean if i != None]\n",
    "                return(name)\n",
    "        except:\n",
    "            judge = re.search(\"(the honorable|judge) (\\w+.?) (\\w+.|-?)? ?(\\w+),? ?(jr.|sr.|iii|ii|iv)?,? (?:presiding|in|on)\", opinion)\n",
    "            f_name = judge.group(2)\n",
    "            m_name = judge.group(3)\n",
    "            l_name = judge.group(4)\n",
    "            suffx =  judge.group(5) \n",
    "            pre_clean = [l_name, f_name, m_name, suffx]\n",
    "            name = [i for i in pre_clean if i != None]\n",
    "            return(name)\n",
    "    except:\n",
    "        name = 'error'\n",
    "        return(name)\n",
    "    "
   ]
  },
  {
   "cell_type": "code",
   "execution_count": 164,
   "metadata": {},
   "outputs": [],
   "source": [
    "# Apply function to the DataFrame\n",
    "judges_list = []\n",
    "for i in range(len(df.Opinion)):\n",
    "    y = trial_judge(df.Opinion[i])\n",
    "    judges_list.append(y)\n",
    "    \n",
    "df[\"Trial_Judge\"] = pd.Series(judges_list).values"
   ]
  },
  {
   "cell_type": "code",
   "execution_count": 165,
   "metadata": {},
   "outputs": [
    {
     "data": {
      "text/html": [
       "<div>\n",
       "<style scoped>\n",
       "    .dataframe tbody tr th:only-of-type {\n",
       "        vertical-align: middle;\n",
       "    }\n",
       "\n",
       "    .dataframe tbody tr th {\n",
       "        vertical-align: top;\n",
       "    }\n",
       "\n",
       "    .dataframe thead th {\n",
       "        text-align: right;\n",
       "    }\n",
       "</style>\n",
       "<table border=\"1\" class=\"dataframe\">\n",
       "  <thead>\n",
       "    <tr style=\"text-align: right;\">\n",
       "      <th></th>\n",
       "      <th>Opinion</th>\n",
       "      <th>SCT</th>\n",
       "      <th>File_Numbers</th>\n",
       "      <th>Result</th>\n",
       "      <th>Case_Type</th>\n",
       "      <th>Case_Type_Confidence</th>\n",
       "      <th>Trial_Judge</th>\n",
       "    </tr>\n",
       "  </thead>\n",
       "  <tbody>\n",
       "    <tr>\n",
       "      <td>0</td>\n",
       "      <td>an unpublished opinion of the north carolina ...</td>\n",
       "      <td>0</td>\n",
       "      <td>19-563</td>\n",
       "      <td>affirmed</td>\n",
       "      <td>property</td>\n",
       "      <td>84.62%</td>\n",
       "      <td>[williams, karen , eady-]</td>\n",
       "    </tr>\n",
       "    <tr>\n",
       "      <td>1</td>\n",
       "      <td>no. coa11-246 north carolina court of appeals ...</td>\n",
       "      <td>0</td>\n",
       "      <td>11-246</td>\n",
       "      <td>affirmed</td>\n",
       "      <td>employment</td>\n",
       "      <td>55.26%</td>\n",
       "      <td>[hight, henry , w., jr.]</td>\n",
       "    </tr>\n",
       "    <tr>\n",
       "      <td>2</td>\n",
       "      <td>no. coa08-347 north carolina court of appeals ...</td>\n",
       "      <td>0</td>\n",
       "      <td>08-347</td>\n",
       "      <td>affirmed</td>\n",
       "      <td>property</td>\n",
       "      <td>85.71%</td>\n",
       "      <td>[poovey, nathaniel , j.]</td>\n",
       "    </tr>\n",
       "    <tr>\n",
       "      <td>3</td>\n",
       "      <td>michael harrison gregory and wife, vivian greg...</td>\n",
       "      <td>0</td>\n",
       "      <td>05-885</td>\n",
       "      <td>affirmed</td>\n",
       "      <td>car_crash</td>\n",
       "      <td>33.33%</td>\n",
       "      <td>[gore, william , c.]</td>\n",
       "    </tr>\n",
       "    <tr>\n",
       "      <td>4</td>\n",
       "      <td>in the court of appeals of north carolina no....</td>\n",
       "      <td>0</td>\n",
       "      <td>17-112</td>\n",
       "      <td>reversed</td>\n",
       "      <td>governmental</td>\n",
       "      <td>100.0%</td>\n",
       "      <td>[stephens, donald , w.]</td>\n",
       "    </tr>\n",
       "  </tbody>\n",
       "</table>\n",
       "</div>"
      ],
      "text/plain": [
       "                                             Opinion  SCT File_Numbers    Result     Case_Type  \\\n",
       "0   an unpublished opinion of the north carolina ...    0       19-563  affirmed      property   \n",
       "1  no. coa11-246 north carolina court of appeals ...    0       11-246  affirmed    employment   \n",
       "2  no. coa08-347 north carolina court of appeals ...    0       08-347  affirmed      property   \n",
       "3  michael harrison gregory and wife, vivian greg...    0       05-885  affirmed     car_crash   \n",
       "4   in the court of appeals of north carolina no....    0       17-112  reversed  governmental   \n",
       "\n",
       "  Case_Type_Confidence                Trial_Judge  \n",
       "0               84.62%  [williams, karen , eady-]  \n",
       "1               55.26%   [hight, henry , w., jr.]  \n",
       "2               85.71%   [poovey, nathaniel , j.]  \n",
       "3               33.33%       [gore, william , c.]  \n",
       "4               100.0%    [stephens, donald , w.]  "
      ]
     },
     "execution_count": 165,
     "metadata": {},
     "output_type": "execute_result"
    }
   ],
   "source": [
    "df.head()"
   ]
  },
  {
   "cell_type": "code",
   "execution_count": 166,
   "metadata": {},
   "outputs": [
    {
     "name": "stdout",
     "output_type": "stream",
     "text": [
      "Num_Errors: 80 \n",
      "                                                 Opinion  SCT File_Numbers    Result  \\\n",
      "30    hospice & palliative care charlotte region d/b...    0      06-1484  affirmed   \n",
      "35    no. coa11-868 north carolina court of appeals ...    0       11-868  affirmed   \n",
      "162   no. coa07-54 north carolina court of appeals f...    0        07-54  affirmed   \n",
      "204   gary anderson smith, plaintiff, v. brian oneal...    0       06-688  reversed   \n",
      "215   no. coa02-13 north carolina court of appeals f...    0        02-13  affirmed   \n",
      "246   j. kamau christopher a/k/a joseph kamau christ...    0      07-1516  affirmed   \n",
      "269   james e. long, commissioner of insurance of no...    0       03-638  affirmed   \n",
      "382   an unpublished opinion of the north carolina c...    0       07-240  affirmed   \n",
      "452   durham land owners association, an unincorpora...    0       05-736  reversed   \n",
      "471   an unpublished opinion of the north carolina c...    0      14-1196  affirmed   \n",
      "493   an unpublished opinion of the north carolina c...    0       03-535  affirmed   \n",
      "496    no. coa11-1514 north carolina court of appeal...    0      11-1514  affirmed   \n",
      "521   no. coa02-88 north carolina court of appeals f...    0        02-88  affirmed   \n",
      "576   an unpublished opinion of the north carolina c...    0      06-1464  affirmed   \n",
      "606    in the court of appeals of north carolina no....    0      15-1055  reversed   \n",
      "664    in the court of appeals of north carolina no....    0       19-887  affirmed   \n",
      "670   no. coa97-646 north carolina court of appeals ...    0       97-646  affirmed   \n",
      "715    an unpublished opinion of the north carolina ...    0        19-73  reversed   \n",
      "722   willie b. tart v. james l. martin and peggy h....    0       00-000  reversed   \n",
      "779   no. coa14-160 north carolina court of appeals ...    0       14-160  affirmed   \n",
      "810   an unpublished opinion of the north carolina c...    0       03-429  affirmed   \n",
      "822   in the court of appeals of north carolina no. ...    0      14-1355  affirmed   \n",
      "851   hospice at greensboro, inc. d/b/a hospice and ...    0      06-1204  affirmed   \n",
      "853   no. coa11-520 north carolina court of appeals ...    0       11-520  affirmed   \n",
      "892   parkway urology, p.a. d/b/a cary urology, p.a....    0      09-1490  affirmed   \n",
      "899   craig b. hilliard, petitioner, v. north caroli...    0       04-780  affirmed   \n",
      "944   an unpublished opinion of the north carolina c...    0      12-1390  affirmed   \n",
      "1052  an unpublished opinion of the north carolina c...    0       07-894  affirmed   \n",
      "1058  carlton s. ashby, jr., cora b. ashby, and ashb...    0       03-203  affirmed   \n",
      "1081  durham county no. 97cvs00687 l’tanya d. davis,...    0       00-000  affirmed   \n",
      "1102  no. coa11-1127 north carolina court of appeals...    0      11-1127  reversed   \n",
      "1104  no. coa12-1167 north carolina court of appeals...    0      12-1167  reversed   \n",
      "1138  dinah boryla-lett, individually and as adm. of...    0      08-1357  affirmed   \n",
      "1176  in the matter of the will of william arnold mc...    0       00-000  reversed   \n",
      "1180  an unpublished opinion of the north carolina c...    0       03-247  affirmed   \n",
      "1208   in the court of appeals of north carolina no....    0       18-533  affirmed   \n",
      "1288   an unpublished opinion of the north carolina ...    0       17-630  affirmed   \n",
      "1318  no. coa07-302 north carolina court of appeals ...    0       07-302  affirmed   \n",
      "1320  no. coa01-1098 north carolina court of appeals...    0      01-1098  affirmed   \n",
      "1373   in the court of appeals of north carolina no....    0       17-367  affirmed   \n",
      "1396  no. coa08-42 north carolina court of appeals f...    0        08-42  affirmed   \n",
      "1411  charles k. sapp, nancy sapp, henry keith mille...    0      09-1725  affirmed   \n",
      "1433  in the matter of: appeal of: ocean isle palms ...    0       00-000  reversed   \n",
      "1459  donald claude friend, plaintiff, v. state of n...    0       04-570  reversed   \n",
      "1463  a.c. jones, plaintiff, v. liam wallis, viridis...    0       10-349  affirmed   \n",
      "1548   in the court of appeals of north carolina no....    0        15-11  affirmed   \n",
      "1573  an unpublished opinion of the north carolina c...    0       02-350  reversed   \n",
      "1647  no. coa10-384@ north carolina court of appeals...    0       10-384  affirmed   \n",
      "1706   in the court of appeals of north carolina no....    0       15-652  affirmed   \n",
      "1710  the north carolina state bar, plaintiff-appell...    0       06-815  affirmed   \n",
      "1817  an unpublished opinion of the north carolina c...    0       03-273  affirmed   \n",
      "1840  wake forest university health sciences and hun...    0      05-1597  affirmed   \n",
      "1863  an unpublished opinion of the north carolina c...    0       03-710  reversed   \n",
      "1886   an unpublished opinion of the north carolina ...    0      14-1116  affirmed   \n",
      "1900  no. coa02-1424 north carolina court of appeals...    0      02-1424  affirmed   \n",
      "1915   no. coa13-1072 north carolina court of appeal...    0      13-1072  affirmed   \n",
      "1934  an unpublished opinion of the north carolina c...    0       08-305  affirmed   \n",
      "1978  the north carolina state bar, plaintiff, v. am...    0       06-583  reversed   \n",
      "2011  thomas m. urquhart, jr., administrator of the ...    0      10-1255  affirmed   \n",
      "2039  dudley a. dawson and joan r. dawson, plaintiff...    0       09-109  affirmed   \n",
      "2066  no. coa11-128 north carolina court of appeals ...    0       11-128  affirmed   \n",
      "2083  an unpublished opinion of the north carolina c...    0       08-952  affirmed   \n",
      "2155  ted f. cash, plaintiff v. state farm mutual au...    0       99-375  affirmed   \n",
      "2205  no. coa01-660 north carolina court of appeals ...    0       01-660  affirmed   \n",
      "2206  good hope hospital, inc. and good hope health ...    0       05-183  affirmed   \n",
      "2214   in the court of appeals of north carolina no....    0      14-1008  affirmed   \n",
      "2225  no. coa04-649 north carolina court of appeals ...    0       04-649  affirmed   \n",
      "2251  thomas m. rouse, sandy rouse, and federal insu...    0       00-000  affirmed   \n",
      "2261  derek a. pate and michelle d. pate, plaintiffs...    0       05-609  affirmed   \n",
      "2285  an unpublished opinion of the north carolina c...    0       06-436  affirmed   \n",
      "2465  the presbyterian hospital, petitioner v. n.c. ...    0       05-905  affirmed   \n",
      "2517  michael w. patrick, guardian ad litem and guar...    0      07-1515  affirmed   \n",
      "2533  an unpublished opinion of the north carolina c...    0      06-1641  affirmed   \n",
      "2585  mary nicole boone vogler, widow, marilyn “sue ...    0      03-1032  reversed   \n",
      "2625  an unpublished opinion of the north carolina c...    0        12-57  affirmed   \n",
      "2657   an unpublished opinion of the north carolina ...    0       18-388  affirmed   \n",
      "2678  marcus cooke, plaintiff-appellant, v. susan co...    0      06-1083  affirmed   \n",
      "2713  julie a. derossett, and richard a. sutton, pla...    0       09-820  affirmed   \n",
      "2725  no. coa12-1496 north carolina court of appeals...    0      12-1496  reversed   \n",
      "2736  no. coa11-1480 north carolina court of appeals...    0      11-1480  affirmed   \n",
      "\n",
      "            Case_Type Case_Type_Confidence Trial_Judge  \n",
      "30       governmental               100.0%       error  \n",
      "35       governmental               83.33%       error  \n",
      "162          premises               36.36%       error  \n",
      "204         car_crash               90.91%       error  \n",
      "215           med_mal               66.67%       error  \n",
      "246        employment               66.67%       error  \n",
      "269         corporate               66.67%       error  \n",
      "382        employment               100.0%       error  \n",
      "452      governmental                70.0%       error  \n",
      "471        family_law               100.0%       error  \n",
      "493           estates               100.0%       error  \n",
      "496          premises               55.56%       error  \n",
      "521        employment               83.33%       error  \n",
      "576      governmental               100.0%       error  \n",
      "606          property               45.65%       error  \n",
      "664       fraud_udtpa               70.59%       error  \n",
      "670      governmental                50.0%       error  \n",
      "715      governmental               100.0%       error  \n",
      "722         car_crash               92.86%       error  \n",
      "779      governmental               100.0%       error  \n",
      "810        employment               66.67%       error  \n",
      "822          property               85.71%       error  \n",
      "851      governmental               86.96%       error  \n",
      "853      governmental               39.02%       error  \n",
      "892      governmental               94.44%       error  \n",
      "899        employment               66.67%       error  \n",
      "944       fraud_udtpa               66.67%       error  \n",
      "1052        car_crash                50.0%       error  \n",
      "1058         property               95.65%       error  \n",
      "1081          estates               100.0%       error  \n",
      "1102     governmental               100.0%       error  \n",
      "1104         contract                60.0%       error  \n",
      "1138          med_mal                50.0%       error  \n",
      "1176          estates                91.8%       error  \n",
      "1180       family_law                60.0%       error  \n",
      "1208      fraud_udtpa               57.43%       error  \n",
      "1288         contract               66.67%       error  \n",
      "1318     governmental               100.0%       error  \n",
      "1320        car_crash               90.32%       error  \n",
      "1373     governmental               100.0%       error  \n",
      "1396         property               66.67%       error  \n",
      "1411         property               100.0%       error  \n",
      "1433     governmental               100.0%       error  \n",
      "1459     governmental               66.67%       error  \n",
      "1463         property                50.0%       error  \n",
      "1548   wrongful_death               57.14%       error  \n",
      "1573       employment               81.82%       error  \n",
      "1647         property               73.81%       error  \n",
      "1706         contract               58.06%       error  \n",
      "1710      fraud_udtpa               100.0%       error  \n",
      "1817         contract                80.0%       error  \n",
      "1840     governmental               100.0%       error  \n",
      "1863         property               100.0%       error  \n",
      "1886      fraud_udtpa               100.0%       error  \n",
      "1900        corporate               45.45%       error  \n",
      "1915     governmental                60.0%       error  \n",
      "1934        car_crash               86.11%       error  \n",
      "1978      fraud_udtpa               83.33%       error  \n",
      "2011          med_mal               53.85%       error  \n",
      "2039         premises                50.0%       error  \n",
      "2066         contract                60.0%       error  \n",
      "2083     governmental               100.0%       error  \n",
      "2155      fraud_udtpa               65.88%       error  \n",
      "2205        car_crash               100.0%       error  \n",
      "2206     governmental               88.89%       error  \n",
      "2214       employment                50.0%       error  \n",
      "2225         property               84.21%       error  \n",
      "2251            other                  n/a       error  \n",
      "2261     governmental               66.67%       error  \n",
      "2285  landlord_tenant               80.95%       error  \n",
      "2465     governmental               100.0%       error  \n",
      "2517     governmental                80.0%       error  \n",
      "2533     governmental               100.0%       error  \n",
      "2585       employment                50.0%       error  \n",
      "2625     governmental               100.0%       error  \n",
      "2657     governmental               100.0%       error  \n",
      "2678       family_law               48.65%       error  \n",
      "2713         property                98.9%       error  \n",
      "2725        car_crash               86.08%       error  \n",
      "2736     governmental                75.0%       error  \n"
     ]
    }
   ],
   "source": [
    "x = df.loc[df[\"Trial_Judge\"] == 'error']\n",
    "print(\"Num_Errors:\",len(x), \"\\n\", x)"
   ]
  },
  {
   "cell_type": "code",
   "execution_count": 167,
   "metadata": {
    "scrolled": true
   },
   "outputs": [
    {
     "name": "stdout",
     "output_type": "stream",
     "text": [
      "Index to Test:779\n",
      "error \n",
      "\n",
      " no. coa14-160 north carolina court of appeals filed: 4 november 2014 cumberland county hospital system, inc. d/b/a cape fear valley health system, petitioner, v. nc department of health and human services, division of health service regulation, certificate of need section, respondent, and firsthealth of the carolinas, inc., respondent-intervenor. from the office of administrative hearing (cumberland county) no.12 dhr 12094 appeal by petitioner from final decision entered 17 september 2013 by administrative law judge beecher r. gray. heard in the court of appeals 14 august 2014. k&l gates llp, by gary s. qualls, susan k. hackney and steven g. pine for petitioner-appellant. nelson mullins riley & scarborough llp, by noah h. huffstetler, iii, denise m. gunter, and candace s. friel, for respondent/intervenor-appellee firsthealth. attorney general roy cooper, by special deputy attorney general june s. ferrell and assistant attorney general scott t. stroud for respondent-appellee dhhs. steelman, judge. n.c. gen. stat. § 131e-188(a) does not prevent an administrative law judge from entering summary judgment in a contested case challenging a con decision. summary judgment was properly entered for respondents because petitioner failed to demonstrate that approval of the con substantially prejudiced its rights. i. factual and procedural background respondent-intervenor firsthealth of the carolinas, inc. d/b/a firsthealth moore regional hospital (firsthealth) operates firsthealth moore regional hospital (firsthealth moore) in moore county. in 2010 firsthealth filed an application for a certificate of need (con) to develop firsthealth hoke community hospital (firsthealth hoke) in raeford, hoke county, with eight acute care beds and one operating room (or). at that time hoke county was included in two service areas in the state medical facilities plan (smfp): the moore/hoke service area and the cumberland/hoke service area. although there are several multi- county service areas, this was the only instance of a county being included in two service areas. in december 2012 hoke county became a separate service area and the joint moore/hoke and cumberland/hoke service areas were eliminated. in april 2012, respondent north carolina department of health and services, division of health service regulation, certificate of need section (dhhs), granted firsthealth’s application for a con to develop firsthealth hoke. on 15 june 2012, firsthealth and petitioner cumberland county hospital system, inc. d/b/a/ cape fear valley medical center (cape fear) each filed con applications to provide 28 acute care beds in the cumberland/hoke service area in accordance with the 2012 smfp. cape fear’s 28-bed application proposed to add 28 acute care beds to its existing hospital in fayetteville, and firsthealth’s 28-bed application proposed to add 28 acute care beds to firsthealth hoke. these were competitive applications under 10a n.c.a.c. 14c.0202(f) (“applications are competitive if . . . the approval of one or more of the applications may result in the denial of another application reviewed in the same review period.”), because, under n.c. gen. stat. § 131e-183(a)(1) and the need determination in the 2012 smfp, both 28-beds applications could not be approved. also on 15 june 2012, firsthealth submitted a con application asking to relocate one of its ors from firsthealth moore to firsthealth hoke, facilities that were both in the moore/hoke service area. the or was pre-existing, and approval of firsthealth’s or application would not cause the disapproval of any other con applications. dhhs determined that it was a noncompetitive application under 10a n.c.a.c. 14c.0202(f). on 27 november 2012 dhhs approved firsthealth’s 28-bed application and its or application, and denied cape fear’s 28- bed application. on 21 december 2012 cape fear filed petitions for contested case hearings to challenge dhhs’s approval of firsthealth’s or con application and its decision to approve firsthealth’s 28-bed application while denying cape fear’s 28- bed application. on 25 february 2013 the administrative law judge (alj) consolidated cape fear’s petitions for contested case hearings in the 28-bed and or cases. cape fear’s appeal from the decision of the alj in the 28-bed case is currently pending before this court, and the present appeal involves only firsthealth’s or application. on 17 may 2013 cape fear filed a motion for partial summary judgment in both cases, and firsthealth and dhhs filed a joint motion for summary judgment in the or case. firsthealth and dhhs asserted that there were no genuine issues of material fact and that they were entitled to summary judgment on the grounds that cape fear could not demonstrate that its rights were substantially prejudiced by dhhs’s decision to approve the or application. alj gray conducted a hearing on the parties’ summary judgment motions on 31 may 2013. on 17 september 2013 alj gray filed a final agency decision granting summary judgment in favor of firsthealth and dhhs with respect to cape fear’s petition for a contested case hearing in the or case. the alj ruled that firsthealth and dhhs were entitled to summary judgment because cape fear had not shown that approval of firsthealth’s or con had substantially prejudiced its rights. cape fear appeals. ii. unconditional right to contested case hearing in its first argument, cape fear contends that the alj erred by granting summary judgment in favor of firsthealth, on the grounds that it “is entitled to a full contested case hearing, pursuant to n.c. gen. stat. § 131e-188, to prove that it was substantially prejudiced.” cape fear contends that n.c. gen. stat. § 131e-188 “guarantees” it a “full contested case hearing.” we disagree. a. standard of review n.c. gen. stat. § 150b-151 governs our review of the alj’s decision and provides in pertinent part that: . . . (b) the court reviewing a final decision may affirm the decision or remand the case for further proceedings. it may also reverse or modify the decision if the substantial rights of the petitioners may have been prejudiced because the findings, inferences, conclusions, or decisions are: (1) in violation of constitutional provisions; (2) in excess of the statutory authority or jurisdiction of the agency or administrative law judge; (3) made upon unlawful procedure; (4) affected by other error of law; (5) unsupported by substantial evidence . . . in view of the entire record as submitted; or (6) arbitrary, capricious, or an abuse of discretion. (c) in reviewing a final decision in a contested case, the court shall determine whether the petitioner is entitled to the relief sought in the petition based upon its review of the final decision and the official record. . . . (d) in reviewing a final decision allowing . . . summary judgment, the court may enter any order allowed by g.s. 1a-1, rule 12(c) or rule 56. . . . in the present case, cape fear appeals from an order granting summary judgment. “under n.c. gen. stat. § 1a-1, rule 56(a), summary judgment is properly entered ‘if the pleadings, depositions, answers to interrogatories, and admissions on file, together with the affidavits, if any, show that there is no genuine issue as to any material fact and that any party is entitled to a judgment as a matter of law.’ ‘in a motion for summary judgment, the evidence presented to the trial court must be admissible at trial, n.c.g.s. § 1a-1, rule 56(e) [(2013)], and must be viewed in a light most favorable to the non-moving party.’ patmore v. town of chapel hill n.c., __ n.c. app. __, __, 757 s.e.2d 302, 304 (quoting howerton v. arai helmet, ltd., 358 n.c. 440, 467, 597 s.e.2d 674, 692 (2004) (internal citation omitted)), disc. review denied, __ n.c. __, 758 s.e.2d 874 (2014). “the party seeking summary judgment bears the initial burden of demonstrating the absence of a genuine issue of material fact. if the movant successfully makes such a showing, the burden then shifts to the non-movant to come forward with specific facts establishing the presence of a genuine factual dispute for trial.” liberty mut. ins. co. v. pennington, 356 n.c. 571, 579, 573 s.e.2d 118, 124 (2002) (citation omitted). “we review a trial court’s order granting or denying summary judgment de novo. ‘under a de novo review, the court considers the matter anew and freely substitutes its own judgment’ for that of the lower tribunal.” craig v. new hanover cty. bd. of educ., 363 n.c. 334, 337, 678 s.e.2d 351, 354 (2009) (quoting in re appeal of the greens of pine glen ltd. p’ship, 356 n.c. 642, 647, 576 s.e.2d 316, 319 (2003) (other citations omitted). b. burden of proof preliminarily, cape fear argues that the alj applied an incorrect burden of proof by failing to first require firsthealth and dhhs to demonstrate that cape fear could not establish a prima facie case before shifting the burden to cape fear to rebut the movant’s showing with specific facts establishing the presence of a genuine factual dispute for trial. cape fear bases this argument on the fact that the alj’s order includes the standard of proof for a contested case hearing. cape fear asserts that there “was no reason for the alj to recite the standard for a contested case hearing,” and that the “only logical conclusion” is that the alj employed an incorrect standard by “initially assigning cape fear the burden of proof[.]” cape fear fails to identify any indication that the alj applied an incorrect burden of proof, other than its inclusion in the order of the standard for a contested case hearing. this argument lacks merit. c. analysis cape fear argues that the alj erred by granting summary judgment for firsthealth because, under n.c. gen. stat. § 131e- 188(a), it has an absolute “unconditional” right to a full evidentiary hearing. we disagree. n.c. gen. stat. § 131e-188(a) states in relevant part that: after a decision of the department to issue, [or] deny . . . a certificate of need . . . any in subsection (c) of this section, shall be affected person, defined as entitled to a contested case hearing under article 3 of chapter 150b of the general statutes. a petition for a contested case shall be filed within 30 days after the department makes its decision. . . . cape fear focuses on the phrase “shall be entitled to a contested case hearing.” however, given that the statute grants an affected person a contested case hearing “under article 3 of chapter 150b of the general statutes,” we must consider the quoted phrase in the context of the provisions of chapter 150b. n.c. gen. stat. § 150b-23(a) states in relevant part that: . . prejudiced substantially a contested case shall be commenced by filing a petition with the office of administrative hearings[.] . . . a petition . . . shall state facts tending to establish that the agency named as the respondent has . the petitioner’s rights and that the agency: (1) exceeded its authority or jurisdiction; (2) acted erroneously; (3) failed to use proper procedure; (4) acted arbitrarily or capriciously; or (5) failed to act as required by law or rule. the parties in a contested case shall be given an opportunity for a hearing without undue delay. . . . the statute’s enumeration of specific requirements for a contested case petition indicates that the right to an evidentiary hearing is contingent upon a valid petition. in addition, n.c. gen. stat. § 150b-33(b)(3a) provides that an alj may “[r]ule on all prehearing motions that are authorized by g.s. 1a-1, the rules of civil procedure[.]” n.c. gen. stat. § 1a-1, rule 56 authorizes a party to move “for a summary judgment in his favor upon all or any part thereof[,]” and n.c. gen. stat. § 150b-34(e) expressly provides that an “administrative law judge may grant . . . summary judgment, pursuant to a motion made in accordance with g.s. 1a-1, rule 56, that disposes of all issues in the contested case.” moreover, n.c. gen. stat. § 150b- 51(d) states the standard for a court “reviewing a final decision allowing judgment on the pleadings or summary judgment[.]” accordingly, article 3 of chapter 150b of the general statutes generally authorizes an alj to resolve a contested case without a full evidentiary hearing by entering summary judgment in appropriate cases. since n.c. gen. stat. § 131e-188(a) provides for the right to a contested case hearing “under article 3 of chapter 150b of the general statutes,” we hold that, just as in other contested cases, an alj may enter summary judgment in a case challenging a con decision. in arguing for a contrary result, cape fear relies primarily on the quoted excerpt from n.c. gen. stat. § 131e- 188(a) stating that an affected person “shall be entitled to a contested case hearing,” and asserts that the “plain language” of the statute “grants any ‘affected person’ an unconditional statutory right to a contested case hearing under the apa.” cape fear fails to acknowledge that its right to a contested case hearing is explicitly made subject to chapter 150b, or that similar language in n.c. gen. stat. § 150b-23(a), stating that “parties in a contested case shall be given an opportunity for a hearing,” does not bar an alj from entering summary judgment. further, cape fear’s position would lead to the absurd result that an appellant would have an absolute right to a full evidentiary hearing, even if its petition were devoid of any allegations that might justify relief. cape fear concedes that this court has previously upheld an alj’s award of summary judgment in favor of a party to a con appeal. see, e.g., presbyterian hosp. v. n.c. dep’t of health & human servs., 177 n.c. app. 780, 783, 630 s.e.2d 213, 215 (2006), disc. review denied, 361 n.c. 221, 642 s.e.2d 446 (2007),stating that: this court has previously held that, as genuine material issues of fact will always exist, summary judgment is never appropriate in an application for a con where two or more applicants conform to the majority of the statutory criteria. see living centers- southeast, inc. v. north carolina hhs, 138 n.c. app. 572, 580-81, 532 s.e.2d 192, 197 (2000). we find the facts of this case distinguishable. here, unlike in living centers-southeast, [the con applicant] was the sole applicant for a non-competitive con. therefore, an award of summary judgment is permissible in this matter. cape fear attempts to distinguish cases such as presbyterian hosp. on the grounds that these cases do not expressly analyze an alj’s authority to enter summary judgment in a con case. having completed such an analysis, we hold that in appropriate cases an alj may enter summary judgment on a petition for a contested case hearing to challenge a non-competitive con decision. this argument is without merit. iii. substantial prejudice a. relationship between the 28-bed and or cases in its second argument, cape fear contends that it “was substantially prejudiced as a matter of law by the agency’s approval of the firsthealth or application because the firsthealth or application and the firsthealth 28-bed application were essentially one, intertwined hospital expansion project.” for example, cape fear directs our attention to firsthealth’s statement that approval of its 28-bed con application would result in its operating a 36 bed hospital for which a second or would be needed. cape fear contends that because there was a “symbiosis” between firsthealth’s 28-bed application and its or application, we should treat firsthealth’s or application as a part of its competitive 28-bed application. we disagree. as discussed above, a “competitive application” is defined in the north carolina administrative code as follows: applications are competitive if they, in whole or in part, are for the same or similar services and the agency determines that the approval of one or more of the applications may result in the denial of another application reviewed in the same review period. 10a n.c.a.c. 14c.0202(f). cape fear does not contend that it submitted a con application to relocate an or to hoke county, but argues that, because firsthealth’s or application shares factual and legal circumstances with its 28-bed application, we should deem the or application to be competitive based on the alleged interconnection between the applications. as discussed above, the 28-bed case is not before us. moreover, cape fear is essentially asking us to apply a new, expanded definition of a competitive application. “[w]e must decline to, in effect, amend the rules. ‘if changes seem desirable, it is a matter for the legislature.’” precision fabrics group v. transformer sales and service, 344 n.c. 713, 719, 477 s.e.2d 166, 169 (1996) (quoting powell v. state retirement system, 3 n.c. app. 39, 43, 164 s.e.2d 80, 83 (1968)). because firsthealth’s or con application was not “competitive” as defined in the administrative code, we do not reach cape fear’s argument that “a competitive applicant like cape fear is substantially prejudiced as a matter of law” by the entry of summary judgment. b. failure to consider the cumberland/hoke service area in its third argument, cape fear contends that it “was substantially prejudiced as a matter of law by the agency’s failure to review whether firsthealth satisfied the criteria for adding an or to the cumberland/hoke service area. hoke county [was] included in both the cumberland/hoke service area and the moore/hoke service area. thus, by relocating an or to hoke county, firsthealth proposed to add an or to the cumberland/hoke service area.” we dismiss this argument as moot. firsthealth’s or con sought to relocate an existing or from firsthealth moore to firsthealth hoke, medical facilities which were both in the moore/hoke service area as defined in the smfp. at that time, hoke county was also in the cumberland/hoke service area. cape fear argues that the alj erred by approving firsthealth’s con application without determining the effect of firsthealth’s con application on the cumberland/hoke service area. we do not reach this argument, because the moore/hoke and the cumberland/hoke service areas have been terminated. on 15 april 2014 firsthealth filed a motion in this court requesting us to take judicial notice of the license issued to firsthealth hoke and the statement in the 2014 smfp that: on 12/21/12, for the 2013 state medical facilities plan, hoke county was designated as a single-county service area for the operating room need methodology. therefore, hoke, moore, and cumberland counties’ population growth rates were calculated as single-county operating room service areas. therefore, even if we were to reverse the alj’s approval of firsthealth’s or con, there is no possibility that on remand the alj could assess the needs of the cumberland/hoke service area, because it no longer exists. as a result, analysis of whether or not the alj should have considered the former cumberland/hoke service area would have no practical effect on the outcome of this case. “‘a case is moot when a determination is sought on a matter which, when rendered, cannot have any practical effect on the existing controversy.’” ass’n for home & hospice care of n.c., inc. v. div. of med. assistance, 214 n.c. app. 522, 525, 715 s.e.2d 285, 287-88 (2011) (quoting roberts v. madison cnty. realtors ass’n, 344 n.c. 394, 398-99, 474 s.e.2d 783, 787 (1996)). we grant firsthealth’s motion to take judicial notice and dismiss as moot cape fear’s argument concerning the former cumberland/hoke service area. cape fear opposes firsthealth’s motion for judicial notice, on the grounds that neither firsthealth hoke’s medical license nor the termination of the cumberland/hoke service area were before the alj at the time of the summary judgment hearing. however, we are not considering these documents in order to assess the correctness of the final decision, but to determine whether the appellate issue of the alj’s obligation to consider firsthealth’s or application in the context of the former cumberland/hoke service area remains extant. cape fear also argues that, in the event that we take judicial notice of the documents proffered by firsthealth, we should also take judicial notice of certain documents pertaining to firsthealth’s request to use available rooms in firsthealth hoke for treatment of emergency room patients. we deny cape fear’s request to take judicial notice of these documents, which are not relevant to our review of the alj’s summary judgment order. iv. dhhs compliance with n.c. gen. stat. § 131e-183 in its fourth argument, cape fear asserts that, even if the alj concluded that cape fear had not produced evidence of substantial prejudice, it was still required to determine whether dhhs had properly applied the review criteria in n.c. gen. stat. § 131e-183(a) in its approval of firsthealth’s or con. cape fear argues that “agency error may result in substantial prejudice,” and that “[b]ecause the final decision made no determination as to whether the agency erred, or otherwise met the section 150b-23 standards, genuine issues of material fact remain regarding whether agency error substantially prejudiced cape fear.” cape fear takes the position that, because it is possible, in a particular factual context, that substantial prejudice might result from agency error, that this possibility necessarily results in “genuine issues of material fact” unless the alj makes findings regarding dhhs’s compliance with all pertinent statutory provisions in addition to its determination that cape fear failed to show prejudice. we disagree. “this court has previously addressed the burden of a petitioner in a con contested case hearing pursuant to this statute. “under n.c. gen. stat. § 150b-23(a), the alj is to determine whether the petitioner has met its burden in showing that the agency substantially petitioner’s rights, and that the agency also acted outside its authority, acted erroneously, acted arbitrarily and capriciously, used improper procedure, or failed to act as required by law or rule.” prejudiced parkway urology, p.a. v. n.c. hhs, 205 n.c. app. 529, 536, 696 s.e.2d 187, 193 (2010) (quoting britthaven, inc. v. n.c. dep’t of human res., 118 n.c. app. 379, 382, 455 s.e.2d 455, 459 (1995)), disc. review denied, 365 n.c. 78, 705 s.e.2d 753 (2011) (emphasis in parkway urology). “in addition, in presbyterian hosp. v. n.c. dep’t of health & human servs., this court affirmed a grant of summary judgment against a non-applicant con challenger specifically because it had failed to demonstrate any genuine issue of material fact as to whether it had been substantially prejudiced by the award of a con to a nearby competitor.” id. in parkway urology, after determining that the appellant had not shown substantial prejudice, we stated that “[s]ince [the appellant] failed to establish that it was substantially prejudiced by the awarding of the con to [the appellee], it cannot be entitled to relief under n.c. gen. stat. § 150b-23(a). as a result, we decline to address [the appellant’s] additional challenges to the [agency decision].” id at 539, 696 s.e.2d at 195. cape fear does not identify any specific right that it possesses which was prejudiced by a particular agency error and we decline to adopt the general rule proposed by cape fear that, before an alj may rule that an appellant has not shown substantial prejudice, it must make findings regarding the agency’s compliance with all pertinent statutory requirements. cape fear also argues that it was “substantially prejudiced by the economic losses it will suffer as a result of the agency’s decision” to approve firsthealth’s or con application. however, “t]his court held in parkway urology that harm from normal competition does not amount to substantial prejudice: [the non-applicant’s] argument, in essence, would have us treat any increase in as and the area. argument inherently this substantial competition resulting from the award of a con substantially prejudicial to any pre-existing competing health service provider in the same would geographic eviscerate prejudice requirement contained in n.c. gen. stat. § 150b-23(a). . . . [the non-applicant] was required to provide specific evidence of harm resulting from the award of the con to [the applicant] that went beyond any harm that necessarily resulted from additional [or] competition . . . and ncdhhs concluded that it failed to do so. after a review of the whole record, we determine that ncdhhs properly denied [the non-applicant] relief due to its failure to establish substantial prejudice. caromont health, inc. v. n.c. hhs div. of health serv. regulation, __ n.c. app. __, 751 s.e.2d 244, 251 (2013) (quoting parkway urology, 205 n.c. app. at 539, 696 s.e.2d at 195). for the reasons discussed above, we conclude that the alj did not err by granting summary judgment in favor of firsthealth and dhhs, and that its final agency decision should be affirmed. judges geer and stroud concur. \n"
     ]
    }
   ],
   "source": [
    "# Test function to review and diagnose issues\n",
    "try:\n",
    "    test_cell = int(input(\"Index to Test:\"))\n",
    "    print(trial_judge(df.Opinion[test_cell]),\n",
    "          '\\n\\n', df.Opinion[test_cell])\n",
    "except:\n",
    "    print(\"Please enter an index to review:\")"
   ]
  },
  {
   "cell_type": "code",
   "execution_count": null,
   "metadata": {},
   "outputs": [],
   "source": [
    "len( \"harland dean campbell v. city of high point no. 438a01 (filed 18 december 2001) appeal pursuant to n.c.g.s. § 7a-30(2) from the decision of a divided panel of the court of appeals, ___ n.c. app. ___, 551 s.e.2d 443 (2001), affirming an order for summary judgment signed 4 april 2000 by albright, j., in superior court, guilford county. heard in the supreme court 10 december 2001. skager law firm, by philip r. skager, for plaintiff- appellant. womble ca\")"
   ]
  },
  {
   "cell_type": "markdown",
   "metadata": {},
   "source": [
    "162 - multiple\n",
    "204 - multiple\n",
    "215 - by judge clarence w. carter, superior court -- BY JUDGE ... but no IN\n",
    "246 - nonjudicial\n",
    "269 - nonjudicial\n",
    "285 - 1stimpression\n",
    "382 - multiple\n",
    "452 - multiple\n",
    "471 - nonjudicial\n",
    "493 - order entered 23 january 2003 by danny e. davis in  -- BY but no JUDGE ... IN\n",
    "496 - nonjudicial\n",
    "521 - by judge jack a. thompson at the -- \"AT\" instead of \"IN\"\n",
    "576 - nonjudicial\n",
    "606 - multiple\n",
    "664 - multiple\n",
    "670 - 1997 by w. russell duke, jr. in -- BY but no JUDGE ... IN 2222222222222222222\n",
    "715 - nonjudicial\n",
    "722 - SCT\n",
    "779 - by administrative law judge beecher r. gray."
   ]
  },
  {
   "cell_type": "markdown",
   "metadata": {},
   "source": [
    "## 7. Extract Feature: County"
   ]
  },
  {
   "cell_type": "code",
   "execution_count": null,
   "metadata": {},
   "outputs": [],
   "source": [
    "def extract_county(text):\n",
    "    try:\n",
    "        county = re.search(\"((\\w*) county)\",text[:700])\n",
    "        return county.group(2)\n",
    "    except:\n",
    "        return(None)"
   ]
  },
  {
   "cell_type": "code",
   "execution_count": null,
   "metadata": {},
   "outputs": [],
   "source": [
    "extract_county(df.Opinion[200])"
   ]
  },
  {
   "cell_type": "code",
   "execution_count": null,
   "metadata": {},
   "outputs": [],
   "source": [
    "county_list = []\n",
    "for i in range(len(df.Opinion)):\n",
    "    x = extract_county(df.Opinion[i])\n",
    "    county_list.append(x)\n",
    "    \n",
    "df[\"County\"] = pd.Series(county_list).values"
   ]
  },
  {
   "cell_type": "markdown",
   "metadata": {},
   "source": [
    "# Work through list below - resolve \"None\" and wrong counties"
   ]
  },
  {
   "cell_type": "code",
   "execution_count": null,
   "metadata": {},
   "outputs": [],
   "source": [
    "list = df.County.value_counts()\n",
    "print(list)"
   ]
  },
  {
   "cell_type": "markdown",
   "metadata": {},
   "source": [
    "## 8. Topic Modeling/One Shot Learning to Extract Embedded Features"
   ]
  },
  {
   "cell_type": "code",
   "execution_count": null,
   "metadata": {},
   "outputs": [],
   "source": []
  },
  {
   "cell_type": "code",
   "execution_count": null,
   "metadata": {},
   "outputs": [],
   "source": []
  },
  {
   "cell_type": "code",
   "execution_count": null,
   "metadata": {},
   "outputs": [],
   "source": []
  },
  {
   "cell_type": "markdown",
   "metadata": {},
   "source": [
    "## 9. EDA Visualizations"
   ]
  },
  {
   "cell_type": "markdown",
   "metadata": {},
   "source": [
    "### A. MSJ Allowed/Reversed Over Time"
   ]
  },
  {
   "cell_type": "code",
   "execution_count": null,
   "metadata": {},
   "outputs": [],
   "source": []
  },
  {
   "cell_type": "code",
   "execution_count": null,
   "metadata": {},
   "outputs": [],
   "source": []
  },
  {
   "cell_type": "markdown",
   "metadata": {},
   "source": [
    "### B. MSJ by Case Type"
   ]
  },
  {
   "cell_type": "code",
   "execution_count": null,
   "metadata": {},
   "outputs": [],
   "source": []
  },
  {
   "cell_type": "code",
   "execution_count": null,
   "metadata": {},
   "outputs": [],
   "source": []
  }
 ],
 "metadata": {
  "kernelspec": {
   "display_name": "Python 3",
   "language": "python",
   "name": "python3"
  },
  "language_info": {
   "codemirror_mode": {
    "name": "ipython",
    "version": 3
   },
   "file_extension": ".py",
   "mimetype": "text/x-python",
   "name": "python",
   "nbconvert_exporter": "python",
   "pygments_lexer": "ipython3",
   "version": "3.6.9"
  }
 },
 "nbformat": 4,
 "nbformat_minor": 2
}
