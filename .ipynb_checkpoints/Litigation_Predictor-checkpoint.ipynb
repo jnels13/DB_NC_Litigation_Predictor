{
 "cells": [
  {
   "cell_type": "markdown",
   "metadata": {},
   "source": [
    "# North Carolina Litigation Predictor\n",
    "# Final Preprocessing and Modeling<br><br>\n",
    "# ADDRESS CLASS IMBALANCE - MIGHT BE CAUSE OF SHITTY AUC\n",
    "\n",
    "\n",
    "### Contents:\n",
    "<ul>\n",
    "    <li> Import Libraries\n",
    "    <li> Final Preprocessing / One-Hot Encoding\n",
    "    <li> Model Creation\n",
    "        \n"
   ]
  },
  {
   "cell_type": "markdown",
   "metadata": {},
   "source": [
    "## Import Libraries & Data"
   ]
  },
  {
   "cell_type": "code",
   "execution_count": 60,
   "metadata": {},
   "outputs": [],
   "source": [
    "import io\n",
    "import pandas as pd\n",
    "import pickle\n",
    "\n",
    "from imblearn.over_sampling import SMOTE \n",
    "from sklearn.preprocessing import OneHotEncoder\n",
    "from sklearn.model_selection import train_test_split, GridSearchCV\n",
    "from sklearn import model_selection, naive_bayes, svm\n",
    "from sklearn.linear_model import LogisticRegression \n",
    "from sklearn.metrics import accuracy_score, classification_report, confusion_matrix, f1_score, roc_curve, auc\n",
    "\n",
    "import seaborn as sns\n",
    "import matplotlib.pyplot as plt\n",
    "%matplotlib inline\n",
    "import warnings\n",
    "warnings.filterwarnings(\"ignore\")"
   ]
  },
  {
   "cell_type": "code",
   "execution_count": 61,
   "metadata": {},
   "outputs": [],
   "source": [
    "# Open the dataframe\n",
    "infile = open('ProjectData/df_features.data', 'rb')\n",
    "df = pickle.load(infile)\n",
    "infile.close()"
   ]
  },
  {
   "cell_type": "markdown",
   "metadata": {},
   "source": [
    "### Review and Clean DataFrame of Unneeded Columns"
   ]
  },
  {
   "cell_type": "code",
   "execution_count": 62,
   "metadata": {},
   "outputs": [
    {
     "name": "stdout",
     "output_type": "stream",
     "text": [
      "<class 'pandas.core.frame.DataFrame'>\n",
      "RangeIndex: 2666 entries, 0 to 2665\n",
      "Data columns (total 9 columns):\n",
      "Opinion                 2666 non-null object\n",
      "SCT                     2666 non-null int64\n",
      "Year_Filed              2666 non-null int64\n",
      "File_Numbers            2666 non-null object\n",
      "Result                  2666 non-null int64\n",
      "Case_Type               2666 non-null object\n",
      "Case_Type_Confidence    2666 non-null object\n",
      "Trial_Judge             2666 non-null object\n",
      "County                  2666 non-null object\n",
      "dtypes: int64(3), object(6)\n",
      "memory usage: 187.6+ KB\n"
     ]
    }
   ],
   "source": [
    "df.info()"
   ]
  },
  {
   "cell_type": "code",
   "execution_count": 63,
   "metadata": {},
   "outputs": [
    {
     "name": "stdout",
     "output_type": "stream",
     "text": [
      "<class 'pandas.core.frame.DataFrame'>\n",
      "RangeIndex: 2666 entries, 0 to 2665\n",
      "Data columns (total 9 columns):\n",
      "Opinion                 2666 non-null object\n",
      "SCT                     2666 non-null int64\n",
      "Year_Filed              2666 non-null int64\n",
      "File_Numbers            2666 non-null object\n",
      "Result                  2666 non-null int64\n",
      "Case_Type               2666 non-null object\n",
      "Case_Type_Confidence    2666 non-null object\n",
      "Trial_Judge             2666 non-null object\n",
      "County                  2666 non-null object\n",
      "dtypes: int64(3), object(6)\n",
      "memory usage: 187.6+ KB\n"
     ]
    }
   ],
   "source": [
    "df.info()"
   ]
  },
  {
   "cell_type": "code",
   "execution_count": 64,
   "metadata": {},
   "outputs": [],
   "source": [
    "df.drop(['Opinion', 'SCT', 'File_Numbers', 'Case_Type_Confidence'], axis=1, inplace=True)"
   ]
  },
  {
   "cell_type": "code",
   "execution_count": 65,
   "metadata": {},
   "outputs": [
    {
     "name": "stdout",
     "output_type": "stream",
     "text": [
      "<class 'pandas.core.frame.DataFrame'>\n",
      "RangeIndex: 2666 entries, 0 to 2665\n",
      "Data columns (total 5 columns):\n",
      "Year_Filed     2666 non-null int64\n",
      "Result         2666 non-null int64\n",
      "Case_Type      2666 non-null object\n",
      "Trial_Judge    2666 non-null object\n",
      "County         2666 non-null object\n",
      "dtypes: int64(2), object(3)\n",
      "memory usage: 104.3+ KB\n"
     ]
    }
   ],
   "source": [
    "df.info()"
   ]
  },
  {
   "cell_type": "code",
   "execution_count": 66,
   "metadata": {},
   "outputs": [
    {
     "data": {
      "text/plain": [
       "Year_Filed     False\n",
       "Result         False\n",
       "Case_Type      False\n",
       "Trial_Judge    False\n",
       "County         False\n",
       "dtype: bool"
      ]
     },
     "execution_count": 66,
     "metadata": {},
     "output_type": "execute_result"
    }
   ],
   "source": [
    "df.isna().any()"
   ]
  },
  {
   "cell_type": "code",
   "execution_count": 67,
   "metadata": {},
   "outputs": [
    {
     "data": {
      "text/plain": [
       "(2666, 5)"
      ]
     },
     "execution_count": 67,
     "metadata": {},
     "output_type": "execute_result"
    }
   ],
   "source": [
    "df.shape"
   ]
  },
  {
   "cell_type": "markdown",
   "metadata": {},
   "source": [
    "### One-Hot Encoding and Train/Test Split"
   ]
  },
  {
   "cell_type": "code",
   "execution_count": 68,
   "metadata": {},
   "outputs": [],
   "source": [
    "y = df.Result\n",
    "X = df.drop(columns = ['Result'])"
   ]
  },
  {
   "cell_type": "code",
   "execution_count": 96,
   "metadata": {},
   "outputs": [],
   "source": [
    "# Either/Or of the following two:\n",
    "X_gd = pd.get_dummies(X)\n",
    "ohe = OneHotEncoder(handle_unknown='ignore')\n",
    "X_ohe = ohe.fit_transform(X)"
   ]
  },
  {
   "cell_type": "code",
   "execution_count": 104,
   "metadata": {},
   "outputs": [
    {
     "data": {
      "text/plain": [
       "array(['Year_Filed_1998', 'Year_Filed_1999', 'Year_Filed_2000',\n",
       "       'Year_Filed_2001', 'Year_Filed_2002', 'Year_Filed_2003',\n",
       "       'Year_Filed_2004', 'Year_Filed_2005', 'Year_Filed_2006',\n",
       "       'Year_Filed_2007', 'Year_Filed_2008', 'Year_Filed_2009',\n",
       "       'Year_Filed_2010', 'Year_Filed_2011', 'Year_Filed_2012',\n",
       "       'Year_Filed_2013', 'Year_Filed_2014', 'Year_Filed_2015',\n",
       "       'Year_Filed_2016', 'Year_Filed_2017', 'Year_Filed_2018',\n",
       "       'Year_Filed_2019', 'Year_Filed_2020', 'Case_Type_car_crash',\n",
       "       'Case_Type_construction', 'Case_Type_contract',\n",
       "       'Case_Type_corporate', 'Case_Type_defamation',\n",
       "       'Case_Type_employment', 'Case_Type_estates',\n",
       "       'Case_Type_family_law', 'Case_Type_fraud_udtpa',\n",
       "       'Case_Type_governmental', 'Case_Type_insurance',\n",
       "       'Case_Type_landlord_tenant', 'Case_Type_med_mal',\n",
       "       'Case_Type_other', 'Case_Type_premises', 'Case_Type_products',\n",
       "       'Case_Type_property', 'Case_Type_workers_comp',\n",
       "       'Case_Type_wrongful_death', \"Trial_Judge_['abernathy', 'g.']\",\n",
       "       \"Trial_Judge_['abernethy', 'richard']\",\n",
       "       \"Trial_Judge_['adams', 'gale']\", \"Trial_Judge_['adkins', 'karl']\",\n",
       "       \"Trial_Judge_['albright', 'r.']\",\n",
       "       \"Trial_Judge_['albright', 'robert']\",\n",
       "       \"Trial_Judge_['albright', 'stuart']\",\n",
       "       \"Trial_Judge_['albright', 'w.']\", \"Trial_Judge_['albright']\",\n",
       "       \"Trial_Judge_['aldridge', 'thomas']\",\n",
       "       \"Trial_Judge_['alexander', 'karen']\",\n",
       "       \"Trial_Judge_['alford', 'benjamin']\",\n",
       "       \"Trial_Judge_['allen', 'j.']\", \"Trial_Judge_['allen', 'philip']\",\n",
       "       \"Trial_Judge_['allen', 'stanley']\", \"Trial_Judge_['allen', 'w.']\",\n",
       "       \"Trial_Judge_['allsbrook', 'richard']\",\n",
       "       \"Trial_Judge_['ammons', 'james']\",\n",
       "       \"Trial_Judge_['anderson', 'charles']\",\n",
       "       \"Trial_Judge_['arguments', 'panel']\",\n",
       "       \"Trial_Judge_['baddour', 'allen']\",\n",
       "       \"Trial_Judge_['baddour', 'r.']\",\n",
       "       \"Trial_Judge_['baddour', 'richard']\",\n",
       "       \"Trial_Judge_['baker', 'james']\", \"Trial_Judge_['balog', 'steve']\",\n",
       "       \"Trial_Judge_['balog', 'steven']\", \"Trial_Judge_['banks', 'j.']\",\n",
       "       \"Trial_Judge_['barber', 'wade']\",\n",
       "       \"Trial_Judge_['barefoot', 'napoleon']\",\n",
       "       \"Trial_Judge_['barnette', 'henry']\",\n",
       "       \"Trial_Judge_['barrett', 'sharon']\",\n",
       "       \"Trial_Judge_['battle', 'f.']\", \"Trial_Judge_['beal', 'beverly']\",\n",
       "       \"Trial_Judge_['beal']\", \"Trial_Judge_['beale', 'michael']\",\n",
       "       \"Trial_Judge_['beaman', 'grafton']\", \"Trial_Judge_['bean', 'c.']\",\n",
       "       \"Trial_Judge_['bedsworth', 'george']\",\n",
       "       \"Trial_Judge_['bell', 'j.']\", \"Trial_Judge_['bell', 'james']\",\n",
       "       \"Trial_Judge_['bell', 'lisa']\", \"Trial_Judge_['bell', 'w.']\",\n",
       "       \"Trial_Judge_['best', 'kimberly']\",\n",
       "       \"Trial_Judge_['blackmore', 'rebecca']\",\n",
       "       \"Trial_Judge_['blake', 'aretha']\",\n",
       "       \"Trial_Judge_['bland', 'william']\",\n",
       "       \"Trial_Judge_['bledsoe', 'louis']\",\n",
       "       \"Trial_Judge_['blick', 'joseph']\",\n",
       "       \"Trial_Judge_['blount', 'marvin']\",\n",
       "       \"Trial_Judge_['bogle', 'ronald']\",\n",
       "       \"Trial_Judge_['boner', 'richard']\",\n",
       "       \"Trial_Judge_['bowen', 'wiley']\", \"Trial_Judge_['bowers', 'john']\",\n",
       "       \"Trial_Judge_['brady', 'robert']\",\n",
       "       \"Trial_Judge_['bragg', 'christopher']\",\n",
       "       \"Trial_Judge_['brannon', 'anthony']\",\n",
       "       \"Trial_Judge_['brantley', 'david']\",\n",
       "       \"Trial_Judge_['braswell', 'b.']\", \"Trial_Judge_['bray', 'susan']\",\n",
       "       \"Trial_Judge_['brewer', 'coy']\",\n",
       "       \"Trial_Judge_['bridges', 'donald']\",\n",
       "       \"Trial_Judge_['bridges', 'f.']\",\n",
       "       \"Trial_Judge_['bridges', 'forrest']\",\n",
       "       \"Trial_Judge_['bridges', 'kevin']\",\n",
       "       \"Trial_Judge_['bridges', 'laura']\",\n",
       "       \"Trial_Judge_['brooks', 'selina']\",\n",
       "       \"Trial_Judge_['brooks', 'william']\",\n",
       "       \"Trial_Judge_['brown', 'anthony']\",\n",
       "       \"Trial_Judge_['brown', 'craig']\",\n",
       "       \"Trial_Judge_['brown', 'deborah']\",\n",
       "       \"Trial_Judge_['brown', 'frank']\",\n",
       "       \"Trial_Judge_['brown', 'richard']\",\n",
       "       \"Trial_Judge_['brown', 'shirley']\",\n",
       "       \"Trial_Judge_['bryant', 'steven']\",\n",
       "       \"Trial_Judge_['bullock', 'stafford']\",\n",
       "       \"Trial_Judge_['burch', 'susan']\", \"Trial_Judge_['burke', 'l.']\",\n",
       "       \"Trial_Judge_['burroughs', 'robert']\",\n",
       "       \"Trial_Judge_['bushfan', 'elaine']\",\n",
       "       \"Trial_Judge_['butterfield', 'g.']\",\n",
       "       \"Trial_Judge_['caldwell', 'jesse']\",\n",
       "       \"Trial_Judge_['cameron', 'william']\",\n",
       "       \"Trial_Judge_['campbell', 'hugh']\",\n",
       "       \"Trial_Judge_['carolina', 'the']\",\n",
       "       \"Trial_Judge_['carter', 'clarence']\",\n",
       "       \"Trial_Judge_['cash', 'gary']\",\n",
       "       \"Trial_Judge_['cashwell', 'narley']\", \"Trial_Judge_['cashwell']\",\n",
       "       \"Trial_Judge_['caudill', 'gentry']\",\n",
       "       \"Trial_Judge_['caudill', 'j.']\",\n",
       "       \"Trial_Judge_['caviness', 'loto']\", \"Trial_Judge_['caviness']\",\n",
       "       \"Trial_Judge_['cayer', 'david']\",\n",
       "       \"Trial_Judge_['cella', 'eugene']\",\n",
       "       \"Trial_Judge_['chapman', 'ronald']\",\n",
       "       \"Trial_Judge_['cilley', 'robert']\",\n",
       "       \"Trial_Judge_['clark', 'giles']\", \"Trial_Judge_['cobb', 'w.']\",\n",
       "       \"Trial_Judge_['cobb']\", \"Trial_Judge_['cole', 'j.']\",\n",
       "       \"Trial_Judge_['collier', 'christopher']\",\n",
       "       \"Trial_Judge_['collins', 'g.']\",\n",
       "       \"Trial_Judge_['collins', 'george']\",\n",
       "       \"Trial_Judge_['conrad', 'adam']\",\n",
       "       \"Trial_Judge_['constangy', 'h.']\",\n",
       "       \"Trial_Judge_['cooper', 'pell']\", \"Trial_Judge_['corbett', 'a.']\",\n",
       "       \"Trial_Judge_['corbett', 'albert']\",\n",
       "       \"Trial_Judge_['cornelius', 'c.']\",\n",
       "       \"Trial_Judge_['cornelius', 'preston']\",\n",
       "       \"Trial_Judge_['corpening', 'j.']\", \"Trial_Judge_['court', 'the']\",\n",
       "       \"Trial_Judge_['covington', 'mary']\",\n",
       "       \"Trial_Judge_['coward', 'william']\",\n",
       "       \"Trial_Judge_['craig', 'john']\",\n",
       "       \"Trial_Judge_['cranford', 'dwight']\",\n",
       "       \"Trial_Judge_['cromer', 'anderson']\",\n",
       "       \"Trial_Judge_['cromer', 'andy']\", \"Trial_Judge_['croom', 'craig']\",\n",
       "       \"Trial_Judge_['crosswhite', 'joseph']\",\n",
       "       \"Trial_Judge_['crow', 'kenneth']\",\n",
       "       \"Trial_Judge_['daisy', 'william']\",\n",
       "       \"Trial_Judge_['dameron', 'e.']\", \"Trial_Judge_['davis', 'amber']\",\n",
       "       \"Trial_Judge_['davis', 'chester']\",\n",
       "       \"Trial_Judge_['davis', 'danny']\", \"Trial_Judge_['davis', 'j.']\",\n",
       "       \"Trial_Judge_['davis', 'james']\",\n",
       "       \"Trial_Judge_['davis', 'lindsay']\",\n",
       "       \"Trial_Judge_['davis', 'richard']\",\n",
       "       \"Trial_Judge_['davis', 'tommy']\",\n",
       "       \"Trial_Judge_['dellinger', 'j.']\",\n",
       "       \"Trial_Judge_['deramus', 'judson']\", \"Trial_Judge_['deramus']\",\n",
       "       \"Trial_Judge_['desvousges', 'shelley']\",\n",
       "       \"Trial_Judge_['diaz', 'albert']\",\n",
       "       \"Trial_Judge_['doughton', 'richard']\", \"Trial_Judge_['doughton']\",\n",
       "       \"Trial_Judge_['downs', 'james']\", \"Trial_Judge_['downs']\",\n",
       "       \"Trial_Judge_['duke', 'w.']\", \"Trial_Judge_['duncan', 'michael']\",\n",
       "       \"Trial_Judge_['eagles', 'catherine']\",\n",
       "       \"Trial_Judge_['eagles', 'margaret']\",\n",
       "       \"Trial_Judge_['edwards', 'c.']\", \"Trial_Judge_['ellis', 'b.']\",\n",
       "       \"Trial_Judge_['ellis', 'craig']\",\n",
       "       \"Trial_Judge_['ennis', 'spencer']\",\n",
       "       \"Trial_Judge_['entzminger', 'daniel']\",\n",
       "       \"Trial_Judge_['ervin', 'robert']\",\n",
       "       \"Trial_Judge_['etheridge', 'scott']\",\n",
       "       \"Trial_Judge_['evans', 'pat']\", \"Trial_Judge_['evans', 'robert']\",\n",
       "       \"Trial_Judge_['evans', 'yvonne']\",\n",
       "       \"Trial_Judge_['everett', 'clifton']\",\n",
       "       \"Trial_Judge_['fairley', 'william']\",\n",
       "       \"Trial_Judge_['faison', 'james']\",\n",
       "       \"Trial_Judge_['farmer', 'robert']\",\n",
       "       \"Trial_Judge_['ferrell', 'forrest']\",\n",
       "       \"Trial_Judge_['finch', 'daniel']\",\n",
       "       \"Trial_Judge_['fitch', 'milton']\", \"Trial_Judge_['floyd', 'r.']\",\n",
       "       \"Trial_Judge_['floyd', 'robert']\", \"Trial_Judge_['ford', 'larry']\",\n",
       "       \"Trial_Judge_['foster', 'anna']\",\n",
       "       \"Trial_Judge_['foster', 'jefferey']\",\n",
       "       \"Trial_Judge_['foster', 'jeffrey']\",\n",
       "       \"Trial_Judge_['foster', 'thomas']\",\n",
       "       \"Trial_Judge_['foust', 'linwood']\", \"Trial_Judge_['fox', 'carl']\",\n",
       "       \"Trial_Judge_['foy', 'louis']\",\n",
       "       \"Trial_Judge_['freeman', 'william']\",\n",
       "       \"Trial_Judge_['frye', 'henry']\",\n",
       "       \"Trial_Judge_['fullwood', 'ernest']\",\n",
       "       \"Trial_Judge_['fullwood', 'james']\",\n",
       "       \"Trial_Judge_['futrell', 'stephan']\",\n",
       "       \"Trial_Judge_['gale', 'james']\",\n",
       "       \"Trial_Judge_['galloway', 'mark']\",\n",
       "       \"Trial_Judge_['gardner', 'john']\",\n",
       "       \"Trial_Judge_['gavenus', 'gary']\", \"Trial_Judge_['gavin', 'lee']\",\n",
       "       \"Trial_Judge_['gaylor', 'charles']\",\n",
       "       \"Trial_Judge_['gentry', 'mike']\",\n",
       "       \"Trial_Judge_['gessner', 'paul']\",\n",
       "       \"Trial_Judge_['gilchrist', 'c.']\", \"Trial_Judge_['ginn', 'c.']\",\n",
       "       \"Trial_Judge_['ginn', 'charles']\",\n",
       "       \"Trial_Judge_['godwin', 'walter']\",\n",
       "       \"Trial_Judge_['gordon', 'nancy']\",\n",
       "       \"Trial_Judge_['gore', 'william']\", \"Trial_Judge_['gore']\",\n",
       "       \"Trial_Judge_['gorham', 'phyllis']\",\n",
       "       \"Trial_Judge_['gottlieb', 'richard']\",\n",
       "       \"Trial_Judge_['graham', 'william']\", \"Trial_Judge_['graham']\",\n",
       "       \"Trial_Judge_['grant', 'cy']\", \"Trial_Judge_['gray', 'beecher']\",\n",
       "       \"Trial_Judge_['gray', 'jane']\", \"Trial_Judge_['gray', 'marvin']\",\n",
       "       \"Trial_Judge_['greeson', 'howard']\",\n",
       "       \"Trial_Judge_['gregory', 'edgar']\",\n",
       "       \"Trial_Judge_['gregory', 'keith']\",\n",
       "       \"Trial_Judge_['griffin', 'william']\",\n",
       "       \"Trial_Judge_['grimes', 'samuel']\",\n",
       "       \"Trial_Judge_['gryder', 'rebecca']\",\n",
       "       \"Trial_Judge_['guice', 'zoro']\",\n",
       "       \"Trial_Judge_['haigwood', 'thomas']\",\n",
       "       \"Trial_Judge_['hall', 'david']\",\n",
       "       \"Trial_Judge_['hamby', 'william']\",\n",
       "       \"Trial_Judge_['hardin', 'james']\",\n",
       "       \"Trial_Judge_['harper', 'jane']\", \"Trial_Judge_['harrell', 'r.']\",\n",
       "       \"Trial_Judge_['harrison', 'hal']\",\n",
       "       \"Trial_Judge_['harriss', 'meader']\",\n",
       "       \"Trial_Judge_['hartsfield', 'denise']\",\n",
       "       \"Trial_Judge_['hassell', 'a.']\",\n",
       "       \"Trial_Judge_['hassell', 'andrew']\",\n",
       "       \"Trial_Judge_['heath', 'andrew']\",\n",
       "       \"Trial_Judge_['heath', 'elizabeth']\",\n",
       "       \"Trial_Judge_['hedrick', 'edward']\",\n",
       "       \"Trial_Judge_['height', 'henry']\",\n",
       "       \"Trial_Judge_['helms', 'michael']\",\n",
       "       \"Trial_Judge_['helms', 'william']\",\n",
       "       \"Trial_Judge_['henry', 'charles']\",\n",
       "       \"Trial_Judge_['herring', 'd.']\", \"Trial_Judge_['hight', 'henry']\",\n",
       "       \"Trial_Judge_['hight']\", \"Trial_Judge_['hill', 'claire']\",\n",
       "       \"Trial_Judge_['hill', 'evelyn']\", \"Trial_Judge_['hill', 'james']\",\n",
       "       \"Trial_Judge_['hill', 'kendra']\",\n",
       "       \"Trial_Judge_['hinnant', 'patrice']\",\n",
       "       \"Trial_Judge_['hinton', 'alma']\",\n",
       "       \"Trial_Judge_['hobgood', 'robert']\", \"Trial_Judge_['hobgood']\",\n",
       "       \"Trial_Judge_['hockenbury', 'jay']\",\n",
       "       \"Trial_Judge_['hodges', 'robert']\",\n",
       "       \"Trial_Judge_['holshouser', 'john']\",\n",
       "       \"Trial_Judge_['holt', 'rebecca']\",\n",
       "       \"Trial_Judge_['holt', 'shelly']\", \"Trial_Judge_['hooks', 'd.']\",\n",
       "       \"Trial_Judge_['hooks', 'dewey']\",\n",
       "       \"Trial_Judge_['hoover', 'donnie']\",\n",
       "       \"Trial_Judge_['horne', 'gregory']\", \"Trial_Judge_['horne', 'r.']\",\n",
       "       \"Trial_Judge_['horton', 'clarence']\",\n",
       "       \"Trial_Judge_['houston', 'jeanie']\",\n",
       "       \"Trial_Judge_['hudson', 'orlando']\",\n",
       "       \"Trial_Judge_['hughes', 'f.']\", \"Trial_Judge_['hunt', 'jeff']\",\n",
       "       \"Trial_Judge_['hyatt', 'j.']\", \"Trial_Judge_['hyatt', 'marlene']\",\n",
       "       \"Trial_Judge_['iii', 'james']\", \"Trial_Judge_['inman', 'lucy']\",\n",
       "       \"Trial_Judge_['jarrell', 'h.']\", \"Trial_Judge_['jenkins', 'jack']\",\n",
       "       \"Trial_Judge_['jenkins', 'knox']\",\n",
       "       \"Trial_Judge_['john', 'joseph']\", \"Trial_Judge_['johnson', 'e.']\",\n",
       "       \"Trial_Judge_['johnson', 'marcus']\",\n",
       "       \"Trial_Judge_['johnson', 'robert']\",\n",
       "       \"Trial_Judge_['johnston', 'robert']\", \"Trial_Judge_['johnston']\",\n",
       "       \"Trial_Judge_['jolly', 'jerry']\", \"Trial_Judge_['jolly', 'john']\",\n",
       "       \"Trial_Judge_['jones', 'abraham']\",\n",
       "       \"Trial_Judge_['jones', 'arnold']\", \"Trial_Judge_['jones', 'paul']\",\n",
       "       \"Trial_Judge_['jones', 'william']\",\n",
       "       \"Trial_Judge_['jordan', 'lillian']\",\n",
       "       \"Trial_Judge_['joseph', 'shannon']\",\n",
       "       \"Trial_Judge_['keever', 'a.']\", \"Trial_Judge_['key', 'spencer']\",\n",
       "       \"Trial_Judge_['kincaid', 'timothy']\",\n",
       "       \"Trial_Judge_['klass', 'mark']\", \"Trial_Judge_['knight', 'peter']\",\n",
       "       \"Trial_Judge_['knox', 'michael']\",\n",
       "       \"Trial_Judge_['kuehnert', 'daniel']\",\n",
       "       \"Trial_Judge_['kwasikpui', 'alfred']\",\n",
       "       \"Trial_Judge_['labarre', 'david']\",\n",
       "       \"Trial_Judge_['lambeth', 'd.']\",\n",
       "       \"Trial_Judge_['lambeth', 'david']\",\n",
       "       \"Trial_Judge_['lamm', 'charles']\",\n",
       "       \"Trial_Judge_['lanier', 'franklin']\",\n",
       "       \"Trial_Judge_['lanier', 'russell']\",\n",
       "       \"Trial_Judge_['lanning', 'james']\",\n",
       "       \"Trial_Judge_['lassiter', 'melissa']\",\n",
       "       \"Trial_Judge_['lawton', 'william']\",\n",
       "       \"Trial_Judge_['leake', 'larry']\",\n",
       "       \"Trial_Judge_['leavell', 'william']\",\n",
       "       \"Trial_Judge_['lee', 'jacquelyn']\", \"Trial_Judge_['lee', 'w.']\",\n",
       "       \"Trial_Judge_['letts', 'bradley']\",\n",
       "       \"Trial_Judge_['levinson', 'eric']\",\n",
       "       \"Trial_Judge_['lewis', 'hugh']\", \"Trial_Judge_['lewis', 'john']\",\n",
       "       \"Trial_Judge_['lewis', 'ola']\", \"Trial_Judge_['lewis', 'robert']\",\n",
       "       \"Trial_Judge_['lewis', 'w.']\",\n",
       "       \"Trial_Judge_['llewellyn', 'james']\",\n",
       "       \"Trial_Judge_['lock', 'thomas']\",\n",
       "       \"Trial_Judge_['locklear', 'gary']\",\n",
       "       \"Trial_Judge_['long', 'lunsford']\", \"Trial_Judge_['long', 'v.']\",\n",
       "       \"Trial_Judge_['long', 'vance']\", \"Trial_Judge_['love', 'jimmy']\",\n",
       "       \"Trial_Judge_['maness', 'jayrene']\",\n",
       "       \"Trial_Judge_['mangum', 'ned']\",\n",
       "       \"Trial_Judge_['manning', 'howard']\",\n",
       "       \"Trial_Judge_['martin', 'jerry']\",\n",
       "       \"Trial_Judge_['martin', 'lester']\", \"Trial_Judge_['massey', 'a.']\",\n",
       "       \"Trial_Judge_['massey', 'moses']\", \"Trial_Judge_['may', 'j.']\",\n",
       "       \"Trial_Judge_['mccormick', 'edward']\",\n",
       "       \"Trial_Judge_['mccoy', 'h.']\", \"Trial_Judge_['mcgee', 'martin']\",\n",
       "       \"Trial_Judge_['mcguire', 'gregory']\",\n",
       "       \"Trial_Judge_['mchugh', 'peter']\",\n",
       "       \"Trial_Judge_['mckeller', 'c.']\", \"Trial_Judge_['mckown', 'ann']\",\n",
       "       \"Trial_Judge_['mclean', 'mitchell']\",\n",
       "       \"Trial_Judge_['mcswain', 'lawrence']\",\n",
       "       \"Trial_Judge_['mcthenia', 'paige']\",\n",
       "       \"Trial_Judge_['miller', 'gordon']\",\n",
       "       \"Trial_Judge_['miller', 'regan']\", \"Trial_Judge_['mills', 'l.']\",\n",
       "       \"Trial_Judge_['morelock', 'fred']\",\n",
       "       \"Trial_Judge_['morey', 'marcia']\",\n",
       "       \"Trial_Judge_['morgan', 'eric']\",\n",
       "       \"Trial_Judge_['morgan', 'james']\",\n",
       "       \"Trial_Judge_['morgan', 'melzer']\",\n",
       "       \"Trial_Judge_['morgan', 'michael']\",\n",
       "       \"Trial_Judge_['morton', 'j.']\",\n",
       "       \"Trial_Judge_['mullinax', 'robert']\",\n",
       "       \"Trial_Judge_['murphy', 'calvin']\",\n",
       "       \"Trial_Judge_['myers', 'jimmy']\",\n",
       "       \"Trial_Judge_['nance', 'commissioner']\",\n",
       "       \"Trial_Judge_['noble', 'l.']\", \"Trial_Judge_['noble', 'lucy']\",\n",
       "       \"Trial_Judge_['noble', 'oliver']\",\n",
       "       \"Trial_Judge_['nobles', 'john']\",\n",
       "       \"Trial_Judge_['norelli', 'nancy']\",\n",
       "       \"Trial_Judge_['ofoghludha', 'michael']\",\n",
       "       \"Trial_Judge_['oneal', 'elaine']\",\n",
       "       \"Trial_Judge_['orders', 'walter']\",\n",
       "       \"Trial_Judge_['osman', 'matthew']\",\n",
       "       \"Trial_Judge_['overby', 'donald']\", \"Trial_Judge_['parker', 'j.']\",\n",
       "       \"Trial_Judge_['parker', 'regina']\",\n",
       "       \"Trial_Judge_['parker', 'richard']\",\n",
       "       \"Trial_Judge_['parsons', 'w.']\",\n",
       "       \"Trial_Judge_['patti', 'timothy']\", \"Trial_Judge_['patti']\",\n",
       "       \"Trial_Judge_['payne', 'ronald']\", \"Trial_Judge_['penry', 'j.']\",\n",
       "       \"Trial_Judge_['phillips', 'herbert']\",\n",
       "       \"Trial_Judge_['pittman', 'william']\",\n",
       "       \"Trial_Judge_['pomeroy', 'w.']\", \"Trial_Judge_['pool', 'c.']\",\n",
       "       \"Trial_Judge_['poovey', 'nathaniel']\",\n",
       "       \"Trial_Judge_['pope', 'marvin']\", \"Trial_Judge_['powell', 'mark']\",\n",
       "       \"Trial_Judge_['quinn', 'paul']\", \"Trial_Judge_['rader', 'robert']\",\n",
       "       \"Trial_Judge_['ragan', 'james']\", \"Trial_Judge_['rand', 'ripley']\",\n",
       "       \"Trial_Judge_['reviewable', 'and']\",\n",
       "       \"Trial_Judge_['ridgeway', 'paul']\",\n",
       "       \"Trial_Judge_['roberson', 'james']\",\n",
       "       \"Trial_Judge_['robinson', 'michael']\",\n",
       "       \"Trial_Judge_['roda', 'peter']\",\n",
       "       \"Trial_Judge_['roemer', 'victoria']\",\n",
       "       \"Trial_Judge_['ross', 'thomas']\",\n",
       "       \"Trial_Judge_['rousseau', 'julius']\",\n",
       "       \"Trial_Judge_['royster', 'ted']\",\n",
       "       \"Trial_Judge_['royster', 'theodore']\",\n",
       "       \"Trial_Judge_['ruled', 'ronald']\",\n",
       "       \"Trial_Judge_['salisbury', 'anne']\",\n",
       "       \"Trial_Judge_['sasser', 'debra']\",\n",
       "       \"Trial_Judge_['sasser', 'douglas']\",\n",
       "       \"Trial_Judge_['saunders', 'chase']\",\n",
       "       \"Trial_Judge_['scarlett', 'beverly']\",\n",
       "       \"Trial_Judge_['scott', 'ward']\", \"Trial_Judge_['seaton', 'sarah']\",\n",
       "       \"Trial_Judge_['seay', 'thomas']\",\n",
       "       \"Trial_Judge_['sermons', 'wayland']\",\n",
       "       \"Trial_Judge_['sharpe', 'margaret']\",\n",
       "       \"Trial_Judge_['shirley', 'a.']\",\n",
       "       \"Trial_Judge_['sitton', 'claude']\",\n",
       "       \"Trial_Judge_['smith', 'donald']\", \"Trial_Judge_['smith', 'john']\",\n",
       "       \"Trial_Judge_['smith', 'osmond']\", \"Trial_Judge_['smith', 'sean']\",\n",
       "       \"Trial_Judge_['smith', 'timothy']\", \"Trial_Judge_['smith', 'w.']\",\n",
       "       \"Trial_Judge_['southern', 'william']\",\n",
       "       \"Trial_Judge_['spainhour', 'w.']\",\n",
       "       \"Trial_Judge_['spencer', 'cheryl']\",\n",
       "       \"Trial_Judge_['spencer', 'james']\", \"Trial_Judge_['spencer']\",\n",
       "       \"Trial_Judge_['spivey', 'ronald']\",\n",
       "       \"Trial_Judge_['stanback', 'a.']\",\n",
       "       \"Trial_Judge_['stanback', 'leon']\",\n",
       "       \"Trial_Judge_['staton', 'kimberly']\",\n",
       "       \"Trial_Judge_['steelman', 'sanford']\",\n",
       "       \"Trial_Judge_['stephens', 'donald']\",\n",
       "       \"Trial_Judge_['stephens', 'ronald']\",\n",
       "       \"Trial_Judge_['stewart', 'caron']\",\n",
       "       \"Trial_Judge_['stiehl', 'robert']\",\n",
       "       \"Trial_Judge_['stone', 'richard']\",\n",
       "       \"Trial_Judge_['strickland', 'david']\",\n",
       "       \"Trial_Judge_['strickland', 'james']\",\n",
       "       \"Trial_Judge_['stubbs', 'alice']\",\n",
       "       \"Trial_Judge_['sturges', 'cindy']\",\n",
       "       \"Trial_Judge_['sumner', 'quentin']\",\n",
       "       \"Trial_Judge_['sumner', 'robert']\",\n",
       "       \"Trial_Judge_['tally', 'mary']\", \"Trial_Judge_['taylor', 'kim']\",\n",
       "       \"Trial_Judge_['taylor', 'kimberly']\",\n",
       "       \"Trial_Judge_['taylor', 'susan']\",\n",
       "       \"Trial_Judge_['tennille', 'ben']\",\n",
       "       \"Trial_Judge_['thalheimer', 'ben']\", \"Trial_Judge_['that', 'to']\",\n",
       "       \"Trial_Judge_['thigpen', 'cressie']\",\n",
       "       \"Trial_Judge_['thompson', 'carolyn']\",\n",
       "       \"Trial_Judge_['thompson', 'jack']\",\n",
       "       \"Trial_Judge_['thornburg', 'alan']\",\n",
       "       \"Trial_Judge_['tilghman', 'carl']\",\n",
       "       \"Trial_Judge_['tillery', 'bradford']\",\n",
       "       \"Trial_Judge_['tillet', 'jerry']\",\n",
       "       \"Trial_Judge_['tillett', 'jerry']\",\n",
       "       \"Trial_Judge_['titus', 'kenneth']\",\n",
       "       \"Trial_Judge_['trawick', 'gary']\",\n",
       "       \"Trial_Judge_['trivette', 'robert']\",\n",
       "       \"Trial_Judge_['trosch', 'elizabeth']\",\n",
       "       \"Trial_Judge_['trosch', 'louis']\",\n",
       "       \"Trial_Judge_['tucker', 'kimbrell']\",\n",
       "       \"Trial_Judge_['turner', 'joseph']\", \"Trial_Judge_['turner', 'r.']\",\n",
       "       \"Trial_Judge_['vosburg', 'james']\",\n",
       "       \"Trial_Judge_['vosburgh', 'james']\",\n",
       "       \"Trial_Judge_['waddell', 'jerry']\",\n",
       "       \"Trial_Judge_['wagoner', 'anna']\",\n",
       "       \"Trial_Judge_['wainwright', 'george']\",\n",
       "       \"Trial_Judge_['walczyk', 'christine']\",\n",
       "       \"Trial_Judge_['walker', 'richard']\",\n",
       "       \"Trial_Judge_['walker', 'russell']\",\n",
       "       \"Trial_Judge_['wallace', 'tanya']\",\n",
       "       \"Trial_Judge_['warren', 'raymond']\",\n",
       "       \"Trial_Judge_['warren', 'steve']\",\n",
       "       \"Trial_Judge_['warren', 'steven']\",\n",
       "       \"Trial_Judge_['watson', 'ebern']\", \"Trial_Judge_['webb', 'james']\",\n",
       "       \"Trial_Judge_['weeks', 'gregory']\",\n",
       "       \"Trial_Judge_['wiggins', 'lamont']\",\n",
       "       \"Trial_Judge_['wijewickrama', 'roy']\",\n",
       "       \"Trial_Judge_['wilhelm', 'christy']\",\n",
       "       \"Trial_Judge_['willey', 'joshua']\",\n",
       "       \"Trial_Judge_['williams', 'joseph']\",\n",
       "       \"Trial_Judge_['williams', 'karen']\",\n",
       "       \"Trial_Judge_['williamson', 'f.']\",\n",
       "       \"Trial_Judge_['wilson', 'edwin']\",\n",
       "       \"Trial_Judge_['winner', 'dennis']\",\n",
       "       \"Trial_Judge_['wood', 'william']\", \"Trial_Judge_['z', 'albert']\",\n",
       "       \"Trial_Judge_['zimmerman', 'h.']\", 'County_a', 'County_alamance',\n",
       "       'County_alexander', 'County_alleghany', 'County_and',\n",
       "       'County_another', 'County_anson', 'County_ashe', 'County_avery',\n",
       "       'County_beaufort', 'County_bertie', 'County_bladen',\n",
       "       'County_brunswick', 'County_buncombe', 'County_burke',\n",
       "       'County_cabarrus', 'County_caldwell', 'County_camden',\n",
       "       'County_carteret', 'County_caswell', 'County_catawba',\n",
       "       'County_chatham', 'County_cherokee', 'County_chowan',\n",
       "       'County_claiborne', 'County_cleveland', 'County_columbus',\n",
       "       'County_consolidated', 'County_craven', 'County_cumberland',\n",
       "       'County_currituck', 'County_dare', 'County_davidson',\n",
       "       'County_davie', 'County_duplin', 'County_durham',\n",
       "       'County_edgecombe', 'County_forsyth', 'County_four',\n",
       "       'County_franklin', 'County_gaston', 'County_gates',\n",
       "       'County_graham', 'County_granville', 'County_greene',\n",
       "       'County_guilford', 'County_halifax', 'County_hanover',\n",
       "       'County_harnett', 'County_haywood', 'County_henderson',\n",
       "       'County_hertford', 'County_hoke', 'County_hyde', 'County_iredell',\n",
       "       'County_jackson', 'County_johnston', 'County_jones', 'County_lee',\n",
       "       'County_lenoir', 'County_lincoln', 'County_macon',\n",
       "       'County_madison', 'County_martin', 'County_mcdowell',\n",
       "       'County_mecklenberg', 'County_mecklenburg', 'County_mitchell',\n",
       "       'County_montgomery', 'County_moore', 'County_nash',\n",
       "       'County_northampton', 'County_northhampton', 'County_onslow',\n",
       "       'County_orange', 'County_pamlico', 'County_pasquotank',\n",
       "       'County_pender', 'County_perquimans', 'County_person',\n",
       "       'County_pitt', 'County_polk', 'County_proper', 'County_randolph',\n",
       "       'County_richmond', 'County_robeson', 'County_rockingham',\n",
       "       'County_rowan', 'County_rutherford', 'County_sampson',\n",
       "       'County_scotland', 'County_stanly', 'County_stokes',\n",
       "       'County_surry', 'County_swain', 'County_the',\n",
       "       'County_transylvania', 'County_union', 'County_vance',\n",
       "       'County_wake', 'County_warren', 'County_washington',\n",
       "       'County_watauga', 'County_wayne', 'County_wilkes', 'County_wilson',\n",
       "       'County_yadkin', 'County_yancey'], dtype=object)"
      ]
     },
     "execution_count": 104,
     "metadata": {},
     "output_type": "execute_result"
    }
   ],
   "source": [
    "ohe.get_feature_names(X.columns)\n",
    "# X.columns"
   ]
  },
  {
   "cell_type": "code",
   "execution_count": 74,
   "metadata": {},
   "outputs": [
    {
     "data": {
      "text/plain": [
       "((2666, 595), (2666, 617))"
      ]
     },
     "execution_count": 74,
     "metadata": {},
     "output_type": "execute_result"
    }
   ],
   "source": [
    "X_gd.shape, X_ohe.shape"
   ]
  },
  {
   "cell_type": "code",
   "execution_count": 77,
   "metadata": {},
   "outputs": [
    {
     "data": {
      "text/plain": [
       "1    1984\n",
       "0     682\n",
       "Name: Result, dtype: int64"
      ]
     },
     "execution_count": 77,
     "metadata": {},
     "output_type": "execute_result"
    }
   ],
   "source": [
    "# View class imbalance\n",
    "y.value_counts()"
   ]
  },
  {
   "cell_type": "code",
   "execution_count": 78,
   "metadata": {},
   "outputs": [
    {
     "data": {
      "text/plain": [
       "<matplotlib.axes._subplots.AxesSubplot at 0x7fab22423940>"
      ]
     },
     "execution_count": 78,
     "metadata": {},
     "output_type": "execute_result"
    },
    {
     "data": {
      "image/png": "[encoded data removed]",
      "text/plain": [
       "<Figure size 432x288 with 1 Axes>"
      ]
     },
     "metadata": {},
     "output_type": "display_data"
    }
   ],
   "source": [
    "#Visualize class imbalance\n",
    "y.value_counts().plot.pie(autopct=\"%.1f%%\")"
   ]
  },
  {
   "cell_type": "code",
   "execution_count": 80,
   "metadata": {},
   "outputs": [],
   "source": [
    "X_train, X_test, y_train, y_test = train_test_split(X_ohe,y,random_state = 42, test_size = 0.3)"
   ]
  },
  {
   "cell_type": "code",
   "execution_count": 86,
   "metadata": {},
   "outputs": [],
   "source": [
    "sm = SMOTE(sampling_strategy='auto', k_neighbors=2, random_state=42)\n",
    "X_train ,y_train = sm.fit_resample(X_train, y_train) "
   ]
  },
  {
   "cell_type": "code",
   "execution_count": 87,
   "metadata": {},
   "outputs": [
    {
     "data": {
      "image/png": "[encoded data removed]",
      "text/plain": [
       "<Figure size 432x288 with 1 Axes>"
      ]
     },
     "metadata": {},
     "output_type": "display_data"
    }
   ],
   "source": [
    "pd.Series(y_train).value_counts().plot.pie(autopct=\"%.1f%%\");"
   ]
  },
  {
   "cell_type": "markdown",
   "metadata": {},
   "source": [
    "## Modeling\n",
    "\n",
    "Some research into the best probabilistic classification models suggests that logistic regression, SVMs, and neural networks would be the best fit for the intended goal.  I will run each on the data and see which performs best. "
   ]
  },
  {
   "cell_type": "markdown",
   "metadata": {},
   "source": [
    "### Logistic Regression Model"
   ]
  },
  {
   "cell_type": "code",
   "execution_count": 88,
   "metadata": {},
   "outputs": [],
   "source": [
    "def auc_chart(fpr,tpr):\n",
    "    sns.set_style('darkgrid', {'axes.facecolor': '0.9'})\n",
    "    # Plot the ROC curve\n",
    "    plt.figure(figsize=(10, 8))\n",
    "    lw = 2\n",
    "    plt.plot(fpr, tpr, color='darkorange',\n",
    "             lw=lw, label='ROC curve')\n",
    "\n",
    "    plt.plot([0, 1], [0, 1], color='navy', lw=lw, linestyle='--')\n",
    "    plt.xlim([0.0, 1.0])\n",
    "    plt.ylim([0.0, 1.05])\n",
    "    plt.yticks([i/20.0 for i in range(21)])\n",
    "    plt.xticks([i/20.0 for i in range(21)])\n",
    "    plt.xlabel('False Positive Rate')\n",
    "    plt.ylabel('True Positive Rate')\n",
    "    plt.title('Receiver operating characteristic (ROC) Curve')\n",
    "    plt.legend(loc='lower right')\n",
    "    plt.show()"
   ]
  },
  {
   "cell_type": "code",
   "execution_count": 89,
   "metadata": {},
   "outputs": [],
   "source": [
    "def logreg_fn(X_train, X_test, y_train, y_test, params):\n",
    "    logreg_clf = LogisticRegression(random_state=12)\n",
    "    logreg_gs = GridSearchCV(logreg_clf, params, cv=5)\n",
    "    logreg_gs.fit(X_train, y_train)\n",
    "    best = logreg_gs.best_params_\n",
    "    \n",
    "    logreg_final = LogisticRegression(solver=best['solver'],\n",
    "                                      penalty=best['penalty'],\n",
    "                                      C=best['C'], \n",
    "                                      random_state=12)\n",
    "    \n",
    "    logreg_final.fit(X_train, y_train)\n",
    "    y_hat = logreg_final.predict(X_test)\n",
    "    y_score = logreg_final.decision_function(X_test)\n",
    "    fpr, tpr, thresholds = roc_curve(y_test, y_score)\n",
    "    AUC = auc(fpr, tpr)\n",
    "\n",
    "    print('Best params:',best,\n",
    "          '\\n Accuracy Score - Test: ', accuracy_score(y_test, y_hat),\n",
    "          '\\n Confusion Matrix:\\n', confusion_matrix(y_test, y_hat), \n",
    "          '\\n AUC: ', AUC)\n",
    "    \n",
    "    auc_chart(fpr,tpr)\n",
    "    \n",
    "    return()\n",
    "    "
   ]
  },
  {
   "cell_type": "code",
   "execution_count": 90,
   "metadata": {},
   "outputs": [
    {
     "name": "stdout",
     "output_type": "stream",
     "text": [
      "Best params: {'C': 100, 'penalty': 'none', 'solver': 'lbfgs'} \n",
      " Accuracy Score - Test:  0.56125 \n",
      " Confusion Matrix:\n",
      " [[ 59 140]\n",
      " [211 390]] \n",
      " AUC:  0.4613667338355672\n"
     ]
    },
    {
     "data": {
      "image/png": "[encoded data removed]",
      "text/plain": [
       "<Figure size 720x576 with 1 Axes>"
      ]
     },
     "metadata": {},
     "output_type": "display_data"
    },
    {
     "data": {
      "text/plain": [
       "()"
      ]
     },
     "execution_count": 90,
     "metadata": {},
     "output_type": "execute_result"
    }
   ],
   "source": [
    "parameters = {'C':[100,10,1,.1,.01], \n",
    "              'penalty':['l1', 'l2', 'elasticnet', 'none'],\n",
    "              'solver':['liblinear', 'newton-cg', 'lbfgs', 'sag', 'saga']}\n",
    "\n",
    "logreg_fn(X_train, X_test, y_train, y_test, parameters)"
   ]
  },
  {
   "cell_type": "markdown",
   "metadata": {},
   "source": [
    "AUC is NOT GOOD!  The plot is nearly clinging to the 50% line.  \n",
    "Accuracy is decent, but per the AUC, it's because the model is predicting almost everything as \"reversed.\" "
   ]
  },
  {
   "cell_type": "code",
   "execution_count": 91,
   "metadata": {},
   "outputs": [
    {
     "ename": "AttributeError",
     "evalue": "get_params not found",
     "output_type": "error",
     "traceback": [
      "\u001b[0;31m---------------------------------------------------------------------------\u001b[0m",
      "\u001b[0;31mAttributeError\u001b[0m                            Traceback (most recent call last)",
      "\u001b[0;32m<ipython-input-91-deff899ea29a>\u001b[0m in \u001b[0;36m<module>\u001b[0;34m\u001b[0m\n\u001b[0;32m----> 1\u001b[0;31m \u001b[0mX_ohe\u001b[0m\u001b[0;34m.\u001b[0m\u001b[0mget_params\u001b[0m\u001b[0;34m\u001b[0m\u001b[0;34m\u001b[0m\u001b[0m\n\u001b[0m",
      "\u001b[0;32m~/opt/anaconda3/envs/learn-env/lib/python3.6/site-packages/scipy/sparse/base.py\u001b[0m in \u001b[0;36m__getattr__\u001b[0;34m(self, attr)\u001b[0m\n\u001b[1;32m    686\u001b[0m             \u001b[0;32mreturn\u001b[0m \u001b[0mself\u001b[0m\u001b[0;34m.\u001b[0m\u001b[0mgetnnz\u001b[0m\u001b[0;34m(\u001b[0m\u001b[0;34m)\u001b[0m\u001b[0;34m\u001b[0m\u001b[0;34m\u001b[0m\u001b[0m\n\u001b[1;32m    687\u001b[0m         \u001b[0;32melse\u001b[0m\u001b[0;34m:\u001b[0m\u001b[0;34m\u001b[0m\u001b[0;34m\u001b[0m\u001b[0m\n\u001b[0;32m--> 688\u001b[0;31m             \u001b[0;32mraise\u001b[0m \u001b[0mAttributeError\u001b[0m\u001b[0;34m(\u001b[0m\u001b[0mattr\u001b[0m \u001b[0;34m+\u001b[0m \u001b[0;34m\" not found\"\u001b[0m\u001b[0;34m)\u001b[0m\u001b[0;34m\u001b[0m\u001b[0;34m\u001b[0m\u001b[0m\n\u001b[0m\u001b[1;32m    689\u001b[0m \u001b[0;34m\u001b[0m\u001b[0m\n\u001b[1;32m    690\u001b[0m     \u001b[0;32mdef\u001b[0m \u001b[0mtranspose\u001b[0m\u001b[0;34m(\u001b[0m\u001b[0mself\u001b[0m\u001b[0;34m,\u001b[0m \u001b[0maxes\u001b[0m\u001b[0;34m=\u001b[0m\u001b[0;32mNone\u001b[0m\u001b[0;34m,\u001b[0m \u001b[0mcopy\u001b[0m\u001b[0;34m=\u001b[0m\u001b[0;32mFalse\u001b[0m\u001b[0;34m)\u001b[0m\u001b[0;34m:\u001b[0m\u001b[0;34m\u001b[0m\u001b[0;34m\u001b[0m\u001b[0m\n",
      "\u001b[0;31mAttributeError\u001b[0m: get_params not found"
     ]
    }
   ],
   "source": []
  },
  {
   "cell_type": "code",
   "execution_count": null,
   "metadata": {},
   "outputs": [],
   "source": []
  },
  {
   "cell_type": "code",
   "execution_count": null,
   "metadata": {},
   "outputs": [],
   "source": []
  },
  {
   "cell_type": "code",
   "execution_count": null,
   "metadata": {},
   "outputs": [],
   "source": []
  },
  {
   "cell_type": "code",
   "execution_count": null,
   "metadata": {},
   "outputs": [],
   "source": []
  },
  {
   "cell_type": "code",
   "execution_count": null,
   "metadata": {},
   "outputs": [],
   "source": []
  },
  {
   "cell_type": "markdown",
   "metadata": {},
   "source": [
    "### SVM Model"
   ]
  },
  {
   "cell_type": "code",
   "execution_count": null,
   "metadata": {},
   "outputs": [],
   "source": []
  },
  {
   "cell_type": "code",
   "execution_count": null,
   "metadata": {},
   "outputs": [],
   "source": []
  },
  {
   "cell_type": "code",
   "execution_count": null,
   "metadata": {},
   "outputs": [],
   "source": []
  },
  {
   "cell_type": "code",
   "execution_count": null,
   "metadata": {},
   "outputs": [],
   "source": []
  },
  {
   "cell_type": "markdown",
   "metadata": {},
   "source": [
    "### Neural Network"
   ]
  },
  {
   "cell_type": "code",
   "execution_count": null,
   "metadata": {},
   "outputs": [],
   "source": []
  },
  {
   "cell_type": "markdown",
   "metadata": {},
   "source": [
    "# create tagging and feature set \n",
    "# create models \n",
    "# create pipeline\n",
    "# create dashboard\n",
    "\n",
    "\n",
    "There are many great paid proxy providers like Smartproxy, Netnut, Highproxies, etc. that can be used when scraping and at least you will know that you will get high-quality services that are safe to use with lots of features and big pools of IPs that you can use."
   ]
  },
  {
   "cell_type": "code",
   "execution_count": null,
   "metadata": {},
   "outputs": [],
   "source": []
  },
  {
   "cell_type": "code",
   "execution_count": null,
   "metadata": {},
   "outputs": [],
   "source": []
  },
  {
   "cell_type": "code",
   "execution_count": null,
   "metadata": {},
   "outputs": [],
   "source": []
  },
  {
   "cell_type": "code",
   "execution_count": null,
   "metadata": {},
   "outputs": [],
   "source": []
  },
  {
   "cell_type": "code",
   "execution_count": null,
   "metadata": {},
   "outputs": [],
   "source": []
  }
 ],
 "metadata": {
  "kernelspec": {
   "display_name": "Python 3",
   "language": "python",
   "name": "python3"
  },
  "language_info": {
   "codemirror_mode": {
    "name": "ipython",
    "version": 3
   },
   "file_extension": ".py",
   "mimetype": "text/x-python",
   "name": "python",
   "nbconvert_exporter": "python",
   "pygments_lexer": "ipython3",
   "version": "3.6.9"
  }
 },
 "nbformat": 4,
 "nbformat_minor": 2
}
