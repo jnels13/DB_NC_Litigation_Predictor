{
 "cells": [
  {
   "cell_type": "markdown",
   "metadata": {},
   "source": [
    "# Label and Feature Creation\n",
    "In this notebook, I will import the single-column DataFrame of appellate opinions and create columns with labels and features. \n",
    "## Contents:\n",
    "<ul>\n",
    "<li>0. Import Libraries \n",
    "<li>1. Clean up opinions \n",
    "<ul><li>A. Remove page numbers from opinions\n",
    "    <li>B. Remove Supreme Court case\n",
    "    <li>C. Drop Dissents \n",
    "    </ul>\n",
    "<li>2. Add file numbers \n",
    "<li>3. Create Labels section \n",
    "<ul><li>A. Create function and apply to DataFrame \n",
    "<li>B. Clean up, combine, and drop columns\n",
    "    <li>C. Address reversing-denials or affirming-denials </ul>\n",
    "<li>4. Create case-type column \n",
    "<li>5. Extract Trial Court Judge \n",
    "<li>6. Extract County \n",
    "<li>7. Export DataFrame with Features\n",
    "<li>8. EDA Visualizations - TBD\n",
    "</ul>\n",
    "\n",
    "Dataset Reduction:<br>\n",
    "1052 rows dropped for not fitting the affirmed/reversed criteria (errors, affirmed in part, appeals dismissed, etc.)<br>\n",
    "38 rows dropped for not conforming to a reasonable case type or being too short to have a reasonable effect.<br>\n",
    "84 rows dropped from the Supreme Court, reviewing underlying decisions (lacking the features of court of appeals cases)<br>\n",
    "49 rows dropped from the trial_judge extraction function which were either administrative or multiple orders.<br>\n",
    "08 rows dropped from the county extraction section <br>\n"
   ]
  },
  {
   "cell_type": "markdown",
   "metadata": {},
   "source": [
    "## 0. Import Libraries and DataFrame"
   ]
  },
  {
   "cell_type": "code",
   "execution_count": 1,
   "metadata": {},
   "outputs": [],
   "source": [
    "import io\n",
    "import re\n",
    "import pandas as pd\n",
    "import pickle\n",
    "import operator\n",
    "\n",
    "# import nltk\n",
    "# nltk.download('stopwords')\n",
    "# nltk.download('wordnet')\n",
    "# nltk.download('punkt')\n",
    "# from nltk.corpus import stopwords\n",
    "# from nltk import word_tokenize\n",
    "# from nltk.stem.wordnet import WordNetLemmatizer\n",
    "# from sklearn.feature_extraction.text import CountVectorizer\n",
    "# from sklearn.model_selection import train_test_split\n",
    "# from sklearn.naive_bayes import GaussianNB\n",
    "# from sklearn.metrics import classification_report\n",
    "\n",
    "import matplotlib.pyplot as plt\n",
    "%matplotlib inline\n",
    "import seaborn as sns\n",
    "\n",
    "pd.set_option('display.max_rows', 300)\n",
    "pd.set_option('display.max_columns', 100)\n",
    "pd.set_option('display.width', 100)\n"
   ]
  },
  {
   "cell_type": "code",
   "execution_count": 2,
   "metadata": {},
   "outputs": [],
   "source": [
    "# Open the dataframe\n",
    "infile = open('ProjectData/df_clean.data', 'rb')\n",
    "df = pickle.load(infile)\n",
    "infile.close()"
   ]
  },
  {
   "cell_type": "code",
   "execution_count": 3,
   "metadata": {},
   "outputs": [],
   "source": [
    "df.reset_index(inplace=True, drop=True)"
   ]
  },
  {
   "cell_type": "code",
   "execution_count": 4,
   "metadata": {},
   "outputs": [
    {
     "name": "stdout",
     "output_type": "stream",
     "text": [
      "<class 'pandas.core.frame.DataFrame'>\n",
      "RangeIndex: 3922 entries, 0 to 3921\n",
      "Data columns (total 1 columns):\n",
      "Opinion    3922 non-null object\n",
      "dtypes: object(1)\n",
      "memory usage: 30.8+ KB\n"
     ]
    },
    {
     "data": {
      "text/plain": [
       "(None,                                              Opinion\n",
       " 0   an unpublished opinion of the north carolina ...\n",
       " 1  no. coa11-246 north carolina court of appeals ...\n",
       " 2  no. coa08-347 north carolina court of appeals ...\n",
       " 3  michael harrison gregory and wife, vivian greg...\n",
       " 4  atlantic contracting and material company, inc...)"
      ]
     },
     "execution_count": 4,
     "metadata": {},
     "output_type": "execute_result"
    }
   ],
   "source": [
    "df.info(), df.head()"
   ]
  },
  {
   "cell_type": "markdown",
   "metadata": {},
   "source": [
    "## 1. Remove Page Numbers & Supreme Court Cases\n",
    "\n",
    "### A. Remove Page Numbers\n",
    "Page numbers (-1-) appear throughout the corpus and complicated some of the following functions.  Accordingly, they're removed here. "
   ]
  },
  {
   "cell_type": "code",
   "execution_count": 5,
   "metadata": {},
   "outputs": [],
   "source": [
    "def remove_page_nums(string_):\n",
    "    \"\"\"\n",
    "    A function to remove page numbers from a given string\n",
    "    Page numbers must be the format \"-##-\"\n",
    "    \"\"\"\n",
    "    new_string = re.sub(\" -\\d+- \", \" \", string_)\n",
    "    return(new_string)"
   ]
  },
  {
   "cell_type": "code",
   "execution_count": 6,
   "metadata": {},
   "outputs": [],
   "source": [
    "no_page_list = []\n",
    "for i in range(len(df.Opinion)):\n",
    "    x = remove_page_nums(df.Opinion[i])\n",
    "    no_page_list.append(x)\n",
    "    \n",
    "df[\"Opinion\"] = pd.Series(no_page_list).values"
   ]
  },
  {
   "cell_type": "code",
   "execution_count": 7,
   "metadata": {},
   "outputs": [
    {
     "data": {
      "text/html": [
       "<div>\n",
       "<style scoped>\n",
       "    .dataframe tbody tr th:only-of-type {\n",
       "        vertical-align: middle;\n",
       "    }\n",
       "\n",
       "    .dataframe tbody tr th {\n",
       "        vertical-align: top;\n",
       "    }\n",
       "\n",
       "    .dataframe thead th {\n",
       "        text-align: right;\n",
       "    }\n",
       "</style>\n",
       "<table border=\"1\" class=\"dataframe\">\n",
       "  <thead>\n",
       "    <tr style=\"text-align: right;\">\n",
       "      <th></th>\n",
       "      <th>Opinion</th>\n",
       "    </tr>\n",
       "  </thead>\n",
       "  <tbody>\n",
       "    <tr>\n",
       "      <td>0</td>\n",
       "      <td>an unpublished opinion of the north carolina ...</td>\n",
       "    </tr>\n",
       "    <tr>\n",
       "      <td>1</td>\n",
       "      <td>no. coa11-246 north carolina court of appeals ...</td>\n",
       "    </tr>\n",
       "    <tr>\n",
       "      <td>2</td>\n",
       "      <td>no. coa08-347 north carolina court of appeals ...</td>\n",
       "    </tr>\n",
       "    <tr>\n",
       "      <td>3</td>\n",
       "      <td>michael harrison gregory and wife, vivian greg...</td>\n",
       "    </tr>\n",
       "    <tr>\n",
       "      <td>4</td>\n",
       "      <td>atlantic contracting and material company, inc...</td>\n",
       "    </tr>\n",
       "  </tbody>\n",
       "</table>\n",
       "</div>"
      ],
      "text/plain": [
       "                                             Opinion\n",
       "0   an unpublished opinion of the north carolina ...\n",
       "1  no. coa11-246 north carolina court of appeals ...\n",
       "2  no. coa08-347 north carolina court of appeals ...\n",
       "3  michael harrison gregory and wife, vivian greg...\n",
       "4  atlantic contracting and material company, inc..."
      ]
     },
     "execution_count": 7,
     "metadata": {},
     "output_type": "execute_result"
    }
   ],
   "source": [
    "df.head()"
   ]
  },
  {
   "cell_type": "markdown",
   "metadata": {},
   "source": [
    "### Fix Irish Names (O'xxx)"
   ]
  },
  {
   "cell_type": "code",
   "execution_count": 8,
   "metadata": {},
   "outputs": [],
   "source": [
    "def lose_the_apostrophe(string_):\n",
    "    \"\"\"\n",
    "    A function to remove apostrophes from Irish names; \n",
    "    The majority of the tokenization will be performed\n",
    "    on the following dataframe.\n",
    "    \"\"\"\n",
    "    new_string = re.sub(\" o’|o'\", \" o\", string_)\n",
    "    \n",
    "    return(new_string)"
   ]
  },
  {
   "cell_type": "code",
   "execution_count": 9,
   "metadata": {},
   "outputs": [],
   "source": [
    "no_apostrophes = []\n",
    "for i in range(len(df.Opinion)):\n",
    "    x = lose_the_apostrophe(df.Opinion[i])\n",
    "    no_apostrophes.append(x)\n",
    "    \n",
    "df[\"Opinion\"] = pd.Series(no_apostrophes).values"
   ]
  },
  {
   "cell_type": "markdown",
   "metadata": {},
   "source": [
    "### B. Remove Supreme Court Cases (that review Court of Appeals cases)\n",
    "These cases review the Court of Appeals' decisions; they don't typically include features the same way that the Court of Appeals does, and their rulings are usually affecting the Court of Appeals (which may be the opposite of the underlying case). Accordingly, they should be dropped for this project. "
   ]
  },
  {
   "cell_type": "code",
   "execution_count": 10,
   "metadata": {},
   "outputs": [],
   "source": [
    "df['SCT'] = 0"
   ]
  },
  {
   "cell_type": "code",
   "execution_count": 11,
   "metadata": {},
   "outputs": [],
   "source": [
    "# capture file number into new column\n",
    "def drop_SCT(string_):\n",
    "    sct_yes = re.search(\"in the supreme court of north carolina\",string_[:50])\n",
    "    if sct_yes == None:\n",
    "        return(0)\n",
    "    else:\n",
    "        return(1)"
   ]
  },
  {
   "cell_type": "code",
   "execution_count": 12,
   "metadata": {},
   "outputs": [
    {
     "data": {
      "text/plain": [
       "84"
      ]
     },
     "execution_count": 12,
     "metadata": {},
     "output_type": "execute_result"
    }
   ],
   "source": [
    "df['SCT'] = df.Opinion.map(lambda x: drop_SCT(x))\n",
    "len(df.loc[df['SCT'] == 1])"
   ]
  },
  {
   "cell_type": "code",
   "execution_count": 13,
   "metadata": {},
   "outputs": [],
   "source": [
    "# drop supreme court cases\n",
    "df.drop(list(df.loc[df['SCT'] == 1].index), inplace=True)\n",
    "df.reset_index(inplace=True, drop=True)"
   ]
  },
  {
   "cell_type": "markdown",
   "metadata": {},
   "source": [
    "### C. Trim Dissents, Because They are Not Relevant to the Function\n",
    "\n",
    "#Dissents follow the opinion, when one of the three appellate judges doesn't agree; they may trigger further appeal, but they are not law, and may skew results, so they should be dropped. \n",
    "\n",
    "#### Exploration of opinions containing the phrase \"dissenting\""
   ]
  },
  {
   "cell_type": "code",
   "execution_count": 14,
   "metadata": {},
   "outputs": [],
   "source": [
    "dissents = df.loc[df['Opinion'].str.contains(\"dissenting\")]"
   ]
  },
  {
   "cell_type": "code",
   "execution_count": 15,
   "metadata": {},
   "outputs": [
    {
     "data": {
      "text/html": [
       "<div>\n",
       "<style scoped>\n",
       "    .dataframe tbody tr th:only-of-type {\n",
       "        vertical-align: middle;\n",
       "    }\n",
       "\n",
       "    .dataframe tbody tr th {\n",
       "        vertical-align: top;\n",
       "    }\n",
       "\n",
       "    .dataframe thead th {\n",
       "        text-align: right;\n",
       "    }\n",
       "</style>\n",
       "<table border=\"1\" class=\"dataframe\">\n",
       "  <thead>\n",
       "    <tr style=\"text-align: right;\">\n",
       "      <th></th>\n",
       "      <th>Opinion</th>\n",
       "      <th>SCT</th>\n",
       "    </tr>\n",
       "  </thead>\n",
       "  <tbody>\n",
       "    <tr>\n",
       "      <td>13</td>\n",
       "      <td>energy investors fund, l.p., inc., kvaerner as...</td>\n",
       "      <td>0</td>\n",
       "    </tr>\n",
       "    <tr>\n",
       "      <td>22</td>\n",
       "      <td>in the court of appeals of north carolina no....</td>\n",
       "      <td>0</td>\n",
       "    </tr>\n",
       "    <tr>\n",
       "      <td>27</td>\n",
       "      <td>cecelia l. ford, administrator of the estate o...</td>\n",
       "      <td>0</td>\n",
       "    </tr>\n",
       "    <tr>\n",
       "      <td>35</td>\n",
       "      <td>carolina place joint venture, plaintiff-appell...</td>\n",
       "      <td>0</td>\n",
       "    </tr>\n",
       "    <tr>\n",
       "      <td>45</td>\n",
       "      <td>christian emerson dysart and mildred maxwell d...</td>\n",
       "      <td>0</td>\n",
       "    </tr>\n",
       "  </tbody>\n",
       "</table>\n",
       "</div>"
      ],
      "text/plain": [
       "                                              Opinion  SCT\n",
       "13  energy investors fund, l.p., inc., kvaerner as...    0\n",
       "22   in the court of appeals of north carolina no....    0\n",
       "27  cecelia l. ford, administrator of the estate o...    0\n",
       "35  carolina place joint venture, plaintiff-appell...    0\n",
       "45  christian emerson dysart and mildred maxwell d...    0"
      ]
     },
     "execution_count": 15,
     "metadata": {},
     "output_type": "execute_result"
    }
   ],
   "source": [
    "dissents.head()"
   ]
  },
  {
   "cell_type": "markdown",
   "metadata": {},
   "source": [
    "Review example opinions containing the word \"dissent\" to see which need to be dropped:</p>\n",
    "Verbiage: (Y=actual dissent N=not a dissent)<br>\n",
    "Y judge horton dissenting<br>\n",
    "Y judge wynn dissents. ... wynn, judge, dissenting.<br>\n",
    "Y tyson, judge dissenting.<br>\n",
    "Y judge tyson concurs in part, dissents in part.<br>\n",
    "Y calabria, judge, dissenting. // therefore, i respectfully dissent.<br>\n",
    "Y justice martin dissenting. -- Conflicts w below -- maybe eliminate first 2000 chars? <br>\n",
    "Y === wynn, judge dissenting.<br>\n",
    "Y - elmore, judge, dissenting.<br>\n",
    "Y. martin, chief judge, concurring in part, dissenting in part. - But later<br>\n",
    "Y = campbell, judge, dissenting. i respectfully dissent <br>\n",
    "Y == thomas, judge, dissenting.<br>\n",
    "Y judge dillon dissents in a separate opinion. - 12,600 chars into 17,000 char opi<br>\n",
    "<br>\n",
    "N piazza v. kirkbride tyson, j., concurring in part, dissenting in part.<br>\n",
    "N souter, j., dissenting (cit<br>\n",
    "N r. justice martin dissenting. justice brady dissenting. a -- too early  (913 chars in, 80,000 char opinion)<br>\n",
    "N (greene, j. dissenting) - case citation<br>\n",
    "N . judge elmore dissenting. -- too early, 2400 chars in to 28,000 char opinion<br>\n",
    "N m. chief judge martin concurring in part and dissenting in part. - 2731 chars into 29,000 char opinion<br>\n",
    "N (hudson, j., dissenting) <br>\n",
    "N   1715 chars into 23,000 char opinion<br>\n",
    "------ never the (j., dissenting)<br>\n",
    "<br>\n",
    "Pseudocode:<br>\n",
    "IF ends with \"judges /2 and /2 concur.\" (not concurs) - there isn't a dissent (one of the two would be dissenting). <br>\n",
    "ELSE if after the first 3,000 chars, of the opinion:<br>\n",
    "    judge /4 (dissent*)<br>\n",
    "    \n",
    "#### Trimming-Dissents Function Creation and Revision\n",
    "Created the below function following the preceding review; ran the function and reviewed the trimmed opinions for correctness (i.e., was something more or less than a dissent trimmed from the opinion).  The function was updated to put (judge|justice) in parens and to make the verb \"dissents\" instead of the noun \"dissent\", which was pulling references to other dissents. \n"
   ]
  },
  {
   "cell_type": "code",
   "execution_count": 16,
   "metadata": {},
   "outputs": [],
   "source": [
    "def trim_dissents(opinion):\n",
    "    global trimmed_dissents\n",
    "    if re.search(\"(dissent)\", opinion):\n",
    "        if re.search(\"judges\\W+(?:\\w+\\W+){0,5}?concur\\b\", opinion):\n",
    "            return()  \n",
    "        else:\n",
    "            try:\n",
    "                y = re.search(\"(?:(judge|justice)\\W+(?:\\w+\\W+){0,6}?dissents)\", opinion[3000:])\n",
    "                cut_off_point = y.start()\n",
    "                opinion2 = opinion[:(cut_off_point+3000)]\n",
    "                trimmed_dissents += 1\n",
    "                return(opinion2)\n",
    "            except:\n",
    "                return(opinion)\n",
    "    else:\n",
    "        return(opinion)"
   ]
  },
  {
   "cell_type": "code",
   "execution_count": 17,
   "metadata": {},
   "outputs": [],
   "source": [
    "# Drop dissents\n",
    "trimmed_dissents = 0\n",
    "new_opinions = []\n",
    "for i in range(len(df.Opinion)):\n",
    "    x = trim_dissents(df.Opinion[i])\n",
    "    new_opinions.append(x)\n",
    "    \n",
    "# Replate opinions with trimmed opinions\n",
    "df[\"Opinion\"] = pd.Series(new_opinions).values"
   ]
  },
  {
   "cell_type": "markdown",
   "metadata": {},
   "source": [
    "## 2. Creating New Columns for the File Numbers and Years\n",
    "The file numbers should have no predictive value; this section is more for EDA/visualizations than practical."
   ]
  },
  {
   "cell_type": "code",
   "execution_count": 18,
   "metadata": {},
   "outputs": [],
   "source": [
    "# capture file number into new column\n",
    "def yr_filed(string_):\n",
    "    try:\n",
    "        year_filed = re.search(\"filed:? ?\\d+ ?\\D+ (\\d+)\",string_)\n",
    "        return year_filed.group(1)\n",
    "    except:\n",
    "        return(0)"
   ]
  },
  {
   "cell_type": "code",
   "execution_count": 19,
   "metadata": {},
   "outputs": [],
   "source": [
    "years = []\n",
    "for i in range(len(df)):\n",
    "    x = yr_filed(df.Opinion[i])\n",
    "    years.append(x)\n",
    "\n",
    "df[\"Year_Filed\"] = pd.Series(years).values.astype(int)"
   ]
  },
  {
   "cell_type": "code",
   "execution_count": 20,
   "metadata": {
    "scrolled": true
   },
   "outputs": [
    {
     "data": {
      "text/html": [
       "<div>\n",
       "<style scoped>\n",
       "    .dataframe tbody tr th:only-of-type {\n",
       "        vertical-align: middle;\n",
       "    }\n",
       "\n",
       "    .dataframe tbody tr th {\n",
       "        vertical-align: top;\n",
       "    }\n",
       "\n",
       "    .dataframe thead th {\n",
       "        text-align: right;\n",
       "    }\n",
       "</style>\n",
       "<table border=\"1\" class=\"dataframe\">\n",
       "  <thead>\n",
       "    <tr style=\"text-align: right;\">\n",
       "      <th></th>\n",
       "      <th>SCT</th>\n",
       "      <th>Year_Filed</th>\n",
       "    </tr>\n",
       "  </thead>\n",
       "  <tbody>\n",
       "    <tr>\n",
       "      <td>count</td>\n",
       "      <td>3838.0</td>\n",
       "      <td>3838.000000</td>\n",
       "    </tr>\n",
       "    <tr>\n",
       "      <td>mean</td>\n",
       "      <td>0.0</td>\n",
       "      <td>2006.852006</td>\n",
       "    </tr>\n",
       "    <tr>\n",
       "      <td>std</td>\n",
       "      <td>0.0</td>\n",
       "      <td>55.212325</td>\n",
       "    </tr>\n",
       "    <tr>\n",
       "      <td>min</td>\n",
       "      <td>0.0</td>\n",
       "      <td>0.000000</td>\n",
       "    </tr>\n",
       "    <tr>\n",
       "      <td>25%</td>\n",
       "      <td>0.0</td>\n",
       "      <td>2004.000000</td>\n",
       "    </tr>\n",
       "    <tr>\n",
       "      <td>50%</td>\n",
       "      <td>0.0</td>\n",
       "      <td>2008.000000</td>\n",
       "    </tr>\n",
       "    <tr>\n",
       "      <td>75%</td>\n",
       "      <td>0.0</td>\n",
       "      <td>2013.000000</td>\n",
       "    </tr>\n",
       "    <tr>\n",
       "      <td>max</td>\n",
       "      <td>0.0</td>\n",
       "      <td>2020.000000</td>\n",
       "    </tr>\n",
       "  </tbody>\n",
       "</table>\n",
       "</div>"
      ],
      "text/plain": [
       "          SCT   Year_Filed\n",
       "count  3838.0  3838.000000\n",
       "mean      0.0  2006.852006\n",
       "std       0.0    55.212325\n",
       "min       0.0     0.000000\n",
       "25%       0.0  2004.000000\n",
       "50%       0.0  2008.000000\n",
       "75%       0.0  2013.000000\n",
       "max       0.0  2020.000000"
      ]
     },
     "execution_count": 20,
     "metadata": {},
     "output_type": "execute_result"
    }
   ],
   "source": [
    "df.describe()"
   ]
  },
  {
   "cell_type": "code",
   "execution_count": 21,
   "metadata": {},
   "outputs": [
    {
     "data": {
      "text/html": [
       "<div>\n",
       "<style scoped>\n",
       "    .dataframe tbody tr th:only-of-type {\n",
       "        vertical-align: middle;\n",
       "    }\n",
       "\n",
       "    .dataframe tbody tr th {\n",
       "        vertical-align: top;\n",
       "    }\n",
       "\n",
       "    .dataframe thead th {\n",
       "        text-align: right;\n",
       "    }\n",
       "</style>\n",
       "<table border=\"1\" class=\"dataframe\">\n",
       "  <thead>\n",
       "    <tr style=\"text-align: right;\">\n",
       "      <th></th>\n",
       "      <th>Opinion</th>\n",
       "      <th>SCT</th>\n",
       "      <th>Year_Filed</th>\n",
       "    </tr>\n",
       "  </thead>\n",
       "  <tbody>\n",
       "    <tr>\n",
       "      <td>55</td>\n",
       "      <td>parkwood association, plaintiff v. capital hea...</td>\n",
       "      <td>0</td>\n",
       "      <td>1532</td>\n",
       "    </tr>\n",
       "    <tr>\n",
       "      <td>56</td>\n",
       "      <td>franklin r. dewitt v. eveready battery co., in...</td>\n",
       "      <td>0</td>\n",
       "      <td>0</td>\n",
       "    </tr>\n",
       "    <tr>\n",
       "      <td>585</td>\n",
       "      <td>luther lee key, plaintiff v. barbara m. burche...</td>\n",
       "      <td>0</td>\n",
       "      <td>199</td>\n",
       "    </tr>\n",
       "    <tr>\n",
       "      <td>3380</td>\n",
       "      <td>correction: 6/10/99 - please add to attorney l...</td>\n",
       "      <td>0</td>\n",
       "      <td>0</td>\n",
       "    </tr>\n",
       "  </tbody>\n",
       "</table>\n",
       "</div>"
      ],
      "text/plain": [
       "                                                Opinion  SCT  Year_Filed\n",
       "55    parkwood association, plaintiff v. capital hea...    0        1532\n",
       "56    franklin r. dewitt v. eveready battery co., in...    0           0\n",
       "585   luther lee key, plaintiff v. barbara m. burche...    0         199\n",
       "3380  correction: 6/10/99 - please add to attorney l...    0           0"
      ]
     },
     "execution_count": 21,
     "metadata": {},
     "output_type": "execute_result"
    }
   ],
   "source": [
    "df.loc[df.Year_Filed < 1990]"
   ]
  },
  {
   "cell_type": "code",
   "execution_count": 22,
   "metadata": {},
   "outputs": [],
   "source": [
    "# Handling errors in the data manually\n",
    "df.Year_Filed.replace([0,199,1532], 1999, inplace=True)"
   ]
  },
  {
   "cell_type": "code",
   "execution_count": 23,
   "metadata": {},
   "outputs": [
    {
     "data": {
      "text/html": [
       "<div>\n",
       "<style scoped>\n",
       "    .dataframe tbody tr th:only-of-type {\n",
       "        vertical-align: middle;\n",
       "    }\n",
       "\n",
       "    .dataframe tbody tr th {\n",
       "        vertical-align: top;\n",
       "    }\n",
       "\n",
       "    .dataframe thead th {\n",
       "        text-align: right;\n",
       "    }\n",
       "</style>\n",
       "<table border=\"1\" class=\"dataframe\">\n",
       "  <thead>\n",
       "    <tr style=\"text-align: right;\">\n",
       "      <th></th>\n",
       "      <th>SCT</th>\n",
       "      <th>Year_Filed</th>\n",
       "    </tr>\n",
       "  </thead>\n",
       "  <tbody>\n",
       "    <tr>\n",
       "      <td>count</td>\n",
       "      <td>3838.0</td>\n",
       "      <td>3838.000000</td>\n",
       "    </tr>\n",
       "    <tr>\n",
       "      <td>mean</td>\n",
       "      <td>0.0</td>\n",
       "      <td>2008.484367</td>\n",
       "    </tr>\n",
       "    <tr>\n",
       "      <td>std</td>\n",
       "      <td>0.0</td>\n",
       "      <td>5.997362</td>\n",
       "    </tr>\n",
       "    <tr>\n",
       "      <td>min</td>\n",
       "      <td>0.0</td>\n",
       "      <td>1998.000000</td>\n",
       "    </tr>\n",
       "    <tr>\n",
       "      <td>25%</td>\n",
       "      <td>0.0</td>\n",
       "      <td>2004.000000</td>\n",
       "    </tr>\n",
       "    <tr>\n",
       "      <td>50%</td>\n",
       "      <td>0.0</td>\n",
       "      <td>2008.000000</td>\n",
       "    </tr>\n",
       "    <tr>\n",
       "      <td>75%</td>\n",
       "      <td>0.0</td>\n",
       "      <td>2013.000000</td>\n",
       "    </tr>\n",
       "    <tr>\n",
       "      <td>max</td>\n",
       "      <td>0.0</td>\n",
       "      <td>2020.000000</td>\n",
       "    </tr>\n",
       "  </tbody>\n",
       "</table>\n",
       "</div>"
      ],
      "text/plain": [
       "          SCT   Year_Filed\n",
       "count  3838.0  3838.000000\n",
       "mean      0.0  2008.484367\n",
       "std       0.0     5.997362\n",
       "min       0.0  1998.000000\n",
       "25%       0.0  2004.000000\n",
       "50%       0.0  2008.000000\n",
       "75%       0.0  2013.000000\n",
       "max       0.0  2020.000000"
      ]
     },
     "execution_count": 23,
     "metadata": {},
     "output_type": "execute_result"
    }
   ],
   "source": [
    "df.describe()"
   ]
  },
  {
   "cell_type": "code",
   "execution_count": 24,
   "metadata": {},
   "outputs": [],
   "source": [
    "# capture file number into new column\n",
    "def coa(string_):\n",
    "    try:\n",
    "        pat_coa_number = re.search(\"no.? ?coa.? ?(\\d{2}-\\d{1,5})\",string_)\n",
    "        return pat_coa_number.group(1)\n",
    "    except:\n",
    "        return('00-000')"
   ]
  },
  {
   "cell_type": "code",
   "execution_count": 25,
   "metadata": {},
   "outputs": [],
   "source": [
    "coa_numbers = []\n",
    "for i in range(len(df)):\n",
    "    x = coa(df.Opinion[i])\n",
    "    coa_numbers.append(x)\n",
    "\n",
    "df[\"File_Numbers\"] = pd.Series(coa_numbers).values"
   ]
  },
  {
   "cell_type": "code",
   "execution_count": 26,
   "metadata": {},
   "outputs": [
    {
     "data": {
      "text/html": [
       "<div>\n",
       "<style scoped>\n",
       "    .dataframe tbody tr th:only-of-type {\n",
       "        vertical-align: middle;\n",
       "    }\n",
       "\n",
       "    .dataframe tbody tr th {\n",
       "        vertical-align: top;\n",
       "    }\n",
       "\n",
       "    .dataframe thead th {\n",
       "        text-align: right;\n",
       "    }\n",
       "</style>\n",
       "<table border=\"1\" class=\"dataframe\">\n",
       "  <thead>\n",
       "    <tr style=\"text-align: right;\">\n",
       "      <th></th>\n",
       "      <th>Opinion</th>\n",
       "      <th>SCT</th>\n",
       "      <th>Year_Filed</th>\n",
       "      <th>File_Numbers</th>\n",
       "    </tr>\n",
       "  </thead>\n",
       "  <tbody>\n",
       "    <tr>\n",
       "      <td>0</td>\n",
       "      <td>an unpublished opinion of the north carolina ...</td>\n",
       "      <td>0</td>\n",
       "      <td>2020</td>\n",
       "      <td>19-563</td>\n",
       "    </tr>\n",
       "    <tr>\n",
       "      <td>1</td>\n",
       "      <td>no. coa11-246 north carolina court of appeals ...</td>\n",
       "      <td>0</td>\n",
       "      <td>2012</td>\n",
       "      <td>11-246</td>\n",
       "    </tr>\n",
       "    <tr>\n",
       "      <td>2</td>\n",
       "      <td>no. coa08-347 north carolina court of appeals ...</td>\n",
       "      <td>0</td>\n",
       "      <td>2009</td>\n",
       "      <td>08-347</td>\n",
       "    </tr>\n",
       "    <tr>\n",
       "      <td>3</td>\n",
       "      <td>michael harrison gregory and wife, vivian greg...</td>\n",
       "      <td>0</td>\n",
       "      <td>2006</td>\n",
       "      <td>05-885</td>\n",
       "    </tr>\n",
       "    <tr>\n",
       "      <td>4</td>\n",
       "      <td>atlantic contracting and material company, inc...</td>\n",
       "      <td>0</td>\n",
       "      <td>2003</td>\n",
       "      <td>02-1087</td>\n",
       "    </tr>\n",
       "  </tbody>\n",
       "</table>\n",
       "</div>"
      ],
      "text/plain": [
       "                                             Opinion  SCT  Year_Filed File_Numbers\n",
       "0   an unpublished opinion of the north carolina ...    0        2020       19-563\n",
       "1  no. coa11-246 north carolina court of appeals ...    0        2012       11-246\n",
       "2  no. coa08-347 north carolina court of appeals ...    0        2009       08-347\n",
       "3  michael harrison gregory and wife, vivian greg...    0        2006       05-885\n",
       "4  atlantic contracting and material company, inc...    0        2003      02-1087"
      ]
     },
     "execution_count": 26,
     "metadata": {},
     "output_type": "execute_result"
    }
   ],
   "source": [
    "df.head(5)"
   ]
  },
  {
   "cell_type": "markdown",
   "metadata": {},
   "source": [
    "## 3. Creating the Labels (Affirmed, Reversed, etc.)\n",
    "\n",
    "The labels were created using the regex patterns below. The ultimate fuction below was created over many iterations. Initially, there were approximately 300 errors; the model was tweaked to reduce errors while maintaining reliability. Ultimately, 25 rows were dropped as errors because the cases were not beneficial to the model (i.e., they did not include a relevant summary judgment decision, the opinion on summary judgment was entwined with other components, etc.); 454 \"affirmed-in-part\" rows were dropped since they're not the binary outcome needed; and 408 dismissals were dropped since they don't have a usable outcome.  "
   ]
  },
  {
   "cell_type": "markdown",
   "metadata": {},
   "source": [
    "### A. Functions to Assign and Apply Labels to the DataFrame"
   ]
  },
  {
   "cell_type": "code",
   "execution_count": 27,
   "metadata": {},
   "outputs": [],
   "source": [
    "def labels(string_):\n",
    "    \"\"\"\n",
    "    This function will extract the outcome from a given string (opinion).\n",
    "    Each of the 'try' statements extracts the labels with decreasing \n",
    "    degrees of confidence (first by the one-word sentence, then within\n",
    "    10 words of the statement regarding concurrence, typically near the \n",
    "    end of the opinion; then clipping the last 150 chars. of the opinion \n",
    "    and looking for the associated label-words, and finally looking for \n",
    "    label-words within 5-10 words of the often-occurring phrase, 'for the\n",
    "    reasons set forth above'). This try/except format recognizes the \n",
    "    hierarchy from the most likely correct match to the lesser likely \n",
    "    correct matches. The form follows the Python EAFP principle.\n",
    "    \"\"\"\n",
    "    try:\n",
    "        try:\n",
    "            try:\n",
    "                try:  #this level has the highest confidence of getting an accurate label, based upon review of opinions (a single-word sentence)\n",
    "                    labels = re.search(\"\\.. ?(affirmed?)\\.|\\.?(reversed?)\\.|(affirmed in part)|\\.?(dismissed)\\.\",string_)\n",
    "                    x = labels.group(1)\n",
    "                    y = labels.group(2)\n",
    "                    z = labels.group(3)\n",
    "                    w = labels.group(4)\n",
    "                    not_none = [x,y,z]\n",
    "                    a = [i for i in not_none if i != None]\n",
    "                    return a[0]\n",
    "                except:  # slightly less confidence; looks for outcome word within 10 words of \"concur\", which frequently is at the end of a unanymous opinion\n",
    "                    labels = re.search(\"(?:concurs?\\W+(?:\\w+\\W+){0,40}?((affirmed in part)|reversed|affirmed|dismissed|no error|vacated)|((affirmed in part)|affirmed|reversed|dismissed|no error|vacated)\\W+(?:\\w+\\W+){0,40}?concurs?)\", string_)\n",
    "                    #print(\"Group 0:\", labels.group(0), \"\\nGroup 1:\", labels.group(1), \"\\nGroup 2:\", labels.group(2), \"\\nGroup 3:\", labels.group(3), \"\\nGroup 4:\", labels.group(4))\n",
    "                    x = labels2.group(1)\n",
    "                    y = labels2.group(2)\n",
    "                    z = labels2.group(3)\n",
    "                    w = labels2.group(4)\n",
    "                    not_none = [x,y,z,w]\n",
    "                    a = [i for i in not_none if i != None]\n",
    "                    #print(\"This is resulting list a:\", a)\n",
    "                    return a[0]\n",
    "            except: #slightly less confidence; if both of the previous methods fail, this clips the last 150 chars of the opinion for any of the outcome words\n",
    "                clip = string_[-150:]\n",
    "    #             print(clip)\n",
    "                labels3 = re.search(\"('affirmed in part'|reversed|affirmed|dismissed|'affirm in part'|affirm|reverse|dismiss|improvidently allowed)\",clip)\n",
    "                return labels3.group(0)\n",
    "        except: \n",
    "            labels4 = re.search(\"(?:reasons set forth?\\W+(?:\\w+\\W+){0,5}?((affirm in part)|reverse|affirm|dismiss|no error|vacated?)|((affirm in part)|affirm|reversed?|dismiss|no error|vacated?)\\W+(?:\\w+\\W+){0,10}?reasons set forth?)\", string_)\n",
    "            #print(\"Group 0:\", labels.group(0), \"\\nGroup 1:\", labels.group(1), \"\\nGroup 2:\", labels.group(2), \"\\nGroup 3:\", labels.group(3), \"\\nGroup 4:\", labels.group(4))\n",
    "            x = labels4.group(1)\n",
    "            y = labels4.group(2)\n",
    "            z = labels4.group(3)\n",
    "            w = labels4.group(4)\n",
    "            not_none = [x,y,z,w]\n",
    "            a = [i for i in not_none if i != None]\n",
    "            #print(\"This is resulting list a:\", a)\n",
    "            return a[0]\n",
    "    except:\n",
    "        return('error')"
   ]
  },
  {
   "cell_type": "code",
   "execution_count": 28,
   "metadata": {},
   "outputs": [
    {
     "data": {
      "text/plain": [
       "'affirmed'"
      ]
     },
     "execution_count": 28,
     "metadata": {},
     "output_type": "execute_result"
    }
   ],
   "source": [
    "# Test Cell \n",
    "labels(df.Opinion[2])"
   ]
  },
  {
   "cell_type": "code",
   "execution_count": 29,
   "metadata": {},
   "outputs": [],
   "source": [
    "# Apply labels to the DataFrame\n",
    "labels_list = []\n",
    "for i in range(len(df.Opinion)):\n",
    "    x = labels(df.Opinion[i])\n",
    "    labels_list.append(x)\n",
    "\n",
    "df[\"Result\"] = pd.Series(labels_list).values"
   ]
  },
  {
   "cell_type": "code",
   "execution_count": 30,
   "metadata": {},
   "outputs": [
    {
     "data": {
      "text/plain": [
       "affirmed                 2021\n",
       "reversed                  558\n",
       "affirmed in part          392\n",
       "dismissed                 232\n",
       "error                     200\n",
       "dismiss                   190\n",
       "reverse                   162\n",
       "affirm                     75\n",
       "improvidently allowed       6\n",
       "vacate                      1\n",
       "no error                    1\n",
       "Name: Result, dtype: int64"
      ]
     },
     "execution_count": 30,
     "metadata": {},
     "output_type": "execute_result"
    }
   ],
   "source": [
    "df.Result.value_counts()"
   ]
  },
  {
   "cell_type": "markdown",
   "metadata": {},
   "source": [
    "### B. Combine Similar Terms and Drop Rows Irrelevant to the Outcome"
   ]
  },
  {
   "cell_type": "code",
   "execution_count": 31,
   "metadata": {},
   "outputs": [],
   "source": [
    "df['Result'].replace(['reverse','affirm', 'dismiss','no error', 'vacated', 'improvidently allowed'],\n",
    "                     ['reversed','affirmed','dismissed', 'affirmed', 'reversed', 'dismissed'], inplace=True)\n",
    "\n",
    "# The model will treat 'no error' as 'affirmed' and 'vacated' as 'reversed'"
   ]
  },
  {
   "cell_type": "code",
   "execution_count": 32,
   "metadata": {},
   "outputs": [
    {
     "data": {
      "text/plain": [
       "affirmed            2097\n",
       "reversed             720\n",
       "dismissed            428\n",
       "affirmed in part     392\n",
       "error                200\n",
       "vacate                 1\n",
       "Name: Result, dtype: int64"
      ]
     },
     "execution_count": 32,
     "metadata": {},
     "output_type": "execute_result"
    }
   ],
   "source": [
    "df.Result.value_counts()"
   ]
  },
  {
   "cell_type": "code",
   "execution_count": 33,
   "metadata": {},
   "outputs": [],
   "source": [
    "# Drop rows with 'error', 'dismissed', and 'affirmed in part' -- see section header, above\n",
    "drop_list1 = df.loc[df['Result'] == 'error']\n",
    "drop_list2 = df.loc[df['Result'] == 'affirmed in part']\n",
    "drop_list3 = df.loc[df['Result'] == 'dismissed']\n",
    "drop_list4 = df.loc[df['Result'] == 'vacate']"
   ]
  },
  {
   "cell_type": "code",
   "execution_count": 34,
   "metadata": {},
   "outputs": [],
   "source": [
    "drop_list = list(drop_list1.index)+list(drop_list2.index)+list(drop_list3.index)+list(drop_list4.index)"
   ]
  },
  {
   "cell_type": "code",
   "execution_count": 35,
   "metadata": {},
   "outputs": [],
   "source": [
    "df.drop(drop_list, axis=0, inplace=True)\n",
    "df.reset_index(drop=True, inplace=True)"
   ]
  },
  {
   "cell_type": "code",
   "execution_count": 36,
   "metadata": {
    "scrolled": true
   },
   "outputs": [
    {
     "data": {
      "text/plain": [
       "affirmed    2097\n",
       "reversed     720\n",
       "Name: Result, dtype: int64"
      ]
     },
     "execution_count": 36,
     "metadata": {},
     "output_type": "execute_result"
    }
   ],
   "source": [
    "df.Result.value_counts()"
   ]
  },
  {
   "cell_type": "markdown",
   "metadata": {},
   "source": [
    "### C. Ensure Labels Have the Same Effect Throughout the DataFrame (Substantial Right Appeals)"
   ]
  },
  {
   "cell_type": "code",
   "execution_count": 37,
   "metadata": {
    "scrolled": false
   },
   "outputs": [],
   "source": [
    "def substantial_right(string_):\n",
    "    \"\"\" \n",
    "    I have been treating the label \"affirm\" as affirming the grant \n",
    "    of a summary judgment motion, and \"reverse\" as reversing the grant \n",
    "    of the motion, because it is much more common for the court of appeals \n",
    "    to address GRANTS of summary judgment. Much more rarely, they will \n",
    "    review a motion denying summary judgment, and the above functions will \n",
    "    have the opposite label than intended. This function will take a string, \n",
    "    review whether it contains the key words \"substantial right,\" and then \n",
    "    analyze the language of the opinion to see if the opinion affirms or \n",
    "    reverses the DENIAL of summary judgment. If it does, it will return a\n",
    "    '1', and if not, a '0'. This can be used later as a switch to flip the \n",
    "    label assigned above.\n",
    "    \"\"\"\n",
    "    # Screen for the keword 'substantial right'\n",
    "    if string_.count(\"substantial right\") > 0:\n",
    "        x = re.search(\"(?:(affirm|reverse?)\\W+(?:\\w+\\W+){0,5}?denial)\", string_)\n",
    "        try:\n",
    "            x.group(0)\n",
    "            return(1)\n",
    "        except:\n",
    "            return(0)"
   ]
  },
  {
   "cell_type": "code",
   "execution_count": 38,
   "metadata": {},
   "outputs": [],
   "source": [
    "substantial_right_list = []\n",
    "for i in range(len(df.Opinion)):\n",
    "    x = substantial_right(df.Opinion[i])\n",
    "    substantial_right_list.append(x)\n",
    "\n",
    "df[\"sub_right\"] = pd.Series(substantial_right_list).values"
   ]
  },
  {
   "cell_type": "code",
   "execution_count": 39,
   "metadata": {},
   "outputs": [
    {
     "data": {
      "text/html": [
       "<div>\n",
       "<style scoped>\n",
       "    .dataframe tbody tr th:only-of-type {\n",
       "        vertical-align: middle;\n",
       "    }\n",
       "\n",
       "    .dataframe tbody tr th {\n",
       "        vertical-align: top;\n",
       "    }\n",
       "\n",
       "    .dataframe thead th {\n",
       "        text-align: right;\n",
       "    }\n",
       "</style>\n",
       "<table border=\"1\" class=\"dataframe\">\n",
       "  <thead>\n",
       "    <tr style=\"text-align: right;\">\n",
       "      <th></th>\n",
       "      <th>Opinion</th>\n",
       "      <th>SCT</th>\n",
       "      <th>Year_Filed</th>\n",
       "      <th>File_Numbers</th>\n",
       "      <th>Result</th>\n",
       "      <th>sub_right</th>\n",
       "    </tr>\n",
       "  </thead>\n",
       "  <tbody>\n",
       "    <tr>\n",
       "      <td>336</td>\n",
       "      <td>estate of erik dominic williams, by and throug...</td>\n",
       "      <td>0</td>\n",
       "      <td>2011</td>\n",
       "      <td>10-491</td>\n",
       "      <td>affirmed</td>\n",
       "      <td>1.0</td>\n",
       "    </tr>\n",
       "    <tr>\n",
       "      <td>357</td>\n",
       "      <td>no. coa11-1466 north carolina court of appeals...</td>\n",
       "      <td>0</td>\n",
       "      <td>2012</td>\n",
       "      <td>11-1466</td>\n",
       "      <td>reversed</td>\n",
       "      <td>1.0</td>\n",
       "    </tr>\n",
       "    <tr>\n",
       "      <td>441</td>\n",
       "      <td>estate of vera hewett, et al, plaintiffs, v. c...</td>\n",
       "      <td>0</td>\n",
       "      <td>2009</td>\n",
       "      <td>08-1071</td>\n",
       "      <td>reversed</td>\n",
       "      <td>1.0</td>\n",
       "    </tr>\n",
       "    <tr>\n",
       "      <td>604</td>\n",
       "      <td>james l. pierson, kathy l. pierson, lincoln m....</td>\n",
       "      <td>0</td>\n",
       "      <td>2000</td>\n",
       "      <td>99-1333</td>\n",
       "      <td>affirmed</td>\n",
       "      <td>1.0</td>\n",
       "    </tr>\n",
       "    <tr>\n",
       "      <td>765</td>\n",
       "      <td>mitchell, brewer, richardson, adams, burge &amp; b...</td>\n",
       "      <td>0</td>\n",
       "      <td>2011</td>\n",
       "      <td>09-1020</td>\n",
       "      <td>reversed</td>\n",
       "      <td>1.0</td>\n",
       "    </tr>\n",
       "    <tr>\n",
       "      <td>869</td>\n",
       "      <td>nello l. teer company, inc., plaintiff, v. jon...</td>\n",
       "      <td>0</td>\n",
       "      <td>2007</td>\n",
       "      <td>06-340</td>\n",
       "      <td>reversed</td>\n",
       "      <td>1.0</td>\n",
       "    </tr>\n",
       "    <tr>\n",
       "      <td>938</td>\n",
       "      <td>in the court of appeals of north carolina no....</td>\n",
       "      <td>0</td>\n",
       "      <td>2018</td>\n",
       "      <td>16-908</td>\n",
       "      <td>reversed</td>\n",
       "      <td>1.0</td>\n",
       "    </tr>\n",
       "    <tr>\n",
       "      <td>957</td>\n",
       "      <td>an unpublished opinion of the north carolina c...</td>\n",
       "      <td>0</td>\n",
       "      <td>2004</td>\n",
       "      <td>02-1610</td>\n",
       "      <td>affirmed</td>\n",
       "      <td>1.0</td>\n",
       "    </tr>\n",
       "    <tr>\n",
       "      <td>980</td>\n",
       "      <td>wilson myers, administrator of the estate of t...</td>\n",
       "      <td>0</td>\n",
       "      <td>2008</td>\n",
       "      <td>07-285</td>\n",
       "      <td>affirmed</td>\n",
       "      <td>1.0</td>\n",
       "    </tr>\n",
       "    <tr>\n",
       "      <td>995</td>\n",
       "      <td>michael g. staley and melody h. staley, plaint...</td>\n",
       "      <td>0</td>\n",
       "      <td>1999</td>\n",
       "      <td>98-1293</td>\n",
       "      <td>reversed</td>\n",
       "      <td>1.0</td>\n",
       "    </tr>\n",
       "    <tr>\n",
       "      <td>1132</td>\n",
       "      <td>tiber holding corporation, regis insurance com...</td>\n",
       "      <td>0</td>\n",
       "      <td>2005</td>\n",
       "      <td>04-1184</td>\n",
       "      <td>affirmed</td>\n",
       "      <td>1.0</td>\n",
       "    </tr>\n",
       "    <tr>\n",
       "      <td>1197</td>\n",
       "      <td>lennie and bonnie hamby, plaintiffs, v. profil...</td>\n",
       "      <td>0</td>\n",
       "      <td>2009</td>\n",
       "      <td>08-942</td>\n",
       "      <td>affirmed</td>\n",
       "      <td>1.0</td>\n",
       "    </tr>\n",
       "    <tr>\n",
       "      <td>1321</td>\n",
       "      <td>teresa h. satorre, sharon o. lee, theresa k. p...</td>\n",
       "      <td>0</td>\n",
       "      <td>2004</td>\n",
       "      <td>03-648</td>\n",
       "      <td>reversed</td>\n",
       "      <td>1.0</td>\n",
       "    </tr>\n",
       "    <tr>\n",
       "      <td>1449</td>\n",
       "      <td>an unpublished opinion of the north carolina c...</td>\n",
       "      <td>0</td>\n",
       "      <td>2015</td>\n",
       "      <td>14-811</td>\n",
       "      <td>affirmed</td>\n",
       "      <td>1.0</td>\n",
       "    </tr>\n",
       "    <tr>\n",
       "      <td>1534</td>\n",
       "      <td>no. coa02-423 north carolina court of appeals ...</td>\n",
       "      <td>0</td>\n",
       "      <td>2003</td>\n",
       "      <td>02-423</td>\n",
       "      <td>reversed</td>\n",
       "      <td>1.0</td>\n",
       "    </tr>\n",
       "    <tr>\n",
       "      <td>1632</td>\n",
       "      <td>an unpublished opinion of the north carolina ...</td>\n",
       "      <td>0</td>\n",
       "      <td>2019</td>\n",
       "      <td>18-1207</td>\n",
       "      <td>reversed</td>\n",
       "      <td>1.0</td>\n",
       "    </tr>\n",
       "    <tr>\n",
       "      <td>1643</td>\n",
       "      <td>jon-paul craig, by his mother and next friend,...</td>\n",
       "      <td>0</td>\n",
       "      <td>2007</td>\n",
       "      <td>07-80</td>\n",
       "      <td>reversed</td>\n",
       "      <td>1.0</td>\n",
       "    </tr>\n",
       "    <tr>\n",
       "      <td>1692</td>\n",
       "      <td>in the court of appeals of north carolina no....</td>\n",
       "      <td>0</td>\n",
       "      <td>2019</td>\n",
       "      <td>18-478</td>\n",
       "      <td>affirmed</td>\n",
       "      <td>1.0</td>\n",
       "    </tr>\n",
       "    <tr>\n",
       "      <td>1710</td>\n",
       "      <td>in the court of appeals of north carolina no....</td>\n",
       "      <td>0</td>\n",
       "      <td>2017</td>\n",
       "      <td>16-776</td>\n",
       "      <td>reversed</td>\n",
       "      <td>1.0</td>\n",
       "    </tr>\n",
       "    <tr>\n",
       "      <td>1804</td>\n",
       "      <td>josephine williams, administratrix of the esta...</td>\n",
       "      <td>0</td>\n",
       "      <td>2004</td>\n",
       "      <td>03-1624</td>\n",
       "      <td>affirmed</td>\n",
       "      <td>1.0</td>\n",
       "    </tr>\n",
       "    <tr>\n",
       "      <td>1969</td>\n",
       "      <td>keith brent vest v. michael f. easley, north c...</td>\n",
       "      <td>0</td>\n",
       "      <td>2001</td>\n",
       "      <td>00-635</td>\n",
       "      <td>reversed</td>\n",
       "      <td>1.0</td>\n",
       "    </tr>\n",
       "    <tr>\n",
       "      <td>2001</td>\n",
       "      <td>in the court of appeals of north carolina no....</td>\n",
       "      <td>0</td>\n",
       "      <td>2016</td>\n",
       "      <td>15-751</td>\n",
       "      <td>reversed</td>\n",
       "      <td>1.0</td>\n",
       "    </tr>\n",
       "    <tr>\n",
       "      <td>2086</td>\n",
       "      <td>thomas william hill, plaintiff, v. bobby medfo...</td>\n",
       "      <td>0</td>\n",
       "      <td>2003</td>\n",
       "      <td>02-956</td>\n",
       "      <td>affirmed</td>\n",
       "      <td>1.0</td>\n",
       "    </tr>\n",
       "    <tr>\n",
       "      <td>2176</td>\n",
       "      <td>johnston health care center, l.l.c. petitioner...</td>\n",
       "      <td>0</td>\n",
       "      <td>2000</td>\n",
       "      <td>99-129</td>\n",
       "      <td>affirmed</td>\n",
       "      <td>1.0</td>\n",
       "    </tr>\n",
       "    <tr>\n",
       "      <td>2432</td>\n",
       "      <td>anne h. craig v. the asheville city board of e...</td>\n",
       "      <td>0</td>\n",
       "      <td>2001</td>\n",
       "      <td>00-175</td>\n",
       "      <td>affirmed</td>\n",
       "      <td>1.0</td>\n",
       "    </tr>\n",
       "    <tr>\n",
       "      <td>2485</td>\n",
       "      <td>an unpublished opinion of the north carolina c...</td>\n",
       "      <td>0</td>\n",
       "      <td>2010</td>\n",
       "      <td>09-315</td>\n",
       "      <td>affirmed</td>\n",
       "      <td>1.0</td>\n",
       "    </tr>\n",
       "    <tr>\n",
       "      <td>2612</td>\n",
       "      <td>an unpublished opinion of the north carolina ...</td>\n",
       "      <td>0</td>\n",
       "      <td>2019</td>\n",
       "      <td>18-197</td>\n",
       "      <td>reversed</td>\n",
       "      <td>1.0</td>\n",
       "    </tr>\n",
       "    <tr>\n",
       "      <td>2613</td>\n",
       "      <td>no. coa08-801 north carolina court of appeals ...</td>\n",
       "      <td>0</td>\n",
       "      <td>2009</td>\n",
       "      <td>08-801</td>\n",
       "      <td>affirmed</td>\n",
       "      <td>1.0</td>\n",
       "    </tr>\n",
       "    <tr>\n",
       "      <td>2625</td>\n",
       "      <td>an unpublished opinion of the north carolina c...</td>\n",
       "      <td>0</td>\n",
       "      <td>2013</td>\n",
       "      <td>12-1490</td>\n",
       "      <td>affirmed</td>\n",
       "      <td>1.0</td>\n",
       "    </tr>\n",
       "    <tr>\n",
       "      <td>2737</td>\n",
       "      <td>sherri b. blaylock, as guardian ad litem for h...</td>\n",
       "      <td>0</td>\n",
       "      <td>2009</td>\n",
       "      <td>00-000</td>\n",
       "      <td>affirmed</td>\n",
       "      <td>1.0</td>\n",
       "    </tr>\n",
       "    <tr>\n",
       "      <td>2811</td>\n",
       "      <td>1 bruce-terminix co. v. zurich ins. co., 130 n...</td>\n",
       "      <td>0</td>\n",
       "      <td>2008</td>\n",
       "      <td>07-1260</td>\n",
       "      <td>affirmed</td>\n",
       "      <td>1.0</td>\n",
       "    </tr>\n",
       "  </tbody>\n",
       "</table>\n",
       "</div>"
      ],
      "text/plain": [
       "                                                Opinion  SCT  Year_Filed File_Numbers    Result  \\\n",
       "336   estate of erik dominic williams, by and throug...    0        2011       10-491  affirmed   \n",
       "357   no. coa11-1466 north carolina court of appeals...    0        2012      11-1466  reversed   \n",
       "441   estate of vera hewett, et al, plaintiffs, v. c...    0        2009      08-1071  reversed   \n",
       "604   james l. pierson, kathy l. pierson, lincoln m....    0        2000      99-1333  affirmed   \n",
       "765   mitchell, brewer, richardson, adams, burge & b...    0        2011      09-1020  reversed   \n",
       "869   nello l. teer company, inc., plaintiff, v. jon...    0        2007       06-340  reversed   \n",
       "938    in the court of appeals of north carolina no....    0        2018       16-908  reversed   \n",
       "957   an unpublished opinion of the north carolina c...    0        2004      02-1610  affirmed   \n",
       "980   wilson myers, administrator of the estate of t...    0        2008       07-285  affirmed   \n",
       "995   michael g. staley and melody h. staley, plaint...    0        1999      98-1293  reversed   \n",
       "1132  tiber holding corporation, regis insurance com...    0        2005      04-1184  affirmed   \n",
       "1197  lennie and bonnie hamby, plaintiffs, v. profil...    0        2009       08-942  affirmed   \n",
       "1321  teresa h. satorre, sharon o. lee, theresa k. p...    0        2004       03-648  reversed   \n",
       "1449  an unpublished opinion of the north carolina c...    0        2015       14-811  affirmed   \n",
       "1534  no. coa02-423 north carolina court of appeals ...    0        2003       02-423  reversed   \n",
       "1632   an unpublished opinion of the north carolina ...    0        2019      18-1207  reversed   \n",
       "1643  jon-paul craig, by his mother and next friend,...    0        2007        07-80  reversed   \n",
       "1692   in the court of appeals of north carolina no....    0        2019       18-478  affirmed   \n",
       "1710   in the court of appeals of north carolina no....    0        2017       16-776  reversed   \n",
       "1804  josephine williams, administratrix of the esta...    0        2004      03-1624  affirmed   \n",
       "1969  keith brent vest v. michael f. easley, north c...    0        2001       00-635  reversed   \n",
       "2001   in the court of appeals of north carolina no....    0        2016       15-751  reversed   \n",
       "2086  thomas william hill, plaintiff, v. bobby medfo...    0        2003       02-956  affirmed   \n",
       "2176  johnston health care center, l.l.c. petitioner...    0        2000       99-129  affirmed   \n",
       "2432  anne h. craig v. the asheville city board of e...    0        2001       00-175  affirmed   \n",
       "2485  an unpublished opinion of the north carolina c...    0        2010       09-315  affirmed   \n",
       "2612   an unpublished opinion of the north carolina ...    0        2019       18-197  reversed   \n",
       "2613  no. coa08-801 north carolina court of appeals ...    0        2009       08-801  affirmed   \n",
       "2625  an unpublished opinion of the north carolina c...    0        2013      12-1490  affirmed   \n",
       "2737  sherri b. blaylock, as guardian ad litem for h...    0        2009       00-000  affirmed   \n",
       "2811  1 bruce-terminix co. v. zurich ins. co., 130 n...    0        2008      07-1260  affirmed   \n",
       "\n",
       "      sub_right  \n",
       "336         1.0  \n",
       "357         1.0  \n",
       "441         1.0  \n",
       "604         1.0  \n",
       "765         1.0  \n",
       "869         1.0  \n",
       "938         1.0  \n",
       "957         1.0  \n",
       "980         1.0  \n",
       "995         1.0  \n",
       "1132        1.0  \n",
       "1197        1.0  \n",
       "1321        1.0  \n",
       "1449        1.0  \n",
       "1534        1.0  \n",
       "1632        1.0  \n",
       "1643        1.0  \n",
       "1692        1.0  \n",
       "1710        1.0  \n",
       "1804        1.0  \n",
       "1969        1.0  \n",
       "2001        1.0  \n",
       "2086        1.0  \n",
       "2176        1.0  \n",
       "2432        1.0  \n",
       "2485        1.0  \n",
       "2612        1.0  \n",
       "2613        1.0  \n",
       "2625        1.0  \n",
       "2737        1.0  \n",
       "2811        1.0  "
      ]
     },
     "execution_count": 39,
     "metadata": {},
     "output_type": "execute_result"
    }
   ],
   "source": [
    "df.loc[df['sub_right'] == 1]"
   ]
  },
  {
   "cell_type": "markdown",
   "metadata": {},
   "source": [
    "Review of the foregoing cases had so many with mixed issues that it will probably be better to drop all rows. "
   ]
  },
  {
   "cell_type": "code",
   "execution_count": 40,
   "metadata": {},
   "outputs": [],
   "source": [
    "indexes_to_drop = df.index[df['sub_right'] == 1].tolist()\n",
    "df.drop(indexes_to_drop, inplace=True)\n",
    "\n",
    "df.drop(['sub_right'], axis=1, inplace=True)\n",
    "\n",
    "df.reset_index(inplace=True, drop=True)"
   ]
  },
  {
   "cell_type": "markdown",
   "metadata": {},
   "source": [
    "## 4. Create Case-Type Feature By Sorting With Keywords\n",
    "\n",
    "I created a simple sorting function which takes a dictionary of case types with associated keywords, and then it generates a popularity count of the various keywords, returning the highest-ranking case type for a given opinion. The dictionary was revised over many iterations and reviews; for instance, some words were not unique, were misleading, or needed leading/trailing spaces. "
   ]
  },
  {
   "cell_type": "code",
   "execution_count": 41,
   "metadata": {},
   "outputs": [],
   "source": [
    "# This dictionary contains types of law with associated, typically unique keywords\n",
    "case_type_dict = {'premises':['premises', 'attractive nuisance', 'dangerous condition', 'slip and fall',\n",
    "                              'defective condition', 'dog bite', 'landowner', 'vicious propensity',\n",
    "                              'defective or unsafe condition', 'unsafe condition'], \n",
    "                  'products':['negligently manufactured', 'negligent manufacture', 'negligently designed',\n",
    "                              'negligent design', 'manufacturing defect', 'products liability',\n",
    "                              'product liability', 'ordinary use', 'product at issue', 'defective good'],\n",
    "                  'car_crash':['collision', 'vehicle', 'motorist', 'other driver'], \n",
    "                  'corporate':['shareholder', 'bylaw', 'articles of incorporation', 'derivative', \n",
    "                               'corporate meetings', 'corporate books', 'annual meeting', \n",
    "                               'financial statements'],\n",
    "                  'construction':['building defect', 'water intrusion', 'construction defect', 'building code',\n",
    "                                  'subcontractor', 'construction industry'], \n",
    "                  'contract':[' formation', 'recission', 'specific performance', 'incidental damages',\n",
    "                              'consequential damages', 'statute of frauds', 'complex business',\n",
    "                              'contractual relationship', 'contract law', 'plain and unambiguous',\n",
    "                              'promissory note', 'clinical privileges', 'agreement in effect', \n",
    "                              'breach of contract', 'terms of the agreement', 'default on the account',\n",
    "                              'joint venture', 'credit account', 'payment of the debt', 'consignor',\n",
    "                              'cosignee', 'oral contract', 'doctrine of necessaries', 'sold and delivered',\n",
    "                              'defaulted on the loan', 'line of credit', 'credit card account', \n",
    "                              'security interest', 'past due and owing', 'contract price', 'guaranty agreement',\n",
    "                              'contract to purchase', 'fdcpa'], \n",
    "                  'defamation':['libel', 'slander', 'defamatory', 'defamation'],\n",
    "                  'employment':['wrongful discharge', 'discrimination', 'retaliation', 'retaliatory',\n",
    "                                'retaliatory employment discrimination act', 'discriminatory',\n",
    "                                'state personnel', 'state retirement plan', 'pay policy', 'salary',\n",
    "                                'at-will employee', 'reinstatement', 'h-2a', 'wage and hour', 'fmla',\n",
    "                                'disability benefits', 'employer-employee', 'wage laws'],\n",
    "                  'estates':['intestate', 'probate', 'revocable trust', 'irrevocable trust', 'testator',\n",
    "                             'holographic', 'residue', 'testate', 'partition and sale', 'undivided interest',\n",
    "                             'executor', 'executrix', 'beneficiary', 'will conveying'],\n",
    "                  'family_law':['divorce', 'custody', 'maintenance', 'child support', 'separation agreement',\n",
    "                               'prenuptial', 'postnuptial', 'premarital', 'marital home', 'parental rights',\n",
    "                               'alienation of affection', 'legally separated', 'marriage ceremony'], \n",
    "                  'fraud_udtpa':['unfair and deceptive', 'unfair or deceptive', 'chapter 75', 'fraud',\n",
    "                                 'calculated to deceive'],\n",
    "                  'governmental':['sovereign immunity', 'official capacity', 'governmental immunity', \n",
    "                                  'certificate of need', 'incarcerated', 'permit application', \n",
    "                                  'property tax commission', 'local school administrative unit',\n",
    "                                  'public duty doctrine', 'malicious prosecution', 'inmate', 'wastewater',\n",
    "                                  'separation of powers', 'secretary of revenue', 'school boards association',\n",
    "                                  'department of environment and natural resources', 'municipal corporation',\n",
    "                                  'local government retirement system'],\n",
    "                  'insurance':['policy exclusion', 'insured party', 'coverage under the policy',\n",
    "                               'insurance coverage'],\n",
    "                  'landlord_tenant':['lease', 'landlord', 'security deposit', ' rent ', 'chapter 42', 'tenant'], \n",
    "                  'med_mal':['medical malpractice','health care profession', 'same or similar community', \n",
    "                             'rule 9(j)', 'rule 702(b)', 'continuing course of treatment', 'skilled nursing',\n",
    "                             'care and treatment rendered'], \n",
    "                  'property':['easement', 'fee simple', 'tenants in common', 'joint tenants', 'nuisance', \n",
    "                             'eminent domain', 'escheat', 'replevin', 'zoning', 'mortgage', 'foreclosure',\n",
    "                             'restriction agreement', 'reforming the deed', 'covenants and restrictions',\n",
    "                             'property boundary', 'declaration of covenants', 'homeowners association',\n",
    "                             'trespass to land', 'deed of trust', 'restrictive covenant', 'executed the deed',\n",
    "                             'board of adjustment', 'improvement to land', 'quiet title', 'convey the property',\n",
    "                             'blasting'], \n",
    "                  'workers_comp':['workers compensation', 'worker\\'s compensation', 'fela',\n",
    "                                  'workers\\' compensation', 'workmen\\'s compensation'],\n",
    "                  'wrongful_death':['wrongful death']}\n",
    "\n",
    "# 'dram_shop':['dram shop'] -- removed, only 2 that were not superseded by \"car crash\""
   ]
  },
  {
   "cell_type": "code",
   "execution_count": 42,
   "metadata": {},
   "outputs": [],
   "source": [
    "def case_type_sorter(dict_of_keywords, string):\n",
    "    \"\"\" \n",
    "    This function takes a dictionary of case types and associated \n",
    "    keywords, assigns points for the frequency of the keywords\n",
    "    of a given case type, and returns the case type with the highest\n",
    "    number of points, as well as a confidence measure.  The dict_of_keywords \n",
    "    should be a dictionary of case-type keys and keyword values; the string \n",
    "    should be a single string.\n",
    "    \"\"\"\n",
    "    counter_dict = {}\n",
    "\n",
    "    # Iterate through dictionary, counting frequency of each keyword in the string/Opinion\n",
    "    for key, values in dict_of_keywords.items():\n",
    "        counter_dict[key] = 0\n",
    "        for value in values:\n",
    "            count = string.count(value)\n",
    "            existing_count = counter_dict[key]\n",
    "            counter_dict[key] = count + existing_count\n",
    "    \n",
    "    # Get total points for all keywords\n",
    "    values = counter_dict.values()\n",
    "    total_count = sum(values)\n",
    "    \n",
    "    # Ensure that if no case_types are matched, the type returned is 'other'\n",
    "    if total_count > 0:\n",
    "        likely_case_type = max(counter_dict.items(), key=operator.itemgetter(1))[0]\n",
    "    else:\n",
    "        likely_case_type = 'other'\n",
    "    \n",
    "    # Return a confidence ratio (points of most likely type / all points )\n",
    "    try:\n",
    "        confidence = str(round((counter_dict[likely_case_type]/total_count)*100,2))+'%'\n",
    "    except:\n",
    "        confidence = 'n/a'\n",
    "    \n",
    "    return likely_case_type, confidence"
   ]
  },
  {
   "cell_type": "code",
   "execution_count": 43,
   "metadata": {},
   "outputs": [],
   "source": [
    "# Copy of the above function for case-by-case review\n",
    "def case_type_test_sorter(dict_of_keywords, string):\n",
    "    \"\"\" \n",
    "    This is a copy of the case_type_sorter function for case-by-case review\n",
    "    \"\"\"\n",
    "    counter_dict = {}\n",
    "\n",
    "    # Iterate through dictionary, counting frequency of each keyword in the string/Opinion\n",
    "    for key, values in dict_of_keywords.items():\n",
    "        counter_dict[key] = 0\n",
    "        for value in values:\n",
    "            count = string.count(value)\n",
    "            existing_count = counter_dict[key]\n",
    "            counter_dict[key] = count + existing_count\n",
    "            \n",
    "    return counter_dict"
   ]
  },
  {
   "cell_type": "code",
   "execution_count": 44,
   "metadata": {},
   "outputs": [],
   "source": [
    "# Apply case_type and confidence level columns to the DataFrame\n",
    "\n",
    "case_type_list = []\n",
    "case_type_confidence = []\n",
    "for i in range(len(df.Opinion)):\n",
    "    y,z = case_type_sorter(case_type_dict, df.Opinion[i])\n",
    "    case_type_list.append(y)\n",
    "    case_type_confidence.append(z)\n",
    "\n",
    "df[\"Case_Type\"] = pd.Series(case_type_list).values\n",
    "df[\"Case_Type_Confidence\"] = pd.Series(case_type_confidence).values"
   ]
  },
  {
   "cell_type": "code",
   "execution_count": 45,
   "metadata": {
    "scrolled": true
   },
   "outputs": [],
   "source": [
    "one = df.loc[(df['Case_Type'] == 'other') & (df.Opinion.str.len() > 1350)]"
   ]
  },
  {
   "cell_type": "code",
   "execution_count": 46,
   "metadata": {},
   "outputs": [
    {
     "data": {
      "text/plain": [
       "39"
      ]
     },
     "execution_count": 46,
     "metadata": {},
     "output_type": "execute_result"
    }
   ],
   "source": [
    "#remaining \"other\" case types and cases shorter than 1350 characters (lacking any type information)\n",
    "len(one)"
   ]
  },
  {
   "cell_type": "code",
   "execution_count": 47,
   "metadata": {
    "scrolled": false
   },
   "outputs": [
    {
     "name": "stdout",
     "output_type": "stream",
     "text": [
      "Index to Test:\n",
      "Please enter an index to review:\n"
     ]
    }
   ],
   "source": [
    "# Test function to review cases and diagnose issues (ultimately to update the case_type_dict)\n",
    "try:\n",
    "    test_cell = int(input(\"Index to Test:\"))\n",
    "    print(case_type_sorter(case_type_dict, df.Opinion[test_cell]),\n",
    "          '\\n\\n', case_type_test_sorter(case_type_dict, df.Opinion[test_cell]),\n",
    "          '\\n\\n', df.Opinion[test_cell])\n",
    "except:\n",
    "    print(\"Please enter an index to review:\")"
   ]
  },
  {
   "cell_type": "code",
   "execution_count": 48,
   "metadata": {},
   "outputs": [],
   "source": [
    "drop_list_others = list(one.index)\n",
    "df.drop(drop_list_others, inplace=True)\n",
    "df.reset_index(drop=True, inplace=True)"
   ]
  },
  {
   "cell_type": "code",
   "execution_count": 49,
   "metadata": {
    "scrolled": true
   },
   "outputs": [
    {
     "data": {
      "text/plain": [
       "property           369\n",
       "contract           333\n",
       "car_crash          318\n",
       "fraud_udtpa        275\n",
       "governmental       246\n",
       "landlord_tenant    229\n",
       "family_law         187\n",
       "premises           162\n",
       "employment         144\n",
       "estates            125\n",
       "med_mal             88\n",
       "corporate           77\n",
       "construction        51\n",
       "defamation          44\n",
       "insurance           27\n",
       "wrongful_death      23\n",
       "other               18\n",
       "products            17\n",
       "workers_comp        14\n",
       "Name: Case_Type, dtype: int64"
      ]
     },
     "execution_count": 49,
     "metadata": {},
     "output_type": "execute_result"
    }
   ],
   "source": [
    "df.Case_Type.value_counts()"
   ]
  },
  {
   "cell_type": "code",
   "execution_count": 50,
   "metadata": {},
   "outputs": [
    {
     "name": "stdout",
     "output_type": "stream",
     "text": [
      "<class 'pandas.core.frame.DataFrame'>\n",
      "RangeIndex: 2747 entries, 0 to 2746\n",
      "Data columns (total 7 columns):\n",
      "Opinion                 2747 non-null object\n",
      "SCT                     2747 non-null int64\n",
      "Year_Filed              2747 non-null int64\n",
      "File_Numbers            2747 non-null object\n",
      "Result                  2747 non-null object\n",
      "Case_Type               2747 non-null object\n",
      "Case_Type_Confidence    2747 non-null object\n",
      "dtypes: int64(2), object(5)\n",
      "memory usage: 150.4+ KB\n"
     ]
    }
   ],
   "source": [
    "df.info()"
   ]
  },
  {
   "cell_type": "markdown",
   "metadata": {},
   "source": [
    "## 5.  Extract Feature: Trial-Court Judge"
   ]
  },
  {
   "cell_type": "code",
   "execution_count": 51,
   "metadata": {},
   "outputs": [],
   "source": [
    "def trial_judge(opinion):\n",
    "    \"\"\"\n",
    "    This function extracts the underlying trial judge\n",
    "    from the opinion, typically falling between the \n",
    "    words, 'by judge ____ in'.  This try/except format\n",
    "    recognizes the hierarchy from the most likely correct\n",
    "    match to the lesser likely correct matches. The \n",
    "    form follows the Python EAFP principle.\n",
    "    \"\"\"\n",
    "    try:\n",
    "        try:\n",
    "            try:\n",
    "                try:\n",
    "                    try:\n",
    "                        try:\n",
    "                            judge = re.search(\"by judge (\\w+) (\\w+) in\", opinion)\n",
    "                            f_name = judge.group(1)\n",
    "                            l_name = judge.group(2)\n",
    "                            pre_clean = [l_name, f_name]\n",
    "                            name = [i for i in pre_clean if i != None]\n",
    "                            return(name)\n",
    "                        except:\n",
    "                            judge = re.search(\"by (the honorable|judge) (\\w+.?) ?(\\w+.|-?)? ?(\\w+),? ?(jr.|sr.|iii|ii|iv)?,? (?:in|and)\", opinion)\n",
    "                            f_name = judge.group(2)\n",
    "                            m_name = judge.group(3)\n",
    "                            l_name = judge.group(4)\n",
    "                            suffx =  judge.group(5) \n",
    "                            pre_clean = [l_name, f_name, m_name, suffx]\n",
    "                            name = [i for i in pre_clean if i != None]\n",
    "                            return(name)\n",
    "                    except:\n",
    "                        judge = re.search(\"by (\\w+.?), .?\\.? ?j., in\", opinion)\n",
    "                        l_name = judge.group(1)\n",
    "                        pre_clean = [l_name]\n",
    "                        name = [i for i in pre_clean if i != None]\n",
    "                        return(name)\n",
    "                except:\n",
    "                    judge = re.search(\"(the honorable|judge) (\\w+.?) (\\w+.|-?)? ?(\\w+),? ?(jr.|sr.|iii|ii|iv)?,? (?:presiding|in|on)\", opinion)\n",
    "                    f_name = judge.group(2)\n",
    "                    m_name = judge.group(3)\n",
    "                    l_name = judge.group(4)\n",
    "                    suffx =  judge.group(5) \n",
    "                    pre_clean = [l_name, f_name, m_name, suffx]\n",
    "                    name = [i for i in pre_clean if i != None]\n",
    "                    return(name)\n",
    "            except:\n",
    "                judge = re.search(\"by (\\w+.?) (\\w+.|-?)? ?(\\w+),? ?(jr.|sr.|iii|ii|iv)?,? in\", opinion[:1000])\n",
    "                f_name = judge.group(1)\n",
    "                m_name = judge.group(2)\n",
    "                l_name = judge.group(3)\n",
    "                suffx =  judge.group(4) \n",
    "                pre_clean = [l_name, f_name, m_name, suffx]\n",
    "                name = [i for i in pre_clean if i != None]\n",
    "                return(name)\n",
    "        except:\n",
    "            judge = re.search(\"by judge (\\w+.?) (\\w+.|-?)? ?(\\w+),? ?(jr.|sr.|iii|ii|iv)?\", opinion[:1000])\n",
    "            f_name = judge.group(1)\n",
    "            m_name = judge.group(2)\n",
    "            l_name = judge.group(3)\n",
    "            suffx =  judge.group(4) \n",
    "            pre_clean = [l_name, f_name, m_name, suffx]\n",
    "            name = [i for i in pre_clean if i != None]\n",
    "            return(name)     \n",
    "    except:\n",
    "        name = 'error'\n",
    "        return(name)\n",
    "    "
   ]
  },
  {
   "cell_type": "code",
   "execution_count": 52,
   "metadata": {},
   "outputs": [],
   "source": [
    "# Apply function to the DataFrame\n",
    "judges_list = []\n",
    "for i in range(len(df.Opinion)):\n",
    "    y = trial_judge(df.Opinion[i])\n",
    "    judges_list.append(y)\n",
    "    \n",
    "df[\"Trial_Judge\"] = pd.Series(judges_list).values"
   ]
  },
  {
   "cell_type": "code",
   "execution_count": 55,
   "metadata": {},
   "outputs": [
    {
     "data": {
      "text/html": [
       "<div>\n",
       "<style scoped>\n",
       "    .dataframe tbody tr th:only-of-type {\n",
       "        vertical-align: middle;\n",
       "    }\n",
       "\n",
       "    .dataframe tbody tr th {\n",
       "        vertical-align: top;\n",
       "    }\n",
       "\n",
       "    .dataframe thead th {\n",
       "        text-align: right;\n",
       "    }\n",
       "</style>\n",
       "<table border=\"1\" class=\"dataframe\">\n",
       "  <thead>\n",
       "    <tr style=\"text-align: right;\">\n",
       "      <th></th>\n",
       "      <th>Opinion</th>\n",
       "      <th>SCT</th>\n",
       "      <th>Year_Filed</th>\n",
       "      <th>File_Numbers</th>\n",
       "      <th>Result</th>\n",
       "      <th>Case_Type</th>\n",
       "      <th>Case_Type_Confidence</th>\n",
       "      <th>Trial_Judge</th>\n",
       "    </tr>\n",
       "  </thead>\n",
       "  <tbody>\n",
       "    <tr>\n",
       "      <td>2634</td>\n",
       "      <td>no. coa07-1259 north carolina court of appeal...</td>\n",
       "      <td>0</td>\n",
       "      <td>2009</td>\n",
       "      <td>07-1259</td>\n",
       "      <td>affirmed</td>\n",
       "      <td>family_law</td>\n",
       "      <td>73.33%</td>\n",
       "      <td>[gorham, phyllis , m.]</td>\n",
       "    </tr>\n",
       "    <tr>\n",
       "      <td>410</td>\n",
       "      <td>in the court of appeals of north carolina no....</td>\n",
       "      <td>0</td>\n",
       "      <td>2016</td>\n",
       "      <td>15-1095</td>\n",
       "      <td>affirmed</td>\n",
       "      <td>contract</td>\n",
       "      <td>50.0%</td>\n",
       "      <td>[burke, l., todd ]</td>\n",
       "    </tr>\n",
       "    <tr>\n",
       "      <td>2543</td>\n",
       "      <td>an unpublished opinion of the north carolina c...</td>\n",
       "      <td>0</td>\n",
       "      <td>2014</td>\n",
       "      <td>12-1279</td>\n",
       "      <td>reversed</td>\n",
       "      <td>contract</td>\n",
       "      <td>77.78%</td>\n",
       "      <td>[r, allen , baddou]</td>\n",
       "    </tr>\n",
       "    <tr>\n",
       "      <td>859</td>\n",
       "      <td>an unpublished opinion of the north carolina c...</td>\n",
       "      <td>0</td>\n",
       "      <td>2012</td>\n",
       "      <td>11-1119</td>\n",
       "      <td>reversed</td>\n",
       "      <td>contract</td>\n",
       "      <td>100.0%</td>\n",
       "      <td>[hill, james , calvin ]</td>\n",
       "    </tr>\n",
       "    <tr>\n",
       "      <td>1990</td>\n",
       "      <td>no. coa97-576 north carolina court of appeals ...</td>\n",
       "      <td>0</td>\n",
       "      <td>1998</td>\n",
       "      <td>97-576</td>\n",
       "      <td>reversed</td>\n",
       "      <td>property</td>\n",
       "      <td>57.14%</td>\n",
       "      <td>[bowen, wiley , f.]</td>\n",
       "    </tr>\n",
       "    <tr>\n",
       "      <td>600</td>\n",
       "      <td>an unpublished opinion of the north carolina c...</td>\n",
       "      <td>0</td>\n",
       "      <td>2016</td>\n",
       "      <td>16-463</td>\n",
       "      <td>affirmed</td>\n",
       "      <td>premises</td>\n",
       "      <td>83.33%</td>\n",
       "      <td>[shirley, a., graham ]</td>\n",
       "    </tr>\n",
       "    <tr>\n",
       "      <td>704</td>\n",
       "      <td>no. coa09-298 and coa09-299 north carolina co...</td>\n",
       "      <td>0</td>\n",
       "      <td>2010</td>\n",
       "      <td>09-298</td>\n",
       "      <td>affirmed</td>\n",
       "      <td>car_crash</td>\n",
       "      <td>71.43%</td>\n",
       "      <td>[ford, larry , g.]</td>\n",
       "    </tr>\n",
       "    <tr>\n",
       "      <td>2636</td>\n",
       "      <td>ed s. mitchell, jr., hattie b. mitchell, evely...</td>\n",
       "      <td>0</td>\n",
       "      <td>2006</td>\n",
       "      <td>05-1332</td>\n",
       "      <td>affirmed</td>\n",
       "      <td>landlord_tenant</td>\n",
       "      <td>78.57%</td>\n",
       "      <td>[henry, charles]</td>\n",
       "    </tr>\n",
       "    <tr>\n",
       "      <td>394</td>\n",
       "      <td>jacqueline willis, plaintiff, v. city of new b...</td>\n",
       "      <td>0</td>\n",
       "      <td>2000</td>\n",
       "      <td>99-768</td>\n",
       "      <td>affirmed</td>\n",
       "      <td>governmental</td>\n",
       "      <td>66.67%</td>\n",
       "      <td>[everett, clifton , w., jr.]</td>\n",
       "    </tr>\n",
       "    <tr>\n",
       "      <td>938</td>\n",
       "      <td>no. coa11-1470 north carolina court of appeals...</td>\n",
       "      <td>0</td>\n",
       "      <td>2011</td>\n",
       "      <td>11-1470</td>\n",
       "      <td>affirmed</td>\n",
       "      <td>estates</td>\n",
       "      <td>69.64%</td>\n",
       "      <td>[spainhour, w., erwin ]</td>\n",
       "    </tr>\n",
       "  </tbody>\n",
       "</table>\n",
       "</div>"
      ],
      "text/plain": [
       "                                                Opinion  SCT  Year_Filed File_Numbers    Result  \\\n",
       "2634   no. coa07-1259 north carolina court of appeal...    0        2009      07-1259  affirmed   \n",
       "410    in the court of appeals of north carolina no....    0        2016      15-1095  affirmed   \n",
       "2543  an unpublished opinion of the north carolina c...    0        2014      12-1279  reversed   \n",
       "859   an unpublished opinion of the north carolina c...    0        2012      11-1119  reversed   \n",
       "1990  no. coa97-576 north carolina court of appeals ...    0        1998       97-576  reversed   \n",
       "600   an unpublished opinion of the north carolina c...    0        2016       16-463  affirmed   \n",
       "704    no. coa09-298 and coa09-299 north carolina co...    0        2010       09-298  affirmed   \n",
       "2636  ed s. mitchell, jr., hattie b. mitchell, evely...    0        2006      05-1332  affirmed   \n",
       "394   jacqueline willis, plaintiff, v. city of new b...    0        2000       99-768  affirmed   \n",
       "938   no. coa11-1470 north carolina court of appeals...    0        2011      11-1470  affirmed   \n",
       "\n",
       "            Case_Type Case_Type_Confidence                   Trial_Judge  \n",
       "2634       family_law               73.33%        [gorham, phyllis , m.]  \n",
       "410          contract                50.0%            [burke, l., todd ]  \n",
       "2543         contract               77.78%           [r, allen , baddou]  \n",
       "859          contract               100.0%       [hill, james , calvin ]  \n",
       "1990         property               57.14%           [bowen, wiley , f.]  \n",
       "600          premises               83.33%        [shirley, a., graham ]  \n",
       "704         car_crash               71.43%            [ford, larry , g.]  \n",
       "2636  landlord_tenant               78.57%              [henry, charles]  \n",
       "394      governmental               66.67%  [everett, clifton , w., jr.]  \n",
       "938           estates               69.64%       [spainhour, w., erwin ]  "
      ]
     },
     "execution_count": 55,
     "metadata": {},
     "output_type": "execute_result"
    }
   ],
   "source": [
    "df.sample(10)"
   ]
  },
  {
   "cell_type": "code",
   "execution_count": 56,
   "metadata": {},
   "outputs": [],
   "source": [
    "x = df.loc[df[\"Trial_Judge\"] == 'error']\n",
    "# After testing the results of x (the list of erros from the trial_judge function), \n",
    "# the unresolved errors were dropped; they were generally non-judicial decisions \n",
    "# (such as from administrative agencies) or decisions involving multiple orders\n",
    "# from multiple judges.\n",
    "drop_list_others = list(x.index)\n",
    "df.drop(drop_list_others, inplace=True)\n",
    "df.reset_index(drop=True, inplace=True)"
   ]
  },
  {
   "cell_type": "code",
   "execution_count": 57,
   "metadata": {
    "scrolled": true
   },
   "outputs": [
    {
     "name": "stdout",
     "output_type": "stream",
     "text": [
      "Index to Test:\n",
      "Please enter an index to review:\n"
     ]
    }
   ],
   "source": [
    "# Test function to review and diagnose issues\n",
    "try:\n",
    "    test_cell = int(input(\"Index to Test:\"))\n",
    "    print(trial_judge(df.Opinion[test_cell]),\n",
    "          '\\n\\n', df.Opinion[test_cell])\n",
    "except:\n",
    "    print(\"Please enter an index to review:\")"
   ]
  },
  {
   "cell_type": "markdown",
   "metadata": {},
   "source": [
    "**Notes in resolving trial_judge errors**<br>\n",
    "162 - multiple\n",
    "204 - multiple\n",
    "246 - nonjudicial\n",
    "269 - nonjudicial\n",
    "285 - 1stimpression\n",
    "382 - multiple\n",
    "452 - multiple\n",
    "471 - nonjudicial\n",
    "496 - nonjudicial\n",
    "576 - nonjudicial\n",
    "606 - multiple\n",
    "664 - multiple\n",
    "715 - nonjudicial\n",
    "722 - SCT\n",
    "779 - by administrative law judge beecher r. gray.\n",
    "822 - multiple\n",
    "851 - nonjudicial\n",
    "853 - multiple\n",
    "892 - nonjudicial\n",
    "899 - nonjudicial\n",
    "944 - multiple\n",
    "1052 - nonjudicial\n",
    "1081 - nonjudicial\n",
    "1102 - nonjudicial\n",
    "1104 - by superior court judge for complex business cases james l. gale in \n",
    "1138 - multiple\n",
    "1176 - SCT\n",
    "1288 - multiple\n",
    "1318 - nonjudicial\n",
    "1373 - multiple\n",
    "1396 - nonjudicial\n",
    "1411 - multiple\n",
    "1463 - multiple\n",
    "1840 - nonjudicial\n",
    "1886 - nonjudicial\n",
    "1978 - nonjudicial\n",
    "2066 - multiple\n",
    "2083 - nonjudicial\n",
    "2155 - SCT?\n",
    "2206 - nonjudicial\n",
    "2214 - nonjudicial\n",
    "2225 - multiple\n",
    "2251 - nonconforming\n",
    "2261 - nonjudicial\n",
    "2517 - nonjudicial\n",
    "2533 - nonjudicial\n",
    "2585 - nonjudicial\n",
    "2625 - nonjudicial\n",
    "2657 - nonjudicial\n",
    "2678 - nonconforming"
   ]
  },
  {
   "cell_type": "code",
   "execution_count": 58,
   "metadata": {},
   "outputs": [
    {
     "name": "stdout",
     "output_type": "stream",
     "text": [
      "<class 'pandas.core.frame.DataFrame'>\n",
      "RangeIndex: 2698 entries, 0 to 2697\n",
      "Data columns (total 8 columns):\n",
      "Opinion                 2698 non-null object\n",
      "SCT                     2698 non-null int64\n",
      "Year_Filed              2698 non-null int64\n",
      "File_Numbers            2698 non-null object\n",
      "Result                  2698 non-null object\n",
      "Case_Type               2698 non-null object\n",
      "Case_Type_Confidence    2698 non-null object\n",
      "Trial_Judge             2698 non-null object\n",
      "dtypes: int64(2), object(6)\n",
      "memory usage: 168.8+ KB\n"
     ]
    }
   ],
   "source": [
    "df.info()"
   ]
  },
  {
   "cell_type": "markdown",
   "metadata": {},
   "source": [
    "## 6. Extract Feature: County"
   ]
  },
  {
   "cell_type": "code",
   "execution_count": 59,
   "metadata": {},
   "outputs": [],
   "source": [
    "def extract_county(text):\n",
    "    try:\n",
    "        try:\n",
    "            county = re.search(\"in (\\w+) county\",text[:4000])\n",
    "            return county.group(1)\n",
    "        except:\n",
    "            county = re.search(\"(\\w+) county\", text)\n",
    "            return county.group(1)\n",
    "    except:\n",
    "        return(None)"
   ]
  },
  {
   "cell_type": "code",
   "execution_count": 60,
   "metadata": {},
   "outputs": [
    {
     "name": "stdout",
     "output_type": "stream",
     "text": [
      "bladen\n"
     ]
    }
   ],
   "source": [
    "z = extract_county(df.Opinion[11])\n",
    "print(z)"
   ]
  },
  {
   "cell_type": "code",
   "execution_count": 61,
   "metadata": {},
   "outputs": [],
   "source": [
    "county_list = []\n",
    "for i in range(len(df)):\n",
    "    x = extract_county(df.Opinion[i])\n",
    "    county_list.append(x)\n",
    "    \n",
    "df[\"County\"] = pd.Series(county_list).values"
   ]
  },
  {
   "cell_type": "code",
   "execution_count": 62,
   "metadata": {},
   "outputs": [
    {
     "data": {
      "text/html": [
       "<div>\n",
       "<style scoped>\n",
       "    .dataframe tbody tr th:only-of-type {\n",
       "        vertical-align: middle;\n",
       "    }\n",
       "\n",
       "    .dataframe tbody tr th {\n",
       "        vertical-align: top;\n",
       "    }\n",
       "\n",
       "    .dataframe thead th {\n",
       "        text-align: right;\n",
       "    }\n",
       "</style>\n",
       "<table border=\"1\" class=\"dataframe\">\n",
       "  <thead>\n",
       "    <tr style=\"text-align: right;\">\n",
       "      <th></th>\n",
       "      <th>Opinion</th>\n",
       "      <th>SCT</th>\n",
       "      <th>Year_Filed</th>\n",
       "      <th>File_Numbers</th>\n",
       "      <th>Result</th>\n",
       "      <th>Case_Type</th>\n",
       "      <th>Case_Type_Confidence</th>\n",
       "      <th>Trial_Judge</th>\n",
       "      <th>County</th>\n",
       "    </tr>\n",
       "  </thead>\n",
       "  <tbody>\n",
       "    <tr>\n",
       "      <td>939</td>\n",
       "      <td>in the court of appeals of north carolina no....</td>\n",
       "      <td>0</td>\n",
       "      <td>2018</td>\n",
       "      <td>17-618</td>\n",
       "      <td>affirmed</td>\n",
       "      <td>employment</td>\n",
       "      <td>60.0%</td>\n",
       "      <td>[ward, j., randolph ]</td>\n",
       "      <td>-</td>\n",
       "    </tr>\n",
       "    <tr>\n",
       "      <td>949</td>\n",
       "      <td>in the court of appeals of north carolina no....</td>\n",
       "      <td>0</td>\n",
       "      <td>2018</td>\n",
       "      <td>17-1139</td>\n",
       "      <td>affirmed</td>\n",
       "      <td>contract</td>\n",
       "      <td>33.33%</td>\n",
       "      <td>[lassiter, melissa, owens ]</td>\n",
       "      <td>-</td>\n",
       "    </tr>\n",
       "    <tr>\n",
       "      <td>1033</td>\n",
       "      <td>an unpublished opinion of the north carolina c...</td>\n",
       "      <td>0</td>\n",
       "      <td>2008</td>\n",
       "      <td>07-894</td>\n",
       "      <td>affirmed</td>\n",
       "      <td>car_crash</td>\n",
       "      <td>50.0%</td>\n",
       "      <td>[carolina, the, north ]</td>\n",
       "      <td>-</td>\n",
       "    </tr>\n",
       "    <tr>\n",
       "      <td>1770</td>\n",
       "      <td>in the court of appeals of north carolina no. ...</td>\n",
       "      <td>0</td>\n",
       "      <td>2016</td>\n",
       "      <td>15-1300</td>\n",
       "      <td>reversed</td>\n",
       "      <td>employment</td>\n",
       "      <td>100.0%</td>\n",
       "      <td>[overby, donald , w.]</td>\n",
       "      <td>-</td>\n",
       "    </tr>\n",
       "    <tr>\n",
       "      <td>1950</td>\n",
       "      <td>an unpublished opinion of the north carolina ...</td>\n",
       "      <td>0</td>\n",
       "      <td>2019</td>\n",
       "      <td>18-276</td>\n",
       "      <td>affirmed</td>\n",
       "      <td>employment</td>\n",
       "      <td>100.0%</td>\n",
       "      <td>[lassiter, melissa, owens ]</td>\n",
       "      <td>-</td>\n",
       "    </tr>\n",
       "    <tr>\n",
       "      <td>2192</td>\n",
       "      <td>in the court of appeals of north carolina no....</td>\n",
       "      <td>0</td>\n",
       "      <td>2020</td>\n",
       "      <td>19-13</td>\n",
       "      <td>affirmed</td>\n",
       "      <td>employment</td>\n",
       "      <td>100.0%</td>\n",
       "      <td>[bawtinhimer, stacey, bice ]</td>\n",
       "      <td>-</td>\n",
       "    </tr>\n",
       "    <tr>\n",
       "      <td>2424</td>\n",
       "      <td>the presbyterian hospital, petitioner v. n.c. ...</td>\n",
       "      <td>0</td>\n",
       "      <td>2006</td>\n",
       "      <td>05-905</td>\n",
       "      <td>affirmed</td>\n",
       "      <td>governmental</td>\n",
       "      <td>100.0%</td>\n",
       "      <td>[judgment, granting, summary ]</td>\n",
       "      <td>-</td>\n",
       "    </tr>\n",
       "    <tr>\n",
       "      <td>2670</td>\n",
       "      <td>an unpublished opinion of the north carolina ...</td>\n",
       "      <td>0</td>\n",
       "      <td>2019</td>\n",
       "      <td>18-586</td>\n",
       "      <td>affirmed</td>\n",
       "      <td>governmental</td>\n",
       "      <td>100.0%</td>\n",
       "      <td>[sutton, david, f.]</td>\n",
       "      <td>-</td>\n",
       "    </tr>\n",
       "  </tbody>\n",
       "</table>\n",
       "</div>"
      ],
      "text/plain": [
       "                                                Opinion  SCT  Year_Filed File_Numbers    Result  \\\n",
       "939    in the court of appeals of north carolina no....    0        2018       17-618  affirmed   \n",
       "949    in the court of appeals of north carolina no....    0        2018      17-1139  affirmed   \n",
       "1033  an unpublished opinion of the north carolina c...    0        2008       07-894  affirmed   \n",
       "1770  in the court of appeals of north carolina no. ...    0        2016      15-1300  reversed   \n",
       "1950   an unpublished opinion of the north carolina ...    0        2019       18-276  affirmed   \n",
       "2192   in the court of appeals of north carolina no....    0        2020        19-13  affirmed   \n",
       "2424  the presbyterian hospital, petitioner v. n.c. ...    0        2006       05-905  affirmed   \n",
       "2670   an unpublished opinion of the north carolina ...    0        2019       18-586  affirmed   \n",
       "\n",
       "         Case_Type Case_Type_Confidence                     Trial_Judge County  \n",
       "939     employment                60.0%           [ward, j., randolph ]      -  \n",
       "949       contract               33.33%     [lassiter, melissa, owens ]      -  \n",
       "1033     car_crash                50.0%         [carolina, the, north ]      -  \n",
       "1770    employment               100.0%           [overby, donald , w.]      -  \n",
       "1950    employment               100.0%     [lassiter, melissa, owens ]      -  \n",
       "2192    employment               100.0%    [bawtinhimer, stacey, bice ]      -  \n",
       "2424  governmental               100.0%  [judgment, granting, summary ]      -  \n",
       "2670  governmental               100.0%             [sutton, david, f.]      -  "
      ]
     },
     "execution_count": 62,
     "metadata": {},
     "output_type": "execute_result"
    }
   ],
   "source": [
    "df.County = df.County.fillna(value='-',)\n",
    "counties_err = df.loc[df[\"County\"] == '-']\n",
    "counties_err.head(10)"
   ]
  },
  {
   "cell_type": "code",
   "execution_count": 63,
   "metadata": {},
   "outputs": [],
   "source": [
    "# Drop 8 rows not returning any county\n",
    "x = df.loc[df[\"County\"] == '-']\n",
    "y = x.index.tolist()\n",
    "df.drop(y,inplace=True)\n",
    "df.reset_index(drop=True, inplace=True)"
   ]
  },
  {
   "cell_type": "code",
   "execution_count": 76,
   "metadata": {},
   "outputs": [
    {
     "data": {
      "text/html": [
       "<div>\n",
       "<style scoped>\n",
       "    .dataframe tbody tr th:only-of-type {\n",
       "        vertical-align: middle;\n",
       "    }\n",
       "\n",
       "    .dataframe tbody tr th {\n",
       "        vertical-align: top;\n",
       "    }\n",
       "\n",
       "    .dataframe thead th {\n",
       "        text-align: right;\n",
       "    }\n",
       "</style>\n",
       "<table border=\"1\" class=\"dataframe\">\n",
       "  <thead>\n",
       "    <tr style=\"text-align: right;\">\n",
       "      <th></th>\n",
       "      <th>Opinion</th>\n",
       "      <th>SCT</th>\n",
       "      <th>Year_Filed</th>\n",
       "      <th>File_Numbers</th>\n",
       "      <th>Result</th>\n",
       "      <th>Case_Type</th>\n",
       "      <th>Case_Type_Confidence</th>\n",
       "      <th>Trial_Judge</th>\n",
       "      <th>County</th>\n",
       "    </tr>\n",
       "  </thead>\n",
       "  <tbody>\n",
       "    <tr>\n",
       "      <td>265</td>\n",
       "      <td>james e. long, commissioner of insurance of no...</td>\n",
       "      <td>0</td>\n",
       "      <td>2004</td>\n",
       "      <td>03-638</td>\n",
       "      <td>affirmed</td>\n",
       "      <td>corporate</td>\n",
       "      <td>66.67%</td>\n",
       "      <td>['judgment', 'granting', 'summary ']</td>\n",
       "      <td>wake</td>\n",
       "    </tr>\n",
       "    <tr>\n",
       "      <td>1973</td>\n",
       "      <td>thomas m. urquhart, jr., administrator of the ...</td>\n",
       "      <td>0</td>\n",
       "      <td>2011</td>\n",
       "      <td>10-1255</td>\n",
       "      <td>affirmed</td>\n",
       "      <td>med_mal</td>\n",
       "      <td>53.85%</td>\n",
       "      <td>['judgment', 'granting', 'summary ']</td>\n",
       "      <td>pitt</td>\n",
       "    </tr>\n",
       "  </tbody>\n",
       "</table>\n",
       "</div>"
      ],
      "text/plain": [
       "                                                Opinion  SCT  Year_Filed File_Numbers    Result  \\\n",
       "265   james e. long, commissioner of insurance of no...    0        2004       03-638  affirmed   \n",
       "1973  thomas m. urquhart, jr., administrator of the ...    0        2011      10-1255  affirmed   \n",
       "\n",
       "      Case_Type Case_Type_Confidence                           Trial_Judge County  \n",
       "265   corporate               66.67%  ['judgment', 'granting', 'summary ']   wake  \n",
       "1973    med_mal               53.85%  ['judgment', 'granting', 'summary ']   pitt  "
      ]
     },
     "execution_count": 76,
     "metadata": {},
     "output_type": "execute_result"
    }
   ],
   "source": [
    "df.Trial_Judge = df.Trial_Judge.map(lambda x: str(x))\n",
    "df[df['Trial_Judge'].str.contains('judgment', regex=False)]"
   ]
  },
  {
   "cell_type": "markdown",
   "metadata": {},
   "source": [
    "Noted judge incorrectly noted as \"judgment\", only two outliers have this. "
   ]
  },
  {
   "cell_type": "markdown",
   "metadata": {},
   "source": [
    "## 7. Export Final DataFrame"
   ]
  },
  {
   "cell_type": "code",
   "execution_count": 77,
   "metadata": {
    "id": "kYJNHUqz-Dkn"
   },
   "outputs": [],
   "source": [
    "# Save the new DF to a data file\n",
    "with open('ProjectData/df_features.data', 'wb') as filehandle:\n",
    "    # store the data as binary data stream\n",
    "    pickle.dump(df, filehandle)   "
   ]
  },
  {
   "cell_type": "markdown",
   "metadata": {},
   "source": [
    "## 8. EDA Visualizations"
   ]
  },
  {
   "cell_type": "code",
   "execution_count": null,
   "metadata": {},
   "outputs": [],
   "source": [
    "df.describe()"
   ]
  },
  {
   "cell_type": "markdown",
   "metadata": {},
   "source": [
    "### A. MSJ Allowed/Reversed Over Time"
   ]
  },
  {
   "cell_type": "code",
   "execution_count": null,
   "metadata": {},
   "outputs": [],
   "source": [
    "#Prepare visualizing delay by departure window\n",
    "s1 = df6.groupby(['SCHEDULED_DEPARTURE'])['ARRIVAL_DELAY'].sum()\n",
    "s2 = df6.groupby(['SCHEDULED_DEPARTURE'])['ARRIVAL_DELAY'].count()\n",
    "df_sched_dept = pd.concat([s1, s2], axis = 1)\n",
    "df_sched_dept.columns = ['Delays','Total']\n",
    "df_sched_dept['pc_delayed'] = df_sched_dept.Delays / df_sched_dept.Total\n",
    "df_sched_dept['pc_ontime'] = 1-df_sched_dept.pc_delayed\n",
    "df_sched_dept.reset_index(inplace=True)"
   ]
  },
  {
   "cell_type": "code",
   "execution_count": null,
   "metadata": {},
   "outputs": [],
   "source": [
    "# Visualize On-Time Departures by the Departure Window\n",
    "r = [0,1,2,3,4,5,6,7]\n",
    "greenBars = df_sched_dept.pc_ontime\n",
    "redBars = df_sched_dept.pc_delayed\n",
    "barWidth = 0.85\n",
    "names = ('12a-3a','3a-6a','6a-9a', '9a-12p', '12p-3p', '3p-6p', '6p-9p', '9p-12a')\n",
    "# Create green Bars\n",
    "plt.figure(figsize=(10,6))\n",
    "plt.bar(r, greenBars, color='mediumspringgreen', edgecolor='white', width=barWidth)\n",
    "# Create orange Bars\n",
    "plt.bar(r, redBars, bottom=greenBars, color='tomato', edgecolor='white', width=barWidth)\n",
    "plt.xticks(r, names)\n",
    "plt.ylabel(\"Percent Delayed (Red) and On-Time (Green)\")\n",
    "plt.xlabel(\"Three-Hour Departure Windows\")\n",
    "plt.title(\"Percentage of Delayed and On-Time Flights \\n By Scheduled Departure Time \\n [Delayed=Red / On-Time=Green]\")\n",
    "\n",
    "for i in range(len(r)):\n",
    "  plt.annotate(round(df_sched_dept.pc_ontime[i]*100,1), xy=(r[i]-.2,(df_sched_dept.pc_ontime[i] - 0.13)))\n",
    "  plt.annotate(round(df_sched_dept.pc_delayed[i]*100,1), xy=(r[i]-.2,(df_sched_dept.pc_ontime[i] + 0.1)))\n",
    "\n",
    "plt.show()"
   ]
  },
  {
   "cell_type": "markdown",
   "metadata": {},
   "source": [
    "### B. MSJ by Case Type"
   ]
  },
  {
   "cell_type": "code",
   "execution_count": null,
   "metadata": {},
   "outputs": [],
   "source": []
  },
  {
   "cell_type": "code",
   "execution_count": null,
   "metadata": {},
   "outputs": [],
   "source": []
  }
 ],
 "metadata": {
  "kernelspec": {
   "display_name": "Python 3",
   "language": "python",
   "name": "python3"
  },
  "language_info": {
   "codemirror_mode": {
    "name": "ipython",
    "version": 3
   },
   "file_extension": ".py",
   "mimetype": "text/x-python",
   "name": "python",
   "nbconvert_exporter": "python",
   "pygments_lexer": "ipython3",
   "version": "3.6.9"
  }
 },
 "nbformat": 4,
 "nbformat_minor": 2
}
