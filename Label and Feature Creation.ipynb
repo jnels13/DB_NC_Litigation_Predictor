{
 "cells": [
  {
   "cell_type": "markdown",
   "metadata": {},
   "source": [
    "# TO DO:\n",
    "# - Address reversing-denials or affirming-denials\n",
    "#      Still working - do we need to remove dissents? \n",
    "# - Pull remaining simple features (judge, county, ...) (1 night)\n",
    "# - Create topic-modeling feature set (3-4 nights)\n",
    "# - Create EDA visualizations (2 nights)\n",
    "# - Create models (3-4 nights)\n",
    "# - Convert to web app "
   ]
  },
  {
   "cell_type": "markdown",
   "metadata": {},
   "source": [
    "# Label and Feature Creation\n",
    "\n",
    "In this notebook, I will import the single-column dataframe of appellate opinions and create columns with labels and features. "
   ]
  },
  {
   "cell_type": "code",
   "execution_count": 1,
   "metadata": {},
   "outputs": [],
   "source": [
    "import io\n",
    "import re\n",
    "import pandas as pd\n",
    "import pickle\n",
    "import operator"
   ]
  },
  {
   "cell_type": "code",
   "execution_count": 2,
   "metadata": {},
   "outputs": [],
   "source": [
    "# Open the dataframe\n",
    "infile = open('ProjectData/df_clean.data', 'rb')\n",
    "df = pickle.load(infile)\n",
    "infile.close()"
   ]
  },
  {
   "cell_type": "code",
   "execution_count": 3,
   "metadata": {},
   "outputs": [],
   "source": [
    "df.reset_index(inplace=True, drop=True)"
   ]
  },
  {
   "cell_type": "code",
   "execution_count": 4,
   "metadata": {},
   "outputs": [
    {
     "name": "stdout",
     "output_type": "stream",
     "text": [
      "<class 'pandas.core.frame.DataFrame'>\n",
      "RangeIndex: 3922 entries, 0 to 3921\n",
      "Data columns (total 1 columns):\n",
      "Opinion    3922 non-null object\n",
      "dtypes: object(1)\n",
      "memory usage: 30.8+ KB\n"
     ]
    },
    {
     "data": {
      "text/plain": [
       "(None,                                              Opinion\n",
       " 0   an unpublished opinion of the north carolina ...\n",
       " 1  no. coa11-246 north carolina court of appeals ...\n",
       " 2  no. coa08-347 north carolina court of appeals ...\n",
       " 3  michael harrison gregory and wife, vivian greg...\n",
       " 4  atlantic contracting and material company, inc...)"
      ]
     },
     "execution_count": 4,
     "metadata": {},
     "output_type": "execute_result"
    }
   ],
   "source": [
    "df.info(), df.head()"
   ]
  },
  {
   "cell_type": "markdown",
   "metadata": {},
   "source": [
    "### 1. Creating a New Column for the File Numbers\n",
    "This is more experimental than functional."
   ]
  },
  {
   "cell_type": "code",
   "execution_count": 5,
   "metadata": {},
   "outputs": [],
   "source": [
    "# capture file number into new column\n",
    "def coa(string_):\n",
    "    try:\n",
    "        pat_coa_number = re.search(\"no.? ?coa.? ?(\\d{2}-\\d{1,5})\",string_)\n",
    "        return pat_coa_number.group(1)\n",
    "    except:\n",
    "        return('00-000')"
   ]
  },
  {
   "cell_type": "code",
   "execution_count": 6,
   "metadata": {},
   "outputs": [
    {
     "data": {
      "text/plain": [
       "'20-112'"
      ]
     },
     "execution_count": 6,
     "metadata": {},
     "output_type": "execute_result"
    }
   ],
   "source": [
    "coa(df.Opinion[3921])"
   ]
  },
  {
   "cell_type": "code",
   "execution_count": 7,
   "metadata": {},
   "outputs": [],
   "source": [
    "coa_numbers = []\n",
    "for i in range(len(df.Opinion)):\n",
    "    x = coa(df.Opinion[i])\n",
    "    coa_numbers.append(x)"
   ]
  },
  {
   "cell_type": "code",
   "execution_count": 8,
   "metadata": {},
   "outputs": [],
   "source": [
    "placeholder=pd.Series(coa_numbers)\n",
    "df[\"File_Numbers\"] = placeholder.values"
   ]
  },
  {
   "cell_type": "code",
   "execution_count": 9,
   "metadata": {},
   "outputs": [
    {
     "data": {
      "text/html": [
       "<div>\n",
       "<style scoped>\n",
       "    .dataframe tbody tr th:only-of-type {\n",
       "        vertical-align: middle;\n",
       "    }\n",
       "\n",
       "    .dataframe tbody tr th {\n",
       "        vertical-align: top;\n",
       "    }\n",
       "\n",
       "    .dataframe thead th {\n",
       "        text-align: right;\n",
       "    }\n",
       "</style>\n",
       "<table border=\"1\" class=\"dataframe\">\n",
       "  <thead>\n",
       "    <tr style=\"text-align: right;\">\n",
       "      <th></th>\n",
       "      <th>Opinion</th>\n",
       "      <th>File_Numbers</th>\n",
       "    </tr>\n",
       "  </thead>\n",
       "  <tbody>\n",
       "    <tr>\n",
       "      <td>0</td>\n",
       "      <td>an unpublished opinion of the north carolina ...</td>\n",
       "      <td>19-563</td>\n",
       "    </tr>\n",
       "    <tr>\n",
       "      <td>1</td>\n",
       "      <td>no. coa11-246 north carolina court of appeals ...</td>\n",
       "      <td>11-246</td>\n",
       "    </tr>\n",
       "    <tr>\n",
       "      <td>2</td>\n",
       "      <td>no. coa08-347 north carolina court of appeals ...</td>\n",
       "      <td>08-347</td>\n",
       "    </tr>\n",
       "    <tr>\n",
       "      <td>3</td>\n",
       "      <td>michael harrison gregory and wife, vivian greg...</td>\n",
       "      <td>05-885</td>\n",
       "    </tr>\n",
       "    <tr>\n",
       "      <td>4</td>\n",
       "      <td>atlantic contracting and material company, inc...</td>\n",
       "      <td>02-1087</td>\n",
       "    </tr>\n",
       "    <tr>\n",
       "      <td>5</td>\n",
       "      <td>an unpublished opinion of the north carolina c...</td>\n",
       "      <td>13-222</td>\n",
       "    </tr>\n",
       "    <tr>\n",
       "      <td>6</td>\n",
       "      <td>in the court of appeals of north carolina no....</td>\n",
       "      <td>17-112</td>\n",
       "    </tr>\n",
       "    <tr>\n",
       "      <td>7</td>\n",
       "      <td>in the court of appeals of north carolina no....</td>\n",
       "      <td>15-862</td>\n",
       "    </tr>\n",
       "    <tr>\n",
       "      <td>8</td>\n",
       "      <td>no. coa11-1447 north carolina court of appeal...</td>\n",
       "      <td>11-1447</td>\n",
       "    </tr>\n",
       "    <tr>\n",
       "      <td>9</td>\n",
       "      <td>an unpublished opinion of the north carolina c...</td>\n",
       "      <td>13-248</td>\n",
       "    </tr>\n",
       "  </tbody>\n",
       "</table>\n",
       "</div>"
      ],
      "text/plain": [
       "                                             Opinion File_Numbers\n",
       "0   an unpublished opinion of the north carolina ...       19-563\n",
       "1  no. coa11-246 north carolina court of appeals ...       11-246\n",
       "2  no. coa08-347 north carolina court of appeals ...       08-347\n",
       "3  michael harrison gregory and wife, vivian greg...       05-885\n",
       "4  atlantic contracting and material company, inc...      02-1087\n",
       "5  an unpublished opinion of the north carolina c...       13-222\n",
       "6   in the court of appeals of north carolina no....       17-112\n",
       "7   in the court of appeals of north carolina no....       15-862\n",
       "8   no. coa11-1447 north carolina court of appeal...      11-1447\n",
       "9  an unpublished opinion of the north carolina c...       13-248"
      ]
     },
     "execution_count": 9,
     "metadata": {},
     "output_type": "execute_result"
    }
   ],
   "source": [
    "df.head(10)"
   ]
  },
  {
   "cell_type": "markdown",
   "metadata": {},
   "source": [
    "### 2. Creating the Labels (Affirmed, Reversed, etc.)\n",
    "\n",
    "The labels were created using the regex patterns below. The ultimate fuction below was created over many iterations. Initially, there were approximately 300 errors; the model was tweaked to reduce errors while maintaining reliability. Ultimately, 25 rows were dropped as errors because the cases were not beneficial to the model (i.e., they did not include a relevant summary judgment decision, the opinion on summary judgment was entwined with other components, etc.); 454 \"affirmed-in-part\" rows were dropped since they're not the binary outcome needed; and 408 dismissals were dropped since they don't have a usable outcome.  "
   ]
  },
  {
   "cell_type": "markdown",
   "metadata": {},
   "source": [
    "#### A. Functions to Assign and Apply Labels to the DataFrame"
   ]
  },
  {
   "cell_type": "code",
   "execution_count": 10,
   "metadata": {},
   "outputs": [],
   "source": [
    "# \n",
    "def labels(string_):\n",
    "    \"\"\"\n",
    "    This function will extract the outcome from a given string (opinion).\n",
    "    Each of the 'try' statements extracts the labels with decreasing \n",
    "    degrees of confidence (first by the one-word sentence, then within\n",
    "    10 words of the statement regarding concurrence, typically near the \n",
    "    end of the opinion; then clipping the last 150 chars. of the opinion \n",
    "    and looking for the associated label-words, and finally looking for \n",
    "    label-words within 5-10 words of the often-occurring phrase, 'for the\n",
    "    reasons set forth above').\n",
    "    \"\"\"\n",
    "    try:\n",
    "        try:\n",
    "            try:\n",
    "                try:  #this level has the highest confidence of getting an accurate label, based upon review of opinions (a single-word sentence)\n",
    "                    labels = re.search(\"\\.. ?(affirmed?)\\.|\\.?(reversed?)\\.|(affirmed in part)|\\.?(dismissed)\\.\",string_)\n",
    "                    x = labels.group(1)\n",
    "                    y = labels.group(2)\n",
    "                    z = labels.group(3)\n",
    "                    w = labels.group(4)\n",
    "                    not_none = [x,y,z]\n",
    "                    a = [i for i in not_none if i != None]\n",
    "                    return a[0]\n",
    "                except:  # slightly less confidence; looks for outcome word within 10 words of \"concur\", which frequently is at the end of a unanymous opinion\n",
    "                    labels = re.search(\"(?:concurs?\\W+(?:\\w+\\W+){0,40}?((affirmed in part)|reversed|affirmed|dismissed|no error|vacated)|((affirmed in part)|affirmed|reversed|dismissed|no error|vacated)\\W+(?:\\w+\\W+){0,40}?concurs?)\", string_)\n",
    "                    #print(\"Group 0:\", labels.group(0), \"\\nGroup 1:\", labels.group(1), \"\\nGroup 2:\", labels.group(2), \"\\nGroup 3:\", labels.group(3), \"\\nGroup 4:\", labels.group(4))\n",
    "                    x = labels2.group(1)\n",
    "                    y = labels2.group(2)\n",
    "                    z = labels2.group(3)\n",
    "                    w = labels2.group(4)\n",
    "                    not_none = [x,y,z,w]\n",
    "                    a = [i for i in not_none if i != None]\n",
    "                    #print(\"This is resulting list a:\", a)\n",
    "                    return a[0]\n",
    "            except: #slightly less confidence; if both of the previous methods fail, this clips the last 150 chars of the opinion for any of the outcome words\n",
    "                clip = string_[-150:]\n",
    "    #             print(clip)\n",
    "                labels3 = re.search(\"('affirmed in part'|reversed|affirmed|dismissed|'affirm in part'|affirm|reverse|dismiss|improvidently allowed)\",clip)\n",
    "                return labels3.group(0)\n",
    "        except: \n",
    "            labels4 = re.search(\"(?:reasons set forth?\\W+(?:\\w+\\W+){0,5}?((affirm in part)|reverse|affirm|dismiss|no error|vacated?)|((affirm in part)|affirm|reversed?|dismiss|no error|vacated?)\\W+(?:\\w+\\W+){0,10}?reasons set forth?)\", string_)\n",
    "            #print(\"Group 0:\", labels.group(0), \"\\nGroup 1:\", labels.group(1), \"\\nGroup 2:\", labels.group(2), \"\\nGroup 3:\", labels.group(3), \"\\nGroup 4:\", labels.group(4))\n",
    "            x = labels4.group(1)\n",
    "            y = labels4.group(2)\n",
    "            z = labels4.group(3)\n",
    "            w = labels4.group(4)\n",
    "            not_none = [x,y,z,w]\n",
    "            a = [i for i in not_none if i != None]\n",
    "            #print(\"This is resulting list a:\", a)\n",
    "            return a[0]\n",
    "    except:\n",
    "        return('error')"
   ]
  },
  {
   "cell_type": "code",
   "execution_count": 11,
   "metadata": {},
   "outputs": [
    {
     "data": {
      "text/plain": [
       "'affirmed'"
      ]
     },
     "execution_count": 11,
     "metadata": {},
     "output_type": "execute_result"
    }
   ],
   "source": [
    "# Test Cell \n",
    "labels(df.Opinion[2092])"
   ]
  },
  {
   "cell_type": "code",
   "execution_count": 12,
   "metadata": {},
   "outputs": [],
   "source": [
    "# Apply labels to the DataFrame\n",
    "labels_list = []\n",
    "for i in range(len(df.Opinion)):\n",
    "    x = labels(df.Opinion[i])\n",
    "    labels_list.append(x)\n",
    "    \n",
    "labels_series = pd.Series(labels_list)\n",
    "df[\"Result\"] = labels_series.values"
   ]
  },
  {
   "cell_type": "code",
   "execution_count": 13,
   "metadata": {},
   "outputs": [
    {
     "data": {
      "text/plain": [
       "affirmed                 2009\n",
       "reversed                  551\n",
       "affirmed in part          403\n",
       "error                     251\n",
       "dismissed                 223\n",
       "dismiss                   191\n",
       "reverse                   174\n",
       "affirm                    104\n",
       "improvidently allowed      14\n",
       "no error                    1\n",
       "vacate                      1\n",
       "Name: Result, dtype: int64"
      ]
     },
     "execution_count": 13,
     "metadata": {},
     "output_type": "execute_result"
    }
   ],
   "source": [
    "df.Result.value_counts()"
   ]
  },
  {
   "cell_type": "markdown",
   "metadata": {},
   "source": [
    "#### B. Combine Similar Terms and Drop Rows Irrelevant to the Outcome"
   ]
  },
  {
   "cell_type": "code",
   "execution_count": 14,
   "metadata": {},
   "outputs": [],
   "source": [
    "df['Result'].replace(['reverse','affirm', 'dismiss','no error', 'vacated', 'improvidently allowed'],\n",
    "                     ['reversed','affirmed','dismissed', 'affirmed', 'reversed', 'dismissed'], inplace=True)\n",
    "\n",
    "# The model will treat 'no error' as 'affirmed' and 'vacated' as 'reversed'"
   ]
  },
  {
   "cell_type": "code",
   "execution_count": 15,
   "metadata": {},
   "outputs": [
    {
     "data": {
      "text/plain": [
       "affirmed            2114\n",
       "reversed             725\n",
       "dismissed            428\n",
       "affirmed in part     403\n",
       "error                251\n",
       "vacate                 1\n",
       "Name: Result, dtype: int64"
      ]
     },
     "execution_count": 15,
     "metadata": {},
     "output_type": "execute_result"
    }
   ],
   "source": [
    "df.Result.value_counts()"
   ]
  },
  {
   "cell_type": "code",
   "execution_count": 16,
   "metadata": {},
   "outputs": [],
   "source": [
    "# Drop rows with 'error', 'dismissed', and 'affirmed in part' -- see section header, above\n",
    "drop_list1 = df.loc[df['Result'] == 'error']\n",
    "drop_list2 = df.loc[df['Result'] == 'affirmed in part']\n",
    "drop_list3 = df.loc[df['Result'] == 'dismissed']"
   ]
  },
  {
   "cell_type": "code",
   "execution_count": 17,
   "metadata": {},
   "outputs": [],
   "source": [
    "drop_list = list(drop_list1.index) + list(drop_list2.index) + list(drop_list3.index)"
   ]
  },
  {
   "cell_type": "code",
   "execution_count": 18,
   "metadata": {},
   "outputs": [],
   "source": [
    "df.drop(drop_list, axis=0, inplace=True)\n",
    "df.reset_index(drop=True, inplace=True)"
   ]
  },
  {
   "cell_type": "code",
   "execution_count": 19,
   "metadata": {
    "scrolled": true
   },
   "outputs": [
    {
     "data": {
      "text/plain": [
       "affirmed    2114\n",
       "reversed     725\n",
       "vacate         1\n",
       "Name: Result, dtype: int64"
      ]
     },
     "execution_count": 19,
     "metadata": {},
     "output_type": "execute_result"
    }
   ],
   "source": [
    "df.Result.value_counts()"
   ]
  },
  {
   "cell_type": "markdown",
   "metadata": {},
   "source": [
    "#### C. Ensure Labels Have the Same Effect Throughout the DataFrame"
   ]
  },
  {
   "cell_type": "code",
   "execution_count": 20,
   "metadata": {
    "scrolled": false
   },
   "outputs": [],
   "source": [
    "def substantial_right(string_):\n",
    "    \"\"\" \n",
    "    I have been treating the label \"affirm\" as affirming the grant \n",
    "    of a summary judgment motion, and \"reverse\" as reversing the grant \n",
    "    of the motion, because it is much more common for the court of appeals \n",
    "    to address GRANTS of summary judgment. Much more rarely, they will \n",
    "    review a motion denying summary judgment, and the above functions will \n",
    "    have the opposite label than intended. This function will take a string, \n",
    "    review whether it contains the key words \"substantial right,\" and then \n",
    "    analyze the language of the opinion to see if the opinion affirms or \n",
    "    reverses the DENIAL of summary judgment. If it does, it will return a\n",
    "    '1', and if not, a '0'. This can be used later as a switch to flip the \n",
    "    label assigned above.\n",
    "    \"\"\"\n",
    "    # Screen for the keword 'substantial right'\n",
    "    if string_.count(\"substantial right\") > 0:\n",
    "        x = re.search(\"(?:(affirm|reverse?)\\W+(?:\\w+\\W+){0,5}?denial)\", string_)\n",
    "        try:\n",
    "            x.group(0)\n",
    "            return(1)\n",
    "        except:\n",
    "            return(0)"
   ]
  },
  {
   "cell_type": "code",
   "execution_count": 21,
   "metadata": {},
   "outputs": [],
   "source": [
    "substantial_right_list = []\n",
    "for i in range(len(df.Opinion)):\n",
    "    x = substantial_right(df.Opinion[i])\n",
    "    substantial_right_list.append(x)\n",
    "\n",
    "x_series = pd.Series(substantial_right_list)\n",
    "df[\"sub_right\"] = x_series.values"
   ]
  },
  {
   "cell_type": "code",
   "execution_count": 22,
   "metadata": {},
   "outputs": [
    {
     "data": {
      "text/html": [
       "<div>\n",
       "<style scoped>\n",
       "    .dataframe tbody tr th:only-of-type {\n",
       "        vertical-align: middle;\n",
       "    }\n",
       "\n",
       "    .dataframe tbody tr th {\n",
       "        vertical-align: top;\n",
       "    }\n",
       "\n",
       "    .dataframe thead th {\n",
       "        text-align: right;\n",
       "    }\n",
       "</style>\n",
       "<table border=\"1\" class=\"dataframe\">\n",
       "  <thead>\n",
       "    <tr style=\"text-align: right;\">\n",
       "      <th></th>\n",
       "      <th>Opinion</th>\n",
       "      <th>File_Numbers</th>\n",
       "      <th>Result</th>\n",
       "      <th>sub_right</th>\n",
       "    </tr>\n",
       "  </thead>\n",
       "  <tbody>\n",
       "    <tr>\n",
       "      <td>338</td>\n",
       "      <td>estate of erik dominic williams, by and throug...</td>\n",
       "      <td>10-491</td>\n",
       "      <td>affirmed</td>\n",
       "      <td>1.0</td>\n",
       "    </tr>\n",
       "    <tr>\n",
       "      <td>441</td>\n",
       "      <td>estate of vera hewett, et al, plaintiffs, v. c...</td>\n",
       "      <td>08-1071</td>\n",
       "      <td>reversed</td>\n",
       "      <td>1.0</td>\n",
       "    </tr>\n",
       "    <tr>\n",
       "      <td>603</td>\n",
       "      <td>james l. pierson, kathy l. pierson, lincoln m....</td>\n",
       "      <td>99-1333</td>\n",
       "      <td>affirmed</td>\n",
       "      <td>1.0</td>\n",
       "    </tr>\n",
       "    <tr>\n",
       "      <td>740</td>\n",
       "      <td>in the supreme court of north carolina no. 484...</td>\n",
       "      <td>00-000</td>\n",
       "      <td>reversed</td>\n",
       "      <td>1.0</td>\n",
       "    </tr>\n",
       "    <tr>\n",
       "      <td>769</td>\n",
       "      <td>mitchell, brewer, richardson, adams, burge &amp; b...</td>\n",
       "      <td>09-1020</td>\n",
       "      <td>reversed</td>\n",
       "      <td>1.0</td>\n",
       "    </tr>\n",
       "    <tr>\n",
       "      <td>873</td>\n",
       "      <td>nello l. teer company, inc., plaintiff, v. jon...</td>\n",
       "      <td>06-340</td>\n",
       "      <td>reversed</td>\n",
       "      <td>1.0</td>\n",
       "    </tr>\n",
       "    <tr>\n",
       "      <td>944</td>\n",
       "      <td>in the court of appeals of north carolina no....</td>\n",
       "      <td>16-908</td>\n",
       "      <td>reversed</td>\n",
       "      <td>1.0</td>\n",
       "    </tr>\n",
       "    <tr>\n",
       "      <td>964</td>\n",
       "      <td>an unpublished opinion of the north carolina c...</td>\n",
       "      <td>02-1610</td>\n",
       "      <td>affirmed</td>\n",
       "      <td>1.0</td>\n",
       "    </tr>\n",
       "    <tr>\n",
       "      <td>987</td>\n",
       "      <td>wilson myers, administrator of the estate of t...</td>\n",
       "      <td>07-285</td>\n",
       "      <td>affirmed</td>\n",
       "      <td>1.0</td>\n",
       "    </tr>\n",
       "    <tr>\n",
       "      <td>1003</td>\n",
       "      <td>michael g. staley and melody h. staley, plaint...</td>\n",
       "      <td>98-1293</td>\n",
       "      <td>reversed</td>\n",
       "      <td>1.0</td>\n",
       "    </tr>\n",
       "    <tr>\n",
       "      <td>1083</td>\n",
       "      <td>no. coa13-323 north carolina court of appeals...</td>\n",
       "      <td>13-323</td>\n",
       "      <td>reversed</td>\n",
       "      <td>1.0</td>\n",
       "    </tr>\n",
       "    <tr>\n",
       "      <td>1141</td>\n",
       "      <td>tiber holding corporation, regis insurance com...</td>\n",
       "      <td>04-1184</td>\n",
       "      <td>affirmed</td>\n",
       "      <td>1.0</td>\n",
       "    </tr>\n",
       "    <tr>\n",
       "      <td>1208</td>\n",
       "      <td>lennie and bonnie hamby, plaintiffs, v. profil...</td>\n",
       "      <td>08-942</td>\n",
       "      <td>affirmed</td>\n",
       "      <td>1.0</td>\n",
       "    </tr>\n",
       "    <tr>\n",
       "      <td>1332</td>\n",
       "      <td>teresa h. satorre, sharon o. lee, theresa k. p...</td>\n",
       "      <td>03-648</td>\n",
       "      <td>reversed</td>\n",
       "      <td>1.0</td>\n",
       "    </tr>\n",
       "    <tr>\n",
       "      <td>1457</td>\n",
       "      <td>an unpublished opinion of the north carolina c...</td>\n",
       "      <td>14-811</td>\n",
       "      <td>affirmed</td>\n",
       "      <td>1.0</td>\n",
       "    </tr>\n",
       "    <tr>\n",
       "      <td>1484</td>\n",
       "      <td>no. coa04-758 north carolina court of appeals ...</td>\n",
       "      <td>04-758</td>\n",
       "      <td>affirmed</td>\n",
       "      <td>1.0</td>\n",
       "    </tr>\n",
       "    <tr>\n",
       "      <td>1542</td>\n",
       "      <td>no. coa02-423 north carolina court of appeals ...</td>\n",
       "      <td>02-423</td>\n",
       "      <td>reversed</td>\n",
       "      <td>1.0</td>\n",
       "    </tr>\n",
       "    <tr>\n",
       "      <td>1638</td>\n",
       "      <td>an unpublished opinion of the north carolina ...</td>\n",
       "      <td>18-1207</td>\n",
       "      <td>reversed</td>\n",
       "      <td>1.0</td>\n",
       "    </tr>\n",
       "    <tr>\n",
       "      <td>1649</td>\n",
       "      <td>jon-paul craig, by his mother and next friend,...</td>\n",
       "      <td>07-80</td>\n",
       "      <td>reversed</td>\n",
       "      <td>1.0</td>\n",
       "    </tr>\n",
       "    <tr>\n",
       "      <td>1699</td>\n",
       "      <td>in the court of appeals of north carolina no....</td>\n",
       "      <td>18-478</td>\n",
       "      <td>affirmed</td>\n",
       "      <td>1.0</td>\n",
       "    </tr>\n",
       "    <tr>\n",
       "      <td>1717</td>\n",
       "      <td>in the court of appeals of north carolina no....</td>\n",
       "      <td>16-776</td>\n",
       "      <td>reversed</td>\n",
       "      <td>1.0</td>\n",
       "    </tr>\n",
       "    <tr>\n",
       "      <td>1814</td>\n",
       "      <td>josephine williams, administratrix of the esta...</td>\n",
       "      <td>03-1624</td>\n",
       "      <td>affirmed</td>\n",
       "      <td>1.0</td>\n",
       "    </tr>\n",
       "    <tr>\n",
       "      <td>1954</td>\n",
       "      <td>in the court of appeals of north carolina no....</td>\n",
       "      <td>19-701</td>\n",
       "      <td>affirmed</td>\n",
       "      <td>1.0</td>\n",
       "    </tr>\n",
       "    <tr>\n",
       "      <td>1981</td>\n",
       "      <td>keith brent vest v. michael f. easley, north c...</td>\n",
       "      <td>00-635</td>\n",
       "      <td>reversed</td>\n",
       "      <td>1.0</td>\n",
       "    </tr>\n",
       "    <tr>\n",
       "      <td>2013</td>\n",
       "      <td>in the court of appeals of north carolina no....</td>\n",
       "      <td>15-751</td>\n",
       "      <td>reversed</td>\n",
       "      <td>1.0</td>\n",
       "    </tr>\n",
       "    <tr>\n",
       "      <td>2188</td>\n",
       "      <td>johnston health care center, l.l.c. petitioner...</td>\n",
       "      <td>99-129</td>\n",
       "      <td>affirmed</td>\n",
       "      <td>1.0</td>\n",
       "    </tr>\n",
       "    <tr>\n",
       "      <td>2447</td>\n",
       "      <td>anne h. craig v. the asheville city board of e...</td>\n",
       "      <td>00-175</td>\n",
       "      <td>affirmed</td>\n",
       "      <td>1.0</td>\n",
       "    </tr>\n",
       "    <tr>\n",
       "      <td>2501</td>\n",
       "      <td>an unpublished opinion of the north carolina c...</td>\n",
       "      <td>09-315</td>\n",
       "      <td>affirmed</td>\n",
       "      <td>1.0</td>\n",
       "    </tr>\n",
       "    <tr>\n",
       "      <td>2516</td>\n",
       "      <td>lennie and bonnie hamby, plaintiffs, v. profil...</td>\n",
       "      <td>05-1491</td>\n",
       "      <td>reversed</td>\n",
       "      <td>1.0</td>\n",
       "    </tr>\n",
       "    <tr>\n",
       "      <td>2631</td>\n",
       "      <td>an unpublished opinion of the north carolina ...</td>\n",
       "      <td>18-197</td>\n",
       "      <td>reversed</td>\n",
       "      <td>1.0</td>\n",
       "    </tr>\n",
       "    <tr>\n",
       "      <td>2632</td>\n",
       "      <td>no. coa08-801 north carolina court of appeals ...</td>\n",
       "      <td>08-801</td>\n",
       "      <td>affirmed</td>\n",
       "      <td>1.0</td>\n",
       "    </tr>\n",
       "    <tr>\n",
       "      <td>2644</td>\n",
       "      <td>an unpublished opinion of the north carolina c...</td>\n",
       "      <td>12-1490</td>\n",
       "      <td>affirmed</td>\n",
       "      <td>1.0</td>\n",
       "    </tr>\n",
       "    <tr>\n",
       "      <td>2757</td>\n",
       "      <td>sherri b. blaylock, as guardian ad litem for h...</td>\n",
       "      <td>00-000</td>\n",
       "      <td>affirmed</td>\n",
       "      <td>1.0</td>\n",
       "    </tr>\n",
       "    <tr>\n",
       "      <td>2834</td>\n",
       "      <td>1 bruce-terminix co. v. zurich ins. co., 130 n...</td>\n",
       "      <td>07-1260</td>\n",
       "      <td>affirmed</td>\n",
       "      <td>1.0</td>\n",
       "    </tr>\n",
       "  </tbody>\n",
       "</table>\n",
       "</div>"
      ],
      "text/plain": [
       "                                                Opinion File_Numbers  \\\n",
       "338   estate of erik dominic williams, by and throug...       10-491   \n",
       "441   estate of vera hewett, et al, plaintiffs, v. c...      08-1071   \n",
       "603   james l. pierson, kathy l. pierson, lincoln m....      99-1333   \n",
       "740   in the supreme court of north carolina no. 484...       00-000   \n",
       "769   mitchell, brewer, richardson, adams, burge & b...      09-1020   \n",
       "873   nello l. teer company, inc., plaintiff, v. jon...       06-340   \n",
       "944    in the court of appeals of north carolina no....       16-908   \n",
       "964   an unpublished opinion of the north carolina c...      02-1610   \n",
       "987   wilson myers, administrator of the estate of t...       07-285   \n",
       "1003  michael g. staley and melody h. staley, plaint...      98-1293   \n",
       "1083   no. coa13-323 north carolina court of appeals...       13-323   \n",
       "1141  tiber holding corporation, regis insurance com...      04-1184   \n",
       "1208  lennie and bonnie hamby, plaintiffs, v. profil...       08-942   \n",
       "1332  teresa h. satorre, sharon o. lee, theresa k. p...       03-648   \n",
       "1457  an unpublished opinion of the north carolina c...       14-811   \n",
       "1484  no. coa04-758 north carolina court of appeals ...       04-758   \n",
       "1542  no. coa02-423 north carolina court of appeals ...       02-423   \n",
       "1638   an unpublished opinion of the north carolina ...      18-1207   \n",
       "1649  jon-paul craig, by his mother and next friend,...        07-80   \n",
       "1699   in the court of appeals of north carolina no....       18-478   \n",
       "1717   in the court of appeals of north carolina no....       16-776   \n",
       "1814  josephine williams, administratrix of the esta...      03-1624   \n",
       "1954   in the court of appeals of north carolina no....       19-701   \n",
       "1981  keith brent vest v. michael f. easley, north c...       00-635   \n",
       "2013   in the court of appeals of north carolina no....       15-751   \n",
       "2188  johnston health care center, l.l.c. petitioner...       99-129   \n",
       "2447  anne h. craig v. the asheville city board of e...       00-175   \n",
       "2501  an unpublished opinion of the north carolina c...       09-315   \n",
       "2516  lennie and bonnie hamby, plaintiffs, v. profil...      05-1491   \n",
       "2631   an unpublished opinion of the north carolina ...       18-197   \n",
       "2632  no. coa08-801 north carolina court of appeals ...       08-801   \n",
       "2644  an unpublished opinion of the north carolina c...      12-1490   \n",
       "2757  sherri b. blaylock, as guardian ad litem for h...       00-000   \n",
       "2834  1 bruce-terminix co. v. zurich ins. co., 130 n...      07-1260   \n",
       "\n",
       "        Result  sub_right  \n",
       "338   affirmed        1.0  \n",
       "441   reversed        1.0  \n",
       "603   affirmed        1.0  \n",
       "740   reversed        1.0  \n",
       "769   reversed        1.0  \n",
       "873   reversed        1.0  \n",
       "944   reversed        1.0  \n",
       "964   affirmed        1.0  \n",
       "987   affirmed        1.0  \n",
       "1003  reversed        1.0  \n",
       "1083  reversed        1.0  \n",
       "1141  affirmed        1.0  \n",
       "1208  affirmed        1.0  \n",
       "1332  reversed        1.0  \n",
       "1457  affirmed        1.0  \n",
       "1484  affirmed        1.0  \n",
       "1542  reversed        1.0  \n",
       "1638  reversed        1.0  \n",
       "1649  reversed        1.0  \n",
       "1699  affirmed        1.0  \n",
       "1717  reversed        1.0  \n",
       "1814  affirmed        1.0  \n",
       "1954  affirmed        1.0  \n",
       "1981  reversed        1.0  \n",
       "2013  reversed        1.0  \n",
       "2188  affirmed        1.0  \n",
       "2447  affirmed        1.0  \n",
       "2501  affirmed        1.0  \n",
       "2516  reversed        1.0  \n",
       "2631  reversed        1.0  \n",
       "2632  affirmed        1.0  \n",
       "2644  affirmed        1.0  \n",
       "2757  affirmed        1.0  \n",
       "2834  affirmed        1.0  "
      ]
     },
     "execution_count": 22,
     "metadata": {},
     "output_type": "execute_result"
    }
   ],
   "source": [
    "df.loc[df['sub_right'] == 1]"
   ]
  },
  {
   "cell_type": "code",
   "execution_count": 34,
   "metadata": {},
   "outputs": [
    {
     "data": {
      "text/plain": [
       "' no. coa13-323 north carolina court of appeals filed: 1 april 2014 orange county no. 11 cvs 1204 charles d. brown, plaintiff, v. town of chapel hill, chapel hill police officer d. funk, in his official and individual capacity, and other chapel hill police officers, in their individual and official capacities, to be named when their identities and level of participation becomes known, defendants. appeal by defendants from order entered 18 september 2012 by judge carl r. fox in orange county superior court. heard in the court of appeals 28 august 2013. mcsurely and turner, pllc, by alan mcsurely, for plaintiff- appellee. cranfill sumner & hartzog llp, by dan m. hartzog and dan m. hartzog, jr., for defendants-appellants. hunter, robert c., judge. officer d. funk (“defendant” or “officer funk”) and the town of chapel hill (“the town”) (collectively “defendants”) appeal from an order denying in part their motion for summary -2- judgment as to the claim of plaintiff charles d. brown for false imprisonment. only officer funk’s appeal from the trial court’s denial of his motion for summary judgment based on public official immunity is properly before us. because plaintiff failed to forecast evidence that officer funk acted with malice, we reverse. background this lawsuit arises out of the stop and detention of plaintiff by officer funk and other officers of the chapel hill police department (“chpd”) on the night of 1 june 2009. plaintiff, a black male, is the owner of precise cuts & styles barber shop located at 136 e. rosemary street in chapel hill, north carolina. according to plaintiff’s verified complaint and deposition, on 1 june 2009, after closing his shop at 10:00 p.m., plaintiff stayed late to do some cleaning and remodeling. when plaintiff was finished, around 11:25 p.m., he locked the shop’s front door and walked west on rosemary street towards his fiancé’s house in carrboro. at around 11:35 p.m., plaintiff was walking along the north side of west rosemary street when he saw two officers in police cars parked in the convenience store lot on the south side of the street across from breadman’s restaurant. one of the -3- officers pulled out on rosemary street and into an empty lot on the south side of the street. as he walked past the officer, plaintiff raised his right arm across his face, scratching the left side of his face with his right hand. plaintiff continued walking on the north side of the street past the breadman’s parking lot, and heard someone say, “stop.” not realizing that the person was talking to him, plaintiff continued walking. plaintiff then heard the same voice again, this time directly behind him, saying, “i said stop!” plaintiff turned and saw officer funk with his hand on his weapon about five feet away. plaintiff asked, “stop for what? what did i do?” officer funk responded, “[y]ou are under arrest, mr. farrington [sic]” as he grabbed plaintiff’s hand, spun him around, pushed him against the back of a second police car that had just pulled in front of plaintiff. officer funk pulled plaintiff’s other arm behind his back and tightly fastened the handcuffs on plaintiff’s wrists, inflicting pain. plaintiff informed the officers that he was not cuman fearrington (“mr. fearrington”) and that his actual name was charles brown. when plaintiff did not receive any response from the officers, he asked, “[a]re you sure you want to do this? my name is not mr. farrington [sic].” again, the officers did not respond. instead, officer funk pushed plaintiff against the -4- trunk of the police car and patted plaintiff down, checking for weapons. plaintiff told officer funk to look in his pants pocket for his id cards. defendant pulled out a set of cards held together with a rubber band, flipped through them, and threw them on the trunk of the police car. when officer funk asked plaintiff from where he was walking, plaintiff told him that he had just left work. officer funk questioned plaintiff: “from work at this time of night?” plaintiff explained that he owned a barber shop on rosemary street. officer funk replied in a sarcastic and incredulous tone: “oh? you own a business?” plaintiff responded, “if i was white, this would not be happening.” officer funk then asked whether plaintiff would “feel better” if he called a black officer. because plaintiff again thought officer funk was being sarcastic, he replied, “no.” in the meantime, five police cars gathered, and several cars and pedestrians slowed or stopped to observe what was happening. a black police officer, officer d. williams, asked plaintiff, “if i had pulled you, would you feel better?” plaintiff then heard officer williams say to the other officers, “i hate the ones like him.” at 12:14 a.m., officer funk’s partner, officer castro, called orange county communications to verify the information on -5- plaintiff’s identification card. when the operator confirmed plaintiff’s identification, officer castro asked, “[d]oes he have anything on the ncic? or anything on other surrounding indices?” the operator replied, “i don’t show anything in ncic but i’m going to check surrounding . . . i’ll have to send a message . . . it will take a few . . . .” eventually the operator responded that there was “no positive response,” and the 16-minute call ended at 12:30 a.m. a few minutes later, officer funk removed plaintiff’s handcuffs, and he and the other officers drove off without apologizing or saying anything else to plaintiff. the following day, plaintiff and his fiancé drove to the chpd to file a complaint and ask for a photograph and description of mr. fearrington. they met with lieutenant bradley who told them he did not have time to look up the requested information and that officer funk was in training and could not meet with them either. because of what plaintiff and his fiancé perceived as a discriminatory and disrespectful attitude from lt. bradley, they did not file a complaint that day, fearing it would be dismissed with the same attitude. instead, on 16 june 2009, plaintiff reported the incident to the local naacp, who asked the chpd for the incident report of plaintiff’s arrest. plaintiff was provided the incident -6- report on 24 june 2009. defendants admitted that the report was not created until requested by the naacp, two weeks after the incident. the report is unsigned by officer funk and states that at 12:17 a.m. on 2 june 2009 the “state of north carolina” was the victim of a “suspicious person” on the 300 block of west rosemary street. the report lists officers castro and sabanosh as “others involved” in the incident. officer sabanosh does not, however, appear anywhere on the radio log from that night. although the radio log indicates that officer taylor was present at the scene of the incident, the incident report does not mention him. officer williams, the black officer, is not mentioned in either the radio log or on the incident report. on 2 june 2011, plaintiff filed suit against the town and officer funk in his official and individual capacity for assault, false imprisonment, and violation of plaintiff’s constitutional rights under article i, section 20, and article i, section 19, of the north carolina constitution. plaintiff pled that the town had waived sovereign immunity by the purchase of liability insurance. in its response, the town admitted that it “participates in a local government risk pool, which provides certain coverage to the town with respect to plaintiff’s claims.” -7- on 13 august 2012, defendants filed a motion for summary judgment, arguing that (1) plaintiff had not and could not establish facts to support any of his causes of action, (2) officer funk was entitled to public official immunity in his individual capacity, (3) the claims against officer funk in his official capacity are duplicative of the claims against the town, and (4) the claims directly under the north carolina constitution should be dismissed because plaintiff had adequate state remedies available. in support of the motion for summary judgment, defendants submitted an affidavit from officer funk. according to officer funk’s affidavit, he did not see plaintiff until 12:14 a.m.—he drove to the keys food mart, where plaintiff first saw the two officers parked, after responding to a loud music complaint on church street at 12:04 a.m. officer funk first saw plaintiff walking west on the south side of the road as defendant was turning right onto rosemary. as he made his turn, officer funk saw plaintiff look up in his direction and immediately put his right hand in front of his face. plaintiff continued to cover his face with his hand, moving his hand slowly across his face as officer funk drove by to keep his face from view. after plaintiff passed officer funk, plaintiff crossed from the south side to the north side of the street just before reaching officer castro’s patrol car in the keys food -8- mart lot. as he crossed the street, he switched from using his right hand to cover his face to using his left hand so that officer castro could not see his face. officer funk claimed that plaintiff hid his face continuously. based on officer funk’s belief that plaintiff was intentionally hiding his face and it being after midnight in a high call volume area of town, officer funk decided to investigate further. he turned his vehicle around to get a closer look at plaintiff, and, when he got close enough, “the individual resembled a subject [he] knew had active local arrest warrants—cuman fearrington.” in addition to the arrest warrants, officer funk noted that mr. fearrington had evaded arrest in the “central business district” of chapel hill earlier that day. officer funk, believing that plaintiff was mr. fearrington, thought that plaintiff was intentionally covering his face based on those outstanding arrest warrants. according to officer funk, he got out of his police car and asked plaintiff if he could speak to him, but plaintiff ignored him and increased his pace. officer funk denied placing his hand on his weapon or threatening force. officer funk then told plaintiff to stop, repeating his order several times before plaintiff turned around and asked, “why do i have to stop, just because you say so?” at that point, officer castro had pulled -9- his vehicle in front of plaintiff, and it appeared to officer funk that plaintiff was attempting to walk around officer castro’s vehicle. defendant also claimed that he believed that plaintiff might run away into an open alley nearby. concerned that plaintiff may attempt to run, officer funk placed his hands on plaintiff’s left arm, and plaintiff jerked his arm away. officer funk placed plaintiff in handcuffs with the assistance of another officer; he claimed plaintiff continued to struggle during the encounter. officer funk’s account of what happened after he handcuffed plaintiff also differs from plaintiff’s account. officer funk stated that while he was patting plaintiff down for weapons, he asked plaintiff for his identification, and plaintiff told him he did not have any. officer funk claims that he asked plaintiff more than three times for his identification and that each time plaintiff gave the correct name but the wrong date of birth, all while denying that he had identification on his person. officer funk also denies that any of the comments he made to plaintiff regarding plaintiff working late and owning a business were intended to express skepticism or to disparage plaintiff. officer funk attributes the delay in the verification of plaintiff’s identification to the fact that communications -10- originally ran an incorrect birth date into the database. as soon as communications ran the correct date of birth, they were able to confirm plaintiff’s identity. officer funk claims that plaintiff was only in investigative detention for 16 minutes, from 12:14 a.m. to 12:30 a.m. attached to officer funk’s affidavit was the radio log for that night, which shows the self-reported status of the chpd officers. the log stated that officer funk was dispatched to 500 umstead road at 11:32 p.m., and he arrived there at 11:42 p.m. at 11:50 p.m., officer funk radioed dispatch that he was available. at 11:54, he was dispatched to a loud noise complaint at church street and radioed that he was again available at 12:04 a.m. the log does not show that officer funk ever radioed that he had arrived on the scene at church street, as it shows for the other locations to which he was dispatched that night. finally, the log shows that officer funk arrived at breadman’s at 12:15 a.m. and radioed that he was available at 12:32 a.m. defendants also provided documentation of the call between officer castro and orange county communications, which shows that the call began at 12:14 a.m. and ended at 12:30 a.m. judge carl fox heard defendants’ motion for summary judgment and, on 18 september 2012, judge fox entered an order allowing defendants’ motion as to plaintiff’s constitutional claims and his claim for assault. judge fox denied the motion as to plaintiff’s claim for false imprisonment as to all -11- defendants. defendants appealed to this court. grounds for appeal preliminarily, we note that judge fox’s order is interlocutory and, generally, an order denying a motion for summary judgment is not immediately appealable. schmidt v. breeden, 134 n.c. app. 248, 251, 517 s.e.2d 171, 174 (1999). “an interlocutory appeal is ordinarily permissible only if (1) the trial court certified the order under rule 54(b) of the rules of civil procedure, or (2) the order affects a substantial right that would be lost without immediate review.” boyd v. robeson cnty., 169 n.c. app. 460, 464, 621 s.e.2d 1, 4 (2005). officer funk contends that the trial court erred in denying his motion for summary judgment based on public official immunity. this court has held that a public official’s right to be immune from suit is a substantial right justifying an interlocutory appeal. see free spirit aviation, inc. v. rutherford airport auth., 191 n.c. app. 581, 583, 664 s.e.2d 8, 10 (2008). therefore, defendant’s appeal of the denial of the motion for summary judgment based on public official immunity is properly before us. -12- additionally, both defendant and the town have sought immediate review of the denial of their motion for summary judgment on several non-immunity related grounds. defendants argue that “it is well established that this court will, in the interests of judicial economy, entertain the entirety of an appeal involving an issue which affects a substantial right, though the remaining issues on appeal do not, in and of themselves, affect such a right.” defendants cite block v. cnty. of person, 141 n.c. app. 273, 277, 540 s.e.2d 415, 419 (2000) (addressing the defendants’ argument that the complaint was insufficient to sue the defendants in their individual capacity); houpe v. city of statesville, 128 n.c. app. 334, 340, 497 s.e.2d 82, 87 (1998) (addressing “in our discretion” the defendant’s non-immunity related arguments “where it would be in the interests of judicial economy to do so”); smith v. phillips, 117 n.c. app. 378, 384, 451 s.e.2d 309, 314 (1994) (holding that “in the interest of judicial economy, we exercise our discretionary power to suspend the rules pertaining to interlocutory appeals and address the remainder of [the] defendants’ appeal”). however, this court has noted that in cases where we have exercised our discretion to also review non-immunity issues, the court has neither held “that non-immunity-related issues would -13- always be considered on the merits in the course of deciding an immunity-related interlocutory appeal” nor “recognize[d] the existence of a substantial right to have multiple issues addressed in the course of an immunity-related appeal. on the contrary, in most immunity-related interlocutory appeals, we have declined requests that we consider additional non-immunity- related issues on the merits.” see bynum v. wilson cnty., ___ n.c. app. ___, ___, 746 s.e.2d 296, 300, disc. review dismissed, ___ n.c. ___, 748 s.e.2d 559 (2013). in this case, after considering all of the circumstances, we decline to exercise our discretion to consider the merits of defendants’ non-immunity issues on appeal and dismiss defendants’ appeal with respect to those issues as interlocutory. arguments the sole issue properly before us is whether judge fox erred by denying officer funk’s motion for summary judgment based on public official immunity. summary judgment shall be granted “if the pleadings, depositions, answers to interrogatories, and admissions on file, together with the affidavits, if any, show that there is no genuine issue as to any material fact and that any party is entitled to a judgment as a matter of law.” n.c. gen. stat. § 1a–1, rule 56 (2013). when deciding the motion, “‘the trial -14- judge must view the presented evidence in a light most favorable to the nonmoving party.’” in re will of jones, 362 n.c. 569, 573, 669 s.e.2d 572, 576 (2008) (quoting dalton v. camp, 353 n.c. 647, 651, 548 s.e.2d 704, 707 (2001)). additionally, “‘[a]ll facts asserted by the [nonmoving] party are taken as true and their inferences must be viewed in the light most favorable to that party.’” woods v. mangum, 200 n.c. app. 1, 5, 682 s.e.2d 435, 438 (2009) (quoting dobson v. harris, 352 n.c. 77, 83, 530 s.e.2d 829, 835 (2000)), aff’d per curiam, 363 n.c. 827, 689 s.e.2d 858 (2010). this court reviews an appeal from summary judgment de novo. id. in applying rule 56, this court has held that “[s]ummary judgment is appropriate . . . if the non-moving party is unable to overcome an affirmative defense offered by the moving party.” free spirit aviation, 191 n.c. app. at 583, 664 s.e.2d at 10 (quoting griffith v. glen wood co., inc., 184 n.c. app. 206, 210, 646 s.e.2d 550, 554 (2007)). public official immunity – malice exception i. as long as a public officer lawfully exercises the judgment and discretion with which he is invested by virtue of his office, keeps within the scope of his official authority, and acts without malice or corruption, he is protected from liability. thus, a public official is immune from suit unless the challenged action was (1) outside the scope of official authority, (2) done with malice, or (3) corrupt. -15- wilcox v. city of asheville, __ n.c. app. __, __, 730 s.e.2d 226, 230 (2012) (internal citations omitted), disc. review denied, 366 n.c. 574, 738 s.e.2d 363 (2013). here, the only exception to public official immunity plaintiff argued on appeal is the malice exception. specifically, plaintiff has not cited any authority separately addressing the corruption exception to the public official immunity doctrine or provided any analysis as to this in his brief. therefore, we will only address the malice exception. see wilkerson v. duke univ., __ n.c. app. __, __, 748 s.e.2d 154, 161 (2013) (noting that arguments not raised on appeal are “deemed abandoned”). this court has noted, with regard to the malice exception, that: as for the first question, the most commonly-cited definition of malice in this context is from our supreme court’s decision in in re grad v. kaasa, which states that “[a] defendant acts with malice when he wantonly does that which a man of reasonable intelligence would know to be contrary to his duty and which he intends to be prejudicial or injurious to another.” 312 n.c. 310, 313, 321 s.e.2d 888, 890 (1984). thus, elementally, a malicious act is an act (1) done wantonly, (2) contrary to the actor\\'s duty, and (3) intended to be injurious to another. wilcox, __ n.c. app. at __, 730 s.e.2d at 230. thus, the only issue is whether plaintiff sufficiently forecasted evidence for each element of malice. see schlossberg v. goins, 141 n.c. app. -16- 436, 446, 540 s.e.2d 49, 56 (2000) (“[t]o survive [a] police officer[‘s] motion for summary judgment on the issue of their individual liability, [plaintiff] must have alleged and forecasted evidence demonstrating the officers acted corruptly or with malice.”). if so, there is a genuine issue of material fact as to whether officer funk is entitled to the defense of public official immunity, and the trial court did not err in denying summary judgment. however, if not, then officer funk would be immune from civil liability. a. contrary to duty the first element of malice is whether officer funk acted contrary to his duty when he detained plaintiff. to determine this issue, we must decide whether plaintiff’s seizure constituted an investigatory stop or an arrest. see state v. carrouthers, 200 n.c. app. 415, 419, 683 s.e.2d 781, 784 (2009) (“generally, a person can be ‘seized’ in two ways for the purposes of a fourth amendment analysis: by arrest or by investigatory stop.”). although police officers are authorized during an investigatory stop to take measures to protect their personal safety and maintain status quo, state v. campbell, 188 n.c. app. 701, 708-709, 656 s.e.2d 721, 727 (2008), this court has noted that “[w]here the duration or nature of the intrusion exceeds the permissible scope, a court -17- may determine that the seizure may evolve into a de facto arrest . . . even in the absence of a formal arrest,” state v. milien, 144 n.c. app. 335, 340, 548 s.e.2d 768, 772 (2001). here, it is undisputed that officer funk immediately handcuffed plaintiff once he reached him without asking plaintiff to identify himself or providing any explanation for why plaintiff was being stopped. furthermore, plaintiff claimed that officer funk immediately told him that he was under arrest. while officer funk claims that he handcuffed plaintiff during an investigatory stop to keep him from fleeing, officer funk admitted that he mistakenly believed that plaintiff was mr. fearrington, a person whom arrest warrants had been issued against. however, once plaintiff’s true identity was established, officer funk released plaintiff. for purposes of this appeal, because “[r]easonable suspicion is a less demanding standard than probable cause and requires a showing considerably less than preponderance of the evidence[,]” state v. styles, 362 n.c. 412, 414, 665 s.e.2d 438, 439 (2008) (internal quotation marks omitted), we conclude that plaintiff’s seizure constituted a de facto arrest and not, as defendants contend, an investigatory stop. thus, officer funk must have had probable cause; otherwise, he would be acting contrary to duty. see -18- milien, 144 n.c. app. at 339, 548 s.e.2d at 771 (noting that “a de facto arrest . . . must be justified by probable cause”). in the present case, it is undisputed that officer funk had probable cause to arrest mr. fearrington. “[w]hen the police have probable cause to arrest one party, and when they reasonably mistake a second party for the first party, then the arrest of the second party is a valid arrest.” hill v. california, 401 u.s. 797, 802, 28 l. ed. 2d 484, 489 (1971). thus, the issue is whether officer funk’s mistake was reasonable based on the totality of the circumstances. subjective good- faith belief is not sufficient on its own; instead, the supreme court noted that “sufficient probability, not certainty, is the touchstone of reasonableness under the fourth amendment.” id. at 804, 28 l. ed. 2d at 490. along these lines, this court, in robinson v. city of winston-salem, 34 n.c. app. 401, 406-07, 238 s.e.2d 628, 631 (1977), noted that with regard to civil claims for false imprisonment against police officers who arrest the wrong person: “liability for false imprisonment will be imposed only when the arresting officer has failed to use reasonable diligence to determine that the party arrested was actually the person described in the warrant.” this concept was reinforced by this court in state v. lynch, 94 n.c. app. 330, 333, 380 s.e.2d 397, 399 (1989), which noted, relying on robinson, that: -19- even though a police officer reasonably mistakenly arrests the wrong person, the officer must still take “reasonable steps to confirm the identity of the individual under suspicion.” with regard to the reasonableness analysis required by hill, the fourth circuit has noted that to is not required qualified immunity based reasonableness the determination on evidence reasonably available to the police officer and in light of any exigencies present. and importantly, this inquiry must not result in a second-guessing of the officer’s actions with the benefit of 20/20 hindsight. this is so because officers executing a warrant are investigate independently every claim of innocence, or to be absolutely certain that the person arrested is the person identified in the warrant. instead, sufficient probability, not certainty, is the touchstone of reasonableness under the fourth amendment. mistaken identity errors, of course, will inevitably occur from time to time, but the law sensibly recognizes that not every mix- up in the issuance of an arrest warrant, even though it leads to the arrest of the wrong person . . . automatically constitutes a constitutional violation for which a remedy may be sought under . . . [section] 1983. in sum officers who mistakenly arrest the wrong person are immune from § 1983 liability unless they act in an objectively unreasonable manner in the circumstances, as for example, in failing to investigate readily available exculpatory evidence. brown v. wiita, 7 f. app’x 275, 278-79 (4th cir. 2001) (alteration in original) (internal quotation marks and citations omitted). -20- here, under hill and robinson, the evidence taken in a light most favorable to plaintiff establishes that officer funk’s mistaken belief that plaintiff was mr. fearrington was reasonable and that officer funk used reasonable diligence to determine whether plaintiff was who he claimed to be. with regard to officer funk’s mistaken belief, the undisputed evidence, as established by officer funk’s affidavit attached to the motion for summary judgment, shows that officer funk knew mr. fearrington had active local arrest warrants out on him and that mr. fearrington had evaded arrest earlier that day in chapel hill. after telling plaintiff to stop, plaintiff continued to walk away from officer funk. once plaintiff stopped, according to his own complaint, officer funk stated: “you are under arrest, mr. fearrington.” photos of both mr. fearrington and plaintiff were attached to the affidavit, and the individuals appear similar. under the totality of the circumstances, officer funk’s mistaken belief was reasonable. plaintiff admitted in his complaint that he did not stop the first time officer funk told him to. once he did, officer funk approached him and called him “mr. fearrington”; thus, even though officer funk was only a few feet away, he still held on to his mistaken belief that plaintiff was mr. fearrington. furthermore, even though there -21- are some differences in the appearance of plaintiff and mr. fearrington, the encounter took place late at night. thus, under the totality of the circumstances, plaintiff has failed to forecast evidence that officer funk’s mistake was unreasonable. finally, although plaintiff immediately told officer funk that he was not mr. fearrington, “aliases and false identifications are not uncommon,” hill, 401 u.s. at 803, 28 l. ed. 2d at 489. accordingly, it was reasonable for officer funk to not believe plaintiff’s claim until he saw plaintiff’s identification and was able to verify it through ncic. we find lynch provides guidance. in lynch, a police officer mistakenly stopped the defendant, believing the defendant was someone for whom arrest warrants had been issued. id. at 333, 380 s.e.2d at 399. relying on hill, this court held that because “[p]ictures of [the] defendant and the other individual show that they are sufficiently similar in appearance that the officer\\'s mistake was not unreasonable,” the officer had “a reasonable basis to stop [the] defendant and require him to identify himself.” id. then, after the defendant attempted to flee, officers were then authorized to arrest the defendant in order to “ascertain his identity.” id. initially, we note that since lynch involved an investigatory stop that transformed into a formal arrest and in -22- the present case plaintiff’s seizure constituted a de facto arrest, lynch’s guidance is limited to showing how the court determines the “reasonableness” of a mistaken belief. like lynch, pictures introduced at summary judgment show that plaintiff and mr. fearrington are sufficiently similar in appearance. based on the circumstances noted above in addition to the similar photographs, officer funk’s misidentification was understandable and reasonable. furthermore, plaintiff has failed to forecast any evidence that officer funk did not use due diligence in ascertaining plaintiff’s true identity. while it is undeniable that there was some delay given the mix-up in plaintiff’s birthdate, the call log indicates that officer funk was dispatched to the location at 12:14 a.m. and that he was available at approximately 12:32 a.m. thus, from the time officer funk noticed plaintiff until the time he was released was approximately 18 minutes. given the mix-up in plaintiff’s birthdate, the evidence shows that officer funk used reasonable diligence to ascertain plaintiff’s identity. plaintiff has offered no evidence to the contrary as to the length of this detention nor any evidence that officer funk did not act diligently. accordingly, under robinson, plaintiff has failed -23- to forecast evidence to refute officer funk’s claim that he diligently attempted to verify plaintiff’s identity. while the dissent contends that the rule of law in robinson requires that an officer use reasonable diligence to ascertain the person’s identity before arresting him, given the differences between how the plaintiff in robinson and how plaintiff in the present case were arrested, we do not believe that the rule of law in robinson would not be satisfied in the present case. in robinson, the police officers went to a house to serve a warrant on the plaintiff. id. at 403, 238 s.e.2d at 630. here, officer funk was not specifically dispatched to arrest plaintiff; instead, he saw plaintiff walking on the street and believed him to be mr. fearrington, a man whom officer funk “knew” and who had evaded arrest earlier that same day. thus, officer funk thought that plaintiff was on the verge of running. consequently, he did not have the same type of time prior to arresting plaintiff to exercise due diligence as the officers did in robinson. however, in totality, officer funk exercised due diligence by asking plaintiff to stop, which plaintiff refused to do, and immediately running plaintiff’s name through ncic to see if he was, in fact, who he claimed to be. consequently, officer funk “use[d] reasonable diligence[,]” robinson, 34 n.c. app. at 406-407, 238 s.e.2d at 631, to determine whether plaintiff was mr. fearrington under these -24- circumstances. in summary, under hill and robinson, plaintiff has failed to forecast any evidence, besides mere unsupported allegations, that officer funk acted contrary to his duty; specifically, plaintiff offered no evidence showing that officer funk’s mistaken belief that plaintiff was mr. fearrington was unreasonable, as set out in lynch, or that officer funk did not act diligently in determining plaintiff’s true identity. b. wantonness and intent to injure “an act is wanton when it is done of wicked purpose, or when done needlessly, manifesting a reckless indifference to the rights of others.” yancey v. lea, 354 n.c. 48, 52, 550 s.e.2d 155, 157 (2001). in order to establish that officer funk acted with intent to injure, this court has noted that: a plaintiff may not satisfy her burden of proving that an official\\'s acts were malicious through allegations and evidence of mere reckless indifference. rather, as discussed supra, the plaintiff must show at least that the officer\\'s actions were so reckless or so manifestly indifferent to the consequences . . . as to justify a finding of [willfulness] and wantonness equivalent in spirit to an actual intent wilcox, __ n.c. app. at __, 730 s.e.2d at 232 (internal citations and quotation marks omitted). -25- according to plaintiff’s complaint, officer funk “roughly pulled” plaintiff’s arm behind his back in an attempt to “inflict great pain” while he was handcuffing plaintiff. after plaintiff claimed that he was not mr. fearrington, officer funk kept plaintiff in handcuffs while his fellow officers checked plaintiff’s identification card. at one point, officer funk sarcastically asked plaintiff: “oh? you own a business?” when plaintiff told officer funk that this would not be happening if he were white, officer funk asked plaintiff if it would make him feel better if he called a black officer. after ncic verified plaintiff’s identity, officer funk released plaintiff without apologizing. at the hearing, plaintiff’s counsel attempted to cast the situation as a result of “race discrimination” based on the history and “general situation” of how black people are treated by chapel hill police. viewing these allegations in a light most favorable to plaintiff, the evidence tends to show that officer funk may have acted disrespectfully and unprofessionally while attempting to verify plaintiff’s identity or even refusing to apologize after the incident. however, once plaintiff’s identity was confirmed through ncic, officer funk released plaintiff. furthermore, there is nothing that establishes a reckless indifference to plaintiff’s rights during the encounter. as discussed, officer -26- funk’s de facto arrest of plaintiff was based on his mistaken, yet reasonable, belief that he was mr. fearrington; accordingly, under hill, his de facto arrest was “valid.” in order to verify plaintiff’s claim that he was not mr. fearrington, officer funk, along with other chapel hill police officers, ran plaintiff’s name through central command. as with routine traffic stops, an officer “may request a driver\\'s license and vehicle registration, run a computer check, and issue a citation.” united states v. green, 740 f.3d 275, 280 (4th cir. 2014); see also state v. mcclendon, 350 n.c. 630, 636, 517 s.e.2d 128, 132 (1999) (“after a lawful stop, an officer may ask the detainee questions in order to obtain information confirming or dispelling the officer\\'s suspicions.”). here, since the basis for the initial de facto arrest of plaintiff was valid and it was not unreasonable to continue detaining plaintiff under the circumstances after his identity was verified, officer funk was entitled to run plaintiff’s name to determine whether he had any outstanding warrants. moreover, although plaintiff alleges that officer funk “roughly” put him in handcuffs and tried to inflict great pain, plaintiff has failed to allege any facts that officer funk’s conduct was wanton or done with a reckless indifference to plaintiff’s rights as compared to what a reasonable police -27- officer would do in officer funk’s position. believing plaintiff was someone else who had arrest warrants issued against him and had evaded police earlier that day, officer funk seized plaintiff while confirming his belief. it is undeniable that the act of being handcuffed could hardly be characterized as anything but uncomfortable and, likely, painful. however, plaintiff has failed to plead any facts to suggest that officer funk took additional steps while handcuffing plaintiff to make the experience any more painful, besides unsupported allegations that officer funk “intended” to inflict pain. without more, plaintiff’s bare contention that the handcuffs were painful is not enough to rise to the level of wanton or show an intent to injure. consequently, plaintiff has failed to produce any evidence showing that officer funk acted with a reckless indifference to plaintiff’s rights. besides vague allegations that officer funk spoke to plaintiff sarcastically and treated him disrespectfully—what plaintiff’s counsel classified as “arrogant and chauvinist talk” at the motion hearing—and unsupported claims that officer funk handcuffed him in such a way as to cause him “great pain,” plaintiff has failed to forecast any evidence that officer funk acted wantonly or with an intent to injure. -28- in summary, while the initial burden was on officer funk to show the absence of any genuine issue of material fact that he did not act with malice, we believe that he met this burden, and he was entitled to the affirmative defense of public official immunity. specifically, the foregoing evidence, taken in the light most favorable to plaintiff, is insufficient to raise a genuine issue of fact as to the existence of the elements of malice, i.e., that officer funk’s actions were contrary to his duty, wanton, and so reckless as to justify a finding of intent to injure. while we do not disagree that the evidence may show that officer funk acted with reckless indifference prior to arresting plaintiff and during his interactions with him, plaintiff has failed to establish officer funk acted with malice, even with all discrepancies resolved in his favor, which is a required showing to overcome the public official immunity doctrine. see griffith v. glen wood co., inc., 184 n.c. app. 206, 210, 646 s.e.2d 550, 554 (2007) (“summary judgment is appropriate if . . . the non-moving party is unable to overcome an affirmative defense offered by the moving party.”). therefore, the trial court erred in denying his motion for summary judgment on this basis. conclusion -29- based on the foregoing reasons, taking the evidence in a light most favorable to plaintiff, plaintiff has failed to forecast evidence that officer funk acted with malice. therefore, officer funk was entitled to the affirmative defense of public official immunity, and the trial court erred in denying his motion for summary judgment on this basis. reversed. judge mccullough concurs. judge geer dissents by separate opinion. no. coa13-323 north carolina court of appeals filed: 1 april 2014 orange county no. 11 cvs 1204 charles d. brown, plaintiff, v. town of chapel hill, chapel hill police officer d. funk, in his official and individual capacity, and other chapel hill police officers, in their individual and official capacities, to be named when their identities and level of participation becomes known, defendants. geer, judge dissenting. the sole issue on appeal is whether there exists a genuine issue of material fact regarding whether officer funk acted with malice and, therefore, is not entitled to public official immunity. i believe that the majority opinion has shown only that no issue of genuine fact exists regarding whether officer funk had reasonable suspicion to stop plaintiff. yet, because officer funk arrested plaintiff, he was required to have more than a suspicion; he could not arrest plaintiff without probable cause. the majority -- which concludes that officer funk in fact arrested plaintiff -- bases its holding that officer funk did not act improperly in arresting plaintiff almost entirely on an investigatory stop case, state v. lynch, 94 n.c. app. 330, -2- 380 s.e.2d 397 (1989), that concluded only that the officer had reasonable suspicion. the majority holds that it is permissible, when an officer suspects that an individual is another person, to arrest that person and then seek identification. that holding is an extraordinary undermining of the protections of the fourth amendment. in addition, i believe that the majority improperly applies the applicable standard of review by (1) failing to require defendant officer funk to meet his initial burden of showing an absence of any genuine issue of material fact and (2) failing to view the evidence, including that presented by officer funk, in the light most favorable to plaintiff, the non-moving party. because the majority failed to properly apply the standard of review and, at most, merely determined that officer funk had a reasonable suspicion sufficient to stop plaintiff, i respectfully dissent. discussion it is well established that: [r]egardless of who has the burden of proof at trial, upon a motion for summary judgment the burden is on the moving party to establish that there is no genuine issue of fact remaining for trial and that he is entitled to judgment as a matter of law. thus, a defendant moving for summary -3- judgment assumes the burden of producing evidence of the necessary certitude which negatives the plaintiff\\'s claim. until the moving party makes a conclusive showing, the non-moving party has no burden to produce evidence. marlowe v. piner, 119 n.c. app. 125, 127-28, 458 s.e.2d 220, 222 (1995) (emphasis added) (internal citations omitted). generally, \"summary judgment is not appropriate when there are conflicting versions of the events giving rise to the action, or when there is no conflict about the events that occurred, but the legal significance of those events is determined by a reasonable person test.\" griffith v. glen wood co., 184 n.c. app. 206, 210, 646 s.e.2d 550, 554 (2007). with respect to malice, the exception to public official immunity at issue in this case, our supreme court has held: \"a defendant acts with malice when he wantonly does that which a man of reasonable intelligence would know to be contrary to his duty and which he intends to be prejudicial or injurious to another.\" in re grad v. kaasa, 312 n.c. 310, 313, 321 s.e.2d 888, 890 (1984). this court has recently interpreted this definition to mean that \"a malicious act is an act (1) done wantonly, (2) contrary to the actor\\'s duty, and (3) intended to be injurious to another.\" wilcox v. city of asheville, ___ n.c. app. ___, ___, 730 s.e.2d 226, 230 (2012), appeal dismissed and disc. review denied, ___ n.c. ___, 738 s.e.2d 363, 401 (2013). -4- regarding whether officer funk acted contrary to his duty, the majority concludes that under the totality of the circumstances, officer funk\\'s mistaken belief that plaintiff was mr. fearrington was reasonable and, therefore, plaintiff\\'s arrest was not contrary to officer funk\\'s duty. i disagree. whether a police officer has acted contrary to his duty when arresting an individual is determined by whether the officer has complied with n.c. gen. stat. § 15a-401 (2013) and the fourth amendment. see bailey v. kennedy, 349 f.3d 731, 746 (4th cir. 2003) (holding officer not entitled to public official immunity for false arrest claim when arrest not in accordance with n.c. gen. stat. § 15a-401 and \"contrary to [officer\\'s] duty\"); glenn-robinson v. acker, 140 n.c. app. 606, 615, 538 s.e.2d 601, 609 (2000) (\"\\'the fourth amendment prohibits a police officer from arresting a citizen except upon probable cause.\\'\" (quoting rogers v. powell, 120 f.3d 446, 452 (3d cir. 1997))); n.c. gen. stat. § 15a-401(b)(2) (providing in pertinent part that officer may make warrantless arrest if he has probable cause to believe individual has committed felony or committed misdemeanor and will not be apprehended or may cause physical injury to self or others or property damage if not immediately arrested). as this court explained in glenn-robinson, \"\\'[a] false arrest is an arrest without legal authority and is one -5- means of committing a false imprisonment.\\'\" 140 n.c. app. at 624, 538 s.e.2d at 615 (quoting marlowe, 119 n.c. app. at 129, 458 s.e.2d at 223). as this court has explained, \"there are generally two ways in which a person can be \\'seized\\' for fourth amendment purposes: (1) by arrest, which requires a showing of probable cause; or (2) by investigatory detention, which must rest on a reasonable, articulable suspicion of criminal activity.\" state v. carrouthers, 213 n.c. app. 384, 388, 714 s.e.2d 460, 463 (2011). in this case, the parties disagreed on whether officer funk arrested plaintiff or whether officer funk merely conducted an investigatory stop. i agree with the majority that the evidence is sufficient to allow a jury to find that officer funk arrested plaintiff and that plaintiff\\'s seizure was not just an investigatory stop. nevertheless, i believe that the majority, despite holding that officer funk arrested plaintiff, essentially applies the standards for an investigatory stop in deciding that officer funk did not act contrary to his duty. because of its failure to recognize the differences between the two types of seizures, the majority erroneously concludes that the evidence necessary to support a stop based on mistaken identity is sufficient to support an arrest based on mistaken identity. -6- \"an investigatory stop is a \\'brief stop of a suspicious individual[] in order to determine his identity or to maintain the status quo momentarily while obtaining more information.\\'\" state v. white, 214 n.c. app. 471, 476, 712 s.e.2d 921, 925 (2011) (quoting adams v. williams, 407 u.s. 143, 146, 32 l. ed. 2d 612, 617, 92 s. ct. 1921, 1923 (1972)). when, however, \"the duration or nature of the intrusion exceeds the permissible scope [of an investigatory stop], a court may determine that the seizure constituted a de facto arrest that must be justified by probable cause, even in the absence of a formal arrest.\" state v. milien, 144 n.c. app. 335, 340, 548 s.e.2d 768, 772 (2001). the distinction between an investigatory stop and an arrest reveals that an officer cannot justify an arrest by the need to obtain more information -- probable cause necessarily must mean more than a need to obtain additional information to confirm or dispel an officer\\'s belief or concern. with respect to the issue whether plaintiff presented sufficient evidence to raise an issue of fact regarding whether officer funk had probable cause to arrest him, this court has noted: \"the existence or nonexistence of probable cause is a mixed question of law and fact. if the facts are admitted or established, it -7- is a question of law for the court. conversely, when the facts are in dispute the question of probable cause is one of fact for the jury.\" glenn-robinson, 140 n.c. app. at 619, 538 s.e.2d at 612 (quoting pitts v. pizza, inc., 296 n.c. 81, 87, 249 s.e.2d 375, 379 (1978)). where the parties present substantially different versions of the facts relating to probable cause, as is true in this case, summary judgment is inappropriate and instead the issue must go to the jury who, as \"[t]he trier of fact[,] must determine exactly what transpired and, based on those facts, determine if probable cause existed.\" id. at 621, 538 s.e.2d at 612. \"\\'the test for whether probable cause exists is an objective one -- whether the facts and circumstances, known at the time, were such as to induce a reasonable police officer to arrest, imprison, and/or prosecute another.\\'\" thomas v. sellers, 142 n.c. app. 310, 315, 542 s.e.2d 283, 287 (2001) (emphasis added) (quoting moore v. evans, 124 n.c. app. 35, 43, 476 s.e.2d 415, 422 (1996)). the majority, however, fails to consider the facts and circumstances as known to officer funk at the time of the detention. instead, the majority, in effect, determines post hoc what officer funk could have concluded given the information before this court. furthermore, contrary to the approach adopted by the majority, we must, on a motion for -8- summary judgment, determine what officer funk knew by viewing the evidence in a light most favorable to plaintiff. we do not take officer funk\\'s assertions at face value when the record contains evidence drawing those assertions into doubt. officer funk justifies his arrest of plaintiff on his claim that he mistakenly believed plaintiff was a man named mr. fearrington. in cases of an arrest based upon mistaken identity, if \"\\'the police have probable cause to arrest one party, and [if] they reasonably mistake a second party for the first party, then the arrest of the second party is a valid arrest.\\'\" hill v. california, 401 u.s. 797, 802, 28 l. ed. 2d 484, 489, 91 s. ct. 1106, 1110 (1971) (quoting hill v. california, 96 cal. 2d 550, 553, 72 cal. rptr. 641, 643, 446 p.2d 521, 523 (1968)). under the reasonable mistake test, an officer\\'s \"subjective good-faith belief alone is insufficient to validate the arrest.\" united states v. glover, 725 f.2d 120, 122 (d.c. cir. 1984). rather, the court must determine whether the arrest was objectively reasonable in light of the totality of the circumstances. id. here, the majority relies almost exclusively on the photographs of plaintiff and mr. fearrington in the record which establish, in the majority\\'s opinion, that the two men are similar in appearance. based on the photographs, the majority -9- concludes that it would be objectively reasonable for officer funk to confuse one for the other. by relying on these photographs, the majority has not required that officer funk meet his initial burden as the moving party. officer funk did not, in arguing that he mistakenly believed plaintiff was mr. fearrington, come forward with evidence that no issue of fact existed as to his opportunity to see plaintiff\\'s face and that he had a reasonable basis for believing plaintiff was, in fact, mr. fearrington. in considering the totality of the circumstances, a variety of factors may be relevant. for example, in hill, glover, and state v. frazier, 318 n.w.2d 42 (minn. 1982) (relied upon by the court in glover), the courts looked at (1) the basis and specificity of the officer\\'s knowledge of the suspect\\'s appearance, (2) how clearly the officer was able to observe the individual, (3) the discrepancies between the description of the suspect and the individual the officer observed, (4) the officer\\'s reasons for believing the subject would be present in the location arrested, including proximity in time and distance of suspect\\'s last known location, and (5) the individual\\'s behavior. here, officer funk presented no evidence regarding the basis for his knowledge of mr. fearrington\\'s appearance. while -10- the majority asserts that officer funk \"knew\" mr. fearrington, nothing in officer funk\\'s affidavit supports the majority\\'s claim. officer funk stated only that he knew that mr. fearrington had outstanding warrants and that he had evaded arrest earlier in the day. officer funk provides no explanation of how he knew what mr. fearrington looked like. moreover, officer funk provided no specific explanation of what about plaintiff resembled mr. fearrington. he merely asserted that plaintiff and mr. fearrington both \"have similar facial features,\" citing photographs attached to his affidavit, without expressly indicating whether he had that knowledge at the time of the arrest or what facial features he considered similar. significantly, the photographs did not come into existence until several months after the arrest. as indicated by the urls at the bottom of the photographs of both plaintiff and mr. fearrington, these photographs came from an article published in the periodical the independent weekly. in other words, the only basis presented by officer funk in support of his claim that plaintiff and mr. fearrington resembled each other was a newspaper article published three months after the arrest. because officer funk bore the initial burden of establishing a lack of any issue of fact and because, in any event, we must view the evidence in a light most favorable to -11- plaintiff, we may not infer, as the majority implicitly does, that officer funk was familiar with mr. fearrington\\'s appearance or knew of the similarities at the time of the arrest. as for officer funk\\'s opportunity to observe plaintiff\\'s facial features, the evidence, when viewed in the light most favorable to plaintiff, gives rise to a genuine issue of fact to be resolved by the jury. officer funk\\'s own evidence indicates that plaintiff\\'s hand obscured plaintiff\\'s face and that officer funk decided to follow plaintiff from his patrol car because \"[w]ithout seeing his face i could not be certain that this subject was not the same individual who had been avoiding arrest all day.\" according to officer funk, after stepping out of his patrol car and approaching plaintiff from behind, he \"had still not been able to verify if this was in fact cuman fearrington.\" indeed, the majority specifically notes that officer funk claimed that plaintiff concealed his face continuously and that officer funk acknowledged that without seeing plaintiff\\'s face, he could not be certain that plaintiff was mr. fearrington. i believe a jury could infer from this evidence that officer funk did not get a clear view of plaintiff\\'s face until after he had proceeded with the arrest. a jury could find officer funk\\'s claim that he reasonably mistook plaintiff for mr. fearrington not credible when officer funk claimed both that he could not -12- see plaintiff\\'s face and that the two men had similar facial features. also pertinent in this case is whether officer funk had reason to believe that mr. fearrington would be present in the location where plaintiff was arrested, including the proximity in time and distance of mr. fearrington\\'s last known location to the time and place of plaintiff\\'s arrest. here, officer funk indicated only that mr. fearrington had evaded arrest in the \"central business district\" of chapel hill earlier that day. the jury could decide that the fact that mr. fearrington was trying to avoid being arrested somewhere in downtown chapel hill during the day did not make it reasonably likely that he was the african-american male walking down a main street in front of a convenience store and restaurant that night. in addition, if an officer has any doubt as to whether the individual is the suspect in the arrest warrant, \"the officer must make immediate reasonable efforts to confirm the suspect\\'s identity.\" glover, 725 f.2d at 123. see also lynch, 94 n.c. app. at 333, 380 s.e.2d at 399 (\"when an officer is unsure of the identity of a suspect, he must take reasonable steps to confirm the identity of the individual under suspicion.\"). here, while officer funk admitted to uncertainty as to plaintiff\\'s identity, he proceeded with the arrest before making -13- any efforts to confirm plaintiff\\'s identity. he did not ask plaintiff to identify himself until after he had placed him in handcuffs, and when plaintiff told him that he was not mr. fearrington and officer funk viewed his identification, he disregarded it. a reasonable juror could find that it was unreasonable to disregard the identification and that the \"verification\" of plaintiff\\'s identity -- and the subsequent search of ncic for outstanding warrants -- was really an attempt to cover up the officers\\' mistake in hopes of manufacturing probable cause to detain plaintiff. while the majority opinion states that \"it was not unreasonable for officer funk to not believe plaintiff\\'s claim [that he was not mr. fearrington] until he saw identification,\" that fact at most might justify officer funk\\'s stopping plaintiff and asking for identification. the majority cites no authority -- and i have found none -- that authorizes an officer, with doubts about the identity of a suspect, to arrest the individual and ask questions later. i believe that the totality of the circumstances in this case -- based on the evidence viewed in the light most favorable to plaintiff -- would permit a jury to find that officer funk had not acted reasonably when mistakenly arresting plaintiff. defendant, however, contends that the united states supreme -14- court\\'s decision in hill requires a different result. in hill, the united states supreme court held that a mistaken arrest was valid when the officers went to the address of the suspect and, in that apartment, which had a locked door, found a person matching the description of the suspect. 401 u.s. at 803, 28 l. ed. 2d at 489, 91 s. ct. at 1110. although the person claimed to be someone else, the supreme court noted that \"aliases and false identifications are not uncommon\" and that the person in the apartment did not have a convincing explanation regarding how he entered the apartment if he was not the suspect. id. further, the person denied knowing about any firearms being in the house, although a pistol was sitting in plain view. id. based on this evidence -- a man matching the suspect\\'s description at the suspect\\'s known address -- the court concluded that \"the officers\\' mistake was understandable and the arrest a reasonable response to the situation facing them at the time.\" id. at 804, 28 l. ed. 2d at 490, 91 s. ct. at 1111. here, in contrast, the arrest did not take place at a location where mr. fearrington was known to be, the evidence is not specific regarding the degree to which plaintiff matched mr. fearrington\\'s description as known to officer funk, and plaintiff\\'s explanation for why he was walking up rosemary -15- street at that particular time was not lacking in credibility. moreover, plaintiff\\'s evidence indicated that he did not act suspiciously. i find this case more analogous to frazier, 318 n.w.2d at 44, in which the minnesota supreme court concluded that a mistaken arrest was unreasonable. in frazier, the officers saw the defendant at night outside a bar where the actual suspect had been seen within the previous three days. the officers viewed her from 500 feet away in a dimly lit area, decided that it was the suspect, and arrested her. the minnesota supreme court concluded that \"[g]iven the hastiness of the deputies in concluding that defendant was [the intended arrestee], given the evidence of the defendant\\'s differing appearance, and given the fact that the arrest did not occur at [the intended arrestee\\'s] residence or even at a place which police reliably knew she frequented, we conclude that the deputies acted unreasonably in believing that defendant was [the intended arrestee].\" id. the minnesota supreme court, therefore, concluded \"the arrest was illegal.\" id. i find frazier persuasive and supportive of a conclusion that plaintiff, in this case, has presented sufficient evidence to raise an issue of fact regarding whether his arrest was valid. -16- while i have not found -- and the parties have not cited -- any north carolina case specifically addressing the issue in this case, this court\\'s decision in state v. cooper, 186 n.c. app. 100, 649 s.e.2d 664 (2007), supports my conclusion that plaintiff\\'s evidence shows that officer funk lacked probable cause to arrest plaintiff. the issue in cooper was whether a police officer had reasonable suspicion to stop an individual he suspected of robbing a convenience store. in cooper, the officer heard a report that there was a convenience store robbery committed by a black male. id. at 101, 649 s.e.2d at 665. the officer knew that there was a path running from the convenience store to lake ridge drive, and five to 10 minutes after the robbery, the officer found the defendant, a black male, walking down lake ridge drive near the path. id. at 102, 649 s.e.2d at 665-66. the officer stopped and frisked the defendant. id., 649 s.e.2d at 666. this court found that due to the vague description of the suspect as a \"black male,\" lack of information that the robber had fled in the direction of the path, and the fact that the defendant did not engage in suspicious behavior and fully cooperated with the officer, the officer did not have reasonable suspicion to believe that the individual he saw was the robber. id. at 107, 649 s.e.2d at 669. the court explained that to hold otherwise would be to hold that \"police, in the time frame -17- immediately following a robbery committed by a black male, could stop any black male found within a quarter of a mile of the robbery.\" id. similarly, here, a jury could reasonably infer from the lack of evidence presented by officer funk regarding his knowledge of mr. fearrington\\'s appearance that officer funk suspected plaintiff could be mr. fearrington merely because he was a black man walking in the vicinity of the general area where mr. fearrington had evaded arrest earlier in the day. as established by cooper, these facts would be insufficient to show reasonable suspicion to justify an investigatory stop, much less an arrest. id. see state v. peele, 196 n.c. app. 668, 670, 675 s.e.2d 682, 685 (2009) (\"reasonable suspicion is a \\'less demanding standard than probable cause and requires a showing considerably less than preponderance of the evidence.\\'\" (quoting state v. styles, 362 n.c. 412, 414, 665 s.e.2d 438, 439 (2008))). officer funk and the majority, however, claim that plaintiff was intentionally hiding his face, ignored officer funk\\'s repeated requests to stop, increased his pace of walking, and had unspecified similar facial features to mr. fearrington. in making this argument, the majority and defendant are viewing the evidence in the light most favorable to officer funk, -18- contrary to the proper standard of review for summary judgment. we are required to accept as true plaintiff\\'s account that he did not hide his face, but merely scratched his head; that he never increased his walking pace; and that he stopped as soon as he realized that officer funk was talking to him. the majority, nonetheless, points to lynch as establishing that photographs suggesting that two men looked similar is sufficient for a mistaken arrest, especially if the officer then attempts to verify the arrestee\\'s identity after the arrest. this court, however, specifically noted in lynch that it was not providing any guidance as to how the court should determine the reasonableness of a mistaken identity arrest: \"under the facts of this case, we need not decide whether the officer\\'s initial mistake justified an arrest; it was at least sufficient to establish a reasonable basis to stop defendant and require him to identify himself.\" 94 n.c. app. at 333, 380 s.e.2d at 399. the court proceeded to say, with respect to an investigatory stop, that \"[w]hen an officer is unsure of the identity of a suspect, he must take reasonable steps to confirm the identity of the individual under suspicion.\" id. contrary to the majority opinion\\'s assertion, nothing in lynch suggests that a mistaken identity arrest is reasonable so long as the officers use diligence to confirm the identity of -19- the individual after initiating the arrest. the majority misreads lynch when it states that \"after the defendant attempted to flee, officers were then authorized to arrest the defendant in order to \\'ascertain his identity.\\'\" (quoting lynch, 94 n.c. app. at 333, 380 s.e.2d at 399.) in lynch, after upholding the stop of the defendant as constitutional, the court then concluded that the arrest was permitted -- not to discover the defendant\\'s identity -- but because the defendant actually fled: \"because defendant had not identified himself [when stopped], the officers had no choice but to apprehend him in order to ascertain his identity.\" lynch, 94 n.c. at 333, 380 s.e.2d at 399. nothing in lynch suggests that it is appropriate to arrest someone who has not fled and who has not yet been asked to identify himself. the majority\\'s holding, in effect, allows police officers to proceed with an arrest based upon less than probable cause and arrest first, investigate later. i believe that this is an improper interpretation of the rule adopted by this court in robinson v. city of winston-salem, 34 n.c. app. 401, 238 s.e.2d 628 (1977). robinson addressed the question \"whether in an action for false arrest or false imprisonment the officer who arrests the wrong person is strictly liable or is liable only in the absence -20- of reasonable diligence.\" id. at 406, 238 s.e.2d at 631. the court in robinson acknowledged that the rule adopted by the majority of courts is that \"the officer will not be liable for false imprisonment for mistaking the identity of the person named in a warrant if he exercises reasonable diligence to ascertain the identity correctly before he serves the warrant.\" id. (emphasis added). noting that the alternative strict liability approach \"imposes an unreasonable burden upon the officer who is both careful and diligent,\" robinson adopted the majority rule. id. the majority in this case asserts that \"when the officer must use reasonable diligence is not specifically enunciated in robinson.\" (emphasis added.) in support of this assertion, the majority opinion plucks an isolated quotation from robinson, disregarding the court\\'s primary articulation of the majority rule quoted above and disregarding the cases relied upon by the court as support for the rule. the majority rule as initially articulated in robinson, expressly and unambiguously states that an officer must exercise reasonable diligence \"before he serves the warrant.\" id. the court then, \"[f]or examples of cases following this rule\" refers to three decisions from other jurisdictions. each of those decisions expressly holds that the officer must -21- exercise due diligence prior to effecting the arrest. see miller v. fano, 134 cal. 103, 109, 66 p. 183, 185 (1901) (noting an officer \"owes a duty to the public and to the party about to be arrested\" and \"should use prudence and diligence to find out if the party arrested is the party described in [the] warrant\" (emphasis added)), disapproved of by hagberg v. california fed. bank fsb, 32 cal. 4th 350, 81 p.3d 244 (2004); wallner v. fid. & deposit co. of maryland, 253 wis. 66, 70, 33 n.w.2d 215, 217 (1948) (\"the officer is liable if he fails to take proper precaution to ascertain the right person, or if he refuses information offered that would have disclosed his mistake, or if he detains the person an undue length of time without taking proper steps to establish his identity.\"); state ex rel. anderson v. evatt, 63 tenn. app. 322, 328, 471 s.w.2d 949, 952 (1971) (finding evidence sufficient to support jury\\'s finding officers guilty of \"gross negligence in failing to make an additional investigation or inquiry as to the true identity of plaintiff before placing him under arrest\" (emphasis added)). in concluding that issues of fact precluded summary judgment regarding whether the defendant police officers had exercised due care in arresting the plaintiff, the court specifically pointed to evidence -- including contradictions in the defendants\\' evidence and omissions on key factors in the -22- defendants\\' affidavits -- regarding the lack of efforts to determine whether the plaintiff was the individual named in the warrant prior to arresting the plaintiff. robinson, 34 n.c. app. at 407-08, 238 s.e.2d at 632. the court did not discuss what the officers could have done post-arrest. instead, the court noted as additional evidence of liability that \"even after the officers knew that they had arrested the wrong person, plaintiff was still held in jail overnight before he was allowed to go free.\" id. at 408, 238 s.e.2d at 632. in other words, the defendants could be held liable for further detaining the plaintiff after they knew of the mistaken arrest. nothing in robinson suggests that an officer may -- as occurred here -- arrest and then conduct the due diligence after the fact. the court\\'s purpose in adopting the due diligence rule in robinson was to ensure that officers who are both \"careful and diligent\" will not be held civilly liable for an unlawful arrest. id. at 406, 238 s.e.2d at 631. the majority\\'s interpretation of robinson would allow an officer who was not \"careful and diligent\" in ascertaining the arrestee\\'s identity prior to initiating an arrest to avoid liability so long as he later uses \"due diligence\" to confirm the identity afterwards. see id. i do not believe that the majority opinion is consistent with either the express holding in robinson or its -23- reasoning. here, while officer funk admitted to uncertainty as to plaintiff\\'s identity, he proceeded with the arrest before making any efforts to confirm plaintiff\\'s identity. he did not ask plaintiff to identify himself until after he had placed him in handcuffs and declared plaintiff was under arrest, and when plaintiff told him that he was not mr. fearrington and officer funk viewed his identification, he disregarded it. while officer funk may have had reasonable suspicion to stop plaintiff and ask him to identify himself based on what he knew and should have then conducted due diligence before arresting plaintiff, lynch and robinson do not support the majority\\'s assumption that the same level of knowledge -- without any due diligence in verifying plaintiff\\'s identity -- is sufficient to support both an arrest and an investigatory stop. the majority claims that robinson is distinguishable on the facts. the \"facts\" on which the majority relies are, however, either unsupported by the record or represent officer funk\\'s version of what occurred. contrary to the majority opinion\\'s assertion, there is no evidence that officer funk \"knew\" mr. fearrington, plaintiff\\'s evidence indicated that he was not about to flee, and according to plaintiff, officer funk did not have to order him to stop \"several times,\" as the majority -24- states, but rather he stopped immediately after he realized officer funk was talking to him. further, the majority\\'s purported distinction of robinson does not explain why officer funk, in this case, could not have stopped plaintiff and asked for his identification prior to arresting him. moreover, the majority\\'s reasoning cannot be reconciled with this state\\'s choice not to enact a \"stop and identify\" statute. the united states supreme court in hiibel v. sixth judicial dist. court of nevada, 542 u.s. 177, 187, 159 l. ed. 2d 292, 303, 124 s. ct. 2451, 2459 (2004), recognized that under the fourth amendment, an individual is not required to answer an officer\\'s questions or identify himself during an investigative stop. nevertheless, a state \"stop and identify\" statute \"requiring a suspect to disclose his name in the course of a valid terry stop is consistent with fourth amendment prohibitions against unreasonable searches and seizures.\" id. at 188, 159 l. ed. 2d. at 304, 124 s. ct. at 2459. north carolina, however, does not have a \"stop and identify\" statute. therefore, although officer funk could have asked plaintiff to identify himself, he could not have compelled plaintiff to do so. see in re d.b., 214 n.c. app. 489, 495-96, 714 s.e.2d 522, 526-527 (2011) (noting north carolina does not have a \"stop and identify\" statute and holding that during a -25- terry stop, an officer is not permitted to search for a person\\'s identification in order to protect himself or to seize an identification card, but may ask for identification). the majority, however, holds that it is within the scope of an officer\\'s duty to arrest a person and then demand identification. further, officer funk should not have been allowed to extend a mistaken arrest to investigate plaintiff, without reasonable suspicion of any criminal activity, to see if he could justify the arrest after the fact. as the united states supreme court has explained: the scope of the intrusion permitted will vary to some extent with the particular facts and circumstances of each case. this much, however, is clear: an investigative detention must be temporary and last no longer than is necessary to effectuate the purpose of the stop. similarly, the investigative methods employed should be the least intrusive means reasonably available to verify or dispel the officer\\'s suspicion in a short period of time. florida v. royer, 460 u.s. 491, 500, 75 l. ed. 2d 229, 103 s. ct. 1319, 1325-26 (1983). certainly, if an investigative stop must end as soon as its purpose is completed, then an arrest should cease as soon as the officers learn that it was mistaken. since i know of no authority that would allow a mistakenly arrested person, not subject to a traffic stop, to be detained -26- to conduct a database search for other charges, officer funk should have released plaintiff as soon as he knew he had made a mistake. in sum, i would hold that the evidence is sufficient to support the conclusion that defendant acted contrary to his duty by arresting plaintiff without probable cause. plaintiff must also show, however, that defendant acted wantonly and with intent to injure. \"[e]vidence of constructive intent to injure may be allowed to support the malice exception to [public official] immunity.\" wilcox, ___ n.c. app. at ___, 730 s.e.2d at 232. \"[a] showing of mere reckless indifference is insufficient, and a plaintiff seeking to prove malice based on constructive intent to injure must show that the level of recklessness of the officer\\'s action was so great as to warrant a finding equivalent in spirit to actual intent.\" id. such a showing would necessarily also satisfy the first requirement that the defendant act wantonly. see in re grad, 312 n.c. app. at 313, 321 s.e.2d at 890-91 (\"\\'an act is wanton when it is done of wicked purpose, or when done needlessly, manifesting a reckless indifference to the rights of others.\\'\" (quoting givens v. sellars, 273 n.c. 44, 50, 159 s.e.2d 530, 535 (1968))). -27- with regard to the intent to injure prong of malice, the fourth circuit has noted that \"north carolina courts have found summary judgment inappropriate where there is a genuine issue of fact as to an officer\\'s state of mind when engaging in allegedly tortious conduct.\" russ v. causey, 468 f. app\\'x 267, 276 (4th cir. 2012) (finding that officer\\'s conduct in executing an arrest warrant at funeral demonstrates an intent to injure). additionally, in the context of a civil suit for malicious prosecution, our supreme court has noted that it is \"well settled that malice may be inferred from want of probable cause, e.g., as where there was a reckless disregard of the rights of others in proceeding without probable cause.\" cook v. lanier, 267 n.c. 166, 170, 147 s.e.2d 910, 914 (1966). i would find that there are further questions of fact regarding whether defendant acted wantonly and with intent to injure plaintiff. the injury in this case is an injury to plaintiff\\'s fourth amendment right to be free from unreasonable search and seizure. i believe that the evidence is sufficient to allow a jury to find that officer funk acted with an actual intent to unlawfully detain plaintiff while officer funk attempted to manufacture after-the-fact justification for the arrest. the majority dismisses any claim of an intent to injure, reasoning: \"believing plaintiff was someone else who had arrest -28- warrants issued against him and had evaded police earlier that day, officer funk seized plaintiff while confirming his belief.\" this assertion underscores the majority\\'s merging of investigatory stops and arrests. controlling authority required officer funk to attempt to \"confirm[] his belief\" that plaintiff was mr. fearrington prior to arresting him. in addition, according to plaintiff\\'s verified complaint and deposition, officer funk spoke to plaintiff sarcastically and disrespectfully in response to plaintiff\\'s assertion that he was a business owner. the evidence also shows that after plaintiff told officer funk that he was not mr. fearrington and officer funk viewed plaintiff\\'s identification, officer funk continued to keep plaintiff in handcuffs while his partner contacted communications to \"verify\" his identification and gather further information that might justify an arrest. when communications verified plaintiff\\'s identification and could not find any outstanding warrants that would justify the stop, officer funk removed the handcuffs and left without apologizing to plaintiff. under these circumstances, a reasonable juror could infer that officer funk acted with a level of recklessness toward plaintiff\\'s rights equivalent in spirit to an actual intent to injure, as required by wilcox. see walker v. briley, 140 f. -29- supp.2d 1249, 1263 (n.d. ala. 2001) (plaintiff made sufficient showing of malice to survive motion for summary judgment on immunity grounds where \"[t]he evidence, viewed most favorably to [plaintiff], suggest[ed] that [police officer] had no grounds to believe [plaintiff] had committed any offense whatsoever but rather simply did not like [plaintiff] questioning his authority or suggesting racist motivations\"). unlike the doctrine of qualified immunity in federal cases, which requires the court to examine the objective reasonableness of an official\\'s action, \"[i]mmunity of public officials to state law claims . . . involves a determination of the subjective state of mind of the governmental actor, i.e., whether his actions were corrupt or malicious.\" andrews v. crump, 144 n.c. app. 68, 76, 547 s.e.2d 117, 123 (2001). we must \"determine the defendants\\' actual knowledge or intentions regarding the violation of plaintiffs\\' rights.\" id. at 77, 547 s.e.2d at 123. in andrews, plaintiff\\'s allegation that the defendants acted with the knowledge that the act was unlawful and in violation of plaintiff\\'s rights was sufficient to create an issue of fact regarding whether the official acted with malice. id. (observing that \"defendants knew [plaintiff] had no involvement in criminal activity, yet proceeded to file the liens against him anyway\"). -30- there are discrepancies in officer funk\\'s affidavit, the radio log from that night, and the incident report prepared two weeks later, only after an inquiry by the naacp, and unsigned by officer funk. these discrepancies, among other things, attempt to shorten the time period that plaintiff was detained. if the jury chooses to believe plaintiff\\'s testimony regarding the length of the detention, it could find that officer funk\\'s attempt to hide how long the detention lasted was evidence that the continued detention was without legitimate justification and in bad faith. further, the african-american officer who arrived at the scene of plaintiff\\'s arrest after plaintiff questioned whether he was stopped because of his race does not appear on either the radio log or in the incident report as being present. plaintiff has also presented evidence of comments suggestive of racial bias. this evidence could lead a reasonable juror to conclude that officer funk did not act in good faith and acted for improper motives when he continued to detain plaintiff in handcuffs after seeing plaintiff\\'s identification. i would hold that because the evidence supports a finding that officer funk not only acted without probable cause, but additionally that he did so knowingly, this creates a genuine issue of fact as to -31- whether he acted with intent to injure plaintiff. see also glenn-robinson, 140 n.c. app. at 626, 538 s.e.2d at 616 (evidence that officer arrested plaintiff without probable cause, appeared angry, and grabbed plaintiff\\'s arm sufficient evidence that officer acted with malice and was not entitled to summary judgment on the basis of public official immunity). i, therefore, would affirm the trial court\\'s denial of officer funk\\'s motion for summary judgment based on public official immunity. accordingly, i respectfully dissent. '"
      ]
     },
     "execution_count": 34,
     "metadata": {},
     "output_type": "execute_result"
    }
   ],
   "source": [
    "df.Opinion[1083]"
   ]
  },
  {
   "cell_type": "markdown",
   "metadata": {},
   "source": [
    "NOTES - CHECK RESULTS OF FUNCTION RETURNING \"1\"s:\n",
    "index - whether sub_right fn worked as expected\n",
    "------   -------------------------------\n",
    "338 - y - affirm denial\n",
    "441 - y - reverse denial\n",
    "603 - y - affirm denial\n",
    "740 - y - affirm denial\n",
    "769 - ~ - reverse denial\n",
    "873 - N - case citation\n",
    "944 - y but irrelevant (not msj, compel arb)\n",
    "964 - y - affirm denial\n",
    "987 - y - affirm denial\n",
    "1003 - Y - affirm denial\n",
    "1083 - y - affirm denial but in dissent"
   ]
  },
  {
   "cell_type": "markdown",
   "metadata": {},
   "source": [
    "### 3. Create Case-Type Feature By Sorting With Keywords\n",
    "\n",
    "I created a simple sorting function which takes a dictionary of case types with associated keywords, and then it generates a popularity count of the various keywords, returning the highest-ranking case type for a given opinion. The dictionary was revised over many iterations and reviews; for instance, some words were not unique, were misleading, or needed leading/trailing spaces. "
   ]
  },
  {
   "cell_type": "code",
   "execution_count": null,
   "metadata": {},
   "outputs": [],
   "source": [
    "# This dictionary contains types of law with associated, typically unique keywords\n",
    "case_type_dict = {'premises':['premises', 'attractive nuisance', 'dangerous condition', 'slip and fall',\n",
    "                            'defective condition', 'dog bite'], \n",
    "                  'products':['negligently manufactured', 'negligent manufacture', 'negligently designed',\n",
    "                              'negligent design', 'manufacturing defect', 'products liability',\n",
    "                              'product liability', 'ordinary use'],\n",
    "                  'car_crash':['collision', 'vehicle', 'motorist'], \n",
    "                  'med_mal':['medical malpractice','health care profession', 'same or similar community', \n",
    "                             'rule 9(j)', 'rule 702(b)'], \n",
    "                  'contract':[' formation', 'recission', 'specific performance', 'incidental damages',\n",
    "                              'consequential damages', 'statute of frauds', 'complex business'], \n",
    "                  'family_law':['divorce', 'custody', 'maintenance', 'child support', 'separation agreement',\n",
    "                               'prenuptual', 'postnuptual', 'premarital', 'marital home'], \n",
    "                  'estates':['intestate', 'probate', 'revocable trust', 'irrevocable trust', 'testator',\n",
    "                             'holographic', 'residue', 'testate', 'partition and sale', 'undivided interest'], \n",
    "                  'landlord_tenant':['lease', 'landlord', 'security deposit', ' rent ', 'chapter 42'], \n",
    "                  'construction':['building defect', 'water intrusion', 'construction defect', 'building code'], \n",
    "                  'property':['easement', 'fee simple', 'tenants in common', 'joint tenants', 'nuisance', \n",
    "                             'eminent domain', 'escheat', 'replevin', 'zoning', 'mortgage', 'foreclosure'], \n",
    "                  'unfair_deceptive':['unfair and deceptive', 'chapter 75'],\n",
    "                  'defamation':['libel', 'slander', 'defamatory', 'defamation'],\n",
    "                  'governmental':['sovereign immunity', 'official capacity', 'governmental immunity'],\n",
    "                  'employment':['wrongful discharge', 'discrimination', 'retaliation', 'retaliatory',\n",
    "                                    'retaliatory employment discrimination act', 'discriminatory'],\n",
    "                  'wrongful_death':['wrongful death']}\n",
    "\n",
    "# 'dram_shop':['dram shop'] -- removed, only 2 that were not superseded by \"car crash\""
   ]
  },
  {
   "cell_type": "code",
   "execution_count": null,
   "metadata": {},
   "outputs": [],
   "source": [
    "def case_type_sorter(dict_of_keywords, string):\n",
    "    \"\"\" \n",
    "    This function takes a dictionary of case types and associated \n",
    "    keywords, assigns points for the frequency of the keywords\n",
    "    of a given case type, and returns the case type with the highest\n",
    "    number of points, as well as a confidence measure.  The dict_of_keywords \n",
    "    should be a dictionary of case-type keys and keyword values; the string \n",
    "    should be a single string.\n",
    "    \"\"\"\n",
    "    counter_dict = {}\n",
    "\n",
    "    # Iterate through dictionary, counting frequency of each keyword in the string/Opinion\n",
    "    for key, values in dict_of_keywords.items():\n",
    "        counter_dict[key] = 0\n",
    "        for value in values:\n",
    "            count = string.count(value)\n",
    "            existing_count = counter_dict[key]\n",
    "            counter_dict[key] = count + existing_count\n",
    "    \n",
    "    # Get total points for all keywords\n",
    "    values = counter_dict.values()\n",
    "    total_count = sum(values)\n",
    "    \n",
    "    # Ensure that if no case_types are matched, the type returned is 'other'\n",
    "    if total_count > 0:\n",
    "        likely_case_type = max(counter_dict.items(), key=operator.itemgetter(1))[0]\n",
    "    else:\n",
    "        likely_case_type = 'other'\n",
    "    \n",
    "    # Return a confidence ratio (points of most likely type / all points )\n",
    "    try:\n",
    "        confidence = str(round((counter_dict[likely_case_type]/total_count)*100,2))+'%'\n",
    "    except:\n",
    "        confidence = 'n/a'\n",
    "    \n",
    "    return likely_case_type, confidence"
   ]
  },
  {
   "cell_type": "code",
   "execution_count": null,
   "metadata": {},
   "outputs": [],
   "source": [
    "# Copy of the above function for case-by-case review\n",
    "def case_type_test_sorter(dict_of_keywords, string):\n",
    "    \"\"\" \n",
    "    This is a copy of the case_type_sorter function for case-by-case review\n",
    "    \"\"\"\n",
    "    counter_dict = {}\n",
    "\n",
    "    # Iterate through dictionary, counting frequency of each keyword in the string/Opinion\n",
    "    for key, values in dict_of_keywords.items():\n",
    "        counter_dict[key] = 0\n",
    "        for value in values:\n",
    "            count = string.count(value)\n",
    "            existing_count = counter_dict[key]\n",
    "            counter_dict[key] = count + existing_count\n",
    "            \n",
    "    return counter_dict"
   ]
  },
  {
   "cell_type": "code",
   "execution_count": null,
   "metadata": {},
   "outputs": [],
   "source": [
    "# Apply case_type and confidence level columns to the DataFrame\n",
    "\n",
    "case_type_list = []\n",
    "case_type_confidence = []\n",
    "for i in range(len(df.Opinion)):\n",
    "    y,z = case_type_sorter(case_type_dict, df.Opinion[i])\n",
    "    case_type_list.append(y)\n",
    "    case_type_confidence.append(z)\n",
    "\n",
    "case_type_series = pd.Series(case_type_list)\n",
    "case_confidence_series = pd.Series(case_type_confidence)\n",
    "df[\"Case_Type\"] = case_type_series.values\n",
    "df[\"Case_Type_Confidence\"] = case_confidence_series.values"
   ]
  },
  {
   "cell_type": "code",
   "execution_count": null,
   "metadata": {
    "scrolled": true
   },
   "outputs": [],
   "source": [
    "df.sample(10)"
   ]
  },
  {
   "cell_type": "code",
   "execution_count": null,
   "metadata": {},
   "outputs": [],
   "source": [
    "# Test function to review cases and diagnose issues (ultimately to update the case_type_dict)\n",
    "test_cell = int(input(\"Index to Test:\"))\n",
    "print(case_type_sorter(case_type_dict, df.Opinion[test_cell]),\n",
    "      '\\n\\n', case_type_test_sorter(case_type_dict, df.Opinion[test_cell]),\n",
    "      '\\n\\n', df.Opinion[test_cell])"
   ]
  },
  {
   "cell_type": "code",
   "execution_count": null,
   "metadata": {},
   "outputs": [],
   "source": [
    "df.Case_Type.value_counts()"
   ]
  },
  {
   "cell_type": "code",
   "execution_count": null,
   "metadata": {},
   "outputs": [],
   "source": []
  },
  {
   "cell_type": "code",
   "execution_count": null,
   "metadata": {},
   "outputs": [],
   "source": []
  },
  {
   "cell_type": "code",
   "execution_count": null,
   "metadata": {},
   "outputs": [],
   "source": []
  },
  {
   "cell_type": "markdown",
   "metadata": {},
   "source": [
    "## 4.  Extract Feature: Trial-Court Judge"
   ]
  },
  {
   "cell_type": "code",
   "execution_count": null,
   "metadata": {},
   "outputs": [],
   "source": []
  },
  {
   "cell_type": "code",
   "execution_count": null,
   "metadata": {},
   "outputs": [],
   "source": []
  },
  {
   "cell_type": "code",
   "execution_count": null,
   "metadata": {},
   "outputs": [],
   "source": []
  },
  {
   "cell_type": "code",
   "execution_count": null,
   "metadata": {},
   "outputs": [],
   "source": []
  },
  {
   "cell_type": "markdown",
   "metadata": {},
   "source": [
    "## 5. Extract Feature: County"
   ]
  },
  {
   "cell_type": "code",
   "execution_count": null,
   "metadata": {},
   "outputs": [],
   "source": []
  },
  {
   "cell_type": "code",
   "execution_count": null,
   "metadata": {},
   "outputs": [],
   "source": []
  },
  {
   "cell_type": "code",
   "execution_count": null,
   "metadata": {},
   "outputs": [],
   "source": []
  },
  {
   "cell_type": "markdown",
   "metadata": {},
   "source": [
    "## 6. Topic Modeling to Extract Features"
   ]
  },
  {
   "cell_type": "code",
   "execution_count": null,
   "metadata": {},
   "outputs": [],
   "source": []
  },
  {
   "cell_type": "code",
   "execution_count": null,
   "metadata": {},
   "outputs": [],
   "source": []
  },
  {
   "cell_type": "code",
   "execution_count": null,
   "metadata": {},
   "outputs": [],
   "source": []
  },
  {
   "cell_type": "markdown",
   "metadata": {},
   "source": [
    "## 7. EDA Visualizations"
   ]
  },
  {
   "cell_type": "markdown",
   "metadata": {},
   "source": [
    "### A. MSJ Allowed/Reversed Over Time"
   ]
  },
  {
   "cell_type": "code",
   "execution_count": null,
   "metadata": {},
   "outputs": [],
   "source": []
  },
  {
   "cell_type": "code",
   "execution_count": null,
   "metadata": {},
   "outputs": [],
   "source": []
  },
  {
   "cell_type": "markdown",
   "metadata": {},
   "source": [
    "### B. MSJ by Case Type"
   ]
  },
  {
   "cell_type": "code",
   "execution_count": null,
   "metadata": {},
   "outputs": [],
   "source": []
  },
  {
   "cell_type": "code",
   "execution_count": null,
   "metadata": {},
   "outputs": [],
   "source": []
  }
 ],
 "metadata": {
  "kernelspec": {
   "display_name": "Python 3",
   "language": "python",
   "name": "python3"
  },
  "language_info": {
   "codemirror_mode": {
    "name": "ipython",
    "version": 3
   },
   "file_extension": ".py",
   "mimetype": "text/x-python",
   "name": "python",
   "nbconvert_exporter": "python",
   "pygments_lexer": "ipython3",
   "version": "3.6.9"
  }
 },
 "nbformat": 4,
 "nbformat_minor": 2
}
