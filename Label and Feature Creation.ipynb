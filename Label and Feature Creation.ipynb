{
 "cells": [
  {
   "cell_type": "markdown",
   "metadata": {},
   "source": [
    "# Label and Feature Creation\n",
    "\n",
    "In this notebook, I will import the single-column dataframe of appellate opinions and create columns with labels and features. "
   ]
  },
  {
   "cell_type": "code",
   "execution_count": 1,
   "metadata": {},
   "outputs": [],
   "source": [
    "import io\n",
    "import re\n",
    "import pandas as pd\n",
    "import pickle\n",
    "import operator"
   ]
  },
  {
   "cell_type": "code",
   "execution_count": 2,
   "metadata": {},
   "outputs": [],
   "source": [
    "# Open the dataframe\n",
    "infile = open('ProjectData/df_clean.data', 'rb')\n",
    "df = pickle.load(infile)\n",
    "infile.close()"
   ]
  },
  {
   "cell_type": "code",
   "execution_count": 3,
   "metadata": {},
   "outputs": [],
   "source": [
    "df.reset_index(inplace=True, drop=True)"
   ]
  },
  {
   "cell_type": "code",
   "execution_count": 4,
   "metadata": {},
   "outputs": [
    {
     "name": "stdout",
     "output_type": "stream",
     "text": [
      "<class 'pandas.core.frame.DataFrame'>\n",
      "RangeIndex: 3922 entries, 0 to 3921\n",
      "Data columns (total 1 columns):\n",
      "Opinion    3922 non-null object\n",
      "dtypes: object(1)\n",
      "memory usage: 30.8+ KB\n"
     ]
    },
    {
     "data": {
      "text/plain": [
       "(None,                                              Opinion\n",
       " 0   an unpublished opinion of the north carolina ...\n",
       " 1  no. coa11-246 north carolina court of appeals ...\n",
       " 2  no. coa08-347 north carolina court of appeals ...\n",
       " 3  michael harrison gregory and wife, vivian greg...\n",
       " 4  atlantic contracting and material company, inc...)"
      ]
     },
     "execution_count": 4,
     "metadata": {},
     "output_type": "execute_result"
    }
   ],
   "source": [
    "df.info(), df.head()"
   ]
  },
  {
   "cell_type": "markdown",
   "metadata": {},
   "source": [
    "### 1. Creating a New Column for the File Numbers\n",
    "This is more experimental than functional."
   ]
  },
  {
   "cell_type": "code",
   "execution_count": 5,
   "metadata": {},
   "outputs": [],
   "source": [
    "# capture file number into new column\n",
    "def coa(string_):\n",
    "    try:\n",
    "        pat_coa_number = re.search(\"no.? ?coa.? ?(\\d{2}-\\d{1,5})\",string_)\n",
    "        return pat_coa_number.group(1)\n",
    "    except:\n",
    "        return('00-000')"
   ]
  },
  {
   "cell_type": "code",
   "execution_count": 6,
   "metadata": {},
   "outputs": [
    {
     "data": {
      "text/plain": [
       "'20-112'"
      ]
     },
     "execution_count": 6,
     "metadata": {},
     "output_type": "execute_result"
    }
   ],
   "source": [
    "coa(df.Opinion[3921])"
   ]
  },
  {
   "cell_type": "code",
   "execution_count": 7,
   "metadata": {},
   "outputs": [],
   "source": [
    "coa_numbers = []\n",
    "for i in range(len(df.Opinion)):\n",
    "    x = coa(df.Opinion[i])\n",
    "    coa_numbers.append(x)"
   ]
  },
  {
   "cell_type": "code",
   "execution_count": 8,
   "metadata": {},
   "outputs": [],
   "source": [
    "placeholder=pd.Series(coa_numbers)\n",
    "df[\"File_Numbers\"] = placeholder.values"
   ]
  },
  {
   "cell_type": "code",
   "execution_count": 9,
   "metadata": {},
   "outputs": [
    {
     "data": {
      "text/html": [
       "<div>\n",
       "<style scoped>\n",
       "    .dataframe tbody tr th:only-of-type {\n",
       "        vertical-align: middle;\n",
       "    }\n",
       "\n",
       "    .dataframe tbody tr th {\n",
       "        vertical-align: top;\n",
       "    }\n",
       "\n",
       "    .dataframe thead th {\n",
       "        text-align: right;\n",
       "    }\n",
       "</style>\n",
       "<table border=\"1\" class=\"dataframe\">\n",
       "  <thead>\n",
       "    <tr style=\"text-align: right;\">\n",
       "      <th></th>\n",
       "      <th>Opinion</th>\n",
       "      <th>File_Numbers</th>\n",
       "    </tr>\n",
       "  </thead>\n",
       "  <tbody>\n",
       "    <tr>\n",
       "      <td>0</td>\n",
       "      <td>an unpublished opinion of the north carolina ...</td>\n",
       "      <td>19-563</td>\n",
       "    </tr>\n",
       "    <tr>\n",
       "      <td>1</td>\n",
       "      <td>no. coa11-246 north carolina court of appeals ...</td>\n",
       "      <td>11-246</td>\n",
       "    </tr>\n",
       "    <tr>\n",
       "      <td>2</td>\n",
       "      <td>no. coa08-347 north carolina court of appeals ...</td>\n",
       "      <td>08-347</td>\n",
       "    </tr>\n",
       "    <tr>\n",
       "      <td>3</td>\n",
       "      <td>michael harrison gregory and wife, vivian greg...</td>\n",
       "      <td>05-885</td>\n",
       "    </tr>\n",
       "    <tr>\n",
       "      <td>4</td>\n",
       "      <td>atlantic contracting and material company, inc...</td>\n",
       "      <td>02-1087</td>\n",
       "    </tr>\n",
       "    <tr>\n",
       "      <td>5</td>\n",
       "      <td>an unpublished opinion of the north carolina c...</td>\n",
       "      <td>13-222</td>\n",
       "    </tr>\n",
       "    <tr>\n",
       "      <td>6</td>\n",
       "      <td>in the court of appeals of north carolina no....</td>\n",
       "      <td>17-112</td>\n",
       "    </tr>\n",
       "    <tr>\n",
       "      <td>7</td>\n",
       "      <td>in the court of appeals of north carolina no....</td>\n",
       "      <td>15-862</td>\n",
       "    </tr>\n",
       "    <tr>\n",
       "      <td>8</td>\n",
       "      <td>no. coa11-1447 north carolina court of appeal...</td>\n",
       "      <td>11-1447</td>\n",
       "    </tr>\n",
       "    <tr>\n",
       "      <td>9</td>\n",
       "      <td>an unpublished opinion of the north carolina c...</td>\n",
       "      <td>13-248</td>\n",
       "    </tr>\n",
       "  </tbody>\n",
       "</table>\n",
       "</div>"
      ],
      "text/plain": [
       "                                             Opinion File_Numbers\n",
       "0   an unpublished opinion of the north carolina ...       19-563\n",
       "1  no. coa11-246 north carolina court of appeals ...       11-246\n",
       "2  no. coa08-347 north carolina court of appeals ...       08-347\n",
       "3  michael harrison gregory and wife, vivian greg...       05-885\n",
       "4  atlantic contracting and material company, inc...      02-1087\n",
       "5  an unpublished opinion of the north carolina c...       13-222\n",
       "6   in the court of appeals of north carolina no....       17-112\n",
       "7   in the court of appeals of north carolina no....       15-862\n",
       "8   no. coa11-1447 north carolina court of appeal...      11-1447\n",
       "9  an unpublished opinion of the north carolina c...       13-248"
      ]
     },
     "execution_count": 9,
     "metadata": {},
     "output_type": "execute_result"
    }
   ],
   "source": [
    "df.head(10)"
   ]
  },
  {
   "cell_type": "markdown",
   "metadata": {},
   "source": [
    "### 2. Creating the Labels (Affirmed, Reversed, etc.)\n",
    "\n",
    "The labels were created using the regex patterns below. The ultimate fuction below was created over many iterations. Initially, there were approximately 300 errors; the model was tweaked to reduce errors while maintaining reliability. Ultimately, 25 rows were dropped as errors because the cases were not beneficial to the model (i.e., they did not include a relevant summary judgment decision, the opinion on summary judgment was entwined with other components, etc.); 454 \"affirmed-in-part\" rows were dropped since they're not the binary outcome needed; and 408 dismissals were dropped since they don't have a usable outcome.  "
   ]
  },
  {
   "cell_type": "code",
   "execution_count": 10,
   "metadata": {},
   "outputs": [],
   "source": [
    "# \n",
    "def labels(string_):\n",
    "    \"\"\"\n",
    "    This function will extract the outcome from a given string (opinion).\n",
    "    Each of the 'try' statements extracts the labels with decreasing \n",
    "    degrees of confidence (first by the one-word sentence, then within\n",
    "    10 words of the statement regarding concurrence, typically near the \n",
    "    end of the opinion; then clipping the last 150 chars. of the opinion \n",
    "    and looking for the associated label-words, and finally looking for \n",
    "    label-words within 5-10 words of the often-occurring phrase, 'for the\n",
    "    reasons set forth above').\n",
    "    \"\"\"\n",
    "    try:\n",
    "        try:\n",
    "            try:\n",
    "                try:  #this level has the highest confidence of getting an accurate label, based upon review of opinions (a single-word sentence)\n",
    "                    labels = re.search(\"\\.. ?(affirmed?)\\.|\\.?(reversed?)\\.|(affirmed in part)|\\.?(dismissed)\\.\",string_)\n",
    "                    x = labels.group(1)\n",
    "                    y = labels.group(2)\n",
    "                    z = labels.group(3)\n",
    "                    w = labels.group(4)\n",
    "                    not_none = [x,y,z]\n",
    "                    a = [i for i in not_none if i != None]\n",
    "                    return a[0]\n",
    "                except:  # slightly less confidence; looks for outcome word within 10 words of \"concur\", which frequently is at the end of a unanymous opinion\n",
    "                    labels = re.search(\"(?:concurs?\\W+(?:\\w+\\W+){0,40}?((affirmed in part)|reversed|affirmed|dismissed|no error|vacated)|((affirmed in part)|affirmed|reversed|dismissed|no error|vacated)\\W+(?:\\w+\\W+){0,40}?concurs?)\", string_)\n",
    "                    #print(\"Group 0:\", labels.group(0), \"\\nGroup 1:\", labels.group(1), \"\\nGroup 2:\", labels.group(2), \"\\nGroup 3:\", labels.group(3), \"\\nGroup 4:\", labels.group(4))\n",
    "                    x = labels.group(1)\n",
    "                    y = labels.group(2)\n",
    "                    z = labels.group(3)\n",
    "                    w = labels.group(4)\n",
    "                    not_none = [x,y,z,w]\n",
    "                    a = [i for i in not_none if i != None]\n",
    "                    #print(\"This is resulting list a:\", a)\n",
    "                    return a[0]\n",
    "            except: #slightly less confidence; if both of the previous methods fail, this clips the last 150 chars of the opinion for any of the outcome words\n",
    "                clip = string_[-150:]\n",
    "    #             print(clip)\n",
    "                labels2 = re.search(\"('affirmed in part'|reversed|affirmed|dismissed|'affirm in part'|affirm|reverse|dismiss|improvidently allowed)\",clip)\n",
    "                return labels2.group(0)\n",
    "        except: \n",
    "            labels = re.search(\"(?:reasons set forth?\\W+(?:\\w+\\W+){0,5}?((affirm in part)|reverse|affirm|dismiss|no error|vacated?)|((affirm in part)|affirm|reversed?|dismiss|no error|vacated?)\\W+(?:\\w+\\W+){0,10}?reasons set forth?)\", string_)\n",
    "            #print(\"Group 0:\", labels.group(0), \"\\nGroup 1:\", labels.group(1), \"\\nGroup 2:\", labels.group(2), \"\\nGroup 3:\", labels.group(3), \"\\nGroup 4:\", labels.group(4))\n",
    "            x = labels.group(1)\n",
    "            y = labels.group(2)\n",
    "            z = labels.group(3)\n",
    "            w = labels.group(4)\n",
    "            not_none = [x,y,z,w]\n",
    "            a = [i for i in not_none if i != None]\n",
    "            #print(\"This is resulting list a:\", a)\n",
    "            return a[0]\n",
    "    except:\n",
    "        return('error')"
   ]
  },
  {
   "cell_type": "code",
   "execution_count": 11,
   "metadata": {},
   "outputs": [
    {
     "data": {
      "text/plain": [
       "'affirmed'"
      ]
     },
     "execution_count": 11,
     "metadata": {},
     "output_type": "execute_result"
    }
   ],
   "source": [
    "# Test Cell \n",
    "labels(df.Opinion[2092])"
   ]
  },
  {
   "cell_type": "code",
   "execution_count": 12,
   "metadata": {},
   "outputs": [],
   "source": [
    "# Apply labels to the DataFrame\n",
    "labels_list = []\n",
    "for i in range(len(df.Opinion)):\n",
    "    x = labels(df.Opinion[i])\n",
    "    labels_list.append(x)\n",
    "    \n",
    "labels_series = pd.Series(labels_list)\n",
    "df[\"Result\"] = labels_series.values"
   ]
  },
  {
   "cell_type": "code",
   "execution_count": 13,
   "metadata": {},
   "outputs": [
    {
     "data": {
      "text/plain": [
       "affirmed                 2070\n",
       "reversed                  691\n",
       "affirmed in part          454\n",
       "dismissed                 392\n",
       "reverse                   122\n",
       "no error                   70\n",
       "vacated                    64\n",
       "error                      25\n",
       "affirm                     18\n",
       "improvidently allowed      14\n",
       "dismiss                     2\n",
       "Name: Result, dtype: int64"
      ]
     },
     "execution_count": 13,
     "metadata": {},
     "output_type": "execute_result"
    }
   ],
   "source": [
    "df.Result.value_counts()"
   ]
  },
  {
   "cell_type": "code",
   "execution_count": 14,
   "metadata": {},
   "outputs": [],
   "source": [
    "df['Result'].replace(['reverse','affirm', 'dismiss','no error', 'vacated', 'improvidently allowed'],\n",
    "                     ['reversed','affirmed','dismissed', 'affirmed', 'reversed', 'dismissed'], inplace=True)\n",
    "\n",
    "# The model will treat 'no error' as 'affirmed' and 'vacated' as 'reversed'"
   ]
  },
  {
   "cell_type": "code",
   "execution_count": 15,
   "metadata": {},
   "outputs": [
    {
     "data": {
      "text/plain": [
       "affirmed            2158\n",
       "reversed             877\n",
       "affirmed in part     454\n",
       "dismissed            408\n",
       "error                 25\n",
       "Name: Result, dtype: int64"
      ]
     },
     "execution_count": 15,
     "metadata": {},
     "output_type": "execute_result"
    }
   ],
   "source": [
    "df.Result.value_counts()"
   ]
  },
  {
   "cell_type": "code",
   "execution_count": 16,
   "metadata": {},
   "outputs": [],
   "source": [
    "# Drop rows with 'error', 'dismissed', and 'affirmed in part' -- see section header, above\n",
    "drop_list1 = df.loc[df['Result'] == 'error']\n",
    "drop_list2 = df.loc[df['Result'] == 'affirmed in part']\n",
    "drop_list3 = df.loc[df['Result'] == 'dismissed']"
   ]
  },
  {
   "cell_type": "code",
   "execution_count": 17,
   "metadata": {},
   "outputs": [],
   "source": [
    "drop_list = list(drop_list1.index) + list(drop_list2.index) + list(drop_list3.index)"
   ]
  },
  {
   "cell_type": "code",
   "execution_count": 18,
   "metadata": {},
   "outputs": [],
   "source": [
    "df.drop(drop_list, axis=0, inplace=True)\n",
    "df.reset_index(drop=True, inplace=True)"
   ]
  },
  {
   "cell_type": "code",
   "execution_count": 19,
   "metadata": {
    "scrolled": true
   },
   "outputs": [
    {
     "data": {
      "text/plain": [
       "affirmed    2158\n",
       "reversed     877\n",
       "Name: Result, dtype: int64"
      ]
     },
     "execution_count": 19,
     "metadata": {},
     "output_type": "execute_result"
    }
   ],
   "source": [
    "df.Result.value_counts()"
   ]
  },
  {
   "cell_type": "code",
   "execution_count": 20,
   "metadata": {},
   "outputs": [
    {
     "name": "stdout",
     "output_type": "stream",
     "text": [
      "<class 'pandas.core.frame.DataFrame'>\n",
      "RangeIndex: 3035 entries, 0 to 3034\n",
      "Data columns (total 3 columns):\n",
      "Opinion         3035 non-null object\n",
      "File_Numbers    3035 non-null object\n",
      "Result          3035 non-null object\n",
      "dtypes: object(3)\n",
      "memory usage: 71.3+ KB\n"
     ]
    }
   ],
   "source": [
    "df.info()"
   ]
  },
  {
   "cell_type": "markdown",
   "metadata": {},
   "source": [
    "### 3. Create Case-Type Feature By Sorting With Keywords\n",
    "\n",
    "I created a simple sorting function which takes a dictionary of case types with associated keywords, and then it generates a popularity count of the various keywords, returning the highest-ranking case type for a given opinion. The dictionary was revised over many iterations and reviews; for instance, some words were not unique, were misleading, or needed leading/trailing spaces. "
   ]
  },
  {
   "cell_type": "code",
   "execution_count": 65,
   "metadata": {},
   "outputs": [],
   "source": [
    "# This dictionary contains types of law with associated, typically unique keywords\n",
    "case_type_dict = {'premises':['premises', 'attractive nuisance', 'dangerous condition', 'slip and fall',\n",
    "                            'defective condition', 'dog bite'], \n",
    "                  'car_crash':['collision', 'vehicle', 'motorist'], \n",
    "                  'med_mal':['medical malpractice','health care profession', 'same or similar community', \n",
    "                             'rule 9(j)', 'rule 702(b)'], \n",
    "                  'contract':[' formation', 'recission', 'specific performance', 'incidental damages',\n",
    "                              'consequential damages', 'statute of frauds', 'complex business'], \n",
    "                  'family_law':['divorce', 'custody', 'maintenance', 'child support', 'separation agreement',\n",
    "                               'prenuptual', 'postnuptual'], \n",
    "                  'estates':['intestate', 'probate', 'revocable trust', 'irrevocable trust', 'testator',\n",
    "                             'holographic', 'residue', 'testate', 'partition and sale', 'undivided interest'], \n",
    "                  'landlord_tenant':['lease', 'landlord', 'security deposit', ' rent ', 'chapter 42'], \n",
    "                  'construction':['building defect', 'water intrusion', 'construction defect', 'building code'], \n",
    "                  'property':['easement', 'fee simple', 'tenants in common', 'joint tenants', 'nuisance', \n",
    "                             'eminent domain', 'escheat', 'replevin', 'zoning', 'mortgage', 'foreclosure'], \n",
    "                  'unfair_deceptive':['unfair and deceptive', 'chapter 75'],\n",
    "                  'defamation':['libel', 'slander', 'defamatory', 'defamation'],\n",
    "                  'governmental':['sovereign immunity', 'official capacity'],\n",
    "                  'discrimination':['wrongful discharge', 'discrimination', 'retaliation', 'retaliatory',\n",
    "                                    'retaliatory employment discrimination act', 'discriminatory'],\n",
    "                  'wrongful_death':['wrongful death']}\n",
    "\n",
    "# 'dram_shop':['dram shop'] -- removed, only 2 that were not superseded by \"car crash\""
   ]
  },
  {
   "cell_type": "code",
   "execution_count": 66,
   "metadata": {},
   "outputs": [],
   "source": [
    "def case_type_sorter(dict_of_keywords, string):\n",
    "    \"\"\" \n",
    "    This function takes a dictionary of case types and associated \n",
    "    keywords, assigns points for the frequency of the keywords\n",
    "    of a given case type, and returns the case type with the highest\n",
    "    number of points, as well as a confidence measure.  The dict_of_keywords \n",
    "    should be a dictionary of case-type keys and keyword values; the string \n",
    "    should be a single string.\n",
    "    \"\"\"\n",
    "    counter_dict = {}\n",
    "\n",
    "    # Iterate through dictionary, counting frequency of each keyword in the string/Opinion\n",
    "    for key, values in dict_of_keywords.items():\n",
    "        counter_dict[key] = 0\n",
    "        for value in values:\n",
    "            count = string.count(value)\n",
    "            existing_count = counter_dict[key]\n",
    "            counter_dict[key] = count + existing_count\n",
    "    \n",
    "    # Get total points for all keywords\n",
    "    values = counter_dict.values()\n",
    "    total_count = sum(values)\n",
    "    \n",
    "    likely_case_type = max(counter_dict.items(), key=operator.itemgetter(1))[0]\n",
    "    try:\n",
    "        confidence = str(round((counter_dict[likely_case_type]/total_count)*100,2))+'%'\n",
    "    except:\n",
    "        confidence = 'n/a'\n",
    "    \n",
    "    return likely_case_type, confidence"
   ]
  },
  {
   "cell_type": "code",
   "execution_count": 67,
   "metadata": {},
   "outputs": [],
   "source": [
    "# Apply case_type and confidence level columns to the DataFrame\n",
    "\n",
    "case_type_list = []\n",
    "case_type_confidence = []\n",
    "for i in range(len(df.Opinion)):\n",
    "    y,z = case_type_sorter(case_type_dict, df.Opinion[i])\n",
    "    case_type_list.append(y)\n",
    "    case_type_confidence.append(z)\n",
    "\n",
    "case_type_series = pd.Series(case_type_list)\n",
    "case_confidence_series = pd.Series(case_type_confidence)\n",
    "df[\"Case_Type\"] = case_type_series.values\n",
    "df[\"Case_Type_Confidence\"] = case_confidence_series.values"
   ]
  },
  {
   "cell_type": "code",
   "execution_count": 68,
   "metadata": {},
   "outputs": [
    {
     "data": {
      "text/html": [
       "<div>\n",
       "<style scoped>\n",
       "    .dataframe tbody tr th:only-of-type {\n",
       "        vertical-align: middle;\n",
       "    }\n",
       "\n",
       "    .dataframe tbody tr th {\n",
       "        vertical-align: top;\n",
       "    }\n",
       "\n",
       "    .dataframe thead th {\n",
       "        text-align: right;\n",
       "    }\n",
       "</style>\n",
       "<table border=\"1\" class=\"dataframe\">\n",
       "  <thead>\n",
       "    <tr style=\"text-align: right;\">\n",
       "      <th></th>\n",
       "      <th>Opinion</th>\n",
       "      <th>File_Numbers</th>\n",
       "      <th>Result</th>\n",
       "      <th>Case_Type</th>\n",
       "      <th>Case_Type_Confidence</th>\n",
       "    </tr>\n",
       "  </thead>\n",
       "  <tbody>\n",
       "    <tr>\n",
       "      <td>2743</td>\n",
       "      <td>in the court of appeals of north carolina no....</td>\n",
       "      <td>15-1397</td>\n",
       "      <td>affirmed</td>\n",
       "      <td>property</td>\n",
       "      <td>70.0%</td>\n",
       "    </tr>\n",
       "    <tr>\n",
       "      <td>3020</td>\n",
       "      <td>no. coa08-147 north carolina court of appeals ...</td>\n",
       "      <td>08-147</td>\n",
       "      <td>affirmed</td>\n",
       "      <td>property</td>\n",
       "      <td>90.91%</td>\n",
       "    </tr>\n",
       "    <tr>\n",
       "      <td>387</td>\n",
       "      <td>no. coa04-1717 north carolina court of appeals...</td>\n",
       "      <td>04-1717</td>\n",
       "      <td>reversed</td>\n",
       "      <td>car_crash</td>\n",
       "      <td>73.68%</td>\n",
       "    </tr>\n",
       "    <tr>\n",
       "      <td>1915</td>\n",
       "      <td>no. coa07-1419 north carolina court of appeals...</td>\n",
       "      <td>07-1419</td>\n",
       "      <td>affirmed</td>\n",
       "      <td>med_mal</td>\n",
       "      <td>100.0%</td>\n",
       "    </tr>\n",
       "    <tr>\n",
       "      <td>349</td>\n",
       "      <td>kenneth p. andresen and margueritte c. andrese...</td>\n",
       "      <td>09-1207</td>\n",
       "      <td>affirmed</td>\n",
       "      <td>family_law</td>\n",
       "      <td>100.0%</td>\n",
       "    </tr>\n",
       "    <tr>\n",
       "      <td>2482</td>\n",
       "      <td>an unpublished opinion of the north carolina c...</td>\n",
       "      <td>13-652</td>\n",
       "      <td>reversed</td>\n",
       "      <td>landlord_tenant</td>\n",
       "      <td>43.75%</td>\n",
       "    </tr>\n",
       "    <tr>\n",
       "      <td>78</td>\n",
       "      <td>an unpublished opinion of the north carolina c...</td>\n",
       "      <td>09-196</td>\n",
       "      <td>affirmed</td>\n",
       "      <td>landlord_tenant</td>\n",
       "      <td>53.66%</td>\n",
       "    </tr>\n",
       "    <tr>\n",
       "      <td>2630</td>\n",
       "      <td>an unpublished opinion of the north carolina c...</td>\n",
       "      <td>11-1218</td>\n",
       "      <td>reversed</td>\n",
       "      <td>premises</td>\n",
       "      <td>n/a</td>\n",
       "    </tr>\n",
       "    <tr>\n",
       "      <td>2727</td>\n",
       "      <td>alton d. mcneill, plaintiff-appellant, v. jame...</td>\n",
       "      <td>99-1619</td>\n",
       "      <td>affirmed</td>\n",
       "      <td>car_crash</td>\n",
       "      <td>100.0%</td>\n",
       "    </tr>\n",
       "    <tr>\n",
       "      <td>2545</td>\n",
       "      <td>in the court of appeals of north carolina no....</td>\n",
       "      <td>17-1427</td>\n",
       "      <td>reversed</td>\n",
       "      <td>landlord_tenant</td>\n",
       "      <td>41.67%</td>\n",
       "    </tr>\n",
       "  </tbody>\n",
       "</table>\n",
       "</div>"
      ],
      "text/plain": [
       "                                                Opinion File_Numbers  \\\n",
       "2743   in the court of appeals of north carolina no....      15-1397   \n",
       "3020  no. coa08-147 north carolina court of appeals ...       08-147   \n",
       "387   no. coa04-1717 north carolina court of appeals...      04-1717   \n",
       "1915  no. coa07-1419 north carolina court of appeals...      07-1419   \n",
       "349   kenneth p. andresen and margueritte c. andrese...      09-1207   \n",
       "2482  an unpublished opinion of the north carolina c...       13-652   \n",
       "78    an unpublished opinion of the north carolina c...       09-196   \n",
       "2630  an unpublished opinion of the north carolina c...      11-1218   \n",
       "2727  alton d. mcneill, plaintiff-appellant, v. jame...      99-1619   \n",
       "2545   in the court of appeals of north carolina no....      17-1427   \n",
       "\n",
       "        Result        Case_Type Case_Type_Confidence  \n",
       "2743  affirmed         property                70.0%  \n",
       "3020  affirmed         property               90.91%  \n",
       "387   reversed        car_crash               73.68%  \n",
       "1915  affirmed          med_mal               100.0%  \n",
       "349   affirmed       family_law               100.0%  \n",
       "2482  reversed  landlord_tenant               43.75%  \n",
       "78    affirmed  landlord_tenant               53.66%  \n",
       "2630  reversed         premises                  n/a  \n",
       "2727  affirmed        car_crash               100.0%  \n",
       "2545  reversed  landlord_tenant               41.67%  "
      ]
     },
     "execution_count": 68,
     "metadata": {},
     "output_type": "execute_result"
    }
   ],
   "source": [
    "df.sample(10)"
   ]
  },
  {
   "cell_type": "code",
   "execution_count": 69,
   "metadata": {},
   "outputs": [
    {
     "data": {
      "text/plain": [
       "('construction', '40.0%')"
      ]
     },
     "execution_count": 69,
     "metadata": {},
     "output_type": "execute_result"
    }
   ],
   "source": [
    "# Test cell\n",
    "case_type_sorter(case_type_dict, df.Opinion[2374])"
   ]
  },
  {
   "cell_type": "code",
   "execution_count": 58,
   "metadata": {},
   "outputs": [
    {
     "data": {
      "text/plain": [
       "' in the court of appeals of north carolina no. coa14-1413 filed: 1 september 2015 new hanover county, no. 08 cvs 883 julie lancaster and brannon lancaster, plaintiffs, v. harold k. jordan and co., inc., withers & ravenel, inc., arthur r. cogswell, and lighthouse engineering, pa, defendants. appeal by plaintiffs from order entered 23 june 2014 by judge john r. jolly, jr. in new hanover county superior court. heard in the court of appeals 21 may 2015. shipman & wright, llp, by w. cory reiss, for plaintiff-appellants. hedrick gardner kincheloe & garofalo, llp, by thomas m. buckley, and bugg & wolf, p.a., by william j. wolf, for defendant-appellee harold k. jordan and co., inc. mccullough, judge. plaintiffs julie and brannon lancaster appeal from a summary judgment order entered in favor of defendant harold k. jordan and co., inc. based on the reasons stated herein, we affirm the order of the trial court. i. background on 26 february 2008, plaintiffs julie lancaster and brannon lancaster (“mrs. lancaster” and “mr. lancaster”) filed a complaint against defendants harold k. jordan and co., inc. (“hkj”), withers & ravenel, inc. (“w&r”), arthur r. cogswell, lancaster v. harold k. jordan & co., inc. opinion of the court and lighthouse engineering, p.a. plaintiffs advanced the following claims: unfair and deceptive trade practices (“udtp”) by hkj; fraud by hkj; negligent misrepresentation by hkj, mr. cogswell and w&r; and, negligence by all defendants. it was designated as a complex business case on 31 march 2008. on 15 december 2009, plaintiffs filed an amended complaint. plaintiffs alleged that in 1997, they purchased a tract of land located in brunswick county (“the property”). in 2003, they formed a limited liability company known as village landing, llc (“village landing”) and transferred the property to village landing. in 2005, plaintiffs met with harold k. jordan and john zabriskie, both agents of hkj, at hkj’s offices in wilmington, north carolina. hkj was a builder specializing in the construction and renovation of multi-family housing. hkj recommended that plaintiffs construct apartments on the property and referred plaintiffs to mr. cogswell, an architect. prior to 27 october 2005, mr. cogswell prepared preliminary sketch designs for an apartment complex, to be constructed by hkj. plaintiffs decided they did not want to own or manage an apartment complex, and on or about 27 october 2005, mrs. lancaster requested that mr. cogswell prepare plans for the construction of townhomes. in the fall of 2005, plaintiffs engaged w&r, a civil and environmental consulting engineering firm, to assist them in developing the property as a townhouse project, designing the utility and storm water management system, and obtaining - 2 - lancaster v. harold k. jordan & co., inc. opinion of the court requisite governmental approvals. in november 2005, w&r prepared and delivered to plaintiffs and hkj a preliminary site layout for “village landing townhomes.” in february 2006, w&r petitioned the town of leland council for allocation of sanitary sewer capacity for 60 townhome residences and submitted a “commercial zoning compliance permit application” for the proposed use as townhomes. on 14 february 2006, plaintiffs and mr. jordan incorporated shady grove (“shady grove”) with the intention that shady grove would purchase the property and plaintiffs and mr. jordan would each own 50% interest. on 21 february 2006, hkj prepared and submitted to mrs. lancaster a “proposal for the construction of 60 condos.” plaintiffs allege that mrs. lancaster inquired of mr. zabriskie the use of the term “condos” and was informed that “the terms condominiums and townhomes were one and the same.” on 26 february 2006, shady grove and hkj executed a contract for “the new construction of 60 condos in leland, nc” and provided the contract to cooperative bank in order to receive financing. hkj had prepared the contract. once again, plaintiffs allege they asked mr. zabriskie about the term “condos” in the contract and mr. zabriskie informed mrs. lancaster that for purposes of the contract, “condos” and townhouses were the same. by the end of march 2006, plaintiffs and mr. jordan decided to abandon the idea of proceeding with the project in the name of shady grove and shady grove never conducted any business. thereafter, mrs. lancaster - 3 - lancaster v. harold k. jordan & co., inc. opinion of the court requested that mr. zabriskie prepare a new contract between hkj and village landing, but no such contract was ever prepared. during march and april of 2006, w&r, the town of leland, and the north carolina department of environmental and natural resources proceeded to obtain approvals for townhomes. plaintiff alleges that by april 2006, hkj was well aware that it was to build townhouses under the residential building code. on 8 may 2006, mr. cogswell “sealed” the final construction drawings for “grove landing” (“the project”) which indicated the building of townhouse units. plaintiffs, relying on the representations of hkj, were billed for and became personally liable for all of the substantial “soft costs” for the project. during a meeting with cooperative bank in may 2006 to discuss funding for the project, mr. zabriskie confirmed that the project was for the construction of townhomes. cooperative bank proposed to fund the project in phases, with the first loan from the bank to be in the amount of over $2 million. on 16 may 2006, cooperative bank issued commitment letters to fund the project, “conditioned specifically on the plaintiffs personally guaranteeing each loan.” based on defendants’ representations, plaintiffs accepted the commitment from cooperative bank and were induced to personally guarantee millions of dollars of debt of village landing for the development of the project. on 22 may 2006, plaintiffs personally guaranteed the debt to cooperative bank. - 4 - lancaster v. harold k. jordan & co., inc. opinion of the court plaintiffs further alleged as follows: in june and july of 2006, hkj provided the project plans to the town of leland for building permits to build townhouses. the town of leland’s building inspector informed hkj that the project plans prepared by mr. cogswell could not be permitted for construction under the residential building code because the project plans appeared to be for the construction of “apartments” or “condominiums.” the building inspector also informed hkj that the project had not been approved for the construction of townhomes and that the town of leland could issue only one building permit per building in which three units or apartments would be contained as opposed to three separate building permits which would be required for the construction of townhomes. hkj did not inform plaintiffs of the conversations it had with the building inspector nor of any deficiencies in mr. cogswell’s project plants. instead, hkj remained silent and began construction although they had a duty to notify plaintiffs, mr. cogswell, and w&r of the issues with the town of leland. during the course of construction, plaintiffs alleged mr. zabriskie informed mrs. lancaster that the townhouse units would be available in october or november 2006. in december 2006, hkj told plaintiffs that the town of leland would not issue certificates of occupancy for the units as townhomes but failed to inform plaintiffs that it had known since building permits were issued that the units could not be issued certificates of occupancy as townhomes. between december 2006 and march - 5 - lancaster v. harold k. jordan & co., inc. opinion of the court 2007, plaintiffs were informed by hkj that hkj continued to attempt to get certificates of occupancy for the units as townhouses. on 30 march 2007, the town of leland issued certificates of occupancy for the completed units as condominiums. plaintiffs alleged that had w&r submitted the project under the town of leland’s subdivision ordinance; had mr. cogswell prepared the project plans for the construction of townhomes under the residential building code; and, had hkj constructed the project as townhomes pursuant to the residential building code, the first twelve units of the project would have been sold and closed by march 2007. instead, village landing was unable to pay off much of its loan from cooperative bank and unable to generate a profit of approximately $350,000.00. in addition, cooperative bank would not fund the completion of the project because of the inability to sell the units. mrs. lancaster was forced to cash in her ira in order to obtain the money necessary to continue to fund the interest payments to cooperative bank. plaintiffs alleged that as a result of defendants’ negligence and fraudulent representations, plaintiffs suffered personal injury, separate and distinct from village landing to support plaintiffs’ personal liability to various lenders, including cooperative bank, and village landing did not have the assets, separate and distinct from village landing, to pay any of that liability. on 19 january 2010, hkj filed an answer to plaintiffs’ amended complaint and included counterclaims. hkj argued that an arbitration award in harold k. - 6 - lancaster v. harold k. jordan & co., inc. opinion of the court jordan v. village landing, llc and shady grove development, inc. (american arbitration association case no.: 31 110 y 00204 07) constituted a full and proper adjudication of all the purported rights of plaintiffs’ claims against mr. jordan, therefore, plaintiffs were barred by the arbitration award. hkj raised the following defenses: res judicata; abatement; collateral estoppel; illegality; waiver; contributory negligence; intervening acts and negligence; credit or set-off; impossibility; economic loss rule; real party and interest; estoppel; laches; release; assumption of risk; failure to mitigate damages; breach of implied warrant of plans and specifications; and, reservation of rights. hkj presented the following counterclaims: piercing the corporate veil; breach of contract; fraudulent conveyances; and, udtp. on 26 may 2011, plaintiffs filed notice of voluntary dismissal with prejudice as to its claims against mr. cogswell. on 2 may 2012, plaintiffs filed a notice of voluntary dismissal with prejudice as to its claims against w&r. the only defendant remaining was hkj. on 29 april 2013, hkj moved for summary judgment based upon res judicata and collateral estoppel. on 23 july 2014, the trial court entered an order granting summary judgment in favor of hkj. the trial court noted that earlier, in july 2007, hkj filed an action against shady grove and village landing alleging breach of the construction contract. shady grove and village landing filed an answer and counterclaim which sought to submit - 7 - lancaster v. harold k. jordan & co., inc. opinion of the court hkj’s claims against shady grove alone to arbitration based on an arbitration clause in the written contract between hkj and shady grove. hkj successfully moved to compel arbitration to all claims between hkj and village landing as well, based on a ruling by a trial court judge that the contract at issue was effectively assigned from shady grove to village landing. in a 19 november 2007 order by the trial court, hkj, shady grove, and village landing were ordered to “arbitrate all their pending claims in this action” including “all counterclaims of village landing” in the pending arbitration between hkj and shady grove. village landing’s arbitration counterclaims “were substantially similar if not substantively identical to the claims asserted in plaintiffs’ amended complaint in the instant action.” village landing alleged that hkj had “failed to construct townhouse units on the subject property[,]” causing village landing “great financial harm and damage.” the arbitration hearing took place in march 2008. plaintiffs were not named in their individual capacities as parties to the arbitration action, but were present and testified at the arbitration. plaintiffs, through village landing, called an additional 16 witnesses to testify. the arbitrator rendered his judgment in april 2008 and found that village landing’s counterclaims failed. in june 2008, a judgment confirming the arbitration award was entered in wake county superior court. village landing’s appeal of the trial court’s order compelling arbitration was dismissed by the north carolina court of appeals and a petition to the north carolina supreme court for writ of certiorari was denied. - 8 - lancaster v. harold k. jordan & co., inc. opinion of the court meanwhile, plaintiffs filed the current action in their individual capacities less than 20 days prior to the march 2008 arbitration hearing. in its summary judgment order in favor of hkj, the trial court concluded that plaintiffs are the same party as village landing for purposes of collateral estoppel, plaintiffs raised and litigated the same issues in the present case during the arbitration, and that the arbitrator’s final judgment actually determined the propriety of hkj’s conduct. based on the foregoing, the trial court concluded that plaintiffs were collaterally estopped “from relitigating the issue of whether hkj made negligent or intentional misrepresentations during the construction process” and that there was “no triable fact that would serve as a basis for liability against hkj.” on 3 july 2014, plaintiffs filed notice of appeal. ii. standard of review “our standard of review of an appeal from summary judgment is de novo; such judgment is appropriate only when the record shows that there is no genuine issue as to any material fact and that any party is entitled to a judgment as a matter of law.” peter v. vullo, __ n.c. app. __, __, 758 s.e.2d 431, 434 (2014) (citation omitted). “when considering a motion for summary judgment, the trial judge must view the presented evidence in a light most favorable to the nonmoving party.” sims v. graystone ophthalmology assocs., p.a., __ n.c. app. __, __, 757 s.e.2d 925, 926 (2014) (citation omitted). - 9 - lancaster v. harold k. jordan & co., inc. opinion of the court iii. discussion plaintiffs argue that the trial court erred by granting hkj’s motion for summary judgment based on the doctrine of collateral estoppel. specifically, plaintiffs argue that the trial court erred by relying on an exception recognized in thompson v. lassiter, 246 n.c. 34, 97 s.e.2d 492 (1957). plaintiffs also assert that the trial court’s summary judgment order deprived them of their constitutional right to a jury trial. after careful review, we find plaintiffs’ arguments unconvincing. “under the collateral estoppel doctrine, parties and parties in privity with them . . . are precluded from retrying fully litigated issues that were decided in any prior determination and were necessary to the prior determination.” turner v. hammocks beach corp., 363 n.c. 555, 558, 681 s.e.2d 770, 773 (2009) (citation and quotation marks omitted). “[collateral estoppel] is designed to prevent repetitious lawsuits overs matters which have once been decided and which have remained substantially static, factually and legally.” king v. grindstaff, 284 n.c. 348, 356, 200 s.e.2d 799, 805 (1973) (citation omitted). to successfully assert collateral estoppel as a bar to plaintiffs’ claims, defendant would need to show [(1)] that the earlier suit resulted in a final judgment on the merits, [(2)] that the issue in question was identical to an issue actually litigated and necessary to the judgment, and [(3)] that both [defendant] and [plaintiffs] were either parties to the earlier suit or were in privity with parties. - 10 - lancaster v. harold k. jordan & co., inc. opinion of the court turner, 363 n.c. at 558-59, 681 s.e.2d at 773-74 (citing thomas m. mcinnis & assocs. v. hall, 318 n.c. 421, 429, 349 s.e.2d 552, 557 (1986)). whether or not a person was a party to a prior suit must be determined as a matter of substance and not of mere form. the courts will look beyond the nominal party whose name appears on the record as plaintiff and consider the legal questions raised as they may affect the real party or parties in interest. king, 284 n.c. at 357, 200 s.e.2d at 806 (citations and quotation marks omitted). here, plaintiffs conceded before the trial court that the arbitration award was a final judgment on the merits as to claims against hkj, village landing, and shady grove. the trial court also held that there was an identity of issues: “at the very heart of plaintiffs’ claims against hkj in this matter is the allegation that hkj negligently or purposely misled plaintiffs in constructing ‘condominiums, rather than townhouses.’ this exact issue was extensively litigated during the arbitration.” the arbitration award “plainly spells out the arbitrator’s findings, in which he specifically absolved hkj of any responsibility on the issues underlying plaintiff’s claims here.” the trial court held that because village landing’s arbitration counterclaims “rested almost entirely on the underlying allegation that hkj either negligently or purposely misled plaintiffs and their llc[,] [d]etermining whether hkj was guilty of such misrepresentations was absolutely essential to the arbitration action’s ‘purpose’ and the rendering of the arbitration award.” the portion of the trial court’s order that plaintiffs now challenge is its holding as to the identity of parties: - 11 - lancaster v. harold k. jordan & co., inc. opinion of the court taken as a whole, the north carolina case law is inconclusive as to whether the facts in this matter unequivocally support a conclusion that plaintiffs in substance were parties to the arbitration action or were in privity with village landing. as such, this court declines to reach a conclusion on either proposition. instead, the court relies on the related “lassiter exception” because it most clearly resolves this issue. in lassiter, the plaintiff filed an action against the defendant to recover damages suffered by him after a collision between a car driven by the defendant and a car owned by the plaintiff, but being driven by the plaintiff’s minor son. lassiter, 246 n.c. at 35, 97 s.e.2d at 493. a few days prior to the institution of the plaintiff’s action, a third party instituted an action against the defendant. id. the third party was a passenger in a third automobile that collided with the defendant’s car after the collision between the plaintiff and the defendant’s car. id. at 35, 97 s.e.2d at 493-94. in the third party’s action, the defendant set up a cross-action against the plaintiff’s son and the driver of the third automobile, arguing that they were concurrently negligent with the defendant. the plaintiff was appointed as guardian ad litem for his son and filed an answer for and on behalf of his son, arguing that the negligence was solely on behalf of the defendant. id. at 36, 97 s.e.2d at 494. a jury found the defendant guilty of negligence and that the negligence of the plaintiff’s son and the driver of the third automobile concurred with the negligence of the defendant in causing the third party’s injuries. a judgment was entered in accordance with the jury’s verdict and the defendant was permitted to amend his answer to allege that - 12 - lancaster v. harold k. jordan & co., inc. opinion of the court the judgment in the third party’s case “as a plea in bar or res judicata 1 with respect to the present action.” id. at 36, 97 s.e.2d at 494. the trial court held that the prior action constituted a bar to the plaintiff’s present action. id. on appeal, the sole issue before the north carolina supreme court was as follows: does the fact that a father acted as guardian ad litem for his minor son in defending a cross-action against the son (who was driving a family purpose automobile owned by the father), in an action in which a passenger in a third automobile was the plaintiff, and the defendant in this action was also the original defendant in the former action, make the decision on the cross-action in the former litigation binding on the father in an action to recover in his individual capacity for medical expenses and loss of earnings and services of the son and damage to his automobile? id. the lassiter court noted that although “[o]rdinarily, the plea of res judicata may be sustained only when there is an identity of parties, of subject matter, and of issues[,]” there was a well-established exception to the general rule: a person who is not a party but who controls an action, individually or in cooperation with others, is bound by the adjudications of litigated matters as if he were a party if he has a proprietary interest or financial interest in the judgment or in the determination of a question of fact or a question of law with reference to the same subject matter, or 1 “the doctrines of res judicata and collateral estoppel are companion doctrines developed by the courts ‘for the dual purposes of protecting litigants from the burden of relitigating previously decided matters and promoting judicial economy by preventing needless litigation. . . . like res judicata, collateral estoppel only applies if the prior action involved the same parties or those in privity with the parties and the same issues.” cline v. mccullen, 148 n.c. app. 147, 149-50, 557 s.e.2d 588, 591(2001) (citations omitted). - 13 - lancaster v. harold k. jordan & co., inc. opinion of the court transactions; participation, the other party is equally bound. if the other party has notice of his id. at 39, 97 s.e.2d at 496 (citation omitted) (emphasis in original). “likewise, with respect to the rule ordinarily requiring identity of parties, . . . ‘[t]hese rules have been denied application, however, where a party to one action in his individual capacity and to another action in his representative capacity, is in each case asserting or protecting his individual rights.’ ” id. the lassiter court, affirming the trial court’s holding, reasoned that the plaintiff, acting as guardian ad litem for his son, took every action he could have taken as if he had been a defendant himself. the plaintiff exercised complete control over his son’s defense and in doing so, “he necessarily was defending the cross-action as much for his own protection as for that of his son.” id. at 40, 97 s.e.2d at 497. we will first consider plaintiffs’ “control” of the prior arbitration and the present action, “the threshold requirement of the exception to the rule requiring privity of identities.” williams v. peabody, 217 n.c. app. 1, 10, 719 s.e.2d 88, 95 (2011). the parties to the arbitration included hkj, village landing, and shady grove. it is undisputed that mr. and mrs. lancaster were the sole member-managers of village landing. at the arbitration hearing, village landing presented a total of 18 witnesses and plaintiffs themselves testified at the hearing. in the present action, mr. and mrs. lancaster are the plaintiffs. therefore, we hold that this is sufficient to satisfy the control element of the lassiter exception. - 14 - lancaster v. harold k. jordan & co., inc. opinion of the court the second requirement of the lassiter exception requires that plaintiffs have “a proprietary interest or financial interest in the judgment[.]” lassiter, 246 n.c. at 39, 97 s.e.2d at 496. as the trial court properly found, village landing set forth counterclaims in the arbitration action against hkj “for damages allegedly resulting from [hkj’s] construction of condominiums instead of townhomes, and defects in construction of the sewer system.” because plaintiffs were the sole member- managers of village landing, it necessarily follows that plaintiffs had a proprietary or financial interest in the outcome of the arbitration and any judgment affecting village landing. plaintiffs were equally concerned in defending village landing and advancing its counterclaims in the arbitration action as plaintiffs are concerned with advancing their claims in the present action. the third requirement of the lassiter exception is whether plaintiffs have an interest “in the determination of a question of fact or a question of law with reference to the same subject matter, or transactions[.]” id. in the present action, plaintiffs are bringing forth claims such as fraud and negligent misrepresentation against hkj for intentionally and negligently misleading plaintiffs by constructing condominiums instead of townhomes. in the arbitration action, plaintiffs, through village landing, alleged that hkj intentionally and negligently made false representations to village landing that the units being constructed were townhomes. we agree with the trial court that “[n]ot only did plaintiffs have an ‘interest’ in the arbitrator’s - 15 - lancaster v. harold k. jordan & co., inc. opinion of the court determination” of these issues, but that “it was central” to village landing’s case against hkj in the arbitration action, “as it is in their individual action here. as such, this element of the lassiter exception is plainly met.” the last requirement of the lassiter exception is that “if the other party has notice of his participation, the other party is equally bound.” id. under these circumstances, it is clear that plaintiffs had notice of the arbitration. based on the foregoing analysis, we hold that the trial court did not err by relying on the lassiter exception to the rule requiring an identity of parties. accordingly, an identity of parties existed between plaintiffs and village landing for purposes of the collateral estoppel doctrine and we affirm the trial court’s grant of summary judgment in favor of hkj. lastly, we note that our case law demonstrates that “summary judgment does not deprive [plaintiffs] of their right to a jury trial. the right to a jury trial accrues only when there is a genuine issue of fact to be decided at trial.” state ex rel. albright v. arellano, 165 n.c. app. 609, 618, 599 s.e.2d 415, 421 (2004). because we hold that the trial court did not err by granting summary judgment in favor of hkj, plaintiffs’ argument that they were deprived of the right to a jury trial necessarily fails. iv. conclusion - 16 - lancaster v. harold k. jordan & co., inc. opinion of the court the order of the trial court, granting summary judgment in favor of hkj, is affirmed. affirmed. judges stroud and inman concur. - 17 - '"
      ]
     },
     "execution_count": 58,
     "metadata": {},
     "output_type": "execute_result"
    }
   ],
   "source": [
    "df.Opinion[2374]"
   ]
  },
  {
   "cell_type": "markdown",
   "metadata": {},
   "source": [
    "# need to drop cases \"reverse ... denial\" -- maybe as a separate action "
   ]
  },
  {
   "cell_type": "code",
   "execution_count": 27,
   "metadata": {},
   "outputs": [
    {
     "data": {
      "text/plain": [
       "premises            524\n",
       "contract            455\n",
       "property            401\n",
       "car_crash           389\n",
       "landlord_tenant     355\n",
       "family_law          264\n",
       "governmental        154\n",
       "unfair_deceptive    137\n",
       "med_mal              94\n",
       "discrimination       91\n",
       "estates              79\n",
       "defamation           50\n",
       "wrongful_death       32\n",
       "construction         10\n",
       "Name: Case_Type, dtype: int64"
      ]
     },
     "execution_count": 27,
     "metadata": {},
     "output_type": "execute_result"
    }
   ],
   "source": [
    "df.Case_Type.value_counts()"
   ]
  },
  {
   "cell_type": "markdown",
   "metadata": {},
   "source": [
    "# DO THE BELOW CELL FOR CONSTRUCTION (SEEMS LOW) AND REVIEW ~20 FOR EACH"
   ]
  },
  {
   "cell_type": "code",
   "execution_count": 39,
   "metadata": {},
   "outputs": [
    {
     "name": "stdout",
     "output_type": "stream",
     "text": [
      "36 : 2\n",
      "431 : 1\n",
      "499 : 1\n",
      "677 : 1\n",
      "828 : 2\n",
      "862 : 3\n",
      "1215 : 1\n",
      "1395 : 1\n",
      "1613 : 1\n",
      "1727 : 1\n",
      "1817 : 1\n",
      "1889 : 3\n",
      "1979 : 2\n",
      "2233 : 1\n",
      "2381 : 2\n",
      "2639 : 1\n",
      "3005 : 2\n",
      "3033 : 2\n"
     ]
    },
    {
     "data": {
      "text/plain": [
       "1"
      ]
     },
     "execution_count": 39,
     "metadata": {},
     "output_type": "execute_result"
    }
   ],
   "source": [
    "total = 0\n",
    "for i in range(len(df)):\n",
    "    if df.Opinion[i].count('water intrusion') >= 1:\n",
    "        total =+ 1\n",
    "        print(df.index[i],':',df.Opinion[i].count('water intrusion'))\n",
    "total\n",
    "# Why are dram shop so low if there are only 6 in the DF -- or does it really matter?"
   ]
  },
  {
   "cell_type": "code",
   "execution_count": null,
   "metadata": {},
   "outputs": [],
   "source": []
  },
  {
   "cell_type": "markdown",
   "metadata": {},
   "source": [
    "## 4. Check Cases With a Reversal of a Denial"
   ]
  },
  {
   "cell_type": "code",
   "execution_count": null,
   "metadata": {},
   "outputs": [],
   "source": []
  },
  {
   "cell_type": "code",
   "execution_count": null,
   "metadata": {},
   "outputs": [],
   "source": []
  },
  {
   "cell_type": "markdown",
   "metadata": {},
   "source": [
    "## 5.  Extract Feature: Trial-Court Judge"
   ]
  },
  {
   "cell_type": "code",
   "execution_count": null,
   "metadata": {},
   "outputs": [],
   "source": []
  },
  {
   "cell_type": "code",
   "execution_count": null,
   "metadata": {},
   "outputs": [],
   "source": []
  },
  {
   "cell_type": "markdown",
   "metadata": {},
   "source": [
    "## 6. Extract Feature: County"
   ]
  },
  {
   "cell_type": "code",
   "execution_count": null,
   "metadata": {},
   "outputs": [],
   "source": []
  },
  {
   "cell_type": "code",
   "execution_count": null,
   "metadata": {},
   "outputs": [],
   "source": []
  },
  {
   "cell_type": "code",
   "execution_count": null,
   "metadata": {},
   "outputs": [],
   "source": []
  }
 ],
 "metadata": {
  "kernelspec": {
   "display_name": "Python 3",
   "language": "python",
   "name": "python3"
  },
  "language_info": {
   "codemirror_mode": {
    "name": "ipython",
    "version": 3
   },
   "file_extension": ".py",
   "mimetype": "text/x-python",
   "name": "python",
   "nbconvert_exporter": "python",
   "pygments_lexer": "ipython3",
   "version": "3.6.9"
  }
 },
 "nbformat": 4,
 "nbformat_minor": 2
}
