{
 "cells": [
  {
   "cell_type": "markdown",
   "metadata": {},
   "source": [
    "# Label and Feature Creation\n",
    "In this notebook, I will import the single-column DataFrame of appellate opinions and create columns with labels and features. \n",
    "## Contents:\n",
    "<ul>\n",
    "<li>0. Import Libraries \n",
    "<li>1. Clean up opinions \n",
    "<ul><li>A. Remove page numbers from opinions\n",
    "    <li>B. Remove Supreme Court case\n",
    "    <li>C. Drop Dissents \n",
    "    </ul>\n",
    "<li>2. Add file numbers \n",
    "<li>3. Create Labels section \n",
    "<ul><li>A. Create function and apply to DataFrame \n",
    "<li>B. Clean up, combine, and drop columns\n",
    "    <li>C. Address reversing-denials or affirming-denials </ul>\n",
    "<li>4. Create case-type column \n",
    "<li>5. Extract Trial Court Judge \n",
    "<li>6. Extract County \n",
    "<li>7. Export DataFrame with Features\n",
    "<li>8. EDA Visualizations - TBD\n",
    "</ul>\n",
    "\n",
    "Dataset Reduction:<br>\n",
    "1052 rows dropped for not fitting the affirmed/reversed criteria (errors, affirmed in part, appeals dismissed, etc.)<br>\n",
    "38 rows dropped for not conforming to a reasonable case type or being too short to have a reasonable effect.<br>\n",
    "84 rows dropped from the Supreme Court, reviewing underlying decisions (lacking the features of court of appeals cases)<br>\n",
    "49 rows dropped from the trial_judge extraction function which were either administrative or multiple orders.<br>\n",
    "08 rows dropped from the county extraction section <br>\n"
   ]
  },
  {
   "cell_type": "markdown",
   "metadata": {},
   "source": [
    "## 0. Import Libraries and DataFrame"
   ]
  },
  {
   "cell_type": "code",
   "execution_count": 1,
   "metadata": {},
   "outputs": [],
   "source": [
    "import io\n",
    "import re\n",
    "import pandas as pd\n",
    "import pickle\n",
    "import operator\n",
    "\n",
    "# import nltk\n",
    "# nltk.download('stopwords')\n",
    "# nltk.download('wordnet')\n",
    "# nltk.download('punkt')\n",
    "# from nltk.corpus import stopwords\n",
    "# from nltk import word_tokenize\n",
    "# from nltk.stem.wordnet import WordNetLemmatizer\n",
    "# from sklearn.feature_extraction.text import CountVectorizer\n",
    "# from sklearn.model_selection import train_test_split\n",
    "# from sklearn.naive_bayes import GaussianNB\n",
    "# from sklearn.metrics import classification_report\n",
    "\n",
    "import matplotlib.pyplot as plt\n",
    "%matplotlib inline\n",
    "import seaborn as sns\n",
    "\n",
    "pd.set_option('display.max_rows', 300)\n",
    "pd.set_option('display.max_columns', 100)\n",
    "pd.set_option('display.width', 100)\n"
   ]
  },
  {
   "cell_type": "code",
   "execution_count": 2,
   "metadata": {},
   "outputs": [],
   "source": [
    "# Open the dataframe\n",
    "infile = open('ProjectData/df_clean.data', 'rb')\n",
    "df = pickle.load(infile)\n",
    "infile.close()"
   ]
  },
  {
   "cell_type": "code",
   "execution_count": 3,
   "metadata": {},
   "outputs": [],
   "source": [
    "df.reset_index(inplace=True, drop=True)"
   ]
  },
  {
   "cell_type": "code",
   "execution_count": 4,
   "metadata": {},
   "outputs": [
    {
     "name": "stdout",
     "output_type": "stream",
     "text": [
      "<class 'pandas.core.frame.DataFrame'>\n",
      "RangeIndex: 3922 entries, 0 to 3921\n",
      "Data columns (total 1 columns):\n",
      "Opinion    3922 non-null object\n",
      "dtypes: object(1)\n",
      "memory usage: 30.8+ KB\n"
     ]
    },
    {
     "data": {
      "text/plain": [
       "(None,                                              Opinion\n",
       " 0   an unpublished opinion of the north carolina ...\n",
       " 1  no. coa11-246 north carolina court of appeals ...\n",
       " 2  no. coa08-347 north carolina court of appeals ...\n",
       " 3  michael harrison gregory and wife, vivian greg...\n",
       " 4  atlantic contracting and material company, inc...)"
      ]
     },
     "execution_count": 4,
     "metadata": {},
     "output_type": "execute_result"
    }
   ],
   "source": [
    "df.info(), df.head()"
   ]
  },
  {
   "cell_type": "markdown",
   "metadata": {},
   "source": [
    "## 1. Remove Page Numbers & Supreme Court Cases\n",
    "\n",
    "### A. Remove Page Numbers\n",
    "Page numbers (-1-) appear throughout the corpus and complicated some of the following functions.  Accordingly, they're removed here. "
   ]
  },
  {
   "cell_type": "code",
   "execution_count": 5,
   "metadata": {},
   "outputs": [],
   "source": [
    "def remove_page_nums(string_):\n",
    "    \"\"\"\n",
    "    A function to remove page numbers from a given string\n",
    "    Page numbers must be the format \"-##-\"\n",
    "    \"\"\"\n",
    "    new_string = re.sub(\" -\\d+- \", \" \", string_)\n",
    "    return(new_string)"
   ]
  },
  {
   "cell_type": "code",
   "execution_count": 6,
   "metadata": {},
   "outputs": [],
   "source": [
    "no_page_list = []\n",
    "for i in range(len(df.Opinion)):\n",
    "    x = remove_page_nums(df.Opinion[i])\n",
    "    no_page_list.append(x)\n",
    "    \n",
    "df[\"Opinion\"] = pd.Series(no_page_list).values"
   ]
  },
  {
   "cell_type": "code",
   "execution_count": 7,
   "metadata": {},
   "outputs": [
    {
     "data": {
      "text/html": [
       "<div>\n",
       "<style scoped>\n",
       "    .dataframe tbody tr th:only-of-type {\n",
       "        vertical-align: middle;\n",
       "    }\n",
       "\n",
       "    .dataframe tbody tr th {\n",
       "        vertical-align: top;\n",
       "    }\n",
       "\n",
       "    .dataframe thead th {\n",
       "        text-align: right;\n",
       "    }\n",
       "</style>\n",
       "<table border=\"1\" class=\"dataframe\">\n",
       "  <thead>\n",
       "    <tr style=\"text-align: right;\">\n",
       "      <th></th>\n",
       "      <th>Opinion</th>\n",
       "    </tr>\n",
       "  </thead>\n",
       "  <tbody>\n",
       "    <tr>\n",
       "      <td>0</td>\n",
       "      <td>an unpublished opinion of the north carolina ...</td>\n",
       "    </tr>\n",
       "    <tr>\n",
       "      <td>1</td>\n",
       "      <td>no. coa11-246 north carolina court of appeals ...</td>\n",
       "    </tr>\n",
       "    <tr>\n",
       "      <td>2</td>\n",
       "      <td>no. coa08-347 north carolina court of appeals ...</td>\n",
       "    </tr>\n",
       "    <tr>\n",
       "      <td>3</td>\n",
       "      <td>michael harrison gregory and wife, vivian greg...</td>\n",
       "    </tr>\n",
       "    <tr>\n",
       "      <td>4</td>\n",
       "      <td>atlantic contracting and material company, inc...</td>\n",
       "    </tr>\n",
       "  </tbody>\n",
       "</table>\n",
       "</div>"
      ],
      "text/plain": [
       "                                             Opinion\n",
       "0   an unpublished opinion of the north carolina ...\n",
       "1  no. coa11-246 north carolina court of appeals ...\n",
       "2  no. coa08-347 north carolina court of appeals ...\n",
       "3  michael harrison gregory and wife, vivian greg...\n",
       "4  atlantic contracting and material company, inc..."
      ]
     },
     "execution_count": 7,
     "metadata": {},
     "output_type": "execute_result"
    }
   ],
   "source": [
    "df.head()"
   ]
  },
  {
   "cell_type": "markdown",
   "metadata": {},
   "source": [
    "### Fix Irish Names (O'xxx)"
   ]
  },
  {
   "cell_type": "code",
   "execution_count": 8,
   "metadata": {},
   "outputs": [],
   "source": [
    "def lose_the_apostrophe(string_):\n",
    "    \"\"\"\n",
    "    A function to remove apostrophes from Irish names; \n",
    "    The majority of the tokenization will be performed\n",
    "    on the following dataframe.\n",
    "    \"\"\"\n",
    "    new_string = re.sub(\" o’|o'\", \" o\", string_)\n",
    "    \n",
    "    return(new_string)"
   ]
  },
  {
   "cell_type": "code",
   "execution_count": 9,
   "metadata": {},
   "outputs": [],
   "source": [
    "no_apostrophes = []\n",
    "for i in range(len(df.Opinion)):\n",
    "    x = lose_the_apostrophe(df.Opinion[i])\n",
    "    no_apostrophes.append(x)\n",
    "    \n",
    "df[\"Opinion\"] = pd.Series(no_apostrophes).values"
   ]
  },
  {
   "cell_type": "markdown",
   "metadata": {},
   "source": [
    "### B. Remove Supreme Court Cases (that review Court of Appeals cases)\n",
    "These cases review the Court of Appeals' decisions; they don't typically include features the same way that the Court of Appeals does, and their rulings are usually affecting the Court of Appeals (which may be the opposite of the underlying case). Accordingly, they should be dropped for this project. "
   ]
  },
  {
   "cell_type": "code",
   "execution_count": 10,
   "metadata": {},
   "outputs": [],
   "source": [
    "df['SCT'] = 0"
   ]
  },
  {
   "cell_type": "code",
   "execution_count": 11,
   "metadata": {},
   "outputs": [],
   "source": [
    "# capture file number into new column\n",
    "def drop_SCT(string_):\n",
    "    sct_yes = re.search(\"in the supreme court of north carolina\",string_[:50])\n",
    "    if sct_yes == None:\n",
    "        return(0)\n",
    "    else:\n",
    "        return(1)"
   ]
  },
  {
   "cell_type": "code",
   "execution_count": 12,
   "metadata": {},
   "outputs": [
    {
     "data": {
      "text/plain": [
       "84"
      ]
     },
     "execution_count": 12,
     "metadata": {},
     "output_type": "execute_result"
    }
   ],
   "source": [
    "df['SCT'] = df.Opinion.map(lambda x: drop_SCT(x))\n",
    "len(df.loc[df['SCT'] == 1])"
   ]
  },
  {
   "cell_type": "code",
   "execution_count": 13,
   "metadata": {},
   "outputs": [],
   "source": [
    "# drop supreme court cases\n",
    "df.drop(list(df.loc[df['SCT'] == 1].index), inplace=True)\n",
    "df.reset_index(inplace=True, drop=True)"
   ]
  },
  {
   "cell_type": "markdown",
   "metadata": {},
   "source": [
    "### C. Trim Dissents, Because They are Not Relevant to the Function\n",
    "\n",
    "#Dissents follow the opinion, when one of the three appellate judges doesn't agree; they may trigger further appeal, but they are not law, and may skew results, so they should be dropped. \n",
    "\n",
    "#### Exploration of opinions containing the phrase \"dissenting\""
   ]
  },
  {
   "cell_type": "code",
   "execution_count": 14,
   "metadata": {},
   "outputs": [],
   "source": [
    "dissents = df.loc[df['Opinion'].str.contains(\"dissenting\")]"
   ]
  },
  {
   "cell_type": "code",
   "execution_count": 15,
   "metadata": {},
   "outputs": [
    {
     "data": {
      "text/html": [
       "<div>\n",
       "<style scoped>\n",
       "    .dataframe tbody tr th:only-of-type {\n",
       "        vertical-align: middle;\n",
       "    }\n",
       "\n",
       "    .dataframe tbody tr th {\n",
       "        vertical-align: top;\n",
       "    }\n",
       "\n",
       "    .dataframe thead th {\n",
       "        text-align: right;\n",
       "    }\n",
       "</style>\n",
       "<table border=\"1\" class=\"dataframe\">\n",
       "  <thead>\n",
       "    <tr style=\"text-align: right;\">\n",
       "      <th></th>\n",
       "      <th>Opinion</th>\n",
       "      <th>SCT</th>\n",
       "    </tr>\n",
       "  </thead>\n",
       "  <tbody>\n",
       "    <tr>\n",
       "      <td>13</td>\n",
       "      <td>energy investors fund, l.p., inc., kvaerner as...</td>\n",
       "      <td>0</td>\n",
       "    </tr>\n",
       "    <tr>\n",
       "      <td>22</td>\n",
       "      <td>in the court of appeals of north carolina no....</td>\n",
       "      <td>0</td>\n",
       "    </tr>\n",
       "    <tr>\n",
       "      <td>27</td>\n",
       "      <td>cecelia l. ford, administrator of the estate o...</td>\n",
       "      <td>0</td>\n",
       "    </tr>\n",
       "    <tr>\n",
       "      <td>35</td>\n",
       "      <td>carolina place joint venture, plaintiff-appell...</td>\n",
       "      <td>0</td>\n",
       "    </tr>\n",
       "    <tr>\n",
       "      <td>45</td>\n",
       "      <td>christian emerson dysart and mildred maxwell d...</td>\n",
       "      <td>0</td>\n",
       "    </tr>\n",
       "  </tbody>\n",
       "</table>\n",
       "</div>"
      ],
      "text/plain": [
       "                                              Opinion  SCT\n",
       "13  energy investors fund, l.p., inc., kvaerner as...    0\n",
       "22   in the court of appeals of north carolina no....    0\n",
       "27  cecelia l. ford, administrator of the estate o...    0\n",
       "35  carolina place joint venture, plaintiff-appell...    0\n",
       "45  christian emerson dysart and mildred maxwell d...    0"
      ]
     },
     "execution_count": 15,
     "metadata": {},
     "output_type": "execute_result"
    }
   ],
   "source": [
    "dissents.head()"
   ]
  },
  {
   "cell_type": "markdown",
   "metadata": {},
   "source": [
    "Review example opinions containing the word \"dissent\" to see which need to be dropped:</p>\n",
    "Verbiage: (Y=actual dissent N=not a dissent)<br>\n",
    "Y judge horton dissenting<br>\n",
    "Y judge wynn dissents. ... wynn, judge, dissenting.<br>\n",
    "Y tyson, judge dissenting.<br>\n",
    "Y judge tyson concurs in part, dissents in part.<br>\n",
    "Y calabria, judge, dissenting. // therefore, i respectfully dissent.<br>\n",
    "Y justice martin dissenting. -- Conflicts w below -- maybe eliminate first 2000 chars? <br>\n",
    "Y === wynn, judge dissenting.<br>\n",
    "Y - elmore, judge, dissenting.<br>\n",
    "Y. martin, chief judge, concurring in part, dissenting in part. - But later<br>\n",
    "Y = campbell, judge, dissenting. i respectfully dissent <br>\n",
    "Y == thomas, judge, dissenting.<br>\n",
    "Y judge dillon dissents in a separate opinion. - 12,600 chars into 17,000 char opi<br>\n",
    "<br>\n",
    "N piazza v. kirkbride tyson, j., concurring in part, dissenting in part.<br>\n",
    "N souter, j., dissenting (cit<br>\n",
    "N r. justice martin dissenting. justice brady dissenting. a -- too early  (913 chars in, 80,000 char opinion)<br>\n",
    "N (greene, j. dissenting) - case citation<br>\n",
    "N . judge elmore dissenting. -- too early, 2400 chars in to 28,000 char opinion<br>\n",
    "N m. chief judge martin concurring in part and dissenting in part. - 2731 chars into 29,000 char opinion<br>\n",
    "N (hudson, j., dissenting) <br>\n",
    "N   1715 chars into 23,000 char opinion<br>\n",
    "------ never the (j., dissenting)<br>\n",
    "<br>\n",
    "Pseudocode:<br>\n",
    "IF ends with \"judges /2 and /2 concur.\" (not concurs) - there isn't a dissent (one of the two would be dissenting). <br>\n",
    "ELSE if after the first 3,000 chars, of the opinion:<br>\n",
    "    judge /4 (dissent*)<br>\n",
    "    \n",
    "#### Trimming-Dissents Function Creation and Revision\n",
    "Created the below function following the preceding review; ran the function and reviewed the trimmed opinions for correctness (i.e., was something more or less than a dissent trimmed from the opinion).  The function was updated to put (judge|justice) in parens and to make the verb \"dissents\" instead of the noun \"dissent\", which was pulling references to other dissents. \n"
   ]
  },
  {
   "cell_type": "code",
   "execution_count": 16,
   "metadata": {},
   "outputs": [],
   "source": [
    "def trim_dissents(opinion):\n",
    "    global trimmed_dissents\n",
    "    if re.search(\"(dissent)\", opinion):\n",
    "        if re.search(\"judges\\W+(?:\\w+\\W+){0,5}?concur\\b\", opinion):\n",
    "            return()  \n",
    "        else:\n",
    "            try:\n",
    "                y = re.search(\"(?:(judge|justice)\\W+(?:\\w+\\W+){0,6}?dissents)\", opinion[3000:])\n",
    "                cut_off_point = y.start()\n",
    "                opinion2 = opinion[:(cut_off_point+3000)]\n",
    "                trimmed_dissents += 1\n",
    "                return(opinion2)\n",
    "            except:\n",
    "                return(opinion)\n",
    "    else:\n",
    "        return(opinion)"
   ]
  },
  {
   "cell_type": "code",
   "execution_count": 17,
   "metadata": {},
   "outputs": [],
   "source": [
    "# Drop dissents\n",
    "trimmed_dissents = 0\n",
    "new_opinions = []\n",
    "for i in range(len(df.Opinion)):\n",
    "    x = trim_dissents(df.Opinion[i])\n",
    "    new_opinions.append(x)\n",
    "    \n",
    "# Replate opinions with trimmed opinions\n",
    "df[\"Opinion\"] = pd.Series(new_opinions).values"
   ]
  },
  {
   "cell_type": "markdown",
   "metadata": {},
   "source": [
    "## 2. Creating New Columns for the File Numbers and Years\n",
    "The file numbers should have no predictive value; this section is more for EDA/visualizations than practical."
   ]
  },
  {
   "cell_type": "code",
   "execution_count": 18,
   "metadata": {},
   "outputs": [],
   "source": [
    "# capture file number into new column\n",
    "def yr_filed(string_):\n",
    "    try:\n",
    "        year_filed = re.search(\"filed:? ?\\d+ ?\\D+ (\\d+)\",string_)\n",
    "        return year_filed.group(1)\n",
    "    except:\n",
    "        return(0)"
   ]
  },
  {
   "cell_type": "code",
   "execution_count": 19,
   "metadata": {},
   "outputs": [],
   "source": [
    "years = []\n",
    "for i in range(len(df)):\n",
    "    x = yr_filed(df.Opinion[i])\n",
    "    years.append(x)\n",
    "\n",
    "df[\"Year_Filed\"] = pd.Series(years).values.astype(int)"
   ]
  },
  {
   "cell_type": "code",
   "execution_count": 20,
   "metadata": {
    "scrolled": true
   },
   "outputs": [
    {
     "data": {
      "text/html": [
       "<div>\n",
       "<style scoped>\n",
       "    .dataframe tbody tr th:only-of-type {\n",
       "        vertical-align: middle;\n",
       "    }\n",
       "\n",
       "    .dataframe tbody tr th {\n",
       "        vertical-align: top;\n",
       "    }\n",
       "\n",
       "    .dataframe thead th {\n",
       "        text-align: right;\n",
       "    }\n",
       "</style>\n",
       "<table border=\"1\" class=\"dataframe\">\n",
       "  <thead>\n",
       "    <tr style=\"text-align: right;\">\n",
       "      <th></th>\n",
       "      <th>SCT</th>\n",
       "      <th>Year_Filed</th>\n",
       "    </tr>\n",
       "  </thead>\n",
       "  <tbody>\n",
       "    <tr>\n",
       "      <td>count</td>\n",
       "      <td>3838.0</td>\n",
       "      <td>3838.000000</td>\n",
       "    </tr>\n",
       "    <tr>\n",
       "      <td>mean</td>\n",
       "      <td>0.0</td>\n",
       "      <td>2006.852006</td>\n",
       "    </tr>\n",
       "    <tr>\n",
       "      <td>std</td>\n",
       "      <td>0.0</td>\n",
       "      <td>55.212325</td>\n",
       "    </tr>\n",
       "    <tr>\n",
       "      <td>min</td>\n",
       "      <td>0.0</td>\n",
       "      <td>0.000000</td>\n",
       "    </tr>\n",
       "    <tr>\n",
       "      <td>25%</td>\n",
       "      <td>0.0</td>\n",
       "      <td>2004.000000</td>\n",
       "    </tr>\n",
       "    <tr>\n",
       "      <td>50%</td>\n",
       "      <td>0.0</td>\n",
       "      <td>2008.000000</td>\n",
       "    </tr>\n",
       "    <tr>\n",
       "      <td>75%</td>\n",
       "      <td>0.0</td>\n",
       "      <td>2013.000000</td>\n",
       "    </tr>\n",
       "    <tr>\n",
       "      <td>max</td>\n",
       "      <td>0.0</td>\n",
       "      <td>2020.000000</td>\n",
       "    </tr>\n",
       "  </tbody>\n",
       "</table>\n",
       "</div>"
      ],
      "text/plain": [
       "          SCT   Year_Filed\n",
       "count  3838.0  3838.000000\n",
       "mean      0.0  2006.852006\n",
       "std       0.0    55.212325\n",
       "min       0.0     0.000000\n",
       "25%       0.0  2004.000000\n",
       "50%       0.0  2008.000000\n",
       "75%       0.0  2013.000000\n",
       "max       0.0  2020.000000"
      ]
     },
     "execution_count": 20,
     "metadata": {},
     "output_type": "execute_result"
    }
   ],
   "source": [
    "df.describe()"
   ]
  },
  {
   "cell_type": "code",
   "execution_count": 21,
   "metadata": {},
   "outputs": [
    {
     "data": {
      "text/html": [
       "<div>\n",
       "<style scoped>\n",
       "    .dataframe tbody tr th:only-of-type {\n",
       "        vertical-align: middle;\n",
       "    }\n",
       "\n",
       "    .dataframe tbody tr th {\n",
       "        vertical-align: top;\n",
       "    }\n",
       "\n",
       "    .dataframe thead th {\n",
       "        text-align: right;\n",
       "    }\n",
       "</style>\n",
       "<table border=\"1\" class=\"dataframe\">\n",
       "  <thead>\n",
       "    <tr style=\"text-align: right;\">\n",
       "      <th></th>\n",
       "      <th>Opinion</th>\n",
       "      <th>SCT</th>\n",
       "      <th>Year_Filed</th>\n",
       "    </tr>\n",
       "  </thead>\n",
       "  <tbody>\n",
       "    <tr>\n",
       "      <td>55</td>\n",
       "      <td>parkwood association, plaintiff v. capital hea...</td>\n",
       "      <td>0</td>\n",
       "      <td>1532</td>\n",
       "    </tr>\n",
       "    <tr>\n",
       "      <td>56</td>\n",
       "      <td>franklin r. dewitt v. eveready battery co., in...</td>\n",
       "      <td>0</td>\n",
       "      <td>0</td>\n",
       "    </tr>\n",
       "    <tr>\n",
       "      <td>585</td>\n",
       "      <td>luther lee key, plaintiff v. barbara m. burche...</td>\n",
       "      <td>0</td>\n",
       "      <td>199</td>\n",
       "    </tr>\n",
       "    <tr>\n",
       "      <td>3380</td>\n",
       "      <td>correction: 6/10/99 - please add to attorney l...</td>\n",
       "      <td>0</td>\n",
       "      <td>0</td>\n",
       "    </tr>\n",
       "  </tbody>\n",
       "</table>\n",
       "</div>"
      ],
      "text/plain": [
       "                                                Opinion  SCT  Year_Filed\n",
       "55    parkwood association, plaintiff v. capital hea...    0        1532\n",
       "56    franklin r. dewitt v. eveready battery co., in...    0           0\n",
       "585   luther lee key, plaintiff v. barbara m. burche...    0         199\n",
       "3380  correction: 6/10/99 - please add to attorney l...    0           0"
      ]
     },
     "execution_count": 21,
     "metadata": {},
     "output_type": "execute_result"
    }
   ],
   "source": [
    "df.loc[df.Year_Filed < 1990]"
   ]
  },
  {
   "cell_type": "code",
   "execution_count": 22,
   "metadata": {},
   "outputs": [],
   "source": [
    "# Handling errors in the data manually\n",
    "df.Year_Filed.replace([0,199,1532], 1999, inplace=True)"
   ]
  },
  {
   "cell_type": "code",
   "execution_count": 23,
   "metadata": {},
   "outputs": [
    {
     "data": {
      "text/html": [
       "<div>\n",
       "<style scoped>\n",
       "    .dataframe tbody tr th:only-of-type {\n",
       "        vertical-align: middle;\n",
       "    }\n",
       "\n",
       "    .dataframe tbody tr th {\n",
       "        vertical-align: top;\n",
       "    }\n",
       "\n",
       "    .dataframe thead th {\n",
       "        text-align: right;\n",
       "    }\n",
       "</style>\n",
       "<table border=\"1\" class=\"dataframe\">\n",
       "  <thead>\n",
       "    <tr style=\"text-align: right;\">\n",
       "      <th></th>\n",
       "      <th>SCT</th>\n",
       "      <th>Year_Filed</th>\n",
       "    </tr>\n",
       "  </thead>\n",
       "  <tbody>\n",
       "    <tr>\n",
       "      <td>count</td>\n",
       "      <td>3838.0</td>\n",
       "      <td>3838.000000</td>\n",
       "    </tr>\n",
       "    <tr>\n",
       "      <td>mean</td>\n",
       "      <td>0.0</td>\n",
       "      <td>2008.484367</td>\n",
       "    </tr>\n",
       "    <tr>\n",
       "      <td>std</td>\n",
       "      <td>0.0</td>\n",
       "      <td>5.997362</td>\n",
       "    </tr>\n",
       "    <tr>\n",
       "      <td>min</td>\n",
       "      <td>0.0</td>\n",
       "      <td>1998.000000</td>\n",
       "    </tr>\n",
       "    <tr>\n",
       "      <td>25%</td>\n",
       "      <td>0.0</td>\n",
       "      <td>2004.000000</td>\n",
       "    </tr>\n",
       "    <tr>\n",
       "      <td>50%</td>\n",
       "      <td>0.0</td>\n",
       "      <td>2008.000000</td>\n",
       "    </tr>\n",
       "    <tr>\n",
       "      <td>75%</td>\n",
       "      <td>0.0</td>\n",
       "      <td>2013.000000</td>\n",
       "    </tr>\n",
       "    <tr>\n",
       "      <td>max</td>\n",
       "      <td>0.0</td>\n",
       "      <td>2020.000000</td>\n",
       "    </tr>\n",
       "  </tbody>\n",
       "</table>\n",
       "</div>"
      ],
      "text/plain": [
       "          SCT   Year_Filed\n",
       "count  3838.0  3838.000000\n",
       "mean      0.0  2008.484367\n",
       "std       0.0     5.997362\n",
       "min       0.0  1998.000000\n",
       "25%       0.0  2004.000000\n",
       "50%       0.0  2008.000000\n",
       "75%       0.0  2013.000000\n",
       "max       0.0  2020.000000"
      ]
     },
     "execution_count": 23,
     "metadata": {},
     "output_type": "execute_result"
    }
   ],
   "source": [
    "df.describe()"
   ]
  },
  {
   "cell_type": "code",
   "execution_count": 24,
   "metadata": {},
   "outputs": [],
   "source": [
    "# capture file number into new column\n",
    "def coa(string_):\n",
    "    try:\n",
    "        pat_coa_number = re.search(\"no.? ?coa.? ?(\\d{2}-\\d{1,5})\",string_)\n",
    "        return pat_coa_number.group(1)\n",
    "    except:\n",
    "        return('00-000')"
   ]
  },
  {
   "cell_type": "code",
   "execution_count": 25,
   "metadata": {},
   "outputs": [],
   "source": [
    "coa_numbers = []\n",
    "for i in range(len(df)):\n",
    "    x = coa(df.Opinion[i])\n",
    "    coa_numbers.append(x)\n",
    "\n",
    "df[\"File_Numbers\"] = pd.Series(coa_numbers).values"
   ]
  },
  {
   "cell_type": "code",
   "execution_count": 26,
   "metadata": {},
   "outputs": [
    {
     "data": {
      "text/html": [
       "<div>\n",
       "<style scoped>\n",
       "    .dataframe tbody tr th:only-of-type {\n",
       "        vertical-align: middle;\n",
       "    }\n",
       "\n",
       "    .dataframe tbody tr th {\n",
       "        vertical-align: top;\n",
       "    }\n",
       "\n",
       "    .dataframe thead th {\n",
       "        text-align: right;\n",
       "    }\n",
       "</style>\n",
       "<table border=\"1\" class=\"dataframe\">\n",
       "  <thead>\n",
       "    <tr style=\"text-align: right;\">\n",
       "      <th></th>\n",
       "      <th>Opinion</th>\n",
       "      <th>SCT</th>\n",
       "      <th>Year_Filed</th>\n",
       "      <th>File_Numbers</th>\n",
       "    </tr>\n",
       "  </thead>\n",
       "  <tbody>\n",
       "    <tr>\n",
       "      <td>0</td>\n",
       "      <td>an unpublished opinion of the north carolina ...</td>\n",
       "      <td>0</td>\n",
       "      <td>2020</td>\n",
       "      <td>19-563</td>\n",
       "    </tr>\n",
       "    <tr>\n",
       "      <td>1</td>\n",
       "      <td>no. coa11-246 north carolina court of appeals ...</td>\n",
       "      <td>0</td>\n",
       "      <td>2012</td>\n",
       "      <td>11-246</td>\n",
       "    </tr>\n",
       "    <tr>\n",
       "      <td>2</td>\n",
       "      <td>no. coa08-347 north carolina court of appeals ...</td>\n",
       "      <td>0</td>\n",
       "      <td>2009</td>\n",
       "      <td>08-347</td>\n",
       "    </tr>\n",
       "    <tr>\n",
       "      <td>3</td>\n",
       "      <td>michael harrison gregory and wife, vivian greg...</td>\n",
       "      <td>0</td>\n",
       "      <td>2006</td>\n",
       "      <td>05-885</td>\n",
       "    </tr>\n",
       "    <tr>\n",
       "      <td>4</td>\n",
       "      <td>atlantic contracting and material company, inc...</td>\n",
       "      <td>0</td>\n",
       "      <td>2003</td>\n",
       "      <td>02-1087</td>\n",
       "    </tr>\n",
       "  </tbody>\n",
       "</table>\n",
       "</div>"
      ],
      "text/plain": [
       "                                             Opinion  SCT  Year_Filed File_Numbers\n",
       "0   an unpublished opinion of the north carolina ...    0        2020       19-563\n",
       "1  no. coa11-246 north carolina court of appeals ...    0        2012       11-246\n",
       "2  no. coa08-347 north carolina court of appeals ...    0        2009       08-347\n",
       "3  michael harrison gregory and wife, vivian greg...    0        2006       05-885\n",
       "4  atlantic contracting and material company, inc...    0        2003      02-1087"
      ]
     },
     "execution_count": 26,
     "metadata": {},
     "output_type": "execute_result"
    }
   ],
   "source": [
    "df.head(5)"
   ]
  },
  {
   "cell_type": "markdown",
   "metadata": {},
   "source": [
    "## 3. Creating the Labels (Affirmed, Reversed, etc.)\n",
    "\n",
    "The labels were created using the regex patterns below. The ultimate fuction below was created over many iterations. Initially, there were approximately 300 errors; the model was tweaked to reduce errors while maintaining reliability. Ultimately, 25 rows were dropped as errors because the cases were not beneficial to the model (i.e., they did not include a relevant summary judgment decision, the opinion on summary judgment was entwined with other components, etc.); 454 \"affirmed-in-part\" rows were dropped since they're not the binary outcome needed; and 408 dismissals were dropped since they don't have a usable outcome.  "
   ]
  },
  {
   "cell_type": "markdown",
   "metadata": {},
   "source": [
    "### A. Functions to Assign and Apply Labels to the DataFrame"
   ]
  },
  {
   "cell_type": "code",
   "execution_count": 27,
   "metadata": {},
   "outputs": [],
   "source": [
    "def labels(string_):\n",
    "    \"\"\"\n",
    "    This function will extract the outcome from a given string (opinion).\n",
    "    Each of the 'try' statements extracts the labels with decreasing \n",
    "    degrees of confidence (first by the one-word sentence, then within\n",
    "    10 words of the statement regarding concurrence, typically near the \n",
    "    end of the opinion; then clipping the last 150 chars. of the opinion \n",
    "    and looking for the associated label-words, and finally looking for \n",
    "    label-words within 5-10 words of the often-occurring phrase, 'for the\n",
    "    reasons set forth above'). This try/except format recognizes the \n",
    "    hierarchy from the most likely correct match to the lesser likely \n",
    "    correct matches. The form follows the Python EAFP principle.\n",
    "    \"\"\"\n",
    "    try:\n",
    "        try:\n",
    "            try:\n",
    "                try:  #this level has the highest confidence of getting an accurate label, based upon review of opinions (a single-word sentence)\n",
    "                    labels = re.search(\"\\.. ?(affirmed?)\\.|\\.?(reversed?)\\.|(affirmed in part)|\\.?(dismissed)\\.\",string_)\n",
    "                    x = labels.group(1)\n",
    "                    y = labels.group(2)\n",
    "                    z = labels.group(3)\n",
    "                    w = labels.group(4)\n",
    "                    not_none = [x,y,z]\n",
    "                    a = [i for i in not_none if i != None]\n",
    "                    return a[0]\n",
    "                except:  # slightly less confidence; looks for outcome word within 10 words of \"concur\", which frequently is at the end of a unanymous opinion\n",
    "                    labels = re.search(\"(?:concurs?\\W+(?:\\w+\\W+){0,40}?((affirmed in part)|reversed|affirmed|dismissed|no error|vacated)|((affirmed in part)|affirmed|reversed|dismissed|no error|vacated)\\W+(?:\\w+\\W+){0,40}?concurs?)\", string_)\n",
    "                    #print(\"Group 0:\", labels.group(0), \"\\nGroup 1:\", labels.group(1), \"\\nGroup 2:\", labels.group(2), \"\\nGroup 3:\", labels.group(3), \"\\nGroup 4:\", labels.group(4))\n",
    "                    x = labels2.group(1)\n",
    "                    y = labels2.group(2)\n",
    "                    z = labels2.group(3)\n",
    "                    w = labels2.group(4)\n",
    "                    not_none = [x,y,z,w]\n",
    "                    a = [i for i in not_none if i != None]\n",
    "                    #print(\"This is resulting list a:\", a)\n",
    "                    return a[0]\n",
    "            except: #slightly less confidence; if both of the previous methods fail, this clips the last 150 chars of the opinion for any of the outcome words\n",
    "                clip = string_[-150:]\n",
    "    #             print(clip)\n",
    "                labels3 = re.search(\"('affirmed in part'|reversed|affirmed|dismissed|'affirm in part'|affirm|reverse|dismiss|improvidently allowed)\",clip)\n",
    "                return labels3.group(0)\n",
    "        except: \n",
    "            labels4 = re.search(\"(?:reasons set forth?\\W+(?:\\w+\\W+){0,5}?((affirm in part)|reverse|affirm|dismiss|no error|vacated?)|((affirm in part)|affirm|reversed?|dismiss|no error|vacated?)\\W+(?:\\w+\\W+){0,10}?reasons set forth?)\", string_)\n",
    "            #print(\"Group 0:\", labels.group(0), \"\\nGroup 1:\", labels.group(1), \"\\nGroup 2:\", labels.group(2), \"\\nGroup 3:\", labels.group(3), \"\\nGroup 4:\", labels.group(4))\n",
    "            x = labels4.group(1)\n",
    "            y = labels4.group(2)\n",
    "            z = labels4.group(3)\n",
    "            w = labels4.group(4)\n",
    "            not_none = [x,y,z,w]\n",
    "            a = [i for i in not_none if i != None]\n",
    "            #print(\"This is resulting list a:\", a)\n",
    "            return a[0]\n",
    "    except:\n",
    "        return('error')"
   ]
  },
  {
   "cell_type": "code",
   "execution_count": 28,
   "metadata": {},
   "outputs": [
    {
     "data": {
      "text/plain": [
       "'affirmed'"
      ]
     },
     "execution_count": 28,
     "metadata": {},
     "output_type": "execute_result"
    }
   ],
   "source": [
    "# Test Cell \n",
    "labels(df.Opinion[2])"
   ]
  },
  {
   "cell_type": "code",
   "execution_count": 29,
   "metadata": {},
   "outputs": [],
   "source": [
    "# Apply labels to the DataFrame\n",
    "labels_list = []\n",
    "for i in range(len(df.Opinion)):\n",
    "    x = labels(df.Opinion[i])\n",
    "    labels_list.append(x)\n",
    "\n",
    "df[\"Result\"] = pd.Series(labels_list).values"
   ]
  },
  {
   "cell_type": "code",
   "execution_count": 30,
   "metadata": {},
   "outputs": [
    {
     "data": {
      "text/plain": [
       "affirmed                 2021\n",
       "reversed                  558\n",
       "affirmed in part          392\n",
       "dismissed                 232\n",
       "error                     200\n",
       "dismiss                   190\n",
       "reverse                   162\n",
       "affirm                     75\n",
       "improvidently allowed       6\n",
       "vacate                      1\n",
       "no error                    1\n",
       "Name: Result, dtype: int64"
      ]
     },
     "execution_count": 30,
     "metadata": {},
     "output_type": "execute_result"
    }
   ],
   "source": [
    "df.Result.value_counts()"
   ]
  },
  {
   "cell_type": "markdown",
   "metadata": {},
   "source": [
    "### B. Combine Similar Terms and Drop Rows Irrelevant to the Outcome"
   ]
  },
  {
   "cell_type": "code",
   "execution_count": 31,
   "metadata": {},
   "outputs": [],
   "source": [
    "df['Result'].replace(['reverse','affirm', 'dismiss','no error', 'vacated', 'improvidently allowed'],\n",
    "                     ['reversed','affirmed','dismissed', 'affirmed', 'reversed', 'dismissed'], inplace=True)\n",
    "\n",
    "# The model will treat 'no error' as 'affirmed' and 'vacated' as 'reversed'"
   ]
  },
  {
   "cell_type": "code",
   "execution_count": 32,
   "metadata": {},
   "outputs": [
    {
     "data": {
      "text/plain": [
       "affirmed            2097\n",
       "reversed             720\n",
       "dismissed            428\n",
       "affirmed in part     392\n",
       "error                200\n",
       "vacate                 1\n",
       "Name: Result, dtype: int64"
      ]
     },
     "execution_count": 32,
     "metadata": {},
     "output_type": "execute_result"
    }
   ],
   "source": [
    "df.Result.value_counts()"
   ]
  },
  {
   "cell_type": "code",
   "execution_count": 33,
   "metadata": {},
   "outputs": [],
   "source": [
    "# Drop rows with 'error', 'dismissed', and 'affirmed in part' -- see section header, above\n",
    "drop_list1 = df.loc[df['Result'] == 'error']\n",
    "drop_list2 = df.loc[df['Result'] == 'affirmed in part']\n",
    "drop_list3 = df.loc[df['Result'] == 'dismissed']\n",
    "drop_list4 = df.loc[df['Result'] == 'vacate']"
   ]
  },
  {
   "cell_type": "code",
   "execution_count": 34,
   "metadata": {},
   "outputs": [],
   "source": [
    "drop_list = list(drop_list1.index)+list(drop_list2.index)+list(drop_list3.index)+list(drop_list4.index)"
   ]
  },
  {
   "cell_type": "code",
   "execution_count": 35,
   "metadata": {},
   "outputs": [],
   "source": [
    "df.drop(drop_list, axis=0, inplace=True)\n",
    "df.reset_index(drop=True, inplace=True)"
   ]
  },
  {
   "cell_type": "code",
   "execution_count": 36,
   "metadata": {
    "scrolled": true
   },
   "outputs": [
    {
     "data": {
      "text/plain": [
       "affirmed    2097\n",
       "reversed     720\n",
       "Name: Result, dtype: int64"
      ]
     },
     "execution_count": 36,
     "metadata": {},
     "output_type": "execute_result"
    }
   ],
   "source": [
    "df.Result.value_counts()"
   ]
  },
  {
   "cell_type": "markdown",
   "metadata": {},
   "source": [
    "### C. Ensure Labels Have the Same Effect Throughout the DataFrame (Substantial Right Appeals)"
   ]
  },
  {
   "cell_type": "code",
   "execution_count": 37,
   "metadata": {
    "scrolled": false
   },
   "outputs": [],
   "source": [
    "def substantial_right(string_):\n",
    "    \"\"\" \n",
    "    I have been treating the label \"affirm\" as affirming the grant \n",
    "    of a summary judgment motion, and \"reverse\" as reversing the grant \n",
    "    of the motion, because it is much more common for the court of appeals \n",
    "    to address GRANTS of summary judgment. Much more rarely, they will \n",
    "    review a motion denying summary judgment, and the above functions will \n",
    "    have the opposite label than intended. This function will take a string, \n",
    "    review whether it contains the key words \"substantial right,\" and then \n",
    "    analyze the language of the opinion to see if the opinion affirms or \n",
    "    reverses the DENIAL of summary judgment. If it does, it will return a\n",
    "    '1', and if not, a '0'. This can be used later as a switch to flip the \n",
    "    label assigned above.\n",
    "    \"\"\"\n",
    "    # Screen for the keword 'substantial right'\n",
    "    if string_.count(\"substantial right\") > 0:\n",
    "        x = re.search(\"(?:(affirm|reverse?)\\W+(?:\\w+\\W+){0,5}?denial)\", string_)\n",
    "        try:\n",
    "            x.group(0)\n",
    "            return(1)\n",
    "        except:\n",
    "            return(0)"
   ]
  },
  {
   "cell_type": "code",
   "execution_count": 38,
   "metadata": {},
   "outputs": [],
   "source": [
    "substantial_right_list = []\n",
    "for i in range(len(df.Opinion)):\n",
    "    x = substantial_right(df.Opinion[i])\n",
    "    substantial_right_list.append(x)\n",
    "\n",
    "df[\"sub_right\"] = pd.Series(substantial_right_list).values"
   ]
  },
  {
   "cell_type": "code",
   "execution_count": 39,
   "metadata": {},
   "outputs": [
    {
     "data": {
      "text/html": [
       "<div>\n",
       "<style scoped>\n",
       "    .dataframe tbody tr th:only-of-type {\n",
       "        vertical-align: middle;\n",
       "    }\n",
       "\n",
       "    .dataframe tbody tr th {\n",
       "        vertical-align: top;\n",
       "    }\n",
       "\n",
       "    .dataframe thead th {\n",
       "        text-align: right;\n",
       "    }\n",
       "</style>\n",
       "<table border=\"1\" class=\"dataframe\">\n",
       "  <thead>\n",
       "    <tr style=\"text-align: right;\">\n",
       "      <th></th>\n",
       "      <th>Opinion</th>\n",
       "      <th>SCT</th>\n",
       "      <th>Year_Filed</th>\n",
       "      <th>File_Numbers</th>\n",
       "      <th>Result</th>\n",
       "      <th>sub_right</th>\n",
       "    </tr>\n",
       "  </thead>\n",
       "  <tbody>\n",
       "    <tr>\n",
       "      <td>336</td>\n",
       "      <td>estate of erik dominic williams, by and throug...</td>\n",
       "      <td>0</td>\n",
       "      <td>2011</td>\n",
       "      <td>10-491</td>\n",
       "      <td>affirmed</td>\n",
       "      <td>1.0</td>\n",
       "    </tr>\n",
       "    <tr>\n",
       "      <td>357</td>\n",
       "      <td>no. coa11-1466 north carolina court of appeals...</td>\n",
       "      <td>0</td>\n",
       "      <td>2012</td>\n",
       "      <td>11-1466</td>\n",
       "      <td>reversed</td>\n",
       "      <td>1.0</td>\n",
       "    </tr>\n",
       "    <tr>\n",
       "      <td>441</td>\n",
       "      <td>estate of vera hewett, et al, plaintiffs, v. c...</td>\n",
       "      <td>0</td>\n",
       "      <td>2009</td>\n",
       "      <td>08-1071</td>\n",
       "      <td>reversed</td>\n",
       "      <td>1.0</td>\n",
       "    </tr>\n",
       "    <tr>\n",
       "      <td>604</td>\n",
       "      <td>james l. pierson, kathy l. pierson, lincoln m....</td>\n",
       "      <td>0</td>\n",
       "      <td>2000</td>\n",
       "      <td>99-1333</td>\n",
       "      <td>affirmed</td>\n",
       "      <td>1.0</td>\n",
       "    </tr>\n",
       "    <tr>\n",
       "      <td>765</td>\n",
       "      <td>mitchell, brewer, richardson, adams, burge &amp; b...</td>\n",
       "      <td>0</td>\n",
       "      <td>2011</td>\n",
       "      <td>09-1020</td>\n",
       "      <td>reversed</td>\n",
       "      <td>1.0</td>\n",
       "    </tr>\n",
       "    <tr>\n",
       "      <td>869</td>\n",
       "      <td>nello l. teer company, inc., plaintiff, v. jon...</td>\n",
       "      <td>0</td>\n",
       "      <td>2007</td>\n",
       "      <td>06-340</td>\n",
       "      <td>reversed</td>\n",
       "      <td>1.0</td>\n",
       "    </tr>\n",
       "    <tr>\n",
       "      <td>938</td>\n",
       "      <td>in the court of appeals of north carolina no....</td>\n",
       "      <td>0</td>\n",
       "      <td>2018</td>\n",
       "      <td>16-908</td>\n",
       "      <td>reversed</td>\n",
       "      <td>1.0</td>\n",
       "    </tr>\n",
       "    <tr>\n",
       "      <td>957</td>\n",
       "      <td>an unpublished opinion of the north carolina c...</td>\n",
       "      <td>0</td>\n",
       "      <td>2004</td>\n",
       "      <td>02-1610</td>\n",
       "      <td>affirmed</td>\n",
       "      <td>1.0</td>\n",
       "    </tr>\n",
       "    <tr>\n",
       "      <td>980</td>\n",
       "      <td>wilson myers, administrator of the estate of t...</td>\n",
       "      <td>0</td>\n",
       "      <td>2008</td>\n",
       "      <td>07-285</td>\n",
       "      <td>affirmed</td>\n",
       "      <td>1.0</td>\n",
       "    </tr>\n",
       "    <tr>\n",
       "      <td>995</td>\n",
       "      <td>michael g. staley and melody h. staley, plaint...</td>\n",
       "      <td>0</td>\n",
       "      <td>1999</td>\n",
       "      <td>98-1293</td>\n",
       "      <td>reversed</td>\n",
       "      <td>1.0</td>\n",
       "    </tr>\n",
       "    <tr>\n",
       "      <td>1132</td>\n",
       "      <td>tiber holding corporation, regis insurance com...</td>\n",
       "      <td>0</td>\n",
       "      <td>2005</td>\n",
       "      <td>04-1184</td>\n",
       "      <td>affirmed</td>\n",
       "      <td>1.0</td>\n",
       "    </tr>\n",
       "    <tr>\n",
       "      <td>1197</td>\n",
       "      <td>lennie and bonnie hamby, plaintiffs, v. profil...</td>\n",
       "      <td>0</td>\n",
       "      <td>2009</td>\n",
       "      <td>08-942</td>\n",
       "      <td>affirmed</td>\n",
       "      <td>1.0</td>\n",
       "    </tr>\n",
       "    <tr>\n",
       "      <td>1321</td>\n",
       "      <td>teresa h. satorre, sharon o. lee, theresa k. p...</td>\n",
       "      <td>0</td>\n",
       "      <td>2004</td>\n",
       "      <td>03-648</td>\n",
       "      <td>reversed</td>\n",
       "      <td>1.0</td>\n",
       "    </tr>\n",
       "    <tr>\n",
       "      <td>1449</td>\n",
       "      <td>an unpublished opinion of the north carolina c...</td>\n",
       "      <td>0</td>\n",
       "      <td>2015</td>\n",
       "      <td>14-811</td>\n",
       "      <td>affirmed</td>\n",
       "      <td>1.0</td>\n",
       "    </tr>\n",
       "    <tr>\n",
       "      <td>1534</td>\n",
       "      <td>no. coa02-423 north carolina court of appeals ...</td>\n",
       "      <td>0</td>\n",
       "      <td>2003</td>\n",
       "      <td>02-423</td>\n",
       "      <td>reversed</td>\n",
       "      <td>1.0</td>\n",
       "    </tr>\n",
       "    <tr>\n",
       "      <td>1632</td>\n",
       "      <td>an unpublished opinion of the north carolina ...</td>\n",
       "      <td>0</td>\n",
       "      <td>2019</td>\n",
       "      <td>18-1207</td>\n",
       "      <td>reversed</td>\n",
       "      <td>1.0</td>\n",
       "    </tr>\n",
       "    <tr>\n",
       "      <td>1643</td>\n",
       "      <td>jon-paul craig, by his mother and next friend,...</td>\n",
       "      <td>0</td>\n",
       "      <td>2007</td>\n",
       "      <td>07-80</td>\n",
       "      <td>reversed</td>\n",
       "      <td>1.0</td>\n",
       "    </tr>\n",
       "    <tr>\n",
       "      <td>1692</td>\n",
       "      <td>in the court of appeals of north carolina no....</td>\n",
       "      <td>0</td>\n",
       "      <td>2019</td>\n",
       "      <td>18-478</td>\n",
       "      <td>affirmed</td>\n",
       "      <td>1.0</td>\n",
       "    </tr>\n",
       "    <tr>\n",
       "      <td>1710</td>\n",
       "      <td>in the court of appeals of north carolina no....</td>\n",
       "      <td>0</td>\n",
       "      <td>2017</td>\n",
       "      <td>16-776</td>\n",
       "      <td>reversed</td>\n",
       "      <td>1.0</td>\n",
       "    </tr>\n",
       "    <tr>\n",
       "      <td>1804</td>\n",
       "      <td>josephine williams, administratrix of the esta...</td>\n",
       "      <td>0</td>\n",
       "      <td>2004</td>\n",
       "      <td>03-1624</td>\n",
       "      <td>affirmed</td>\n",
       "      <td>1.0</td>\n",
       "    </tr>\n",
       "    <tr>\n",
       "      <td>1969</td>\n",
       "      <td>keith brent vest v. michael f. easley, north c...</td>\n",
       "      <td>0</td>\n",
       "      <td>2001</td>\n",
       "      <td>00-635</td>\n",
       "      <td>reversed</td>\n",
       "      <td>1.0</td>\n",
       "    </tr>\n",
       "    <tr>\n",
       "      <td>2001</td>\n",
       "      <td>in the court of appeals of north carolina no....</td>\n",
       "      <td>0</td>\n",
       "      <td>2016</td>\n",
       "      <td>15-751</td>\n",
       "      <td>reversed</td>\n",
       "      <td>1.0</td>\n",
       "    </tr>\n",
       "    <tr>\n",
       "      <td>2086</td>\n",
       "      <td>thomas william hill, plaintiff, v. bobby medfo...</td>\n",
       "      <td>0</td>\n",
       "      <td>2003</td>\n",
       "      <td>02-956</td>\n",
       "      <td>affirmed</td>\n",
       "      <td>1.0</td>\n",
       "    </tr>\n",
       "    <tr>\n",
       "      <td>2176</td>\n",
       "      <td>johnston health care center, l.l.c. petitioner...</td>\n",
       "      <td>0</td>\n",
       "      <td>2000</td>\n",
       "      <td>99-129</td>\n",
       "      <td>affirmed</td>\n",
       "      <td>1.0</td>\n",
       "    </tr>\n",
       "    <tr>\n",
       "      <td>2432</td>\n",
       "      <td>anne h. craig v. the asheville city board of e...</td>\n",
       "      <td>0</td>\n",
       "      <td>2001</td>\n",
       "      <td>00-175</td>\n",
       "      <td>affirmed</td>\n",
       "      <td>1.0</td>\n",
       "    </tr>\n",
       "    <tr>\n",
       "      <td>2485</td>\n",
       "      <td>an unpublished opinion of the north carolina c...</td>\n",
       "      <td>0</td>\n",
       "      <td>2010</td>\n",
       "      <td>09-315</td>\n",
       "      <td>affirmed</td>\n",
       "      <td>1.0</td>\n",
       "    </tr>\n",
       "    <tr>\n",
       "      <td>2612</td>\n",
       "      <td>an unpublished opinion of the north carolina ...</td>\n",
       "      <td>0</td>\n",
       "      <td>2019</td>\n",
       "      <td>18-197</td>\n",
       "      <td>reversed</td>\n",
       "      <td>1.0</td>\n",
       "    </tr>\n",
       "    <tr>\n",
       "      <td>2613</td>\n",
       "      <td>no. coa08-801 north carolina court of appeals ...</td>\n",
       "      <td>0</td>\n",
       "      <td>2009</td>\n",
       "      <td>08-801</td>\n",
       "      <td>affirmed</td>\n",
       "      <td>1.0</td>\n",
       "    </tr>\n",
       "    <tr>\n",
       "      <td>2625</td>\n",
       "      <td>an unpublished opinion of the north carolina c...</td>\n",
       "      <td>0</td>\n",
       "      <td>2013</td>\n",
       "      <td>12-1490</td>\n",
       "      <td>affirmed</td>\n",
       "      <td>1.0</td>\n",
       "    </tr>\n",
       "    <tr>\n",
       "      <td>2737</td>\n",
       "      <td>sherri b. blaylock, as guardian ad litem for h...</td>\n",
       "      <td>0</td>\n",
       "      <td>2009</td>\n",
       "      <td>00-000</td>\n",
       "      <td>affirmed</td>\n",
       "      <td>1.0</td>\n",
       "    </tr>\n",
       "    <tr>\n",
       "      <td>2811</td>\n",
       "      <td>1 bruce-terminix co. v. zurich ins. co., 130 n...</td>\n",
       "      <td>0</td>\n",
       "      <td>2008</td>\n",
       "      <td>07-1260</td>\n",
       "      <td>affirmed</td>\n",
       "      <td>1.0</td>\n",
       "    </tr>\n",
       "  </tbody>\n",
       "</table>\n",
       "</div>"
      ],
      "text/plain": [
       "                                                Opinion  SCT  Year_Filed File_Numbers    Result  \\\n",
       "336   estate of erik dominic williams, by and throug...    0        2011       10-491  affirmed   \n",
       "357   no. coa11-1466 north carolina court of appeals...    0        2012      11-1466  reversed   \n",
       "441   estate of vera hewett, et al, plaintiffs, v. c...    0        2009      08-1071  reversed   \n",
       "604   james l. pierson, kathy l. pierson, lincoln m....    0        2000      99-1333  affirmed   \n",
       "765   mitchell, brewer, richardson, adams, burge & b...    0        2011      09-1020  reversed   \n",
       "869   nello l. teer company, inc., plaintiff, v. jon...    0        2007       06-340  reversed   \n",
       "938    in the court of appeals of north carolina no....    0        2018       16-908  reversed   \n",
       "957   an unpublished opinion of the north carolina c...    0        2004      02-1610  affirmed   \n",
       "980   wilson myers, administrator of the estate of t...    0        2008       07-285  affirmed   \n",
       "995   michael g. staley and melody h. staley, plaint...    0        1999      98-1293  reversed   \n",
       "1132  tiber holding corporation, regis insurance com...    0        2005      04-1184  affirmed   \n",
       "1197  lennie and bonnie hamby, plaintiffs, v. profil...    0        2009       08-942  affirmed   \n",
       "1321  teresa h. satorre, sharon o. lee, theresa k. p...    0        2004       03-648  reversed   \n",
       "1449  an unpublished opinion of the north carolina c...    0        2015       14-811  affirmed   \n",
       "1534  no. coa02-423 north carolina court of appeals ...    0        2003       02-423  reversed   \n",
       "1632   an unpublished opinion of the north carolina ...    0        2019      18-1207  reversed   \n",
       "1643  jon-paul craig, by his mother and next friend,...    0        2007        07-80  reversed   \n",
       "1692   in the court of appeals of north carolina no....    0        2019       18-478  affirmed   \n",
       "1710   in the court of appeals of north carolina no....    0        2017       16-776  reversed   \n",
       "1804  josephine williams, administratrix of the esta...    0        2004      03-1624  affirmed   \n",
       "1969  keith brent vest v. michael f. easley, north c...    0        2001       00-635  reversed   \n",
       "2001   in the court of appeals of north carolina no....    0        2016       15-751  reversed   \n",
       "2086  thomas william hill, plaintiff, v. bobby medfo...    0        2003       02-956  affirmed   \n",
       "2176  johnston health care center, l.l.c. petitioner...    0        2000       99-129  affirmed   \n",
       "2432  anne h. craig v. the asheville city board of e...    0        2001       00-175  affirmed   \n",
       "2485  an unpublished opinion of the north carolina c...    0        2010       09-315  affirmed   \n",
       "2612   an unpublished opinion of the north carolina ...    0        2019       18-197  reversed   \n",
       "2613  no. coa08-801 north carolina court of appeals ...    0        2009       08-801  affirmed   \n",
       "2625  an unpublished opinion of the north carolina c...    0        2013      12-1490  affirmed   \n",
       "2737  sherri b. blaylock, as guardian ad litem for h...    0        2009       00-000  affirmed   \n",
       "2811  1 bruce-terminix co. v. zurich ins. co., 130 n...    0        2008      07-1260  affirmed   \n",
       "\n",
       "      sub_right  \n",
       "336         1.0  \n",
       "357         1.0  \n",
       "441         1.0  \n",
       "604         1.0  \n",
       "765         1.0  \n",
       "869         1.0  \n",
       "938         1.0  \n",
       "957         1.0  \n",
       "980         1.0  \n",
       "995         1.0  \n",
       "1132        1.0  \n",
       "1197        1.0  \n",
       "1321        1.0  \n",
       "1449        1.0  \n",
       "1534        1.0  \n",
       "1632        1.0  \n",
       "1643        1.0  \n",
       "1692        1.0  \n",
       "1710        1.0  \n",
       "1804        1.0  \n",
       "1969        1.0  \n",
       "2001        1.0  \n",
       "2086        1.0  \n",
       "2176        1.0  \n",
       "2432        1.0  \n",
       "2485        1.0  \n",
       "2612        1.0  \n",
       "2613        1.0  \n",
       "2625        1.0  \n",
       "2737        1.0  \n",
       "2811        1.0  "
      ]
     },
     "execution_count": 39,
     "metadata": {},
     "output_type": "execute_result"
    }
   ],
   "source": [
    "df.loc[df['sub_right'] == 1]"
   ]
  },
  {
   "cell_type": "markdown",
   "metadata": {},
   "source": [
    "Review of the foregoing cases had so many with mixed issues that it will probably be better to drop all rows. "
   ]
  },
  {
   "cell_type": "code",
   "execution_count": 40,
   "metadata": {},
   "outputs": [],
   "source": [
    "indexes_to_drop = df.index[df['sub_right'] == 1].tolist()\n",
    "df.drop(indexes_to_drop, inplace=True)\n",
    "\n",
    "df.drop(['sub_right'], axis=1, inplace=True)\n",
    "\n",
    "df.reset_index(inplace=True, drop=True)"
   ]
  },
  {
   "cell_type": "markdown",
   "metadata": {},
   "source": [
    "## 4. Create Case-Type Feature By Sorting With Keywords\n",
    "\n",
    "I created a simple sorting function which takes a dictionary of case types with associated keywords, and then it generates a popularity count of the various keywords, returning the highest-ranking case type for a given opinion. The dictionary was revised over many iterations and reviews; for instance, some words were not unique, were misleading, or needed leading/trailing spaces. "
   ]
  },
  {
   "cell_type": "code",
   "execution_count": 41,
   "metadata": {},
   "outputs": [],
   "source": [
    "# This dictionary contains types of law with associated, typically unique keywords\n",
    "case_type_dict = {'premises':['premises', 'attractive nuisance', 'dangerous condition', 'slip and fall',\n",
    "                              'defective condition', 'dog bite', 'landowner', 'vicious propensity',\n",
    "                              'defective or unsafe condition', 'unsafe condition'], \n",
    "                  'products':['negligently manufactured', 'negligent manufacture', 'negligently designed',\n",
    "                              'negligent design', 'manufacturing defect', 'products liability',\n",
    "                              'product liability', 'ordinary use', 'product at issue', 'defective good'],\n",
    "                  'car_crash':['collision', 'vehicle', 'motorist', 'other driver'], \n",
    "                  'corporate':['shareholder', 'bylaw', 'articles of incorporation', 'derivative', \n",
    "                               'corporate meetings', 'corporate books', 'annual meeting', \n",
    "                               'financial statements'],\n",
    "                  'construction':['building defect', 'water intrusion', 'construction defect', 'building code',\n",
    "                                  'subcontractor', 'construction industry'], \n",
    "                  'contract':[' formation', 'recission', 'specific performance', 'incidental damages',\n",
    "                              'consequential damages', 'statute of frauds', 'complex business',\n",
    "                              'contractual relationship', 'contract law', 'plain and unambiguous',\n",
    "                              'promissory note', 'clinical privileges', 'agreement in effect', \n",
    "                              'breach of contract', 'terms of the agreement', 'default on the account',\n",
    "                              'joint venture', 'credit account', 'payment of the debt', 'consignor',\n",
    "                              'cosignee', 'oral contract', 'doctrine of necessaries', 'sold and delivered',\n",
    "                              'defaulted on the loan', 'line of credit', 'credit card account', \n",
    "                              'security interest', 'past due and owing', 'contract price', 'guaranty agreement',\n",
    "                              'contract to purchase', 'fdcpa'], \n",
    "                  'defamation':['libel', 'slander', 'defamatory', 'defamation'],\n",
    "                  'employment':['wrongful discharge', 'discrimination', 'retaliation', 'retaliatory',\n",
    "                                'retaliatory employment discrimination act', 'discriminatory',\n",
    "                                'state personnel', 'state retirement plan', 'pay policy', 'salary',\n",
    "                                'at-will employee', 'reinstatement', 'h-2a', 'wage and hour', 'fmla',\n",
    "                                'disability benefits', 'employer-employee', 'wage laws'],\n",
    "                  'estates':['intestate', 'probate', 'revocable trust', 'irrevocable trust', 'testator',\n",
    "                             'holographic', 'residue', 'testate', 'partition and sale', 'undivided interest',\n",
    "                             'executor', 'executrix', 'beneficiary', 'will conveying'],\n",
    "                  'family_law':['divorce', 'custody', 'maintenance', 'child support', 'separation agreement',\n",
    "                               'prenuptial', 'postnuptial', 'premarital', 'marital home', 'parental rights',\n",
    "                               'alienation of affection', 'legally separated', 'marriage ceremony'], \n",
    "                  'fraud_udtpa':['unfair and deceptive', 'unfair or deceptive', 'chapter 75', 'fraud',\n",
    "                                 'calculated to deceive'],\n",
    "                  'governmental':['sovereign immunity', 'official capacity', 'governmental immunity', \n",
    "                                  'certificate of need', 'incarcerated', 'permit application', \n",
    "                                  'property tax commission', 'local school administrative unit',\n",
    "                                  'public duty doctrine', 'malicious prosecution', 'inmate', 'wastewater',\n",
    "                                  'separation of powers', 'secretary of revenue', 'school boards association',\n",
    "                                  'department of environment and natural resources', 'municipal corporation',\n",
    "                                  'local government retirement system'],\n",
    "                  'insurance':['policy exclusion', 'insured party', 'coverage under the policy',\n",
    "                               'insurance coverage'],\n",
    "                  'landlord_tenant':['lease', 'landlord', 'security deposit', ' rent ', 'chapter 42', 'tenant'], \n",
    "                  'med_mal':['medical malpractice','health care profession', 'same or similar community', \n",
    "                             'rule 9(j)', 'rule 702(b)', 'continuing course of treatment', 'skilled nursing',\n",
    "                             'care and treatment rendered'], \n",
    "                  'property':['easement', 'fee simple', 'tenants in common', 'joint tenants', 'nuisance', \n",
    "                             'eminent domain', 'escheat', 'replevin', 'zoning', 'mortgage', 'foreclosure',\n",
    "                             'restriction agreement', 'reforming the deed', 'covenants and restrictions',\n",
    "                             'property boundary', 'declaration of covenants', 'homeowners association',\n",
    "                             'trespass to land', 'deed of trust', 'restrictive covenant', 'executed the deed',\n",
    "                             'board of adjustment', 'improvement to land', 'quiet title', 'convey the property',\n",
    "                             'blasting'], \n",
    "                  'workers_comp':['workers compensation', 'worker\\'s compensation', 'fela',\n",
    "                                  'workers\\' compensation', 'workmen\\'s compensation'],\n",
    "                  'wrongful_death':['wrongful death']}\n",
    "\n",
    "# 'dram_shop':['dram shop'] -- removed, only 2 that were not superseded by \"car crash\""
   ]
  },
  {
   "cell_type": "code",
   "execution_count": 42,
   "metadata": {},
   "outputs": [],
   "source": [
    "def case_type_sorter(dict_of_keywords, string):\n",
    "    \"\"\" \n",
    "    This function takes a dictionary of case types and associated \n",
    "    keywords, assigns points for the frequency of the keywords\n",
    "    of a given case type, and returns the case type with the highest\n",
    "    number of points, as well as a confidence measure.  The dict_of_keywords \n",
    "    should be a dictionary of case-type keys and keyword values; the string \n",
    "    should be a single string.\n",
    "    \"\"\"\n",
    "    counter_dict = {}\n",
    "\n",
    "    # Iterate through dictionary, counting frequency of each keyword in the string/Opinion\n",
    "    for key, values in dict_of_keywords.items():\n",
    "        counter_dict[key] = 0\n",
    "        for value in values:\n",
    "            count = string.count(value)\n",
    "            existing_count = counter_dict[key]\n",
    "            counter_dict[key] = count + existing_count\n",
    "    \n",
    "    # Get total points for all keywords\n",
    "    values = counter_dict.values()\n",
    "    total_count = sum(values)\n",
    "    \n",
    "    # Ensure that if no case_types are matched, the type returned is 'other'\n",
    "    if total_count > 0:\n",
    "        likely_case_type = max(counter_dict.items(), key=operator.itemgetter(1))[0]\n",
    "    else:\n",
    "        likely_case_type = 'other'\n",
    "    \n",
    "    # Return a confidence ratio (points of most likely type / all points )\n",
    "    try:\n",
    "        confidence = str(round((counter_dict[likely_case_type]/total_count)*100,2))+'%'\n",
    "    except:\n",
    "        confidence = 'n/a'\n",
    "    \n",
    "    return likely_case_type, confidence"
   ]
  },
  {
   "cell_type": "code",
   "execution_count": 43,
   "metadata": {},
   "outputs": [],
   "source": [
    "# Copy of the above function for case-by-case review\n",
    "def case_type_test_sorter(dict_of_keywords, string):\n",
    "    \"\"\" \n",
    "    This is a copy of the case_type_sorter function for case-by-case review\n",
    "    \"\"\"\n",
    "    counter_dict = {}\n",
    "\n",
    "    # Iterate through dictionary, counting frequency of each keyword in the string/Opinion\n",
    "    for key, values in dict_of_keywords.items():\n",
    "        counter_dict[key] = 0\n",
    "        for value in values:\n",
    "            count = string.count(value)\n",
    "            existing_count = counter_dict[key]\n",
    "            counter_dict[key] = count + existing_count\n",
    "            \n",
    "    return counter_dict"
   ]
  },
  {
   "cell_type": "code",
   "execution_count": 44,
   "metadata": {},
   "outputs": [],
   "source": [
    "# Apply case_type and confidence level columns to the DataFrame\n",
    "\n",
    "case_type_list = []\n",
    "case_type_confidence = []\n",
    "for i in range(len(df.Opinion)):\n",
    "    y,z = case_type_sorter(case_type_dict, df.Opinion[i])\n",
    "    case_type_list.append(y)\n",
    "    case_type_confidence.append(z)\n",
    "\n",
    "df[\"Case_Type\"] = pd.Series(case_type_list).values\n",
    "df[\"Case_Type_Confidence\"] = pd.Series(case_type_confidence).values"
   ]
  },
  {
   "cell_type": "code",
   "execution_count": 45,
   "metadata": {
    "scrolled": true
   },
   "outputs": [],
   "source": [
    "one = df.loc[(df['Case_Type'] == 'other') & (df.Opinion.str.len() > 1350)]"
   ]
  },
  {
   "cell_type": "code",
   "execution_count": 46,
   "metadata": {},
   "outputs": [
    {
     "data": {
      "text/plain": [
       "39"
      ]
     },
     "execution_count": 46,
     "metadata": {},
     "output_type": "execute_result"
    }
   ],
   "source": [
    "#remaining \"other\" case types and cases shorter than 1350 characters (lacking any type information)\n",
    "len(one)"
   ]
  },
  {
   "cell_type": "code",
   "execution_count": 47,
   "metadata": {
    "scrolled": false
   },
   "outputs": [
    {
     "name": "stdout",
     "output_type": "stream",
     "text": [
      "Index to Test:\n",
      "Please enter an index to review:\n"
     ]
    }
   ],
   "source": [
    "# Test function to review cases and diagnose issues (ultimately to update the case_type_dict)\n",
    "try:\n",
    "    test_cell = int(input(\"Index to Test:\"))\n",
    "    print(case_type_sorter(case_type_dict, df.Opinion[test_cell]),\n",
    "          '\\n\\n', case_type_test_sorter(case_type_dict, df.Opinion[test_cell]),\n",
    "          '\\n\\n', df.Opinion[test_cell])\n",
    "except:\n",
    "    print(\"Please enter an index to review:\")"
   ]
  },
  {
   "cell_type": "code",
   "execution_count": 48,
   "metadata": {},
   "outputs": [],
   "source": [
    "drop_list_others = list(one.index)\n",
    "df.drop(drop_list_others, inplace=True)\n",
    "df.reset_index(drop=True, inplace=True)"
   ]
  },
  {
   "cell_type": "code",
   "execution_count": 49,
   "metadata": {
    "scrolled": true
   },
   "outputs": [
    {
     "data": {
      "text/plain": [
       "property           369\n",
       "contract           333\n",
       "car_crash          318\n",
       "fraud_udtpa        275\n",
       "governmental       246\n",
       "landlord_tenant    229\n",
       "family_law         187\n",
       "premises           162\n",
       "employment         144\n",
       "estates            125\n",
       "med_mal             88\n",
       "corporate           77\n",
       "construction        51\n",
       "defamation          44\n",
       "insurance           27\n",
       "wrongful_death      23\n",
       "other               18\n",
       "products            17\n",
       "workers_comp        14\n",
       "Name: Case_Type, dtype: int64"
      ]
     },
     "execution_count": 49,
     "metadata": {},
     "output_type": "execute_result"
    }
   ],
   "source": [
    "df.Case_Type.value_counts()"
   ]
  },
  {
   "cell_type": "code",
   "execution_count": 50,
   "metadata": {},
   "outputs": [
    {
     "name": "stdout",
     "output_type": "stream",
     "text": [
      "<class 'pandas.core.frame.DataFrame'>\n",
      "RangeIndex: 2747 entries, 0 to 2746\n",
      "Data columns (total 7 columns):\n",
      "Opinion                 2747 non-null object\n",
      "SCT                     2747 non-null int64\n",
      "Year_Filed              2747 non-null int64\n",
      "File_Numbers            2747 non-null object\n",
      "Result                  2747 non-null object\n",
      "Case_Type               2747 non-null object\n",
      "Case_Type_Confidence    2747 non-null object\n",
      "dtypes: int64(2), object(5)\n",
      "memory usage: 150.4+ KB\n"
     ]
    }
   ],
   "source": [
    "df.info()"
   ]
  },
  {
   "cell_type": "markdown",
   "metadata": {},
   "source": [
    "## 5.  Extract Feature: Trial-Court Judge"
   ]
  },
  {
   "cell_type": "code",
   "execution_count": 51,
   "metadata": {},
   "outputs": [],
   "source": [
    "def trial_judge(opinion):\n",
    "    \"\"\"\n",
    "    This function extracts the underlying trial judge\n",
    "    from the opinion, typically falling between the \n",
    "    words, 'by judge ____ in'.  This try/except format\n",
    "    recognizes the hierarchy from the most likely correct\n",
    "    match to the lesser likely correct matches. The \n",
    "    form follows the Python EAFP principle.\n",
    "    \"\"\"\n",
    "    try:\n",
    "        try:\n",
    "            try:\n",
    "                try:\n",
    "                    try:\n",
    "                        try:\n",
    "                            judge = re.search(\"by judge (\\w+) (\\w+) in\", opinion)\n",
    "                            f_name = judge.group(1)\n",
    "                            l_name = judge.group(2)\n",
    "                            pre_clean = [l_name, f_name]\n",
    "                            name = [i for i in pre_clean if i != None]\n",
    "                            return(name)\n",
    "                        except:\n",
    "                            judge = re.search(\"by (the honorable|judge) (\\w+.?) ?(\\w+.|-?)? ?(\\w+),? ?(jr.|sr.|iii|ii|iv)?,? (?:in|and)\", opinion)\n",
    "                            f_name = judge.group(2)\n",
    "                            m_name = judge.group(3)\n",
    "                            l_name = judge.group(4)\n",
    "                            suffx =  judge.group(5) \n",
    "                            pre_clean = [l_name, f_name, m_name, suffx]\n",
    "                            name = [i for i in pre_clean if i != None]\n",
    "                            return(name)\n",
    "                    except:\n",
    "                        judge = re.search(\"by (\\w+.?), .?\\.? ?j., in\", opinion)\n",
    "                        l_name = judge.group(1)\n",
    "                        pre_clean = [l_name]\n",
    "                        name = [i for i in pre_clean if i != None]\n",
    "                        return(name)\n",
    "                except:\n",
    "                    judge = re.search(\"(the honorable|judge) (\\w+.?) (\\w+.|-?)? ?(\\w+),? ?(jr.|sr.|iii|ii|iv)?,? (?:presiding|in|on)\", opinion)\n",
    "                    f_name = judge.group(2)\n",
    "                    m_name = judge.group(3)\n",
    "                    l_name = judge.group(4)\n",
    "                    suffx =  judge.group(5) \n",
    "                    pre_clean = [l_name, f_name, m_name, suffx]\n",
    "                    name = [i for i in pre_clean if i != None]\n",
    "                    return(name)\n",
    "            except:\n",
    "                judge = re.search(\"by (\\w+.?) (\\w+.|-?)? ?(\\w+),? ?(jr.|sr.|iii|ii|iv)?,? in\", opinion[:1000])\n",
    "                f_name = judge.group(1)\n",
    "                m_name = judge.group(2)\n",
    "                l_name = judge.group(3)\n",
    "                suffx =  judge.group(4) \n",
    "                pre_clean = [l_name, f_name, m_name, suffx]\n",
    "                name = [i for i in pre_clean if i != None]\n",
    "                return(name)\n",
    "        except:\n",
    "            judge = re.search(\"by judge (\\w+.?) (\\w+.|-?)? ?(\\w+),? ?(jr.|sr.|iii|ii|iv)?\", opinion[:1000])\n",
    "            f_name = judge.group(1)\n",
    "            m_name = judge.group(2)\n",
    "            l_name = judge.group(3)\n",
    "            suffx =  judge.group(4) \n",
    "            pre_clean = [l_name, f_name, m_name, suffx]\n",
    "            name = [i for i in pre_clean if i != None]\n",
    "            return(name)     \n",
    "    except:\n",
    "        name = 'error'\n",
    "        return(name)\n",
    "    "
   ]
  },
  {
   "cell_type": "code",
   "execution_count": 52,
   "metadata": {},
   "outputs": [],
   "source": [
    "# Apply function to the DataFrame\n",
    "judges_list = []\n",
    "for i in range(len(df.Opinion)):\n",
    "    y = trial_judge(df.Opinion[i])\n",
    "    judges_list.append(y)\n",
    "    \n",
    "df[\"Trial_Judge\"] = pd.Series(judges_list).values"
   ]
  },
  {
   "cell_type": "code",
   "execution_count": 53,
   "metadata": {},
   "outputs": [
    {
     "data": {
      "text/html": [
       "<div>\n",
       "<style scoped>\n",
       "    .dataframe tbody tr th:only-of-type {\n",
       "        vertical-align: middle;\n",
       "    }\n",
       "\n",
       "    .dataframe tbody tr th {\n",
       "        vertical-align: top;\n",
       "    }\n",
       "\n",
       "    .dataframe thead th {\n",
       "        text-align: right;\n",
       "    }\n",
       "</style>\n",
       "<table border=\"1\" class=\"dataframe\">\n",
       "  <thead>\n",
       "    <tr style=\"text-align: right;\">\n",
       "      <th></th>\n",
       "      <th>Opinion</th>\n",
       "      <th>SCT</th>\n",
       "      <th>Year_Filed</th>\n",
       "      <th>File_Numbers</th>\n",
       "      <th>Result</th>\n",
       "      <th>Case_Type</th>\n",
       "      <th>Case_Type_Confidence</th>\n",
       "      <th>Trial_Judge</th>\n",
       "    </tr>\n",
       "  </thead>\n",
       "  <tbody>\n",
       "    <tr>\n",
       "      <td>131</td>\n",
       "      <td>no. coa08-640 north carolina court of appeals ...</td>\n",
       "      <td>0</td>\n",
       "      <td>2009</td>\n",
       "      <td>08-640</td>\n",
       "      <td>affirmed</td>\n",
       "      <td>contract</td>\n",
       "      <td>65.22%</td>\n",
       "      <td>[tennille, ben , f.]</td>\n",
       "    </tr>\n",
       "    <tr>\n",
       "      <td>607</td>\n",
       "      <td>in the court of appeals of north carolina no....</td>\n",
       "      <td>0</td>\n",
       "      <td>2017</td>\n",
       "      <td>16-1189</td>\n",
       "      <td>reversed</td>\n",
       "      <td>property</td>\n",
       "      <td>77.5%</td>\n",
       "      <td>[hockenbury, jay , d.]</td>\n",
       "    </tr>\n",
       "    <tr>\n",
       "      <td>400</td>\n",
       "      <td>robert y. purcell, and wife, mary purcell, pla...</td>\n",
       "      <td>0</td>\n",
       "      <td>2004</td>\n",
       "      <td>03-347</td>\n",
       "      <td>reversed</td>\n",
       "      <td>car_crash</td>\n",
       "      <td>87.5%</td>\n",
       "      <td>[jones, abraham , penn ]</td>\n",
       "    </tr>\n",
       "    <tr>\n",
       "      <td>989</td>\n",
       "      <td>in the court of appeals of north carolina no....</td>\n",
       "      <td>0</td>\n",
       "      <td>2020</td>\n",
       "      <td>19-1089</td>\n",
       "      <td>reversed</td>\n",
       "      <td>construction</td>\n",
       "      <td>75.0%</td>\n",
       "      <td>[collins, g., bryan , jr.]</td>\n",
       "    </tr>\n",
       "    <tr>\n",
       "      <td>1914</td>\n",
       "      <td>wri/raleigh, l.p., plaintiff v. issa f. shaikh...</td>\n",
       "      <td>0</td>\n",
       "      <td>2007</td>\n",
       "      <td>06-784</td>\n",
       "      <td>affirmed</td>\n",
       "      <td>landlord_tenant</td>\n",
       "      <td>51.35%</td>\n",
       "      <td>[you, will, instruct ]</td>\n",
       "    </tr>\n",
       "    <tr>\n",
       "      <td>458</td>\n",
       "      <td>liberty mutual insurance co. plaintiff, v. jud...</td>\n",
       "      <td>0</td>\n",
       "      <td>2000</td>\n",
       "      <td>99-1335</td>\n",
       "      <td>reversed</td>\n",
       "      <td>car_crash</td>\n",
       "      <td>92.5%</td>\n",
       "      <td>[farmer, robert , l.]</td>\n",
       "    </tr>\n",
       "    <tr>\n",
       "      <td>1292</td>\n",
       "      <td>in the court of appeals of north carolina no....</td>\n",
       "      <td>0</td>\n",
       "      <td>2017</td>\n",
       "      <td>16-1139</td>\n",
       "      <td>affirmed</td>\n",
       "      <td>contract</td>\n",
       "      <td>71.43%</td>\n",
       "      <td>[bledsoe, louis , a., iii]</td>\n",
       "    </tr>\n",
       "    <tr>\n",
       "      <td>1845</td>\n",
       "      <td>no. coa01-1077 north carolina court of appeals...</td>\n",
       "      <td>0</td>\n",
       "      <td>2002</td>\n",
       "      <td>01-1077</td>\n",
       "      <td>affirmed</td>\n",
       "      <td>contract</td>\n",
       "      <td>100.0%</td>\n",
       "      <td>[allen, j., b., jr.]</td>\n",
       "    </tr>\n",
       "    <tr>\n",
       "      <td>1579</td>\n",
       "      <td>an unpublished opinion of the north carolina c...</td>\n",
       "      <td>0</td>\n",
       "      <td>2005</td>\n",
       "      <td>04-1041</td>\n",
       "      <td>affirmed</td>\n",
       "      <td>property</td>\n",
       "      <td>55.56%</td>\n",
       "      <td>[cayer, david , s.]</td>\n",
       "    </tr>\n",
       "    <tr>\n",
       "      <td>639</td>\n",
       "      <td>no. coa97-877 north carolina court of appeals ...</td>\n",
       "      <td>0</td>\n",
       "      <td>1998</td>\n",
       "      <td>97-877</td>\n",
       "      <td>affirmed</td>\n",
       "      <td>family_law</td>\n",
       "      <td>43.75%</td>\n",
       "      <td>[tillett, jerry , r.]</td>\n",
       "    </tr>\n",
       "  </tbody>\n",
       "</table>\n",
       "</div>"
      ],
      "text/plain": [
       "                                                Opinion  SCT  Year_Filed File_Numbers    Result  \\\n",
       "131   no. coa08-640 north carolina court of appeals ...    0        2009       08-640  affirmed   \n",
       "607    in the court of appeals of north carolina no....    0        2017      16-1189  reversed   \n",
       "400   robert y. purcell, and wife, mary purcell, pla...    0        2004       03-347  reversed   \n",
       "989    in the court of appeals of north carolina no....    0        2020      19-1089  reversed   \n",
       "1914  wri/raleigh, l.p., plaintiff v. issa f. shaikh...    0        2007       06-784  affirmed   \n",
       "458   liberty mutual insurance co. plaintiff, v. jud...    0        2000      99-1335  reversed   \n",
       "1292   in the court of appeals of north carolina no....    0        2017      16-1139  affirmed   \n",
       "1845  no. coa01-1077 north carolina court of appeals...    0        2002      01-1077  affirmed   \n",
       "1579  an unpublished opinion of the north carolina c...    0        2005      04-1041  affirmed   \n",
       "639   no. coa97-877 north carolina court of appeals ...    0        1998       97-877  affirmed   \n",
       "\n",
       "            Case_Type Case_Type_Confidence                 Trial_Judge  \n",
       "131          contract               65.22%        [tennille, ben , f.]  \n",
       "607          property                77.5%      [hockenbury, jay , d.]  \n",
       "400         car_crash                87.5%    [jones, abraham , penn ]  \n",
       "989      construction                75.0%  [collins, g., bryan , jr.]  \n",
       "1914  landlord_tenant               51.35%      [you, will, instruct ]  \n",
       "458         car_crash                92.5%       [farmer, robert , l.]  \n",
       "1292         contract               71.43%  [bledsoe, louis , a., iii]  \n",
       "1845         contract               100.0%        [allen, j., b., jr.]  \n",
       "1579         property               55.56%         [cayer, david , s.]  \n",
       "639        family_law               43.75%       [tillett, jerry , r.]  "
      ]
     },
     "execution_count": 53,
     "metadata": {},
     "output_type": "execute_result"
    }
   ],
   "source": [
    "df.sample(10)"
   ]
  },
  {
   "cell_type": "code",
   "execution_count": 54,
   "metadata": {},
   "outputs": [],
   "source": [
    "x = df.loc[df[\"Trial_Judge\"] == 'error']\n",
    "# After testing the results of x (the list of erros from the trial_judge function), \n",
    "# the unresolved errors were dropped; they were generally non-judicial decisions \n",
    "# (such as from administrative agencies) or decisions involving multiple orders\n",
    "# from multiple judges.\n",
    "drop_list_others = list(x.index)\n",
    "df.drop(drop_list_others, inplace=True)\n",
    "df.reset_index(drop=True, inplace=True)"
   ]
  },
  {
   "cell_type": "code",
   "execution_count": 133,
   "metadata": {
    "scrolled": true
   },
   "outputs": [
    {
     "name": "stdout",
     "output_type": "stream",
     "text": [
      "Index to Test:381\n",
      "['z', 'albert ', 'dia'] \n",
      "\n",
      " city of concord, plaintiff, v. alan r. stafford, and wife katherine l. stafford, defendants no. coa04-1540 filed: 6 september 2005 1. eminent domain--traffic median--separation of lanes of travel–-traffic regulation-- police power the trial court did not err in a condemnation case as a matter of law by granting partial summary judgment in favor of plaintiff city even though defendant property owners contend the construction of a median in front of their property was done for aesthetic rather than public safety purposes and was therefore an exercise of eminent domain rather than an exercise of the city’s police power, because separation of lanes of travel is a valid traffic regulation and an exercise of a governmental agency’s police power. consequently, injury to a landowner’s remaining property resulting from it is noncompensable. 2. eminent domain--traffic median-–public safety purposes--aesthetic purposes-- police power the trial court did not err in a condemnation case as a matter of law by granting partial summary judgment in favor of plaintiff city even though defendant property owners contend a genuine issue of material fact was created by evidence that the construction of a median in front of defendants’ property was done for aesthetic rather than public safety purposes, because: (1) even taking the statement in an affidavit from defendants’ consultant as true that the median was not incorporated into the design primarily for safety, this bare statement fails to establish that the median did not serve a public safety purpose; and (2) the evidence presented by defendants in this case also does not support the contention that the median serves no public purpose, but instead supports the argument that public safety is not its primary purpose. 3. eminent domain--traffic median--police power--reasonable means the means used to accomplish plaintiff city’s legitimate police power to construct a traffic median in front of defendants’ property were reasonable, because defendants still have free ingress and egress to their property by use of crossover intersections located in the same block as their property and the property has not been deprived of all reasonable value by the exercise of this police power. 4. eminent domain--value of property--diminution caused by construction of median the trial court did not err by entering the final judgment in favor of defendants in the amount of $12,290.81 representing the value of that portion of defendants’ property taken by plaintiff, because defendants were not entitled to compensation for the diminution of value of their property due to the construction of a median. appeal by defendants from a partial summary judgement entered 16 june 2003 by judge albert diaz and an order entered 28 september 2004 by judge larry g. ford in cabarrus county superior court. heard in the court of appeals 9 june 2005. city of concord by deputy city attorney robert e. cansler, for plaintiff-appellee. ferguson, scarbrough & hayes, p.a., by james e. scarbrough, for defendants-appellants. jackson, judge. defendant appeals from an order granting partial summary judgment in favor of plaintiff entered on 16 june 2003 and entry of a final judgment by the superior court of cabarrus county on 27 september 2004 in favor of defendants in the amount of $12,290.81. plaintiff, city of concord, is a municipal corporation organized and existing under the laws of the state of north carolina and is vested with the power of eminent domain pursuant to north carolina general statutes section 160a-240.1 (2003). plaintiff commenced a condemnation proceeding against defendants on 14 november 2001 pursuant to its power of eminent domain seeking temporary and permanent rights of way for a road widening project. plaintiff estimated the just compensation for the taking to be $6,675, which amount was deposited with the clerk of superior court of cabarrus county when the complaint was filed. defendants answered the complaint, admitting all allegations except the value of the just compensation. the road widening project for which the portion of defendants’ property was condemned consisted of increasing the number of travel lanes comprising lake concord road on which defendants’ property abutted. the purpose of this project was to accommodate the increased traffic flow safely along the roadway resulting from the expansion plan of the nearby regional hospital. the initial plan consisted of widening the roadway to two travel lanes in each direction with a center turn lane allowing access to each side of the roadway from either direction of travel. the configuration that ultimately was put in place, however, consisted of two travel lanes in each direction with a center median in front of defendants’ property. this configuration prevented access to defendants’ property from the southbound traffic lanes. access to or from the southbound traffic lanes was available at crossover intersections located within the same block as defendants’ property. defendants presented an appraisal that showed the reduction in value of their property due to the road widening project to be $103,890. the majority of this amount ($98,665) was attributable to the restriction of access to lanes in only one direction of travel by the median. the trial court entered partial summary judgment in favor of plaintiff. defendants appealed to this court and filed a petition for writ of certiorari. the petition for writ of certiorari was denied and the appeal dismissed as interlocutory. on remand, plaintiff and defendants stipulated to the evidence and requested an entry of final judgment. final judgment was entered in favor of defendants in the amount of $12,290.81 on 27 september 2004. defendants timely appealed. defendants argue: (1) the trial court erred as a matter of law in granting partial summary judgment to plaintiff; (2) the trial court erred in granting partial summary judgment to plaintiff as there were genuine issues of material fact; and (3) the trial court erred in entering judgment in favor of plaintiff (as to the amount of compensation). plaintiff cross-assigns as error the trial court’s failure to rule on its objection to the consideration of the affidavit of jerry newton based upon his lack of qualification as an expert. [1] defendants first contend that the trial court erred as a matter of law in granting partial summary judgment in favor of plaintiff as the construction of the median was done for aesthetic, rather than public safety, purposes and was therefore an exercise of eminent domain and not an exercise of the city’s police power. summary judgment is proper where there exists no genuine issue of material fact and a party is entitled to judgment as a matter of law. n.c. gen. stat. § 1a-1, rule 56(c) (2003); raybon v. kidd, 147 n.c. app. 509, 512, 555 s.e.2d 656, 658 (2001). “‘if the act is a proper exercise of the police power, the constitutional provision that private property shall not be taken for public use, unless compensation is made, is not applicable.’” department of transp. v. harkey, 308 n.c. 148, 153, 301 s.e.2d 64, 68 (1983)(quoting barnes v. north carolina state highway com., 257 n.c. 507, 514, 126 s.e.2d 732, 739 (1962)(internal quotations and citations omitted)). the separation of lanes of travel is a valid traffic regulation and an exercise of a governmental agency’s police power, consequently, injury to a landowner’s remaining property resulting from it is non-compensable. barnes, at 518, 126 s.e.2d at 740. the facts in barnes are substantially similar to those in the case sub judice. in barnes, as here, a portion of the property owner’s land was taken as part of a road improvement project which included physically dividing the existing roadway into separate lanes of travel. as in the instant case, the result of this separation was to leave the property owner with direct access from his remaining property only to the lanes of travel in one direction with access to or from the opposite lanes of travel available via crossovers located a short distance before and after his property. in barnes, our supreme court discussed the reasoning of the supreme court of washington that “[property owners] have no property right in the continuation or maintenance of the flow of traffic past their property. . . . circuity of route, resulting from an exercise of the police power, is an incidental result of a lawful act. it is not the taking or damaging of a property right.” id. at 516, 126 s.e. 2d at 738-39 (quoting walker v. state, 295 p.2d 238 (wash. 1956)). ultimately, the barnes court concluded that the property owner was not entitled to compensation for the diminution in value of his remaining property attributable to the presence of the median. defendants urge us to adopt the position taken by the south carolina supreme court allowing for the recovery of diminution of value resulting from the construction of medians included in larger road projects. south carolina state highway dep’t v. wilson, 175 s.e.2d 391 (s.c. 1970); hardin v. s.c. dot, 597 s.e.2d 814 (s.c. ct. app. 2004). we see no significant distinction between the instant case and barnes that would justify a departure from the precedents of the courts of north carolina - precedents by which we are bound. accordingly, we decline to adopt the position urged by defendants. the trial court found no basis to distinguish the facts of the current case from the precedent existing under barnes that separation of lanes of traffic is an exercise of the police power. as injury to property as a result of the exercise of the police power is not compensable, we hold that the trial court did not err as a matter of law in granting partial summary judgment in favor of plaintiff. this assignment of error is overruled. [2] defendants next argue that the trial court erred in granting partial summary judgment in favor of plaintiff as there were genuine issues of material fact. defendants contend a genuine issue of material fact was created by evidence that the construction of the median was done for aesthetic, rather than public safety, purposes. as discussed supra, an exercise of eminent domain requires just compensation while an exercise of a police power does not. an “ends-means” analysis is used to determine whether a governmental action is a legitimate exercise of the police power. eastern appraisal servs. v. state, 118 n.c. app. 692, 696, 457 s.e.2d 312, 314 (1995)(citing responsible citizens in opposition to flood plain ordinance v. asheville, 308 n.c. 255, 302 s.e.2d 204 (1983)). the first step of this analysis is to determine whether the goal of the action is within the police power and the second step is to determine whether the means of achieving this goal is reasonable. id. if either step of the analysis fails, then a compensable taking results. id. (citing weeks v. north carolina dep’t of natural resources & community dev., 97 n.c. app. 215, 388 s.e.2d 228, disc. review denied, 326 n.c. 601, 393 s.e.2d 890 (1990)). the scope of the police power generally includes the protection of the public health, safety, morals and general welfare. id. the means used to accomplish a goal within the scope of the police power are unreasonable when they deprive an owner of all practical use of the property or they cause the property to lose all reasonable value. weeks, 97 n.c. app. at 225, 388 s.e.2d at 234. on appeal defendants argue that the median serves no public safety purpose and therefore fails to fall within the scope of the police power. in support of this argument defendants rely on the affidavit of their consultant jerry newton (“newton”), who evaluated the median in question and its purpose. in his affidavit newton states, without providing any basis for his opinion, that the “median was not incorporated into the design primarily for safety.” (emphasis added). even when taken as true, this bare statement fails to establish that the median did not serve a public safety purpose. our supreme court specifically has stated, “[a] median strip, completely separating traffic moving in opposite directions on [the roadway], and preventing left turns except at intersections, is an obvious safety device clearly calculated to reduce traffic hazards.” gene’s, inc. v. charlotte, 259 n.c. 118, 121, 129 s.e.2d 889, 892 (1963). defendants attempt to distinguish both barnes and gene’s from the instant case by pointing out, as the supreme court did in gene’s, that in neither of those cases did the property owner allege that the median strip failed to serve a public safety purpose. nonetheless, the evidence presented by defendants in the case sub judice does not support the contention that the median serves no public safety purpose either. defendants’ evidence supports only the argument that public safety is not its primary purpose. we find that the median in this case serves, at least in part, to promote public safety and therefore falls within the police power. [3] we now turn to the question of whether the means used to accomplish this legitimate police power objective were reasonable. the evidence in the record establishes that defendants still have free ingress and egress to their property and the property has not been deprived of all reasonable value by the exercise of this police power. accordingly, the means used to accomplish this exercise of the police power were reasonable. we hold that there was no genuine issue of material fact whether the construction of the traffic median by plaintiff was a valid exercise of the police power. consequently, the trial court did not err in granting partial summary judgment on that issue in favor of plaintiff. this assignment of error is overruled. [4] finally, defendants assign as error that the trial court erred in granting judgment in favor of plaintiff. it appears that defendants actually are attempting to assign error to the amount of the final judgment as the trial court did not grant judgment in favor of plaintiff. the final judgment was entered in favor of defendants in the amount of $12,290.81, an amount representing the value of that portion of defendants’ property taken by plaintiff. as discussed infra, defendants were not entitled to compensation for the diminution of value resulting from the construction of the median. accordingly, we find no error in the trial court’s final entry of judgment. as we have found no error in the trial court’s denial of compensation to defendants for the diminution of value of their property due to the construction of the median, it is unnecessary to reach plaintiff’s cross-assignment of error regarding the trial court’s failure to rule on its objection to the consideration of newton’s affidavit. affirmed. judges hudson and steelman concur. \n"
     ]
    }
   ],
   "source": [
    "# Test function to review and diagnose issues\n",
    "try:\n",
    "    test_cell = int(input(\"Index to Test:\"))\n",
    "    print(trial_judge(df.Opinion[test_cell]),\n",
    "          '\\n\\n', df.Opinion[test_cell])\n",
    "except:\n",
    "    print(\"Please enter an index to review:\")"
   ]
  },
  {
   "cell_type": "markdown",
   "metadata": {},
   "source": [
    "**Notes in resolving trial_judge errors**<br>\n",
    "162 - multiple\n",
    "204 - multiple\n",
    "246 - nonjudicial\n",
    "269 - nonjudicial\n",
    "285 - 1stimpression\n",
    "382 - multiple\n",
    "452 - multiple\n",
    "471 - nonjudicial\n",
    "496 - nonjudicial\n",
    "576 - nonjudicial\n",
    "606 - multiple\n",
    "664 - multiple\n",
    "715 - nonjudicial\n",
    "722 - SCT\n",
    "779 - by administrative law judge beecher r. gray.\n",
    "822 - multiple\n",
    "851 - nonjudicial\n",
    "853 - multiple\n",
    "892 - nonjudicial\n",
    "899 - nonjudicial\n",
    "944 - multiple\n",
    "1052 - nonjudicial\n",
    "1081 - nonjudicial\n",
    "1102 - nonjudicial\n",
    "1104 - by superior court judge for complex business cases james l. gale in \n",
    "1138 - multiple\n",
    "1176 - SCT\n",
    "1288 - multiple\n",
    "1318 - nonjudicial\n",
    "1373 - multiple\n",
    "1396 - nonjudicial\n",
    "1411 - multiple\n",
    "1463 - multiple\n",
    "1840 - nonjudicial\n",
    "1886 - nonjudicial\n",
    "1978 - nonjudicial\n",
    "2066 - multiple\n",
    "2083 - nonjudicial\n",
    "2155 - SCT?\n",
    "2206 - nonjudicial\n",
    "2214 - nonjudicial\n",
    "2225 - multiple\n",
    "2251 - nonconforming\n",
    "2261 - nonjudicial\n",
    "2517 - nonjudicial\n",
    "2533 - nonjudicial\n",
    "2585 - nonjudicial\n",
    "2625 - nonjudicial\n",
    "2657 - nonjudicial\n",
    "2678 - nonconforming"
   ]
  },
  {
   "cell_type": "code",
   "execution_count": 153,
   "metadata": {},
   "outputs": [],
   "source": [
    "singles = []\n",
    "counter = 0\n",
    "\n",
    "for i in range(len(judges_)):\n",
    "    if (len(judges_[i][0]) < 2):\n",
    "        counter =+ 1\n",
    "        singles.append(judges_[i])"
   ]
  },
  {
   "cell_type": "code",
   "execution_count": 156,
   "metadata": {},
   "outputs": [
    {
     "data": {
      "text/plain": [
       "[['y', 'and', 'jur'],\n",
       " ['k', 'peter', 'mac', 'jr.'],\n",
       " ['z', 'albert', 'dia'],\n",
       " ['z', 'albert', 'dia'],\n",
       " ['k', 'leon', 'stanbac', 'jr.'],\n",
       " ['e', 'ronald', 'payn'],\n",
       " ['z', 'albert', 'dia'],\n",
       " ['r', 'wade', 'barbe'],\n",
       " ['k', 'leon', 'stanbac'],\n",
       " ['r', 'kimberly', 'taylo'],\n",
       " ['g', 'howard', 'mannin'],\n",
       " ['n', 'cressie', 'thigpe', 'jr.'],\n",
       " ['t', 'entering', 'judgmen'],\n",
       " ['s', 'james', 'ammon', 'jr.'],\n",
       " ['l', 'lisa', 'v.'],\n",
       " ['m', 'craig', 'croo'],\n",
       " ['r', 'allen', 'baddou'],\n",
       " ['r', 'wade', 'barbe', 'jr.'],\n",
       " ['r', 'wade', 'barbe', 'jr.'],\n",
       " ['n', 'nancy', 'gordo'],\n",
       " ['r', 'allen', 'baddou'],\n",
       " ['g', 'howard', 'mannin', 'jr.']]"
      ]
     },
     "execution_count": 156,
     "metadata": {},
     "output_type": "execute_result"
    }
   ],
   "source": [
    "# Need to remove these \n",
    "singles"
   ]
  },
  {
   "cell_type": "code",
   "execution_count": 171,
   "metadata": {},
   "outputs": [],
   "source": [
    "judge_drop_list = [60,1878,209,507,618,340,574,567,606,796,1888,2304,2360,2493,815,2519,\n",
    "                   1234,2474,1401,1405,1427,1599]   # y,k,z,e,r,g,n,t,s,m,l"
   ]
  },
  {
   "cell_type": "code",
   "execution_count": 169,
   "metadata": {},
   "outputs": [
    {
     "data": {
      "text/plain": [
       "1599    ['m', 'craig', 'croo']\n",
       "Name: Trial_Judge, dtype: object"
      ]
     },
     "execution_count": 169,
     "metadata": {},
     "output_type": "execute_result"
    }
   ],
   "source": [
    "df.Trial_Judge.loc[df.Trial_Judge.str.startswith('[\\'m\\'', na=False)]"
   ]
  },
  {
   "cell_type": "code",
   "execution_count": 173,
   "metadata": {},
   "outputs": [],
   "source": [
    "df.drop(judge_drop_list, axis=0, inplace=True)"
   ]
  },
  {
   "cell_type": "markdown",
   "metadata": {},
   "source": [
    "#### Make Judges' Names Only Two Words"
   ]
  },
  {
   "cell_type": "code",
   "execution_count": 176,
   "metadata": {},
   "outputs": [],
   "source": [
    "judges = list(df['Trial_Judge'])"
   ]
  },
  {
   "cell_type": "code",
   "execution_count": 177,
   "metadata": {},
   "outputs": [],
   "source": [
    "judges_clean = [i.replace('[','').replace(']','').replace('\\'','').replace(',','').split() for i in judges]"
   ]
  },
  {
   "cell_type": "code",
   "execution_count": 179,
   "metadata": {},
   "outputs": [],
   "source": [
    "judges_short = [i[:2] for i in judges_clean]"
   ]
  },
  {
   "cell_type": "code",
   "execution_count": 182,
   "metadata": {},
   "outputs": [
    {
     "data": {
      "text/plain": [
       "['lock', 'thomas']"
      ]
     },
     "execution_count": 182,
     "metadata": {},
     "output_type": "execute_result"
    }
   ],
   "source": [
    "judges_short[1300]"
   ]
  },
  {
   "cell_type": "code",
   "execution_count": 188,
   "metadata": {},
   "outputs": [],
   "source": [
    "df.Trial_Judge = pd.Series(judges_short)"
   ]
  },
  {
   "cell_type": "code",
   "execution_count": 189,
   "metadata": {},
   "outputs": [
    {
     "data": {
      "text/html": [
       "<div>\n",
       "<style scoped>\n",
       "    .dataframe tbody tr th:only-of-type {\n",
       "        vertical-align: middle;\n",
       "    }\n",
       "\n",
       "    .dataframe tbody tr th {\n",
       "        vertical-align: top;\n",
       "    }\n",
       "\n",
       "    .dataframe thead th {\n",
       "        text-align: right;\n",
       "    }\n",
       "</style>\n",
       "<table border=\"1\" class=\"dataframe\">\n",
       "  <thead>\n",
       "    <tr style=\"text-align: right;\">\n",
       "      <th></th>\n",
       "      <th>Opinion</th>\n",
       "      <th>SCT</th>\n",
       "      <th>Year_Filed</th>\n",
       "      <th>File_Numbers</th>\n",
       "      <th>Result</th>\n",
       "      <th>Case_Type</th>\n",
       "      <th>Case_Type_Confidence</th>\n",
       "      <th>Trial_Judge</th>\n",
       "      <th>County</th>\n",
       "    </tr>\n",
       "  </thead>\n",
       "  <tbody>\n",
       "    <tr>\n",
       "      <td>0</td>\n",
       "      <td>an unpublished opinion of the north carolina ...</td>\n",
       "      <td>0</td>\n",
       "      <td>2020</td>\n",
       "      <td>19-563</td>\n",
       "      <td>1</td>\n",
       "      <td>property</td>\n",
       "      <td>84.62%</td>\n",
       "      <td>[williams, karen]</td>\n",
       "      <td>mecklenburg</td>\n",
       "    </tr>\n",
       "    <tr>\n",
       "      <td>1</td>\n",
       "      <td>no. coa11-246 north carolina court of appeals ...</td>\n",
       "      <td>0</td>\n",
       "      <td>2012</td>\n",
       "      <td>11-246</td>\n",
       "      <td>1</td>\n",
       "      <td>employment</td>\n",
       "      <td>55.26%</td>\n",
       "      <td>[hight, henry]</td>\n",
       "      <td>wake</td>\n",
       "    </tr>\n",
       "    <tr>\n",
       "      <td>2</td>\n",
       "      <td>no. coa08-347 north carolina court of appeals ...</td>\n",
       "      <td>0</td>\n",
       "      <td>2009</td>\n",
       "      <td>08-347</td>\n",
       "      <td>1</td>\n",
       "      <td>property</td>\n",
       "      <td>85.71%</td>\n",
       "      <td>[poovey, nathaniel]</td>\n",
       "      <td>mecklenburg</td>\n",
       "    </tr>\n",
       "    <tr>\n",
       "      <td>3</td>\n",
       "      <td>michael harrison gregory and wife, vivian greg...</td>\n",
       "      <td>0</td>\n",
       "      <td>2006</td>\n",
       "      <td>05-885</td>\n",
       "      <td>1</td>\n",
       "      <td>car_crash</td>\n",
       "      <td>33.33%</td>\n",
       "      <td>[gore, william]</td>\n",
       "      <td>brunswick</td>\n",
       "    </tr>\n",
       "    <tr>\n",
       "      <td>4</td>\n",
       "      <td>in the court of appeals of north carolina no....</td>\n",
       "      <td>0</td>\n",
       "      <td>2017</td>\n",
       "      <td>17-112</td>\n",
       "      <td>0</td>\n",
       "      <td>governmental</td>\n",
       "      <td>100.0%</td>\n",
       "      <td>[stephens, donald]</td>\n",
       "      <td>wake</td>\n",
       "    </tr>\n",
       "  </tbody>\n",
       "</table>\n",
       "</div>"
      ],
      "text/plain": [
       "                                             Opinion  SCT  Year_Filed File_Numbers  Result  \\\n",
       "0   an unpublished opinion of the north carolina ...    0        2020       19-563       1   \n",
       "1  no. coa11-246 north carolina court of appeals ...    0        2012       11-246       1   \n",
       "2  no. coa08-347 north carolina court of appeals ...    0        2009       08-347       1   \n",
       "3  michael harrison gregory and wife, vivian greg...    0        2006       05-885       1   \n",
       "4   in the court of appeals of north carolina no....    0        2017       17-112       0   \n",
       "\n",
       "      Case_Type Case_Type_Confidence          Trial_Judge       County  \n",
       "0      property               84.62%    [williams, karen]  mecklenburg  \n",
       "1    employment               55.26%       [hight, henry]         wake  \n",
       "2      property               85.71%  [poovey, nathaniel]  mecklenburg  \n",
       "3     car_crash               33.33%      [gore, william]    brunswick  \n",
       "4  governmental               100.0%   [stephens, donald]         wake  "
      ]
     },
     "execution_count": 189,
     "metadata": {},
     "output_type": "execute_result"
    }
   ],
   "source": [
    "df.head()"
   ]
  },
  {
   "cell_type": "markdown",
   "metadata": {},
   "source": [
    "#### Misc. Fix"
   ]
  },
  {
   "cell_type": "code",
   "execution_count": 196,
   "metadata": {
    "scrolled": true
   },
   "outputs": [
    {
     "data": {
      "text/html": [
       "<div>\n",
       "<style scoped>\n",
       "    .dataframe tbody tr th:only-of-type {\n",
       "        vertical-align: middle;\n",
       "    }\n",
       "\n",
       "    .dataframe tbody tr th {\n",
       "        vertical-align: top;\n",
       "    }\n",
       "\n",
       "    .dataframe thead th {\n",
       "        text-align: right;\n",
       "    }\n",
       "</style>\n",
       "<table border=\"1\" class=\"dataframe\">\n",
       "  <thead>\n",
       "    <tr style=\"text-align: right;\">\n",
       "      <th></th>\n",
       "      <th>Opinion</th>\n",
       "      <th>SCT</th>\n",
       "      <th>Year_Filed</th>\n",
       "      <th>File_Numbers</th>\n",
       "      <th>Result</th>\n",
       "      <th>Case_Type</th>\n",
       "      <th>Case_Type_Confidence</th>\n",
       "      <th>Trial_Judge</th>\n",
       "      <th>County</th>\n",
       "    </tr>\n",
       "  </thead>\n",
       "  <tbody>\n",
       "    <tr>\n",
       "      <td>263</td>\n",
       "      <td>james e. long, commissioner of insurance of no...</td>\n",
       "      <td>0</td>\n",
       "      <td>2004</td>\n",
       "      <td>03-638</td>\n",
       "      <td>1</td>\n",
       "      <td>corporate</td>\n",
       "      <td>66.67%</td>\n",
       "      <td>['judgment', 'granting']</td>\n",
       "      <td>wake</td>\n",
       "    </tr>\n",
       "    <tr>\n",
       "      <td>1956</td>\n",
       "      <td>thomas m. urquhart, jr., administrator of the ...</td>\n",
       "      <td>0</td>\n",
       "      <td>2011</td>\n",
       "      <td>10-1255</td>\n",
       "      <td>1</td>\n",
       "      <td>med_mal</td>\n",
       "      <td>53.85%</td>\n",
       "      <td>['judgment', 'granting']</td>\n",
       "      <td>pitt</td>\n",
       "    </tr>\n",
       "  </tbody>\n",
       "</table>\n",
       "</div>"
      ],
      "text/plain": [
       "                                                Opinion  SCT  Year_Filed File_Numbers  Result  \\\n",
       "263   james e. long, commissioner of insurance of no...    0        2004       03-638       1   \n",
       "1956  thomas m. urquhart, jr., administrator of the ...    0        2011      10-1255       1   \n",
       "\n",
       "      Case_Type Case_Type_Confidence               Trial_Judge County  \n",
       "263   corporate               66.67%  ['judgment', 'granting']   wake  \n",
       "1956    med_mal               53.85%  ['judgment', 'granting']   pitt  "
      ]
     },
     "execution_count": 196,
     "metadata": {},
     "output_type": "execute_result"
    }
   ],
   "source": [
    "df.Trial_Judge = df.Trial_Judge.map(lambda x: str(x))\n",
    "df[df['Trial_Judge'].str.contains('judgment', regex=False)]"
   ]
  },
  {
   "cell_type": "code",
   "execution_count": 197,
   "metadata": {},
   "outputs": [],
   "source": [
    "df.drop([263,1956], axis=0, inplace=True)\n",
    "df.reset_index(drop=True, inplace=True)"
   ]
  },
  {
   "cell_type": "markdown",
   "metadata": {},
   "source": [
    "## 6. Extract Feature: County"
   ]
  },
  {
   "cell_type": "code",
   "execution_count": 198,
   "metadata": {},
   "outputs": [],
   "source": [
    "def extract_county(text):\n",
    "    try:\n",
    "        try:\n",
    "            county = re.search(\"in (\\w+) county\",text[:4000])\n",
    "            return county.group(1)\n",
    "        except:\n",
    "            county = re.search(\"(\\w+) county\", text)\n",
    "            return county.group(1)\n",
    "    except:\n",
    "        return(None)"
   ]
  },
  {
   "cell_type": "code",
   "execution_count": 199,
   "metadata": {},
   "outputs": [
    {
     "name": "stdout",
     "output_type": "stream",
     "text": [
      "bladen\n"
     ]
    }
   ],
   "source": [
    "z = extract_county(df.Opinion[11])\n",
    "print(z)"
   ]
  },
  {
   "cell_type": "code",
   "execution_count": 200,
   "metadata": {},
   "outputs": [],
   "source": [
    "county_list = []\n",
    "for i in range(len(df)):\n",
    "    x = extract_county(df.Opinion[i])\n",
    "    county_list.append(x)\n",
    "    \n",
    "df[\"County\"] = pd.Series(county_list).values"
   ]
  },
  {
   "cell_type": "code",
   "execution_count": 201,
   "metadata": {},
   "outputs": [
    {
     "data": {
      "text/html": [
       "<div>\n",
       "<style scoped>\n",
       "    .dataframe tbody tr th:only-of-type {\n",
       "        vertical-align: middle;\n",
       "    }\n",
       "\n",
       "    .dataframe tbody tr th {\n",
       "        vertical-align: top;\n",
       "    }\n",
       "\n",
       "    .dataframe thead th {\n",
       "        text-align: right;\n",
       "    }\n",
       "</style>\n",
       "<table border=\"1\" class=\"dataframe\">\n",
       "  <thead>\n",
       "    <tr style=\"text-align: right;\">\n",
       "      <th></th>\n",
       "      <th>Opinion</th>\n",
       "      <th>SCT</th>\n",
       "      <th>Year_Filed</th>\n",
       "      <th>File_Numbers</th>\n",
       "      <th>Result</th>\n",
       "      <th>Case_Type</th>\n",
       "      <th>Case_Type_Confidence</th>\n",
       "      <th>Trial_Judge</th>\n",
       "      <th>County</th>\n",
       "    </tr>\n",
       "  </thead>\n",
       "  <tbody>\n",
       "  </tbody>\n",
       "</table>\n",
       "</div>"
      ],
      "text/plain": [
       "Empty DataFrame\n",
       "Columns: [Opinion, SCT, Year_Filed, File_Numbers, Result, Case_Type, Case_Type_Confidence, Trial_Judge, County]\n",
       "Index: []"
      ]
     },
     "execution_count": 201,
     "metadata": {},
     "output_type": "execute_result"
    }
   ],
   "source": [
    "df.County = df.County.fillna(value='-',)\n",
    "counties_err = df.loc[df[\"County\"] == '-']\n",
    "counties_err.head(10)"
   ]
  },
  {
   "cell_type": "code",
   "execution_count": 202,
   "metadata": {},
   "outputs": [],
   "source": [
    "# Drop 8 rows not returning any county\n",
    "x = df.loc[df[\"County\"] == '-']\n",
    "y = x.index.tolist()\n",
    "df.drop(y,inplace=True)\n",
    "df.reset_index(drop=True, inplace=True)"
   ]
  },
  {
   "cell_type": "markdown",
   "metadata": {},
   "source": [
    "Noted judge incorrectly noted as \"judgment\", only two outliers have this. "
   ]
  },
  {
   "cell_type": "markdown",
   "metadata": {},
   "source": [
    "## 8. One-Hot Encode Labels"
   ]
  },
  {
   "cell_type": "code",
   "execution_count": 203,
   "metadata": {},
   "outputs": [
    {
     "name": "stdout",
     "output_type": "stream",
     "text": [
      "<class 'pandas.core.frame.DataFrame'>\n",
      "RangeIndex: 2666 entries, 0 to 2665\n",
      "Data columns (total 9 columns):\n",
      "Opinion                 2666 non-null object\n",
      "SCT                     2666 non-null int64\n",
      "Year_Filed              2666 non-null int64\n",
      "File_Numbers            2666 non-null object\n",
      "Result                  2666 non-null int64\n",
      "Case_Type               2666 non-null object\n",
      "Case_Type_Confidence    2666 non-null object\n",
      "Trial_Judge             2666 non-null object\n",
      "County                  2666 non-null object\n",
      "dtypes: int64(3), object(6)\n",
      "memory usage: 187.6+ KB\n"
     ]
    }
   ],
   "source": [
    "df.info()"
   ]
  },
  {
   "cell_type": "code",
   "execution_count": 204,
   "metadata": {},
   "outputs": [],
   "source": [
    "df.Result.replace('affirmed', 1, inplace=True)\n",
    "df.Result.replace('reversed', 0, inplace=True)"
   ]
  },
  {
   "cell_type": "code",
   "execution_count": 205,
   "metadata": {
    "scrolled": true
   },
   "outputs": [
    {
     "data": {
      "text/html": [
       "<div>\n",
       "<style scoped>\n",
       "    .dataframe tbody tr th:only-of-type {\n",
       "        vertical-align: middle;\n",
       "    }\n",
       "\n",
       "    .dataframe tbody tr th {\n",
       "        vertical-align: top;\n",
       "    }\n",
       "\n",
       "    .dataframe thead th {\n",
       "        text-align: right;\n",
       "    }\n",
       "</style>\n",
       "<table border=\"1\" class=\"dataframe\">\n",
       "  <thead>\n",
       "    <tr style=\"text-align: right;\">\n",
       "      <th></th>\n",
       "      <th>SCT</th>\n",
       "      <th>Year_Filed</th>\n",
       "      <th>Result</th>\n",
       "    </tr>\n",
       "  </thead>\n",
       "  <tbody>\n",
       "    <tr>\n",
       "      <td>count</td>\n",
       "      <td>2666.0</td>\n",
       "      <td>2666.000000</td>\n",
       "      <td>2666.000000</td>\n",
       "    </tr>\n",
       "    <tr>\n",
       "      <td>mean</td>\n",
       "      <td>0.0</td>\n",
       "      <td>2008.383721</td>\n",
       "      <td>0.744186</td>\n",
       "    </tr>\n",
       "    <tr>\n",
       "      <td>std</td>\n",
       "      <td>0.0</td>\n",
       "      <td>5.921705</td>\n",
       "      <td>0.436400</td>\n",
       "    </tr>\n",
       "    <tr>\n",
       "      <td>min</td>\n",
       "      <td>0.0</td>\n",
       "      <td>1998.000000</td>\n",
       "      <td>0.000000</td>\n",
       "    </tr>\n",
       "    <tr>\n",
       "      <td>25%</td>\n",
       "      <td>0.0</td>\n",
       "      <td>2004.000000</td>\n",
       "      <td>0.000000</td>\n",
       "    </tr>\n",
       "    <tr>\n",
       "      <td>50%</td>\n",
       "      <td>0.0</td>\n",
       "      <td>2008.000000</td>\n",
       "      <td>1.000000</td>\n",
       "    </tr>\n",
       "    <tr>\n",
       "      <td>75%</td>\n",
       "      <td>0.0</td>\n",
       "      <td>2013.000000</td>\n",
       "      <td>1.000000</td>\n",
       "    </tr>\n",
       "    <tr>\n",
       "      <td>max</td>\n",
       "      <td>0.0</td>\n",
       "      <td>2020.000000</td>\n",
       "      <td>1.000000</td>\n",
       "    </tr>\n",
       "  </tbody>\n",
       "</table>\n",
       "</div>"
      ],
      "text/plain": [
       "          SCT   Year_Filed       Result\n",
       "count  2666.0  2666.000000  2666.000000\n",
       "mean      0.0  2008.383721     0.744186\n",
       "std       0.0     5.921705     0.436400\n",
       "min       0.0  1998.000000     0.000000\n",
       "25%       0.0  2004.000000     0.000000\n",
       "50%       0.0  2008.000000     1.000000\n",
       "75%       0.0  2013.000000     1.000000\n",
       "max       0.0  2020.000000     1.000000"
      ]
     },
     "execution_count": 205,
     "metadata": {},
     "output_type": "execute_result"
    }
   ],
   "source": [
    "df.describe()"
   ]
  },
  {
   "cell_type": "markdown",
   "metadata": {},
   "source": [
    "## 8. EDA Visualizations"
   ]
  },
  {
   "cell_type": "markdown",
   "metadata": {},
   "source": [
    "### A. MSJ Allowed/Reversed Over Time"
   ]
  },
  {
   "cell_type": "code",
   "execution_count": 206,
   "metadata": {},
   "outputs": [],
   "source": [
    "#Prepare visualizing delay by departure window\n",
    "s1 = df.groupby(['Year_Filed'])['Result'].sum()\n",
    "s2 = df.groupby(['Year_Filed'])['Result'].count()\n",
    "df_affirmed = pd.concat([s1, s2], axis = 1)\n",
    "df_affirmed.columns = ['Affirmed','Total']\n",
    "df_affirmed['percent_affirmed'] = df_affirmed.Affirmed / df_affirmed.Total\n",
    "df_affirmed['percent_reversed'] = 1- df_affirmed.percent_affirmed\n",
    "df_affirmed.reset_index(inplace=True)"
   ]
  },
  {
   "cell_type": "code",
   "execution_count": 207,
   "metadata": {},
   "outputs": [
    {
     "data": {
      "image/png": "[encoded data removed]",
      "text/plain": [
       "<Figure size 1296x576 with 1 Axes>"
      ]
     },
     "metadata": {
      "needs_background": "light"
     },
     "output_type": "display_data"
    }
   ],
   "source": [
    "# Visualize On-Time Departures by the Departure Window\n",
    "r = [x for x in range(1998,2021)]\n",
    "greenBars = df_affirmed.percent_affirmed\n",
    "redBars = df_affirmed.percent_reversed\n",
    "barWidth = 0.85\n",
    "names = r\n",
    "# Create green Bars\n",
    "plt.figure(figsize=(18,8))\n",
    "plt.bar(r, greenBars, color='#69CB67', edgecolor='white', width=barWidth)\n",
    "# Create orange Bars\n",
    "plt.bar(r, redBars, bottom=greenBars, color='#EE6666', edgecolor='white', width=barWidth)\n",
    "plt.xticks(r, names)\n",
    "plt.ylabel(\"Percent Affirmed (Green) and Reversed (Red) \\n (Note truncated axis)\")\n",
    "plt.xlabel(\"Year Opinion Filed\")\n",
    "plt.title(\"Percentage of Affirmed vs. Reversed Motions by Year \\n [Affirmed=Green, Reversed=Red]\")\n",
    "\n",
    "ax = plt.gca()\n",
    "ax.set_ylim(0.4, ax.get_ylim()[1])\n",
    "\n",
    "for i in range(len(r)):\n",
    "  plt.annotate(round(df_affirmed.percent_affirmed[i]*100,1), \n",
    "               xy=(r[i]-.29,(df_affirmed.percent_affirmed[i] - 0.035)), color='black')\n",
    "  plt.annotate(round(df_affirmed.percent_reversed[i]*100,1), \n",
    "               xy=(r[i]-.29,(df_affirmed.percent_affirmed[i] + 0.02)), color='black')\n",
    "\n",
    "plt.show()"
   ]
  },
  {
   "cell_type": "markdown",
   "metadata": {},
   "source": [
    "The cases generally favor affirming trial-court decisions, with only between 17.9% (2014) and 36.3% (1999) of trial-court decisions being reversed over the twenty-two year look-back period. There is no obvious pattern over the corpus' time frame, which is **reassuring** for our model, that time does not appear to play a significant role. "
   ]
  },
  {
   "cell_type": "markdown",
   "metadata": {},
   "source": [
    "### B. Corpus by Percentage of Case Type"
   ]
  },
  {
   "cell_type": "code",
   "execution_count": 208,
   "metadata": {},
   "outputs": [],
   "source": [
    "#Horizontal bar chart\n",
    "t1 = df.groupby(['Case_Type'])['Result'].sum()\n",
    "t2 = df.groupby(['Case_Type'])['Result'].count()\n",
    "df_casetype = pd.concat([t1, t2], axis = 1)\n",
    "df_casetype.columns = ['Affirmed','Total']\n",
    "df_casetype['percent_affirmed'] = df_casetype.Affirmed / df_casetype.Total\n",
    "df_casetype.reset_index(inplace=True)"
   ]
  },
  {
   "cell_type": "code",
   "execution_count": 209,
   "metadata": {},
   "outputs": [],
   "source": [
    "df_casetype.sort_values(by=['percent_affirmed'], ascending=False, inplace=True)\n",
    "df_casetype.reset_index(inplace=True, drop=True)"
   ]
  },
  {
   "cell_type": "code",
   "execution_count": 210,
   "metadata": {},
   "outputs": [
    {
     "data": {
      "image/png": "[encoded data removed]",
      "text/plain": [
       "<Figure size 864x720 with 1 Axes>"
      ]
     },
     "metadata": {
      "needs_background": "light"
     },
     "output_type": "display_data"
    }
   ],
   "source": [
    "f, ax = plt.subplots(figsize=(12,10))\n",
    "sns.set_palette(\"hls\", n_colors=25)\n",
    "sns.barplot(x=df_casetype.percent_affirmed, y=df_casetype.Case_Type)\n",
    "# sns.set_color_codes(\"hls\", 8)\n",
    "ax.set(ylabel=\"Case Type\",\n",
    "       xlabel=\"Percent Affirmed\",\n",
    "       title=\"Percentage of Affirmed Motions by Case Type\")\n",
    "for i in range(len(df_casetype)):\n",
    "    anno = 'n affirmed = ' + str(df_casetype.Affirmed[i]) + ' out of ' + str(df_casetype.Total[i]) + ' (' + str(round(df_casetype.percent_affirmed[i]*100,2)) + '%)'\n",
    "    plt.annotate(anno, \n",
    "               xy=(.02, i+.1), color='white', weight='bold')\n",
    "plt.show()"
   ]
  },
  {
   "cell_type": "markdown",
   "metadata": {},
   "source": [
    "While most cases are affirmed regardless of case type, this chart illustrates the relative likelihood of a given case type to be affirmed following a summary judgment motion, as compared to the other case types. The sample sizes of each type shown on the chart also illustrate the sample sizes, which give insight into the reliability of each case type's percentage."
   ]
  },
  {
   "cell_type": "markdown",
   "metadata": {},
   "source": [
    "### C. Percent Granted by Case Type and Year "
   ]
  },
  {
   "cell_type": "markdown",
   "metadata": {},
   "source": [
    "Scuttled -- Final plot was an incomprehensible mess since there were so many variations between 0-1.0 and so many case types. "
   ]
  },
  {
   "cell_type": "markdown",
   "metadata": {},
   "source": [
    "### D. Trial Judge "
   ]
  },
  {
   "cell_type": "code",
   "execution_count": 211,
   "metadata": {},
   "outputs": [],
   "source": [
    "z1 = df.groupby(['Trial_Judge'])['Result'].sum()\n",
    "z2 = df.groupby(['Trial_Judge'])['Result'].count()\n",
    "df_judge = pd.concat([z1, z2], axis = 1)\n",
    "df_judge.columns = ['Affirmed','Total']\n",
    "df_judge['percent_affirmed'] = df_judge.Affirmed / df_judge.Total\n",
    "df_judge.reset_index(inplace=True)"
   ]
  },
  {
   "cell_type": "code",
   "execution_count": 212,
   "metadata": {},
   "outputs": [],
   "source": [
    "df_judge.sort_values(by=['Total'], ascending=False, inplace=True)\n",
    "df_judge.reset_index(inplace=True, drop=True)"
   ]
  },
  {
   "cell_type": "code",
   "execution_count": 213,
   "metadata": {},
   "outputs": [],
   "source": [
    "df_judge = df_judge[:20]"
   ]
  },
  {
   "cell_type": "code",
   "execution_count": 214,
   "metadata": {},
   "outputs": [],
   "source": [
    "def judge_name(list_):\n",
    "    string_ = list_.strip('[]').replace('\\'','')\n",
    "    return string_.title()"
   ]
  },
  {
   "cell_type": "code",
   "execution_count": 215,
   "metadata": {},
   "outputs": [],
   "source": [
    "df_judge.Trial_Judge = df_judge.Trial_Judge.apply(lambda x: judge_name(x))"
   ]
  },
  {
   "cell_type": "code",
   "execution_count": 216,
   "metadata": {},
   "outputs": [],
   "source": [
    "df_judge.sort_values(by=['percent_affirmed'], ascending=False, inplace=True)\n",
    "df_judge.reset_index(inplace=True, drop=True)"
   ]
  },
  {
   "cell_type": "code",
   "execution_count": 217,
   "metadata": {},
   "outputs": [
    {
     "data": {
      "image/png": "[encoded data removed]",
      "text/plain": [
       "<Figure size 720x432 with 1 Axes>"
      ]
     },
     "metadata": {
      "needs_background": "light"
     },
     "output_type": "display_data"
    }
   ],
   "source": [
    "f, ax = plt.subplots(figsize=(10,6))\n",
    "sns.set_palette(\"hls\", n_colors=12)\n",
    "sns.barplot(x=df_judge.percent_affirmed[:10], y=df_judge.Trial_Judge[:10])\n",
    "ax.set(ylabel=\"Judges (Current and Former)\",\n",
    "       xlabel=\"Percent Affirmed\",\n",
    "       title=\"Top Ten Judges with Most Summary Judgment Cases Before the Court of Appeals* \\n Organized by Percentage of Affirmed Cases (*after this model's filters were applied)\")\n",
    "\n",
    "for i in range(len(df_casetype)):\n",
    "    anno = 'n affirmed: ' + str(df_judge.Affirmed[i]) + ' out of ' + str(df_judge.Total[i]) + ' (' + str(round(df_judge.percent_affirmed[i]*100,2)) + '%)'\n",
    "    plt.annotate(anno, \n",
    "               xy=(.02, i+.1), color='white', weight='bold')\n",
    "plt.show()"
   ]
  },
  {
   "cell_type": "markdown",
   "metadata": {},
   "source": [
    "## 9. Export Final DataFrame"
   ]
  },
  {
   "cell_type": "code",
   "execution_count": 218,
   "metadata": {
    "id": "kYJNHUqz-Dkn"
   },
   "outputs": [],
   "source": [
    "# Save the new DF to a data file\n",
    "with open('ProjectData/df_features.data', 'wb') as filehandle:\n",
    "    # store the data as binary data stream\n",
    "    pickle.dump(df, filehandle)   "
   ]
  },
  {
   "cell_type": "code",
   "execution_count": null,
   "metadata": {},
   "outputs": [],
   "source": []
  }
 ],
 "metadata": {
  "kernelspec": {
   "display_name": "Python 3",
   "language": "python",
   "name": "python3"
  },
  "language_info": {
   "codemirror_mode": {
    "name": "ipython",
    "version": 3
   },
   "file_extension": ".py",
   "mimetype": "text/x-python",
   "name": "python",
   "nbconvert_exporter": "python",
   "pygments_lexer": "ipython3",
   "version": "3.6.9"
  }
 },
 "nbformat": 4,
 "nbformat_minor": 2
}
