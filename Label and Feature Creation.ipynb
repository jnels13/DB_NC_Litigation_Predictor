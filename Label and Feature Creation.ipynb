{
 "cells": [
  {
   "cell_type": "markdown",
   "metadata": {},
   "source": [
    "# Label and Feature Creation\n",
    "In this notebook, I will import the single-column DataFrame of appellate opinions and create columns with labels and features. \n",
    "## TO DO:\n",
    "<ul>\n",
    "<li>0. Import Libraries \n",
    "<li>1. Remove page numbers - DONE\n",
    "<li>2. Drop Dissents - DONE\n",
    "<li>3. Add file numbers - DONE \n",
    "<li>4. Create Labels section - DONE\n",
    "<ul><li>A. Create function and apply to DataFrame \n",
    "<li>B. Clean up, combine, and drop columns\n",
    "    <li>C: Address reversing-denials or affirming-denials </ul>\n",
    "<li>5. Create case-type column -- DONE\n",
    "<li>6. Extract Trial Court Judge -- PICK UP HERE -- CONTINUE REFINING JUDGE FUNCTION\n",
    "<li>7. Extract County -- NEED TO FIX \"NONES\" AND WRONG WORDS\n",
    "<li>8. Topic Modeling Features - TBD\n",
    "<li>9. EDA Visualizations - TBD\n",
    "</ul>\n",
    "\n",
    "1052 rows dropped for not fitting the affirmed/reversed criteria (errors, affirmed in part, appeals dismissed, etc.)<br>\n",
    "38 rows dropped for not conforming to a reasonable case type or being too short to have a reasonable effect."
   ]
  },
  {
   "cell_type": "markdown",
   "metadata": {},
   "source": [
    "## 0. Import Libraries and DataFrame"
   ]
  },
  {
   "cell_type": "code",
   "execution_count": 41,
   "metadata": {},
   "outputs": [],
   "source": [
    "import io\n",
    "import re\n",
    "import pandas as pd\n",
    "import pickle\n",
    "import operator\n",
    "\n",
    "pd.set_option('display.max_rows', 300)\n",
    "pd.set_option('display.max_columns', 100)\n",
    "pd.set_option('display.width', 100)"
   ]
  },
  {
   "cell_type": "code",
   "execution_count": 42,
   "metadata": {},
   "outputs": [],
   "source": [
    "# Open the dataframe\n",
    "infile = open('ProjectData/df_clean.data', 'rb')\n",
    "df = pickle.load(infile)\n",
    "infile.close()"
   ]
  },
  {
   "cell_type": "code",
   "execution_count": 43,
   "metadata": {},
   "outputs": [],
   "source": [
    "df.reset_index(inplace=True, drop=True)"
   ]
  },
  {
   "cell_type": "code",
   "execution_count": 44,
   "metadata": {},
   "outputs": [
    {
     "name": "stdout",
     "output_type": "stream",
     "text": [
      "<class 'pandas.core.frame.DataFrame'>\n",
      "RangeIndex: 3922 entries, 0 to 3921\n",
      "Data columns (total 1 columns):\n",
      "Opinion    3922 non-null object\n",
      "dtypes: object(1)\n",
      "memory usage: 30.8+ KB\n"
     ]
    },
    {
     "data": {
      "text/plain": [
       "(None,                                              Opinion\n",
       " 0   an unpublished opinion of the north carolina ...\n",
       " 1  no. coa11-246 north carolina court of appeals ...\n",
       " 2  no. coa08-347 north carolina court of appeals ...\n",
       " 3  michael harrison gregory and wife, vivian greg...\n",
       " 4  atlantic contracting and material company, inc...)"
      ]
     },
     "execution_count": 44,
     "metadata": {},
     "output_type": "execute_result"
    }
   ],
   "source": [
    "df.info(), df.head()"
   ]
  },
  {
   "cell_type": "markdown",
   "metadata": {},
   "source": [
    "## 1. Remove Page Numbers & Supreme Court Cases\n",
    "\n",
    "### A. Remove Page Numbers\n",
    "Page numbers (-1-) appear throughout the corpus and complicated some of the following functions.  Accordingly, they're removed here. "
   ]
  },
  {
   "cell_type": "code",
   "execution_count": 45,
   "metadata": {},
   "outputs": [],
   "source": [
    "def remove_page_nums(string_):\n",
    "    \"\"\"\n",
    "    A function to remove page numbers from a given string\n",
    "    Page numbers must be the format \"-##-\"\n",
    "    \"\"\"\n",
    "    new_string = re.sub(\" -\\d+- \", \" \", string_)\n",
    "    return(new_string)"
   ]
  },
  {
   "cell_type": "code",
   "execution_count": 46,
   "metadata": {},
   "outputs": [],
   "source": [
    "no_page_list = []\n",
    "for i in range(len(df.Opinion)):\n",
    "    x = remove_page_nums(df.Opinion[i])\n",
    "    no_page_list.append(x)\n",
    "    \n",
    "df[\"Opinion\"] = pd.Series(no_page_list).values"
   ]
  },
  {
   "cell_type": "code",
   "execution_count": 47,
   "metadata": {},
   "outputs": [
    {
     "data": {
      "text/html": [
       "<div>\n",
       "<style scoped>\n",
       "    .dataframe tbody tr th:only-of-type {\n",
       "        vertical-align: middle;\n",
       "    }\n",
       "\n",
       "    .dataframe tbody tr th {\n",
       "        vertical-align: top;\n",
       "    }\n",
       "\n",
       "    .dataframe thead th {\n",
       "        text-align: right;\n",
       "    }\n",
       "</style>\n",
       "<table border=\"1\" class=\"dataframe\">\n",
       "  <thead>\n",
       "    <tr style=\"text-align: right;\">\n",
       "      <th></th>\n",
       "      <th>Opinion</th>\n",
       "    </tr>\n",
       "  </thead>\n",
       "  <tbody>\n",
       "    <tr>\n",
       "      <td>0</td>\n",
       "      <td>an unpublished opinion of the north carolina ...</td>\n",
       "    </tr>\n",
       "    <tr>\n",
       "      <td>1</td>\n",
       "      <td>no. coa11-246 north carolina court of appeals ...</td>\n",
       "    </tr>\n",
       "    <tr>\n",
       "      <td>2</td>\n",
       "      <td>no. coa08-347 north carolina court of appeals ...</td>\n",
       "    </tr>\n",
       "    <tr>\n",
       "      <td>3</td>\n",
       "      <td>michael harrison gregory and wife, vivian greg...</td>\n",
       "    </tr>\n",
       "    <tr>\n",
       "      <td>4</td>\n",
       "      <td>atlantic contracting and material company, inc...</td>\n",
       "    </tr>\n",
       "  </tbody>\n",
       "</table>\n",
       "</div>"
      ],
      "text/plain": [
       "                                             Opinion\n",
       "0   an unpublished opinion of the north carolina ...\n",
       "1  no. coa11-246 north carolina court of appeals ...\n",
       "2  no. coa08-347 north carolina court of appeals ...\n",
       "3  michael harrison gregory and wife, vivian greg...\n",
       "4  atlantic contracting and material company, inc..."
      ]
     },
     "execution_count": 47,
     "metadata": {},
     "output_type": "execute_result"
    }
   ],
   "source": [
    "df.head()"
   ]
  },
  {
   "cell_type": "markdown",
   "metadata": {},
   "source": [
    "### B. Remove Supreme Court Cases (that review court of appeals cases)\n",
    "These cases review the court of appeals "
   ]
  },
  {
   "cell_type": "code",
   "execution_count": 165,
   "metadata": {},
   "outputs": [],
   "source": [
    "df['SCT'] = 0"
   ]
  },
  {
   "cell_type": "code",
   "execution_count": 173,
   "metadata": {},
   "outputs": [],
   "source": [
    "# capture file number into new column\n",
    "def drop_SCT(string_):\n",
    "    sct_yes = re.search(\"in the supreme court of north carolina\",string_[:50])\n",
    "    if sct_yes == None:\n",
    "        return(0)\n",
    "    else:\n",
    "        return(1)"
   ]
  },
  {
   "cell_type": "code",
   "execution_count": 189,
   "metadata": {},
   "outputs": [],
   "source": [
    "df['SCT'] = df.Opinion.map(lambda x: drop_SCT(x))"
   ]
  },
  {
   "cell_type": "code",
   "execution_count": 196,
   "metadata": {},
   "outputs": [
    {
     "data": {
      "text/plain": [
       "54"
      ]
     },
     "execution_count": 196,
     "metadata": {},
     "output_type": "execute_result"
    }
   ],
   "source": [
    "len(df.loc[df['SCT'] == 1])"
   ]
  },
  {
   "cell_type": "markdown",
   "metadata": {},
   "source": [
    "# PICK UP HERE - DROP SCT OPINIONS FROM BELOW ON"
   ]
  },
  {
   "cell_type": "code",
   "execution_count": null,
   "metadata": {},
   "outputs": [],
   "source": [
    "coa_numbers = []\n",
    "for i in range(len(df.Opinion)):\n",
    "    x = coa(df.Opinion[i])\n",
    "    coa_numbers.append(x)\n",
    "\n",
    "df[\"SCT\"] = pd.Series(coa_numbers).values"
   ]
  },
  {
   "cell_type": "code",
   "execution_count": null,
   "metadata": {},
   "outputs": [],
   "source": [
    "indexes_to_drop = df.index[df['sub_right'] == 1].tolist()\n",
    "df.drop(indexes_to_drop, inplace=True)\n",
    "\n",
    "df.drop(['sub_right'], axis=1, inplace=True)\n",
    "\n",
    "df.reset_index(inplace=True, drop=True)"
   ]
  },
  {
   "cell_type": "markdown",
   "metadata": {},
   "source": [
    "## 2. Trim Dissents, Because They are Not Relevant to the Function\n",
    "\n",
    "#Dissents follow the opinion, when one of the three appellate judges doesn't agree; they may trigger further appeal, but they are not law, and may skew results, so they should be dropped. \n",
    "\n",
    "#### Exploration of opinions containing the phrase \"dissenting\""
   ]
  },
  {
   "cell_type": "code",
   "execution_count": 48,
   "metadata": {},
   "outputs": [],
   "source": [
    "dissents = df.loc[df['Opinion'].str.contains(\"dissenting\")]"
   ]
  },
  {
   "cell_type": "code",
   "execution_count": 49,
   "metadata": {},
   "outputs": [
    {
     "data": {
      "text/html": [
       "<div>\n",
       "<style scoped>\n",
       "    .dataframe tbody tr th:only-of-type {\n",
       "        vertical-align: middle;\n",
       "    }\n",
       "\n",
       "    .dataframe tbody tr th {\n",
       "        vertical-align: top;\n",
       "    }\n",
       "\n",
       "    .dataframe thead th {\n",
       "        text-align: right;\n",
       "    }\n",
       "</style>\n",
       "<table border=\"1\" class=\"dataframe\">\n",
       "  <thead>\n",
       "    <tr style=\"text-align: right;\">\n",
       "      <th></th>\n",
       "      <th>Opinion</th>\n",
       "    </tr>\n",
       "  </thead>\n",
       "  <tbody>\n",
       "    <tr>\n",
       "      <td>13</td>\n",
       "      <td>energy investors fund, l.p., inc., kvaerner as...</td>\n",
       "    </tr>\n",
       "    <tr>\n",
       "      <td>22</td>\n",
       "      <td>in the court of appeals of north carolina no....</td>\n",
       "    </tr>\n",
       "    <tr>\n",
       "      <td>27</td>\n",
       "      <td>cecelia l. ford, administrator of the estate o...</td>\n",
       "    </tr>\n",
       "    <tr>\n",
       "      <td>35</td>\n",
       "      <td>carolina place joint venture, plaintiff-appell...</td>\n",
       "    </tr>\n",
       "    <tr>\n",
       "      <td>45</td>\n",
       "      <td>christian emerson dysart and mildred maxwell d...</td>\n",
       "    </tr>\n",
       "  </tbody>\n",
       "</table>\n",
       "</div>"
      ],
      "text/plain": [
       "                                              Opinion\n",
       "13  energy investors fund, l.p., inc., kvaerner as...\n",
       "22   in the court of appeals of north carolina no....\n",
       "27  cecelia l. ford, administrator of the estate o...\n",
       "35  carolina place joint venture, plaintiff-appell...\n",
       "45  christian emerson dysart and mildred maxwell d..."
      ]
     },
     "execution_count": 49,
     "metadata": {},
     "output_type": "execute_result"
    }
   ],
   "source": [
    "dissents.head()"
   ]
  },
  {
   "cell_type": "markdown",
   "metadata": {},
   "source": [
    "Review example opinions containing the word \"dissent\" to see which need to be dropped:</p>\n",
    "Verbiage: (Y=actual dissent N=not a dissent)<br>\n",
    "Y judge horton dissenting<br>\n",
    "Y judge wynn dissents. ... wynn, judge, dissenting.<br>\n",
    "Y tyson, judge dissenting.<br>\n",
    "Y judge tyson concurs in part, dissents in part.<br>\n",
    "Y calabria, judge, dissenting. // therefore, i respectfully dissent.<br>\n",
    "Y justice martin dissenting. -- Conflicts w below -- maybe eliminate first 2000 chars? <br>\n",
    "Y === wynn, judge dissenting.<br>\n",
    "Y - elmore, judge, dissenting.<br>\n",
    "Y. martin, chief judge, concurring in part, dissenting in part. - But later<br>\n",
    "Y = campbell, judge, dissenting. i respectfully dissent <br>\n",
    "Y == thomas, judge, dissenting.<br>\n",
    "Y judge dillon dissents in a separate opinion. - 12,600 chars into 17,000 char opi<br>\n",
    "<br>\n",
    "N piazza v. kirkbride tyson, j., concurring in part, dissenting in part.<br>\n",
    "N souter, j., dissenting (cit<br>\n",
    "N r. justice martin dissenting. justice brady dissenting. a -- too early  (913 chars in, 80,000 char opinion)<br>\n",
    "N (greene, j. dissenting) - case citation<br>\n",
    "N . judge elmore dissenting. -- too early, 2400 chars in to 28,000 char opinion<br>\n",
    "N m. chief judge martin concurring in part and dissenting in part. - 2731 chars into 29,000 char opinion<br>\n",
    "N (hudson, j., dissenting) <br>\n",
    "N   1715 chars into 23,000 char opinion<br>\n",
    "------ never the (j., dissenting)<br>\n",
    "<br>\n",
    "Pseudocode:<br>\n",
    "IF ends with \"judges /2 and /2 concur.\" (not concurs) - there isn't a dissent (one of the two would be dissenting). <br>\n",
    "ELSE if after the first 3,000 chars, of the opinion:<br>\n",
    "    judge /4 (dissent*)<br>\n",
    "    \n",
    "#### Trimming-Dissents Function Creation and Revision\n",
    "Created the below function following the preceding review; ran the function and reviewed the trimmed opinions for correctness (i.e., was something more or less than a dissent trimmed from the opinion).  The function was updated to put (judge|justice) in parens and to make the verb \"dissents\" instead of the noun \"dissent\", which was pulling references to other dissents. \n"
   ]
  },
  {
   "cell_type": "code",
   "execution_count": 50,
   "metadata": {},
   "outputs": [],
   "source": [
    "def trim_dissents(opinion):\n",
    "    global trimmed_dissents\n",
    "    if re.search(\"(dissent)\", opinion):\n",
    "        if re.search(\"judges\\W+(?:\\w+\\W+){0,5}?concur\\b\", opinion):\n",
    "            return()  \n",
    "        else:\n",
    "            try:\n",
    "                y = re.search(\"(?:(judge|justice)\\W+(?:\\w+\\W+){0,6}?dissents)\", opinion[3000:])\n",
    "                cut_off_point = y.start()\n",
    "                opinion2 = opinion[:(cut_off_point+3000)]\n",
    "                trimmed_dissents += 1\n",
    "                return(opinion2)\n",
    "            except:\n",
    "                return(opinion)\n",
    "    else:\n",
    "        return(opinion)"
   ]
  },
  {
   "cell_type": "code",
   "execution_count": 51,
   "metadata": {},
   "outputs": [],
   "source": [
    "# Drop dissents\n",
    "trimmed_dissents = 0\n",
    "new_opinions = []\n",
    "for i in range(len(df.Opinion)):\n",
    "    x = trim_dissents(df.Opinion[i])\n",
    "    new_opinions.append(x)\n",
    "    \n",
    "# Replate opinions with trimmed opinions\n",
    "df[\"Opinion\"] = pd.Series(new_opinions).values"
   ]
  },
  {
   "cell_type": "markdown",
   "metadata": {},
   "source": [
    "## 3. Creating a New Column for the File Numbers\n",
    "The file numbers should have no predictive value; this section is more experiential than practical."
   ]
  },
  {
   "cell_type": "code",
   "execution_count": 52,
   "metadata": {},
   "outputs": [],
   "source": [
    "# capture file number into new column\n",
    "def coa(string_):\n",
    "    try:\n",
    "        pat_coa_number = re.search(\"no.? ?coa.? ?(\\d{2}-\\d{1,5})\",string_)\n",
    "        return pat_coa_number.group(1)\n",
    "    except:\n",
    "        return('00-000')"
   ]
  },
  {
   "cell_type": "code",
   "execution_count": 53,
   "metadata": {},
   "outputs": [
    {
     "data": {
      "text/plain": [
       "'20-112'"
      ]
     },
     "execution_count": 53,
     "metadata": {},
     "output_type": "execute_result"
    }
   ],
   "source": [
    "coa(df.Opinion[3921])"
   ]
  },
  {
   "cell_type": "code",
   "execution_count": 54,
   "metadata": {},
   "outputs": [],
   "source": [
    "coa_numbers = []\n",
    "for i in range(len(df.Opinion)):\n",
    "    x = coa(df.Opinion[i])\n",
    "    coa_numbers.append(x)\n",
    "\n",
    "df[\"File_Numbers\"] = pd.Series(coa_numbers).values"
   ]
  },
  {
   "cell_type": "code",
   "execution_count": 55,
   "metadata": {},
   "outputs": [
    {
     "data": {
      "text/html": [
       "<div>\n",
       "<style scoped>\n",
       "    .dataframe tbody tr th:only-of-type {\n",
       "        vertical-align: middle;\n",
       "    }\n",
       "\n",
       "    .dataframe tbody tr th {\n",
       "        vertical-align: top;\n",
       "    }\n",
       "\n",
       "    .dataframe thead th {\n",
       "        text-align: right;\n",
       "    }\n",
       "</style>\n",
       "<table border=\"1\" class=\"dataframe\">\n",
       "  <thead>\n",
       "    <tr style=\"text-align: right;\">\n",
       "      <th></th>\n",
       "      <th>Opinion</th>\n",
       "      <th>File_Numbers</th>\n",
       "    </tr>\n",
       "  </thead>\n",
       "  <tbody>\n",
       "    <tr>\n",
       "      <td>0</td>\n",
       "      <td>an unpublished opinion of the north carolina ...</td>\n",
       "      <td>19-563</td>\n",
       "    </tr>\n",
       "    <tr>\n",
       "      <td>1</td>\n",
       "      <td>no. coa11-246 north carolina court of appeals ...</td>\n",
       "      <td>11-246</td>\n",
       "    </tr>\n",
       "    <tr>\n",
       "      <td>2</td>\n",
       "      <td>no. coa08-347 north carolina court of appeals ...</td>\n",
       "      <td>08-347</td>\n",
       "    </tr>\n",
       "    <tr>\n",
       "      <td>3</td>\n",
       "      <td>michael harrison gregory and wife, vivian greg...</td>\n",
       "      <td>05-885</td>\n",
       "    </tr>\n",
       "    <tr>\n",
       "      <td>4</td>\n",
       "      <td>atlantic contracting and material company, inc...</td>\n",
       "      <td>02-1087</td>\n",
       "    </tr>\n",
       "  </tbody>\n",
       "</table>\n",
       "</div>"
      ],
      "text/plain": [
       "                                             Opinion File_Numbers\n",
       "0   an unpublished opinion of the north carolina ...       19-563\n",
       "1  no. coa11-246 north carolina court of appeals ...       11-246\n",
       "2  no. coa08-347 north carolina court of appeals ...       08-347\n",
       "3  michael harrison gregory and wife, vivian greg...       05-885\n",
       "4  atlantic contracting and material company, inc...      02-1087"
      ]
     },
     "execution_count": 55,
     "metadata": {},
     "output_type": "execute_result"
    }
   ],
   "source": [
    "df.head(5)"
   ]
  },
  {
   "cell_type": "markdown",
   "metadata": {},
   "source": [
    "## 4. Creating the Labels (Affirmed, Reversed, etc.)\n",
    "\n",
    "The labels were created using the regex patterns below. The ultimate fuction below was created over many iterations. Initially, there were approximately 300 errors; the model was tweaked to reduce errors while maintaining reliability. Ultimately, 25 rows were dropped as errors because the cases were not beneficial to the model (i.e., they did not include a relevant summary judgment decision, the opinion on summary judgment was entwined with other components, etc.); 454 \"affirmed-in-part\" rows were dropped since they're not the binary outcome needed; and 408 dismissals were dropped since they don't have a usable outcome.  "
   ]
  },
  {
   "cell_type": "markdown",
   "metadata": {},
   "source": [
    "### A. Functions to Assign and Apply Labels to the DataFrame"
   ]
  },
  {
   "cell_type": "code",
   "execution_count": 56,
   "metadata": {},
   "outputs": [],
   "source": [
    "def labels(string_):\n",
    "    \"\"\"\n",
    "    This function will extract the outcome from a given string (opinion).\n",
    "    Each of the 'try' statements extracts the labels with decreasing \n",
    "    degrees of confidence (first by the one-word sentence, then within\n",
    "    10 words of the statement regarding concurrence, typically near the \n",
    "    end of the opinion; then clipping the last 150 chars. of the opinion \n",
    "    and looking for the associated label-words, and finally looking for \n",
    "    label-words within 5-10 words of the often-occurring phrase, 'for the\n",
    "    reasons set forth above').\n",
    "    \"\"\"\n",
    "    try:\n",
    "        try:\n",
    "            try:\n",
    "                try:  #this level has the highest confidence of getting an accurate label, based upon review of opinions (a single-word sentence)\n",
    "                    labels = re.search(\"\\.. ?(affirmed?)\\.|\\.?(reversed?)\\.|(affirmed in part)|\\.?(dismissed)\\.\",string_)\n",
    "                    x = labels.group(1)\n",
    "                    y = labels.group(2)\n",
    "                    z = labels.group(3)\n",
    "                    w = labels.group(4)\n",
    "                    not_none = [x,y,z]\n",
    "                    a = [i for i in not_none if i != None]\n",
    "                    return a[0]\n",
    "                except:  # slightly less confidence; looks for outcome word within 10 words of \"concur\", which frequently is at the end of a unanymous opinion\n",
    "                    labels = re.search(\"(?:concurs?\\W+(?:\\w+\\W+){0,40}?((affirmed in part)|reversed|affirmed|dismissed|no error|vacated)|((affirmed in part)|affirmed|reversed|dismissed|no error|vacated)\\W+(?:\\w+\\W+){0,40}?concurs?)\", string_)\n",
    "                    #print(\"Group 0:\", labels.group(0), \"\\nGroup 1:\", labels.group(1), \"\\nGroup 2:\", labels.group(2), \"\\nGroup 3:\", labels.group(3), \"\\nGroup 4:\", labels.group(4))\n",
    "                    x = labels2.group(1)\n",
    "                    y = labels2.group(2)\n",
    "                    z = labels2.group(3)\n",
    "                    w = labels2.group(4)\n",
    "                    not_none = [x,y,z,w]\n",
    "                    a = [i for i in not_none if i != None]\n",
    "                    #print(\"This is resulting list a:\", a)\n",
    "                    return a[0]\n",
    "            except: #slightly less confidence; if both of the previous methods fail, this clips the last 150 chars of the opinion for any of the outcome words\n",
    "                clip = string_[-150:]\n",
    "    #             print(clip)\n",
    "                labels3 = re.search(\"('affirmed in part'|reversed|affirmed|dismissed|'affirm in part'|affirm|reverse|dismiss|improvidently allowed)\",clip)\n",
    "                return labels3.group(0)\n",
    "        except: \n",
    "            labels4 = re.search(\"(?:reasons set forth?\\W+(?:\\w+\\W+){0,5}?((affirm in part)|reverse|affirm|dismiss|no error|vacated?)|((affirm in part)|affirm|reversed?|dismiss|no error|vacated?)\\W+(?:\\w+\\W+){0,10}?reasons set forth?)\", string_)\n",
    "            #print(\"Group 0:\", labels.group(0), \"\\nGroup 1:\", labels.group(1), \"\\nGroup 2:\", labels.group(2), \"\\nGroup 3:\", labels.group(3), \"\\nGroup 4:\", labels.group(4))\n",
    "            x = labels4.group(1)\n",
    "            y = labels4.group(2)\n",
    "            z = labels4.group(3)\n",
    "            w = labels4.group(4)\n",
    "            not_none = [x,y,z,w]\n",
    "            a = [i for i in not_none if i != None]\n",
    "            #print(\"This is resulting list a:\", a)\n",
    "            return a[0]\n",
    "    except:\n",
    "        return('error')"
   ]
  },
  {
   "cell_type": "code",
   "execution_count": 57,
   "metadata": {},
   "outputs": [
    {
     "data": {
      "text/plain": [
       "'affirmed'"
      ]
     },
     "execution_count": 57,
     "metadata": {},
     "output_type": "execute_result"
    }
   ],
   "source": [
    "# Test Cell \n",
    "labels(df.Opinion[2092])"
   ]
  },
  {
   "cell_type": "code",
   "execution_count": 58,
   "metadata": {},
   "outputs": [],
   "source": [
    "# Apply labels to the DataFrame\n",
    "labels_list = []\n",
    "for i in range(len(df.Opinion)):\n",
    "    x = labels(df.Opinion[i])\n",
    "    labels_list.append(x)\n",
    "\n",
    "df[\"Result\"] = pd.Series(labels_list).values"
   ]
  },
  {
   "cell_type": "code",
   "execution_count": 59,
   "metadata": {},
   "outputs": [
    {
     "data": {
      "text/plain": [
       "affirmed                 2039\n",
       "reversed                  592\n",
       "affirmed in part          401\n",
       "dismissed                 233\n",
       "error                     211\n",
       "dismiss                   190\n",
       "reverse                   165\n",
       "affirm                     76\n",
       "improvidently allowed      13\n",
       "no error                    1\n",
       "vacate                      1\n",
       "Name: Result, dtype: int64"
      ]
     },
     "execution_count": 59,
     "metadata": {},
     "output_type": "execute_result"
    }
   ],
   "source": [
    "df.Result.value_counts()"
   ]
  },
  {
   "cell_type": "markdown",
   "metadata": {},
   "source": [
    "### B. Combine Similar Terms and Drop Rows Irrelevant to the Outcome"
   ]
  },
  {
   "cell_type": "code",
   "execution_count": 60,
   "metadata": {},
   "outputs": [],
   "source": [
    "df['Result'].replace(['reverse','affirm', 'dismiss','no error', 'vacated', 'improvidently allowed'],\n",
    "                     ['reversed','affirmed','dismissed', 'affirmed', 'reversed', 'dismissed'], inplace=True)\n",
    "\n",
    "# The model will treat 'no error' as 'affirmed' and 'vacated' as 'reversed'"
   ]
  },
  {
   "cell_type": "code",
   "execution_count": 61,
   "metadata": {},
   "outputs": [
    {
     "data": {
      "text/plain": [
       "affirmed            2116\n",
       "reversed             757\n",
       "dismissed            436\n",
       "affirmed in part     401\n",
       "error                211\n",
       "vacate                 1\n",
       "Name: Result, dtype: int64"
      ]
     },
     "execution_count": 61,
     "metadata": {},
     "output_type": "execute_result"
    }
   ],
   "source": [
    "df.Result.value_counts()"
   ]
  },
  {
   "cell_type": "code",
   "execution_count": 62,
   "metadata": {},
   "outputs": [],
   "source": [
    "# Drop rows with 'error', 'dismissed', and 'affirmed in part' -- see section header, above\n",
    "drop_list1 = df.loc[df['Result'] == 'error']\n",
    "drop_list2 = df.loc[df['Result'] == 'affirmed in part']\n",
    "drop_list3 = df.loc[df['Result'] == 'dismissed']\n",
    "drop_list4 = df.loc[df['Result'] == 'vacate']"
   ]
  },
  {
   "cell_type": "code",
   "execution_count": 63,
   "metadata": {},
   "outputs": [],
   "source": [
    "drop_list = list(drop_list1.index)+list(drop_list2.index)+list(drop_list3.index)+list(drop_list4.index)"
   ]
  },
  {
   "cell_type": "code",
   "execution_count": 64,
   "metadata": {},
   "outputs": [],
   "source": [
    "df.drop(drop_list, axis=0, inplace=True)\n",
    "df.reset_index(drop=True, inplace=True)"
   ]
  },
  {
   "cell_type": "code",
   "execution_count": 65,
   "metadata": {
    "scrolled": true
   },
   "outputs": [
    {
     "data": {
      "text/plain": [
       "affirmed    2116\n",
       "reversed     757\n",
       "Name: Result, dtype: int64"
      ]
     },
     "execution_count": 65,
     "metadata": {},
     "output_type": "execute_result"
    }
   ],
   "source": [
    "df.Result.value_counts()"
   ]
  },
  {
   "cell_type": "markdown",
   "metadata": {},
   "source": [
    "### C. Ensure Labels Have the Same Effect Throughout the DataFrame (Substantial Right Appeals)"
   ]
  },
  {
   "cell_type": "code",
   "execution_count": 66,
   "metadata": {
    "scrolled": false
   },
   "outputs": [],
   "source": [
    "def substantial_right(string_):\n",
    "    \"\"\" \n",
    "    I have been treating the label \"affirm\" as affirming the grant \n",
    "    of a summary judgment motion, and \"reverse\" as reversing the grant \n",
    "    of the motion, because it is much more common for the court of appeals \n",
    "    to address GRANTS of summary judgment. Much more rarely, they will \n",
    "    review a motion denying summary judgment, and the above functions will \n",
    "    have the opposite label than intended. This function will take a string, \n",
    "    review whether it contains the key words \"substantial right,\" and then \n",
    "    analyze the language of the opinion to see if the opinion affirms or \n",
    "    reverses the DENIAL of summary judgment. If it does, it will return a\n",
    "    '1', and if not, a '0'. This can be used later as a switch to flip the \n",
    "    label assigned above.\n",
    "    \"\"\"\n",
    "    # Screen for the keword 'substantial right'\n",
    "    if string_.count(\"substantial right\") > 0:\n",
    "        x = re.search(\"(?:(affirm|reverse?)\\W+(?:\\w+\\W+){0,5}?denial)\", string_)\n",
    "        try:\n",
    "            x.group(0)\n",
    "            return(1)\n",
    "        except:\n",
    "            return(0)"
   ]
  },
  {
   "cell_type": "code",
   "execution_count": 67,
   "metadata": {},
   "outputs": [],
   "source": [
    "substantial_right_list = []\n",
    "for i in range(len(df.Opinion)):\n",
    "    x = substantial_right(df.Opinion[i])\n",
    "    substantial_right_list.append(x)\n",
    "\n",
    "df[\"sub_right\"] = pd.Series(substantial_right_list).values"
   ]
  },
  {
   "cell_type": "code",
   "execution_count": 68,
   "metadata": {},
   "outputs": [
    {
     "data": {
      "text/html": [
       "<div>\n",
       "<style scoped>\n",
       "    .dataframe tbody tr th:only-of-type {\n",
       "        vertical-align: middle;\n",
       "    }\n",
       "\n",
       "    .dataframe tbody tr th {\n",
       "        vertical-align: top;\n",
       "    }\n",
       "\n",
       "    .dataframe thead th {\n",
       "        text-align: right;\n",
       "    }\n",
       "</style>\n",
       "<table border=\"1\" class=\"dataframe\">\n",
       "  <thead>\n",
       "    <tr style=\"text-align: right;\">\n",
       "      <th></th>\n",
       "      <th>Opinion</th>\n",
       "      <th>File_Numbers</th>\n",
       "      <th>Result</th>\n",
       "      <th>sub_right</th>\n",
       "    </tr>\n",
       "  </thead>\n",
       "  <tbody>\n",
       "    <tr>\n",
       "      <td>343</td>\n",
       "      <td>estate of erik dominic williams, by and throug...</td>\n",
       "      <td>10-491</td>\n",
       "      <td>affirmed</td>\n",
       "      <td>1.0</td>\n",
       "    </tr>\n",
       "    <tr>\n",
       "      <td>364</td>\n",
       "      <td>no. coa11-1466 north carolina court of appeals...</td>\n",
       "      <td>11-1466</td>\n",
       "      <td>reversed</td>\n",
       "      <td>1.0</td>\n",
       "    </tr>\n",
       "    <tr>\n",
       "      <td>450</td>\n",
       "      <td>estate of vera hewett, et al, plaintiffs, v. c...</td>\n",
       "      <td>08-1071</td>\n",
       "      <td>reversed</td>\n",
       "      <td>1.0</td>\n",
       "    </tr>\n",
       "    <tr>\n",
       "      <td>615</td>\n",
       "      <td>james l. pierson, kathy l. pierson, lincoln m....</td>\n",
       "      <td>99-1333</td>\n",
       "      <td>affirmed</td>\n",
       "      <td>1.0</td>\n",
       "    </tr>\n",
       "    <tr>\n",
       "      <td>752</td>\n",
       "      <td>in the supreme court of north carolina no. 484...</td>\n",
       "      <td>00-000</td>\n",
       "      <td>reversed</td>\n",
       "      <td>1.0</td>\n",
       "    </tr>\n",
       "    <tr>\n",
       "      <td>781</td>\n",
       "      <td>mitchell, brewer, richardson, adams, burge &amp; b...</td>\n",
       "      <td>09-1020</td>\n",
       "      <td>reversed</td>\n",
       "      <td>1.0</td>\n",
       "    </tr>\n",
       "    <tr>\n",
       "      <td>886</td>\n",
       "      <td>nello l. teer company, inc., plaintiff, v. jon...</td>\n",
       "      <td>06-340</td>\n",
       "      <td>reversed</td>\n",
       "      <td>1.0</td>\n",
       "    </tr>\n",
       "    <tr>\n",
       "      <td>958</td>\n",
       "      <td>in the court of appeals of north carolina no....</td>\n",
       "      <td>16-908</td>\n",
       "      <td>reversed</td>\n",
       "      <td>1.0</td>\n",
       "    </tr>\n",
       "    <tr>\n",
       "      <td>978</td>\n",
       "      <td>an unpublished opinion of the north carolina c...</td>\n",
       "      <td>02-1610</td>\n",
       "      <td>affirmed</td>\n",
       "      <td>1.0</td>\n",
       "    </tr>\n",
       "    <tr>\n",
       "      <td>1001</td>\n",
       "      <td>wilson myers, administrator of the estate of t...</td>\n",
       "      <td>07-285</td>\n",
       "      <td>affirmed</td>\n",
       "      <td>1.0</td>\n",
       "    </tr>\n",
       "    <tr>\n",
       "      <td>1017</td>\n",
       "      <td>michael g. staley and melody h. staley, plaint...</td>\n",
       "      <td>98-1293</td>\n",
       "      <td>reversed</td>\n",
       "      <td>1.0</td>\n",
       "    </tr>\n",
       "    <tr>\n",
       "      <td>1156</td>\n",
       "      <td>tiber holding corporation, regis insurance com...</td>\n",
       "      <td>04-1184</td>\n",
       "      <td>affirmed</td>\n",
       "      <td>1.0</td>\n",
       "    </tr>\n",
       "    <tr>\n",
       "      <td>1223</td>\n",
       "      <td>lennie and bonnie hamby, plaintiffs, v. profil...</td>\n",
       "      <td>08-942</td>\n",
       "      <td>affirmed</td>\n",
       "      <td>1.0</td>\n",
       "    </tr>\n",
       "    <tr>\n",
       "      <td>1350</td>\n",
       "      <td>teresa h. satorre, sharon o. lee, theresa k. p...</td>\n",
       "      <td>03-648</td>\n",
       "      <td>reversed</td>\n",
       "      <td>1.0</td>\n",
       "    </tr>\n",
       "    <tr>\n",
       "      <td>1479</td>\n",
       "      <td>an unpublished opinion of the north carolina c...</td>\n",
       "      <td>14-811</td>\n",
       "      <td>affirmed</td>\n",
       "      <td>1.0</td>\n",
       "    </tr>\n",
       "    <tr>\n",
       "      <td>1564</td>\n",
       "      <td>no. coa02-423 north carolina court of appeals ...</td>\n",
       "      <td>02-423</td>\n",
       "      <td>reversed</td>\n",
       "      <td>1.0</td>\n",
       "    </tr>\n",
       "    <tr>\n",
       "      <td>1662</td>\n",
       "      <td>an unpublished opinion of the north carolina ...</td>\n",
       "      <td>18-1207</td>\n",
       "      <td>reversed</td>\n",
       "      <td>1.0</td>\n",
       "    </tr>\n",
       "    <tr>\n",
       "      <td>1673</td>\n",
       "      <td>jon-paul craig, by his mother and next friend,...</td>\n",
       "      <td>07-80</td>\n",
       "      <td>reversed</td>\n",
       "      <td>1.0</td>\n",
       "    </tr>\n",
       "    <tr>\n",
       "      <td>1723</td>\n",
       "      <td>in the court of appeals of north carolina no....</td>\n",
       "      <td>18-478</td>\n",
       "      <td>affirmed</td>\n",
       "      <td>1.0</td>\n",
       "    </tr>\n",
       "    <tr>\n",
       "      <td>1741</td>\n",
       "      <td>in the court of appeals of north carolina no....</td>\n",
       "      <td>16-776</td>\n",
       "      <td>reversed</td>\n",
       "      <td>1.0</td>\n",
       "    </tr>\n",
       "    <tr>\n",
       "      <td>1837</td>\n",
       "      <td>josephine williams, administratrix of the esta...</td>\n",
       "      <td>03-1624</td>\n",
       "      <td>affirmed</td>\n",
       "      <td>1.0</td>\n",
       "    </tr>\n",
       "    <tr>\n",
       "      <td>2007</td>\n",
       "      <td>keith brent vest v. michael f. easley, north c...</td>\n",
       "      <td>00-635</td>\n",
       "      <td>reversed</td>\n",
       "      <td>1.0</td>\n",
       "    </tr>\n",
       "    <tr>\n",
       "      <td>2040</td>\n",
       "      <td>in the court of appeals of north carolina no....</td>\n",
       "      <td>15-751</td>\n",
       "      <td>reversed</td>\n",
       "      <td>1.0</td>\n",
       "    </tr>\n",
       "    <tr>\n",
       "      <td>2126</td>\n",
       "      <td>thomas william hill, plaintiff, v. bobby medfo...</td>\n",
       "      <td>02-956</td>\n",
       "      <td>affirmed</td>\n",
       "      <td>1.0</td>\n",
       "    </tr>\n",
       "    <tr>\n",
       "      <td>2218</td>\n",
       "      <td>johnston health care center, l.l.c. petitioner...</td>\n",
       "      <td>99-129</td>\n",
       "      <td>affirmed</td>\n",
       "      <td>1.0</td>\n",
       "    </tr>\n",
       "    <tr>\n",
       "      <td>2482</td>\n",
       "      <td>anne h. craig v. the asheville city board of e...</td>\n",
       "      <td>00-175</td>\n",
       "      <td>affirmed</td>\n",
       "      <td>1.0</td>\n",
       "    </tr>\n",
       "    <tr>\n",
       "      <td>2537</td>\n",
       "      <td>an unpublished opinion of the north carolina c...</td>\n",
       "      <td>09-315</td>\n",
       "      <td>affirmed</td>\n",
       "      <td>1.0</td>\n",
       "    </tr>\n",
       "    <tr>\n",
       "      <td>2665</td>\n",
       "      <td>an unpublished opinion of the north carolina ...</td>\n",
       "      <td>18-197</td>\n",
       "      <td>reversed</td>\n",
       "      <td>1.0</td>\n",
       "    </tr>\n",
       "    <tr>\n",
       "      <td>2666</td>\n",
       "      <td>no. coa08-801 north carolina court of appeals ...</td>\n",
       "      <td>08-801</td>\n",
       "      <td>affirmed</td>\n",
       "      <td>1.0</td>\n",
       "    </tr>\n",
       "    <tr>\n",
       "      <td>2678</td>\n",
       "      <td>an unpublished opinion of the north carolina c...</td>\n",
       "      <td>12-1490</td>\n",
       "      <td>affirmed</td>\n",
       "      <td>1.0</td>\n",
       "    </tr>\n",
       "    <tr>\n",
       "      <td>2792</td>\n",
       "      <td>sherri b. blaylock, as guardian ad litem for h...</td>\n",
       "      <td>00-000</td>\n",
       "      <td>affirmed</td>\n",
       "      <td>1.0</td>\n",
       "    </tr>\n",
       "    <tr>\n",
       "      <td>2867</td>\n",
       "      <td>1 bruce-terminix co. v. zurich ins. co., 130 n...</td>\n",
       "      <td>07-1260</td>\n",
       "      <td>affirmed</td>\n",
       "      <td>1.0</td>\n",
       "    </tr>\n",
       "  </tbody>\n",
       "</table>\n",
       "</div>"
      ],
      "text/plain": [
       "                                                Opinion File_Numbers    Result  sub_right\n",
       "343   estate of erik dominic williams, by and throug...       10-491  affirmed        1.0\n",
       "364   no. coa11-1466 north carolina court of appeals...      11-1466  reversed        1.0\n",
       "450   estate of vera hewett, et al, plaintiffs, v. c...      08-1071  reversed        1.0\n",
       "615   james l. pierson, kathy l. pierson, lincoln m....      99-1333  affirmed        1.0\n",
       "752   in the supreme court of north carolina no. 484...       00-000  reversed        1.0\n",
       "781   mitchell, brewer, richardson, adams, burge & b...      09-1020  reversed        1.0\n",
       "886   nello l. teer company, inc., plaintiff, v. jon...       06-340  reversed        1.0\n",
       "958    in the court of appeals of north carolina no....       16-908  reversed        1.0\n",
       "978   an unpublished opinion of the north carolina c...      02-1610  affirmed        1.0\n",
       "1001  wilson myers, administrator of the estate of t...       07-285  affirmed        1.0\n",
       "1017  michael g. staley and melody h. staley, plaint...      98-1293  reversed        1.0\n",
       "1156  tiber holding corporation, regis insurance com...      04-1184  affirmed        1.0\n",
       "1223  lennie and bonnie hamby, plaintiffs, v. profil...       08-942  affirmed        1.0\n",
       "1350  teresa h. satorre, sharon o. lee, theresa k. p...       03-648  reversed        1.0\n",
       "1479  an unpublished opinion of the north carolina c...       14-811  affirmed        1.0\n",
       "1564  no. coa02-423 north carolina court of appeals ...       02-423  reversed        1.0\n",
       "1662   an unpublished opinion of the north carolina ...      18-1207  reversed        1.0\n",
       "1673  jon-paul craig, by his mother and next friend,...        07-80  reversed        1.0\n",
       "1723   in the court of appeals of north carolina no....       18-478  affirmed        1.0\n",
       "1741   in the court of appeals of north carolina no....       16-776  reversed        1.0\n",
       "1837  josephine williams, administratrix of the esta...      03-1624  affirmed        1.0\n",
       "2007  keith brent vest v. michael f. easley, north c...       00-635  reversed        1.0\n",
       "2040   in the court of appeals of north carolina no....       15-751  reversed        1.0\n",
       "2126  thomas william hill, plaintiff, v. bobby medfo...       02-956  affirmed        1.0\n",
       "2218  johnston health care center, l.l.c. petitioner...       99-129  affirmed        1.0\n",
       "2482  anne h. craig v. the asheville city board of e...       00-175  affirmed        1.0\n",
       "2537  an unpublished opinion of the north carolina c...       09-315  affirmed        1.0\n",
       "2665   an unpublished opinion of the north carolina ...       18-197  reversed        1.0\n",
       "2666  no. coa08-801 north carolina court of appeals ...       08-801  affirmed        1.0\n",
       "2678  an unpublished opinion of the north carolina c...      12-1490  affirmed        1.0\n",
       "2792  sherri b. blaylock, as guardian ad litem for h...       00-000  affirmed        1.0\n",
       "2867  1 bruce-terminix co. v. zurich ins. co., 130 n...      07-1260  affirmed        1.0"
      ]
     },
     "execution_count": 68,
     "metadata": {},
     "output_type": "execute_result"
    }
   ],
   "source": [
    "df.loc[df['sub_right'] == 1]"
   ]
  },
  {
   "cell_type": "markdown",
   "metadata": {},
   "source": [
    "Review of the foregoing cases had so many with mixed issues that it will probably be better to drop all rows. "
   ]
  },
  {
   "cell_type": "code",
   "execution_count": 69,
   "metadata": {},
   "outputs": [],
   "source": [
    "indexes_to_drop = df.index[df['sub_right'] == 1].tolist()\n",
    "df.drop(indexes_to_drop, inplace=True)\n",
    "\n",
    "df.drop(['sub_right'], axis=1, inplace=True)\n",
    "\n",
    "df.reset_index(inplace=True, drop=True)"
   ]
  },
  {
   "cell_type": "markdown",
   "metadata": {},
   "source": [
    "## 5. Create Case-Type Feature By Sorting With Keywords\n",
    "\n",
    "I created a simple sorting function which takes a dictionary of case types with associated keywords, and then it generates a popularity count of the various keywords, returning the highest-ranking case type for a given opinion. The dictionary was revised over many iterations and reviews; for instance, some words were not unique, were misleading, or needed leading/trailing spaces. "
   ]
  },
  {
   "cell_type": "code",
   "execution_count": 70,
   "metadata": {},
   "outputs": [],
   "source": [
    "# This dictionary contains types of law with associated, typically unique keywords\n",
    "case_type_dict = {'premises':['premises', 'attractive nuisance', 'dangerous condition', 'slip and fall',\n",
    "                              'defective condition', 'dog bite', 'landowner', 'vicious propensity',\n",
    "                              'defective or unsafe condition', 'unsafe condition'], \n",
    "                  'products':['negligently manufactured', 'negligent manufacture', 'negligently designed',\n",
    "                              'negligent design', 'manufacturing defect', 'products liability',\n",
    "                              'product liability', 'ordinary use', 'product at issue', 'defective good'],\n",
    "                  'car_crash':['collision', 'vehicle', 'motorist', 'other driver'], \n",
    "                  'corporate':['shareholder', 'bylaw', 'articles of incorporation', 'derivative', \n",
    "                               'corporate meetings', 'corporate books', 'annual meeting', \n",
    "                               'financial statements'],\n",
    "                  'construction':['building defect', 'water intrusion', 'construction defect', 'building code',\n",
    "                                  'subcontractor', 'construction industry'], \n",
    "                  'contract':[' formation', 'recission', 'specific performance', 'incidental damages',\n",
    "                              'consequential damages', 'statute of frauds', 'complex business',\n",
    "                              'contractual relationship', 'contract law', 'plain and unambiguous',\n",
    "                              'promissory note', 'clinical privileges', 'agreement in effect', \n",
    "                              'breach of contract', 'terms of the agreement', 'default on the account',\n",
    "                              'joint venture', 'credit account', 'payment of the debt', 'consignor',\n",
    "                              'cosignee', 'oral contract', 'doctrine of necessaries', 'sold and delivered',\n",
    "                              'defaulted on the loan', 'line of credit', 'credit card account', \n",
    "                              'security interest', 'past due and owing', 'contract price', 'guaranty agreement',\n",
    "                              'contract to purchase', 'fdcpa'], \n",
    "                  'defamation':['libel', 'slander', 'defamatory', 'defamation'],\n",
    "                  'employment':['wrongful discharge', 'discrimination', 'retaliation', 'retaliatory',\n",
    "                                'retaliatory employment discrimination act', 'discriminatory',\n",
    "                                'state personnel', 'state retirement plan', 'pay policy', 'salary',\n",
    "                                'at-will employee', 'reinstatement', 'h-2a', 'wage and hour', 'fmla',\n",
    "                                'disability benefits', 'employer-employee', 'wage laws'],\n",
    "                  'estates':['intestate', 'probate', 'revocable trust', 'irrevocable trust', 'testator',\n",
    "                             'holographic', 'residue', 'testate', 'partition and sale', 'undivided interest',\n",
    "                             'executor', 'executrix', 'beneficiary', 'will conveying'],\n",
    "                  'family_law':['divorce', 'custody', 'maintenance', 'child support', 'separation agreement',\n",
    "                               'prenuptial', 'postnuptial', 'premarital', 'marital home', 'parental rights',\n",
    "                               'alienation of affection', 'legally separated', 'marriage ceremony'], \n",
    "                  'fraud_udtpa':['unfair and deceptive', 'unfair or deceptive', 'chapter 75', 'fraud',\n",
    "                                 'calculated to deceive'],\n",
    "                  'governmental':['sovereign immunity', 'official capacity', 'governmental immunity', \n",
    "                                  'certificate of need', 'incarcerated', 'permit application', \n",
    "                                  'property tax commission', 'local school administrative unit',\n",
    "                                  'public duty doctrine', 'malicious prosecution', 'inmate', 'wastewater',\n",
    "                                  'separation of powers', 'secretary of revenue', 'school boards association',\n",
    "                                  'department of environment and natural resources', 'municipal corporation',\n",
    "                                  'local government retirement system'],\n",
    "                  'insurance':['policy exclusion', 'insured party', 'coverage under the policy',\n",
    "                               'insurance coverage'],\n",
    "                  'landlord_tenant':['lease', 'landlord', 'security deposit', ' rent ', 'chapter 42', 'tenant'], \n",
    "                  'med_mal':['medical malpractice','health care profession', 'same or similar community', \n",
    "                             'rule 9(j)', 'rule 702(b)', 'continuing course of treatment', 'skilled nursing',\n",
    "                             'care and treatment rendered'], \n",
    "                  'property':['easement', 'fee simple', 'tenants in common', 'joint tenants', 'nuisance', \n",
    "                             'eminent domain', 'escheat', 'replevin', 'zoning', 'mortgage', 'foreclosure',\n",
    "                             'restriction agreement', 'reforming the deed', 'covenants and restrictions',\n",
    "                             'property boundary', 'declaration of covenants', 'homeowners association',\n",
    "                             'trespass to land', 'deed of trust', 'restrictive covenant', 'executed the deed',\n",
    "                             'board of adjustment', 'improvement to land', 'quiet title', 'convey the property',\n",
    "                             'blasting'], \n",
    "                  'workers_comp':['workers compensation', 'worker\\'s compensation', 'fela',\n",
    "                                  'workers\\' compensation', 'workmen\\'s compensation'],\n",
    "                  'wrongful_death':['wrongful death']}\n",
    "\n",
    "# 'dram_shop':['dram shop'] -- removed, only 2 that were not superseded by \"car crash\""
   ]
  },
  {
   "cell_type": "code",
   "execution_count": 71,
   "metadata": {},
   "outputs": [],
   "source": [
    "def case_type_sorter(dict_of_keywords, string):\n",
    "    \"\"\" \n",
    "    This function takes a dictionary of case types and associated \n",
    "    keywords, assigns points for the frequency of the keywords\n",
    "    of a given case type, and returns the case type with the highest\n",
    "    number of points, as well as a confidence measure.  The dict_of_keywords \n",
    "    should be a dictionary of case-type keys and keyword values; the string \n",
    "    should be a single string.\n",
    "    \"\"\"\n",
    "    counter_dict = {}\n",
    "\n",
    "    # Iterate through dictionary, counting frequency of each keyword in the string/Opinion\n",
    "    for key, values in dict_of_keywords.items():\n",
    "        counter_dict[key] = 0\n",
    "        for value in values:\n",
    "            count = string.count(value)\n",
    "            existing_count = counter_dict[key]\n",
    "            counter_dict[key] = count + existing_count\n",
    "    \n",
    "    # Get total points for all keywords\n",
    "    values = counter_dict.values()\n",
    "    total_count = sum(values)\n",
    "    \n",
    "    # Ensure that if no case_types are matched, the type returned is 'other'\n",
    "    if total_count > 0:\n",
    "        likely_case_type = max(counter_dict.items(), key=operator.itemgetter(1))[0]\n",
    "    else:\n",
    "        likely_case_type = 'other'\n",
    "    \n",
    "    # Return a confidence ratio (points of most likely type / all points )\n",
    "    try:\n",
    "        confidence = str(round((counter_dict[likely_case_type]/total_count)*100,2))+'%'\n",
    "    except:\n",
    "        confidence = 'n/a'\n",
    "    \n",
    "    return likely_case_type, confidence"
   ]
  },
  {
   "cell_type": "code",
   "execution_count": 72,
   "metadata": {},
   "outputs": [],
   "source": [
    "# Copy of the above function for case-by-case review\n",
    "def case_type_test_sorter(dict_of_keywords, string):\n",
    "    \"\"\" \n",
    "    This is a copy of the case_type_sorter function for case-by-case review\n",
    "    \"\"\"\n",
    "    counter_dict = {}\n",
    "\n",
    "    # Iterate through dictionary, counting frequency of each keyword in the string/Opinion\n",
    "    for key, values in dict_of_keywords.items():\n",
    "        counter_dict[key] = 0\n",
    "        for value in values:\n",
    "            count = string.count(value)\n",
    "            existing_count = counter_dict[key]\n",
    "            counter_dict[key] = count + existing_count\n",
    "            \n",
    "    return counter_dict"
   ]
  },
  {
   "cell_type": "code",
   "execution_count": 73,
   "metadata": {},
   "outputs": [],
   "source": [
    "# Apply case_type and confidence level columns to the DataFrame\n",
    "\n",
    "case_type_list = []\n",
    "case_type_confidence = []\n",
    "for i in range(len(df.Opinion)):\n",
    "    y,z = case_type_sorter(case_type_dict, df.Opinion[i])\n",
    "    case_type_list.append(y)\n",
    "    case_type_confidence.append(z)\n",
    "\n",
    "df[\"Case_Type\"] = pd.Series(case_type_list).values\n",
    "df[\"Case_Type_Confidence\"] = pd.Series(case_type_confidence).values"
   ]
  },
  {
   "cell_type": "code",
   "execution_count": 74,
   "metadata": {
    "scrolled": true
   },
   "outputs": [],
   "source": [
    "one = df.loc[(df['Case_Type'] == 'other') & (df.Opinion.str.len() > 1350)]"
   ]
  },
  {
   "cell_type": "code",
   "execution_count": 75,
   "metadata": {},
   "outputs": [
    {
     "data": {
      "text/plain": [
       "40"
      ]
     },
     "execution_count": 75,
     "metadata": {},
     "output_type": "execute_result"
    }
   ],
   "source": [
    "#remaining \"other\" case types and cases shorter than 1350 characters (lacking any type information)\n",
    "len(one)"
   ]
  },
  {
   "cell_type": "code",
   "execution_count": 76,
   "metadata": {
    "scrolled": false
   },
   "outputs": [
    {
     "name": "stdout",
     "output_type": "stream",
     "text": [
      "Index to Test:\n",
      "Please enter an index to review:\n"
     ]
    }
   ],
   "source": [
    "# Test function to review cases and diagnose issues (ultimately to update the case_type_dict)\n",
    "try:\n",
    "    test_cell = int(input(\"Index to Test:\"))\n",
    "    print(case_type_sorter(case_type_dict, df.Opinion[test_cell]),\n",
    "          '\\n\\n', case_type_test_sorter(case_type_dict, df.Opinion[test_cell]),\n",
    "          '\\n\\n', df.Opinion[test_cell])\n",
    "except:\n",
    "    print(\"Please enter an index to review:\")"
   ]
  },
  {
   "cell_type": "code",
   "execution_count": 77,
   "metadata": {},
   "outputs": [],
   "source": [
    "drop_list_others = list(one.index)\n",
    "df.drop(drop_list_others, inplace=True)\n",
    "df.reset_index(drop=True, inplace=True)"
   ]
  },
  {
   "cell_type": "code",
   "execution_count": 78,
   "metadata": {
    "scrolled": true
   },
   "outputs": [
    {
     "data": {
      "text/plain": [
       "property           375\n",
       "contract           335\n",
       "car_crash          327\n",
       "fraud_udtpa        279\n",
       "governmental       253\n",
       "landlord_tenant    230\n",
       "family_law         190\n",
       "premises           166\n",
       "employment         149\n",
       "estates            126\n",
       "med_mal             88\n",
       "corporate           79\n",
       "construction        51\n",
       "defamation          45\n",
       "insurance           28\n",
       "other               26\n",
       "wrongful_death      23\n",
       "products            17\n",
       "workers_comp        14\n",
       "Name: Case_Type, dtype: int64"
      ]
     },
     "execution_count": 78,
     "metadata": {},
     "output_type": "execute_result"
    }
   ],
   "source": [
    "df.Case_Type.value_counts()"
   ]
  },
  {
   "cell_type": "code",
   "execution_count": 79,
   "metadata": {},
   "outputs": [
    {
     "name": "stdout",
     "output_type": "stream",
     "text": [
      "<class 'pandas.core.frame.DataFrame'>\n",
      "RangeIndex: 2801 entries, 0 to 2800\n",
      "Data columns (total 5 columns):\n",
      "Opinion                 2801 non-null object\n",
      "File_Numbers            2801 non-null object\n",
      "Result                  2801 non-null object\n",
      "Case_Type               2801 non-null object\n",
      "Case_Type_Confidence    2801 non-null object\n",
      "dtypes: object(5)\n",
      "memory usage: 109.5+ KB\n"
     ]
    }
   ],
   "source": [
    "df.info()"
   ]
  },
  {
   "cell_type": "markdown",
   "metadata": {},
   "source": [
    "## 6.  Extract Feature: Trial-Court Judge"
   ]
  },
  {
   "cell_type": "code",
   "execution_count": 156,
   "metadata": {},
   "outputs": [],
   "source": [
    "def trial_judge(opinion):\n",
    "    \"\"\"\n",
    "    This function extracts the underlying trial judge\n",
    "    from the opinion, typically falling between the \n",
    "    words, 'by judge ____ in'\n",
    "    \"\"\"\n",
    "    try:\n",
    "        try:\n",
    "            try:\n",
    "                try:\n",
    "                    judge = re.search(\"by judge (\\w+) (\\w+) in\", opinion)\n",
    "                    f_name = judge.group(1)\n",
    "                    l_name = judge.group(2)\n",
    "                    pre_clean = [l_name, f_name]\n",
    "                    name = [i for i in pre_clean if i != None]\n",
    "                    return(name)\n",
    "                except:\n",
    "                    judge = re.search(\"by (the honorable|judge) (\\w+.?) ?(\\w+.|-?)? ?(\\w+),? ?(jr.|iii)?,? (?:in|and)\", opinion)\n",
    "                    f_name = judge.group(2)\n",
    "                    m_name = judge.group(3)\n",
    "                    l_name = judge.group(4)\n",
    "                    suffx =  judge.group(5) \n",
    "                    pre_clean = [l_name, f_name, m_name, suffx]\n",
    "                    name = [i for i in pre_clean if i != None]\n",
    "                    return(name)\n",
    "            except:\n",
    "                judge = re.search(\"by (\\w+.?), .?\\.? ?j., in\", opinion)\n",
    "                l_name = judge.group(1)\n",
    "                pre_clean = [l_name]\n",
    "                name = [i for i in pre_clean if i != None]\n",
    "                return(name)\n",
    "        except:\n",
    "            judge = re.search(\"(the honorable|judge) (\\w+.?) (\\w+.|-?)? ?(\\w+),? ?(jr.|iii)?,? (?:presiding)\", opinion)\n",
    "            f_name = judge.group(2)\n",
    "            m_name = judge.group(3)\n",
    "            l_name = judge.group(4)\n",
    "            suffx =  judge.group(5) \n",
    "            pre_clean = [l_name, f_name, m_name, suffx]\n",
    "            name = [i for i in pre_clean if i != None]\n",
    "            return(name)\n",
    "    except:\n",
    "        name = 'error'\n",
    "        return(name)\n",
    "    "
   ]
  },
  {
   "cell_type": "code",
   "execution_count": 157,
   "metadata": {},
   "outputs": [],
   "source": [
    "# Apply function to the DataFrame\n",
    "judges_list = []\n",
    "for i in range(len(df.Opinion)):\n",
    "    y = trial_judge(df.Opinion[i])\n",
    "    judges_list.append(y)\n",
    "    \n",
    "df[\"Trial_Judge\"] = pd.Series(judges_list).values"
   ]
  },
  {
   "cell_type": "code",
   "execution_count": 158,
   "metadata": {},
   "outputs": [
    {
     "data": {
      "text/html": [
       "<div>\n",
       "<style scoped>\n",
       "    .dataframe tbody tr th:only-of-type {\n",
       "        vertical-align: middle;\n",
       "    }\n",
       "\n",
       "    .dataframe tbody tr th {\n",
       "        vertical-align: top;\n",
       "    }\n",
       "\n",
       "    .dataframe thead th {\n",
       "        text-align: right;\n",
       "    }\n",
       "</style>\n",
       "<table border=\"1\" class=\"dataframe\">\n",
       "  <thead>\n",
       "    <tr style=\"text-align: right;\">\n",
       "      <th></th>\n",
       "      <th>Opinion</th>\n",
       "      <th>File_Numbers</th>\n",
       "      <th>Result</th>\n",
       "      <th>Case_Type</th>\n",
       "      <th>Case_Type_Confidence</th>\n",
       "      <th>Trial_Judge</th>\n",
       "    </tr>\n",
       "  </thead>\n",
       "  <tbody>\n",
       "    <tr>\n",
       "      <td>0</td>\n",
       "      <td>an unpublished opinion of the north carolina ...</td>\n",
       "      <td>19-563</td>\n",
       "      <td>affirmed</td>\n",
       "      <td>property</td>\n",
       "      <td>84.62%</td>\n",
       "      <td>[williams, karen , eady-]</td>\n",
       "    </tr>\n",
       "    <tr>\n",
       "      <td>1</td>\n",
       "      <td>no. coa11-246 north carolina court of appeals ...</td>\n",
       "      <td>11-246</td>\n",
       "      <td>affirmed</td>\n",
       "      <td>employment</td>\n",
       "      <td>55.26%</td>\n",
       "      <td>[hight, henry , w., jr.]</td>\n",
       "    </tr>\n",
       "    <tr>\n",
       "      <td>2</td>\n",
       "      <td>no. coa08-347 north carolina court of appeals ...</td>\n",
       "      <td>08-347</td>\n",
       "      <td>affirmed</td>\n",
       "      <td>property</td>\n",
       "      <td>85.71%</td>\n",
       "      <td>[poovey, nathaniel , j.]</td>\n",
       "    </tr>\n",
       "    <tr>\n",
       "      <td>3</td>\n",
       "      <td>michael harrison gregory and wife, vivian greg...</td>\n",
       "      <td>05-885</td>\n",
       "      <td>affirmed</td>\n",
       "      <td>car_crash</td>\n",
       "      <td>33.33%</td>\n",
       "      <td>[gore, william , c.]</td>\n",
       "    </tr>\n",
       "    <tr>\n",
       "      <td>4</td>\n",
       "      <td>in the court of appeals of north carolina no....</td>\n",
       "      <td>17-112</td>\n",
       "      <td>reversed</td>\n",
       "      <td>governmental</td>\n",
       "      <td>100.0%</td>\n",
       "      <td>[stephens, donald , w.]</td>\n",
       "    </tr>\n",
       "  </tbody>\n",
       "</table>\n",
       "</div>"
      ],
      "text/plain": [
       "                                             Opinion File_Numbers    Result     Case_Type  \\\n",
       "0   an unpublished opinion of the north carolina ...       19-563  affirmed      property   \n",
       "1  no. coa11-246 north carolina court of appeals ...       11-246  affirmed    employment   \n",
       "2  no. coa08-347 north carolina court of appeals ...       08-347  affirmed      property   \n",
       "3  michael harrison gregory and wife, vivian greg...       05-885  affirmed     car_crash   \n",
       "4   in the court of appeals of north carolina no....       17-112  reversed  governmental   \n",
       "\n",
       "  Case_Type_Confidence                Trial_Judge  \n",
       "0               84.62%  [williams, karen , eady-]  \n",
       "1               55.26%   [hight, henry , w., jr.]  \n",
       "2               85.71%   [poovey, nathaniel , j.]  \n",
       "3               33.33%       [gore, william , c.]  \n",
       "4               100.0%    [stephens, donald , w.]  "
      ]
     },
     "execution_count": 158,
     "metadata": {},
     "output_type": "execute_result"
    }
   ],
   "source": [
    "df.head()"
   ]
  },
  {
   "cell_type": "code",
   "execution_count": 159,
   "metadata": {},
   "outputs": [
    {
     "name": "stdout",
     "output_type": "stream",
     "text": [
      "Num_Errors: 141 \n",
      "                                                 Opinion File_Numbers    Result        Case_Type  \\\n",
      "30    hospice & palliative care charlotte region d/b...      06-1484  affirmed     governmental   \n",
      "35    no. coa11-868 north carolina court of appeals ...       11-868  affirmed     governmental   \n",
      "62    an unpublished opinion of the north carolina c...      10-1200  affirmed  landlord_tenant   \n",
      "81    in the court of appeals of north carolina no. ...      15-1151  reversed         property   \n",
      "125   in the supreme court of north carolina no. 509...       00-000  reversed         contract   \n",
      "160   in the supreme court of north carolina no. 175...       00-000  affirmed            other   \n",
      "165   no. coa07-54 north carolina court of appeals f...        07-54  affirmed         premises   \n",
      "190   in the supreme court of north carolina no. 20p...       00-000  reversed       employment   \n",
      "210   gary anderson smith, plaintiff, v. brian o’nea...       06-688  reversed        car_crash   \n",
      "221   no. coa02-13 north carolina court of appeals f...        02-13  affirmed          med_mal   \n",
      "252   j. kamau christopher a/k/a joseph kamau christ...      07-1516  affirmed       employment   \n",
      "275   james e. long, commissioner of insurance of no...       03-638  affirmed        corporate   \n",
      "292   w.d. goldston, jr., james e. harrington, and c...       00-000  reversed        car_crash   \n",
      "306    in the court of appeals of north carolina no....      18-1018  reversed        car_crash   \n",
      "315   no. coa97-460 north carolina court of appeals ...       97-460  affirmed          estates   \n",
      "351   brown brothers harriman trust co., n.a., as tr...       09-474  affirmed          estates   \n",
      "352   an unpublished opinion of the north carolina c...       12-520  affirmed         property   \n",
      "390   an unpublished opinion of the north carolina c...       07-240  affirmed       employment   \n",
      "415   in the supreme court of north carolina filed: ...       00-000  affirmed            other   \n",
      "461   durham land owners association, an unincorpora...       05-736  reversed     governmental   \n",
      "481   an unpublished opinion of the north carolina c...      14-1196  affirmed       family_law   \n",
      "503   an unpublished opinion of the north carolina c...       03-535  affirmed          estates   \n",
      "506    no. coa11-1514 north carolina court of appeal...      11-1514  affirmed         premises   \n",
      "531   no. coa02-88 north carolina court of appeals f...        02-88  affirmed       employment   \n",
      "549   in the supreme court of north carolina no. 255...       00-000  reversed       employment   \n",
      "587   an unpublished opinion of the north carolina c...      06-1464  affirmed     governmental   \n",
      "617    in the court of appeals of north carolina no....      15-1055  reversed         property   \n",
      "662    in the court of appeals of north carolina no....       17-787  affirmed       family_law   \n",
      "666   in the supreme court of north carolina no. 450...       00-000  reversed         premises   \n",
      "677    in the court of appeals of north carolina no....       19-887  affirmed      fraud_udtpa   \n",
      "683   no. coa97-646 north carolina court of appeals ...       97-646  affirmed     governmental   \n",
      "697   in the supreme court of north carolina no. 285...       00-000  reversed     governmental   \n",
      "708   an unpublished opinion of the north carolina c...       02-749  affirmed         property   \n",
      "709    an unpublished opinion of the north carolina ...      17-1207  affirmed       family_law   \n",
      "730    an unpublished opinion of the north carolina ...        19-73  reversed     governmental   \n",
      "737   willie b. tart v. james l. martin and peggy h....       00-000  reversed        car_crash   \n",
      "744   an unpublished opinion of the north carolina c...       14-485  affirmed        car_crash   \n",
      "752   no. coa04-593 north carolina court of appeals ...       04-593  affirmed        car_crash   \n",
      "794   no. coa14-160 north carolina court of appeals ...       14-160  affirmed     governmental   \n",
      "825   an unpublished opinion of the north carolina c...       03-429  affirmed       employment   \n",
      "838   in the court of appeals of north carolina no. ...      14-1355  affirmed         property   \n",
      "867   hospice at greensboro, inc. d/b/a hospice and ...      06-1204  affirmed     governmental   \n",
      "869   no. coa11-520 north carolina court of appeals ...       11-520  affirmed     governmental   \n",
      "910   parkway urology, p.a. d/b/a cary urology, p.a....      09-1490  affirmed     governmental   \n",
      "918   craig b. hilliard, petitioner, v. north caroli...       04-780  affirmed       employment   \n",
      "964   an unpublished opinion of the north carolina c...      12-1390  affirmed      fraud_udtpa   \n",
      "978    in the court of appeals of north carolina no....       17-618  affirmed       employment   \n",
      "989    in the court of appeals of north carolina no....      17-1139  affirmed         contract   \n",
      "1075  an unpublished opinion of the north carolina c...       07-894  affirmed        car_crash   \n",
      "1079  grassy creek neighborhood alliance, inc. and j...       00-280  affirmed  landlord_tenant   \n",
      "1081  carlton s. ashby, jr., cora b. ashby, and ashb...       03-203  affirmed         property   \n",
      "1104  durham county no. 97cvs00687 l’tanya d. davis,...       00-000  affirmed          estates   \n",
      "1125  no. coa11-1127 north carolina court of appeals...      11-1127  reversed     governmental   \n",
      "1127  no. coa12-1167 north carolina court of appeals...      12-1167  reversed         contract   \n",
      "1162  dinah boryla-lett, individually and as adm. of...      08-1357  affirmed          med_mal   \n",
      "1201  in the matter of the will of william arnold mc...       00-000  reversed          estates   \n",
      "1205  an unpublished opinion of the north carolina c...       03-247  affirmed       family_law   \n",
      "1235   in the court of appeals of north carolina no....       18-533  affirmed      fraud_udtpa   \n",
      "1280  jackie l. eley, plaintiff, v.mid/east acceptan...       00-000  affirmed      fraud_udtpa   \n",
      "1316   an unpublished opinion of the north carolina ...       17-630  affirmed         contract   \n",
      "1346  no. coa07-302 north carolina court of appeals ...       07-302  affirmed     governmental   \n",
      "1348  no. coa01-1098 north carolina court of appeals...      01-1098  affirmed        car_crash   \n",
      "1394  no. coa01-1593 north carolina court of appeals...      01-1593  affirmed     governmental   \n",
      "1401   in the court of appeals of north carolina no....       17-367  affirmed     governmental   \n",
      "1425  no. coa08-42 north carolina court of appeals f...        08-42  affirmed         property   \n",
      "1440  charles k. sapp, nancy sapp, henry keith mille...      09-1725  affirmed         property   \n",
      "1462  in the matter of: appeal of: ocean isle palms ...       00-000  reversed     governmental   \n",
      "1488  donald claude friend, plaintiff, v. state of n...       04-570  reversed     governmental   \n",
      "1492  a.c. jones, plaintiff, v. liam wallis, viridis...       10-349  affirmed         property   \n",
      "1511   in the court of appeals of north carolina no....      17-1086  affirmed        car_crash   \n",
      "1577   in the court of appeals of north carolina no....        15-11  affirmed   wrongful_death   \n",
      "1602  an unpublished opinion of the north carolina c...       02-350  reversed       employment   \n",
      "1621   no. coa10-1610 north carolina court of appeal...      10-1610  affirmed        car_crash   \n",
      "1661   in the court of appeals of north carolina no....      14-1076  affirmed     governmental   \n",
      "1676  no. coa10-384@ north carolina court of appeals...       10-384  affirmed         property   \n",
      "1678   in the court of appeals of north carolina no....       18-870  affirmed     governmental   \n",
      "1735   in the court of appeals of north carolina no....       15-652  affirmed         contract   \n",
      "1739  the north carolina state bar, plaintiff-appell...       06-815  affirmed      fraud_udtpa   \n",
      "1752   in the court of appeals of north carolina no....        19-27  affirmed         premises   \n",
      "1796  jill m. robinson, plaintiff, v. clara thompson...      98-1105  reversed        car_crash   \n",
      "1829   in the court of appeals of north carolina no....       17-607  affirmed  landlord_tenant   \n",
      "1851  an unpublished opinion of the north carolina c...       03-273  affirmed         contract   \n",
      "1860  an unpublished opinion of the north carolina c...       15-252  affirmed      fraud_udtpa   \n",
      "1874  wake forest university health sciences and hun...      05-1597  affirmed     governmental   \n",
      "1889   in the court of appeals of north carolina nos...       00-000  affirmed         premises   \n",
      "1899  an unpublished opinion of the north carolina c...       03-710  reversed         property   \n",
      "1922   an unpublished opinion of the north carolina ...      14-1116  affirmed      fraud_udtpa   \n",
      "1928  an unpublished opinion of the north carolina c...      02-1236  affirmed  landlord_tenant   \n",
      "1936  no. coa02-1424 north carolina court of appeals...      02-1424  affirmed        corporate   \n",
      "1950  wri/raleigh, l.p., plaintiff v. issa f. shaikh...       06-784  affirmed  landlord_tenant   \n",
      "1951   no. coa13-1072 north carolina court of appeal...      13-1072  affirmed     governmental   \n",
      "1971  an unpublished opinion of the north carolina c...       08-305  affirmed        car_crash   \n",
      "1992   in the court of appeals of north carolina no....        20-27  affirmed          med_mal   \n",
      "2005  an unpublished opinion of the north carolina c...       12-327  affirmed        corporate   \n",
      "2006   in the court of appeals of north carolina no....       17-756  affirmed  landlord_tenant   \n",
      "2016  the north carolina state bar, plaintiff, v. am...       06-583  reversed      fraud_udtpa   \n",
      "2021   an unpublished opinion of the north carolina ...       18-276  affirmed       employment   \n",
      "2046   in the court of appeals of north carolina no....        18-61  affirmed        corporate   \n",
      "2049  thomas m. urquhart, jr., administrator of the ...      10-1255  affirmed          med_mal   \n",
      "2077  dudley a. dawson and joan r. dawson, plaintiff...       09-109  affirmed         premises   \n",
      "2080  in the supreme court of north carolina no. 557...       00-000  reversed        car_crash   \n",
      "2105  no. coa11-128 north carolina court of appeals ...       11-128  affirmed         contract   \n",
      "2122  an unpublished opinion of the north carolina c...       08-952  affirmed     governmental   \n",
      "2180  in the supreme court of north carolina no. 70p...       00-000  reversed     governmental   \n",
      "2197  ted f. cash, plaintiff v. state farm mutual au...       99-375  affirmed      fraud_udtpa   \n",
      "2204  in the supreme court of north carolina no. 409...       00-000  affirmed     governmental   \n",
      "2225  d. g. ii, llc, plaintiff v. clifford e. nix an...      10-1458  affirmed         contract   \n",
      "2249  no. coa01-660 north carolina court of appeals ...       01-660  affirmed        car_crash   \n",
      "2250  good hope hospital, inc. and good hope health ...       05-183  affirmed     governmental   \n",
      "2258   in the court of appeals of north carolina no....      14-1008  affirmed       employment   \n",
      "2269  no. coa04-649 north carolina court of appeals ...       04-649  affirmed         property   \n",
      "2275   in the court of appeals of north carolina no....        19-13  affirmed       employment   \n",
      "2295  thomas m. rouse, sandy rouse, and federal insu...       00-000  affirmed            other   \n",
      "2306  derek a. pate and michelle d. pate, plaintiffs...       05-609  affirmed     governmental   \n",
      "2332  an unpublished opinion of the north carolina c...       06-436  affirmed  landlord_tenant   \n",
      "2334  no. coa13-620 north carolina court of appeals ...       13-620  affirmed       employment   \n",
      "2343  in the supreme court of north carolina filed: ...       00-000  reversed        car_crash   \n",
      "2348   in the court of appeals of north carolina no....      17-1427  reversed         property   \n",
      "2434  teleflex information systems, inc., plaintiff,...      96-1067  affirmed       employment   \n",
      "2468  an unpublished opinion of the north carolina c...      04-1519  affirmed       defamation   \n",
      "2495  no. coa08-339 north carolina court of appeals ...       08-339  affirmed  landlord_tenant   \n",
      "2514  in the supreme court of north carolina no. 193...       00-000  reversed        car_crash   \n",
      "2516  the presbyterian hospital, petitioner v. n.c. ...       05-905  affirmed     governmental   \n",
      "2542  an unpublished opinion of the north carolina c...       13-657  reversed         premises   \n",
      "2568  michael w. patrick, guardian ad litem and guar...      07-1515  affirmed     governmental   \n",
      "2571  an unpublished opinion of the north carolina c...       09-552  affirmed         contract   \n",
      "2584  an unpublished opinion of the north carolina c...      06-1641  affirmed     governmental   \n",
      "2626   no. coa11-201 north carolina court of appeals...       11-201  reversed         contract   \n",
      "2637  mary nicole boone vogler, widow, marilyn “sue ...      03-1032  reversed       employment   \n",
      "2644   in the court of appeals of north carolina no....       15-596  affirmed       employment   \n",
      "2668   in the court of appeals of north carolina no....       16-557  affirmed         property   \n",
      "2678  an unpublished opinion of the north carolina c...        12-57  affirmed     governmental   \n",
      "2694   no. coa12-1038 north carolina court of appeal...      12-1038  reversed         property   \n",
      "2710   an unpublished opinion of the north carolina ...       18-388  affirmed     governmental   \n",
      "2731  marcus cooke, plaintiff-appellant, v. susan co...      06-1083  affirmed       family_law   \n",
      "2748   in the court of appeals of north carolina no....       17-137  affirmed     governmental   \n",
      "2766  julie a. derossett, and richard a. sutton, pla...       09-820  affirmed         property   \n",
      "2778  no. coa12-1496 north carolina court of appeals...      12-1496  reversed        car_crash   \n",
      "2782  in the supreme court of north carolina filed: ...       00-000  reversed        corporate   \n",
      "2790  no. coa11-1480 north carolina court of appeals...      11-1480  affirmed     governmental   \n",
      "2794  pinpoint added 191 #3 p. 411 charles w. stone;...       07-718  affirmed         contract   \n",
      "\n",
      "     Case_Type_Confidence Trial_Judge  \n",
      "30                 100.0%       error  \n",
      "35                 83.33%       error  \n",
      "62                  75.0%       error  \n",
      "81                 100.0%       error  \n",
      "125                44.44%       error  \n",
      "160                   n/a       error  \n",
      "165                36.36%       error  \n",
      "190                100.0%       error  \n",
      "210                90.91%       error  \n",
      "221                66.67%       error  \n",
      "252                66.67%       error  \n",
      "275                66.67%       error  \n",
      "292                33.33%       error  \n",
      "306                 50.0%       error  \n",
      "315                 40.0%       error  \n",
      "351                55.56%       error  \n",
      "352                96.15%       error  \n",
      "390                100.0%       error  \n",
      "415                   n/a       error  \n",
      "461                 70.0%       error  \n",
      "481                100.0%       error  \n",
      "503                100.0%       error  \n",
      "506                55.56%       error  \n",
      "531                83.33%       error  \n",
      "549                 87.5%       error  \n",
      "587                100.0%       error  \n",
      "617                45.65%       error  \n",
      "662                100.0%       error  \n",
      "666                 87.5%       error  \n",
      "677                70.59%       error  \n",
      "683                 50.0%       error  \n",
      "697                66.67%       error  \n",
      "708                 75.0%       error  \n",
      "709                 62.5%       error  \n",
      "730                100.0%       error  \n",
      "737                92.86%       error  \n",
      "744                93.75%       error  \n",
      "752                 50.0%       error  \n",
      "794                100.0%       error  \n",
      "825                66.67%       error  \n",
      "838                85.71%       error  \n",
      "867                86.96%       error  \n",
      "869                39.02%       error  \n",
      "910                94.44%       error  \n",
      "918                66.67%       error  \n",
      "964                66.67%       error  \n",
      "978                 60.0%       error  \n",
      "989                33.33%       error  \n",
      "1075                50.0%       error  \n",
      "1079                61.9%       error  \n",
      "1081               95.65%       error  \n",
      "1104               100.0%       error  \n",
      "1125               100.0%       error  \n",
      "1127                60.0%       error  \n",
      "1162                50.0%       error  \n",
      "1201                91.8%       error  \n",
      "1205                60.0%       error  \n",
      "1235               57.43%       error  \n",
      "1280               72.73%       error  \n",
      "1316               66.67%       error  \n",
      "1346               100.0%       error  \n",
      "1348               90.32%       error  \n",
      "1394               91.67%       error  \n",
      "1401               100.0%       error  \n",
      "1425               66.67%       error  \n",
      "1440               100.0%       error  \n",
      "1462               100.0%       error  \n",
      "1488               66.67%       error  \n",
      "1492                50.0%       error  \n",
      "1511               94.83%       error  \n",
      "1577               57.14%       error  \n",
      "1602               81.82%       error  \n",
      "1621               77.78%       error  \n",
      "1661                87.5%       error  \n",
      "1676               73.81%       error  \n",
      "1678                80.0%       error  \n",
      "1735               58.06%       error  \n",
      "1739               100.0%       error  \n",
      "1752               33.33%       error  \n",
      "1796               84.21%       error  \n",
      "1829               88.37%       error  \n",
      "1851                80.0%       error  \n",
      "1860               64.29%       error  \n",
      "1874               100.0%       error  \n",
      "1889               42.11%       error  \n",
      "1899               100.0%       error  \n",
      "1922               100.0%       error  \n",
      "1928               71.43%       error  \n",
      "1936               45.45%       error  \n",
      "1950               51.35%       error  \n",
      "1951                60.0%       error  \n",
      "1971               86.11%       error  \n",
      "1992                80.0%       error  \n",
      "2005               77.27%       error  \n",
      "2006               48.78%       error  \n",
      "2016               83.33%       error  \n",
      "2021               100.0%       error  \n",
      "2046               57.69%       error  \n",
      "2049               53.85%       error  \n",
      "2077                50.0%       error  \n",
      "2080                74.0%       error  \n",
      "2105                60.0%       error  \n",
      "2122               100.0%       error  \n",
      "2180               82.61%       error  \n",
      "2197               65.88%       error  \n",
      "2204                95.0%       error  \n",
      "2225               54.72%       error  \n",
      "2249               100.0%       error  \n",
      "2250               88.89%       error  \n",
      "2258                50.0%       error  \n",
      "2269               84.21%       error  \n",
      "2275               100.0%       error  \n",
      "2295                  n/a       error  \n",
      "2306               66.67%       error  \n",
      "2332               80.95%       error  \n",
      "2334               100.0%       error  \n",
      "2343               96.61%       error  \n",
      "2348               80.51%       error  \n",
      "2434               71.43%       error  \n",
      "2468               66.67%       error  \n",
      "2495               46.59%       error  \n",
      "2514               66.67%       error  \n",
      "2516               100.0%       error  \n",
      "2542               85.71%       error  \n",
      "2568                80.0%       error  \n",
      "2571               100.0%       error  \n",
      "2584               100.0%       error  \n",
      "2626               57.14%       error  \n",
      "2637                50.0%       error  \n",
      "2644               88.14%       error  \n",
      "2668                49.6%       error  \n",
      "2678               100.0%       error  \n",
      "2694               45.26%       error  \n",
      "2710               100.0%       error  \n",
      "2731               48.65%       error  \n",
      "2748                50.0%       error  \n",
      "2766                98.9%       error  \n",
      "2778               86.08%       error  \n",
      "2782                90.0%       error  \n",
      "2790                75.0%       error  \n",
      "2794                75.0%       error  \n"
     ]
    }
   ],
   "source": [
    "x = df.loc[df[\"Trial_Judge\"] == 'error']\n",
    "print(\"Num_Errors:\",len(x), \"\\n\", x)"
   ]
  },
  {
   "cell_type": "code",
   "execution_count": 162,
   "metadata": {
    "scrolled": true
   },
   "outputs": [
    {
     "name": "stdout",
     "output_type": "stream",
     "text": [
      "Index to Test:160\n",
      "error \n",
      "\n",
      " in the supreme court of north carolina no. 175a98 bradley r. morgan and wife, tonja d. morgan and bradley dale morgan v. state farm mutual automobile insurance company appeal by plaintiffs pursuant to n.c.g.s. § 7a-30(2) of the decision of a divided panel of the court of appeals, 129 n.c. app. 200, 497 s.e.2d 834 (1998), affirming the order allowing defendant’s motion for summary judgment entered by phillips, j., on 29 april 1997, in superior court, carteret county. heard in the supreme court on 13 october 1998. wheatly, wheatly, nobles & weeks, p.a., by stevenson l. weeks, for plaintiff-appellants. bailey, way & jerzak, by glenn bailey, for defendant- appellee. per curiam. affirmed. \n"
     ]
    }
   ],
   "source": [
    "# Test function to review and diagnose issues\n",
    "try:\n",
    "    test_cell = int(input(\"Index to Test:\"))\n",
    "    print(trial_judge(df.Opinion[test_cell]),\n",
    "          '\\n\\n', df.Opinion[test_cell])\n",
    "except:\n",
    "    print(\"Please enter an index to review:\")"
   ]
  },
  {
   "cell_type": "code",
   "execution_count": 125,
   "metadata": {},
   "outputs": [
    {
     "data": {
      "text/plain": [
       "454"
      ]
     },
     "execution_count": 125,
     "metadata": {},
     "output_type": "execute_result"
    }
   ],
   "source": [
    "len( \"harland dean campbell v. city of high point no. 438a01 (filed 18 december 2001) appeal pursuant to n.c.g.s. § 7a-30(2) from the decision of a divided panel of the court of appeals, ___ n.c. app. ___, 551 s.e.2d 443 (2001), affirming an order for summary judgment signed 4 april 2000 by albright, j., in superior court, guilford county. heard in the supreme court 10 december 2001. skager law firm, by philip r. skager, for plaintiff- appellant. womble ca\")"
   ]
  },
  {
   "cell_type": "markdown",
   "metadata": {},
   "source": [
    "NOTES:\n",
    "INITIAL REVIEW:\n",
    "0 by judge karen eady-williams in\n",
    "1 by judge henry w. hight, jr. in \n",
    "2 by judge nathaniel j. poovey in \n",
    "3 by judge william c. gore in  / 3339\n",
    "4 by judge donald w. stephens in \n",
    "5 by judge alma l. hinton in \n",
    "100 by judge benjamin alford in \n",
    "200 by judge jack a. thompson in  / 1046\n",
    "400 by judge orlando f. hudson, jr. in \n",
    "800 by judge spencer byron ennis in / 3304\n",
    "850 by judge jack w. jenkins in \n",
    "855 by judge nathaniel j. poovey in \n",
    "==================FUNCTION ERROR NOTES==================\n",
    "30 - agency decision\n",
    "35 - complex business cases, ben f. tennille, in wake county\n",
    "38 - none indicated\n",
    "62 - appeal from state bar decision\n",
    "81 - multiple\n",
    "125 - none indicated\n",
    "160 - none\n",
    "165 - multiple\n",
    "190 - none"
   ]
  },
  {
   "cell_type": "markdown",
   "metadata": {},
   "source": [
    "## 7. Extract Feature: County"
   ]
  },
  {
   "cell_type": "code",
   "execution_count": null,
   "metadata": {},
   "outputs": [],
   "source": [
    "def extract_county(text):\n",
    "    try:\n",
    "        county = re.search(\"((\\w*) county)\",text[:700])\n",
    "        return county.group(2)\n",
    "    except:\n",
    "        return(None)"
   ]
  },
  {
   "cell_type": "code",
   "execution_count": null,
   "metadata": {},
   "outputs": [],
   "source": [
    "extract_county(df.Opinion[200])"
   ]
  },
  {
   "cell_type": "code",
   "execution_count": null,
   "metadata": {},
   "outputs": [],
   "source": [
    "county_list = []\n",
    "for i in range(len(df.Opinion)):\n",
    "    x = extract_county(df.Opinion[i])\n",
    "    county_list.append(x)\n",
    "    \n",
    "df[\"County\"] = pd.Series(county_list).values"
   ]
  },
  {
   "cell_type": "markdown",
   "metadata": {},
   "source": [
    "# Work through list below - resolve \"None\" and wrong counties"
   ]
  },
  {
   "cell_type": "code",
   "execution_count": null,
   "metadata": {},
   "outputs": [],
   "source": [
    "list = df.County.value_counts()\n",
    "print(list)"
   ]
  },
  {
   "cell_type": "markdown",
   "metadata": {},
   "source": [
    "## 8. Topic Modeling/One Shot Learning to Extract Embedded Features"
   ]
  },
  {
   "cell_type": "code",
   "execution_count": null,
   "metadata": {},
   "outputs": [],
   "source": []
  },
  {
   "cell_type": "code",
   "execution_count": null,
   "metadata": {},
   "outputs": [],
   "source": []
  },
  {
   "cell_type": "code",
   "execution_count": null,
   "metadata": {},
   "outputs": [],
   "source": []
  },
  {
   "cell_type": "markdown",
   "metadata": {},
   "source": [
    "## 9. EDA Visualizations"
   ]
  },
  {
   "cell_type": "markdown",
   "metadata": {},
   "source": [
    "### A. MSJ Allowed/Reversed Over Time"
   ]
  },
  {
   "cell_type": "code",
   "execution_count": null,
   "metadata": {},
   "outputs": [],
   "source": []
  },
  {
   "cell_type": "code",
   "execution_count": null,
   "metadata": {},
   "outputs": [],
   "source": []
  },
  {
   "cell_type": "markdown",
   "metadata": {},
   "source": [
    "### B. MSJ by Case Type"
   ]
  },
  {
   "cell_type": "code",
   "execution_count": null,
   "metadata": {},
   "outputs": [],
   "source": []
  },
  {
   "cell_type": "code",
   "execution_count": null,
   "metadata": {},
   "outputs": [],
   "source": []
  }
 ],
 "metadata": {
  "kernelspec": {
   "display_name": "Python 3",
   "language": "python",
   "name": "python3"
  },
  "language_info": {
   "codemirror_mode": {
    "name": "ipython",
    "version": 3
   },
   "file_extension": ".py",
   "mimetype": "text/x-python",
   "name": "python",
   "nbconvert_exporter": "python",
   "pygments_lexer": "ipython3",
   "version": "3.6.9"
  }
 },
 "nbformat": 4,
 "nbformat_minor": 2
}
