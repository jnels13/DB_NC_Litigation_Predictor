{
 "cells": [
  {
   "cell_type": "markdown",
   "metadata": {},
   "source": [
    "# North Carolina Litigation Predictor\n",
    "# Final Preprocessing and Modeling<br><br>\n",
    "# ADDRESS CLASS IMBALANCE - MIGHT BE CAUSE OF SHITTY AUC\n",
    "\n",
    "\n",
    "### Contents:\n",
    "<ul>\n",
    "    <li> Import Libraries\n",
    "    <li> Final Preprocessing / One-Hot Encoding\n",
    "    <li> Model Creation\n",
    "        \n"
   ]
  },
  {
   "cell_type": "markdown",
   "metadata": {},
   "source": [
    "## Import Libraries & Data"
   ]
  },
  {
   "cell_type": "code",
   "execution_count": 1,
   "metadata": {},
   "outputs": [],
   "source": [
    "import io\n",
    "import pandas as pd\n",
    "import pickle\n",
    "\n",
    "from sklearn.preprocessing import OneHotEncoder\n",
    "from sklearn.model_selection import train_test_split, GridSearchCV\n",
    "from sklearn import model_selection, naive_bayes, svm\n",
    "from sklearn.linear_model import LogisticRegression \n",
    "from sklearn.metrics import accuracy_score, classification_report, confusion_matrix, f1_score, roc_curve, auc\n",
    "\n",
    "import seaborn as sns\n",
    "import matplotlib.pyplot as plt\n",
    "%matplotlib inline\n",
    "import warnings\n",
    "warnings.filterwarnings(\"ignore\")"
   ]
  },
  {
   "cell_type": "code",
   "execution_count": 2,
   "metadata": {},
   "outputs": [],
   "source": [
    "# Open the dataframe\n",
    "infile = open('ProjectData/df_features.data', 'rb')\n",
    "df = pickle.load(infile)\n",
    "infile.close()"
   ]
  },
  {
   "cell_type": "markdown",
   "metadata": {},
   "source": [
    "### Review and Clean DataFrame of Unneeded Columns"
   ]
  },
  {
   "cell_type": "code",
   "execution_count": 3,
   "metadata": {},
   "outputs": [
    {
     "name": "stdout",
     "output_type": "stream",
     "text": [
      "<class 'pandas.core.frame.DataFrame'>\n",
      "RangeIndex: 2690 entries, 0 to 2689\n",
      "Data columns (total 9 columns):\n",
      "Opinion                 2690 non-null object\n",
      "SCT                     2690 non-null int64\n",
      "Year_Filed              2690 non-null int64\n",
      "File_Numbers            2690 non-null object\n",
      "Result                  2690 non-null int64\n",
      "Case_Type               2690 non-null object\n",
      "Case_Type_Confidence    2690 non-null object\n",
      "Trial_Judge             2690 non-null object\n",
      "County                  2690 non-null object\n",
      "dtypes: int64(3), object(6)\n",
      "memory usage: 189.3+ KB\n"
     ]
    }
   ],
   "source": [
    "df.info()"
   ]
  },
  {
   "cell_type": "code",
   "execution_count": 4,
   "metadata": {},
   "outputs": [
    {
     "name": "stdout",
     "output_type": "stream",
     "text": [
      "<class 'pandas.core.frame.DataFrame'>\n",
      "RangeIndex: 2690 entries, 0 to 2689\n",
      "Data columns (total 9 columns):\n",
      "Opinion                 2690 non-null object\n",
      "SCT                     2690 non-null int64\n",
      "Year_Filed              2690 non-null int64\n",
      "File_Numbers            2690 non-null object\n",
      "Result                  2690 non-null int64\n",
      "Case_Type               2690 non-null object\n",
      "Case_Type_Confidence    2690 non-null object\n",
      "Trial_Judge             2690 non-null object\n",
      "County                  2690 non-null object\n",
      "dtypes: int64(3), object(6)\n",
      "memory usage: 189.3+ KB\n"
     ]
    }
   ],
   "source": [
    "df.info()"
   ]
  },
  {
   "cell_type": "code",
   "execution_count": 5,
   "metadata": {},
   "outputs": [],
   "source": [
    "df.drop(['Opinion', 'SCT', 'File_Numbers', 'Case_Type_Confidence'], axis=1, inplace=True)"
   ]
  },
  {
   "cell_type": "code",
   "execution_count": 6,
   "metadata": {},
   "outputs": [
    {
     "name": "stdout",
     "output_type": "stream",
     "text": [
      "<class 'pandas.core.frame.DataFrame'>\n",
      "RangeIndex: 2690 entries, 0 to 2689\n",
      "Data columns (total 5 columns):\n",
      "Year_Filed     2690 non-null int64\n",
      "Result         2690 non-null int64\n",
      "Case_Type      2690 non-null object\n",
      "Trial_Judge    2690 non-null object\n",
      "County         2690 non-null object\n",
      "dtypes: int64(2), object(3)\n",
      "memory usage: 105.2+ KB\n"
     ]
    }
   ],
   "source": [
    "df.info()"
   ]
  },
  {
   "cell_type": "code",
   "execution_count": 7,
   "metadata": {},
   "outputs": [
    {
     "data": {
      "text/plain": [
       "Year_Filed     False\n",
       "Result         False\n",
       "Case_Type      False\n",
       "Trial_Judge    False\n",
       "County         False\n",
       "dtype: bool"
      ]
     },
     "execution_count": 7,
     "metadata": {},
     "output_type": "execute_result"
    }
   ],
   "source": [
    "df.isna().any()"
   ]
  },
  {
   "cell_type": "code",
   "execution_count": 8,
   "metadata": {},
   "outputs": [
    {
     "data": {
      "text/plain": [
       "(2690, 5)"
      ]
     },
     "execution_count": 8,
     "metadata": {},
     "output_type": "execute_result"
    }
   ],
   "source": [
    "df.shape"
   ]
  },
  {
   "cell_type": "code",
   "execution_count": 13,
   "metadata": {},
   "outputs": [
    {
     "data": {
      "text/plain": [
       "1    2004\n",
       "0     686\n",
       "Name: Result, dtype: int64"
      ]
     },
     "execution_count": 13,
     "metadata": {},
     "output_type": "execute_result"
    }
   ],
   "source": [
    "# View class imbalance\n",
    "df.Result.value_counts()"
   ]
  },
  {
   "cell_type": "code",
   "execution_count": 15,
   "metadata": {},
   "outputs": [
    {
     "data": {
      "image/png": "[encoded data removed]",
      "text/plain": [
       "<Figure size 432x288 with 1 Axes>"
      ]
     },
     "metadata": {},
     "output_type": "display_data"
    }
   ],
   "source": [
    "#Visualize class imbalance\n",
    "df.Result.value_counts().plot.pie(autopct=\"%.1f%%\");"
   ]
  },
  {
   "cell_type": "code",
   "execution_count": null,
   "metadata": {},
   "outputs": [],
   "source": []
  },
  {
   "cell_type": "markdown",
   "metadata": {},
   "source": [
    "### One-Hot Encoding and Train/Test Split"
   ]
  },
  {
   "cell_type": "code",
   "execution_count": 9,
   "metadata": {},
   "outputs": [],
   "source": [
    "y = df.Result\n",
    "X = df.drop(columns = ['Result'])"
   ]
  },
  {
   "cell_type": "code",
   "execution_count": 10,
   "metadata": {},
   "outputs": [],
   "source": [
    "X = pd.get_dummies(X)"
   ]
  },
  {
   "cell_type": "code",
   "execution_count": 11,
   "metadata": {},
   "outputs": [
    {
     "data": {
      "text/plain": [
       "(2690, 771)"
      ]
     },
     "execution_count": 11,
     "metadata": {},
     "output_type": "execute_result"
    }
   ],
   "source": [
    "X.shape"
   ]
  },
  {
   "cell_type": "code",
   "execution_count": 12,
   "metadata": {},
   "outputs": [],
   "source": [
    "X_train, X_test, y_train, y_test = train_test_split(X,y,random_state = 42, test_size = 0.3)"
   ]
  },
  {
   "cell_type": "markdown",
   "metadata": {},
   "source": [
    "## Modeling\n",
    "\n",
    "Some research into the best probabilistic classification models suggests that logistic regression, SVMs, and neural networks would be the best fit for the intended goal.  I will run each on the data and see which performs best. "
   ]
  },
  {
   "cell_type": "markdown",
   "metadata": {},
   "source": [
    "### Logistic Regression Model"
   ]
  },
  {
   "cell_type": "code",
   "execution_count": 155,
   "metadata": {},
   "outputs": [],
   "source": [
    "def auc_chart(fpr,tpr):\n",
    "    sns.set_style('darkgrid', {'axes.facecolor': '0.9'})\n",
    "    # Plot the ROC curve\n",
    "    plt.figure(figsize=(10, 8))\n",
    "    lw = 2\n",
    "    plt.plot(fpr, tpr, color='darkorange',\n",
    "             lw=lw, label='ROC curve')\n",
    "\n",
    "    plt.plot([0, 1], [0, 1], color='navy', lw=lw, linestyle='--')\n",
    "    plt.xlim([0.0, 1.0])\n",
    "    plt.ylim([0.0, 1.05])\n",
    "    plt.yticks([i/20.0 for i in range(21)])\n",
    "    plt.xticks([i/20.0 for i in range(21)])\n",
    "    plt.xlabel('False Positive Rate')\n",
    "    plt.ylabel('True Positive Rate')\n",
    "    plt.title('Receiver operating characteristic (ROC) Curve')\n",
    "    plt.legend(loc='lower right')\n",
    "    plt.show()"
   ]
  },
  {
   "cell_type": "code",
   "execution_count": 164,
   "metadata": {},
   "outputs": [],
   "source": [
    "def logreg_fn(X_train, X_test, y_train, y_test, params):\n",
    "    logreg_clf = LogisticRegression(random_state=12)\n",
    "    logreg_gs = GridSearchCV(logreg_clf, params, cv=5)\n",
    "    logreg_gs.fit(X_train, y_train)\n",
    "    best = logreg_gs.best_params_\n",
    "    \n",
    "    logreg_final = LogisticRegression(solver=best['solver'],\n",
    "                                      penalty=best['penalty'],\n",
    "                                      C=best['C'])\n",
    "    \n",
    "    logreg_final.fit(X_train, y_train)\n",
    "    y_hat = logreg_final.predict(X_test)\n",
    "    y_score = logreg_final.decision_function(X_test)\n",
    "    fpr, tpr, thresholds = roc_curve(y_test, y_score)\n",
    "    AUC = auc(fpr, tpr)\n",
    "\n",
    "    print('Best params:',best,\n",
    "          '\\n Accuracy Score - Test: ', accuracy_score(y_test, y_hat),\n",
    "          '\\n Confusion Matrix:\\n', confusion_matrix(y_test, y_hat), \n",
    "          '\\n AUC: ', AUC)\n",
    "    \n",
    "    auc_chart(fpr,tpr)\n",
    "    \n",
    "    return()\n",
    "    "
   ]
  },
  {
   "cell_type": "code",
   "execution_count": 165,
   "metadata": {},
   "outputs": [
    {
     "name": "stdout",
     "output_type": "stream",
     "text": [
      "Best params: {'C': 100, 'penalty': 'l2', 'solver': 'liblinear'} \n",
      " Accuracy Score - Test:  0.7063197026022305 \n",
      " Confusion Matrix:\n",
      " [[ 18 170]\n",
      " [ 67 552]] \n",
      " AUC:  0.5445897638607224\n"
     ]
    },
    {
     "data": {
      "image/png": "[encoded data removed]",
      "text/plain": [
       "<Figure size 720x576 with 1 Axes>"
      ]
     },
     "metadata": {},
     "output_type": "display_data"
    },
    {
     "data": {
      "text/plain": [
       "()"
      ]
     },
     "execution_count": 165,
     "metadata": {},
     "output_type": "execute_result"
    }
   ],
   "source": [
    "parameters = {'C':[100], \n",
    "              'penalty':['l1', 'l2', 'elasticnet', 'none'],\n",
    "              'solver':['liblinear']}\n",
    "\n",
    "logreg_fn(X_train, X_test, y_train, y_test, parameters)"
   ]
  },
  {
   "cell_type": "markdown",
   "metadata": {},
   "source": [
    "AUC is NOT GOOD!  The plot is nearly clinging to the 50% line.  \n",
    "Accuracy is decent, but per the AUC, it's because the model is predicting almost everything as \"reversed.\" "
   ]
  },
  {
   "cell_type": "code",
   "execution_count": null,
   "metadata": {},
   "outputs": [],
   "source": []
  },
  {
   "cell_type": "code",
   "execution_count": null,
   "metadata": {},
   "outputs": [],
   "source": []
  },
  {
   "cell_type": "code",
   "execution_count": null,
   "metadata": {},
   "outputs": [],
   "source": []
  },
  {
   "cell_type": "code",
   "execution_count": null,
   "metadata": {},
   "outputs": [],
   "source": []
  },
  {
   "cell_type": "code",
   "execution_count": null,
   "metadata": {},
   "outputs": [],
   "source": []
  },
  {
   "cell_type": "code",
   "execution_count": null,
   "metadata": {},
   "outputs": [],
   "source": []
  },
  {
   "cell_type": "markdown",
   "metadata": {},
   "source": [
    "### SVM Model"
   ]
  },
  {
   "cell_type": "code",
   "execution_count": null,
   "metadata": {},
   "outputs": [],
   "source": []
  },
  {
   "cell_type": "code",
   "execution_count": null,
   "metadata": {},
   "outputs": [],
   "source": []
  },
  {
   "cell_type": "code",
   "execution_count": null,
   "metadata": {},
   "outputs": [],
   "source": []
  },
  {
   "cell_type": "code",
   "execution_count": null,
   "metadata": {},
   "outputs": [],
   "source": []
  },
  {
   "cell_type": "markdown",
   "metadata": {},
   "source": [
    "### Neural Network"
   ]
  },
  {
   "cell_type": "code",
   "execution_count": null,
   "metadata": {},
   "outputs": [],
   "source": []
  },
  {
   "cell_type": "markdown",
   "metadata": {},
   "source": [
    "# create tagging and feature set \n",
    "# create models \n",
    "# create pipeline\n",
    "# create dashboard\n",
    "\n",
    "\n",
    "There are many great paid proxy providers like Smartproxy, Netnut, Highproxies, etc. that can be used when scraping and at least you will know that you will get high-quality services that are safe to use with lots of features and big pools of IPs that you can use."
   ]
  },
  {
   "cell_type": "code",
   "execution_count": null,
   "metadata": {},
   "outputs": [],
   "source": []
  },
  {
   "cell_type": "code",
   "execution_count": null,
   "metadata": {},
   "outputs": [],
   "source": []
  },
  {
   "cell_type": "code",
   "execution_count": null,
   "metadata": {},
   "outputs": [],
   "source": []
  },
  {
   "cell_type": "code",
   "execution_count": null,
   "metadata": {},
   "outputs": [],
   "source": []
  },
  {
   "cell_type": "code",
   "execution_count": null,
   "metadata": {},
   "outputs": [],
   "source": []
  }
 ],
 "metadata": {
  "kernelspec": {
   "display_name": "Python 3",
   "language": "python",
   "name": "python3"
  },
  "language_info": {
   "codemirror_mode": {
    "name": "ipython",
    "version": 3
   },
   "file_extension": ".py",
   "mimetype": "text/x-python",
   "name": "python",
   "nbconvert_exporter": "python",
   "pygments_lexer": "ipython3",
   "version": "3.6.9"
  }
 },
 "nbformat": 4,
 "nbformat_minor": 2
}
