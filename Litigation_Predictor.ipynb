{
 "cells": [
  {
   "cell_type": "markdown",
   "metadata": {},
   "source": [
    "# North Carolina Litigation Predictor\n",
    "# Final Preprocessing and Modeling\n",
    "### Contents:\n",
    "<ul>\n",
    "    <li> Import Libraries\n",
    "    <li> Final Preprocessing / One-Hot Encoding\n",
    "    <li> Model Creation\n",
    "        \n"
   ]
  },
  {
   "cell_type": "markdown",
   "metadata": {},
   "source": [
    "## Import Libraries & Data"
   ]
  },
  {
   "cell_type": "code",
   "execution_count": 30,
   "metadata": {},
   "outputs": [],
   "source": [
    "import io\n",
    "import pandas as pd\n",
    "import pickle\n",
    "\n",
    "from imblearn.over_sampling import SMOTE, SMOTENC\n",
    "from sklearn.preprocessing import OneHotEncoder\n",
    "from sklearn.model_selection import train_test_split, GridSearchCV\n",
    "from sklearn.dummy import DummyClassifier\n",
    "from sklearn import model_selection, naive_bayes, svm\n",
    "from sklearn.linear_model import LogisticRegression \n",
    "from sklearn.metrics import (accuracy_score, classification_report, roc_auc_score,\n",
    "f1_score, recall_score, precision_score, plot_confusion_matrix, roc_curve, auc)\n",
    "import time\n",
    "\n",
    "import seaborn as sns\n",
    "import matplotlib.pyplot as plt\n",
    "%matplotlib inline\n",
    "import warnings\n",
    "warnings.filterwarnings(\"ignore\")"
   ]
  },
  {
   "cell_type": "code",
   "execution_count": 24,
   "metadata": {},
   "outputs": [],
   "source": [
    "# Open the dataframe\n",
    "infile = open('ProjectData/df_features.data', 'rb')\n",
    "df = pickle.load(infile)\n",
    "infile.close()"
   ]
  },
  {
   "cell_type": "markdown",
   "metadata": {},
   "source": [
    "### Review and Clean DataFrame of Unneeded Columns"
   ]
  },
  {
   "cell_type": "code",
   "execution_count": 3,
   "metadata": {},
   "outputs": [
    {
     "name": "stdout",
     "output_type": "stream",
     "text": [
      "<class 'pandas.core.frame.DataFrame'>\n",
      "RangeIndex: 2665 entries, 0 to 2664\n",
      "Data columns (total 9 columns):\n",
      "Opinion                 2665 non-null object\n",
      "SCT                     2665 non-null int64\n",
      "Year_Filed              2665 non-null int64\n",
      "File_Numbers            2665 non-null object\n",
      "Result                  2665 non-null int64\n",
      "Case_Type               2665 non-null object\n",
      "Case_Type_Confidence    2665 non-null object\n",
      "Trial_Judge             2665 non-null object\n",
      "County                  2665 non-null object\n",
      "dtypes: int64(3), object(6)\n",
      "memory usage: 187.5+ KB\n"
     ]
    }
   ],
   "source": [
    "df.info()"
   ]
  },
  {
   "cell_type": "code",
   "execution_count": 4,
   "metadata": {},
   "outputs": [],
   "source": [
    "df.drop(['Opinion', 'SCT', 'File_Numbers', 'Case_Type_Confidence', 'Year_Filed'], axis=1, inplace=True)"
   ]
  },
  {
   "cell_type": "code",
   "execution_count": 5,
   "metadata": {},
   "outputs": [
    {
     "name": "stdout",
     "output_type": "stream",
     "text": [
      "<class 'pandas.core.frame.DataFrame'>\n",
      "RangeIndex: 2665 entries, 0 to 2664\n",
      "Data columns (total 4 columns):\n",
      "Result         2665 non-null int64\n",
      "Case_Type      2665 non-null object\n",
      "Trial_Judge    2665 non-null object\n",
      "County         2665 non-null object\n",
      "dtypes: int64(1), object(3)\n",
      "memory usage: 83.4+ KB\n"
     ]
    }
   ],
   "source": [
    "df.info()"
   ]
  },
  {
   "cell_type": "code",
   "execution_count": 6,
   "metadata": {},
   "outputs": [
    {
     "data": {
      "text/plain": [
       "Result         False\n",
       "Case_Type      False\n",
       "Trial_Judge    False\n",
       "County         False\n",
       "dtype: bool"
      ]
     },
     "execution_count": 6,
     "metadata": {},
     "output_type": "execute_result"
    }
   ],
   "source": [
    "df.isna().any()"
   ]
  },
  {
   "cell_type": "code",
   "execution_count": 7,
   "metadata": {},
   "outputs": [
    {
     "data": {
      "text/plain": [
       "(2665, 4)"
      ]
     },
     "execution_count": 7,
     "metadata": {},
     "output_type": "execute_result"
    }
   ],
   "source": [
    "df.shape"
   ]
  },
  {
   "cell_type": "markdown",
   "metadata": {},
   "source": [
    "### One-Hot Encoding and Train/Test Split"
   ]
  },
  {
   "cell_type": "code",
   "execution_count": 8,
   "metadata": {},
   "outputs": [],
   "source": [
    "y = df.Result\n",
    "X = df.drop(columns = ['Result'])"
   ]
  },
  {
   "cell_type": "code",
   "execution_count": 9,
   "metadata": {},
   "outputs": [],
   "source": [
    "# Either/Or of the following two:\n",
    "X_gd = pd.get_dummies(X)\n",
    "ohe = OneHotEncoder(handle_unknown='ignore')\n",
    "X_ohe = ohe.fit_transform(X)"
   ]
  },
  {
   "cell_type": "code",
   "execution_count": 10,
   "metadata": {},
   "outputs": [
    {
     "data": {
      "text/plain": [
       "array(['Case_Type_car_crash', 'Case_Type_construction',\n",
       "       'Case_Type_contract', 'Case_Type_corporate',\n",
       "       'Case_Type_defamation', 'Case_Type_employment',\n",
       "       'Case_Type_estates', 'Case_Type_family_law',\n",
       "       'Case_Type_fraud_udtpa', 'Case_Type_governmental',\n",
       "       'Case_Type_insurance', 'Case_Type_landlord_tenant',\n",
       "       'Case_Type_med_mal', 'Case_Type_other', 'Case_Type_premises',\n",
       "       'Case_Type_products', 'Case_Type_property',\n",
       "       'Case_Type_workers_comp', 'Case_Type_wrongful_death',\n",
       "       'Trial_Judge_abernathy g.', 'Trial_Judge_abernethy richard',\n",
       "       'Trial_Judge_adams gale', 'Trial_Judge_adkins karl',\n",
       "       'Trial_Judge_albright', 'Trial_Judge_albright r.',\n",
       "       'Trial_Judge_albright robert', 'Trial_Judge_albright stuart',\n",
       "       'Trial_Judge_albright w.', 'Trial_Judge_aldridge thomas',\n",
       "       'Trial_Judge_alexander karen', 'Trial_Judge_alford benjamin',\n",
       "       'Trial_Judge_allen j.', 'Trial_Judge_allen philip',\n",
       "       'Trial_Judge_allen stanley', 'Trial_Judge_allen w.',\n",
       "       'Trial_Judge_allsbrook richard', 'Trial_Judge_ammons james',\n",
       "       'Trial_Judge_anderson charles', 'Trial_Judge_arguments panel',\n",
       "       'Trial_Judge_baddour allen', 'Trial_Judge_baddour r.',\n",
       "       'Trial_Judge_baddour richard', 'Trial_Judge_baker james',\n",
       "       'Trial_Judge_balog steve', 'Trial_Judge_balog steven',\n",
       "       'Trial_Judge_banks j.', 'Trial_Judge_barber wade',\n",
       "       'Trial_Judge_barefoot napoleon', 'Trial_Judge_barnette henry',\n",
       "       'Trial_Judge_barrett sharon', 'Trial_Judge_battle f.',\n",
       "       'Trial_Judge_bawtinhimer stacey', 'Trial_Judge_beal',\n",
       "       'Trial_Judge_beal beverly', 'Trial_Judge_beale michael',\n",
       "       'Trial_Judge_beaman grafton', 'Trial_Judge_bean c.',\n",
       "       'Trial_Judge_bedsworth george', 'Trial_Judge_bell j.',\n",
       "       'Trial_Judge_bell james', 'Trial_Judge_bell lisa',\n",
       "       'Trial_Judge_bell w.', 'Trial_Judge_best kimberly',\n",
       "       'Trial_Judge_blackmore rebecca', 'Trial_Judge_blake aretha',\n",
       "       'Trial_Judge_bland william', 'Trial_Judge_bledsoe louis',\n",
       "       'Trial_Judge_blick joseph', 'Trial_Judge_blount marvin',\n",
       "       'Trial_Judge_bogle ronald', 'Trial_Judge_boner richard',\n",
       "       'Trial_Judge_bowen wiley', 'Trial_Judge_bowers john',\n",
       "       'Trial_Judge_brady robert', 'Trial_Judge_bragg christopher',\n",
       "       'Trial_Judge_brannon anthony', 'Trial_Judge_brantley david',\n",
       "       'Trial_Judge_braswell b.', 'Trial_Judge_bray susan',\n",
       "       'Trial_Judge_brewer coy', 'Trial_Judge_bridges donald',\n",
       "       'Trial_Judge_bridges f.', 'Trial_Judge_bridges forrest',\n",
       "       'Trial_Judge_bridges kevin', 'Trial_Judge_bridges laura',\n",
       "       'Trial_Judge_brooks selina', 'Trial_Judge_brooks william',\n",
       "       'Trial_Judge_brown anthony', 'Trial_Judge_brown craig',\n",
       "       'Trial_Judge_brown deborah', 'Trial_Judge_brown frank',\n",
       "       'Trial_Judge_brown richard', 'Trial_Judge_brown shirley',\n",
       "       'Trial_Judge_bryant steven', 'Trial_Judge_bullock stafford',\n",
       "       'Trial_Judge_burch susan', 'Trial_Judge_burke l.',\n",
       "       'Trial_Judge_burroughs robert', 'Trial_Judge_bushfan elaine',\n",
       "       'Trial_Judge_butterfield g.', 'Trial_Judge_caldwell jesse',\n",
       "       'Trial_Judge_cameron william', 'Trial_Judge_campbell hugh',\n",
       "       'Trial_Judge_carolina the', 'Trial_Judge_carter clarence',\n",
       "       'Trial_Judge_cashwell', 'Trial_Judge_cashwell narley',\n",
       "       'Trial_Judge_caudill gentry', 'Trial_Judge_caudill j.',\n",
       "       'Trial_Judge_caviness', 'Trial_Judge_caviness loto',\n",
       "       'Trial_Judge_cayer david', 'Trial_Judge_cella eugene',\n",
       "       'Trial_Judge_chapman ronald', 'Trial_Judge_cilley robert',\n",
       "       'Trial_Judge_clark giles', 'Trial_Judge_cobb',\n",
       "       'Trial_Judge_cobb w.', 'Trial_Judge_cole j.',\n",
       "       'Trial_Judge_collier christopher', 'Trial_Judge_collins g.',\n",
       "       'Trial_Judge_collins george', 'Trial_Judge_conrad adam',\n",
       "       'Trial_Judge_constangy h.', 'Trial_Judge_cooper pell',\n",
       "       'Trial_Judge_corbett a.', 'Trial_Judge_corbett albert',\n",
       "       'Trial_Judge_cornelius c.', 'Trial_Judge_cornelius preston',\n",
       "       'Trial_Judge_corpening j.', 'Trial_Judge_court the',\n",
       "       'Trial_Judge_covington mary', 'Trial_Judge_coward william',\n",
       "       'Trial_Judge_craig john', 'Trial_Judge_cranford dwight',\n",
       "       'Trial_Judge_cromer anderson', 'Trial_Judge_cromer andy',\n",
       "       'Trial_Judge_croom craig', 'Trial_Judge_crosswhite joseph',\n",
       "       'Trial_Judge_crow kenneth', 'Trial_Judge_daisy william',\n",
       "       'Trial_Judge_dameron e.', 'Trial_Judge_davis amber',\n",
       "       'Trial_Judge_davis chester', 'Trial_Judge_davis danny',\n",
       "       'Trial_Judge_davis j.', 'Trial_Judge_davis james',\n",
       "       'Trial_Judge_davis lindsay', 'Trial_Judge_davis richard',\n",
       "       'Trial_Judge_davis tommy', 'Trial_Judge_dellinger j.',\n",
       "       'Trial_Judge_deramus', 'Trial_Judge_deramus judson',\n",
       "       'Trial_Judge_desvousges shelley', 'Trial_Judge_diaz albert',\n",
       "       'Trial_Judge_doughton', 'Trial_Judge_doughton richard',\n",
       "       'Trial_Judge_downs', 'Trial_Judge_downs james',\n",
       "       'Trial_Judge_duke w.', 'Trial_Judge_duncan michael',\n",
       "       'Trial_Judge_eagles catherine', 'Trial_Judge_eagles margaret',\n",
       "       'Trial_Judge_edwards c.', 'Trial_Judge_ellis b.',\n",
       "       'Trial_Judge_ellis craig', 'Trial_Judge_ennis spencer',\n",
       "       'Trial_Judge_entzminger daniel', 'Trial_Judge_ervin robert',\n",
       "       'Trial_Judge_etheridge scott', 'Trial_Judge_evans pat',\n",
       "       'Trial_Judge_evans robert', 'Trial_Judge_evans yvonne',\n",
       "       'Trial_Judge_everett clifton', 'Trial_Judge_fairley william',\n",
       "       'Trial_Judge_faison james', 'Trial_Judge_farmer robert',\n",
       "       'Trial_Judge_ferrell forrest', 'Trial_Judge_finch daniel',\n",
       "       'Trial_Judge_fitch milton', 'Trial_Judge_floyd r.',\n",
       "       'Trial_Judge_floyd robert', 'Trial_Judge_ford larry',\n",
       "       'Trial_Judge_foster anna', 'Trial_Judge_foster jefferey',\n",
       "       'Trial_Judge_foster jeffrey', 'Trial_Judge_foster thomas',\n",
       "       'Trial_Judge_foust linwood', 'Trial_Judge_fox carl',\n",
       "       'Trial_Judge_foy louis', 'Trial_Judge_freeman william',\n",
       "       'Trial_Judge_frye henry', 'Trial_Judge_fullwood ernest',\n",
       "       'Trial_Judge_fullwood james', 'Trial_Judge_futrell stephan',\n",
       "       'Trial_Judge_g howard', 'Trial_Judge_gale james',\n",
       "       'Trial_Judge_galloway mark', 'Trial_Judge_gardner john',\n",
       "       'Trial_Judge_gavenus gary', 'Trial_Judge_gavin lee',\n",
       "       'Trial_Judge_gaylor charles', 'Trial_Judge_gentry mike',\n",
       "       'Trial_Judge_gessner paul', 'Trial_Judge_gilchrist c.',\n",
       "       'Trial_Judge_ginn c.', 'Trial_Judge_ginn charles',\n",
       "       'Trial_Judge_godwin walter', 'Trial_Judge_gordon nancy',\n",
       "       'Trial_Judge_gore', 'Trial_Judge_gore william',\n",
       "       'Trial_Judge_gorham phyllis', 'Trial_Judge_gottlieb richard',\n",
       "       'Trial_Judge_graham', 'Trial_Judge_graham william',\n",
       "       'Trial_Judge_grant cy', 'Trial_Judge_gray beecher',\n",
       "       'Trial_Judge_gray jane', 'Trial_Judge_gray marvin',\n",
       "       'Trial_Judge_greeson howard', 'Trial_Judge_gregory edgar',\n",
       "       'Trial_Judge_gregory keith', 'Trial_Judge_griffin william',\n",
       "       'Trial_Judge_grimes samuel', 'Trial_Judge_gryder rebecca',\n",
       "       'Trial_Judge_guice zoro', 'Trial_Judge_haigwood thomas',\n",
       "       'Trial_Judge_hall david', 'Trial_Judge_hamby william',\n",
       "       'Trial_Judge_hardin james', 'Trial_Judge_harper jane',\n",
       "       'Trial_Judge_harrell r.', 'Trial_Judge_harrison hal',\n",
       "       'Trial_Judge_harriss meader', 'Trial_Judge_hartsfield denise',\n",
       "       'Trial_Judge_hassell a.', 'Trial_Judge_hassell andrew',\n",
       "       'Trial_Judge_heath andrew', 'Trial_Judge_heath elizabeth',\n",
       "       'Trial_Judge_hedrick edward', 'Trial_Judge_height henry',\n",
       "       'Trial_Judge_helms michael', 'Trial_Judge_helms william',\n",
       "       'Trial_Judge_henry charles', 'Trial_Judge_herring d.',\n",
       "       'Trial_Judge_hight', 'Trial_Judge_hight henry',\n",
       "       'Trial_Judge_hill claire', 'Trial_Judge_hill evelyn',\n",
       "       'Trial_Judge_hill james', 'Trial_Judge_hill kendra',\n",
       "       'Trial_Judge_hinnant patrice', 'Trial_Judge_hinton alma',\n",
       "       'Trial_Judge_hobgood', 'Trial_Judge_hobgood robert',\n",
       "       'Trial_Judge_hockenbury jay', 'Trial_Judge_hodges robert',\n",
       "       'Trial_Judge_holshouser john', 'Trial_Judge_holt rebecca',\n",
       "       'Trial_Judge_holt shelly', 'Trial_Judge_hooks d.',\n",
       "       'Trial_Judge_hooks dewey', 'Trial_Judge_hoover donnie',\n",
       "       'Trial_Judge_horne gregory', 'Trial_Judge_horne r.',\n",
       "       'Trial_Judge_horton clarence', 'Trial_Judge_houston jeanie',\n",
       "       'Trial_Judge_hudson orlando', 'Trial_Judge_hughes f.',\n",
       "       'Trial_Judge_hunt jeff', 'Trial_Judge_hyatt j.',\n",
       "       'Trial_Judge_hyatt marlene', 'Trial_Judge_iii james',\n",
       "       'Trial_Judge_inman lucy', 'Trial_Judge_jarrell h.',\n",
       "       'Trial_Judge_jenkins jack', 'Trial_Judge_jenkins knox',\n",
       "       'Trial_Judge_john joseph', 'Trial_Judge_johnson e.',\n",
       "       'Trial_Judge_johnson marcus', 'Trial_Judge_johnson robert',\n",
       "       'Trial_Judge_johnston', 'Trial_Judge_johnston robert',\n",
       "       'Trial_Judge_jolly jerry', 'Trial_Judge_jolly john',\n",
       "       'Trial_Judge_jones abraham', 'Trial_Judge_jones arnold',\n",
       "       'Trial_Judge_jones paul', 'Trial_Judge_jones william',\n",
       "       'Trial_Judge_jordan lillian', 'Trial_Judge_joseph shannon',\n",
       "       'Trial_Judge_keever a.', 'Trial_Judge_key spencer',\n",
       "       'Trial_Judge_kincaid timothy', 'Trial_Judge_klass mark',\n",
       "       'Trial_Judge_knight peter', 'Trial_Judge_knox michael',\n",
       "       'Trial_Judge_kuehnert daniel', 'Trial_Judge_kwasikpui alfred',\n",
       "       'Trial_Judge_l lisa', 'Trial_Judge_labarre david',\n",
       "       'Trial_Judge_lambeth d.', 'Trial_Judge_lambeth david',\n",
       "       'Trial_Judge_lamm charles', 'Trial_Judge_lanier franklin',\n",
       "       'Trial_Judge_lanier russell', 'Trial_Judge_lanning james',\n",
       "       'Trial_Judge_lassiter melissa', 'Trial_Judge_lawton william',\n",
       "       'Trial_Judge_leavell william', 'Trial_Judge_lee jacquelyn',\n",
       "       'Trial_Judge_lee w.', 'Trial_Judge_letts bradley',\n",
       "       'Trial_Judge_levinson eric', 'Trial_Judge_lewis hugh',\n",
       "       'Trial_Judge_lewis john', 'Trial_Judge_lewis ola',\n",
       "       'Trial_Judge_lewis robert', 'Trial_Judge_lewis w.',\n",
       "       'Trial_Judge_llewellyn james', 'Trial_Judge_lock thomas',\n",
       "       'Trial_Judge_locklear gary', 'Trial_Judge_long lunsford',\n",
       "       'Trial_Judge_long v.', 'Trial_Judge_long vance',\n",
       "       'Trial_Judge_love jimmy', 'Trial_Judge_m craig',\n",
       "       'Trial_Judge_maness jayrene', 'Trial_Judge_mangum ned',\n",
       "       'Trial_Judge_manning howard', 'Trial_Judge_martin jerry',\n",
       "       'Trial_Judge_martin lester', 'Trial_Judge_massey a.',\n",
       "       'Trial_Judge_massey moses', 'Trial_Judge_may j.',\n",
       "       'Trial_Judge_mccormick edward', 'Trial_Judge_mccoy h.',\n",
       "       'Trial_Judge_mcgee martin', 'Trial_Judge_mcguire gregory',\n",
       "       'Trial_Judge_mchugh peter', 'Trial_Judge_mckeller c.',\n",
       "       'Trial_Judge_mckown ann', 'Trial_Judge_mclean mitchell',\n",
       "       'Trial_Judge_mcswain lawrence', 'Trial_Judge_mcthenia paige',\n",
       "       'Trial_Judge_miller gordon', 'Trial_Judge_miller regan',\n",
       "       'Trial_Judge_mills l.', 'Trial_Judge_morelock fred',\n",
       "       'Trial_Judge_morey marcia', 'Trial_Judge_morgan eric',\n",
       "       'Trial_Judge_morgan james', 'Trial_Judge_morgan melzer',\n",
       "       'Trial_Judge_morgan michael', 'Trial_Judge_morton j.',\n",
       "       'Trial_Judge_mullinax robert', 'Trial_Judge_murphy calvin',\n",
       "       'Trial_Judge_myers jimmy', 'Trial_Judge_n cressie',\n",
       "       'Trial_Judge_n nancy', 'Trial_Judge_nan',\n",
       "       'Trial_Judge_nance commissioner', 'Trial_Judge_noble l.',\n",
       "       'Trial_Judge_noble lucy', 'Trial_Judge_noble oliver',\n",
       "       'Trial_Judge_nobles john', 'Trial_Judge_norelli nancy',\n",
       "       'Trial_Judge_ofoghludha michael', 'Trial_Judge_oneal elaine',\n",
       "       'Trial_Judge_orders walter', 'Trial_Judge_osman matthew',\n",
       "       'Trial_Judge_overby donald', 'Trial_Judge_parker j.',\n",
       "       'Trial_Judge_parker regina', 'Trial_Judge_parker richard',\n",
       "       'Trial_Judge_parsons w.', 'Trial_Judge_patti',\n",
       "       'Trial_Judge_patti timothy', 'Trial_Judge_payne ronald',\n",
       "       'Trial_Judge_penry j.', 'Trial_Judge_phillips herbert',\n",
       "       'Trial_Judge_pittman william', 'Trial_Judge_pomeroy w.',\n",
       "       'Trial_Judge_pool c.', 'Trial_Judge_poovey nathaniel',\n",
       "       'Trial_Judge_pope marvin', 'Trial_Judge_powell mark',\n",
       "       'Trial_Judge_quinn paul', 'Trial_Judge_r allen',\n",
       "       'Trial_Judge_r wade', 'Trial_Judge_rader robert',\n",
       "       'Trial_Judge_ragan james', 'Trial_Judge_rand ripley',\n",
       "       'Trial_Judge_reviewable and', 'Trial_Judge_ridgeway paul',\n",
       "       'Trial_Judge_roberson james', 'Trial_Judge_robinson michael',\n",
       "       'Trial_Judge_roda peter', 'Trial_Judge_roemer victoria',\n",
       "       'Trial_Judge_ross thomas', 'Trial_Judge_rousseau julius',\n",
       "       'Trial_Judge_royster ted', 'Trial_Judge_royster theodore',\n",
       "       'Trial_Judge_ruled ronald', 'Trial_Judge_s james',\n",
       "       'Trial_Judge_salisbury anne', 'Trial_Judge_sasser debra',\n",
       "       'Trial_Judge_sasser douglas', 'Trial_Judge_saunders chase',\n",
       "       'Trial_Judge_scarlett beverly', 'Trial_Judge_scott ward',\n",
       "       'Trial_Judge_seaton sarah', 'Trial_Judge_seay thomas',\n",
       "       'Trial_Judge_sermons wayland', 'Trial_Judge_sharpe margaret',\n",
       "       'Trial_Judge_shirley a.', 'Trial_Judge_sitton claude',\n",
       "       'Trial_Judge_smith donald', 'Trial_Judge_smith john',\n",
       "       'Trial_Judge_smith osmond', 'Trial_Judge_smith sean',\n",
       "       'Trial_Judge_smith timothy', 'Trial_Judge_smith w.',\n",
       "       'Trial_Judge_southern william', 'Trial_Judge_spainhour w.',\n",
       "       'Trial_Judge_spencer', 'Trial_Judge_spencer cheryl',\n",
       "       'Trial_Judge_spencer james', 'Trial_Judge_spivey ronald',\n",
       "       'Trial_Judge_stanback a.', 'Trial_Judge_stanback leon',\n",
       "       'Trial_Judge_staton kimberly', 'Trial_Judge_steelman sanford',\n",
       "       'Trial_Judge_stephens donald', 'Trial_Judge_stephens ronald',\n",
       "       'Trial_Judge_stewart caron', 'Trial_Judge_stiehl robert',\n",
       "       'Trial_Judge_stone richard', 'Trial_Judge_strickland david',\n",
       "       'Trial_Judge_strickland james', 'Trial_Judge_stubbs alice',\n",
       "       'Trial_Judge_sturges cindy', 'Trial_Judge_sumner quentin',\n",
       "       'Trial_Judge_sumner robert', 'Trial_Judge_sutton david',\n",
       "       'Trial_Judge_t entering', 'Trial_Judge_tally mary',\n",
       "       'Trial_Judge_taylor kim', 'Trial_Judge_taylor kimberly',\n",
       "       'Trial_Judge_taylor susan', 'Trial_Judge_tennille ben',\n",
       "       'Trial_Judge_thalheimer ben', 'Trial_Judge_that to',\n",
       "       'Trial_Judge_thigpen cressie', 'Trial_Judge_thompson carolyn',\n",
       "       'Trial_Judge_thompson jack', 'Trial_Judge_thornburg alan',\n",
       "       'Trial_Judge_tilghman carl', 'Trial_Judge_tillery bradford',\n",
       "       'Trial_Judge_tillet jerry', 'Trial_Judge_tillett jerry',\n",
       "       'Trial_Judge_titus kenneth', 'Trial_Judge_trawick gary',\n",
       "       'Trial_Judge_trivette robert', 'Trial_Judge_trosch elizabeth',\n",
       "       'Trial_Judge_trosch louis', 'Trial_Judge_tucker kimbrell',\n",
       "       'Trial_Judge_turner joseph', 'Trial_Judge_turner r.',\n",
       "       'Trial_Judge_vosburg james', 'Trial_Judge_vosburgh james',\n",
       "       'Trial_Judge_waddell jerry', 'Trial_Judge_wagoner anna',\n",
       "       'Trial_Judge_wainwright george', 'Trial_Judge_walczyk christine',\n",
       "       'Trial_Judge_walker richard', 'Trial_Judge_walker russell',\n",
       "       'Trial_Judge_wallace tanya', 'Trial_Judge_ward j.',\n",
       "       'Trial_Judge_warren raymond', 'Trial_Judge_warren steve',\n",
       "       'Trial_Judge_watson ebern', 'Trial_Judge_webb james',\n",
       "       'Trial_Judge_weeks gregory', 'Trial_Judge_wiggins lamont',\n",
       "       'Trial_Judge_wijewickrama roy', 'Trial_Judge_wilhelm christy',\n",
       "       'Trial_Judge_willey joshua', 'Trial_Judge_williams joseph',\n",
       "       'Trial_Judge_williams karen', 'Trial_Judge_williamson f.',\n",
       "       'Trial_Judge_wilson edwin', 'Trial_Judge_winner dennis',\n",
       "       'Trial_Judge_wood william', 'Trial_Judge_you will',\n",
       "       'Trial_Judge_z albert', 'Trial_Judge_zimmerman h.', 'County_a',\n",
       "       'County_alamance', 'County_alexander', 'County_alleghany',\n",
       "       'County_and', 'County_another', 'County_anson', 'County_ashe',\n",
       "       'County_avery', 'County_beaufort', 'County_bertie',\n",
       "       'County_bladen', 'County_brunswick', 'County_buncombe',\n",
       "       'County_burke', 'County_cabarrus', 'County_caldwell',\n",
       "       'County_camden', 'County_carteret', 'County_caswell',\n",
       "       'County_catawba', 'County_chatham', 'County_cherokee',\n",
       "       'County_chowan', 'County_claiborne', 'County_cleveland',\n",
       "       'County_columbus', 'County_consolidated', 'County_craven',\n",
       "       'County_cumberland', 'County_currituck', 'County_dare',\n",
       "       'County_davidson', 'County_davie', 'County_duplin',\n",
       "       'County_durham', 'County_edgecombe', 'County_forsyth',\n",
       "       'County_four', 'County_franklin', 'County_gaston', 'County_gates',\n",
       "       'County_graham', 'County_granville', 'County_greene',\n",
       "       'County_guilford', 'County_halifax', 'County_hanover',\n",
       "       'County_harnett', 'County_haywood', 'County_henderson',\n",
       "       'County_hertford', 'County_hoke', 'County_hyde', 'County_iredell',\n",
       "       'County_jackson', 'County_johnston', 'County_jones', 'County_lee',\n",
       "       'County_lenoir', 'County_lincoln', 'County_macon',\n",
       "       'County_madison', 'County_martin', 'County_mcdowell',\n",
       "       'County_mecklenberg', 'County_mecklenburg', 'County_mitchell',\n",
       "       'County_montgomery', 'County_moore', 'County_nash',\n",
       "       'County_northampton', 'County_northhampton', 'County_onslow',\n",
       "       'County_orange', 'County_pamlico', 'County_pasquotank',\n",
       "       'County_pender', 'County_perquimans', 'County_person',\n",
       "       'County_pitt', 'County_polk', 'County_proper', 'County_randolph',\n",
       "       'County_richmond', 'County_robeson', 'County_rockingham',\n",
       "       'County_rowan', 'County_rutherford', 'County_sampson',\n",
       "       'County_scotland', 'County_stanly', 'County_stokes',\n",
       "       'County_surry', 'County_swain', 'County_the',\n",
       "       'County_transylvania', 'County_union', 'County_vance',\n",
       "       'County_wake', 'County_warren', 'County_washington',\n",
       "       'County_watauga', 'County_wayne', 'County_wilkes', 'County_wilson',\n",
       "       'County_yadkin', 'County_yancey'], dtype=object)"
      ]
     },
     "execution_count": 10,
     "metadata": {},
     "output_type": "execute_result"
    }
   ],
   "source": [
    "ohe.get_feature_names(X.columns)\n",
    "# X.columns"
   ]
  },
  {
   "cell_type": "code",
   "execution_count": 11,
   "metadata": {},
   "outputs": [
    {
     "data": {
      "text/plain": [
       "((2665, 605), (2665, 605))"
      ]
     },
     "execution_count": 11,
     "metadata": {},
     "output_type": "execute_result"
    }
   ],
   "source": [
    "X_gd.shape, X_ohe.shape"
   ]
  },
  {
   "cell_type": "code",
   "execution_count": 13,
   "metadata": {},
   "outputs": [
    {
     "data": {
      "text/plain": [
       "1    1984\n",
       "0     681\n",
       "Name: Result, dtype: int64"
      ]
     },
     "execution_count": 13,
     "metadata": {},
     "output_type": "execute_result"
    }
   ],
   "source": [
    "# View class imbalance\n",
    "y.value_counts()"
   ]
  },
  {
   "cell_type": "code",
   "execution_count": 14,
   "metadata": {},
   "outputs": [
    {
     "data": {
      "text/plain": [
       "<matplotlib.axes._subplots.AxesSubplot at 0x7fc71978e048>"
      ]
     },
     "execution_count": 14,
     "metadata": {},
     "output_type": "execute_result"
    },
    {
     "data": {
      "image/png": "[encoded data removed]",
      "text/plain": [
       "<Figure size 432x288 with 1 Axes>"
      ]
     },
     "metadata": {},
     "output_type": "display_data"
    }
   ],
   "source": [
    "#Visualize class imbalance\n",
    "y.value_counts().plot.pie(autopct=\"%.1f%%\")"
   ]
  },
  {
   "cell_type": "code",
   "execution_count": 17,
   "metadata": {},
   "outputs": [],
   "source": [
    "# USING X_ohe - SWITCH OUT IF DESIRED\n",
    "X_train_unbalanced, X_test, y_train_unbalanced, y_test = train_test_split(X_ohe,y,random_state = 42, test_size = 0.3)"
   ]
  },
  {
   "cell_type": "code",
   "execution_count": 18,
   "metadata": {},
   "outputs": [],
   "source": [
    "# sm = SMOTE(sampling_strategy='auto', k_neighbors=2, random_state=42)\n",
    "# X_train ,y_train = sm.fit_resample(X_train, y_train) \n",
    "\n",
    "indices = [i for i in range(len(X.columns))]\n",
    "smnc = SMOTENC(categorical_features=indices, random_state=42, sampling_strategy='not majority')\n",
    "X_train, y_train = smnc.fit_resample(X_train_unbalanced, y_train_unbalanced)"
   ]
  },
  {
   "cell_type": "code",
   "execution_count": 19,
   "metadata": {},
   "outputs": [
    {
     "data": {
      "image/png": "[encoded data removed]",
      "text/plain": [
       "<Figure size 432x288 with 1 Axes>"
      ]
     },
     "metadata": {},
     "output_type": "display_data"
    }
   ],
   "source": [
    "pd.Series(y_train).value_counts().plot.pie(autopct=\"%.1f%%\");"
   ]
  },
  {
   "cell_type": "code",
   "execution_count": 21,
   "metadata": {},
   "outputs": [
    {
     "data": {
      "text/plain": [
       "((2760, 605), (2760,))"
      ]
     },
     "execution_count": 21,
     "metadata": {},
     "output_type": "execute_result"
    }
   ],
   "source": [
    "X_train.shape, y_train.shape"
   ]
  },
  {
   "cell_type": "markdown",
   "metadata": {},
   "source": [
    "## Modeling\n",
    "\n",
    "Some research into the best probabilistic classification models suggests that logistic regression, SVMs, and neural networks would be the best fit for the intended goal.  I will run each on the data and see which performs best. "
   ]
  },
  {
   "cell_type": "markdown",
   "metadata": {},
   "source": [
    "### Set Baseline with Dummy Classifier"
   ]
  },
  {
   "cell_type": "code",
   "execution_count": 77,
   "metadata": {},
   "outputs": [],
   "source": [
    "def dummy_classifier(X_train, X_test, y_train, y_test):\n",
    "    dummy_clf = DummyClassifier(strategy=\"stratified\", random_state=42)\n",
    "    dummy_clf.fit(X_train, y_train)\n",
    "    y_hat = dummy_clf.predict(X_test)\n",
    "    print('Classification Report:\\n', classification_report(y_test, y_hat), '\\n',\n",
    "          plot_confusion_matrix(dummy_clf, X_test, y_test, cmap='GnBu', values_format = '.5g'), \n",
    "          plt.show())\n",
    "    return()"
   ]
  },
  {
   "cell_type": "code",
   "execution_count": 78,
   "metadata": {},
   "outputs": [
    {
     "data": {
      "image/png": "[encoded data removed]",
      "text/plain": [
       "<Figure size 432x288 with 2 Axes>"
      ]
     },
     "metadata": {
      "needs_background": "light"
     },
     "output_type": "display_data"
    },
    {
     "name": "stdout",
     "output_type": "stream",
     "text": [
      "Classification Report:\n",
      "               precision    recall  f1-score   support\n",
      "\n",
      "           0       0.24      0.50      0.32       196\n",
      "           1       0.75      0.49      0.59       604\n",
      "\n",
      "    accuracy                           0.49       800\n",
      "   macro avg       0.50      0.49      0.46       800\n",
      "weighted avg       0.63      0.49      0.53       800\n",
      " \n",
      " <sklearn.metrics._plot.confusion_matrix.ConfusionMatrixDisplay object at 0x7fc714d22780> None\n"
     ]
    },
    {
     "data": {
      "text/plain": [
       "()"
      ]
     },
     "execution_count": 78,
     "metadata": {},
     "output_type": "execute_result"
    }
   ],
   "source": [
    "dummy_classifier(X_train, X_test, y_train, y_test)"
   ]
  },
  {
   "cell_type": "markdown",
   "metadata": {},
   "source": [
    "### Logistic Regression Model"
   ]
  },
  {
   "cell_type": "code",
   "execution_count": 25,
   "metadata": {},
   "outputs": [],
   "source": [
    "def auc_chart(fpr,tpr):\n",
    "    sns.set_style('darkgrid', {'axes.facecolor': '0.9'})\n",
    "    # Plot the ROC curve\n",
    "    plt.figure(figsize=(10, 8))\n",
    "    lw = 2\n",
    "    plt.plot(fpr, tpr, color='darkorange',lw=lw, label='ROC curve')\n",
    "    plt.plot([0, 1], [0, 1], color='navy', lw=lw, linestyle='--')\n",
    "    plt.xlim([0.0, 1.0])\n",
    "    plt.ylim([0.0, 1.05])\n",
    "    plt.yticks([i/20.0 for i in range(21)])\n",
    "    plt.xticks([i/20.0 for i in range(21)])\n",
    "    plt.xlabel('False Positive Rate')\n",
    "    plt.ylabel('True Positive Rate')\n",
    "    plt.title('Receiver operating characteristic (ROC) Curve')\n",
    "    plt.legend(loc='lower right')\n",
    "    plt.show()"
   ]
  },
  {
   "cell_type": "code",
   "execution_count": 71,
   "metadata": {},
   "outputs": [],
   "source": [
    "def logreg_fn(X_train, X_test, y_train, y_test, params):\n",
    "    logreg_clf = LogisticRegression(random_state=12)\n",
    "    logreg_gs = GridSearchCV(logreg_clf, params, cv=5)\n",
    "    logreg_gs.fit(X_train, y_train)\n",
    "    best = logreg_gs.best_params_\n",
    "    logreg_final = LogisticRegression(solver=best['solver'],\n",
    "                                      penalty=best['penalty'],\n",
    "                                      C=best['C'], \n",
    "                                      random_state=12)\n",
    "    logreg_final.fit(X_train, y_train)\n",
    "    y_hat = logreg_final.predict(X_test)\n",
    "    print('Best params:',best,\n",
    "          '\\n\\nClassification Report:\\n', classification_report(y_test, y_hat), '\\n',\n",
    "          plot_confusion_matrix(logreg_final, X_test, y_test, cmap='GnBu', values_format = '.5g'), \n",
    "          plt.show())\n",
    "    return()"
   ]
  },
  {
   "cell_type": "code",
   "execution_count": 72,
   "metadata": {},
   "outputs": [
    {
     "data": {
      "image/png": "[encoded data removed]",
      "text/plain": [
       "<Figure size 432x288 with 2 Axes>"
      ]
     },
     "metadata": {
      "needs_background": "light"
     },
     "output_type": "display_data"
    },
    {
     "name": "stdout",
     "output_type": "stream",
     "text": [
      "Best params: {'C': 500, 'penalty': 'none', 'solver': 'lbfgs'} \n",
      "\n",
      "Classification Report:\n",
      "               precision    recall  f1-score   support\n",
      "\n",
      "           0       0.28      0.35      0.31       196\n",
      "           1       0.77      0.71      0.74       604\n",
      "\n",
      "    accuracy                           0.62       800\n",
      "   macro avg       0.53      0.53      0.53       800\n",
      "weighted avg       0.65      0.62      0.64       800\n",
      " \n",
      " <sklearn.metrics._plot.confusion_matrix.ConfusionMatrixDisplay object at 0x7fc714a2b710> None\n"
     ]
    },
    {
     "data": {
      "text/plain": [
       "()"
      ]
     },
     "execution_count": 72,
     "metadata": {},
     "output_type": "execute_result"
    }
   ],
   "source": [
    "parameters = {'C':[500,100,10], \n",
    "              'penalty':['l1', 'l2', 'elasticnet', 'none'],\n",
    "              'solver':['liblinear', 'newton-cg', 'lbfgs', 'sag', 'saga']}\n",
    "\n",
    "logreg_fn(X_train, X_test, y_train, y_test, parameters)"
   ]
  },
  {
   "cell_type": "markdown",
   "metadata": {},
   "source": [
    "**Dropped Year_Filed: there's no reason this should be an input, resulted in better performance time-wise, but AUC still is dismal:**<br>\n",
    "Best params: {'C': 100, 'penalty': 'none', 'solver': 'lbfgs'} <br>\n",
    " Accuracy Score - Test:  0.6225 <br>\n",
    " Confusion Matrix: <br>\n",
    " [[ 59 134]<br>\n",
    " [168 439]] <br>\n",
    " AUC:  0.5017882903261602\n",
    " <br>**Predicted on Trial_Judge and Case_Type:**<br>\n",
    " Best params: {'C': 100, 'penalty': 'l1', 'solver': 'liblinear'} <br>\n",
    " Accuracy Score - Test:  0.62375 <br>\n",
    " Confusion Matrix:<br>\n",
    " [[ 54 139]<br>\n",
    " [162 445]] <br>\n",
    " AUC:  0.5018565782622427<br>\n",
    " **Predicting on Case_Type Only:**<br>\n",
    " Best params: {'C': 1, 'penalty': 'l1', 'solver': 'liblinear'} <br>\n",
    " Accuracy Score - Test:  0.57375 <br>\n",
    " Confusion Matrix:<br>\n",
    " [[ 74 119]<br>\n",
    " [222 385]] <br>\n",
    " AUC:  0.5219631074425314<br>\n",
    " **Predicting on Trial_Judge Only:**<br>\n",
    " Best params: {'C': 10, 'penalty': 'l2', 'solver': 'saga'}  <br>\n",
    " Accuracy Score - Test:  0.56375  <br>\n",
    " Confusion Matrix: <br>\n",
    " [[ 65 128] <br>\n",
    " [221 386]]  <br>\n",
    " AUC:  0.5068586695802852 <br>"
   ]
  },
  {
   "cell_type": "markdown",
   "metadata": {},
   "source": [
    "### Neural Network"
   ]
  },
  {
   "cell_type": "code",
   "execution_count": null,
   "metadata": {},
   "outputs": [],
   "source": [
    "from numpy import loadtxt\n",
    "from keras.models import Sequential\n",
    "from keras.layers import Dense, Dropout\n",
    "import keras_metrics as km"
   ]
  },
  {
   "cell_type": "code",
   "execution_count": null,
   "metadata": {},
   "outputs": [],
   "source": [
    "model = Sequential()\n",
    "model.add(Dense(16, input_dim=605, activation='relu'))\n",
    "model.add(Dense(8, activation='relu'))\n",
    "model.add(Dropout(0.5))\n",
    "model.add(Dense(1, activation='sigmoid'))"
   ]
  },
  {
   "cell_type": "code",
   "execution_count": null,
   "metadata": {},
   "outputs": [],
   "source": [
    "recall = km.binary_recall(label=0)\n",
    "model.compile(loss='binary_crossentropy', optimizer='adam', metrics=['accuracy', recall])"
   ]
  },
  {
   "cell_type": "code",
   "execution_count": null,
   "metadata": {
    "scrolled": true
   },
   "outputs": [],
   "source": [
    "history = model.fit(X_train, y_train, epochs=100, validation_split=0.2, batch_size=10)"
   ]
  },
  {
   "cell_type": "code",
   "execution_count": null,
   "metadata": {},
   "outputs": [],
   "source": [
    "results = model.evaluate(X_test, y_test, batch_size=10)\n",
    "print('Loss: ', (results[0]),\n",
    "      '\\nAccuracy: ',(results[1]),\n",
    "      '\\nRecall: ',(results[2]))"
   ]
  },
  {
   "cell_type": "code",
   "execution_count": null,
   "metadata": {},
   "outputs": [],
   "source": [
    "print(history.history.keys())\n",
    "#  \"Accuracy\"\n",
    "plt.figure(figsize=(10,5))\n",
    "plt.plot(history.history['acc'])\n",
    "plt.plot(history.history['val_acc'])\n",
    "plt.title('Model Accuracy')\n",
    "plt.ylabel('accuracy')\n",
    "plt.xlabel('epoch')\n",
    "plt.legend(['train', 'validation'], loc='middle right')\n",
    "plt.show()\n",
    "# \"Loss\"\n",
    "plt.figure(figsize=(10,5))\n",
    "plt.plot(history.history['loss'])\n",
    "plt.plot(history.history['val_loss'])\n",
    "plt.title('Model Loss')\n",
    "plt.ylabel('loss')\n",
    "plt.xlabel('epoch')\n",
    "plt.legend(['train', 'validation'], loc='middle right')\n",
    "plt.show()"
   ]
  },
  {
   "attachments": {
    "image.png": {
     "image/png": "[encoded data removed]"
    }
   },
   "cell_type": "markdown",
   "metadata": {},
   "source": [
    "**Results on Test Set**\n",
    "\n",
    "3 Dense Layers (16/8/1), 100 epochs, 0.2 validation split, batch size 10 <br>\n",
    "Loss:  2.7501846364699305 <br>\n",
    "Accuracy:  0.6687500029802322 <br>\n",
    "Recall:  0.8162251654277773<br>\n",
    "On the loss plot, the loss on the training data remains fairly constant, while the validation loss increases, indicating overfitting.  <br>\n",
    "\n",
    "![image.png](attachment:image.png)\n",
    "\n",
    "\n",
    "3 Dense Layers (16/8/1) with dropout(0.2), 100 epochs, 0.2 validation split, batch size 10 <br>\n",
    "\n",
    "\n",
    "\n",
    "4 Dense Layers (2x relu) w/ Dropout(0.2) between them, 100 epochs, 0.2 validation split, batch size 10 <br>\n",
    "Loss:  3.197598608955741 <br>\n",
    "Accuracy:  0.6425000064074993 <br>\n",
    "Recall:  0.754966887292224 <br>\n",
    "\n",
    "3 Dense Layers (1x relu) w/ Dropout(0.2) before relu, 100 epochs, 0.2 validation split, batch size 10 <br>\n",
    "Loss:  2.27144902292639 <br>\n",
    "Accuracy:  0.6812500004656613 <br>\n",
    "Recall:  0.8278145693993685<br>\n"
   ]
  },
  {
   "cell_type": "code",
   "execution_count": null,
   "metadata": {},
   "outputs": [],
   "source": [
    "model.predict(X_test).round(3)"
   ]
  },
  {
   "cell_type": "code",
   "execution_count": null,
   "metadata": {},
   "outputs": [],
   "source": [
    "j=model.predict_proba(X_test).round(3)"
   ]
  },
  {
   "cell_type": "code",
   "execution_count": null,
   "metadata": {},
   "outputs": [],
   "source": [
    "import seaborn as sns\n",
    "sns.distplot(j)"
   ]
  },
  {
   "cell_type": "markdown",
   "metadata": {},
   "source": [
    "\n",
    "\n",
    "\n",
    "\n",
    "\n",
    "# create pipeline\n",
    "# create dashboard"
   ]
  },
  {
   "cell_type": "code",
   "execution_count": null,
   "metadata": {},
   "outputs": [],
   "source": []
  },
  {
   "cell_type": "code",
   "execution_count": null,
   "metadata": {},
   "outputs": [],
   "source": []
  },
  {
   "cell_type": "code",
   "execution_count": null,
   "metadata": {},
   "outputs": [],
   "source": []
  },
  {
   "cell_type": "code",
   "execution_count": null,
   "metadata": {},
   "outputs": [],
   "source": []
  },
  {
   "cell_type": "code",
   "execution_count": null,
   "metadata": {},
   "outputs": [],
   "source": []
  }
 ],
 "metadata": {
  "kernelspec": {
   "display_name": "Python 3",
   "language": "python",
   "name": "python3"
  },
  "language_info": {
   "codemirror_mode": {
    "name": "ipython",
    "version": 3
   },
   "file_extension": ".py",
   "mimetype": "text/x-python",
   "name": "python",
   "nbconvert_exporter": "python",
   "pygments_lexer": "ipython3",
   "version": "3.6.9"
  }
 },
 "nbformat": 4,
 "nbformat_minor": 2
}
