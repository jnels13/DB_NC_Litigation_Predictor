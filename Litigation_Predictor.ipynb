{
 "cells": [
  {
   "cell_type": "markdown",
   "metadata": {},
   "source": [
    "## Label and Add Feature Set to DataFrame of Opinions"
   ]
  },
  {
   "cell_type": "code",
   "execution_count": 2,
   "metadata": {},
   "outputs": [],
   "source": [
    "import io\n",
    "import pandas as pd\n",
    "import pickle"
   ]
  },
  {
   "cell_type": "code",
   "execution_count": 5,
   "metadata": {},
   "outputs": [],
   "source": [
    "# Open the dataframe\n",
    "infile = open('df_clean.data', 'rb')\n",
    "df = pickle.load(infile)\n",
    "infile.close()"
   ]
  },
  {
   "cell_type": "code",
   "execution_count": 6,
   "metadata": {},
   "outputs": [
    {
     "data": {
      "text/html": [
       "<div>\n",
       "<style scoped>\n",
       "    .dataframe tbody tr th:only-of-type {\n",
       "        vertical-align: middle;\n",
       "    }\n",
       "\n",
       "    .dataframe tbody tr th {\n",
       "        vertical-align: top;\n",
       "    }\n",
       "\n",
       "    .dataframe thead th {\n",
       "        text-align: right;\n",
       "    }\n",
       "</style>\n",
       "<table border=\"1\" class=\"dataframe\">\n",
       "  <thead>\n",
       "    <tr style=\"text-align: right;\">\n",
       "      <th></th>\n",
       "      <th>Opinion</th>\n",
       "    </tr>\n",
       "  </thead>\n",
       "  <tbody>\n",
       "    <tr>\n",
       "      <td>count</td>\n",
       "      <td>3922</td>\n",
       "    </tr>\n",
       "    <tr>\n",
       "      <td>unique</td>\n",
       "      <td>3922</td>\n",
       "    </tr>\n",
       "    <tr>\n",
       "      <td>top</td>\n",
       "      <td>p an unpublished opinion of the north carolina...</td>\n",
       "    </tr>\n",
       "    <tr>\n",
       "      <td>freq</td>\n",
       "      <td>1</td>\n",
       "    </tr>\n",
       "  </tbody>\n",
       "</table>\n",
       "</div>"
      ],
      "text/plain": [
       "                                                  Opinion\n",
       "count                                                3922\n",
       "unique                                               3922\n",
       "top     p an unpublished opinion of the north carolina...\n",
       "freq                                                    1"
      ]
     },
     "execution_count": 6,
     "metadata": {},
     "output_type": "execute_result"
    }
   ],
   "source": [
    "df.describe()"
   ]
  },
  {
   "cell_type": "code",
   "execution_count": 7,
   "metadata": {},
   "outputs": [
    {
     "name": "stdout",
     "output_type": "stream",
     "text": [
      "<class 'pandas.core.frame.DataFrame'>\n",
      "Int64Index: 3922 entries, 0 to 3949\n",
      "Data columns (total 1 columns):\n",
      "Opinion    3922 non-null object\n",
      "dtypes: object(1)\n",
      "memory usage: 61.3+ KB\n"
     ]
    }
   ],
   "source": [
    "df.info()"
   ]
  },
  {
   "cell_type": "code",
   "execution_count": 21,
   "metadata": {},
   "outputs": [
    {
     "data": {
      "text/plain": [
       "'an unpublished opinion of the north carolina court of appeals does not constitute controlling legal authority. citation is disfavored, but may be permitted in accordance with the provisions of rule 30(e)(3) of the north carolina rules of appellate procedure. no. coa02-1669 north carolina court of appeals filed: 4 november 2003 douglas james swinton, ancillary administrator of the estate of ryan a. swinton, douglas james swinton, individually, and carol ann swinton, individually, plaintiffs, v. la fogata corporation, defendant. dare county no. 01-cvs-452 appeal by plaintiffs from order entered 30 september 2002 by judge william c. griffin, jr., in dare county superior court. heard in the court of appeals 15 september 2003. aycock & butler, pllc, by betsy butler; and aldridge, seawell, spence & felthousen, by w. mark spence, for plaintiff appellants. stephenson & stephenson, llp, by james b. stephenson ii, and dena white waters, for defendant appellee. mccullough, judge. plaintiffs appeal the trial court’s order granting defendant’s motion for summary judgment entered 30 september 2002 finding that there was no genuine issue of material fact and that defendant was entitled to judgment as a matter of law. defendant la fogata corporation is the owner and operator of a restaurant called “la fogatas” which is located in kitty hawk, -2- north carolina. on the night of 12 august 1999, about ten employees from ocean atlantic rentals attended a party at la fogatas. the party began around 7:30 p.m. twenty-year-old ryan swinton was one of the employees who attended the party. he arrived alone around 10:00 p.m. according to plaintiffs’ evidence, swinton ordered and consumed alcoholic drinks, even though he was underage. when the party ended around 11:25 p.m., swinton began to drive home. approximately twenty minutes into the trip, swinton lost control of his vehicle and collided with another vehicle. swinton died as a result of injuries sustained in the crash. at the time of the accident, swinton had a blood alcohol level of between .13 and .15. plaintiffs filed this action in august of 2001 alleging wrongful death and negligence. however, the trial court granted defendant’s motion for summary judgment on 30 september 2002. plaintiffs appealed. on appeal, plaintiffs argue that the trial court committed reversible error by granting summary judgment for defendant because: (i) the ancillary administrator plaintiff has stated a common law negligence per se action; (ii) decedent’s voluntary intoxication should not be a bar to recovery under the wrongful death statute; (iii) decedent’s parents, in their individual capacities, can maintain a common law negligence action against defendant; and (iv) defendant had the last clear chance to avoid damages. we are not persuaded by plaintiffs’ arguments. -3- the standard of review on appeal from a summary judgment ruling is whether the pleadings, depositions, answers to interrogatories, and admissions on file, together with affidavits, show that there is no genuine issue as to any material fact and a party is entitled to judgment as a matter of law. moore v. coachmen industries, inc., 129 n.c. app. 389, 393-94, 499 s.e.2d 772, 775 (1998); see also n.c. gen. stat. § 1a-1, rule 56(c) (2001). i. negligence per se defendant first contends that it has stated a claim under common law negligence per se principles. under n.c. gen. stat. § 18b-302(a)(1)-(2) (2001), it is a misdemeanor to sell or give alcoholic beverages to anyone under the age of twenty-one. however, we have previously held that a violation of this statute is not negligence per se because the statute is not a public safety statute which imposes a duty for the protection of the public. hart v. ivey, 332 n.c. 299, 303-04, 420 s.e.2d 174, 177 (1992). since defendant’s sale of alcohol to a minor is not negligence per se, this assignment of error is overruled. ii. wrongful death statute plaintiffs also claim that they should recover under north carolina’s wrongful death statute which provides: when the death of a person is caused by a wrongful act, neglect or default of another, such as would, if the injured person had lived, have entitled him to an action for damages therefor, the person or corporation that would have been so liable, and his or their personal representatives or collectors, -4- shall be liable to an action for damages, to be brought by the personal representative or collector of the decedent[.] n.c. gen. stat. § 28a-18-2(a) (2001). in determining whether a wrongful death suit may be maintained, we must ask “whether the deceased had he lived would have had a claim against defendant for injuries inflicted.” carver v. carver, 310 n.c. 669, 673, 314 s.e.2d 739, 742 (1984). in north carolina, a plaintiff’s contributory negligence is a bar to recovery from a defendant who commits an ordinary act of negligence. adams v. board of education, 248 n.c. 506, 511, 103 s.e.2d 854, 857-58 (1958). operating a vehicle while intoxicated is negligence per se. baker v. mauldin, 82 n.c. app. 404, 406, 346 s.e.2d 240, 241 (1986). in this case, the forecast of evidence reveals that the decedent ordered and consumed a number of alcoholic beverages. the evidence also indicates that the decedent voluntarily drove his vehicle in spite of being intoxicated. therefore, the decedent’s contributory negligence would bar plaintiff’s recovery if defendant was merely negligent. however, plaintiffs argue that even if the decedent was contributorily negligent, this does not prohibit recovery because defendant’s conduct was gross negligence or willful and wanton conduct. in particular, plaintiffs contend that defendant was grossly negligent in serving a twenty year old so much alcohol in such a short period of time. contributory negligence is no defense to willful and wanton injury. coleman v. hines, 133 n.c. app. 147, 150, 515 s.e.2d 57, -5- 59-60, disc. review denied, 350 n.c. 826, 539 s.e.2d 281 (1999). however, a number of decisions have also held that a plaintiff’s claim is barred when decedent’s own actions rise to the same level of negligence as the defendant. see id. at 150-52, 515 s.e.2d at 59-60; coble v. knight, 130 n.c. app. 652, 656-57, 503 s.e.2d 703, 706 (1998); canady v. mcleod, 116 n.c. app. 82, 87, 446 s.e.2d 879, 882, disc. review denied, 338 n.c. 308, 451 s.e.2d 632 (1994); meachum v. faw, 112 n.c. app. 489, 494-95, 436 s.e.2d 141, 144-45, (1993); and sorrells v. m.y.b. hospitality ventures of asheville, 332 n.c. 645, 648, 423 s.e.2d 72, 74 (1992). in the present case, even if defendant’s serving alcohol to a minor rose to the level of willful or wanton negligence, the decedent’s own negligence in voluntarily drinking and driving rose to that same level. therefore, plaintiffs’ claim is barred in this case. iii. negligence plaintiffs argue that as the parents of the decedent, they can maintain a common law negligence action against defendant. “actionable negligence is the failure to exercise that degree of care which a reasonable and prudent person would exercise under similar conditions.” hart, 332 n.c. at 305, 420 s.e.2d at 177-78. this court has also held that social hosts can be liable for common law negligence. id. at 305-06, 420 s.e.2d at 177-78. to prove the claim, a plaintiff must show that a social host “(1) served alcohol to a person (2) when he knew or should have known the person was intoxicated and (3) when he knew the person would be driving -6- afterwards.” camalier v. jeffries, 340 n.c. 699, 711, 460 s.e.2d 133, 138 (1995). the forecast of evidence shows that the first element of social host liability was met. the affidavits of cyrus shahan and pat lewis reveal that the decedent was served alcoholic beverages by agents or employees of defendant. however, nothing in the record indicates that defendant knew or should have known that the decedent was intoxicated. significantly, plaintiffs failed to forecast any evidence that anyone at the restaurant believed that the decedent was intoxicated. in addition, the manager on duty that night, tony fernandez, came to the opposite conclusion. fernandez stated that he was positioned near the front door and watched customers as they entered and left. he also explained that when the group of ocean atlantic rentals employees left the restaurant, none of them appeared to be impaired. we conclude that plaintiffs failed to meet their burden on the second element. plaintiffs also failed to establish the third and final element. nothing in the record shows that defendant knew that the decedent would be driving that night. the decedent was socializing with a group of at least ten people at the restaurant. indeed, any member or members of the group could have been driving. conversely, it is possible that the patrons intended to take a taxi, walk, or seek some other means of transportation to get home. in short, nothing put defendant on notice that ryan swinton was intoxicated and would be driving afterwards. because plaintiffs -7- failed to forecast evidence on two elements of their claim, we conclude that the trial court properly granted summary judgment for defendant. iv. last clear chance doctrine plaintiffs claim that the doctrine of last clear chance would operate to preserve their claim. to show last clear chance, a plaintiff must allege and prove that: “(1) [p]laintiff, by [his] own negligence, placed [himself] in a position of peril from which [he] could not escape; (2) defendant saw, or by the exercise of reasonable care should have seen and understood, the perilous position of plaintiff; (3) defendant had the time and the means to avoid the accident if defendant had seen or discovered plaintiff’s perilous position; (4) . . . defendant failed or refused to use every reasonable means at his command to avoid impending injury to plaintiff; and (5) plaintiff was injured as a result of defendant’s failure or refusal to avoid impending injury.” coleman, 133 n.c. app. at 152, 515 s.e.2d at 61 (quoting williams v. lee brick and tile, 88 n.c. app. 725, 728, 364 s.e.2d 720, 721 (1988)). we find that the last clear chance doctrine is not applicable in this case. plaintiffs presented no allegations that the decedent placed himself in a position of peril from which he could not escape. no one forced the decedent to drive drunk. in fact, a number of the decedent’s coworkers and friends car-pooled back to the decedent’s destination. the decedent easily could have ridden with them. furthermore, the decedent had the opportunity to extract himself from the dangerous situation of driving drunk. he could -8- have stopped the car at any point during the twenty minutes he traveled before the accident. accordingly, we reject this assignment of error. we have considered plaintiffs’ other arguments and find them to be without merit. the forecast of evidence shows that there is no genuine issue as to any material fact, and defendant is entitled to judgment as a matter of law. therefore, the trial court’s order granting summary judgment for defendant is affirmed. chief judge eagles and judge steelman concur. report per rule 30(e). '"
      ]
     },
     "execution_count": 21,
     "metadata": {},
     "output_type": "execute_result"
    }
   ],
   "source": [
    "df.Opinion[3500]"
   ]
  },
  {
   "cell_type": "code",
   "execution_count": null,
   "metadata": {},
   "outputs": [],
   "source": []
  },
  {
   "cell_type": "markdown",
   "metadata": {},
   "source": [
    "# create tagging and feature set \n",
    "# create models \n",
    "# create pipeline\n",
    "# create dashboard\n",
    "\n",
    "\n",
    "There are many great paid proxy providers like Smartproxy, Netnut, Highproxies, etc. that can be used when scraping and at least you will know that you will get high-quality services that are safe to use with lots of features and big pools of IPs that you can use."
   ]
  },
  {
   "cell_type": "code",
   "execution_count": null,
   "metadata": {},
   "outputs": [],
   "source": [
    "# Open the dataframe\n",
    "(fix the name)\n",
    "# infile = open('pdf_addresses.data','rb')\n",
    "# pdf_addresses = pickle.load(infile)\n",
    "# infile.close()"
   ]
  },
  {
   "cell_type": "code",
   "execution_count": null,
   "metadata": {},
   "outputs": [],
   "source": []
  },
  {
   "cell_type": "code",
   "execution_count": null,
   "metadata": {},
   "outputs": [],
   "source": []
  },
  {
   "cell_type": "code",
   "execution_count": null,
   "metadata": {},
   "outputs": [],
   "source": []
  },
  {
   "cell_type": "code",
   "execution_count": null,
   "metadata": {},
   "outputs": [],
   "source": []
  },
  {
   "cell_type": "code",
   "execution_count": null,
   "metadata": {},
   "outputs": [],
   "source": []
  }
 ],
 "metadata": {
  "kernelspec": {
   "display_name": "Python 3",
   "language": "python",
   "name": "python3"
  },
  "language_info": {
   "codemirror_mode": {
    "name": "ipython",
    "version": 3
   },
   "file_extension": ".py",
   "mimetype": "text/x-python",
   "name": "python",
   "nbconvert_exporter": "python",
   "pygments_lexer": "ipython3",
   "version": "3.6.9"
  }
 },
 "nbformat": 4,
 "nbformat_minor": 2
}
