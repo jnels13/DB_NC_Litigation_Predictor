{
 "cells": [
  {
   "cell_type": "markdown",
   "metadata": {},
   "source": [
    "# North Carolina Litigation Predictor\n",
    "# Final Preprocessing and Modeling<br><br>\n",
    "# ADDRESS CLASS IMBALANCE - MIGHT BE CAUSE OF SHITTY AUC\n",
    "# TRY USING SMOTE_NC FOR CLASS IMBALANCE\n",
    "\n",
    "\n",
    "### Contents:\n",
    "<ul>\n",
    "    <li> Import Libraries\n",
    "    <li> Final Preprocessing / One-Hot Encoding\n",
    "    <li> Model Creation\n",
    "        \n"
   ]
  },
  {
   "cell_type": "markdown",
   "metadata": {},
   "source": [
    "## Import Libraries & Data"
   ]
  },
  {
   "cell_type": "code",
   "execution_count": 92,
   "metadata": {},
   "outputs": [],
   "source": [
    "import io\n",
    "import pandas as pd\n",
    "import pickle\n",
    "\n",
    "from imblearn.over_sampling import SMOTE#, SMOTE_NC\n",
    "from sklearn.preprocessing import OneHotEncoder\n",
    "from sklearn.model_selection import train_test_split, GridSearchCV\n",
    "from sklearn import model_selection, naive_bayes, svm\n",
    "from sklearn.linear_model import LogisticRegression \n",
    "from sklearn.metrics import accuracy_score, classification_report, confusion_matrix, f1_score, roc_curve, auc\n",
    "\n",
    "import seaborn as sns\n",
    "import matplotlib.pyplot as plt\n",
    "%matplotlib inline\n",
    "import warnings\n",
    "warnings.filterwarnings(\"ignore\")"
   ]
  },
  {
   "cell_type": "code",
   "execution_count": 93,
   "metadata": {},
   "outputs": [],
   "source": [
    "# Open the dataframe\n",
    "infile = open('ProjectData/df_features.data', 'rb')\n",
    "df = pickle.load(infile)\n",
    "infile.close()"
   ]
  },
  {
   "cell_type": "markdown",
   "metadata": {},
   "source": [
    "### Review and Clean DataFrame of Unneeded Columns"
   ]
  },
  {
   "cell_type": "code",
   "execution_count": 94,
   "metadata": {},
   "outputs": [
    {
     "name": "stdout",
     "output_type": "stream",
     "text": [
      "<class 'pandas.core.frame.DataFrame'>\n",
      "RangeIndex: 2664 entries, 0 to 2663\n",
      "Data columns (total 9 columns):\n",
      "Opinion                 2664 non-null object\n",
      "SCT                     2664 non-null int64\n",
      "Year_Filed              2664 non-null int64\n",
      "File_Numbers            2664 non-null object\n",
      "Result                  2664 non-null int64\n",
      "Case_Type               2664 non-null object\n",
      "Case_Type_Confidence    2664 non-null object\n",
      "Trial_Judge             2664 non-null object\n",
      "County                  2664 non-null object\n",
      "dtypes: int64(3), object(6)\n",
      "memory usage: 187.4+ KB\n"
     ]
    }
   ],
   "source": [
    "df.info()"
   ]
  },
  {
   "cell_type": "code",
   "execution_count": 95,
   "metadata": {},
   "outputs": [],
   "source": [
    "df.drop(['Opinion', 'SCT', 'File_Numbers', 'Case_Type_Confidence', 'Year_Filed', 'County', 'Case_Type'], axis=1, inplace=True)"
   ]
  },
  {
   "cell_type": "code",
   "execution_count": 96,
   "metadata": {},
   "outputs": [
    {
     "name": "stdout",
     "output_type": "stream",
     "text": [
      "<class 'pandas.core.frame.DataFrame'>\n",
      "RangeIndex: 2664 entries, 0 to 2663\n",
      "Data columns (total 2 columns):\n",
      "Result         2664 non-null int64\n",
      "Trial_Judge    2664 non-null object\n",
      "dtypes: int64(1), object(1)\n",
      "memory usage: 41.8+ KB\n"
     ]
    }
   ],
   "source": [
    "df.info()"
   ]
  },
  {
   "cell_type": "code",
   "execution_count": 97,
   "metadata": {},
   "outputs": [
    {
     "data": {
      "text/plain": [
       "Result         False\n",
       "Trial_Judge    False\n",
       "dtype: bool"
      ]
     },
     "execution_count": 97,
     "metadata": {},
     "output_type": "execute_result"
    }
   ],
   "source": [
    "df.isna().any()"
   ]
  },
  {
   "cell_type": "code",
   "execution_count": 98,
   "metadata": {},
   "outputs": [
    {
     "data": {
      "text/plain": [
       "(2664, 2)"
      ]
     },
     "execution_count": 98,
     "metadata": {},
     "output_type": "execute_result"
    }
   ],
   "source": [
    "df.shape"
   ]
  },
  {
   "cell_type": "markdown",
   "metadata": {},
   "source": [
    "### One-Hot Encoding and Train/Test Split"
   ]
  },
  {
   "cell_type": "code",
   "execution_count": 99,
   "metadata": {},
   "outputs": [],
   "source": [
    "y = df.Result\n",
    "X = df.drop(columns = ['Result'])"
   ]
  },
  {
   "cell_type": "code",
   "execution_count": 100,
   "metadata": {},
   "outputs": [],
   "source": [
    "# Either/Or of the following two:\n",
    "X_gd = pd.get_dummies(X)\n",
    "ohe = OneHotEncoder(handle_unknown='ignore')\n",
    "X_ohe = ohe.fit_transform(X)"
   ]
  },
  {
   "cell_type": "code",
   "execution_count": 101,
   "metadata": {},
   "outputs": [
    {
     "data": {
      "text/plain": [
       "array([\"Trial_Judge_['abernathy', 'g.']\",\n",
       "       \"Trial_Judge_['abernethy', 'richard ']\",\n",
       "       \"Trial_Judge_['abernethy', 'richard']\",\n",
       "       \"Trial_Judge_['adams', 'gale ']\", \"Trial_Judge_['adams', 'gale']\",\n",
       "       \"Trial_Judge_['adkins', 'karl']\", \"Trial_Judge_['albright', 'r.']\",\n",
       "       \"Trial_Judge_['albright', 'robert ']\",\n",
       "       \"Trial_Judge_['albright', 'stuart']\",\n",
       "       \"Trial_Judge_['albright', 'w.']\", \"Trial_Judge_['albright']\",\n",
       "       \"Trial_Judge_['aldridge', 'thomas ']\",\n",
       "       \"Trial_Judge_['alexander', 'karen ']\",\n",
       "       \"Trial_Judge_['alford', 'benjamin ']\",\n",
       "       \"Trial_Judge_['alford', 'benjamin']\",\n",
       "       \"Trial_Judge_['allen', 'j.']\", \"Trial_Judge_['allen', 'philip ']\",\n",
       "       \"Trial_Judge_['allen', 'stanley ']\", \"Trial_Judge_['allen', 'w.']\",\n",
       "       \"Trial_Judge_['allsbrook', 'richard ']\",\n",
       "       \"Trial_Judge_['ammons', 'james ']\",\n",
       "       \"Trial_Judge_['anderson', 'charles']\",\n",
       "       \"Trial_Judge_['arguments', 'panel']\",\n",
       "       \"Trial_Judge_['baddour', 'allen']\",\n",
       "       \"Trial_Judge_['baddour', 'r.']\",\n",
       "       \"Trial_Judge_['baddour', 'richard ']\",\n",
       "       \"Trial_Judge_['baker', 'james ']\",\n",
       "       \"Trial_Judge_['balog', 'steve ']\",\n",
       "       \"Trial_Judge_['balog', 'steve']\",\n",
       "       \"Trial_Judge_['balog', 'steven ']\", \"Trial_Judge_['banks', 'j.']\",\n",
       "       \"Trial_Judge_['barber', 'wade']\",\n",
       "       \"Trial_Judge_['barefoot', 'napoleon']\",\n",
       "       \"Trial_Judge_['barnette', 'henry ']\",\n",
       "       \"Trial_Judge_['barrett', 'sharon ']\",\n",
       "       \"Trial_Judge_['battle', 'f.']\",\n",
       "       \"Trial_Judge_['bawtinhimer', 'stacey']\",\n",
       "       \"Trial_Judge_['beal', 'beverly ']\", \"Trial_Judge_['beal']\",\n",
       "       \"Trial_Judge_['beale', 'michael ']\",\n",
       "       \"Trial_Judge_['beaman', 'grafton ']\", \"Trial_Judge_['bean', 'c.']\",\n",
       "       \"Trial_Judge_['bedsworth', 'george ']\",\n",
       "       \"Trial_Judge_['bedsworth', 'george']\",\n",
       "       \"Trial_Judge_['bell', 'j.']\", \"Trial_Judge_['bell', 'james ']\",\n",
       "       \"Trial_Judge_['bell', 'lisa ']\", \"Trial_Judge_['bell', 'lisa']\",\n",
       "       \"Trial_Judge_['bell', 'w.']\", \"Trial_Judge_['best', 'kimberly']\",\n",
       "       \"Trial_Judge_['blackmore', 'rebecca ']\",\n",
       "       \"Trial_Judge_['blake', 'aretha ']\",\n",
       "       \"Trial_Judge_['bland', 'william ']\",\n",
       "       \"Trial_Judge_['bledsoe', 'louis ']\",\n",
       "       \"Trial_Judge_['blick', 'joseph']\",\n",
       "       \"Trial_Judge_['blount', 'marvin ']\",\n",
       "       \"Trial_Judge_['bogle', 'ronald ']\",\n",
       "       \"Trial_Judge_['boner', 'richard ']\",\n",
       "       \"Trial_Judge_['boner', 'richard']\",\n",
       "       \"Trial_Judge_['bowen', 'wiley ']\",\n",
       "       \"Trial_Judge_['bowen', 'wiley']\",\n",
       "       \"Trial_Judge_['bowers', 'john ']\",\n",
       "       \"Trial_Judge_['brady', 'robert ']\",\n",
       "       \"Trial_Judge_['bragg', 'christopher ']\",\n",
       "       \"Trial_Judge_['brannon', 'anthony ']\",\n",
       "       \"Trial_Judge_['brantley', 'david ']\",\n",
       "       \"Trial_Judge_['braswell', 'b.']\", \"Trial_Judge_['bray', 'susan ']\",\n",
       "       \"Trial_Judge_['bray', 'susan']\", \"Trial_Judge_['brewer', 'coy ']\",\n",
       "       \"Trial_Judge_['bridges', 'donald ']\",\n",
       "       \"Trial_Judge_['bridges', 'f.']\",\n",
       "       \"Trial_Judge_['bridges', 'forrest ']\",\n",
       "       \"Trial_Judge_['bridges', 'forrest']\",\n",
       "       \"Trial_Judge_['bridges', 'kevin ']\",\n",
       "       \"Trial_Judge_['bridges', 'kevin']\",\n",
       "       \"Trial_Judge_['bridges', 'laura ']\",\n",
       "       \"Trial_Judge_['bridges', 'laura']\",\n",
       "       \"Trial_Judge_['brooks', 'selina']\",\n",
       "       \"Trial_Judge_['brooks', 'william ']\",\n",
       "       \"Trial_Judge_['brown', 'anthony ']\",\n",
       "       \"Trial_Judge_['brown', 'craig ']\",\n",
       "       \"Trial_Judge_['brown', 'craig']\",\n",
       "       \"Trial_Judge_['brown', 'deborah ']\",\n",
       "       \"Trial_Judge_['brown', 'deborah']\",\n",
       "       \"Trial_Judge_['brown', 'frank ']\",\n",
       "       \"Trial_Judge_['brown', 'richard ']\",\n",
       "       \"Trial_Judge_['brown', 'shirley ']\",\n",
       "       \"Trial_Judge_['bryant', 'steven ']\",\n",
       "       \"Trial_Judge_['bullock', 'stafford ']\",\n",
       "       \"Trial_Judge_['burch', 'susan']\", \"Trial_Judge_['burke', 'l.']\",\n",
       "       \"Trial_Judge_['burroughs', 'robert ']\",\n",
       "       \"Trial_Judge_['bushfan', 'elaine ']\",\n",
       "       \"Trial_Judge_['butterfield', 'g.']\",\n",
       "       \"Trial_Judge_['caldwell', 'jesse ']\",\n",
       "       \"Trial_Judge_['caldwell', 'jesse']\",\n",
       "       \"Trial_Judge_['cameron', 'william ']\",\n",
       "       \"Trial_Judge_['campbell', 'hugh ']\",\n",
       "       \"Trial_Judge_['carolina', 'the']\",\n",
       "       \"Trial_Judge_['carter', 'clarence ']\",\n",
       "       \"Trial_Judge_['carter', 'clarence']\",\n",
       "       \"Trial_Judge_['cashwell', 'narley ']\",\n",
       "       \"Trial_Judge_['cashwell', 'narley']\", \"Trial_Judge_['cashwell']\",\n",
       "       \"Trial_Judge_['caudill', 'gentry']\",\n",
       "       \"Trial_Judge_['caudill', 'j.']\",\n",
       "       \"Trial_Judge_['caviness', 'loto ']\", \"Trial_Judge_['caviness']\",\n",
       "       \"Trial_Judge_['cayer', 'david ']\",\n",
       "       \"Trial_Judge_['cella', 'eugene ']\",\n",
       "       \"Trial_Judge_['chapman', 'ronald ']\",\n",
       "       \"Trial_Judge_['cilley', 'robert ']\",\n",
       "       \"Trial_Judge_['clark', 'giles ']\", \"Trial_Judge_['cobb', 'w.']\",\n",
       "       \"Trial_Judge_['cobb']\", \"Trial_Judge_['cole', 'j.']\",\n",
       "       \"Trial_Judge_['collier', 'christopher ']\",\n",
       "       \"Trial_Judge_['collier', 'christopher']\",\n",
       "       \"Trial_Judge_['collins', 'g.']\",\n",
       "       \"Trial_Judge_['collins', 'george ']\",\n",
       "       \"Trial_Judge_['conrad', 'adam ']\",\n",
       "       \"Trial_Judge_['conrad', 'adam']\",\n",
       "       \"Trial_Judge_['constangy', 'h.']\",\n",
       "       \"Trial_Judge_['cooper', 'pell ']\", \"Trial_Judge_['corbett', 'a.']\",\n",
       "       \"Trial_Judge_['corbett', 'albert ']\",\n",
       "       \"Trial_Judge_['cornelius', 'c.']\",\n",
       "       \"Trial_Judge_['cornelius', 'preston']\",\n",
       "       \"Trial_Judge_['corpening', 'j.']\", \"Trial_Judge_['court', 'the']\",\n",
       "       \"Trial_Judge_['covington', 'mary ']\",\n",
       "       \"Trial_Judge_['coward', 'william ']\",\n",
       "       \"Trial_Judge_['coward', 'william']\",\n",
       "       \"Trial_Judge_['craig', 'john ']\",\n",
       "       \"Trial_Judge_['cranford', 'dwight ']\",\n",
       "       \"Trial_Judge_['cromer', 'anderson ']\",\n",
       "       \"Trial_Judge_['cromer', 'anderson']\",\n",
       "       \"Trial_Judge_['cromer', 'andy ']\",\n",
       "       \"Trial_Judge_['cromer', 'andy']\", \"Trial_Judge_['croom', 'craig']\",\n",
       "       \"Trial_Judge_['crosswhite', 'joseph ']\",\n",
       "       \"Trial_Judge_['crow', 'kenneth ']\",\n",
       "       \"Trial_Judge_['daisy', 'william ']\",\n",
       "       \"Trial_Judge_['dameron', 'e.']\", \"Trial_Judge_['davis', 'amber']\",\n",
       "       \"Trial_Judge_['davis', 'chester ']\",\n",
       "       \"Trial_Judge_['davis', 'chester']\",\n",
       "       \"Trial_Judge_['davis', 'danny']\", \"Trial_Judge_['davis', 'j.']\",\n",
       "       \"Trial_Judge_['davis', 'james ']\",\n",
       "       \"Trial_Judge_['davis', 'lindsay ']\",\n",
       "       \"Trial_Judge_['davis', 'richard ']\",\n",
       "       \"Trial_Judge_['davis', 'tommy']\",\n",
       "       \"Trial_Judge_['dellinger', 'j.']\",\n",
       "       \"Trial_Judge_['deramus', 'judson ']\", \"Trial_Judge_['deramus']\",\n",
       "       \"Trial_Judge_['desvousges', 'shelley ']\",\n",
       "       \"Trial_Judge_['diaz', 'albert']\",\n",
       "       \"Trial_Judge_['doughton', 'richard ']\",\n",
       "       \"Trial_Judge_['doughton', 'richard']\", \"Trial_Judge_['doughton']\",\n",
       "       \"Trial_Judge_['downs', 'james ']\",\n",
       "       \"Trial_Judge_['downs', 'james']\", \"Trial_Judge_['downs']\",\n",
       "       \"Trial_Judge_['duke', 'w.']\", \"Trial_Judge_['duncan', 'michael ']\",\n",
       "       \"Trial_Judge_['eagles', 'catherine ']\",\n",
       "       \"Trial_Judge_['eagles', 'catherine']\",\n",
       "       \"Trial_Judge_['eagles', 'margaret ']\",\n",
       "       \"Trial_Judge_['edwards', 'c.']\", \"Trial_Judge_['ellis', 'b.']\",\n",
       "       \"Trial_Judge_['ellis', 'craig']\",\n",
       "       \"Trial_Judge_['ennis', 'spencer ']\",\n",
       "       \"Trial_Judge_['entzminger', 'daniel ']\",\n",
       "       \"Trial_Judge_['ervin', 'robert ']\",\n",
       "       \"Trial_Judge_['etheridge', 'scott']\",\n",
       "       \"Trial_Judge_['evans', 'pat']\", \"Trial_Judge_['evans', 'robert ']\",\n",
       "       \"Trial_Judge_['evans', 'yvonne ']\",\n",
       "       \"Trial_Judge_['everett', 'clifton ']\",\n",
       "       \"Trial_Judge_['fairley', 'william ']\",\n",
       "       \"Trial_Judge_['faison', 'james ']\",\n",
       "       \"Trial_Judge_['farmer', 'robert ']\",\n",
       "       \"Trial_Judge_['ferrell', 'forrest ']\",\n",
       "       \"Trial_Judge_['finch', 'daniel ']\",\n",
       "       \"Trial_Judge_['fitch', 'milton ']\", \"Trial_Judge_['floyd', 'r.']\",\n",
       "       \"Trial_Judge_['floyd', 'robert ']\",\n",
       "       \"Trial_Judge_['ford', 'larry ']\", \"Trial_Judge_['ford', 'larry']\",\n",
       "       \"Trial_Judge_['foster', 'anna ']\",\n",
       "       \"Trial_Judge_['foster', 'jefferey']\",\n",
       "       \"Trial_Judge_['foster', 'jeffrey ']\",\n",
       "       \"Trial_Judge_['foster', 'thomas ']\",\n",
       "       \"Trial_Judge_['foust', 'linwood ']\",\n",
       "       \"Trial_Judge_['fox', 'carl ']\", \"Trial_Judge_['fox', 'carl']\",\n",
       "       \"Trial_Judge_['foy', 'louis ']\",\n",
       "       \"Trial_Judge_['freeman', 'william ']\",\n",
       "       \"Trial_Judge_['frye', 'henry ']\",\n",
       "       \"Trial_Judge_['fullwood', 'ernest ']\",\n",
       "       \"Trial_Judge_['fullwood', 'ernest']\",\n",
       "       \"Trial_Judge_['fullwood', 'james ']\",\n",
       "       \"Trial_Judge_['futrell', 'stephan ']\",\n",
       "       \"Trial_Judge_['g', 'howard ']\", \"Trial_Judge_['gale', 'james ']\",\n",
       "       \"Trial_Judge_['gale', 'james']\",\n",
       "       \"Trial_Judge_['galloway', 'mark ']\",\n",
       "       \"Trial_Judge_['gardner', 'john ']\",\n",
       "       \"Trial_Judge_['gavenus', 'gary ']\",\n",
       "       \"Trial_Judge_['gavenus', 'gary']\", \"Trial_Judge_['gavin', 'lee ']\",\n",
       "       \"Trial_Judge_['gaylor', 'charles ']\",\n",
       "       \"Trial_Judge_['gentry', 'mike']\",\n",
       "       \"Trial_Judge_['gessner', 'paul ']\",\n",
       "       \"Trial_Judge_['gessner', 'paul']\",\n",
       "       \"Trial_Judge_['gilchrist', 'c.']\", \"Trial_Judge_['ginn', 'c.']\",\n",
       "       \"Trial_Judge_['ginn', 'charles ']\",\n",
       "       \"Trial_Judge_['godwin', 'walter ']\",\n",
       "       \"Trial_Judge_['gordon', 'nancy ']\",\n",
       "       \"Trial_Judge_['gore', 'william ']\", \"Trial_Judge_['gore']\",\n",
       "       \"Trial_Judge_['gorham', 'phyllis ']\",\n",
       "       \"Trial_Judge_['gottlieb', 'richard ']\",\n",
       "       \"Trial_Judge_['graham', 'william']\", \"Trial_Judge_['graham']\",\n",
       "       \"Trial_Judge_['grant', 'cy ']\", \"Trial_Judge_['gray', 'beecher ']\",\n",
       "       \"Trial_Judge_['gray', 'jane ']\", \"Trial_Judge_['gray', 'marvin ']\",\n",
       "       \"Trial_Judge_['greeson', 'howard ']\",\n",
       "       \"Trial_Judge_['gregory', 'edgar ']\",\n",
       "       \"Trial_Judge_['gregory', 'edgar']\",\n",
       "       \"Trial_Judge_['gregory', 'keith ']\",\n",
       "       \"Trial_Judge_['gregory', 'keith']\",\n",
       "       \"Trial_Judge_['griffin', 'william ']\",\n",
       "       \"Trial_Judge_['griffin', 'william']\",\n",
       "       \"Trial_Judge_['grimes', 'samuel ']\",\n",
       "       \"Trial_Judge_['gryder', 'rebecca ']\",\n",
       "       \"Trial_Judge_['guice', 'zoro ']\",\n",
       "       \"Trial_Judge_['haigwood', 'thomas ']\",\n",
       "       \"Trial_Judge_['hall', 'david ']\",\n",
       "       \"Trial_Judge_['hamby', 'william ']\",\n",
       "       \"Trial_Judge_['hardin', 'james ']\",\n",
       "       \"Trial_Judge_['harper', 'jane ']\", \"Trial_Judge_['harrell', 'r.']\",\n",
       "       \"Trial_Judge_['harrison', 'hal ']\",\n",
       "       \"Trial_Judge_['harriss', 'meader ']\",\n",
       "       \"Trial_Judge_['hartsfield', 'denise']\",\n",
       "       \"Trial_Judge_['hassell', 'a.']\",\n",
       "       \"Trial_Judge_['hassell', 'andrew ']\",\n",
       "       \"Trial_Judge_['heath', 'andrew']\",\n",
       "       \"Trial_Judge_['heath', 'elizabeth ']\",\n",
       "       \"Trial_Judge_['hedrick', 'edward ']\",\n",
       "       \"Trial_Judge_['height', 'henry ']\",\n",
       "       \"Trial_Judge_['helms', 'michael ']\",\n",
       "       \"Trial_Judge_['helms', 'michael']\",\n",
       "       \"Trial_Judge_['helms', 'william ']\",\n",
       "       \"Trial_Judge_['henry', 'charles ']\",\n",
       "       \"Trial_Judge_['henry', 'charles']\",\n",
       "       \"Trial_Judge_['herring', 'd.']\", \"Trial_Judge_['hight', 'henry ']\",\n",
       "       \"Trial_Judge_['hight']\", \"Trial_Judge_['hill', 'claire ']\",\n",
       "       \"Trial_Judge_['hill', 'evelyn ']\",\n",
       "       \"Trial_Judge_['hill', 'james ']\",\n",
       "       \"Trial_Judge_['hill', 'kendra ']\",\n",
       "       \"Trial_Judge_['hinnant', 'patrice ']\",\n",
       "       \"Trial_Judge_['hinnant', 'patrice']\",\n",
       "       \"Trial_Judge_['hinton', 'alma ']\",\n",
       "       \"Trial_Judge_['hinton', 'alma']\",\n",
       "       \"Trial_Judge_['hobgood', 'robert ']\", \"Trial_Judge_['hobgood']\",\n",
       "       \"Trial_Judge_['hockenbury', 'jay ']\",\n",
       "       \"Trial_Judge_['hodges', 'robert ']\",\n",
       "       \"Trial_Judge_['holshouser', 'john ']\",\n",
       "       \"Trial_Judge_['holt', 'rebecca']\",\n",
       "       \"Trial_Judge_['holt', 'shelly ']\", \"Trial_Judge_['hooks', 'd.']\",\n",
       "       \"Trial_Judge_['hooks', 'dewey ']\",\n",
       "       \"Trial_Judge_['hoover', 'donnie']\",\n",
       "       \"Trial_Judge_['horne', 'gregory']\", \"Trial_Judge_['horne', 'r.']\",\n",
       "       \"Trial_Judge_['horton', 'clarence ']\",\n",
       "       \"Trial_Judge_['houston', 'jeanie ']\",\n",
       "       \"Trial_Judge_['hudson', 'orlando ']\",\n",
       "       \"Trial_Judge_['hudson', 'orlando']\",\n",
       "       \"Trial_Judge_['hughes', 'f.']\", \"Trial_Judge_['hunt', 'jeff']\",\n",
       "       \"Trial_Judge_['hyatt', 'j.']\", \"Trial_Judge_['hyatt', 'marlene']\",\n",
       "       \"Trial_Judge_['iii', 'james ']\", \"Trial_Judge_['inman', 'lucy ']\",\n",
       "       \"Trial_Judge_['inman', 'lucy']\", \"Trial_Judge_['jarrell', 'h.']\",\n",
       "       \"Trial_Judge_['jenkins', 'jack ']\",\n",
       "       \"Trial_Judge_['jenkins', 'jack']\",\n",
       "       \"Trial_Judge_['jenkins', 'knox ']\",\n",
       "       \"Trial_Judge_['john', 'joseph ']\", \"Trial_Judge_['johnson', 'e.']\",\n",
       "       \"Trial_Judge_['johnson', 'marcus ']\",\n",
       "       \"Trial_Judge_['johnson', 'marcus']\",\n",
       "       \"Trial_Judge_['johnson', 'robert ']\",\n",
       "       \"Trial_Judge_['johnston', 'robert ']\", \"Trial_Judge_['johnston']\",\n",
       "       \"Trial_Judge_['jolly', 'jerry ']\",\n",
       "       \"Trial_Judge_['jolly', 'jerry']\", \"Trial_Judge_['jolly', 'john ']\",\n",
       "       \"Trial_Judge_['jones', 'abraham ']\",\n",
       "       \"Trial_Judge_['jones', 'abraham']\",\n",
       "       \"Trial_Judge_['jones', 'arnold ']\",\n",
       "       \"Trial_Judge_['jones', 'paul ']\",\n",
       "       \"Trial_Judge_['jones', 'william ']\",\n",
       "       \"Trial_Judge_['jordan', 'lillian ']\",\n",
       "       \"Trial_Judge_['joseph', 'shannon ']\",\n",
       "       \"Trial_Judge_['joseph', 'shannon']\",\n",
       "       \"Trial_Judge_['keever', 'a.']\", \"Trial_Judge_['key', 'spencer ']\",\n",
       "       \"Trial_Judge_['kincaid', 'timothy ']\",\n",
       "       \"Trial_Judge_['kincaid', 'timothy']\",\n",
       "       \"Trial_Judge_['klass', 'mark ']\", \"Trial_Judge_['klass', 'mark']\",\n",
       "       \"Trial_Judge_['knight', 'peter ']\",\n",
       "       \"Trial_Judge_['knight', 'peter']\",\n",
       "       \"Trial_Judge_['knox', 'michael ']\",\n",
       "       \"Trial_Judge_['kuehnert', 'daniel ']\",\n",
       "       \"Trial_Judge_['kwasikpui', 'alfred ']\",\n",
       "       \"Trial_Judge_['l', 'lisa']\", \"Trial_Judge_['labarre', 'david ']\",\n",
       "       \"Trial_Judge_['lambeth', 'd.']\",\n",
       "       \"Trial_Judge_['lambeth', 'david ']\",\n",
       "       \"Trial_Judge_['lamm', 'charles ']\",\n",
       "       \"Trial_Judge_['lamm', 'charles']\",\n",
       "       \"Trial_Judge_['lanier', 'franklin ']\",\n",
       "       \"Trial_Judge_['lanier', 'russell ']\",\n",
       "       \"Trial_Judge_['lanning', 'james ']\",\n",
       "       \"Trial_Judge_['lassiter', 'melissa ']\",\n",
       "       \"Trial_Judge_['lassiter', 'melissa']\",\n",
       "       \"Trial_Judge_['lawton', 'william ']\",\n",
       "       \"Trial_Judge_['leavell', 'william ']\",\n",
       "       \"Trial_Judge_['lee', 'jacquelyn ']\", \"Trial_Judge_['lee', 'w.']\",\n",
       "       \"Trial_Judge_['letts', 'bradley ']\",\n",
       "       \"Trial_Judge_['letts', 'bradley']\",\n",
       "       \"Trial_Judge_['levinson', 'eric ']\",\n",
       "       \"Trial_Judge_['levinson', 'eric']\",\n",
       "       \"Trial_Judge_['lewis', 'hugh ']\", \"Trial_Judge_['lewis', 'hugh']\",\n",
       "       \"Trial_Judge_['lewis', 'john ']\", \"Trial_Judge_['lewis', 'ola ']\",\n",
       "       \"Trial_Judge_['lewis', 'ola']\", \"Trial_Judge_['lewis', 'robert ']\",\n",
       "       \"Trial_Judge_['lewis', 'w.']\",\n",
       "       \"Trial_Judge_['llewellyn', 'james ']\",\n",
       "       \"Trial_Judge_['lock', 'thomas ']\",\n",
       "       \"Trial_Judge_['locklear', 'gary ']\",\n",
       "       \"Trial_Judge_['locklear', 'gary']\",\n",
       "       \"Trial_Judge_['long', 'lunsford']\", \"Trial_Judge_['long', 'v.']\",\n",
       "       \"Trial_Judge_['long', 'vance ']\", \"Trial_Judge_['love', 'jimmy ']\",\n",
       "       \"Trial_Judge_['m', 'craig']\", \"Trial_Judge_['maness', 'jayrene ']\",\n",
       "       \"Trial_Judge_['mangum', 'ned ']\",\n",
       "       \"Trial_Judge_['manning', 'howard ']\",\n",
       "       \"Trial_Judge_['martin', 'jerry ']\",\n",
       "       \"Trial_Judge_['martin', 'lester ']\",\n",
       "       \"Trial_Judge_['martin', 'lester']\", \"Trial_Judge_['massey', 'a.']\",\n",
       "       \"Trial_Judge_['massey', 'moses ']\", \"Trial_Judge_['may', 'j.']\",\n",
       "       \"Trial_Judge_['mccormick', 'edward ']\",\n",
       "       \"Trial_Judge_['mccoy', 'h.']\", \"Trial_Judge_['mcgee', 'martin ']\",\n",
       "       \"Trial_Judge_['mcguire', 'gregory ']\",\n",
       "       \"Trial_Judge_['mchugh', 'peter ']\",\n",
       "       \"Trial_Judge_['mchugh', 'peter']\",\n",
       "       \"Trial_Judge_['mckeller', 'c.']\", \"Trial_Judge_['mckown', 'ann']\",\n",
       "       \"Trial_Judge_['mclean', 'mitchell ']\",\n",
       "       \"Trial_Judge_['mcswain', 'lawrence ']\",\n",
       "       \"Trial_Judge_['mcthenia', 'paige ']\",\n",
       "       \"Trial_Judge_['miller', 'gordon ']\",\n",
       "       \"Trial_Judge_['miller', 'gordon']\",\n",
       "       \"Trial_Judge_['miller', 'regan ']\", \"Trial_Judge_['mills', 'l.']\",\n",
       "       \"Trial_Judge_['morelock', 'fred']\",\n",
       "       \"Trial_Judge_['morey', 'marcia ']\",\n",
       "       \"Trial_Judge_['morey', 'marcia']\",\n",
       "       \"Trial_Judge_['morgan', 'eric ']\",\n",
       "       \"Trial_Judge_['morgan', 'james ']\",\n",
       "       \"Trial_Judge_['morgan', 'melzer ']\",\n",
       "       \"Trial_Judge_['morgan', 'michael ']\",\n",
       "       \"Trial_Judge_['morgan', 'michael']\",\n",
       "       \"Trial_Judge_['morton', 'j.']\",\n",
       "       \"Trial_Judge_['mullinax', 'robert ']\",\n",
       "       \"Trial_Judge_['murphy', 'calvin ']\",\n",
       "       \"Trial_Judge_['myers', 'jimmy ']\", \"Trial_Judge_['n', 'cressie ']\",\n",
       "       \"Trial_Judge_['n', 'nancy ']\",\n",
       "       \"Trial_Judge_['nance', 'commissioner']\",\n",
       "       \"Trial_Judge_['noble', 'l.']\", \"Trial_Judge_['noble', 'lucy']\",\n",
       "       \"Trial_Judge_['noble', 'oliver ']\",\n",
       "       \"Trial_Judge_['nobles', 'john ']\",\n",
       "       \"Trial_Judge_['nobles', 'john']\",\n",
       "       \"Trial_Judge_['norelli', 'nancy ']\",\n",
       "       \"Trial_Judge_['ofoghludha', 'michael ']\",\n",
       "       \"Trial_Judge_['oneal', 'elaine ']\",\n",
       "       \"Trial_Judge_['orders', 'walter ']\",\n",
       "       \"Trial_Judge_['osman', 'matthew ']\",\n",
       "       \"Trial_Judge_['overby', 'donald ']\",\n",
       "       \"Trial_Judge_['overby', 'donald']\", \"Trial_Judge_['parker', 'j.']\",\n",
       "       \"Trial_Judge_['parker', 'regina ']\",\n",
       "       \"Trial_Judge_['parker', 'richard']\",\n",
       "       \"Trial_Judge_['parsons', 'w.']\",\n",
       "       \"Trial_Judge_['patti', 'timothy ']\",\n",
       "       \"Trial_Judge_['patti', 'timothy']\", \"Trial_Judge_['patti']\",\n",
       "       \"Trial_Judge_['payne', 'ronald ']\",\n",
       "       \"Trial_Judge_['payne', 'ronald']\", \"Trial_Judge_['penry', 'j.']\",\n",
       "       \"Trial_Judge_['phillips', 'herbert ']\",\n",
       "       \"Trial_Judge_['phillips', 'herbert']\",\n",
       "       \"Trial_Judge_['pittman', 'william ']\",\n",
       "       \"Trial_Judge_['pomeroy', 'w.']\", \"Trial_Judge_['pool', 'c.']\",\n",
       "       \"Trial_Judge_['poovey', 'nathaniel ']\",\n",
       "       \"Trial_Judge_['poovey', 'nathaniel']\",\n",
       "       \"Trial_Judge_['pope', 'marvin ']\",\n",
       "       \"Trial_Judge_['powell', 'mark ']\",\n",
       "       \"Trial_Judge_['powell', 'mark']\", \"Trial_Judge_['quinn', 'paul ']\",\n",
       "       \"Trial_Judge_['quinn', 'paul']\", \"Trial_Judge_['r', 'allen ']\",\n",
       "       \"Trial_Judge_['r', 'wade ']\", \"Trial_Judge_['rader', 'robert ']\",\n",
       "       \"Trial_Judge_['ragan', 'james ']\",\n",
       "       \"Trial_Judge_['rand', 'ripley ']\",\n",
       "       \"Trial_Judge_['reviewable', 'and']\",\n",
       "       \"Trial_Judge_['ridgeway', 'paul ']\",\n",
       "       \"Trial_Judge_['roberson', 'james ']\",\n",
       "       \"Trial_Judge_['robinson', 'michael ']\",\n",
       "       \"Trial_Judge_['roda', 'peter ']\",\n",
       "       \"Trial_Judge_['roemer', 'victoria ']\",\n",
       "       \"Trial_Judge_['ross', 'thomas ']\",\n",
       "       \"Trial_Judge_['rousseau', 'julius ']\",\n",
       "       \"Trial_Judge_['rousseau', 'julius']\",\n",
       "       \"Trial_Judge_['royster', 'ted']\",\n",
       "       \"Trial_Judge_['royster', 'theodore ']\",\n",
       "       \"Trial_Judge_['ruled', 'ronald']\", \"Trial_Judge_['s', 'james ']\",\n",
       "       \"Trial_Judge_['salisbury', 'anne ']\",\n",
       "       \"Trial_Judge_['sasser', 'debra']\",\n",
       "       \"Trial_Judge_['sasser', 'douglas ']\",\n",
       "       \"Trial_Judge_['saunders', 'chase ']\",\n",
       "       \"Trial_Judge_['scarlett', 'beverly']\",\n",
       "       \"Trial_Judge_['scott', 'ward ']\",\n",
       "       \"Trial_Judge_['seaton', 'sarah ']\",\n",
       "       \"Trial_Judge_['seay', 'thomas ']\",\n",
       "       \"Trial_Judge_['sermons', 'wayland ']\",\n",
       "       \"Trial_Judge_['sharpe', 'margaret ']\",\n",
       "       \"Trial_Judge_['shirley', 'a.']\",\n",
       "       \"Trial_Judge_['sitton', 'claude ']\",\n",
       "       \"Trial_Judge_['sitton', 'claude']\",\n",
       "       \"Trial_Judge_['smith', 'donald ']\",\n",
       "       \"Trial_Judge_['smith', 'john ']\",\n",
       "       \"Trial_Judge_['smith', 'osmond']\",\n",
       "       \"Trial_Judge_['smith', 'sean ']\",\n",
       "       \"Trial_Judge_['smith', 'timothy ']\", \"Trial_Judge_['smith', 'w.']\",\n",
       "       \"Trial_Judge_['southern', 'william ']\",\n",
       "       \"Trial_Judge_['spainhour', 'w.']\",\n",
       "       \"Trial_Judge_['spencer', 'cheryl']\",\n",
       "       \"Trial_Judge_['spencer', 'james ']\", \"Trial_Judge_['spencer']\",\n",
       "       \"Trial_Judge_['spivey', 'ronald ']\",\n",
       "       \"Trial_Judge_['spivey', 'ronald']\",\n",
       "       \"Trial_Judge_['stanback', 'a.']\",\n",
       "       \"Trial_Judge_['stanback', 'leon']\",\n",
       "       \"Trial_Judge_['staton', 'kimberly ']\",\n",
       "       \"Trial_Judge_['steelman', 'sanford ']\",\n",
       "       \"Trial_Judge_['stephens', 'donald ']\",\n",
       "       \"Trial_Judge_['stephens', 'donald']\",\n",
       "       \"Trial_Judge_['stephens', 'ronald ']\",\n",
       "       \"Trial_Judge_['stewart', 'caron ']\",\n",
       "       \"Trial_Judge_['stiehl', 'robert ']\",\n",
       "       \"Trial_Judge_['stone', 'richard ']\",\n",
       "       \"Trial_Judge_['strickland', 'david ']\",\n",
       "       \"Trial_Judge_['strickland', 'james ']\",\n",
       "       \"Trial_Judge_['stubbs', 'alice']\",\n",
       "       \"Trial_Judge_['sturges', 'cindy']\",\n",
       "       \"Trial_Judge_['sumner', 'quentin ']\",\n",
       "       \"Trial_Judge_['sumner', 'robert ']\",\n",
       "       \"Trial_Judge_['sutton', 'david']\", \"Trial_Judge_['t', 'entering']\",\n",
       "       \"Trial_Judge_['tally', 'mary ']\", \"Trial_Judge_['taylor', 'kim ']\",\n",
       "       \"Trial_Judge_['taylor', 'kimberly ']\",\n",
       "       \"Trial_Judge_['taylor', 'susan ']\",\n",
       "       \"Trial_Judge_['tennille', 'ben ']\",\n",
       "       \"Trial_Judge_['thalheimer', 'ben ']\", \"Trial_Judge_['that', 'to']\",\n",
       "       \"Trial_Judge_['thigpen', 'cressie ']\",\n",
       "       \"Trial_Judge_['thompson', 'carolyn ']\",\n",
       "       \"Trial_Judge_['thompson', 'jack ']\",\n",
       "       \"Trial_Judge_['thompson', 'jack']\",\n",
       "       \"Trial_Judge_['thornburg', 'alan ']\",\n",
       "       \"Trial_Judge_['tilghman', 'carl ']\",\n",
       "       \"Trial_Judge_['tilghman', 'carl']\",\n",
       "       \"Trial_Judge_['tillery', 'bradford ']\",\n",
       "       \"Trial_Judge_['tillet', 'jerry ']\",\n",
       "       \"Trial_Judge_['tillett', 'jerry ']\",\n",
       "       \"Trial_Judge_['titus', 'kenneth ']\",\n",
       "       \"Trial_Judge_['titus', 'kenneth']\",\n",
       "       \"Trial_Judge_['trawick', 'gary ']\",\n",
       "       \"Trial_Judge_['trawick', 'gary']\",\n",
       "       \"Trial_Judge_['trivette', 'robert ']\",\n",
       "       \"Trial_Judge_['trosch', 'elizabeth ']\",\n",
       "       \"Trial_Judge_['trosch', 'louis ']\",\n",
       "       \"Trial_Judge_['tucker', 'kimbrell ']\",\n",
       "       \"Trial_Judge_['turner', 'joseph ']\",\n",
       "       \"Trial_Judge_['turner', 'r.']\", \"Trial_Judge_['vosburg', 'james']\",\n",
       "       \"Trial_Judge_['vosburgh', 'james ']\",\n",
       "       \"Trial_Judge_['waddell', 'jerry ']\",\n",
       "       \"Trial_Judge_['wagoner', 'anna ']\",\n",
       "       \"Trial_Judge_['wainwright', 'george ']\",\n",
       "       \"Trial_Judge_['walczyk', 'christine ']\",\n",
       "       \"Trial_Judge_['walczyk', 'christine']\",\n",
       "       \"Trial_Judge_['walker', 'richard ']\",\n",
       "       \"Trial_Judge_['walker', 'russell ']\",\n",
       "       \"Trial_Judge_['wallace', 'tanya ']\",\n",
       "       \"Trial_Judge_['wallace', 'tanya']\", \"Trial_Judge_['ward', 'j.']\",\n",
       "       \"Trial_Judge_['warren', 'raymond ']\",\n",
       "       \"Trial_Judge_['warren', 'steve']\",\n",
       "       \"Trial_Judge_['watson', 'ebern ']\",\n",
       "       \"Trial_Judge_['webb', 'james ']\",\n",
       "       \"Trial_Judge_['weeks', 'gregory ']\",\n",
       "       \"Trial_Judge_['weeks', 'gregory']\",\n",
       "       \"Trial_Judge_['wiggins', 'lamont']\",\n",
       "       \"Trial_Judge_['wijewickrama', 'roy']\",\n",
       "       \"Trial_Judge_['wilhelm', 'christy ']\",\n",
       "       \"Trial_Judge_['willey', 'joshua ']\",\n",
       "       \"Trial_Judge_['williams', 'joseph']\",\n",
       "       \"Trial_Judge_['williams', 'karen ']\",\n",
       "       \"Trial_Judge_['williamson', 'f.']\",\n",
       "       \"Trial_Judge_['wilson', 'edwin ']\",\n",
       "       \"Trial_Judge_['winner', 'dennis ']\",\n",
       "       \"Trial_Judge_['winner', 'dennis']\",\n",
       "       \"Trial_Judge_['wood', 'william ']\",\n",
       "       \"Trial_Judge_['wood', 'william']\", \"Trial_Judge_['you', 'will']\",\n",
       "       \"Trial_Judge_['z', 'albert ']\", \"Trial_Judge_['zimmerman', 'h.']\",\n",
       "       'Trial_Judge_nan'], dtype=object)"
      ]
     },
     "execution_count": 101,
     "metadata": {},
     "output_type": "execute_result"
    }
   ],
   "source": [
    "ohe.get_feature_names(X.columns)\n",
    "# X.columns"
   ]
  },
  {
   "cell_type": "code",
   "execution_count": 102,
   "metadata": {},
   "outputs": [
    {
     "data": {
      "text/plain": [
       "((2664, 560), (2664, 560))"
      ]
     },
     "execution_count": 102,
     "metadata": {},
     "output_type": "execute_result"
    }
   ],
   "source": [
    "X_gd.shape, X_ohe.shape"
   ]
  },
  {
   "cell_type": "code",
   "execution_count": 103,
   "metadata": {},
   "outputs": [
    {
     "data": {
      "text/plain": [
       "1    1983\n",
       "0     681\n",
       "Name: Result, dtype: int64"
      ]
     },
     "execution_count": 103,
     "metadata": {},
     "output_type": "execute_result"
    }
   ],
   "source": [
    "# View class imbalance\n",
    "y.value_counts()"
   ]
  },
  {
   "cell_type": "code",
   "execution_count": 104,
   "metadata": {},
   "outputs": [
    {
     "data": {
      "text/plain": [
       "<matplotlib.axes._subplots.AxesSubplot at 0x7fcef12f5b70>"
      ]
     },
     "execution_count": 104,
     "metadata": {},
     "output_type": "execute_result"
    },
    {
     "data": {
      "image/png": "[encoded data removed]",
      "text/plain": [
       "<Figure size 432x288 with 1 Axes>"
      ]
     },
     "metadata": {},
     "output_type": "display_data"
    }
   ],
   "source": [
    "#Visualize class imbalance\n",
    "y.value_counts().plot.pie(autopct=\"%.1f%%\")"
   ]
  },
  {
   "cell_type": "code",
   "execution_count": 105,
   "metadata": {},
   "outputs": [],
   "source": [
    "# USING X_ohe - SWITCH OUT IF DESIRED\n",
    "X_train, X_test, y_train, y_test = train_test_split(X_ohe,y,random_state = 42, test_size = 0.3)"
   ]
  },
  {
   "cell_type": "code",
   "execution_count": 106,
   "metadata": {},
   "outputs": [],
   "source": [
    "sm = SMOTE(sampling_strategy='auto', k_neighbors=2, random_state=42)\n",
    "X_train ,y_train = sm.fit_resample(X_train, y_train) "
   ]
  },
  {
   "cell_type": "code",
   "execution_count": 107,
   "metadata": {},
   "outputs": [
    {
     "data": {
      "image/png": "[encoded data removed]",
      "text/plain": [
       "<Figure size 432x288 with 1 Axes>"
      ]
     },
     "metadata": {},
     "output_type": "display_data"
    }
   ],
   "source": [
    "pd.Series(y_train).value_counts().plot.pie(autopct=\"%.1f%%\");"
   ]
  },
  {
   "cell_type": "markdown",
   "metadata": {},
   "source": [
    "## Modeling\n",
    "\n",
    "Some research into the best probabilistic classification models suggests that logistic regression, SVMs, and neural networks would be the best fit for the intended goal.  I will run each on the data and see which performs best. "
   ]
  },
  {
   "cell_type": "markdown",
   "metadata": {},
   "source": [
    "### Logistic Regression Model"
   ]
  },
  {
   "cell_type": "code",
   "execution_count": 108,
   "metadata": {},
   "outputs": [],
   "source": [
    "def auc_chart(fpr,tpr):\n",
    "    sns.set_style('darkgrid', {'axes.facecolor': '0.9'})\n",
    "    # Plot the ROC curve\n",
    "    plt.figure(figsize=(10, 8))\n",
    "    lw = 2\n",
    "    plt.plot(fpr, tpr, color='darkorange',\n",
    "             lw=lw, label='ROC curve')\n",
    "\n",
    "    plt.plot([0, 1], [0, 1], color='navy', lw=lw, linestyle='--')\n",
    "    plt.xlim([0.0, 1.0])\n",
    "    plt.ylim([0.0, 1.05])\n",
    "    plt.yticks([i/20.0 for i in range(21)])\n",
    "    plt.xticks([i/20.0 for i in range(21)])\n",
    "    plt.xlabel('False Positive Rate')\n",
    "    plt.ylabel('True Positive Rate')\n",
    "    plt.title('Receiver operating characteristic (ROC) Curve')\n",
    "    plt.legend(loc='lower right')\n",
    "    plt.show()"
   ]
  },
  {
   "cell_type": "code",
   "execution_count": 109,
   "metadata": {},
   "outputs": [],
   "source": [
    "def logreg_fn(X_train, X_test, y_train, y_test, params):\n",
    "    logreg_clf = LogisticRegression(random_state=12)\n",
    "    logreg_gs = GridSearchCV(logreg_clf, params, cv=5)\n",
    "    logreg_gs.fit(X_train, y_train)\n",
    "    best = logreg_gs.best_params_\n",
    "    \n",
    "    logreg_final = LogisticRegression(solver=best['solver'],\n",
    "                                      penalty=best['penalty'],\n",
    "                                      C=best['C'], \n",
    "                                      random_state=12)\n",
    "    \n",
    "    logreg_final.fit(X_train, y_train)\n",
    "    y_hat = logreg_final.predict(X_test)\n",
    "    y_score = logreg_final.decision_function(X_test)\n",
    "    fpr, tpr, thresholds = roc_curve(y_test, y_score)\n",
    "    AUC = auc(fpr, tpr)\n",
    "\n",
    "    print('Best params:',best,\n",
    "          '\\n Accuracy Score - Test: ', accuracy_score(y_test, y_hat),\n",
    "          '\\n Confusion Matrix:\\n', confusion_matrix(y_test, y_hat), \n",
    "          '\\n AUC: ', AUC)\n",
    "    \n",
    "    auc_chart(fpr,tpr)\n",
    "    \n",
    "    return()\n",
    "    "
   ]
  },
  {
   "cell_type": "code",
   "execution_count": 110,
   "metadata": {},
   "outputs": [
    {
     "name": "stdout",
     "output_type": "stream",
     "text": [
      "Best params: {'C': 10, 'penalty': 'l2', 'solver': 'saga'} \n",
      " Accuracy Score - Test:  0.56375 \n",
      " Confusion Matrix:\n",
      " [[ 65 128]\n",
      " [221 386]] \n",
      " AUC:  0.5068586695802852\n"
     ]
    },
    {
     "data": {
      "image/png": "[encoded data removed]",
      "text/plain": [
       "<Figure size 720x576 with 1 Axes>"
      ]
     },
     "metadata": {},
     "output_type": "display_data"
    },
    {
     "name": "stdout",
     "output_type": "stream",
     "text": [
      "CPU times: user 1 µs, sys: 0 ns, total: 1 µs\n",
      "Wall time: 3.81 µs\n"
     ]
    }
   ],
   "source": [
    "parameters = {'C':[100,10,1,.1,.01], \n",
    "              'penalty':['l1', 'l2', 'elasticnet', 'none'],\n",
    "              'solver':['liblinear', 'newton-cg', 'lbfgs', 'sag', 'saga']}\n",
    "\n",
    "logreg_fn(X_train, X_test, y_train, y_test, parameters)\n",
    "%time"
   ]
  },
  {
   "cell_type": "markdown",
   "metadata": {},
   "source": [
    "AUC is NOT GOOD!  The plot is nearly clinging to the 50% line.  \n",
    "Accuracy is decent, but per the AUC, it's because the model is predicting almost everything as \"reversed.\" \n",
    "\n",
    "<br>**Dropped Year_Filed: there's no reason this should be an input, resulted in better performance time-wise, but AUC still is dismal:**<br>\n",
    "Best params: {'C': 100, 'penalty': 'none', 'solver': 'lbfgs'} <br>\n",
    " Accuracy Score - Test:  0.6225 <br>\n",
    " Confusion Matrix: <br>\n",
    " [[ 59 134]<br>\n",
    " [168 439]] <br>\n",
    " AUC:  0.5017882903261602\n",
    " <br>**Predicted on Trial_Judge and Case_Type:**<br>\n",
    " Best params: {'C': 100, 'penalty': 'l1', 'solver': 'liblinear'} <br>\n",
    " Accuracy Score - Test:  0.62375 <br>\n",
    " Confusion Matrix:<br>\n",
    " [[ 54 139]<br>\n",
    " [162 445]] <br>\n",
    " AUC:  0.5018565782622427<br>\n",
    " **Predicting on Case_Type Only:**<br>\n",
    " Best params: {'C': 1, 'penalty': 'l1', 'solver': 'liblinear'} <br>\n",
    " Accuracy Score - Test:  0.57375 <br>\n",
    " Confusion Matrix:<br>\n",
    " [[ 74 119]<br>\n",
    " [222 385]] <br>\n",
    " AUC:  0.5219631074425314<br>\n",
    " **Predicting on Trial_Judge Only:**<br>\n",
    " Best params: {'C': 10, 'penalty': 'l2', 'solver': 'saga'}  <br>\n",
    " Accuracy Score - Test:  0.56375  <br>\n",
    " Confusion Matrix: <br>\n",
    " [[ 65 128] <br>\n",
    " [221 386]]  <br>\n",
    " AUC:  0.5068586695802852 <br>"
   ]
  },
  {
   "cell_type": "markdown",
   "metadata": {},
   "source": [
    "### SVM Model"
   ]
  },
  {
   "cell_type": "code",
   "execution_count": 111,
   "metadata": {},
   "outputs": [],
   "source": [
    "def svm_classifier(X_train, X_test, y_train, y_test, params):\n",
    "    \"\"\"\n",
    "    Takes in train-test-split for X,y;\n",
    "    Runs GridSearchCV and then uses the \n",
    "    best parameters to run an SVM model\n",
    "    and returns an Accuracy Score and\n",
    "    F1 Score.\n",
    "    \"\"\"\n",
    "    clf_svm = svm.SVC(random_state=42)\n",
    "\n",
    "    gs_svm = GridSearchCV(clf_svm, params, cv=5)\n",
    "    gs_svm.fit(X_train,y_train)\n",
    "    best = gs_svm.best_params_\n",
    "    SVM = svm.SVC(C=best['C'], \n",
    "                  kernel=best['kernel'], \n",
    "                  degree=best['degree'], \n",
    "                  gamma=best['gamma'], \n",
    "                  random_state=42)\n",
    "    SVM.fit(X_train,y_train)\n",
    "    y_hat = SVM.predict(X_test)\n",
    "    #print('SVM best params:',best)\n",
    "    \n",
    "    y_hat = SVM.predict(X_test)\n",
    "    y_score = SVM.decision_function(X_test)\n",
    "    fpr, tpr, thresholds = roc_curve(y_test, y_score)\n",
    "    AUC = auc(fpr, tpr)\n",
    "\n",
    "    print('Best params:',best,\n",
    "          '\\n Accuracy Score - Test: ', accuracy_score(y_test, y_hat),\n",
    "          '\\n Confusion Matrix:\\n', confusion_matrix(y_test, y_hat), \n",
    "          '\\n AUC: ', AUC)\n",
    "    \n",
    "    auc_chart(fpr,tpr)\n",
    "    return (round(accuracy_score(y_test, y_hat)*100,3), round(f1_score(y_test, y_hat, average='macro')*100,3))"
   ]
  },
  {
   "cell_type": "code",
   "execution_count": 112,
   "metadata": {},
   "outputs": [
    {
     "name": "stdout",
     "output_type": "stream",
     "text": [
      "Best params: {'C': 10, 'degree': 3, 'gamma': 1, 'kernel': 'rbf'} \n",
      " Accuracy Score - Test:  0.5825 \n",
      " Confusion Matrix:\n",
      " [[ 62 131]\n",
      " [203 404]] \n",
      " AUC:  0.4817073691219024\n"
     ]
    },
    {
     "data": {
      "image/png": "[encoded data removed]",
      "text/plain": [
       "<Figure size 720x576 with 1 Axes>"
      ]
     },
     "metadata": {},
     "output_type": "display_data"
    },
    {
     "name": "stdout",
     "output_type": "stream",
     "text": [
      "CPU times: user 2 µs, sys: 0 ns, total: 2 µs\n",
      "Wall time: 5.25 µs\n"
     ]
    }
   ],
   "source": [
    "param_grid = {'C': [1,10],  \n",
    "              'gamma': [1,.01], \n",
    "              'kernel': ['rbf', 'linear', 'sigmoid', 'poly'],\n",
    "              'degree': [3,4]}\n",
    "\n",
    "svm_classifier(X_train, X_test, y_train, y_test, param_grid)\n",
    "\n",
    "%time"
   ]
  },
  {
   "cell_type": "markdown",
   "metadata": {},
   "source": [
    "**Dropped Year_Filed, got the following:** <br>\n",
    "Best params: {'C': 1, 'degree': 3, 'gamma': 1, 'kernel': 'rbf'}  <br>\n",
    " Accuracy Score - Test:  0.75875  <br>\n",
    " Confusion Matrix: <br>\n",
    " [[  3 190] <br>\n",
    " [  3 604]]  <br>\n",
    " AUC:  0.5075415489411103<br>\n",
    " **Dropped Year_Filed and County, got the following:**<br>\n",
    " Best params: {'C': 1, 'degree': 3, 'gamma': 1, 'kernel': 'rbf'} <br>\n",
    " Accuracy Score - Test:  0.71625 <br>\n",
    " Confusion Matrix:<br>\n",
    " [[ 28 165]<br>\n",
    " [ 62 545]] <br>\n",
    " AUC:  0.5156080613908546<br>\n",
    " **Predicting on Case_Type Only:**<br>\n",
    " Best params: {'C': 10, 'degree': 3, 'gamma': 0.01, 'kernel': 'sigmoid'} <br>\n",
    " Accuracy Score - Test:  0.57375 <br>\n",
    " Confusion Matrix: <br>\n",
    " [[ 74 119]<br>\n",
    " [222 385]] <br>\n",
    " AUC:  0.5262481754317079<br>\n",
    " **Predicting on Trial_Judge Only:**<br>\n",
    " Best params: {'C': 10, 'degree': 3, 'gamma': 1, 'kernel': 'rbf'} <br>\n",
    " Accuracy Score - Test:  0.5825 <br>\n",
    " Confusion Matrix:<br>\n",
    " [[ 62 131]<br>\n",
    " [203 404]] <br>\n",
    " AUC:  0.4817073691219024<br>"
   ]
  },
  {
   "cell_type": "code",
   "execution_count": null,
   "metadata": {},
   "outputs": [],
   "source": []
  },
  {
   "cell_type": "markdown",
   "metadata": {},
   "source": [
    "### Neural Network"
   ]
  },
  {
   "cell_type": "code",
   "execution_count": null,
   "metadata": {},
   "outputs": [],
   "source": []
  },
  {
   "cell_type": "markdown",
   "metadata": {},
   "source": [
    "# create tagging and feature set \n",
    "# create models \n",
    "# create pipeline\n",
    "# create dashboard\n",
    "\n",
    "\n",
    "There are many great paid proxy providers like Smartproxy, Netnut, Highproxies, etc. that can be used when scraping and at least you will know that you will get high-quality services that are safe to use with lots of features and big pools of IPs that you can use."
   ]
  },
  {
   "cell_type": "code",
   "execution_count": null,
   "metadata": {},
   "outputs": [],
   "source": []
  },
  {
   "cell_type": "code",
   "execution_count": null,
   "metadata": {},
   "outputs": [],
   "source": []
  },
  {
   "cell_type": "code",
   "execution_count": null,
   "metadata": {},
   "outputs": [],
   "source": []
  },
  {
   "cell_type": "code",
   "execution_count": null,
   "metadata": {},
   "outputs": [],
   "source": []
  },
  {
   "cell_type": "code",
   "execution_count": null,
   "metadata": {},
   "outputs": [],
   "source": []
  }
 ],
 "metadata": {
  "kernelspec": {
   "display_name": "Python 3",
   "language": "python",
   "name": "python3"
  },
  "language_info": {
   "codemirror_mode": {
    "name": "ipython",
    "version": 3
   },
   "file_extension": ".py",
   "mimetype": "text/x-python",
   "name": "python",
   "nbconvert_exporter": "python",
   "pygments_lexer": "ipython3",
   "version": "3.6.9"
  }
 },
 "nbformat": 4,
 "nbformat_minor": 2
}
